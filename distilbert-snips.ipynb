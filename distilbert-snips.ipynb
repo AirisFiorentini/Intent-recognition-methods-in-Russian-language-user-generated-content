{
 "cells": [
  {
   "cell_type": "code",
   "execution_count": 1,
   "id": "864251f0",
   "metadata": {
    "_cell_guid": "b1076dfc-b9ad-4769-8c92-a6c4dae69d19",
    "_uuid": "8f2839f25d086af736a60e9eeb907d3b93b6e0e5",
    "execution": {
     "iopub.execute_input": "2024-04-26T08:37:45.085628Z",
     "iopub.status.busy": "2024-04-26T08:37:45.085269Z",
     "iopub.status.idle": "2024-04-26T08:37:45.813120Z",
     "shell.execute_reply": "2024-04-26T08:37:45.812215Z"
    },
    "papermill": {
     "duration": 0.739515,
     "end_time": "2024-04-26T08:37:45.815440",
     "exception": false,
     "start_time": "2024-04-26T08:37:45.075925",
     "status": "completed"
    },
    "tags": []
   },
   "outputs": [
    {
     "name": "stdout",
     "output_type": "stream",
     "text": [
      "/kaggle/input/snips-dataset/train_data.csv\n",
      "/kaggle/input/snips-dataset/validate_data.csv\n"
     ]
    }
   ],
   "source": [
    "# This Python 3 environment comes with many helpful analytics libraries installed\n",
    "# It is defined by the kaggle/python Docker image: https://github.com/kaggle/docker-python\n",
    "# For example, here's several helpful packages to load\n",
    "\n",
    "import numpy as np # linear algebra\n",
    "import pandas as pd # data processing, CSV file I/O (e.g. pd.read_csv)\n",
    "\n",
    "# Input data files are available in the read-only \"../input/\" directory\n",
    "# For example, running this (by clicking run or pressing Shift+Enter) will list all files under the input directory\n",
    "\n",
    "import os\n",
    "for dirname, _, filenames in os.walk('/kaggle/input'):\n",
    "    for filename in filenames:\n",
    "        print(os.path.join(dirname, filename))\n",
    "\n",
    "# You can write up to 20GB to the current directory (/kaggle/working/) that gets preserved as output when you create a version using \"Save & Run All\" \n",
    "# You can also write temporary files to /kaggle/temp/, but they won't be saved outside of the current session"
   ]
  },
  {
   "cell_type": "code",
   "execution_count": 2,
   "id": "1b41684b",
   "metadata": {
    "execution": {
     "iopub.execute_input": "2024-04-26T08:37:45.832392Z",
     "iopub.status.busy": "2024-04-26T08:37:45.831587Z",
     "iopub.status.idle": "2024-04-26T08:37:53.923908Z",
     "shell.execute_reply": "2024-04-26T08:37:53.922928Z"
    },
    "papermill": {
     "duration": 8.103308,
     "end_time": "2024-04-26T08:37:53.926367",
     "exception": false,
     "start_time": "2024-04-26T08:37:45.823059",
     "status": "completed"
    },
    "tags": []
   },
   "outputs": [],
   "source": [
    "import torch\n",
    "from torch.utils.data import Dataset, DataLoader\n",
    "from transformers import BertTokenizer, BertForSequenceClassification, AdamW\n",
    "from sklearn.metrics import confusion_matrix, accuracy_score"
   ]
  },
  {
   "cell_type": "code",
   "execution_count": 3,
   "id": "398bb738",
   "metadata": {
    "execution": {
     "iopub.execute_input": "2024-04-26T08:37:53.943043Z",
     "iopub.status.busy": "2024-04-26T08:37:53.942447Z",
     "iopub.status.idle": "2024-04-26T08:37:53.946536Z",
     "shell.execute_reply": "2024-04-26T08:37:53.945774Z"
    },
    "papermill": {
     "duration": 0.014461,
     "end_time": "2024-04-26T08:37:53.948447",
     "exception": false,
     "start_time": "2024-04-26T08:37:53.933986",
     "status": "completed"
    },
    "tags": []
   },
   "outputs": [],
   "source": [
    "# import pandas as pd\n",
    "# import numpy as np"
   ]
  },
  {
   "cell_type": "code",
   "execution_count": 4,
   "id": "e7a09c91",
   "metadata": {
    "execution": {
     "iopub.execute_input": "2024-04-26T08:37:53.964284Z",
     "iopub.status.busy": "2024-04-26T08:37:53.963994Z",
     "iopub.status.idle": "2024-04-26T08:37:53.967967Z",
     "shell.execute_reply": "2024-04-26T08:37:53.967174Z"
    },
    "papermill": {
     "duration": 0.013868,
     "end_time": "2024-04-26T08:37:53.969778",
     "exception": false,
     "start_time": "2024-04-26T08:37:53.955910",
     "status": "completed"
    },
    "tags": []
   },
   "outputs": [],
   "source": [
    "from tqdm import tqdm"
   ]
  },
  {
   "cell_type": "code",
   "execution_count": 5,
   "id": "15cdde9c",
   "metadata": {
    "execution": {
     "iopub.execute_input": "2024-04-26T08:37:53.986545Z",
     "iopub.status.busy": "2024-04-26T08:37:53.985697Z",
     "iopub.status.idle": "2024-04-26T08:37:54.054131Z",
     "shell.execute_reply": "2024-04-26T08:37:54.053020Z"
    },
    "papermill": {
     "duration": 0.078896,
     "end_time": "2024-04-26T08:37:54.056246",
     "exception": false,
     "start_time": "2024-04-26T08:37:53.977350",
     "status": "completed"
    },
    "tags": []
   },
   "outputs": [
    {
     "name": "stdout",
     "output_type": "stream",
     "text": [
      "Train data:\n",
      "                       text       entity              intent\n",
      "0  Please help me find the           NaN  SearchCreativeWork\n",
      "1        Bloom: Remix Album  object_name  SearchCreativeWork\n",
      "2                                    NaN  SearchCreativeWork\n",
      "3                      song  object_type  SearchCreativeWork\n",
      "4                         .          NaN  SearchCreativeWork\n",
      "\n",
      "Validate data:\n",
      "                  text       entity              intent\n",
      "0    Wish to find the           NaN  SearchCreativeWork\n",
      "1                movie  object_type  SearchCreativeWork\n",
      "2                 the           NaN  SearchCreativeWork\n",
      "3           Heart Beat  object_name  SearchCreativeWork\n",
      "4  Please look up the           NaN  SearchCreativeWork\n"
     ]
    }
   ],
   "source": [
    "# Путь к файлу CSV\n",
    "train_data_path = \"/kaggle/input/snips-dataset/train_data.csv\"\n",
    "validate_data_path = \"/kaggle/input/snips-dataset/validate_data.csv\"\n",
    "\n",
    "# Чтение данных из CSV-файлов\n",
    "train_data = pd.read_csv(train_data_path)\n",
    "validate_data = pd.read_csv(validate_data_path)\n",
    "\n",
    "# Вывод первых 5 строк каждого DataFrame\n",
    "print(\"Train data:\")\n",
    "print(train_data.head())\n",
    "print(\"\\nValidate data:\")\n",
    "print(validate_data.head())"
   ]
  },
  {
   "cell_type": "code",
   "execution_count": 6,
   "id": "28fb7f64",
   "metadata": {
    "execution": {
     "iopub.execute_input": "2024-04-26T08:37:54.072719Z",
     "iopub.status.busy": "2024-04-26T08:37:54.072412Z",
     "iopub.status.idle": "2024-04-26T08:37:54.089612Z",
     "shell.execute_reply": "2024-04-26T08:37:54.088595Z"
    },
    "papermill": {
     "duration": 0.027563,
     "end_time": "2024-04-26T08:37:54.091411",
     "exception": false,
     "start_time": "2024-04-26T08:37:54.063848",
     "status": "completed"
    },
    "tags": []
   },
   "outputs": [
    {
     "name": "stdout",
     "output_type": "stream",
     "text": [
      "intent\n",
      "BookRestaurant          0.194746\n",
      "GetWeather              0.175608\n",
      "AddToPlaylist           0.157467\n",
      "PlayMusic               0.149945\n",
      "SearchCreativeWork      0.139878\n",
      "SearchScreeningEvent    0.099889\n",
      "RateBook                0.082467\n",
      "Name: proportion, dtype: float64\n"
     ]
    }
   ],
   "source": [
    "unique_values_normalized = train_data['intent'].value_counts(normalize=True)\n",
    "print(unique_values_normalized)"
   ]
  },
  {
   "cell_type": "code",
   "execution_count": 7,
   "id": "8f9016f1",
   "metadata": {
    "execution": {
     "iopub.execute_input": "2024-04-26T08:37:54.108116Z",
     "iopub.status.busy": "2024-04-26T08:37:54.107841Z",
     "iopub.status.idle": "2024-04-26T08:37:54.117326Z",
     "shell.execute_reply": "2024-04-26T08:37:54.116527Z"
    },
    "papermill": {
     "duration": 0.019986,
     "end_time": "2024-04-26T08:37:54.119113",
     "exception": false,
     "start_time": "2024-04-26T08:37:54.099127",
     "status": "completed"
    },
    "tags": []
   },
   "outputs": [],
   "source": [
    "train_data = train_data.drop('entity', axis=1)\n",
    "validate_data = validate_data.drop('entity', axis=1)"
   ]
  },
  {
   "cell_type": "code",
   "execution_count": 8,
   "id": "c4b73fd1",
   "metadata": {
    "execution": {
     "iopub.execute_input": "2024-04-26T08:37:54.136015Z",
     "iopub.status.busy": "2024-04-26T08:37:54.135727Z",
     "iopub.status.idle": "2024-04-26T08:37:54.147905Z",
     "shell.execute_reply": "2024-04-26T08:37:54.147014Z"
    },
    "papermill": {
     "duration": 0.022756,
     "end_time": "2024-04-26T08:37:54.149846",
     "exception": false,
     "start_time": "2024-04-26T08:37:54.127090",
     "status": "completed"
    },
    "tags": []
   },
   "outputs": [],
   "source": [
    "# Удалите строки, где столбец 'column_name' пуст\n",
    "train_data = train_data.dropna(subset=['text'])\n",
    "validate_data = validate_data.dropna(subset=['text'])"
   ]
  },
  {
   "cell_type": "code",
   "execution_count": 9,
   "id": "ee2d160c",
   "metadata": {
    "execution": {
     "iopub.execute_input": "2024-04-26T08:37:54.167184Z",
     "iopub.status.busy": "2024-04-26T08:37:54.166891Z",
     "iopub.status.idle": "2024-04-26T08:37:54.203956Z",
     "shell.execute_reply": "2024-04-26T08:37:54.203276Z"
    },
    "papermill": {
     "duration": 0.04846,
     "end_time": "2024-04-26T08:37:54.205931",
     "exception": false,
     "start_time": "2024-04-26T08:37:54.157471",
     "status": "completed"
    },
    "tags": []
   },
   "outputs": [],
   "source": [
    "# Подсчитываем количество примеров для каждого класса\n",
    "class_counts = train_data['intent'].value_counts()\n",
    "\n",
    "# Находим класс с наименьшим количеством примеров\n",
    "min_class = class_counts.idxmin()\n",
    "min_class_count = class_counts.min()\n",
    "\n",
    "# Делаем undersampling для всех остальных классов\n",
    "balanced_data = train_data[train_data['intent'] == min_class]\n",
    "for intent in class_counts.index:\n",
    "    if intent != min_class:\n",
    "        samples = train_data[train_data['intent'] == intent].sample(min_class_count)\n",
    "        balanced_data = pd.concat([balanced_data, samples], axis=0)\n",
    "\n",
    "# Теперь в balanced_data примеры каждого класса представлены в одинаковом количестве"
   ]
  },
  {
   "cell_type": "code",
   "execution_count": 10,
   "id": "ff96c1d4",
   "metadata": {
    "execution": {
     "iopub.execute_input": "2024-04-26T08:37:54.222319Z",
     "iopub.status.busy": "2024-04-26T08:37:54.221779Z",
     "iopub.status.idle": "2024-04-26T08:37:54.235592Z",
     "shell.execute_reply": "2024-04-26T08:37:54.234530Z"
    },
    "papermill": {
     "duration": 0.024134,
     "end_time": "2024-04-26T08:37:54.237515",
     "exception": false,
     "start_time": "2024-04-26T08:37:54.213381",
     "status": "completed"
    },
    "tags": []
   },
   "outputs": [
    {
     "name": "stdout",
     "output_type": "stream",
     "text": [
      "<class 'pandas.core.frame.DataFrame'>\n",
      "Index: 10437 entries, 10357 to 3288\n",
      "Data columns (total 2 columns):\n",
      " #   Column  Non-Null Count  Dtype \n",
      "---  ------  --------------  ----- \n",
      " 0   text    10437 non-null  object\n",
      " 1   intent  10437 non-null  object\n",
      "dtypes: object(2)\n",
      "memory usage: 244.6+ KB\n"
     ]
    }
   ],
   "source": [
    "balanced_data.info()"
   ]
  },
  {
   "cell_type": "code",
   "execution_count": 11,
   "id": "71f5a507",
   "metadata": {
    "execution": {
     "iopub.execute_input": "2024-04-26T08:37:54.254130Z",
     "iopub.status.busy": "2024-04-26T08:37:54.253860Z",
     "iopub.status.idle": "2024-04-26T08:37:57.627821Z",
     "shell.execute_reply": "2024-04-26T08:37:57.627089Z"
    },
    "papermill": {
     "duration": 3.384608,
     "end_time": "2024-04-26T08:37:57.629873",
     "exception": false,
     "start_time": "2024-04-26T08:37:54.245265",
     "status": "completed"
    },
    "tags": []
   },
   "outputs": [
    {
     "data": {
      "application/vnd.jupyter.widget-view+json": {
       "model_id": "fc870ddb7be6439a8c97346581be1173",
       "version_major": 2,
       "version_minor": 0
      },
      "text/plain": [
       "tokenizer_config.json:   0%|          | 0.00/28.0 [00:00<?, ?B/s]"
      ]
     },
     "metadata": {},
     "output_type": "display_data"
    },
    {
     "data": {
      "application/vnd.jupyter.widget-view+json": {
       "model_id": "16ba5fc4c1c0441e833bc83759fa554d",
       "version_major": 2,
       "version_minor": 0
      },
      "text/plain": [
       "vocab.txt:   0%|          | 0.00/232k [00:00<?, ?B/s]"
      ]
     },
     "metadata": {},
     "output_type": "display_data"
    },
    {
     "data": {
      "application/vnd.jupyter.widget-view+json": {
       "model_id": "3a61233d84814197b50794f29d52c9a5",
       "version_major": 2,
       "version_minor": 0
      },
      "text/plain": [
       "tokenizer.json:   0%|          | 0.00/466k [00:00<?, ?B/s]"
      ]
     },
     "metadata": {},
     "output_type": "display_data"
    },
    {
     "data": {
      "application/vnd.jupyter.widget-view+json": {
       "model_id": "55584fea715243c19652c5ecc40ed390",
       "version_major": 2,
       "version_minor": 0
      },
      "text/plain": [
       "config.json:   0%|          | 0.00/483 [00:00<?, ?B/s]"
      ]
     },
     "metadata": {},
     "output_type": "display_data"
    }
   ],
   "source": [
    "from transformers import DistilBertTokenizer\n",
    "tokenizer = DistilBertTokenizer.from_pretrained('distilbert-base-uncased')\n"
   ]
  },
  {
   "cell_type": "code",
   "execution_count": 12,
   "id": "4f394530",
   "metadata": {
    "execution": {
     "iopub.execute_input": "2024-04-26T08:37:57.648439Z",
     "iopub.status.busy": "2024-04-26T08:37:57.648155Z",
     "iopub.status.idle": "2024-04-26T08:37:57.652061Z",
     "shell.execute_reply": "2024-04-26T08:37:57.651300Z"
    },
    "papermill": {
     "duration": 0.015335,
     "end_time": "2024-04-26T08:37:57.653926",
     "exception": false,
     "start_time": "2024-04-26T08:37:57.638591",
     "status": "completed"
    },
    "tags": []
   },
   "outputs": [],
   "source": [
    "from torch.nn import CrossEntropyLoss"
   ]
  },
  {
   "cell_type": "code",
   "execution_count": 13,
   "id": "380860d6",
   "metadata": {
    "execution": {
     "iopub.execute_input": "2024-04-26T08:37:57.672352Z",
     "iopub.status.busy": "2024-04-26T08:37:57.672101Z",
     "iopub.status.idle": "2024-04-26T08:37:57.679349Z",
     "shell.execute_reply": "2024-04-26T08:37:57.678666Z"
    },
    "papermill": {
     "duration": 0.018588,
     "end_time": "2024-04-26T08:37:57.681251",
     "exception": false,
     "start_time": "2024-04-26T08:37:57.662663",
     "status": "completed"
    },
    "tags": []
   },
   "outputs": [],
   "source": [
    "class IntentClassificationDataset(Dataset):\n",
    "    def __init__(self, texts, labels, tokenizer, max_len):\n",
    "        self.texts = texts\n",
    "        self.labels = labels\n",
    "        self.tokenizer = tokenizer\n",
    "        self.max_len = max_len\n",
    "\n",
    "    def __len__(self):\n",
    "        return len(self.texts)\n",
    "\n",
    "    def __getitem__(self, item):\n",
    "        text = str(self.texts[item])\n",
    "        label = self.labels[item]\n",
    "\n",
    "        encoding = self.tokenizer.encode_plus(\n",
    "            text,\n",
    "            add_special_tokens=True,\n",
    "            max_length=self.max_len,\n",
    "            return_token_type_ids=False,\n",
    "            padding='max_length',\n",
    "            return_attention_mask=True,\n",
    "            return_tensors='pt',\n",
    "        )\n",
    "\n",
    "        return {\n",
    "            'text': text,\n",
    "            'input_ids': encoding['input_ids'].flatten(),\n",
    "            'attention_mask': encoding['attention_mask'].flatten(),\n",
    "            'labels': torch.tensor(label, dtype=torch.long)\n",
    "        }"
   ]
  },
  {
   "cell_type": "code",
   "execution_count": 14,
   "id": "d7a05a55",
   "metadata": {
    "execution": {
     "iopub.execute_input": "2024-04-26T08:37:57.700304Z",
     "iopub.status.busy": "2024-04-26T08:37:57.700054Z",
     "iopub.status.idle": "2024-04-26T08:37:57.708385Z",
     "shell.execute_reply": "2024-04-26T08:37:57.707563Z"
    },
    "papermill": {
     "duration": 0.019924,
     "end_time": "2024-04-26T08:37:57.710314",
     "exception": false,
     "start_time": "2024-04-26T08:37:57.690390",
     "status": "completed"
    },
    "tags": []
   },
   "outputs": [],
   "source": [
    "class EarlyStopping:\n",
    "    def __init__(self, patience=2, verbose=False, delta=0):\n",
    "        self.patience = patience\n",
    "        self.verbose = verbose\n",
    "        self.counter = 0\n",
    "        self.best_score = None\n",
    "        self.early_stop = False\n",
    "        self.val_loss_min = np.Inf\n",
    "        self.delta = delta\n",
    "\n",
    "    def __call__(self, val_loss, model):\n",
    "\n",
    "        score = -val_loss\n",
    "\n",
    "        if self.best_score is None:\n",
    "            self.best_score = score\n",
    "            self.save_checkpoint(val_loss, model)\n",
    "        elif score < self.best_score + self.delta:\n",
    "            self.counter += 1\n",
    "            print(f'EarlyStopping counter: {self.counter} out of {self.patience}')\n",
    "            if self.counter >= self.patience:\n",
    "                self.early_stop = True\n",
    "        else:\n",
    "            self.best_score = score\n",
    "            self.save_checkpoint(val_loss, model)\n",
    "            self.counter = 0\n",
    "\n",
    "    def save_checkpoint(self, val_loss, model):\n",
    "        if self.verbose:\n",
    "            print(f'Validation loss decreased ({self.val_loss_min:.6f} --> {val_loss:.6f}).  Saving model ...')\n",
    "        torch.save(model.state_dict(), 'checkpoint.pt')\n",
    "        self.val_loss_min = val_loss\n"
   ]
  },
  {
   "cell_type": "code",
   "execution_count": 15,
   "id": "12717a25",
   "metadata": {
    "execution": {
     "iopub.execute_input": "2024-04-26T08:37:57.728451Z",
     "iopub.status.busy": "2024-04-26T08:37:57.728195Z",
     "iopub.status.idle": "2024-04-26T08:37:57.739361Z",
     "shell.execute_reply": "2024-04-26T08:37:57.738700Z"
    },
    "papermill": {
     "duration": 0.022346,
     "end_time": "2024-04-26T08:37:57.741301",
     "exception": false,
     "start_time": "2024-04-26T08:37:57.718955",
     "status": "completed"
    },
    "tags": []
   },
   "outputs": [],
   "source": [
    "from torch import nn\n",
    "from transformers import DistilBertModel\n",
    "\n",
    "class CustomDistilBertModel(nn.Module):\n",
    "    def __init__(self, num_labels):\n",
    "        super(CustomDistilBertModel, self).__init__()\n",
    "        self.distilbert = DistilBertModel.from_pretrained('distilbert-base-uncased')\n",
    "        self.dropout = nn.Dropout(0.1)\n",
    "        self.fc1 = nn.Linear(768, 512)\n",
    "        self.fc2 = nn.Linear(512, num_labels)\n",
    "\n",
    "    def forward(self, input_ids, attention_mask):\n",
    "        output = self.distilbert(input_ids=input_ids, attention_mask=attention_mask)\n",
    "        pooled_output = output[0][:, 0]\n",
    "        output = self.dropout(pooled_output)\n",
    "        output = self.fc1(output)\n",
    "        output = nn.Tanh()(output)\n",
    "        output = self.dropout(output)\n",
    "        output = self.fc2(output)\n",
    "        return output\n",
    "\n"
   ]
  },
  {
   "cell_type": "code",
   "execution_count": 16,
   "id": "be54c9e7",
   "metadata": {
    "execution": {
     "iopub.execute_input": "2024-04-26T08:37:57.759144Z",
     "iopub.status.busy": "2024-04-26T08:37:57.758888Z",
     "iopub.status.idle": "2024-04-26T08:37:57.767204Z",
     "shell.execute_reply": "2024-04-26T08:37:57.766406Z"
    },
    "papermill": {
     "duration": 0.019258,
     "end_time": "2024-04-26T08:37:57.769095",
     "exception": false,
     "start_time": "2024-04-26T08:37:57.749837",
     "status": "completed"
    },
    "tags": []
   },
   "outputs": [],
   "source": [
    "# Преобразование меток в числовой формат\n",
    "unique_intents = train_data['intent'].unique().tolist()\n",
    "intent_mapping = {intent: i for i, intent in enumerate(unique_intents)}\n",
    "train_labels = [intent_mapping[intent] for intent in balanced_data['intent']]\n",
    "test_labels = [intent_mapping[intent] for intent in validate_data['intent']]"
   ]
  },
  {
   "cell_type": "code",
   "execution_count": 17,
   "id": "9bdeb766",
   "metadata": {
    "execution": {
     "iopub.execute_input": "2024-04-26T08:37:57.787285Z",
     "iopub.status.busy": "2024-04-26T08:37:57.787032Z",
     "iopub.status.idle": "2024-04-26T08:37:57.792866Z",
     "shell.execute_reply": "2024-04-26T08:37:57.792049Z"
    },
    "papermill": {
     "duration": 0.017077,
     "end_time": "2024-04-26T08:37:57.794709",
     "exception": false,
     "start_time": "2024-04-26T08:37:57.777632",
     "status": "completed"
    },
    "tags": []
   },
   "outputs": [],
   "source": [
    "# Создание наборов данных PyTorch\n",
    "max_len = 128\n",
    "batch_size = 16 #16\n",
    "train_dataset = IntentClassificationDataset(balanced_data['text'].tolist(), train_labels, tokenizer, max_len)\n",
    "test_dataset = IntentClassificationDataset(validate_data['text'].tolist(), test_labels, tokenizer, max_len)\n",
    "\n",
    "train_data_loader = DataLoader(train_dataset, batch_size=batch_size, shuffle=True)\n",
    "test_data_loader = DataLoader(test_dataset, batch_size=batch_size, shuffle=False)\n"
   ]
  },
  {
   "cell_type": "code",
   "execution_count": 18,
   "id": "824fbb2e",
   "metadata": {
    "execution": {
     "iopub.execute_input": "2024-04-26T08:37:57.812274Z",
     "iopub.status.busy": "2024-04-26T08:37:57.812021Z",
     "iopub.status.idle": "2024-04-26T08:37:59.913262Z",
     "shell.execute_reply": "2024-04-26T08:37:59.912303Z"
    },
    "papermill": {
     "duration": 2.112532,
     "end_time": "2024-04-26T08:37:59.915537",
     "exception": false,
     "start_time": "2024-04-26T08:37:57.803005",
     "status": "completed"
    },
    "tags": []
   },
   "outputs": [
    {
     "data": {
      "application/vnd.jupyter.widget-view+json": {
       "model_id": "34605b8dc0244479a386c57a60fc4387",
       "version_major": 2,
       "version_minor": 0
      },
      "text/plain": [
       "model.safetensors:   0%|          | 0.00/268M [00:00<?, ?B/s]"
      ]
     },
     "metadata": {},
     "output_type": "display_data"
    },
    {
     "name": "stderr",
     "output_type": "stream",
     "text": [
      "/opt/conda/lib/python3.10/site-packages/transformers/optimization.py:457: FutureWarning: This implementation of AdamW is deprecated and will be removed in a future version. Use the PyTorch implementation torch.optim.AdamW instead, or set `no_deprecation_warning=True` to disable this warning\n",
      "  warnings.warn(\n"
     ]
    }
   ],
   "source": [
    "from transformers import DistilBertForSequenceClassification, AdamW\n",
    "import torch\n",
    "\n",
    "# Загрузка модели DistilBERT\n",
    "# model = DistilBertForSequenceClassification.from_pretrained('distilbert-base-uncased', num_labels=len(unique_intents))\n",
    "model = CustomDistilBertModel(num_labels=len(unique_intents))\n",
    "\n",
    "# Компиляция модели\n",
    "optimizer = AdamW(model.parameters(), lr=5e-5, weight_decay=0.01)\n",
    "\n",
    "device = torch.device(\"cuda\" if torch.cuda.is_available() else \"cpu\")\n",
    "model = model.to(device)"
   ]
  },
  {
   "cell_type": "code",
   "execution_count": 19,
   "id": "cd876f68",
   "metadata": {
    "execution": {
     "iopub.execute_input": "2024-04-26T08:37:59.934399Z",
     "iopub.status.busy": "2024-04-26T08:37:59.934107Z",
     "iopub.status.idle": "2024-04-26T08:37:59.938230Z",
     "shell.execute_reply": "2024-04-26T08:37:59.937506Z"
    },
    "papermill": {
     "duration": 0.015461,
     "end_time": "2024-04-26T08:37:59.940050",
     "exception": false,
     "start_time": "2024-04-26T08:37:59.924589",
     "status": "completed"
    },
    "tags": []
   },
   "outputs": [],
   "source": [
    "# Создание экземпляра класса EarlyStopping\n",
    "early_stopping = EarlyStopping(patience=5, verbose=True)"
   ]
  },
  {
   "cell_type": "code",
   "execution_count": 20,
   "id": "771060f3",
   "metadata": {
    "execution": {
     "iopub.execute_input": "2024-04-26T08:37:59.958334Z",
     "iopub.status.busy": "2024-04-26T08:37:59.958054Z",
     "iopub.status.idle": "2024-04-26T08:37:59.961997Z",
     "shell.execute_reply": "2024-04-26T08:37:59.961199Z"
    },
    "papermill": {
     "duration": 0.015259,
     "end_time": "2024-04-26T08:37:59.963830",
     "exception": false,
     "start_time": "2024-04-26T08:37:59.948571",
     "status": "completed"
    },
    "tags": []
   },
   "outputs": [],
   "source": [
    "# # Замораживаем все параметры модели\n",
    "# for param in model.parameters():\n",
    "#     param.requires_grad = False\n",
    "\n",
    "# # Размораживаем параметры последнего слоя\n",
    "# for param in model.classifier.parameters():\n",
    "#     param.requires_grad = True\n"
   ]
  },
  {
   "cell_type": "code",
   "execution_count": 21,
   "id": "a91fec28",
   "metadata": {
    "execution": {
     "iopub.execute_input": "2024-04-26T08:37:59.982699Z",
     "iopub.status.busy": "2024-04-26T08:37:59.982375Z",
     "iopub.status.idle": "2024-04-26T08:46:35.471694Z",
     "shell.execute_reply": "2024-04-26T08:46:35.470673Z"
    },
    "papermill": {
     "duration": 515.50123,
     "end_time": "2024-04-26T08:46:35.473871",
     "exception": false,
     "start_time": "2024-04-26T08:37:59.972641",
     "status": "completed"
    },
    "tags": []
   },
   "outputs": [
    {
     "name": "stderr",
     "output_type": "stream",
     "text": [
      "                                                                               \r"
     ]
    },
    {
     "name": "stdout",
     "output_type": "stream",
     "text": [
      "Average training loss:  1.2470132514127\n",
      "Average validation loss:  0.9479067685703436\n",
      "Validation loss decreased (inf --> 0.947907).  Saving model ...\n"
     ]
    },
    {
     "name": "stderr",
     "output_type": "stream",
     "text": [
      "                                                                               \r"
     ]
    },
    {
     "name": "stdout",
     "output_type": "stream",
     "text": [
      "Average training loss:  0.901475420909125\n",
      "Average validation loss:  0.9097543259461721\n",
      "Validation loss decreased (0.947907 --> 0.909754).  Saving model ...\n"
     ]
    },
    {
     "name": "stderr",
     "output_type": "stream",
     "text": [
      "                                                                               \r"
     ]
    },
    {
     "name": "stdout",
     "output_type": "stream",
     "text": [
      "Average training loss:  0.656276256074219\n",
      "Average validation loss:  0.9328486014467975\n",
      "EarlyStopping counter: 1 out of 5\n"
     ]
    },
    {
     "name": "stderr",
     "output_type": "stream",
     "text": [
      "                                                                               \r"
     ]
    },
    {
     "name": "stdout",
     "output_type": "stream",
     "text": [
      "Average training loss:  0.45286448339818997\n",
      "Average validation loss:  1.0753137500335772\n",
      "EarlyStopping counter: 2 out of 5\n"
     ]
    },
    {
     "name": "stderr",
     "output_type": "stream",
     "text": [
      "                                                                               \r"
     ]
    },
    {
     "name": "stdout",
     "output_type": "stream",
     "text": [
      "Average training loss:  0.3278516299286672\n",
      "Average validation loss:  1.157324326147015\n",
      "EarlyStopping counter: 3 out of 5\n"
     ]
    },
    {
     "name": "stderr",
     "output_type": "stream",
     "text": [
      "                                                                               \r"
     ]
    },
    {
     "name": "stdout",
     "output_type": "stream",
     "text": [
      "Average training loss:  0.25924012853919454\n",
      "Average validation loss:  1.2922739285665255\n",
      "EarlyStopping counter: 4 out of 5\n"
     ]
    },
    {
     "name": "stderr",
     "output_type": "stream",
     "text": [
      "                                                                               \r"
     ]
    },
    {
     "name": "stdout",
     "output_type": "stream",
     "text": [
      "Average training loss:  0.24210223237232265\n",
      "Average validation loss:  1.3492119379031162\n",
      "EarlyStopping counter: 5 out of 5\n",
      "Early stopping\n"
     ]
    }
   ],
   "source": [
    "# Обучение модели\n",
    "for epoch in range(50):\n",
    "    model.train()\n",
    "    total_loss = 0\n",
    "    progress_bar = tqdm(train_data_loader, desc='Epoch {:1d}'.format(epoch), leave=False, disable=False)\n",
    "    for batch in progress_bar:\n",
    "        input_ids = batch[\"input_ids\"].to(device)\n",
    "        attention_mask = batch[\"attention_mask\"].to(device)\n",
    "        labels = batch[\"labels\"].to(device)\n",
    "\n",
    "        # Вызов модели\n",
    "        outputs = model(input_ids=input_ids, attention_mask=attention_mask)\n",
    "        \n",
    "        # Вычисление потерь\n",
    "        loss_fct = CrossEntropyLoss()\n",
    "        loss = loss_fct(outputs.view(-1, len(unique_intents)), labels.view(-1))\n",
    "        \n",
    "        total_loss += loss.item()\n",
    "\n",
    "        loss.backward()\n",
    "        optimizer.step()\n",
    "        optimizer.zero_grad()\n",
    "\n",
    "        # Обновление шкалы выполнения\n",
    "        progress_bar.set_postfix({'training_loss': '{:.3f}'.format(loss.item()/len(batch))})\n",
    "\n",
    "    # Расчет среднего значения потерь за эпоху\n",
    "    avg_train_loss = total_loss / len(train_data_loader)\n",
    "    print('Average training loss: ', avg_train_loss)\n",
    "\n",
    "    # Валидация на независимом наборе данных\n",
    "    model.eval()\n",
    "    val_loss = 0\n",
    "    with torch.no_grad():\n",
    "        for batch in test_data_loader:\n",
    "            input_ids = batch[\"input_ids\"].to(device)\n",
    "            attention_mask = batch[\"attention_mask\"].to(device)\n",
    "            labels = batch[\"labels\"].to(device)\n",
    "\n",
    "            # Вызов модели\n",
    "            outputs = model(input_ids=input_ids, attention_mask=attention_mask)\n",
    "            \n",
    "            # Вычисление потерь\n",
    "            loss = loss_fct(outputs.view(-1, len(unique_intents)), labels.view(-1))\n",
    "            \n",
    "            val_loss += loss.item()\n",
    "\n",
    "    avg_val_loss = val_loss / len(test_data_loader)\n",
    "    print('Average validation loss: ', avg_val_loss)\n",
    "\n",
    "    early_stopping(avg_val_loss, model)\n",
    "\n",
    "    if early_stopping.early_stop:\n",
    "        print(\"Early stopping\")\n",
    "        break"
   ]
  },
  {
   "cell_type": "code",
   "execution_count": 22,
   "id": "fd5f7478",
   "metadata": {
    "execution": {
     "iopub.execute_input": "2024-04-26T08:46:36.997208Z",
     "iopub.status.busy": "2024-04-26T08:46:36.996864Z",
     "iopub.status.idle": "2024-04-26T08:46:39.747736Z",
     "shell.execute_reply": "2024-04-26T08:46:39.746903Z"
    },
    "papermill": {
     "duration": 3.491321,
     "end_time": "2024-04-26T08:46:39.750303",
     "exception": false,
     "start_time": "2024-04-26T08:46:36.258982",
     "status": "completed"
    },
    "tags": []
   },
   "outputs": [],
   "source": [
    "# Предсказание на тестовых данных\n",
    "model.eval()\n",
    "predictions = []\n",
    "with torch.no_grad():\n",
    "    for batch in test_data_loader:\n",
    "        input_ids = batch[\"input_ids\"].to(device)\n",
    "        attention_mask = batch[\"attention_mask\"].to(device)\n",
    "\n",
    "        outputs = model(input_ids=input_ids, attention_mask=attention_mask)\n",
    "        _, preds = torch.max(outputs, dim=1)\n",
    "\n",
    "        predictions.extend(preds)\n",
    "\n",
    "predicted_labels = [pred.item() for pred in predictions]"
   ]
  },
  {
   "cell_type": "code",
   "execution_count": 23,
   "id": "c03099a4",
   "metadata": {
    "execution": {
     "iopub.execute_input": "2024-04-26T08:46:41.323248Z",
     "iopub.status.busy": "2024-04-26T08:46:41.322890Z",
     "iopub.status.idle": "2024-04-26T08:46:41.331026Z",
     "shell.execute_reply": "2024-04-26T08:46:41.329782Z"
    },
    "papermill": {
     "duration": 0.775263,
     "end_time": "2024-04-26T08:46:41.333189",
     "exception": false,
     "start_time": "2024-04-26T08:46:40.557926",
     "status": "completed"
    },
    "tags": []
   },
   "outputs": [
    {
     "name": "stdout",
     "output_type": "stream",
     "text": [
      "Accuracy: 0.6139777922926192\n"
     ]
    }
   ],
   "source": [
    "# Расчет метрики accuracy\n",
    "accuracy = accuracy_score(test_labels, predicted_labels)\n",
    "print(f'Accuracy: {accuracy}')"
   ]
  },
  {
   "cell_type": "code",
   "execution_count": 24,
   "id": "bf4ec975",
   "metadata": {
    "execution": {
     "iopub.execute_input": "2024-04-26T08:46:42.867204Z",
     "iopub.status.busy": "2024-04-26T08:46:42.866279Z",
     "iopub.status.idle": "2024-04-26T08:46:42.874102Z",
     "shell.execute_reply": "2024-04-26T08:46:42.872979Z"
    },
    "papermill": {
     "duration": 0.782291,
     "end_time": "2024-04-26T08:46:42.876199",
     "exception": false,
     "start_time": "2024-04-26T08:46:42.093908",
     "status": "completed"
    },
    "tags": []
   },
   "outputs": [
    {
     "name": "stdout",
     "output_type": "stream",
     "text": [
      "Confusion Matrix: \n",
      "[[ 88  38   0  18  28   3  11]\n",
      " [ 26 120   7   5  15   4   1]\n",
      " [  1  32 178   5  12  43   8]\n",
      " [ 12   6   1 138  13   5  53]\n",
      " [ 11  10   0   5  82   0   1]\n",
      " [  0  22  80   8  27 165   7]\n",
      " [ 15  11   2  27   8  10 169]]\n"
     ]
    }
   ],
   "source": [
    "# Построение confusion matrix\n",
    "cm = confusion_matrix(test_labels, predicted_labels)\n",
    "print(f'Confusion Matrix: \\n{cm}')"
   ]
  },
  {
   "cell_type": "code",
   "execution_count": 25,
   "id": "a4bab776",
   "metadata": {
    "execution": {
     "iopub.execute_input": "2024-04-26T08:46:44.431421Z",
     "iopub.status.busy": "2024-04-26T08:46:44.430426Z",
     "iopub.status.idle": "2024-04-26T08:46:44.619784Z",
     "shell.execute_reply": "2024-04-26T08:46:44.618894Z"
    },
    "papermill": {
     "duration": 1.007433,
     "end_time": "2024-04-26T08:46:44.622159",
     "exception": false,
     "start_time": "2024-04-26T08:46:43.614726",
     "status": "completed"
    },
    "tags": []
   },
   "outputs": [],
   "source": [
    "from sklearn.metrics import confusion_matrix\n",
    "import seaborn as sns\n",
    "import matplotlib.pyplot as plt"
   ]
  },
  {
   "cell_type": "code",
   "execution_count": 26,
   "id": "65683168",
   "metadata": {
    "execution": {
     "iopub.execute_input": "2024-04-26T08:46:46.146344Z",
     "iopub.status.busy": "2024-04-26T08:46:46.145919Z",
     "iopub.status.idle": "2024-04-26T08:46:46.604243Z",
     "shell.execute_reply": "2024-04-26T08:46:46.603309Z"
    },
    "papermill": {
     "duration": 1.248429,
     "end_time": "2024-04-26T08:46:46.606476",
     "exception": false,
     "start_time": "2024-04-26T08:46:45.358047",
     "status": "completed"
    },
    "tags": []
   },
   "outputs": [
    {
     "data": {
      "image/png": "[encoded data removed]",
      "text/plain": [
       "<Figure size 800x600 with 2 Axes>"
      ]
     },
     "metadata": {},
     "output_type": "display_data"
    }
   ],
   "source": [
    "# Визуализация матрицы ошибок с использованием seaborn\n",
    "plt.figure(figsize=(8, 6))\n",
    "sns.heatmap(cm, annot=True, fmt='d', cmap='Blues', xticklabels=set(test_labels), yticklabels=set(predicted_labels))\n",
    "plt.xlabel('Предсказанный класс')\n",
    "plt.ylabel('Истинный класс')\n",
    "plt.title('Матрица ошибок')\n",
    "plt.show()\n"
   ]
  }
 ],
 "metadata": {
  "kaggle": {
   "accelerator": "gpu",
   "dataSources": [
    {
     "datasetId": 4878620,
     "sourceId": 8227443,
     "sourceType": "datasetVersion"
    }
   ],
   "dockerImageVersionId": 30699,
   "isGpuEnabled": true,
   "isInternetEnabled": true,
   "language": "python",
   "sourceType": "notebook"
  },
  "kernelspec": {
   "display_name": "Python 3",
   "language": "python",
   "name": "python3"
  },
  "language_info": {
   "codemirror_mode": {
    "name": "ipython",
    "version": 3
   },
   "file_extension": ".py",
   "mimetype": "text/x-python",
   "name": "python",
   "nbconvert_exporter": "python",
   "pygments_lexer": "ipython3",
   "version": "3.10.13"
  },
  "papermill": {
   "default_parameters": {},
   "duration": 546.676528,
   "end_time": "2024-04-26T08:46:48.969877",
   "environment_variables": {},
   "exception": null,
   "input_path": "__notebook__.ipynb",
   "output_path": "__notebook__.ipynb",
   "parameters": {},
   "start_time": "2024-04-26T08:37:42.293349",
   "version": "2.5.0"
  },
  "widgets": {
   "application/vnd.jupyter.widget-state+json": {
    "state": {
     "07c9a76d4b324ffe924908a6f424274f": {
      "model_module": "@jupyter-widgets/base",
      "model_module_version": "1.2.0",
      "model_name": "LayoutModel",
      "state": {
       "_model_module": "@jupyter-widgets/base",
       "_model_module_version": "1.2.0",
       "_model_name": "LayoutModel",
       "_view_count": null,
       "_view_module": "@jupyter-widgets/base",
       "_view_module_version": "1.2.0",
       "_view_name": "LayoutView",
       "align_content": null,
       "align_items": null,
       "align_self": null,
       "border": null,
       "bottom": null,
       "display": null,
       "flex": null,
       "flex_flow": null,
       "grid_area": null,
       "grid_auto_columns": null,
       "grid_auto_flow": null,
       "grid_auto_rows": null,
       "grid_column": null,
       "grid_gap": null,
       "grid_row": null,
       "grid_template_areas": null,
       "grid_template_columns": null,
       "grid_template_rows": null,
       "height": null,
       "justify_content": null,
       "justify_items": null,
       "left": null,
       "margin": null,
       "max_height": null,
       "max_width": null,
       "min_height": null,
       "min_width": null,
       "object_fit": null,
       "object_position": null,
       "order": null,
       "overflow": null,
       "overflow_x": null,
       "overflow_y": null,
       "padding": null,
       "right": null,
       "top": null,
       "visibility": null,
       "width": null
      }
     },
     "0c8c8f6a24e744278d44402313c0e2a7": {
      "model_module": "@jupyter-widgets/controls",
      "model_module_version": "1.5.0",
      "model_name": "HTMLModel",
      "state": {
       "_dom_classes": [],
       "_model_module": "@jupyter-widgets/controls",
       "_model_module_version": "1.5.0",
       "_model_name": "HTMLModel",
       "_view_count": null,
       "_view_module": "@jupyter-widgets/controls",
       "_view_module_version": "1.5.0",
       "_view_name": "HTMLView",
       "description": "",
       "description_tooltip": null,
       "layout": "IPY_MODEL_6359c00e75da4360ae710a52df0993e4",
       "placeholder": "​",
       "style": "IPY_MODEL_10d0516e570549dc97760598a3ba2e1f",
       "value": " 466k/466k [00:00&lt;00:00, 781kB/s]"
      }
     },
     "0d0c66e492524541aca2e2b821724188": {
      "model_module": "@jupyter-widgets/controls",
      "model_module_version": "1.5.0",
      "model_name": "FloatProgressModel",
      "state": {
       "_dom_classes": [],
       "_model_module": "@jupyter-widgets/controls",
       "_model_module_version": "1.5.0",
       "_model_name": "FloatProgressModel",
       "_view_count": null,
       "_view_module": "@jupyter-widgets/controls",
       "_view_module_version": "1.5.0",
       "_view_name": "ProgressView",
       "bar_style": "success",
       "description": "",
       "description_tooltip": null,
       "layout": "IPY_MODEL_6d5389159252465fa0a415d7f54f5fb4",
       "max": 231508.0,
       "min": 0.0,
       "orientation": "horizontal",
       "style": "IPY_MODEL_32fbada83e3d4965b1545b6c8c2061ad",
       "value": 231508.0
      }
     },
     "0e76cce5161a4416af5bd8c7e5b59fe9": {
      "model_module": "@jupyter-widgets/controls",
      "model_module_version": "1.5.0",
      "model_name": "HTMLModel",
      "state": {
       "_dom_classes": [],
       "_model_module": "@jupyter-widgets/controls",
       "_model_module_version": "1.5.0",
       "_model_name": "HTMLModel",
       "_view_count": null,
       "_view_module": "@jupyter-widgets/controls",
       "_view_module_version": "1.5.0",
       "_view_name": "HTMLView",
       "description": "",
       "description_tooltip": null,
       "layout": "IPY_MODEL_419ea63a31864d63afe9dc819def16b1",
       "placeholder": "​",
       "style": "IPY_MODEL_e2f2bc3c9eb743978f5d3c8549b762aa",
       "value": " 483/483 [00:00&lt;00:00, 41.7kB/s]"
      }
     },
     "0ed92a6bcfd04919aec5acff6d4dade6": {
      "model_module": "@jupyter-widgets/base",
      "model_module_version": "1.2.0",
      "model_name": "LayoutModel",
      "state": {
       "_model_module": "@jupyter-widgets/base",
       "_model_module_version": "1.2.0",
       "_model_name": "LayoutModel",
       "_view_count": null,
       "_view_module": "@jupyter-widgets/base",
       "_view_module_version": "1.2.0",
       "_view_name": "LayoutView",
       "align_content": null,
       "align_items": null,
       "align_self": null,
       "border": null,
       "bottom": null,
       "display": null,
       "flex": null,
       "flex_flow": null,
       "grid_area": null,
       "grid_auto_columns": null,
       "grid_auto_flow": null,
       "grid_auto_rows": null,
       "grid_column": null,
       "grid_gap": null,
       "grid_row": null,
       "grid_template_areas": null,
       "grid_template_columns": null,
       "grid_template_rows": null,
       "height": null,
       "justify_content": null,
       "justify_items": null,
       "left": null,
       "margin": null,
       "max_height": null,
       "max_width": null,
       "min_height": null,
       "min_width": null,
       "object_fit": null,
       "object_position": null,
       "order": null,
       "overflow": null,
       "overflow_x": null,
       "overflow_y": null,
       "padding": null,
       "right": null,
       "top": null,
       "visibility": null,
       "width": null
      }
     },
     "10d0516e570549dc97760598a3ba2e1f": {
      "model_module": "@jupyter-widgets/controls",
      "model_module_version": "1.5.0",
      "model_name": "DescriptionStyleModel",
      "state": {
       "_model_module": "@jupyter-widgets/controls",
       "_model_module_version": "1.5.0",
       "_model_name": "DescriptionStyleModel",
       "_view_count": null,
       "_view_module": "@jupyter-widgets/base",
       "_view_module_version": "1.2.0",
       "_view_name": "StyleView",
       "description_width": ""
      }
     },
     "133fe281d0be4c569fdfc35077f51de8": {
      "model_module": "@jupyter-widgets/base",
      "model_module_version": "1.2.0",
      "model_name": "LayoutModel",
      "state": {
       "_model_module": "@jupyter-widgets/base",
       "_model_module_version": "1.2.0",
       "_model_name": "LayoutModel",
       "_view_count": null,
       "_view_module": "@jupyter-widgets/base",
       "_view_module_version": "1.2.0",
       "_view_name": "LayoutView",
       "align_content": null,
       "align_items": null,
       "align_self": null,
       "border": null,
       "bottom": null,
       "display": null,
       "flex": null,
       "flex_flow": null,
       "grid_area": null,
       "grid_auto_columns": null,
       "grid_auto_flow": null,
       "grid_auto_rows": null,
       "grid_column": null,
       "grid_gap": null,
       "grid_row": null,
       "grid_template_areas": null,
       "grid_template_columns": null,
       "grid_template_rows": null,
       "height": null,
       "justify_content": null,
       "justify_items": null,
       "left": null,
       "margin": null,
       "max_height": null,
       "max_width": null,
       "min_height": null,
       "min_width": null,
       "object_fit": null,
       "object_position": null,
       "order": null,
       "overflow": null,
       "overflow_x": null,
       "overflow_y": null,
       "padding": null,
       "right": null,
       "top": null,
       "visibility": null,
       "width": null
      }
     },
     "16ba5fc4c1c0441e833bc83759fa554d": {
      "model_module": "@jupyter-widgets/controls",
      "model_module_version": "1.5.0",
      "model_name": "HBoxModel",
      "state": {
       "_dom_classes": [],
       "_model_module": "@jupyter-widgets/controls",
       "_model_module_version": "1.5.0",
       "_model_name": "HBoxModel",
       "_view_count": null,
       "_view_module": "@jupyter-widgets/controls",
       "_view_module_version": "1.5.0",
       "_view_name": "HBoxView",
       "box_style": "",
       "children": [
        "IPY_MODEL_ae2c9a5c21854819869cce82696e908a",
        "IPY_MODEL_0d0c66e492524541aca2e2b821724188",
        "IPY_MODEL_594236f5246142b6bb216a3f9ef0d1d1"
       ],
       "layout": "IPY_MODEL_ad603356e2974494adfa56ba54e7fe72"
      }
     },
     "1b04188aac3b4af798c937c7b83ee105": {
      "model_module": "@jupyter-widgets/controls",
      "model_module_version": "1.5.0",
      "model_name": "DescriptionStyleModel",
      "state": {
       "_model_module": "@jupyter-widgets/controls",
       "_model_module_version": "1.5.0",
       "_model_name": "DescriptionStyleModel",
       "_view_count": null,
       "_view_module": "@jupyter-widgets/base",
       "_view_module_version": "1.2.0",
       "_view_name": "StyleView",
       "description_width": ""
      }
     },
     "1b0e9cee6c364f9c9452be2b555a6a9d": {
      "model_module": "@jupyter-widgets/base",
      "model_module_version": "1.2.0",
      "model_name": "LayoutModel",
      "state": {
       "_model_module": "@jupyter-widgets/base",
       "_model_module_version": "1.2.0",
       "_model_name": "LayoutModel",
       "_view_count": null,
       "_view_module": "@jupyter-widgets/base",
       "_view_module_version": "1.2.0",
       "_view_name": "LayoutView",
       "align_content": null,
       "align_items": null,
       "align_self": null,
       "border": null,
       "bottom": null,
       "display": null,
       "flex": null,
       "flex_flow": null,
       "grid_area": null,
       "grid_auto_columns": null,
       "grid_auto_flow": null,
       "grid_auto_rows": null,
       "grid_column": null,
       "grid_gap": null,
       "grid_row": null,
       "grid_template_areas": null,
       "grid_template_columns": null,
       "grid_template_rows": null,
       "height": null,
       "justify_content": null,
       "justify_items": null,
       "left": null,
       "margin": null,
       "max_height": null,
       "max_width": null,
       "min_height": null,
       "min_width": null,
       "object_fit": null,
       "object_position": null,
       "order": null,
       "overflow": null,
       "overflow_x": null,
       "overflow_y": null,
       "padding": null,
       "right": null,
       "top": null,
       "visibility": null,
       "width": null
      }
     },
     "1f9e49df45094f15aaf17e1da48fa3aa": {
      "model_module": "@jupyter-widgets/controls",
      "model_module_version": "1.5.0",
      "model_name": "DescriptionStyleModel",
      "state": {
       "_model_module": "@jupyter-widgets/controls",
       "_model_module_version": "1.5.0",
       "_model_name": "DescriptionStyleModel",
       "_view_count": null,
       "_view_module": "@jupyter-widgets/base",
       "_view_module_version": "1.2.0",
       "_view_name": "StyleView",
       "description_width": ""
      }
     },
     "1ff212e83c454225984fe6d2c89c495c": {
      "model_module": "@jupyter-widgets/base",
      "model_module_version": "1.2.0",
      "model_name": "LayoutModel",
      "state": {
       "_model_module": "@jupyter-widgets/base",
       "_model_module_version": "1.2.0",
       "_model_name": "LayoutModel",
       "_view_count": null,
       "_view_module": "@jupyter-widgets/base",
       "_view_module_version": "1.2.0",
       "_view_name": "LayoutView",
       "align_content": null,
       "align_items": null,
       "align_self": null,
       "border": null,
       "bottom": null,
       "display": null,
       "flex": null,
       "flex_flow": null,
       "grid_area": null,
       "grid_auto_columns": null,
       "grid_auto_flow": null,
       "grid_auto_rows": null,
       "grid_column": null,
       "grid_gap": null,
       "grid_row": null,
       "grid_template_areas": null,
       "grid_template_columns": null,
       "grid_template_rows": null,
       "height": null,
       "justify_content": null,
       "justify_items": null,
       "left": null,
       "margin": null,
       "max_height": null,
       "max_width": null,
       "min_height": null,
       "min_width": null,
       "object_fit": null,
       "object_position": null,
       "order": null,
       "overflow": null,
       "overflow_x": null,
       "overflow_y": null,
       "padding": null,
       "right": null,
       "top": null,
       "visibility": null,
       "width": null
      }
     },
     "22b372efc6a3430ebecb0d61c07f3d53": {
      "model_module": "@jupyter-widgets/controls",
      "model_module_version": "1.5.0",
      "model_name": "DescriptionStyleModel",
      "state": {
       "_model_module": "@jupyter-widgets/controls",
       "_model_module_version": "1.5.0",
       "_model_name": "DescriptionStyleModel",
       "_view_count": null,
       "_view_module": "@jupyter-widgets/base",
       "_view_module_version": "1.2.0",
       "_view_name": "StyleView",
       "description_width": ""
      }
     },
     "289524a819bf4b0a9699d0d65c7486a9": {
      "model_module": "@jupyter-widgets/controls",
      "model_module_version": "1.5.0",
      "model_name": "HTMLModel",
      "state": {
       "_dom_classes": [],
       "_model_module": "@jupyter-widgets/controls",
       "_model_module_version": "1.5.0",
       "_model_name": "HTMLModel",
       "_view_count": null,
       "_view_module": "@jupyter-widgets/controls",
       "_view_module_version": "1.5.0",
       "_view_name": "HTMLView",
       "description": "",
       "description_tooltip": null,
       "layout": "IPY_MODEL_c1515a4d2b2845d8b71e0cebf2bfaab2",
       "placeholder": "​",
       "style": "IPY_MODEL_22b372efc6a3430ebecb0d61c07f3d53",
       "value": "model.safetensors: 100%"
      }
     },
     "32fbada83e3d4965b1545b6c8c2061ad": {
      "model_module": "@jupyter-widgets/controls",
      "model_module_version": "1.5.0",
      "model_name": "ProgressStyleModel",
      "state": {
       "_model_module": "@jupyter-widgets/controls",
       "_model_module_version": "1.5.0",
       "_model_name": "ProgressStyleModel",
       "_view_count": null,
       "_view_module": "@jupyter-widgets/base",
       "_view_module_version": "1.2.0",
       "_view_name": "StyleView",
       "bar_color": null,
       "description_width": ""
      }
     },
     "34605b8dc0244479a386c57a60fc4387": {
      "model_module": "@jupyter-widgets/controls",
      "model_module_version": "1.5.0",
      "model_name": "HBoxModel",
      "state": {
       "_dom_classes": [],
       "_model_module": "@jupyter-widgets/controls",
       "_model_module_version": "1.5.0",
       "_model_name": "HBoxModel",
       "_view_count": null,
       "_view_module": "@jupyter-widgets/controls",
       "_view_module_version": "1.5.0",
       "_view_name": "HBoxView",
       "box_style": "",
       "children": [
        "IPY_MODEL_289524a819bf4b0a9699d0d65c7486a9",
        "IPY_MODEL_96006576658849308871c7791f609cf5",
        "IPY_MODEL_622247d6c3db4b2992c2e8f8170ea537"
       ],
       "layout": "IPY_MODEL_4a3b309ff6da4d8288f87c2ee3e84f85"
      }
     },
     "359ba5f582bc4074830a3452423f0f17": {
      "model_module": "@jupyter-widgets/controls",
      "model_module_version": "1.5.0",
      "model_name": "DescriptionStyleModel",
      "state": {
       "_model_module": "@jupyter-widgets/controls",
       "_model_module_version": "1.5.0",
       "_model_name": "DescriptionStyleModel",
       "_view_count": null,
       "_view_module": "@jupyter-widgets/base",
       "_view_module_version": "1.2.0",
       "_view_name": "StyleView",
       "description_width": ""
      }
     },
     "3a61233d84814197b50794f29d52c9a5": {
      "model_module": "@jupyter-widgets/controls",
      "model_module_version": "1.5.0",
      "model_name": "HBoxModel",
      "state": {
       "_dom_classes": [],
       "_model_module": "@jupyter-widgets/controls",
       "_model_module_version": "1.5.0",
       "_model_name": "HBoxModel",
       "_view_count": null,
       "_view_module": "@jupyter-widgets/controls",
       "_view_module_version": "1.5.0",
       "_view_name": "HBoxView",
       "box_style": "",
       "children": [
        "IPY_MODEL_e5f111e1df8f4b799fc2c7a44374033c",
        "IPY_MODEL_fa218338ad3841e5b4cfc9e02e99aabd",
        "IPY_MODEL_0c8c8f6a24e744278d44402313c0e2a7"
       ],
       "layout": "IPY_MODEL_52652069b182462486e6bdb673378af5"
      }
     },
     "419ea63a31864d63afe9dc819def16b1": {
      "model_module": "@jupyter-widgets/base",
      "model_module_version": "1.2.0",
      "model_name": "LayoutModel",
      "state": {
       "_model_module": "@jupyter-widgets/base",
       "_model_module_version": "1.2.0",
       "_model_name": "LayoutModel",
       "_view_count": null,
       "_view_module": "@jupyter-widgets/base",
       "_view_module_version": "1.2.0",
       "_view_name": "LayoutView",
       "align_content": null,
       "align_items": null,
       "align_self": null,
       "border": null,
       "bottom": null,
       "display": null,
       "flex": null,
       "flex_flow": null,
       "grid_area": null,
       "grid_auto_columns": null,
       "grid_auto_flow": null,
       "grid_auto_rows": null,
       "grid_column": null,
       "grid_gap": null,
       "grid_row": null,
       "grid_template_areas": null,
       "grid_template_columns": null,
       "grid_template_rows": null,
       "height": null,
       "justify_content": null,
       "justify_items": null,
       "left": null,
       "margin": null,
       "max_height": null,
       "max_width": null,
       "min_height": null,
       "min_width": null,
       "object_fit": null,
       "object_position": null,
       "order": null,
       "overflow": null,
       "overflow_x": null,
       "overflow_y": null,
       "padding": null,
       "right": null,
       "top": null,
       "visibility": null,
       "width": null
      }
     },
     "4a3b309ff6da4d8288f87c2ee3e84f85": {
      "model_module": "@jupyter-widgets/base",
      "model_module_version": "1.2.0",
      "model_name": "LayoutModel",
      "state": {
       "_model_module": "@jupyter-widgets/base",
       "_model_module_version": "1.2.0",
       "_model_name": "LayoutModel",
       "_view_count": null,
       "_view_module": "@jupyter-widgets/base",
       "_view_module_version": "1.2.0",
       "_view_name": "LayoutView",
       "align_content": null,
       "align_items": null,
       "align_self": null,
       "border": null,
       "bottom": null,
       "display": null,
       "flex": null,
       "flex_flow": null,
       "grid_area": null,
       "grid_auto_columns": null,
       "grid_auto_flow": null,
       "grid_auto_rows": null,
       "grid_column": null,
       "grid_gap": null,
       "grid_row": null,
       "grid_template_areas": null,
       "grid_template_columns": null,
       "grid_template_rows": null,
       "height": null,
       "justify_content": null,
       "justify_items": null,
       "left": null,
       "margin": null,
       "max_height": null,
       "max_width": null,
       "min_height": null,
       "min_width": null,
       "object_fit": null,
       "object_position": null,
       "order": null,
       "overflow": null,
       "overflow_x": null,
       "overflow_y": null,
       "padding": null,
       "right": null,
       "top": null,
       "visibility": null,
       "width": null
      }
     },
     "4c4c11f66b1549ca9fa5dc2027335aec": {
      "model_module": "@jupyter-widgets/base",
      "model_module_version": "1.2.0",
      "model_name": "LayoutModel",
      "state": {
       "_model_module": "@jupyter-widgets/base",
       "_model_module_version": "1.2.0",
       "_model_name": "LayoutModel",
       "_view_count": null,
       "_view_module": "@jupyter-widgets/base",
       "_view_module_version": "1.2.0",
       "_view_name": "LayoutView",
       "align_content": null,
       "align_items": null,
       "align_self": null,
       "border": null,
       "bottom": null,
       "display": null,
       "flex": null,
       "flex_flow": null,
       "grid_area": null,
       "grid_auto_columns": null,
       "grid_auto_flow": null,
       "grid_auto_rows": null,
       "grid_column": null,
       "grid_gap": null,
       "grid_row": null,
       "grid_template_areas": null,
       "grid_template_columns": null,
       "grid_template_rows": null,
       "height": null,
       "justify_content": null,
       "justify_items": null,
       "left": null,
       "margin": null,
       "max_height": null,
       "max_width": null,
       "min_height": null,
       "min_width": null,
       "object_fit": null,
       "object_position": null,
       "order": null,
       "overflow": null,
       "overflow_x": null,
       "overflow_y": null,
       "padding": null,
       "right": null,
       "top": null,
       "visibility": null,
       "width": null
      }
     },
     "4d439264924a44139858e8b64e41040e": {
      "model_module": "@jupyter-widgets/controls",
      "model_module_version": "1.5.0",
      "model_name": "ProgressStyleModel",
      "state": {
       "_model_module": "@jupyter-widgets/controls",
       "_model_module_version": "1.5.0",
       "_model_name": "ProgressStyleModel",
       "_view_count": null,
       "_view_module": "@jupyter-widgets/base",
       "_view_module_version": "1.2.0",
       "_view_name": "StyleView",
       "bar_color": null,
       "description_width": ""
      }
     },
     "4e8435027cab4e4cb502413f3f3f3af7": {
      "model_module": "@jupyter-widgets/controls",
      "model_module_version": "1.5.0",
      "model_name": "ProgressStyleModel",
      "state": {
       "_model_module": "@jupyter-widgets/controls",
       "_model_module_version": "1.5.0",
       "_model_name": "ProgressStyleModel",
       "_view_count": null,
       "_view_module": "@jupyter-widgets/base",
       "_view_module_version": "1.2.0",
       "_view_name": "StyleView",
       "bar_color": null,
       "description_width": ""
      }
     },
     "51d3d1f8e2194963bc30a85dd866634f": {
      "model_module": "@jupyter-widgets/base",
      "model_module_version": "1.2.0",
      "model_name": "LayoutModel",
      "state": {
       "_model_module": "@jupyter-widgets/base",
       "_model_module_version": "1.2.0",
       "_model_name": "LayoutModel",
       "_view_count": null,
       "_view_module": "@jupyter-widgets/base",
       "_view_module_version": "1.2.0",
       "_view_name": "LayoutView",
       "align_content": null,
       "align_items": null,
       "align_self": null,
       "border": null,
       "bottom": null,
       "display": null,
       "flex": null,
       "flex_flow": null,
       "grid_area": null,
       "grid_auto_columns": null,
       "grid_auto_flow": null,
       "grid_auto_rows": null,
       "grid_column": null,
       "grid_gap": null,
       "grid_row": null,
       "grid_template_areas": null,
       "grid_template_columns": null,
       "grid_template_rows": null,
       "height": null,
       "justify_content": null,
       "justify_items": null,
       "left": null,
       "margin": null,
       "max_height": null,
       "max_width": null,
       "min_height": null,
       "min_width": null,
       "object_fit": null,
       "object_position": null,
       "order": null,
       "overflow": null,
       "overflow_x": null,
       "overflow_y": null,
       "padding": null,
       "right": null,
       "top": null,
       "visibility": null,
       "width": null
      }
     },
     "52652069b182462486e6bdb673378af5": {
      "model_module": "@jupyter-widgets/base",
      "model_module_version": "1.2.0",
      "model_name": "LayoutModel",
      "state": {
       "_model_module": "@jupyter-widgets/base",
       "_model_module_version": "1.2.0",
       "_model_name": "LayoutModel",
       "_view_count": null,
       "_view_module": "@jupyter-widgets/base",
       "_view_module_version": "1.2.0",
       "_view_name": "LayoutView",
       "align_content": null,
       "align_items": null,
       "align_self": null,
       "border": null,
       "bottom": null,
       "display": null,
       "flex": null,
       "flex_flow": null,
       "grid_area": null,
       "grid_auto_columns": null,
       "grid_auto_flow": null,
       "grid_auto_rows": null,
       "grid_column": null,
       "grid_gap": null,
       "grid_row": null,
       "grid_template_areas": null,
       "grid_template_columns": null,
       "grid_template_rows": null,
       "height": null,
       "justify_content": null,
       "justify_items": null,
       "left": null,
       "margin": null,
       "max_height": null,
       "max_width": null,
       "min_height": null,
       "min_width": null,
       "object_fit": null,
       "object_position": null,
       "order": null,
       "overflow": null,
       "overflow_x": null,
       "overflow_y": null,
       "padding": null,
       "right": null,
       "top": null,
       "visibility": null,
       "width": null
      }
     },
     "55584fea715243c19652c5ecc40ed390": {
      "model_module": "@jupyter-widgets/controls",
      "model_module_version": "1.5.0",
      "model_name": "HBoxModel",
      "state": {
       "_dom_classes": [],
       "_model_module": "@jupyter-widgets/controls",
       "_model_module_version": "1.5.0",
       "_model_name": "HBoxModel",
       "_view_count": null,
       "_view_module": "@jupyter-widgets/controls",
       "_view_module_version": "1.5.0",
       "_view_name": "HBoxView",
       "box_style": "",
       "children": [
        "IPY_MODEL_de30c4a99b2e447d93bb4265588f962d",
        "IPY_MODEL_6478adaa3a1042fda11c0acc994101ce",
        "IPY_MODEL_0e76cce5161a4416af5bd8c7e5b59fe9"
       ],
       "layout": "IPY_MODEL_dadfcf902c8046e79d3d788ffffd98dc"
      }
     },
     "594236f5246142b6bb216a3f9ef0d1d1": {
      "model_module": "@jupyter-widgets/controls",
      "model_module_version": "1.5.0",
      "model_name": "HTMLModel",
      "state": {
       "_dom_classes": [],
       "_model_module": "@jupyter-widgets/controls",
       "_model_module_version": "1.5.0",
       "_model_name": "HTMLModel",
       "_view_count": null,
       "_view_module": "@jupyter-widgets/controls",
       "_view_module_version": "1.5.0",
       "_view_name": "HTMLView",
       "description": "",
       "description_tooltip": null,
       "layout": "IPY_MODEL_e1e6d8a37a6c4587ba057b7dfd07c6e2",
       "placeholder": "​",
       "style": "IPY_MODEL_1b04188aac3b4af798c937c7b83ee105",
       "value": " 232k/232k [00:00&lt;00:00, 582kB/s]"
      }
     },
     "5e1939056bcd48528e57c92d4eafaeab": {
      "model_module": "@jupyter-widgets/base",
      "model_module_version": "1.2.0",
      "model_name": "LayoutModel",
      "state": {
       "_model_module": "@jupyter-widgets/base",
       "_model_module_version": "1.2.0",
       "_model_name": "LayoutModel",
       "_view_count": null,
       "_view_module": "@jupyter-widgets/base",
       "_view_module_version": "1.2.0",
       "_view_name": "LayoutView",
       "align_content": null,
       "align_items": null,
       "align_self": null,
       "border": null,
       "bottom": null,
       "display": null,
       "flex": null,
       "flex_flow": null,
       "grid_area": null,
       "grid_auto_columns": null,
       "grid_auto_flow": null,
       "grid_auto_rows": null,
       "grid_column": null,
       "grid_gap": null,
       "grid_row": null,
       "grid_template_areas": null,
       "grid_template_columns": null,
       "grid_template_rows": null,
       "height": null,
       "justify_content": null,
       "justify_items": null,
       "left": null,
       "margin": null,
       "max_height": null,
       "max_width": null,
       "min_height": null,
       "min_width": null,
       "object_fit": null,
       "object_position": null,
       "order": null,
       "overflow": null,
       "overflow_x": null,
       "overflow_y": null,
       "padding": null,
       "right": null,
       "top": null,
       "visibility": null,
       "width": null
      }
     },
     "622247d6c3db4b2992c2e8f8170ea537": {
      "model_module": "@jupyter-widgets/controls",
      "model_module_version": "1.5.0",
      "model_name": "HTMLModel",
      "state": {
       "_dom_classes": [],
       "_model_module": "@jupyter-widgets/controls",
       "_model_module_version": "1.5.0",
       "_model_name": "HTMLModel",
       "_view_count": null,
       "_view_module": "@jupyter-widgets/controls",
       "_view_module_version": "1.5.0",
       "_view_name": "HTMLView",
       "description": "",
       "description_tooltip": null,
       "layout": "IPY_MODEL_1ff212e83c454225984fe6d2c89c495c",
       "placeholder": "​",
       "style": "IPY_MODEL_1f9e49df45094f15aaf17e1da48fa3aa",
       "value": " 268M/268M [00:00&lt;00:00, 370MB/s]"
      }
     },
     "6359c00e75da4360ae710a52df0993e4": {
      "model_module": "@jupyter-widgets/base",
      "model_module_version": "1.2.0",
      "model_name": "LayoutModel",
      "state": {
       "_model_module": "@jupyter-widgets/base",
       "_model_module_version": "1.2.0",
       "_model_name": "LayoutModel",
       "_view_count": null,
       "_view_module": "@jupyter-widgets/base",
       "_view_module_version": "1.2.0",
       "_view_name": "LayoutView",
       "align_content": null,
       "align_items": null,
       "align_self": null,
       "border": null,
       "bottom": null,
       "display": null,
       "flex": null,
       "flex_flow": null,
       "grid_area": null,
       "grid_auto_columns": null,
       "grid_auto_flow": null,
       "grid_auto_rows": null,
       "grid_column": null,
       "grid_gap": null,
       "grid_row": null,
       "grid_template_areas": null,
       "grid_template_columns": null,
       "grid_template_rows": null,
       "height": null,
       "justify_content": null,
       "justify_items": null,
       "left": null,
       "margin": null,
       "max_height": null,
       "max_width": null,
       "min_height": null,
       "min_width": null,
       "object_fit": null,
       "object_position": null,
       "order": null,
       "overflow": null,
       "overflow_x": null,
       "overflow_y": null,
       "padding": null,
       "right": null,
       "top": null,
       "visibility": null,
       "width": null
      }
     },
     "6478adaa3a1042fda11c0acc994101ce": {
      "model_module": "@jupyter-widgets/controls",
      "model_module_version": "1.5.0",
      "model_name": "FloatProgressModel",
      "state": {
       "_dom_classes": [],
       "_model_module": "@jupyter-widgets/controls",
       "_model_module_version": "1.5.0",
       "_model_name": "FloatProgressModel",
       "_view_count": null,
       "_view_module": "@jupyter-widgets/controls",
       "_view_module_version": "1.5.0",
       "_view_name": "ProgressView",
       "bar_style": "success",
       "description": "",
       "description_tooltip": null,
       "layout": "IPY_MODEL_6d2bb917b0c84dcba9642b67e24af57a",
       "max": 483.0,
       "min": 0.0,
       "orientation": "horizontal",
       "style": "IPY_MODEL_e157e9e1be5c4fb4a7e5000a0fc2f3f3",
       "value": 483.0
      }
     },
     "6d2bb917b0c84dcba9642b67e24af57a": {
      "model_module": "@jupyter-widgets/base",
      "model_module_version": "1.2.0",
      "model_name": "LayoutModel",
      "state": {
       "_model_module": "@jupyter-widgets/base",
       "_model_module_version": "1.2.0",
       "_model_name": "LayoutModel",
       "_view_count": null,
       "_view_module": "@jupyter-widgets/base",
       "_view_module_version": "1.2.0",
       "_view_name": "LayoutView",
       "align_content": null,
       "align_items": null,
       "align_self": null,
       "border": null,
       "bottom": null,
       "display": null,
       "flex": null,
       "flex_flow": null,
       "grid_area": null,
       "grid_auto_columns": null,
       "grid_auto_flow": null,
       "grid_auto_rows": null,
       "grid_column": null,
       "grid_gap": null,
       "grid_row": null,
       "grid_template_areas": null,
       "grid_template_columns": null,
       "grid_template_rows": null,
       "height": null,
       "justify_content": null,
       "justify_items": null,
       "left": null,
       "margin": null,
       "max_height": null,
       "max_width": null,
       "min_height": null,
       "min_width": null,
       "object_fit": null,
       "object_position": null,
       "order": null,
       "overflow": null,
       "overflow_x": null,
       "overflow_y": null,
       "padding": null,
       "right": null,
       "top": null,
       "visibility": null,
       "width": null
      }
     },
     "6d5389159252465fa0a415d7f54f5fb4": {
      "model_module": "@jupyter-widgets/base",
      "model_module_version": "1.2.0",
      "model_name": "LayoutModel",
      "state": {
       "_model_module": "@jupyter-widgets/base",
       "_model_module_version": "1.2.0",
       "_model_name": "LayoutModel",
       "_view_count": null,
       "_view_module": "@jupyter-widgets/base",
       "_view_module_version": "1.2.0",
       "_view_name": "LayoutView",
       "align_content": null,
       "align_items": null,
       "align_self": null,
       "border": null,
       "bottom": null,
       "display": null,
       "flex": null,
       "flex_flow": null,
       "grid_area": null,
       "grid_auto_columns": null,
       "grid_auto_flow": null,
       "grid_auto_rows": null,
       "grid_column": null,
       "grid_gap": null,
       "grid_row": null,
       "grid_template_areas": null,
       "grid_template_columns": null,
       "grid_template_rows": null,
       "height": null,
       "justify_content": null,
       "justify_items": null,
       "left": null,
       "margin": null,
       "max_height": null,
       "max_width": null,
       "min_height": null,
       "min_width": null,
       "object_fit": null,
       "object_position": null,
       "order": null,
       "overflow": null,
       "overflow_x": null,
       "overflow_y": null,
       "padding": null,
       "right": null,
       "top": null,
       "visibility": null,
       "width": null
      }
     },
     "835a5487a55f427abd2a4298f8359489": {
      "model_module": "@jupyter-widgets/controls",
      "model_module_version": "1.5.0",
      "model_name": "DescriptionStyleModel",
      "state": {
       "_model_module": "@jupyter-widgets/controls",
       "_model_module_version": "1.5.0",
       "_model_name": "DescriptionStyleModel",
       "_view_count": null,
       "_view_module": "@jupyter-widgets/base",
       "_view_module_version": "1.2.0",
       "_view_name": "StyleView",
       "description_width": ""
      }
     },
     "88a734ce42cc43e197ea83990f068f05": {
      "model_module": "@jupyter-widgets/controls",
      "model_module_version": "1.5.0",
      "model_name": "HTMLModel",
      "state": {
       "_dom_classes": [],
       "_model_module": "@jupyter-widgets/controls",
       "_model_module_version": "1.5.0",
       "_model_name": "HTMLModel",
       "_view_count": null,
       "_view_module": "@jupyter-widgets/controls",
       "_view_module_version": "1.5.0",
       "_view_name": "HTMLView",
       "description": "",
       "description_tooltip": null,
       "layout": "IPY_MODEL_9f9fa9f9e76f41548eec76aa804de216",
       "placeholder": "​",
       "style": "IPY_MODEL_c2eec438a3934e4fa1835771e7016a83",
       "value": "tokenizer_config.json: 100%"
      }
     },
     "96006576658849308871c7791f609cf5": {
      "model_module": "@jupyter-widgets/controls",
      "model_module_version": "1.5.0",
      "model_name": "FloatProgressModel",
      "state": {
       "_dom_classes": [],
       "_model_module": "@jupyter-widgets/controls",
       "_model_module_version": "1.5.0",
       "_model_name": "FloatProgressModel",
       "_view_count": null,
       "_view_module": "@jupyter-widgets/controls",
       "_view_module_version": "1.5.0",
       "_view_name": "ProgressView",
       "bar_style": "success",
       "description": "",
       "description_tooltip": null,
       "layout": "IPY_MODEL_4c4c11f66b1549ca9fa5dc2027335aec",
       "max": 267954768.0,
       "min": 0.0,
       "orientation": "horizontal",
       "style": "IPY_MODEL_4e8435027cab4e4cb502413f3f3f3af7",
       "value": 267954768.0
      }
     },
     "9cfeeafdecb24e78a19f8a66a73a27e7": {
      "model_module": "@jupyter-widgets/controls",
      "model_module_version": "1.5.0",
      "model_name": "HTMLModel",
      "state": {
       "_dom_classes": [],
       "_model_module": "@jupyter-widgets/controls",
       "_model_module_version": "1.5.0",
       "_model_name": "HTMLModel",
       "_view_count": null,
       "_view_module": "@jupyter-widgets/controls",
       "_view_module_version": "1.5.0",
       "_view_name": "HTMLView",
       "description": "",
       "description_tooltip": null,
       "layout": "IPY_MODEL_5e1939056bcd48528e57c92d4eafaeab",
       "placeholder": "​",
       "style": "IPY_MODEL_835a5487a55f427abd2a4298f8359489",
       "value": " 28.0/28.0 [00:00&lt;00:00, 2.26kB/s]"
      }
     },
     "9ec9deaed1e84870a1a1de2561696776": {
      "model_module": "@jupyter-widgets/controls",
      "model_module_version": "1.5.0",
      "model_name": "FloatProgressModel",
      "state": {
       "_dom_classes": [],
       "_model_module": "@jupyter-widgets/controls",
       "_model_module_version": "1.5.0",
       "_model_name": "FloatProgressModel",
       "_view_count": null,
       "_view_module": "@jupyter-widgets/controls",
       "_view_module_version": "1.5.0",
       "_view_name": "ProgressView",
       "bar_style": "success",
       "description": "",
       "description_tooltip": null,
       "layout": "IPY_MODEL_1b0e9cee6c364f9c9452be2b555a6a9d",
       "max": 28.0,
       "min": 0.0,
       "orientation": "horizontal",
       "style": "IPY_MODEL_daf4ec8d88a24eb3a3872bd36af840d5",
       "value": 28.0
      }
     },
     "9f9fa9f9e76f41548eec76aa804de216": {
      "model_module": "@jupyter-widgets/base",
      "model_module_version": "1.2.0",
      "model_name": "LayoutModel",
      "state": {
       "_model_module": "@jupyter-widgets/base",
       "_model_module_version": "1.2.0",
       "_model_name": "LayoutModel",
       "_view_count": null,
       "_view_module": "@jupyter-widgets/base",
       "_view_module_version": "1.2.0",
       "_view_name": "LayoutView",
       "align_content": null,
       "align_items": null,
       "align_self": null,
       "border": null,
       "bottom": null,
       "display": null,
       "flex": null,
       "flex_flow": null,
       "grid_area": null,
       "grid_auto_columns": null,
       "grid_auto_flow": null,
       "grid_auto_rows": null,
       "grid_column": null,
       "grid_gap": null,
       "grid_row": null,
       "grid_template_areas": null,
       "grid_template_columns": null,
       "grid_template_rows": null,
       "height": null,
       "justify_content": null,
       "justify_items": null,
       "left": null,
       "margin": null,
       "max_height": null,
       "max_width": null,
       "min_height": null,
       "min_width": null,
       "object_fit": null,
       "object_position": null,
       "order": null,
       "overflow": null,
       "overflow_x": null,
       "overflow_y": null,
       "padding": null,
       "right": null,
       "top": null,
       "visibility": null,
       "width": null
      }
     },
     "ad603356e2974494adfa56ba54e7fe72": {
      "model_module": "@jupyter-widgets/base",
      "model_module_version": "1.2.0",
      "model_name": "LayoutModel",
      "state": {
       "_model_module": "@jupyter-widgets/base",
       "_model_module_version": "1.2.0",
       "_model_name": "LayoutModel",
       "_view_count": null,
       "_view_module": "@jupyter-widgets/base",
       "_view_module_version": "1.2.0",
       "_view_name": "LayoutView",
       "align_content": null,
       "align_items": null,
       "align_self": null,
       "border": null,
       "bottom": null,
       "display": null,
       "flex": null,
       "flex_flow": null,
       "grid_area": null,
       "grid_auto_columns": null,
       "grid_auto_flow": null,
       "grid_auto_rows": null,
       "grid_column": null,
       "grid_gap": null,
       "grid_row": null,
       "grid_template_areas": null,
       "grid_template_columns": null,
       "grid_template_rows": null,
       "height": null,
       "justify_content": null,
       "justify_items": null,
       "left": null,
       "margin": null,
       "max_height": null,
       "max_width": null,
       "min_height": null,
       "min_width": null,
       "object_fit": null,
       "object_position": null,
       "order": null,
       "overflow": null,
       "overflow_x": null,
       "overflow_y": null,
       "padding": null,
       "right": null,
       "top": null,
       "visibility": null,
       "width": null
      }
     },
     "ae2c9a5c21854819869cce82696e908a": {
      "model_module": "@jupyter-widgets/controls",
      "model_module_version": "1.5.0",
      "model_name": "HTMLModel",
      "state": {
       "_dom_classes": [],
       "_model_module": "@jupyter-widgets/controls",
       "_model_module_version": "1.5.0",
       "_model_name": "HTMLModel",
       "_view_count": null,
       "_view_module": "@jupyter-widgets/controls",
       "_view_module_version": "1.5.0",
       "_view_name": "HTMLView",
       "description": "",
       "description_tooltip": null,
       "layout": "IPY_MODEL_133fe281d0be4c569fdfc35077f51de8",
       "placeholder": "​",
       "style": "IPY_MODEL_e0bdade2a1054e099187454e4476eaba",
       "value": "vocab.txt: 100%"
      }
     },
     "bd4277382be44abea3a24a60c995a6d7": {
      "model_module": "@jupyter-widgets/controls",
      "model_module_version": "1.5.0",
      "model_name": "DescriptionStyleModel",
      "state": {
       "_model_module": "@jupyter-widgets/controls",
       "_model_module_version": "1.5.0",
       "_model_name": "DescriptionStyleModel",
       "_view_count": null,
       "_view_module": "@jupyter-widgets/base",
       "_view_module_version": "1.2.0",
       "_view_name": "StyleView",
       "description_width": ""
      }
     },
     "c1515a4d2b2845d8b71e0cebf2bfaab2": {
      "model_module": "@jupyter-widgets/base",
      "model_module_version": "1.2.0",
      "model_name": "LayoutModel",
      "state": {
       "_model_module": "@jupyter-widgets/base",
       "_model_module_version": "1.2.0",
       "_model_name": "LayoutModel",
       "_view_count": null,
       "_view_module": "@jupyter-widgets/base",
       "_view_module_version": "1.2.0",
       "_view_name": "LayoutView",
       "align_content": null,
       "align_items": null,
       "align_self": null,
       "border": null,
       "bottom": null,
       "display": null,
       "flex": null,
       "flex_flow": null,
       "grid_area": null,
       "grid_auto_columns": null,
       "grid_auto_flow": null,
       "grid_auto_rows": null,
       "grid_column": null,
       "grid_gap": null,
       "grid_row": null,
       "grid_template_areas": null,
       "grid_template_columns": null,
       "grid_template_rows": null,
       "height": null,
       "justify_content": null,
       "justify_items": null,
       "left": null,
       "margin": null,
       "max_height": null,
       "max_width": null,
       "min_height": null,
       "min_width": null,
       "object_fit": null,
       "object_position": null,
       "order": null,
       "overflow": null,
       "overflow_x": null,
       "overflow_y": null,
       "padding": null,
       "right": null,
       "top": null,
       "visibility": null,
       "width": null
      }
     },
     "c2eec438a3934e4fa1835771e7016a83": {
      "model_module": "@jupyter-widgets/controls",
      "model_module_version": "1.5.0",
      "model_name": "DescriptionStyleModel",
      "state": {
       "_model_module": "@jupyter-widgets/controls",
       "_model_module_version": "1.5.0",
       "_model_name": "DescriptionStyleModel",
       "_view_count": null,
       "_view_module": "@jupyter-widgets/base",
       "_view_module_version": "1.2.0",
       "_view_name": "StyleView",
       "description_width": ""
      }
     },
     "cc5a2f30ee934b7e9e30f3691bab2d31": {
      "model_module": "@jupyter-widgets/base",
      "model_module_version": "1.2.0",
      "model_name": "LayoutModel",
      "state": {
       "_model_module": "@jupyter-widgets/base",
       "_model_module_version": "1.2.0",
       "_model_name": "LayoutModel",
       "_view_count": null,
       "_view_module": "@jupyter-widgets/base",
       "_view_module_version": "1.2.0",
       "_view_name": "LayoutView",
       "align_content": null,
       "align_items": null,
       "align_self": null,
       "border": null,
       "bottom": null,
       "display": null,
       "flex": null,
       "flex_flow": null,
       "grid_area": null,
       "grid_auto_columns": null,
       "grid_auto_flow": null,
       "grid_auto_rows": null,
       "grid_column": null,
       "grid_gap": null,
       "grid_row": null,
       "grid_template_areas": null,
       "grid_template_columns": null,
       "grid_template_rows": null,
       "height": null,
       "justify_content": null,
       "justify_items": null,
       "left": null,
       "margin": null,
       "max_height": null,
       "max_width": null,
       "min_height": null,
       "min_width": null,
       "object_fit": null,
       "object_position": null,
       "order": null,
       "overflow": null,
       "overflow_x": null,
       "overflow_y": null,
       "padding": null,
       "right": null,
       "top": null,
       "visibility": null,
       "width": null
      }
     },
     "dadfcf902c8046e79d3d788ffffd98dc": {
      "model_module": "@jupyter-widgets/base",
      "model_module_version": "1.2.0",
      "model_name": "LayoutModel",
      "state": {
       "_model_module": "@jupyter-widgets/base",
       "_model_module_version": "1.2.0",
       "_model_name": "LayoutModel",
       "_view_count": null,
       "_view_module": "@jupyter-widgets/base",
       "_view_module_version": "1.2.0",
       "_view_name": "LayoutView",
       "align_content": null,
       "align_items": null,
       "align_self": null,
       "border": null,
       "bottom": null,
       "display": null,
       "flex": null,
       "flex_flow": null,
       "grid_area": null,
       "grid_auto_columns": null,
       "grid_auto_flow": null,
       "grid_auto_rows": null,
       "grid_column": null,
       "grid_gap": null,
       "grid_row": null,
       "grid_template_areas": null,
       "grid_template_columns": null,
       "grid_template_rows": null,
       "height": null,
       "justify_content": null,
       "justify_items": null,
       "left": null,
       "margin": null,
       "max_height": null,
       "max_width": null,
       "min_height": null,
       "min_width": null,
       "object_fit": null,
       "object_position": null,
       "order": null,
       "overflow": null,
       "overflow_x": null,
       "overflow_y": null,
       "padding": null,
       "right": null,
       "top": null,
       "visibility": null,
       "width": null
      }
     },
     "daf4ec8d88a24eb3a3872bd36af840d5": {
      "model_module": "@jupyter-widgets/controls",
      "model_module_version": "1.5.0",
      "model_name": "ProgressStyleModel",
      "state": {
       "_model_module": "@jupyter-widgets/controls",
       "_model_module_version": "1.5.0",
       "_model_name": "ProgressStyleModel",
       "_view_count": null,
       "_view_module": "@jupyter-widgets/base",
       "_view_module_version": "1.2.0",
       "_view_name": "StyleView",
       "bar_color": null,
       "description_width": ""
      }
     },
     "de30c4a99b2e447d93bb4265588f962d": {
      "model_module": "@jupyter-widgets/controls",
      "model_module_version": "1.5.0",
      "model_name": "HTMLModel",
      "state": {
       "_dom_classes": [],
       "_model_module": "@jupyter-widgets/controls",
       "_model_module_version": "1.5.0",
       "_model_name": "HTMLModel",
       "_view_count": null,
       "_view_module": "@jupyter-widgets/controls",
       "_view_module_version": "1.5.0",
       "_view_name": "HTMLView",
       "description": "",
       "description_tooltip": null,
       "layout": "IPY_MODEL_cc5a2f30ee934b7e9e30f3691bab2d31",
       "placeholder": "​",
       "style": "IPY_MODEL_359ba5f582bc4074830a3452423f0f17",
       "value": "config.json: 100%"
      }
     },
     "e0bdade2a1054e099187454e4476eaba": {
      "model_module": "@jupyter-widgets/controls",
      "model_module_version": "1.5.0",
      "model_name": "DescriptionStyleModel",
      "state": {
       "_model_module": "@jupyter-widgets/controls",
       "_model_module_version": "1.5.0",
       "_model_name": "DescriptionStyleModel",
       "_view_count": null,
       "_view_module": "@jupyter-widgets/base",
       "_view_module_version": "1.2.0",
       "_view_name": "StyleView",
       "description_width": ""
      }
     },
     "e157e9e1be5c4fb4a7e5000a0fc2f3f3": {
      "model_module": "@jupyter-widgets/controls",
      "model_module_version": "1.5.0",
      "model_name": "ProgressStyleModel",
      "state": {
       "_model_module": "@jupyter-widgets/controls",
       "_model_module_version": "1.5.0",
       "_model_name": "ProgressStyleModel",
       "_view_count": null,
       "_view_module": "@jupyter-widgets/base",
       "_view_module_version": "1.2.0",
       "_view_name": "StyleView",
       "bar_color": null,
       "description_width": ""
      }
     },
     "e1e6d8a37a6c4587ba057b7dfd07c6e2": {
      "model_module": "@jupyter-widgets/base",
      "model_module_version": "1.2.0",
      "model_name": "LayoutModel",
      "state": {
       "_model_module": "@jupyter-widgets/base",
       "_model_module_version": "1.2.0",
       "_model_name": "LayoutModel",
       "_view_count": null,
       "_view_module": "@jupyter-widgets/base",
       "_view_module_version": "1.2.0",
       "_view_name": "LayoutView",
       "align_content": null,
       "align_items": null,
       "align_self": null,
       "border": null,
       "bottom": null,
       "display": null,
       "flex": null,
       "flex_flow": null,
       "grid_area": null,
       "grid_auto_columns": null,
       "grid_auto_flow": null,
       "grid_auto_rows": null,
       "grid_column": null,
       "grid_gap": null,
       "grid_row": null,
       "grid_template_areas": null,
       "grid_template_columns": null,
       "grid_template_rows": null,
       "height": null,
       "justify_content": null,
       "justify_items": null,
       "left": null,
       "margin": null,
       "max_height": null,
       "max_width": null,
       "min_height": null,
       "min_width": null,
       "object_fit": null,
       "object_position": null,
       "order": null,
       "overflow": null,
       "overflow_x": null,
       "overflow_y": null,
       "padding": null,
       "right": null,
       "top": null,
       "visibility": null,
       "width": null
      }
     },
     "e2f2bc3c9eb743978f5d3c8549b762aa": {
      "model_module": "@jupyter-widgets/controls",
      "model_module_version": "1.5.0",
      "model_name": "DescriptionStyleModel",
      "state": {
       "_model_module": "@jupyter-widgets/controls",
       "_model_module_version": "1.5.0",
       "_model_name": "DescriptionStyleModel",
       "_view_count": null,
       "_view_module": "@jupyter-widgets/base",
       "_view_module_version": "1.2.0",
       "_view_name": "StyleView",
       "description_width": ""
      }
     },
     "e5f111e1df8f4b799fc2c7a44374033c": {
      "model_module": "@jupyter-widgets/controls",
      "model_module_version": "1.5.0",
      "model_name": "HTMLModel",
      "state": {
       "_dom_classes": [],
       "_model_module": "@jupyter-widgets/controls",
       "_model_module_version": "1.5.0",
       "_model_name": "HTMLModel",
       "_view_count": null,
       "_view_module": "@jupyter-widgets/controls",
       "_view_module_version": "1.5.0",
       "_view_name": "HTMLView",
       "description": "",
       "description_tooltip": null,
       "layout": "IPY_MODEL_07c9a76d4b324ffe924908a6f424274f",
       "placeholder": "​",
       "style": "IPY_MODEL_bd4277382be44abea3a24a60c995a6d7",
       "value": "tokenizer.json: 100%"
      }
     },
     "fa218338ad3841e5b4cfc9e02e99aabd": {
      "model_module": "@jupyter-widgets/controls",
      "model_module_version": "1.5.0",
      "model_name": "FloatProgressModel",
      "state": {
       "_dom_classes": [],
       "_model_module": "@jupyter-widgets/controls",
       "_model_module_version": "1.5.0",
       "_model_name": "FloatProgressModel",
       "_view_count": null,
       "_view_module": "@jupyter-widgets/controls",
       "_view_module_version": "1.5.0",
       "_view_name": "ProgressView",
       "bar_style": "success",
       "description": "",
       "description_tooltip": null,
       "layout": "IPY_MODEL_0ed92a6bcfd04919aec5acff6d4dade6",
       "max": 466062.0,
       "min": 0.0,
       "orientation": "horizontal",
       "style": "IPY_MODEL_4d439264924a44139858e8b64e41040e",
       "value": 466062.0
      }
     },
     "fc870ddb7be6439a8c97346581be1173": {
      "model_module": "@jupyter-widgets/controls",
      "model_module_version": "1.5.0",
      "model_name": "HBoxModel",
      "state": {
       "_dom_classes": [],
       "_model_module": "@jupyter-widgets/controls",
       "_model_module_version": "1.5.0",
       "_model_name": "HBoxModel",
       "_view_count": null,
       "_view_module": "@jupyter-widgets/controls",
       "_view_module_version": "1.5.0",
       "_view_name": "HBoxView",
       "box_style": "",
       "children": [
        "IPY_MODEL_88a734ce42cc43e197ea83990f068f05",
        "IPY_MODEL_9ec9deaed1e84870a1a1de2561696776",
        "IPY_MODEL_9cfeeafdecb24e78a19f8a66a73a27e7"
       ],
       "layout": "IPY_MODEL_51d3d1f8e2194963bc30a85dd866634f"
      }
     }
    },
    "version_major": 2,
    "version_minor": 0
   }
  }
 },
 "nbformat": 4,
 "nbformat_minor": 5
}
