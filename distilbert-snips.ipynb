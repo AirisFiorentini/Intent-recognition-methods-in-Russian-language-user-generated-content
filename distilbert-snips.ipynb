{
 "cells": [
  {
   "cell_type": "code",
   "execution_count": 1,
   "id": "50b0554d",
   "metadata": {
    "_cell_guid": "b1076dfc-b9ad-4769-8c92-a6c4dae69d19",
    "_uuid": "8f2839f25d086af736a60e9eeb907d3b93b6e0e5",
    "execution": {
     "iopub.execute_input": "2024-06-01T14:44:39.215608Z",
     "iopub.status.busy": "2024-06-01T14:44:39.214908Z",
     "iopub.status.idle": "2024-06-01T14:44:39.967423Z",
     "shell.execute_reply": "2024-06-01T14:44:39.966551Z"
    },
    "papermill": {
     "duration": 0.764995,
     "end_time": "2024-06-01T14:44:39.969811",
     "exception": false,
     "start_time": "2024-06-01T14:44:39.204816",
     "status": "completed"
    },
    "tags": []
   },
   "outputs": [
    {
     "name": "stdout",
     "output_type": "stream",
     "text": [
      "/kaggle/input/snips-dataset/train_data.csv\n",
      "/kaggle/input/snips-dataset/validate_data.csv\n",
      "/kaggle/input/atis-airlinetravelinformationsystem/atis_intents_train.csv\n",
      "/kaggle/input/atis-airlinetravelinformationsystem/atis_intents.csv\n",
      "/kaggle/input/atis-airlinetravelinformationsystem/atis_intents_test.csv\n"
     ]
    }
   ],
   "source": [
    "import numpy as np # linear algebra\n",
    "import pandas as pd # data processing, CSV file I/O (e.g. pd.read_csv)\n",
    "\n",
    "import os\n",
    "for dirname, _, filenames in os.walk('/kaggle/input'):\n",
    "    for filename in filenames:\n",
    "        print(os.path.join(dirname, filename))"
   ]
  },
  {
   "cell_type": "code",
   "execution_count": 2,
   "id": "1b2b13cf",
   "metadata": {
    "execution": {
     "iopub.execute_input": "2024-06-01T14:44:39.988443Z",
     "iopub.status.busy": "2024-06-01T14:44:39.988044Z",
     "iopub.status.idle": "2024-06-01T14:44:47.693730Z",
     "shell.execute_reply": "2024-06-01T14:44:47.692936Z"
    },
    "papermill": {
     "duration": 7.717476,
     "end_time": "2024-06-01T14:44:47.696120",
     "exception": false,
     "start_time": "2024-06-01T14:44:39.978644",
     "status": "completed"
    },
    "tags": []
   },
   "outputs": [],
   "source": [
    "import torch\n",
    "from torch.utils.data import Dataset, DataLoader\n",
    "from transformers import BertTokenizer, BertForSequenceClassification, AdamW\n",
    "from sklearn.metrics import confusion_matrix, accuracy_score"
   ]
  },
  {
   "cell_type": "code",
   "execution_count": 3,
   "id": "cf320cec",
   "metadata": {
    "execution": {
     "iopub.execute_input": "2024-06-01T14:44:47.715424Z",
     "iopub.status.busy": "2024-06-01T14:44:47.714526Z",
     "iopub.status.idle": "2024-06-01T14:44:48.525397Z",
     "shell.execute_reply": "2024-06-01T14:44:48.524329Z"
    },
    "papermill": {
     "duration": 0.822454,
     "end_time": "2024-06-01T14:44:48.527463",
     "exception": false,
     "start_time": "2024-06-01T14:44:47.705009",
     "status": "completed"
    },
    "tags": []
   },
   "outputs": [
    {
     "name": "stdout",
     "output_type": "stream",
     "text": [
      "[nltk_data] Downloading package punkt to /usr/share/nltk_data...\n",
      "[nltk_data]   Package punkt is already up-to-date!\n"
     ]
    },
    {
     "data": {
      "text/plain": [
       "True"
      ]
     },
     "execution_count": 3,
     "metadata": {},
     "output_type": "execute_result"
    }
   ],
   "source": [
    "import nltk\n",
    "from nltk.tokenize import word_tokenize\n",
    "from sklearn.feature_extraction.text import TfidfVectorizer\n",
    "from sklearn.preprocessing import LabelEncoder\n",
    "from torch.utils.data import Dataset, DataLoader\n",
    "import torch\n",
    "from torch import nn\n",
    "import timeit\n",
    "from sklearn.model_selection import train_test_split\n",
    "from sklearn.metrics import precision_recall_fscore_support, balanced_accuracy_score\n",
    "from tqdm import tqdm\n",
    "import matplotlib.pyplot as plt\n",
    "from sklearn.metrics import confusion_matrix, accuracy_score\n",
    "import matplotlib.pyplot as plt\n",
    "import seaborn as sns\n",
    "\n",
    "nltk.download('punkt')"
   ]
  },
  {
   "cell_type": "code",
   "execution_count": 4,
   "id": "8c31373a",
   "metadata": {
    "execution": {
     "iopub.execute_input": "2024-06-01T14:44:48.547139Z",
     "iopub.status.busy": "2024-06-01T14:44:48.546850Z",
     "iopub.status.idle": "2024-06-01T14:44:48.648872Z",
     "shell.execute_reply": "2024-06-01T14:44:48.647578Z"
    },
    "papermill": {
     "duration": 0.114879,
     "end_time": "2024-06-01T14:44:48.651457",
     "exception": false,
     "start_time": "2024-06-01T14:44:48.536578",
     "status": "completed"
    },
    "tags": []
   },
   "outputs": [
    {
     "name": "stdout",
     "output_type": "stream",
     "text": [
      "intent\n",
      "atis_flight                                 73.869079\n",
      "atis_airfare                                 8.621607\n",
      "atis_ground_service                          5.082491\n",
      "atis_airline                                 3.113358\n",
      "atis_abbreviation                            2.474721\n",
      "atis_aircraft                                1.676424\n",
      "atis_flight_time                             1.117616\n",
      "atis_quantity                                1.091006\n",
      "atis_distance                                0.425758\n",
      "atis_flight#atis_airfare                     0.399148\n",
      "atis_ground_fare                             0.372539\n",
      "atis_airport                                 0.372539\n",
      "atis_city                                    0.372539\n",
      "atis_capacity                                0.345929\n",
      "atis_flight_no                               0.266099\n",
      "atis_meal                                    0.133049\n",
      "atis_restriction                             0.106440\n",
      "atis_airline#atis_flight_no                  0.053220\n",
      "atis_ground_service#atis_ground_fare         0.026610\n",
      "atis_airfare#atis_flight_time                0.026610\n",
      "atis_cheapest                                0.026610\n",
      "atis_aircraft#atis_flight#atis_flight_no     0.026610\n",
      "Name: proportion, dtype: float64 22 21\n",
      "intent\n",
      "atis_flight                                 73.869079\n",
      "atis_airfare                                 8.621607\n",
      "atis_ground_service                          5.082491\n",
      "atis_airline                                 3.113358\n",
      "atis_abbreviation                            2.474721\n",
      "atis_aircraft                                1.676424\n",
      "atis_flight_time                             1.117616\n",
      "atis_quantity                                1.091006\n",
      "atis_distance                                0.425758\n",
      "atis_flight#atis_airfare                     0.399148\n",
      "atis_ground_fare                             0.372539\n",
      "atis_airport                                 0.372539\n",
      "atis_city                                    0.372539\n",
      "atis_capacity                                0.345929\n",
      "atis_flight_no                               0.266099\n",
      "atis_meal                                    0.133049\n",
      "atis_restriction                             0.106440\n",
      "atis_airline#atis_flight_no                  0.053220\n",
      "atis_ground_service#atis_ground_fare         0.026610\n",
      "atis_airfare#atis_flight_time                0.026610\n",
      "atis_cheapest                                0.026610\n",
      "atis_aircraft#atis_flight#atis_flight_no     0.026610\n",
      "Name: proportion, dtype: float64 22 22\n"
     ]
    }
   ],
   "source": [
    "# Путь к файлу CSV\n",
    "data_path = \"/kaggle/input/atis-airlinetravelinformationsystem/atis_intents.csv\"\n",
    "train_data_path = \"/kaggle/input/atis-airlinetravelinformationsystem/atis_intents_train.csv\"\n",
    "test_data_path = \"/kaggle/input/atis-airlinetravelinformationsystem/atis_intents_test.csv\"\n",
    "\n",
    "# Чтение данных из CSV-файлов\n",
    "data = pd.read_csv(data_path)\n",
    "train_data = pd.read_csv(train_data_path)\n",
    "test_data = pd.read_csv(test_data_path)\n",
    "\n",
    "data = data.rename(columns={'atis_flight': 'intent', ' i want to fly from boston at 838 am and arrive in denver at 1110 in the morning': 'text'})\n",
    "lost_intent = {'intent': 'atis_flight', 'text': 'i want to fly from boston at 838 am and arrive in denver at 1110 in the morning'}\n",
    "data = pd.concat([data, pd.DataFrame([lost_intent])], ignore_index=True)\n",
    "\n",
    "# Find classes with only one sample\n",
    "class_counts = data['intent'].value_counts()\n",
    "single_sample_classes = class_counts[class_counts == 1].index.tolist()\n",
    "\n",
    "# Separate single sample classes\n",
    "single_sample_data = data[data['intent'].isin(single_sample_classes)]\n",
    "multiple_sample_data = data[~data['intent'].isin(single_sample_classes)]\n",
    "\n",
    "# train, test = train_test_split(data, test_size=0.2, random_state=42, stratify=data['intent'])\n",
    "# Perform stratified split on multiple sample data\n",
    "train_multiple, test_multiple = train_test_split(multiple_sample_data, test_size=0.2, random_state=42, stratify=multiple_sample_data['intent'])\n",
    "\n",
    "# Add single sample data to both train and test sets to ensure all classes are present\n",
    "train = pd.concat([train_multiple, single_sample_data]).reset_index(drop=True)\n",
    "test = pd.concat([test_multiple, single_sample_data]).reset_index(drop=True)\n",
    "\n",
    "# Ensure no duplicates in train and test sets\n",
    "train = train.drop_duplicates().reset_index(drop=True)\n",
    "test = test.drop_duplicates().reset_index(drop=True)\n",
    "\n",
    "unique_values_normalized = train['intent'].value_counts(normalize=True)\n",
    "unique_values_normalized_test = test['intent'].value_counts(normalize=True)\n",
    "print(unique_values_normalized*100, len(unique_values_normalized), len(unique_values_normalized_test))\n",
    "\n",
    "# Check for missing classes and ensure all classes are present\n",
    "train_classes = set(train['intent'])\n",
    "test_classes = set(test['intent'])\n",
    "all_classes = set(data['intent'])\n",
    "\n",
    "# Find missing classes in train and test sets\n",
    "missing_train_classes = all_classes - train_classes\n",
    "missing_test_classes = all_classes - test_classes\n",
    "\n",
    "# Add missing classes examples to train and test sets\n",
    "if missing_train_classes:\n",
    "    missing_train_data = data[data['intent'].isin(missing_train_classes)]\n",
    "    train = pd.concat([train, missing_train_data])\n",
    "    train = train.drop_duplicates().reset_index(drop=True)\n",
    "\n",
    "if missing_test_classes:\n",
    "    missing_test_data = data[data['intent'].isin(missing_test_classes)]\n",
    "    test = pd.concat([test, missing_test_data])\n",
    "    test = test.drop_duplicates().reset_index(drop=True)\n",
    "\n",
    "# Print unique value proportions\n",
    "unique_values_normalized = train['intent'].value_counts(normalize=True)\n",
    "unique_values_normalized_test = test['intent'].value_counts(normalize=True)\n",
    "print(unique_values_normalized * 100, len(unique_values_normalized), len(unique_values_normalized_test)) "
   ]
  },
  {
   "cell_type": "code",
   "execution_count": 5,
   "id": "e6c3f786",
   "metadata": {
    "execution": {
     "iopub.execute_input": "2024-06-01T14:44:48.672400Z",
     "iopub.status.busy": "2024-06-01T14:44:48.672101Z",
     "iopub.status.idle": "2024-06-01T14:44:48.676464Z",
     "shell.execute_reply": "2024-06-01T14:44:48.675535Z"
    },
    "papermill": {
     "duration": 0.016716,
     "end_time": "2024-06-01T14:44:48.678428",
     "exception": false,
     "start_time": "2024-06-01T14:44:48.661712",
     "status": "completed"
    },
    "tags": []
   },
   "outputs": [],
   "source": [
    "# # Путь к файлу CSV\n",
    "# train_data_path = \"/kaggle/input/snips-dataset/train_data.csv\"\n",
    "# validate_data_path = \"/kaggle/input/snips-dataset/validate_data.csv\"\n",
    "\n",
    "# # Чтение данных из CSV-файлов\n",
    "# train_data = pd.read_csv(train_data_path)\n",
    "# validate_data = pd.read_csv(validate_data_path)\n",
    "\n",
    "# # Вывод первых 5 строк каждого DataFrame\n",
    "# print(\"Train data:\")\n",
    "# print(train_data.head())\n",
    "# print(\"\\nValidate data:\")\n",
    "# print(validate_data.head())"
   ]
  },
  {
   "cell_type": "code",
   "execution_count": 6,
   "id": "daea5cea",
   "metadata": {
    "execution": {
     "iopub.execute_input": "2024-06-01T14:44:48.698988Z",
     "iopub.status.busy": "2024-06-01T14:44:48.698617Z",
     "iopub.status.idle": "2024-06-01T14:44:48.702469Z",
     "shell.execute_reply": "2024-06-01T14:44:48.701649Z"
    },
    "papermill": {
     "duration": 0.016512,
     "end_time": "2024-06-01T14:44:48.704383",
     "exception": false,
     "start_time": "2024-06-01T14:44:48.687871",
     "status": "completed"
    },
    "tags": []
   },
   "outputs": [],
   "source": [
    "# unique_values_normalized = train_data['intent'].value_counts(normalize=True)\n",
    "# print(unique_values_normalized)"
   ]
  },
  {
   "cell_type": "code",
   "execution_count": 7,
   "id": "7a6e0e2b",
   "metadata": {
    "execution": {
     "iopub.execute_input": "2024-06-01T14:44:48.724096Z",
     "iopub.status.busy": "2024-06-01T14:44:48.723841Z",
     "iopub.status.idle": "2024-06-01T14:44:48.727375Z",
     "shell.execute_reply": "2024-06-01T14:44:48.726529Z"
    },
    "papermill": {
     "duration": 0.014997,
     "end_time": "2024-06-01T14:44:48.729263",
     "exception": false,
     "start_time": "2024-06-01T14:44:48.714266",
     "status": "completed"
    },
    "tags": []
   },
   "outputs": [],
   "source": [
    "# train_data = train_data.drop('entity', axis=1)\n",
    "# validate_data = validate_data.drop('entity', axis=1)"
   ]
  },
  {
   "cell_type": "code",
   "execution_count": 8,
   "id": "c30a594a",
   "metadata": {
    "execution": {
     "iopub.execute_input": "2024-06-01T14:44:48.747723Z",
     "iopub.status.busy": "2024-06-01T14:44:48.747451Z",
     "iopub.status.idle": "2024-06-01T14:44:48.751024Z",
     "shell.execute_reply": "2024-06-01T14:44:48.750128Z"
    },
    "papermill": {
     "duration": 0.014915,
     "end_time": "2024-06-01T14:44:48.752886",
     "exception": false,
     "start_time": "2024-06-01T14:44:48.737971",
     "status": "completed"
    },
    "tags": []
   },
   "outputs": [],
   "source": [
    "# # Удалите строки, где столбец 'column_name' пуст\n",
    "# train_data = train_data.dropna(subset=['text'])\n",
    "# validate_data = validate_data.dropna(subset=['text'])"
   ]
  },
  {
   "cell_type": "code",
   "execution_count": 9,
   "id": "c66a2492",
   "metadata": {
    "execution": {
     "iopub.execute_input": "2024-06-01T14:44:48.771485Z",
     "iopub.status.busy": "2024-06-01T14:44:48.771209Z",
     "iopub.status.idle": "2024-06-01T14:44:48.775378Z",
     "shell.execute_reply": "2024-06-01T14:44:48.774548Z"
    },
    "papermill": {
     "duration": 0.015426,
     "end_time": "2024-06-01T14:44:48.777112",
     "exception": false,
     "start_time": "2024-06-01T14:44:48.761686",
     "status": "completed"
    },
    "tags": []
   },
   "outputs": [],
   "source": [
    "# # Подсчитываем количество примеров для каждого класса\n",
    "# class_counts = train_data['intent'].value_counts()\n",
    "\n",
    "# # Находим класс с наименьшим количеством примеров\n",
    "# min_class = class_counts.idxmin()\n",
    "# min_class_count = class_counts.min()\n",
    "\n",
    "# # Делаем undersampling для всех остальных классов\n",
    "# balanced_data = train_data[train_data['intent'] == min_class]\n",
    "# for intent in class_counts.index:\n",
    "#     if intent != min_class:\n",
    "#         samples = train_data[train_data['intent'] == intent].sample(min_class_count)\n",
    "#         balanced_data = pd.concat([balanced_data, samples], axis=0)\n",
    "\n",
    "# # Теперь в balanced_data примеры каждого класса представлены в одинаковом количестве"
   ]
  },
  {
   "cell_type": "code",
   "execution_count": 10,
   "id": "5f81eefd",
   "metadata": {
    "execution": {
     "iopub.execute_input": "2024-06-01T14:44:48.795377Z",
     "iopub.status.busy": "2024-06-01T14:44:48.795116Z",
     "iopub.status.idle": "2024-06-01T14:44:48.798639Z",
     "shell.execute_reply": "2024-06-01T14:44:48.797896Z"
    },
    "papermill": {
     "duration": 0.014642,
     "end_time": "2024-06-01T14:44:48.800434",
     "exception": false,
     "start_time": "2024-06-01T14:44:48.785792",
     "status": "completed"
    },
    "tags": []
   },
   "outputs": [],
   "source": [
    "# balanced_data = train_data"
   ]
  },
  {
   "cell_type": "code",
   "execution_count": 11,
   "id": "41942666",
   "metadata": {
    "execution": {
     "iopub.execute_input": "2024-06-01T14:44:48.818997Z",
     "iopub.status.busy": "2024-06-01T14:44:48.818733Z",
     "iopub.status.idle": "2024-06-01T14:44:48.822330Z",
     "shell.execute_reply": "2024-06-01T14:44:48.821543Z"
    },
    "papermill": {
     "duration": 0.015078,
     "end_time": "2024-06-01T14:44:48.824227",
     "exception": false,
     "start_time": "2024-06-01T14:44:48.809149",
     "status": "completed"
    },
    "tags": []
   },
   "outputs": [],
   "source": [
    "# balanced_data.info()"
   ]
  },
  {
   "cell_type": "code",
   "execution_count": 12,
   "id": "d9ee697e",
   "metadata": {
    "execution": {
     "iopub.execute_input": "2024-06-01T14:44:48.843424Z",
     "iopub.status.busy": "2024-06-01T14:44:48.843121Z",
     "iopub.status.idle": "2024-06-01T14:44:50.337371Z",
     "shell.execute_reply": "2024-06-01T14:44:50.336599Z"
    },
    "papermill": {
     "duration": 1.50634,
     "end_time": "2024-06-01T14:44:50.339506",
     "exception": false,
     "start_time": "2024-06-01T14:44:48.833166",
     "status": "completed"
    },
    "tags": []
   },
   "outputs": [
    {
     "data": {
      "application/vnd.jupyter.widget-view+json": {
       "model_id": "a504809f5f3148da838aa02457a4720a",
       "version_major": 2,
       "version_minor": 0
      },
      "text/plain": [
       "tokenizer_config.json:   0%|          | 0.00/48.0 [00:00<?, ?B/s]"
      ]
     },
     "metadata": {},
     "output_type": "display_data"
    },
    {
     "data": {
      "application/vnd.jupyter.widget-view+json": {
       "model_id": "f1c152feac514397815d3c4bf8970309",
       "version_major": 2,
       "version_minor": 0
      },
      "text/plain": [
       "vocab.txt:   0%|          | 0.00/232k [00:00<?, ?B/s]"
      ]
     },
     "metadata": {},
     "output_type": "display_data"
    },
    {
     "data": {
      "application/vnd.jupyter.widget-view+json": {
       "model_id": "4d09d0b8c4354320bf524564f3b926a8",
       "version_major": 2,
       "version_minor": 0
      },
      "text/plain": [
       "tokenizer.json:   0%|          | 0.00/466k [00:00<?, ?B/s]"
      ]
     },
     "metadata": {},
     "output_type": "display_data"
    },
    {
     "data": {
      "application/vnd.jupyter.widget-view+json": {
       "model_id": "45f22c64c8ad473ab5117f0a8211923e",
       "version_major": 2,
       "version_minor": 0
      },
      "text/plain": [
       "config.json:   0%|          | 0.00/483 [00:00<?, ?B/s]"
      ]
     },
     "metadata": {},
     "output_type": "display_data"
    }
   ],
   "source": [
    "from transformers import DistilBertTokenizer\n",
    "tokenizer = DistilBertTokenizer.from_pretrained('distilbert-base-uncased')\n"
   ]
  },
  {
   "cell_type": "code",
   "execution_count": 13,
   "id": "3d983611",
   "metadata": {
    "execution": {
     "iopub.execute_input": "2024-06-01T14:44:50.360109Z",
     "iopub.status.busy": "2024-06-01T14:44:50.359597Z",
     "iopub.status.idle": "2024-06-01T14:44:50.363524Z",
     "shell.execute_reply": "2024-06-01T14:44:50.362742Z"
    },
    "papermill": {
     "duration": 0.01625,
     "end_time": "2024-06-01T14:44:50.365539",
     "exception": false,
     "start_time": "2024-06-01T14:44:50.349289",
     "status": "completed"
    },
    "tags": []
   },
   "outputs": [],
   "source": [
    "from torch.nn import CrossEntropyLoss"
   ]
  },
  {
   "cell_type": "code",
   "execution_count": 14,
   "id": "ff8b5c56",
   "metadata": {
    "execution": {
     "iopub.execute_input": "2024-06-01T14:44:50.385980Z",
     "iopub.status.busy": "2024-06-01T14:44:50.385703Z",
     "iopub.status.idle": "2024-06-01T14:44:50.393024Z",
     "shell.execute_reply": "2024-06-01T14:44:50.392170Z"
    },
    "papermill": {
     "duration": 0.019828,
     "end_time": "2024-06-01T14:44:50.394916",
     "exception": false,
     "start_time": "2024-06-01T14:44:50.375088",
     "status": "completed"
    },
    "tags": []
   },
   "outputs": [],
   "source": [
    "class IntentClassificationDataset(Dataset):\n",
    "    def __init__(self, texts, labels, tokenizer, max_len):\n",
    "        self.texts = texts\n",
    "        self.labels = labels\n",
    "        self.tokenizer = tokenizer\n",
    "        self.max_len = max_len\n",
    "\n",
    "    def __len__(self):\n",
    "        return len(self.texts)\n",
    "\n",
    "    def __getitem__(self, item):\n",
    "        text = str(self.texts[item])\n",
    "        label = self.labels[item]\n",
    "\n",
    "        encoding = self.tokenizer.encode_plus(\n",
    "            text,\n",
    "            add_special_tokens=True,\n",
    "            max_length=self.max_len,\n",
    "            return_token_type_ids=False,\n",
    "            padding='max_length',\n",
    "            return_attention_mask=True,\n",
    "            return_tensors='pt',\n",
    "        )\n",
    "\n",
    "        return {\n",
    "            'text': text,\n",
    "            'input_ids': encoding['input_ids'].flatten(),\n",
    "            'attention_mask': encoding['attention_mask'].flatten(),\n",
    "            'labels': torch.tensor(label, dtype=torch.long)\n",
    "        }"
   ]
  },
  {
   "cell_type": "code",
   "execution_count": 15,
   "id": "3fa61d12",
   "metadata": {
    "execution": {
     "iopub.execute_input": "2024-06-01T14:44:50.415368Z",
     "iopub.status.busy": "2024-06-01T14:44:50.414714Z",
     "iopub.status.idle": "2024-06-01T14:44:50.422856Z",
     "shell.execute_reply": "2024-06-01T14:44:50.422044Z"
    },
    "papermill": {
     "duration": 0.020309,
     "end_time": "2024-06-01T14:44:50.424654",
     "exception": false,
     "start_time": "2024-06-01T14:44:50.404345",
     "status": "completed"
    },
    "tags": []
   },
   "outputs": [],
   "source": [
    "class EarlyStopping:\n",
    "    def __init__(self, patience=2, verbose=False, delta=0):\n",
    "        self.patience = patience\n",
    "        self.verbose = verbose\n",
    "        self.counter = 0\n",
    "        self.best_score = None\n",
    "        self.early_stop = False\n",
    "        self.val_loss_min = np.Inf\n",
    "        self.delta = delta\n",
    "\n",
    "    def __call__(self, val_loss, model):\n",
    "\n",
    "        score = -val_loss\n",
    "\n",
    "        if self.best_score is None:\n",
    "            self.best_score = score\n",
    "            self.save_checkpoint(val_loss, model)\n",
    "        elif score < self.best_score + self.delta:\n",
    "            self.counter += 1\n",
    "            print(f'EarlyStopping counter: {self.counter} out of {self.patience}')\n",
    "            if self.counter >= self.patience:\n",
    "                self.early_stop = True\n",
    "        else:\n",
    "            self.best_score = score\n",
    "            self.save_checkpoint(val_loss, model)\n",
    "            self.counter = 0\n",
    "\n",
    "    def save_checkpoint(self, val_loss, model):\n",
    "        if self.verbose:\n",
    "            print(f'Validation loss decreased ({self.val_loss_min:.6f} --> {val_loss:.6f}).  Saving model ...')\n",
    "        torch.save(model.state_dict(), 'checkpoint.pt')\n",
    "        self.val_loss_min = val_loss\n"
   ]
  },
  {
   "cell_type": "code",
   "execution_count": 16,
   "id": "f4bfc546",
   "metadata": {
    "execution": {
     "iopub.execute_input": "2024-06-01T14:44:50.445215Z",
     "iopub.status.busy": "2024-06-01T14:44:50.444938Z",
     "iopub.status.idle": "2024-06-01T14:44:50.456393Z",
     "shell.execute_reply": "2024-06-01T14:44:50.455462Z"
    },
    "papermill": {
     "duration": 0.024011,
     "end_time": "2024-06-01T14:44:50.458426",
     "exception": false,
     "start_time": "2024-06-01T14:44:50.434415",
     "status": "completed"
    },
    "tags": []
   },
   "outputs": [],
   "source": [
    "from torch import nn\n",
    "from transformers import DistilBertModel\n",
    "\n",
    "class CustomDistilBertModel(nn.Module):\n",
    "    def __init__(self, num_labels):\n",
    "        super(CustomDistilBertModel, self).__init__()\n",
    "        self.distilbert = DistilBertModel.from_pretrained('distilbert-base-uncased')\n",
    "        self.dropout = nn.Dropout(0.1)\n",
    "        self.fc1 = nn.Linear(768, 512)\n",
    "        self.fc2 = nn.Linear(512, num_labels)\n",
    "\n",
    "    def forward(self, input_ids, attention_mask):\n",
    "        output = self.distilbert(input_ids=input_ids, attention_mask=attention_mask)\n",
    "        pooled_output = output[0][:, 0]\n",
    "        output = self.dropout(pooled_output)\n",
    "        output = self.fc1(output)\n",
    "        output = nn.Tanh()(output)\n",
    "        output = self.dropout(output)\n",
    "        output = self.fc2(output)\n",
    "        return output\n",
    "\n"
   ]
  },
  {
   "cell_type": "code",
   "execution_count": 17,
   "id": "8b7038b5",
   "metadata": {
    "execution": {
     "iopub.execute_input": "2024-06-01T14:44:50.478470Z",
     "iopub.status.busy": "2024-06-01T14:44:50.478199Z",
     "iopub.status.idle": "2024-06-01T14:44:50.484738Z",
     "shell.execute_reply": "2024-06-01T14:44:50.483909Z"
    },
    "papermill": {
     "duration": 0.018589,
     "end_time": "2024-06-01T14:44:50.486507",
     "exception": false,
     "start_time": "2024-06-01T14:44:50.467918",
     "status": "completed"
    },
    "tags": []
   },
   "outputs": [],
   "source": [
    "# Преобразование меток в числовой формат\n",
    "unique_intents = train['intent'].unique().tolist()\n",
    "intent_mapping = {intent: i for i, intent in enumerate(unique_intents)}\n",
    "train_labels = [intent_mapping[intent] for intent in train['intent']]\n",
    "test_labels = [intent_mapping[intent] for intent in test['intent']]"
   ]
  },
  {
   "cell_type": "code",
   "execution_count": 18,
   "id": "883ea7b3",
   "metadata": {
    "execution": {
     "iopub.execute_input": "2024-06-01T14:44:50.506467Z",
     "iopub.status.busy": "2024-06-01T14:44:50.506224Z",
     "iopub.status.idle": "2024-06-01T14:44:50.511938Z",
     "shell.execute_reply": "2024-06-01T14:44:50.511136Z"
    },
    "papermill": {
     "duration": 0.017592,
     "end_time": "2024-06-01T14:44:50.513841",
     "exception": false,
     "start_time": "2024-06-01T14:44:50.496249",
     "status": "completed"
    },
    "tags": []
   },
   "outputs": [],
   "source": [
    "# Создание наборов данных PyTorch\n",
    "max_len = 128\n",
    "batch_size = 16 #16\n",
    "train_dataset = IntentClassificationDataset(train['text'].tolist(), train_labels, tokenizer, max_len)\n",
    "test_dataset = IntentClassificationDataset(test['text'].tolist(), test_labels, tokenizer, max_len)\n",
    "\n",
    "train_data_loader = DataLoader(train_dataset, batch_size=batch_size, shuffle=True)\n",
    "test_data_loader = DataLoader(test_dataset, batch_size=batch_size, shuffle=False)\n"
   ]
  },
  {
   "cell_type": "code",
   "execution_count": 19,
   "id": "fba10efc",
   "metadata": {
    "execution": {
     "iopub.execute_input": "2024-06-01T14:44:50.533466Z",
     "iopub.status.busy": "2024-06-01T14:44:50.533213Z",
     "iopub.status.idle": "2024-06-01T14:44:52.563995Z",
     "shell.execute_reply": "2024-06-01T14:44:52.563177Z"
    },
    "papermill": {
     "duration": 2.042927,
     "end_time": "2024-06-01T14:44:52.566129",
     "exception": false,
     "start_time": "2024-06-01T14:44:50.523202",
     "status": "completed"
    },
    "tags": []
   },
   "outputs": [
    {
     "data": {
      "application/vnd.jupyter.widget-view+json": {
       "model_id": "0b04d3fb226d4dfcbabbdd483f3f5b38",
       "version_major": 2,
       "version_minor": 0
      },
      "text/plain": [
       "model.safetensors:   0%|          | 0.00/268M [00:00<?, ?B/s]"
      ]
     },
     "metadata": {},
     "output_type": "display_data"
    },
    {
     "name": "stderr",
     "output_type": "stream",
     "text": [
      "/opt/conda/lib/python3.10/site-packages/transformers/optimization.py:457: FutureWarning: This implementation of AdamW is deprecated and will be removed in a future version. Use the PyTorch implementation torch.optim.AdamW instead, or set `no_deprecation_warning=True` to disable this warning\n",
      "  warnings.warn(\n"
     ]
    }
   ],
   "source": [
    "from transformers import DistilBertForSequenceClassification, AdamW\n",
    "import torch\n",
    "\n",
    "# Загрузка модели DistilBERT\n",
    "# model = DistilBertForSequenceClassification.from_pretrained('distilbert-base-uncased', num_labels=len(unique_intents))\n",
    "model = CustomDistilBertModel(num_labels=len(unique_intents))\n",
    "\n",
    "# Компиляция модели\n",
    "optimizer = AdamW(model.parameters(), lr=5e-5, weight_decay=0.01)\n",
    "\n",
    "device = torch.device(\"cuda\" if torch.cuda.is_available() else \"cpu\")\n",
    "model = model.to(device)"
   ]
  },
  {
   "cell_type": "code",
   "execution_count": 20,
   "id": "40996f91",
   "metadata": {
    "execution": {
     "iopub.execute_input": "2024-06-01T14:44:52.587170Z",
     "iopub.status.busy": "2024-06-01T14:44:52.586886Z",
     "iopub.status.idle": "2024-06-01T14:44:52.591066Z",
     "shell.execute_reply": "2024-06-01T14:44:52.590186Z"
    },
    "papermill": {
     "duration": 0.016987,
     "end_time": "2024-06-01T14:44:52.593069",
     "exception": false,
     "start_time": "2024-06-01T14:44:52.576082",
     "status": "completed"
    },
    "tags": []
   },
   "outputs": [],
   "source": [
    "# Создание экземпляра класса EarlyStopping\n",
    "early_stopping = EarlyStopping(patience=5, verbose=True)"
   ]
  },
  {
   "cell_type": "code",
   "execution_count": 21,
   "id": "798a4af2",
   "metadata": {
    "execution": {
     "iopub.execute_input": "2024-06-01T14:44:52.613991Z",
     "iopub.status.busy": "2024-06-01T14:44:52.613699Z",
     "iopub.status.idle": "2024-06-01T14:44:52.617485Z",
     "shell.execute_reply": "2024-06-01T14:44:52.616669Z"
    },
    "papermill": {
     "duration": 0.016623,
     "end_time": "2024-06-01T14:44:52.619463",
     "exception": false,
     "start_time": "2024-06-01T14:44:52.602840",
     "status": "completed"
    },
    "tags": []
   },
   "outputs": [],
   "source": [
    "# # Замораживаем все параметры модели\n",
    "# for param in model.parameters():\n",
    "#     param.requires_grad = False\n",
    "\n",
    "# # Размораживаем параметры последнего слоя\n",
    "# for param in model.classifier.parameters():\n",
    "#     param.requires_grad = True\n"
   ]
  },
  {
   "cell_type": "code",
   "execution_count": 22,
   "id": "75903e6c",
   "metadata": {
    "execution": {
     "iopub.execute_input": "2024-06-01T14:44:52.640018Z",
     "iopub.status.busy": "2024-06-01T14:44:52.639753Z",
     "iopub.status.idle": "2024-06-01T14:44:52.643802Z",
     "shell.execute_reply": "2024-06-01T14:44:52.642985Z"
    },
    "papermill": {
     "duration": 0.016446,
     "end_time": "2024-06-01T14:44:52.645597",
     "exception": false,
     "start_time": "2024-06-01T14:44:52.629151",
     "status": "completed"
    },
    "tags": []
   },
   "outputs": [],
   "source": [
    "from sklearn.metrics import accuracy_score, recall_score, f1_score\n",
    "import matplotlib.pyplot as plt\n",
    "# from torch.nn import CrossEntropyLoss"
   ]
  },
  {
   "cell_type": "code",
   "execution_count": 23,
   "id": "02db1760",
   "metadata": {
    "execution": {
     "iopub.execute_input": "2024-06-01T14:44:52.665869Z",
     "iopub.status.busy": "2024-06-01T14:44:52.665563Z",
     "iopub.status.idle": "2024-06-01T14:49:13.361009Z",
     "shell.execute_reply": "2024-06-01T14:49:13.360143Z"
    },
    "papermill": {
     "duration": 260.708048,
     "end_time": "2024-06-01T14:49:13.363073",
     "exception": false,
     "start_time": "2024-06-01T14:44:52.655025",
     "status": "completed"
    },
    "tags": []
   },
   "outputs": [
    {
     "name": "stderr",
     "output_type": "stream",
     "text": [
      "Epoch 1: 100%|██████████| 235/235 [00:23<00:00,  9.87it/s]\n"
     ]
    },
    {
     "name": "stdout",
     "output_type": "stream",
     "text": [
      "Epoch: 1, Train Loss: 0.4828\n"
     ]
    },
    {
     "name": "stderr",
     "output_type": "stream",
     "text": [
      "Validation Epoch 1: 100%|██████████| 62/62 [00:02<00:00, 24.83it/s]\n"
     ]
    },
    {
     "name": "stdout",
     "output_type": "stream",
     "text": [
      "Average validation loss:  0.2533695354396778\n",
      "Validation loss decreased (inf --> 0.253370).  Saving model ...\n"
     ]
    },
    {
     "name": "stderr",
     "output_type": "stream",
     "text": [
      "Epoch 2: 100%|██████████| 235/235 [00:23<00:00, 10.15it/s]\n"
     ]
    },
    {
     "name": "stdout",
     "output_type": "stream",
     "text": [
      "Epoch: 2, Train Loss: 0.1104\n"
     ]
    },
    {
     "name": "stderr",
     "output_type": "stream",
     "text": [
      "Validation Epoch 2: 100%|██████████| 62/62 [00:02<00:00, 24.95it/s]\n"
     ]
    },
    {
     "name": "stdout",
     "output_type": "stream",
     "text": [
      "Average validation loss:  0.20320078403118155\n",
      "Validation loss decreased (0.253370 --> 0.203201).  Saving model ...\n"
     ]
    },
    {
     "name": "stderr",
     "output_type": "stream",
     "text": [
      "Epoch 3: 100%|██████████| 235/235 [00:23<00:00, 10.14it/s]\n"
     ]
    },
    {
     "name": "stdout",
     "output_type": "stream",
     "text": [
      "Epoch: 3, Train Loss: 0.0501\n"
     ]
    },
    {
     "name": "stderr",
     "output_type": "stream",
     "text": [
      "Validation Epoch 3: 100%|██████████| 62/62 [00:02<00:00, 25.13it/s]\n"
     ]
    },
    {
     "name": "stdout",
     "output_type": "stream",
     "text": [
      "Average validation loss:  0.16337417670705867\n",
      "Validation loss decreased (0.203201 --> 0.163374).  Saving model ...\n"
     ]
    },
    {
     "name": "stderr",
     "output_type": "stream",
     "text": [
      "Epoch 4: 100%|██████████| 235/235 [00:23<00:00, 10.15it/s]\n"
     ]
    },
    {
     "name": "stdout",
     "output_type": "stream",
     "text": [
      "Epoch: 4, Train Loss: 0.0476\n"
     ]
    },
    {
     "name": "stderr",
     "output_type": "stream",
     "text": [
      "Validation Epoch 4: 100%|██████████| 62/62 [00:02<00:00, 24.87it/s]\n"
     ]
    },
    {
     "name": "stdout",
     "output_type": "stream",
     "text": [
      "Average validation loss:  0.17564557736829645\n",
      "EarlyStopping counter: 1 out of 5\n"
     ]
    },
    {
     "name": "stderr",
     "output_type": "stream",
     "text": [
      "Epoch 5: 100%|██████████| 235/235 [00:23<00:00, 10.16it/s]\n"
     ]
    },
    {
     "name": "stdout",
     "output_type": "stream",
     "text": [
      "Epoch: 5, Train Loss: 0.0284\n"
     ]
    },
    {
     "name": "stderr",
     "output_type": "stream",
     "text": [
      "Validation Epoch 5: 100%|██████████| 62/62 [00:02<00:00, 25.13it/s]\n"
     ]
    },
    {
     "name": "stdout",
     "output_type": "stream",
     "text": [
      "Average validation loss:  0.17181981991105263\n",
      "EarlyStopping counter: 2 out of 5\n"
     ]
    },
    {
     "name": "stderr",
     "output_type": "stream",
     "text": [
      "Epoch 6: 100%|██████████| 235/235 [00:23<00:00, 10.16it/s]\n"
     ]
    },
    {
     "name": "stdout",
     "output_type": "stream",
     "text": [
      "Epoch: 6, Train Loss: 0.0381\n"
     ]
    },
    {
     "name": "stderr",
     "output_type": "stream",
     "text": [
      "Validation Epoch 6: 100%|██████████| 62/62 [00:02<00:00, 24.70it/s]\n"
     ]
    },
    {
     "name": "stdout",
     "output_type": "stream",
     "text": [
      "Average validation loss:  0.15337680504401965\n",
      "Validation loss decreased (0.163374 --> 0.153377).  Saving model ...\n"
     ]
    },
    {
     "name": "stderr",
     "output_type": "stream",
     "text": [
      "Epoch 7: 100%|██████████| 235/235 [00:23<00:00, 10.16it/s]\n"
     ]
    },
    {
     "name": "stdout",
     "output_type": "stream",
     "text": [
      "Epoch: 7, Train Loss: 0.0274\n"
     ]
    },
    {
     "name": "stderr",
     "output_type": "stream",
     "text": [
      "Validation Epoch 7: 100%|██████████| 62/62 [00:02<00:00, 24.52it/s]\n"
     ]
    },
    {
     "name": "stdout",
     "output_type": "stream",
     "text": [
      "Average validation loss:  0.1462040726703802\n",
      "Validation loss decreased (0.153377 --> 0.146204).  Saving model ...\n"
     ]
    },
    {
     "name": "stderr",
     "output_type": "stream",
     "text": [
      "Epoch 8: 100%|██████████| 235/235 [00:23<00:00, 10.16it/s]\n"
     ]
    },
    {
     "name": "stdout",
     "output_type": "stream",
     "text": [
      "Epoch: 8, Train Loss: 0.0195\n"
     ]
    },
    {
     "name": "stderr",
     "output_type": "stream",
     "text": [
      "Validation Epoch 8: 100%|██████████| 62/62 [00:02<00:00, 25.14it/s]\n"
     ]
    },
    {
     "name": "stdout",
     "output_type": "stream",
     "text": [
      "Average validation loss:  0.14925088305232836\n",
      "EarlyStopping counter: 1 out of 5\n"
     ]
    },
    {
     "name": "stderr",
     "output_type": "stream",
     "text": [
      "Epoch 9: 100%|██████████| 235/235 [00:23<00:00, 10.16it/s]\n"
     ]
    },
    {
     "name": "stdout",
     "output_type": "stream",
     "text": [
      "Epoch: 9, Train Loss: 0.0195\n"
     ]
    },
    {
     "name": "stderr",
     "output_type": "stream",
     "text": [
      "Validation Epoch 9: 100%|██████████| 62/62 [00:02<00:00, 25.01it/s]\n"
     ]
    },
    {
     "name": "stdout",
     "output_type": "stream",
     "text": [
      "Average validation loss:  0.13099547611519455\n",
      "Validation loss decreased (0.146204 --> 0.130995).  Saving model ...\n"
     ]
    },
    {
     "name": "stderr",
     "output_type": "stream",
     "text": [
      "Epoch 10: 100%|██████████| 235/235 [00:23<00:00, 10.15it/s]\n"
     ]
    },
    {
     "name": "stdout",
     "output_type": "stream",
     "text": [
      "Epoch: 10, Train Loss: 0.0156\n"
     ]
    },
    {
     "name": "stderr",
     "output_type": "stream",
     "text": [
      "Validation Epoch 10: 100%|██████████| 62/62 [00:02<00:00, 24.99it/s]\n"
     ]
    },
    {
     "name": "stdout",
     "output_type": "stream",
     "text": [
      "Average validation loss:  0.13573709831032302\n",
      "EarlyStopping counter: 1 out of 5\n"
     ]
    },
    {
     "data": {
      "image/png": "[encoded data removed]",
      "text/plain": [
       "<Figure size 640x480 with 1 Axes>"
      ]
     },
     "metadata": {},
     "output_type": "display_data"
    }
   ],
   "source": [
    "# Количество эпох\n",
    "n_epochs = 10\n",
    "\n",
    "# Списки для хранения значений потерь и метрик на каждой эпохе\n",
    "loss_values = []\n",
    "val_loss_values = []  # список для потерь валидации\n",
    "acc_values = []\n",
    "rec_values = []\n",
    "f1_values = []\n",
    "\n",
    "\n",
    "for epoch in range(n_epochs):\n",
    "    model.train()\n",
    "    total_loss = 0\n",
    "\n",
    "    for batch in tqdm(train_data_loader, desc=f\"Epoch {epoch+1}\"):\n",
    "        optimizer.zero_grad()\n",
    "        input_ids = batch[\"input_ids\"].to(device)\n",
    "        attention_mask = batch[\"attention_mask\"].to(device)\n",
    "        labels = batch[\"labels\"].to(device)\n",
    "\n",
    "        # Вызов модели без аргумента labels\n",
    "        outputs = model(input_ids=input_ids, attention_mask=attention_mask)\n",
    "        \n",
    "        # Вычисление потерь\n",
    "        loss_fct = CrossEntropyLoss()\n",
    "        loss = loss_fct(outputs.view(-1, len(unique_intents)), labels.view(-1))\n",
    "        \n",
    "        total_loss += loss.item()\n",
    "        loss.backward()\n",
    "        optimizer.step()\n",
    "\n",
    "    avg_train_loss = total_loss / len(train_data_loader)\n",
    "    loss_values.append(avg_train_loss)\n",
    "\n",
    "    print(f\"Epoch: {epoch+1}, Train Loss: {avg_train_loss:.4f}\")\n",
    "\n",
    "    model.eval()\n",
    "    val_loss = 0\n",
    "    predictions , true_labels = [], []\n",
    "\n",
    "    for batch in tqdm(test_data_loader, desc=f\"Validation Epoch {epoch+1}\"):\n",
    "        with torch.no_grad():\n",
    "            input_ids = batch[\"input_ids\"].to(device)\n",
    "            attention_mask = batch[\"attention_mask\"].to(device)\n",
    "            labels = batch[\"labels\"].to(device)\n",
    "\n",
    "            # Вызов модели без аргумента labels\n",
    "            outputs = model(input_ids=input_ids, attention_mask=attention_mask)\n",
    "            \n",
    "            # Вычисление потерь\n",
    "            loss = loss_fct(outputs.view(-1, len(unique_intents)), labels.view(-1))\n",
    "            \n",
    "            val_loss += loss.item()\n",
    "\n",
    "            logits = outputs.detach().cpu().numpy()\n",
    "            label_ids = labels.to('cpu').numpy()\n",
    "            \n",
    "            predictions.extend(np.argmax(logits, axis=1).flatten())\n",
    "            true_labels.extend(label_ids.flatten())\n",
    "\n",
    "    \n",
    "    avg_val_loss = val_loss / len(test_data_loader)\n",
    "    val_loss_values.append(avg_val_loss)  # сохраняем потери валидации\n",
    "    print('Average validation loss: ', avg_val_loss)\n",
    "\n",
    "    early_stopping(avg_val_loss, model)\n",
    "\n",
    "    if early_stopping.early_stop:\n",
    "        print(\"Early stopping\")\n",
    "        break\n",
    "\n",
    "        \n",
    " # Построение графика потерь\n",
    "plt.plot(range(1, n_epochs+1), loss_values, label='Train Loss')\n",
    "plt.plot(range(1, n_epochs+1), val_loss_values, label='Val Loss')\n",
    "plt.xlabel('Epoch')\n",
    "plt.ylabel('Loss')\n",
    "plt.legend()\n",
    "plt.show()\n",
    "\n",
    "# Построение графиков потерь и метрик\n",
    "# plt.figure(figsize=(15,8))\n",
    "# plt.title(\"Training and Validation Metrics\")\n",
    "# plt.xlabel(\"Epoch\")\n",
    "# plt.ylabel(\"Metric Value\")\n",
    "\n",
    "# plt.plot(loss_values, label='Train Loss')\n",
    "# plt.plot(val_loss_values, label='Validation Loss')  # добавляем потери валидации на график\n",
    "# plt.legend()\n",
    "# plt.show()\n"
   ]
  },
  {
   "cell_type": "code",
   "execution_count": 24,
   "id": "83f5c5e8",
   "metadata": {
    "execution": {
     "iopub.execute_input": "2024-06-01T14:49:13.607234Z",
     "iopub.status.busy": "2024-06-01T14:49:13.606434Z",
     "iopub.status.idle": "2024-06-01T14:49:13.612798Z",
     "shell.execute_reply": "2024-06-01T14:49:13.611904Z"
    },
    "papermill": {
     "duration": 0.130335,
     "end_time": "2024-06-01T14:49:13.614648",
     "exception": false,
     "start_time": "2024-06-01T14:49:13.484313",
     "status": "completed"
    },
    "tags": []
   },
   "outputs": [],
   "source": [
    "# new\n",
    "# from transformers import BertForSequenceClassification\n",
    "# import matplotlib.pyplot as plt\n",
    "\n",
    "# # tokenizer = AutoTokenizer.from_pretrained(\"cointegrated/rubert-tiny2\")\n",
    "# # model = BertForSequenceClassification.from_pretrained(\"cointegrated/rubert-tiny2\")\n",
    "\n",
    "# # Количество эпох\n",
    "# epochs = 50\n",
    "\n",
    "# # Список для хранения значений потерь на каждой эпохе\n",
    "# loss_values = []\n",
    "\n",
    "# for epoch in range(epochs):\n",
    "#     model.train()\n",
    "#     total_loss = 0\n",
    "\n",
    "#     for batch in tqdm(train_data_loader, desc=f\"Epoch {epoch+1}\"):\n",
    "#         optimizer.zero_grad()\n",
    "#         input_ids = batch[\"input_ids\"].to(device)\n",
    "#         attention_mask = batch[\"attention_mask\"].to(device)\n",
    "#         labels = batch[\"labels\"].to(device)\n",
    "\n",
    "#         # Вызов модели без аргумента labels\n",
    "#         outputs = model(input_ids=input_ids, attention_mask=attention_mask)\n",
    "        \n",
    "#         # Вычисление потерь\n",
    "#         loss_fct = CrossEntropyLoss()\n",
    "#         loss = loss_fct(outputs.view(-1, len(unique_intents)), labels.view(-1))\n",
    "        \n",
    "#         total_loss += loss.item()\n",
    "#         loss.backward()\n",
    "#         optimizer.step()\n",
    "\n",
    "#     avg_train_loss = total_loss / len(train_data_loader)\n",
    "#     loss_values.append(avg_train_loss)\n",
    "\n",
    "#     print(f\"Epoch: {epoch+1}, Train Loss: {avg_train_loss:.4f}\")\n",
    "\n",
    "#     model.eval()\n",
    "#     val_loss = 0\n",
    "#     predictions , true_labels = [], []\n",
    "\n",
    "#     for batch in tqdm(test_data_loader, desc=f\"Validation Epoch {epoch+1}\"):\n",
    "#         with torch.no_grad():\n",
    "#             input_ids = batch[\"input_ids\"].to(device)\n",
    "#             attention_mask = batch[\"attention_mask\"].to(device)\n",
    "#             labels = batch[\"labels\"].to(device)\n",
    "\n",
    "#             # Вызов модели без аргумента labels\n",
    "#             outputs = model(input_ids=input_ids, attention_mask=attention_mask)\n",
    "            \n",
    "#             # Вычисление потерь\n",
    "#             loss = loss_fct(outputs.view(-1, len(unique_intents)), labels.view(-1))\n",
    "            \n",
    "#             val_loss += loss.item()\n",
    "\n",
    "#     avg_val_loss = val_loss / len(test_data_loader)\n",
    "#     print('Average validation loss: ', avg_val_loss)\n",
    "\n",
    "#     early_stopping(avg_val_loss, model)\n",
    "\n",
    "#     if early_stopping.early_stop:\n",
    "#         print(\"Early stopping\")\n",
    "#         break\n",
    "\n",
    "# # Построение графика потерь\n",
    "# plt.figure(figsize=(15,8))\n",
    "# plt.title(\"Training loss\")\n",
    "# plt.xlabel(\"Batch\")\n",
    "# plt.ylabel(\"Loss\")\n",
    "# plt.plot(loss_values)\n",
    "# plt.show()"
   ]
  },
  {
   "cell_type": "code",
   "execution_count": 25,
   "id": "069352b1",
   "metadata": {
    "execution": {
     "iopub.execute_input": "2024-06-01T14:49:13.861925Z",
     "iopub.status.busy": "2024-06-01T14:49:13.861191Z",
     "iopub.status.idle": "2024-06-01T14:49:13.867214Z",
     "shell.execute_reply": "2024-06-01T14:49:13.866395Z"
    },
    "papermill": {
     "duration": 0.131238,
     "end_time": "2024-06-01T14:49:13.869039",
     "exception": false,
     "start_time": "2024-06-01T14:49:13.737801",
     "status": "completed"
    },
    "tags": []
   },
   "outputs": [],
   "source": [
    "# old working\n",
    "\n",
    "# # Обучение модели\n",
    "# for epoch in range(50):\n",
    "#     model.train()\n",
    "#     total_loss = 0\n",
    "#     progress_bar = tqdm(train_data_loader, desc='Epoch {:1d}'.format(epoch), leave=False, disable=False)\n",
    "#     for batch in progress_bar:\n",
    "#         input_ids = batch[\"input_ids\"].to(device)\n",
    "#         attention_mask = batch[\"attention_mask\"].to(device)\n",
    "#         labels = batch[\"labels\"].to(device)\n",
    "\n",
    "#         # Вызов модели\n",
    "#         outputs = model(input_ids=input_ids, attention_mask=attention_mask)\n",
    "        \n",
    "#         # Вычисление потерь\n",
    "#         loss_fct = CrossEntropyLoss()\n",
    "#         loss = loss_fct(outputs.view(-1, len(unique_intents)), labels.view(-1))\n",
    "        \n",
    "#         total_loss += loss.item()\n",
    "\n",
    "#         loss.backward()\n",
    "#         optimizer.step()\n",
    "#         optimizer.zero_grad()\n",
    "\n",
    "#         # Обновление шкалы выполнения\n",
    "#         progress_bar.set_postfix({'training_loss': '{:.3f}'.format(loss.item()/len(batch))})\n",
    "\n",
    "#     # Расчет среднего значения потерь за эпоху\n",
    "#     avg_train_loss = total_loss / len(train_data_loader)\n",
    "#     print('Average training loss: ', avg_train_loss)\n",
    "\n",
    "#     # Валидация на независимом наборе данных\n",
    "#     model.eval()\n",
    "#     val_loss = 0\n",
    "#     with torch.no_grad():\n",
    "#         for batch in test_data_loader:\n",
    "#             input_ids = batch[\"input_ids\"].to(device)\n",
    "#             attention_mask = batch[\"attention_mask\"].to(device)\n",
    "#             labels = batch[\"labels\"].to(device)\n",
    "\n",
    "#             # Вызов модели\n",
    "#             outputs = model(input_ids=input_ids, attention_mask=attention_mask)\n",
    "            \n",
    "#             # Вычисление потерь\n",
    "#             loss = loss_fct(outputs.view(-1, len(unique_intents)), labels.view(-1))\n",
    "            \n",
    "#             val_loss += loss.item()\n",
    "\n",
    "#     avg_val_loss = val_loss / len(test_data_loader)\n",
    "#     print('Average validation loss: ', avg_val_loss)\n",
    "\n",
    "#     early_stopping(avg_val_loss, model)\n",
    "\n",
    "#     if early_stopping.early_stop:\n",
    "#         print(\"Early stopping\")\n",
    "#         break"
   ]
  },
  {
   "cell_type": "code",
   "execution_count": 26,
   "id": "3d968c39",
   "metadata": {
    "execution": {
     "iopub.execute_input": "2024-06-01T14:49:14.118852Z",
     "iopub.status.busy": "2024-06-01T14:49:14.118041Z",
     "iopub.status.idle": "2024-06-01T14:49:15.912540Z",
     "shell.execute_reply": "2024-06-01T14:49:15.911462Z"
    },
    "papermill": {
     "duration": 1.919959,
     "end_time": "2024-06-01T14:49:15.915409",
     "exception": false,
     "start_time": "2024-06-01T14:49:13.995450",
     "status": "completed"
    },
    "tags": []
   },
   "outputs": [
    {
     "name": "stdout",
     "output_type": "stream",
     "text": [
      "Time for testing: 1.7608 seconds\n",
      "Average time per response: 0.001797 seconds\n",
      "0.8714182744754027\n",
      "(0.9808150535545648, 0.9816326530612245, 0.9807733259505665, None)\n"
     ]
    },
    {
     "name": "stderr",
     "output_type": "stream",
     "text": [
      "/opt/conda/lib/python3.10/site-packages/sklearn/metrics/_classification.py:1344: UndefinedMetricWarning: Precision and F-score are ill-defined and being set to 0.0 in labels with no predicted samples. Use `zero_division` parameter to control this behavior.\n",
      "  _warn_prf(average, modifier, msg_start, len(result))\n"
     ]
    }
   ],
   "source": [
    "# Предсказание на тестовых данных\n",
    "model.eval()\n",
    "predictions = []\n",
    "start_test = timeit.default_timer()\n",
    "with torch.no_grad():\n",
    "    for batch in test_data_loader:\n",
    "        input_ids = batch[\"input_ids\"].to(device)\n",
    "        attention_mask = batch[\"attention_mask\"].to(device)\n",
    "\n",
    "        outputs = model(input_ids=input_ids, attention_mask=attention_mask)\n",
    "        _, preds = torch.max(outputs, dim=1)\n",
    "\n",
    "        predictions.extend(preds)\n",
    "end_test = timeit.default_timer()\n",
    "\n",
    "predicted_labels = [pred.item() for pred in predictions]\n",
    "\n",
    "# Общее количество предсказанных ответов\n",
    "num_predictions = len(predictions)\n",
    "\n",
    "# Среднее время на один ответ\n",
    "average_time_per_response = (end_test - start_test) / num_predictions\n",
    "\n",
    "print(f'Time for testing: {end_test - start_test:.4f} seconds')\n",
    "print(f'Average time per response: {average_time_per_response:.6f} seconds')\n",
    "print(balanced_accuracy_score(test_labels, predicted_labels))\n",
    "print(precision_recall_fscore_support(test_labels, predicted_labels, average='weighted'))"
   ]
  },
  {
   "cell_type": "code",
   "execution_count": 27,
   "id": "9255a491",
   "metadata": {
    "execution": {
     "iopub.execute_input": "2024-06-01T14:49:16.166978Z",
     "iopub.status.busy": "2024-06-01T14:49:16.166608Z",
     "iopub.status.idle": "2024-06-01T14:49:16.173112Z",
     "shell.execute_reply": "2024-06-01T14:49:16.172381Z"
    },
    "papermill": {
     "duration": 0.130772,
     "end_time": "2024-06-01T14:49:16.175094",
     "exception": false,
     "start_time": "2024-06-01T14:49:16.044322",
     "status": "completed"
    },
    "tags": []
   },
   "outputs": [],
   "source": [
    "# Построение confusion matrix\n",
    "cm = confusion_matrix(test_labels, predicted_labels)\n",
    "#print(f'Confusion Matrix: \\n{cm}')"
   ]
  },
  {
   "cell_type": "code",
   "execution_count": 28,
   "id": "dd7ea710",
   "metadata": {
    "execution": {
     "iopub.execute_input": "2024-06-01T14:49:16.421100Z",
     "iopub.status.busy": "2024-06-01T14:49:16.420756Z",
     "iopub.status.idle": "2024-06-01T14:49:16.425158Z",
     "shell.execute_reply": "2024-06-01T14:49:16.424281Z"
    },
    "papermill": {
     "duration": 0.129812,
     "end_time": "2024-06-01T14:49:16.427132",
     "exception": false,
     "start_time": "2024-06-01T14:49:16.297320",
     "status": "completed"
    },
    "tags": []
   },
   "outputs": [],
   "source": [
    "from sklearn.metrics import confusion_matrix\n",
    "import seaborn as sns\n",
    "import matplotlib.pyplot as plt"
   ]
  },
  {
   "cell_type": "code",
   "execution_count": 29,
   "id": "4a41c318",
   "metadata": {
    "execution": {
     "iopub.execute_input": "2024-06-01T14:49:16.673896Z",
     "iopub.status.busy": "2024-06-01T14:49:16.673022Z",
     "iopub.status.idle": "2024-06-01T14:49:18.124560Z",
     "shell.execute_reply": "2024-06-01T14:49:18.123668Z"
    },
    "papermill": {
     "duration": 1.577737,
     "end_time": "2024-06-01T14:49:18.126850",
     "exception": false,
     "start_time": "2024-06-01T14:49:16.549113",
     "status": "completed"
    },
    "tags": []
   },
   "outputs": [
    {
     "data": {
      "image/png": "[encoded data removed]",
      "text/plain": [
       "<Figure size 800x600 with 2 Axes>"
      ]
     },
     "metadata": {},
     "output_type": "display_data"
    }
   ],
   "source": [
    "# Визуализация матрицы ошибок с использованием seaborn\n",
    "plt.figure(figsize=(8, 6))\n",
    "sns.heatmap(cm, annot=True, fmt='d', cmap='Blues', xticklabels=set(test_labels), yticklabels=set(predicted_labels))\n",
    "plt.xlabel('Предсказанный класс')\n",
    "plt.ylabel('Истинный класс')\n",
    "plt.title('Матрица ошибок')\n",
    "plt.show()\n"
   ]
  }
 ],
 "metadata": {
  "kaggle": {
   "accelerator": "gpu",
   "dataSources": [
    {
     "datasetId": 284285,
     "sourceId": 585165,
     "sourceType": "datasetVersion"
    },
    {
     "datasetId": 4878620,
     "sourceId": 8227443,
     "sourceType": "datasetVersion"
    }
   ],
   "dockerImageVersionId": 30699,
   "isGpuEnabled": true,
   "isInternetEnabled": true,
   "language": "python",
   "sourceType": "notebook"
  },
  "kernelspec": {
   "display_name": "Python 3",
   "language": "python",
   "name": "python3"
  },
  "language_info": {
   "codemirror_mode": {
    "name": "ipython",
    "version": 3
   },
   "file_extension": ".py",
   "mimetype": "text/x-python",
   "name": "python",
   "nbconvert_exporter": "python",
   "pygments_lexer": "ipython3",
   "version": "3.10.13"
  },
  "papermill": {
   "default_parameters": {},
   "duration": 284.31438,
   "end_time": "2024-06-01T14:49:20.767367",
   "environment_variables": {},
   "exception": null,
   "input_path": "__notebook__.ipynb",
   "output_path": "__notebook__.ipynb",
   "parameters": {},
   "start_time": "2024-06-01T14:44:36.452987",
   "version": "2.5.0"
  },
  "widgets": {
   "application/vnd.jupyter.widget-state+json": {
    "state": {
     "0260e4d6e1e14574aff5f18f56eafcc6": {
      "model_module": "@jupyter-widgets/base",
      "model_module_version": "1.2.0",
      "model_name": "LayoutModel",
      "state": {
       "_model_module": "@jupyter-widgets/base",
       "_model_module_version": "1.2.0",
       "_model_name": "LayoutModel",
       "_view_count": null,
       "_view_module": "@jupyter-widgets/base",
       "_view_module_version": "1.2.0",
       "_view_name": "LayoutView",
       "align_content": null,
       "align_items": null,
       "align_self": null,
       "border": null,
       "bottom": null,
       "display": null,
       "flex": null,
       "flex_flow": null,
       "grid_area": null,
       "grid_auto_columns": null,
       "grid_auto_flow": null,
       "grid_auto_rows": null,
       "grid_column": null,
       "grid_gap": null,
       "grid_row": null,
       "grid_template_areas": null,
       "grid_template_columns": null,
       "grid_template_rows": null,
       "height": null,
       "justify_content": null,
       "justify_items": null,
       "left": null,
       "margin": null,
       "max_height": null,
       "max_width": null,
       "min_height": null,
       "min_width": null,
       "object_fit": null,
       "object_position": null,
       "order": null,
       "overflow": null,
       "overflow_x": null,
       "overflow_y": null,
       "padding": null,
       "right": null,
       "top": null,
       "visibility": null,
       "width": null
      }
     },
     "02a0eb8986444388bb2da62764e0776c": {
      "model_module": "@jupyter-widgets/controls",
      "model_module_version": "1.5.0",
      "model_name": "DescriptionStyleModel",
      "state": {
       "_model_module": "@jupyter-widgets/controls",
       "_model_module_version": "1.5.0",
       "_model_name": "DescriptionStyleModel",
       "_view_count": null,
       "_view_module": "@jupyter-widgets/base",
       "_view_module_version": "1.2.0",
       "_view_name": "StyleView",
       "description_width": ""
      }
     },
     "053ec889079d48128bf015817a73af64": {
      "model_module": "@jupyter-widgets/base",
      "model_module_version": "1.2.0",
      "model_name": "LayoutModel",
      "state": {
       "_model_module": "@jupyter-widgets/base",
       "_model_module_version": "1.2.0",
       "_model_name": "LayoutModel",
       "_view_count": null,
       "_view_module": "@jupyter-widgets/base",
       "_view_module_version": "1.2.0",
       "_view_name": "LayoutView",
       "align_content": null,
       "align_items": null,
       "align_self": null,
       "border": null,
       "bottom": null,
       "display": null,
       "flex": null,
       "flex_flow": null,
       "grid_area": null,
       "grid_auto_columns": null,
       "grid_auto_flow": null,
       "grid_auto_rows": null,
       "grid_column": null,
       "grid_gap": null,
       "grid_row": null,
       "grid_template_areas": null,
       "grid_template_columns": null,
       "grid_template_rows": null,
       "height": null,
       "justify_content": null,
       "justify_items": null,
       "left": null,
       "margin": null,
       "max_height": null,
       "max_width": null,
       "min_height": null,
       "min_width": null,
       "object_fit": null,
       "object_position": null,
       "order": null,
       "overflow": null,
       "overflow_x": null,
       "overflow_y": null,
       "padding": null,
       "right": null,
       "top": null,
       "visibility": null,
       "width": null
      }
     },
     "0ab73256073d4b9cb945d9efeb0fd6da": {
      "model_module": "@jupyter-widgets/controls",
      "model_module_version": "1.5.0",
      "model_name": "HTMLModel",
      "state": {
       "_dom_classes": [],
       "_model_module": "@jupyter-widgets/controls",
       "_model_module_version": "1.5.0",
       "_model_name": "HTMLModel",
       "_view_count": null,
       "_view_module": "@jupyter-widgets/controls",
       "_view_module_version": "1.5.0",
       "_view_name": "HTMLView",
       "description": "",
       "description_tooltip": null,
       "layout": "IPY_MODEL_7d676d1d5b5148da9d38088f1cc8d762",
       "placeholder": "​",
       "style": "IPY_MODEL_7b986fcd48514e419fc301e2633ae0d6",
       "value": " 232k/232k [00:00&lt;00:00, 8.58MB/s]"
      }
     },
     "0b04d3fb226d4dfcbabbdd483f3f5b38": {
      "model_module": "@jupyter-widgets/controls",
      "model_module_version": "1.5.0",
      "model_name": "HBoxModel",
      "state": {
       "_dom_classes": [],
       "_model_module": "@jupyter-widgets/controls",
       "_model_module_version": "1.5.0",
       "_model_name": "HBoxModel",
       "_view_count": null,
       "_view_module": "@jupyter-widgets/controls",
       "_view_module_version": "1.5.0",
       "_view_name": "HBoxView",
       "box_style": "",
       "children": [
        "IPY_MODEL_8ab575704e0244ee8652fe86dad1ad99",
        "IPY_MODEL_fe10b923e5154d1b9919811198d6c3b4",
        "IPY_MODEL_653bd2e869a04687a9fb772c8d199f29"
       ],
       "layout": "IPY_MODEL_053ec889079d48128bf015817a73af64"
      }
     },
     "0e2cb348fbe7494ab2e34542fec77ed0": {
      "model_module": "@jupyter-widgets/controls",
      "model_module_version": "1.5.0",
      "model_name": "HTMLModel",
      "state": {
       "_dom_classes": [],
       "_model_module": "@jupyter-widgets/controls",
       "_model_module_version": "1.5.0",
       "_model_name": "HTMLModel",
       "_view_count": null,
       "_view_module": "@jupyter-widgets/controls",
       "_view_module_version": "1.5.0",
       "_view_name": "HTMLView",
       "description": "",
       "description_tooltip": null,
       "layout": "IPY_MODEL_dec36c935c754f80bae256d2330b7544",
       "placeholder": "​",
       "style": "IPY_MODEL_dd9058d79c6c49498513a9b1c8d29031",
       "value": " 483/483 [00:00&lt;00:00, 43.1kB/s]"
      }
     },
     "0fc8fbfc075b43598c57876bc131711e": {
      "model_module": "@jupyter-widgets/controls",
      "model_module_version": "1.5.0",
      "model_name": "ProgressStyleModel",
      "state": {
       "_model_module": "@jupyter-widgets/controls",
       "_model_module_version": "1.5.0",
       "_model_name": "ProgressStyleModel",
       "_view_count": null,
       "_view_module": "@jupyter-widgets/base",
       "_view_module_version": "1.2.0",
       "_view_name": "StyleView",
       "bar_color": null,
       "description_width": ""
      }
     },
     "0fca59d777eb431da610f48d4340fbfa": {
      "model_module": "@jupyter-widgets/base",
      "model_module_version": "1.2.0",
      "model_name": "LayoutModel",
      "state": {
       "_model_module": "@jupyter-widgets/base",
       "_model_module_version": "1.2.0",
       "_model_name": "LayoutModel",
       "_view_count": null,
       "_view_module": "@jupyter-widgets/base",
       "_view_module_version": "1.2.0",
       "_view_name": "LayoutView",
       "align_content": null,
       "align_items": null,
       "align_self": null,
       "border": null,
       "bottom": null,
       "display": null,
       "flex": null,
       "flex_flow": null,
       "grid_area": null,
       "grid_auto_columns": null,
       "grid_auto_flow": null,
       "grid_auto_rows": null,
       "grid_column": null,
       "grid_gap": null,
       "grid_row": null,
       "grid_template_areas": null,
       "grid_template_columns": null,
       "grid_template_rows": null,
       "height": null,
       "justify_content": null,
       "justify_items": null,
       "left": null,
       "margin": null,
       "max_height": null,
       "max_width": null,
       "min_height": null,
       "min_width": null,
       "object_fit": null,
       "object_position": null,
       "order": null,
       "overflow": null,
       "overflow_x": null,
       "overflow_y": null,
       "padding": null,
       "right": null,
       "top": null,
       "visibility": null,
       "width": null
      }
     },
     "28d6b07d964d4bc59171d644a2c09e24": {
      "model_module": "@jupyter-widgets/controls",
      "model_module_version": "1.5.0",
      "model_name": "ProgressStyleModel",
      "state": {
       "_model_module": "@jupyter-widgets/controls",
       "_model_module_version": "1.5.0",
       "_model_name": "ProgressStyleModel",
       "_view_count": null,
       "_view_module": "@jupyter-widgets/base",
       "_view_module_version": "1.2.0",
       "_view_name": "StyleView",
       "bar_color": null,
       "description_width": ""
      }
     },
     "2f6e31c70f5b4d68aa907d83c8e72ecf": {
      "model_module": "@jupyter-widgets/controls",
      "model_module_version": "1.5.0",
      "model_name": "DescriptionStyleModel",
      "state": {
       "_model_module": "@jupyter-widgets/controls",
       "_model_module_version": "1.5.0",
       "_model_name": "DescriptionStyleModel",
       "_view_count": null,
       "_view_module": "@jupyter-widgets/base",
       "_view_module_version": "1.2.0",
       "_view_name": "StyleView",
       "description_width": ""
      }
     },
     "340667ead8a34722b8256dedf6aafe12": {
      "model_module": "@jupyter-widgets/controls",
      "model_module_version": "1.5.0",
      "model_name": "FloatProgressModel",
      "state": {
       "_dom_classes": [],
       "_model_module": "@jupyter-widgets/controls",
       "_model_module_version": "1.5.0",
       "_model_name": "FloatProgressModel",
       "_view_count": null,
       "_view_module": "@jupyter-widgets/controls",
       "_view_module_version": "1.5.0",
       "_view_name": "ProgressView",
       "bar_style": "success",
       "description": "",
       "description_tooltip": null,
       "layout": "IPY_MODEL_a19d683d97ca4adf858730c4fc90d633",
       "max": 231508.0,
       "min": 0.0,
       "orientation": "horizontal",
       "style": "IPY_MODEL_4782cd3102084a2db66e25977b609874",
       "value": 231508.0
      }
     },
     "36bafcc55a844b93aefaa2b45a1ac8ab": {
      "model_module": "@jupyter-widgets/base",
      "model_module_version": "1.2.0",
      "model_name": "LayoutModel",
      "state": {
       "_model_module": "@jupyter-widgets/base",
       "_model_module_version": "1.2.0",
       "_model_name": "LayoutModel",
       "_view_count": null,
       "_view_module": "@jupyter-widgets/base",
       "_view_module_version": "1.2.0",
       "_view_name": "LayoutView",
       "align_content": null,
       "align_items": null,
       "align_self": null,
       "border": null,
       "bottom": null,
       "display": null,
       "flex": null,
       "flex_flow": null,
       "grid_area": null,
       "grid_auto_columns": null,
       "grid_auto_flow": null,
       "grid_auto_rows": null,
       "grid_column": null,
       "grid_gap": null,
       "grid_row": null,
       "grid_template_areas": null,
       "grid_template_columns": null,
       "grid_template_rows": null,
       "height": null,
       "justify_content": null,
       "justify_items": null,
       "left": null,
       "margin": null,
       "max_height": null,
       "max_width": null,
       "min_height": null,
       "min_width": null,
       "object_fit": null,
       "object_position": null,
       "order": null,
       "overflow": null,
       "overflow_x": null,
       "overflow_y": null,
       "padding": null,
       "right": null,
       "top": null,
       "visibility": null,
       "width": null
      }
     },
     "39b83e34be934b699ace83a2b29cbdc2": {
      "model_module": "@jupyter-widgets/base",
      "model_module_version": "1.2.0",
      "model_name": "LayoutModel",
      "state": {
       "_model_module": "@jupyter-widgets/base",
       "_model_module_version": "1.2.0",
       "_model_name": "LayoutModel",
       "_view_count": null,
       "_view_module": "@jupyter-widgets/base",
       "_view_module_version": "1.2.0",
       "_view_name": "LayoutView",
       "align_content": null,
       "align_items": null,
       "align_self": null,
       "border": null,
       "bottom": null,
       "display": null,
       "flex": null,
       "flex_flow": null,
       "grid_area": null,
       "grid_auto_columns": null,
       "grid_auto_flow": null,
       "grid_auto_rows": null,
       "grid_column": null,
       "grid_gap": null,
       "grid_row": null,
       "grid_template_areas": null,
       "grid_template_columns": null,
       "grid_template_rows": null,
       "height": null,
       "justify_content": null,
       "justify_items": null,
       "left": null,
       "margin": null,
       "max_height": null,
       "max_width": null,
       "min_height": null,
       "min_width": null,
       "object_fit": null,
       "object_position": null,
       "order": null,
       "overflow": null,
       "overflow_x": null,
       "overflow_y": null,
       "padding": null,
       "right": null,
       "top": null,
       "visibility": null,
       "width": null
      }
     },
     "3cf04f673a2344b8b8cd0d626ce61273": {
      "model_module": "@jupyter-widgets/base",
      "model_module_version": "1.2.0",
      "model_name": "LayoutModel",
      "state": {
       "_model_module": "@jupyter-widgets/base",
       "_model_module_version": "1.2.0",
       "_model_name": "LayoutModel",
       "_view_count": null,
       "_view_module": "@jupyter-widgets/base",
       "_view_module_version": "1.2.0",
       "_view_name": "LayoutView",
       "align_content": null,
       "align_items": null,
       "align_self": null,
       "border": null,
       "bottom": null,
       "display": null,
       "flex": null,
       "flex_flow": null,
       "grid_area": null,
       "grid_auto_columns": null,
       "grid_auto_flow": null,
       "grid_auto_rows": null,
       "grid_column": null,
       "grid_gap": null,
       "grid_row": null,
       "grid_template_areas": null,
       "grid_template_columns": null,
       "grid_template_rows": null,
       "height": null,
       "justify_content": null,
       "justify_items": null,
       "left": null,
       "margin": null,
       "max_height": null,
       "max_width": null,
       "min_height": null,
       "min_width": null,
       "object_fit": null,
       "object_position": null,
       "order": null,
       "overflow": null,
       "overflow_x": null,
       "overflow_y": null,
       "padding": null,
       "right": null,
       "top": null,
       "visibility": null,
       "width": null
      }
     },
     "45f22c64c8ad473ab5117f0a8211923e": {
      "model_module": "@jupyter-widgets/controls",
      "model_module_version": "1.5.0",
      "model_name": "HBoxModel",
      "state": {
       "_dom_classes": [],
       "_model_module": "@jupyter-widgets/controls",
       "_model_module_version": "1.5.0",
       "_model_name": "HBoxModel",
       "_view_count": null,
       "_view_module": "@jupyter-widgets/controls",
       "_view_module_version": "1.5.0",
       "_view_name": "HBoxView",
       "box_style": "",
       "children": [
        "IPY_MODEL_fd7ff0be5bed472fafc76a9dd475691e",
        "IPY_MODEL_9175e32a5b9547249034a4f6672b6362",
        "IPY_MODEL_0e2cb348fbe7494ab2e34542fec77ed0"
       ],
       "layout": "IPY_MODEL_cfdcc4be1a404ce1947d36acb89afa4f"
      }
     },
     "4782cd3102084a2db66e25977b609874": {
      "model_module": "@jupyter-widgets/controls",
      "model_module_version": "1.5.0",
      "model_name": "ProgressStyleModel",
      "state": {
       "_model_module": "@jupyter-widgets/controls",
       "_model_module_version": "1.5.0",
       "_model_name": "ProgressStyleModel",
       "_view_count": null,
       "_view_module": "@jupyter-widgets/base",
       "_view_module_version": "1.2.0",
       "_view_name": "StyleView",
       "bar_color": null,
       "description_width": ""
      }
     },
     "4d09d0b8c4354320bf524564f3b926a8": {
      "model_module": "@jupyter-widgets/controls",
      "model_module_version": "1.5.0",
      "model_name": "HBoxModel",
      "state": {
       "_dom_classes": [],
       "_model_module": "@jupyter-widgets/controls",
       "_model_module_version": "1.5.0",
       "_model_name": "HBoxModel",
       "_view_count": null,
       "_view_module": "@jupyter-widgets/controls",
       "_view_module_version": "1.5.0",
       "_view_name": "HBoxView",
       "box_style": "",
       "children": [
        "IPY_MODEL_c301a30defe14452a78a8962a011b21c",
        "IPY_MODEL_5a0cf5e2bcff4ddaa91e7cc886283bd0",
        "IPY_MODEL_fe6c21b373ed4f2eb3192163e4caca9d"
       ],
       "layout": "IPY_MODEL_570744e6d50846e9803ae5afcb1821f4"
      }
     },
     "570744e6d50846e9803ae5afcb1821f4": {
      "model_module": "@jupyter-widgets/base",
      "model_module_version": "1.2.0",
      "model_name": "LayoutModel",
      "state": {
       "_model_module": "@jupyter-widgets/base",
       "_model_module_version": "1.2.0",
       "_model_name": "LayoutModel",
       "_view_count": null,
       "_view_module": "@jupyter-widgets/base",
       "_view_module_version": "1.2.0",
       "_view_name": "LayoutView",
       "align_content": null,
       "align_items": null,
       "align_self": null,
       "border": null,
       "bottom": null,
       "display": null,
       "flex": null,
       "flex_flow": null,
       "grid_area": null,
       "grid_auto_columns": null,
       "grid_auto_flow": null,
       "grid_auto_rows": null,
       "grid_column": null,
       "grid_gap": null,
       "grid_row": null,
       "grid_template_areas": null,
       "grid_template_columns": null,
       "grid_template_rows": null,
       "height": null,
       "justify_content": null,
       "justify_items": null,
       "left": null,
       "margin": null,
       "max_height": null,
       "max_width": null,
       "min_height": null,
       "min_width": null,
       "object_fit": null,
       "object_position": null,
       "order": null,
       "overflow": null,
       "overflow_x": null,
       "overflow_y": null,
       "padding": null,
       "right": null,
       "top": null,
       "visibility": null,
       "width": null
      }
     },
     "5a0cf5e2bcff4ddaa91e7cc886283bd0": {
      "model_module": "@jupyter-widgets/controls",
      "model_module_version": "1.5.0",
      "model_name": "FloatProgressModel",
      "state": {
       "_dom_classes": [],
       "_model_module": "@jupyter-widgets/controls",
       "_model_module_version": "1.5.0",
       "_model_name": "FloatProgressModel",
       "_view_count": null,
       "_view_module": "@jupyter-widgets/controls",
       "_view_module_version": "1.5.0",
       "_view_name": "ProgressView",
       "bar_style": "success",
       "description": "",
       "description_tooltip": null,
       "layout": "IPY_MODEL_e31a263de7b3429a8abcbc86eb0852ac",
       "max": 466062.0,
       "min": 0.0,
       "orientation": "horizontal",
       "style": "IPY_MODEL_a586dcf83e1e4127a17d6147f93c5227",
       "value": 466062.0
      }
     },
     "5e41dc1952d345b183ba038fcc690589": {
      "model_module": "@jupyter-widgets/controls",
      "model_module_version": "1.5.0",
      "model_name": "DescriptionStyleModel",
      "state": {
       "_model_module": "@jupyter-widgets/controls",
       "_model_module_version": "1.5.0",
       "_model_name": "DescriptionStyleModel",
       "_view_count": null,
       "_view_module": "@jupyter-widgets/base",
       "_view_module_version": "1.2.0",
       "_view_name": "StyleView",
       "description_width": ""
      }
     },
     "653bd2e869a04687a9fb772c8d199f29": {
      "model_module": "@jupyter-widgets/controls",
      "model_module_version": "1.5.0",
      "model_name": "HTMLModel",
      "state": {
       "_dom_classes": [],
       "_model_module": "@jupyter-widgets/controls",
       "_model_module_version": "1.5.0",
       "_model_name": "HTMLModel",
       "_view_count": null,
       "_view_module": "@jupyter-widgets/controls",
       "_view_module_version": "1.5.0",
       "_view_name": "HTMLView",
       "description": "",
       "description_tooltip": null,
       "layout": "IPY_MODEL_36bafcc55a844b93aefaa2b45a1ac8ab",
       "placeholder": "​",
       "style": "IPY_MODEL_fabe8c26c72f4052989baf37207fe90d",
       "value": " 268M/268M [00:01&lt;00:00, 283MB/s]"
      }
     },
     "6c21330114c94a05aea8c0ebfe1bcca6": {
      "model_module": "@jupyter-widgets/controls",
      "model_module_version": "1.5.0",
      "model_name": "HTMLModel",
      "state": {
       "_dom_classes": [],
       "_model_module": "@jupyter-widgets/controls",
       "_model_module_version": "1.5.0",
       "_model_name": "HTMLModel",
       "_view_count": null,
       "_view_module": "@jupyter-widgets/controls",
       "_view_module_version": "1.5.0",
       "_view_name": "HTMLView",
       "description": "",
       "description_tooltip": null,
       "layout": "IPY_MODEL_c2b0501e1fd54199a1441f3e3f6d0d63",
       "placeholder": "​",
       "style": "IPY_MODEL_6dfe3819a03a482cb9dc50ce7a3dd4a8",
       "value": "vocab.txt: 100%"
      }
     },
     "6dfe3819a03a482cb9dc50ce7a3dd4a8": {
      "model_module": "@jupyter-widgets/controls",
      "model_module_version": "1.5.0",
      "model_name": "DescriptionStyleModel",
      "state": {
       "_model_module": "@jupyter-widgets/controls",
       "_model_module_version": "1.5.0",
       "_model_name": "DescriptionStyleModel",
       "_view_count": null,
       "_view_module": "@jupyter-widgets/base",
       "_view_module_version": "1.2.0",
       "_view_name": "StyleView",
       "description_width": ""
      }
     },
     "72481f80bb36408ea1a07d8ef1755df0": {
      "model_module": "@jupyter-widgets/base",
      "model_module_version": "1.2.0",
      "model_name": "LayoutModel",
      "state": {
       "_model_module": "@jupyter-widgets/base",
       "_model_module_version": "1.2.0",
       "_model_name": "LayoutModel",
       "_view_count": null,
       "_view_module": "@jupyter-widgets/base",
       "_view_module_version": "1.2.0",
       "_view_name": "LayoutView",
       "align_content": null,
       "align_items": null,
       "align_self": null,
       "border": null,
       "bottom": null,
       "display": null,
       "flex": null,
       "flex_flow": null,
       "grid_area": null,
       "grid_auto_columns": null,
       "grid_auto_flow": null,
       "grid_auto_rows": null,
       "grid_column": null,
       "grid_gap": null,
       "grid_row": null,
       "grid_template_areas": null,
       "grid_template_columns": null,
       "grid_template_rows": null,
       "height": null,
       "justify_content": null,
       "justify_items": null,
       "left": null,
       "margin": null,
       "max_height": null,
       "max_width": null,
       "min_height": null,
       "min_width": null,
       "object_fit": null,
       "object_position": null,
       "order": null,
       "overflow": null,
       "overflow_x": null,
       "overflow_y": null,
       "padding": null,
       "right": null,
       "top": null,
       "visibility": null,
       "width": null
      }
     },
     "742e9bdd04e5479bb2b48d1bdca00cae": {
      "model_module": "@jupyter-widgets/controls",
      "model_module_version": "1.5.0",
      "model_name": "HTMLModel",
      "state": {
       "_dom_classes": [],
       "_model_module": "@jupyter-widgets/controls",
       "_model_module_version": "1.5.0",
       "_model_name": "HTMLModel",
       "_view_count": null,
       "_view_module": "@jupyter-widgets/controls",
       "_view_module_version": "1.5.0",
       "_view_name": "HTMLView",
       "description": "",
       "description_tooltip": null,
       "layout": "IPY_MODEL_0260e4d6e1e14574aff5f18f56eafcc6",
       "placeholder": "​",
       "style": "IPY_MODEL_5e41dc1952d345b183ba038fcc690589",
       "value": "tokenizer_config.json: 100%"
      }
     },
     "7b986fcd48514e419fc301e2633ae0d6": {
      "model_module": "@jupyter-widgets/controls",
      "model_module_version": "1.5.0",
      "model_name": "DescriptionStyleModel",
      "state": {
       "_model_module": "@jupyter-widgets/controls",
       "_model_module_version": "1.5.0",
       "_model_name": "DescriptionStyleModel",
       "_view_count": null,
       "_view_module": "@jupyter-widgets/base",
       "_view_module_version": "1.2.0",
       "_view_name": "StyleView",
       "description_width": ""
      }
     },
     "7d676d1d5b5148da9d38088f1cc8d762": {
      "model_module": "@jupyter-widgets/base",
      "model_module_version": "1.2.0",
      "model_name": "LayoutModel",
      "state": {
       "_model_module": "@jupyter-widgets/base",
       "_model_module_version": "1.2.0",
       "_model_name": "LayoutModel",
       "_view_count": null,
       "_view_module": "@jupyter-widgets/base",
       "_view_module_version": "1.2.0",
       "_view_name": "LayoutView",
       "align_content": null,
       "align_items": null,
       "align_self": null,
       "border": null,
       "bottom": null,
       "display": null,
       "flex": null,
       "flex_flow": null,
       "grid_area": null,
       "grid_auto_columns": null,
       "grid_auto_flow": null,
       "grid_auto_rows": null,
       "grid_column": null,
       "grid_gap": null,
       "grid_row": null,
       "grid_template_areas": null,
       "grid_template_columns": null,
       "grid_template_rows": null,
       "height": null,
       "justify_content": null,
       "justify_items": null,
       "left": null,
       "margin": null,
       "max_height": null,
       "max_width": null,
       "min_height": null,
       "min_width": null,
       "object_fit": null,
       "object_position": null,
       "order": null,
       "overflow": null,
       "overflow_x": null,
       "overflow_y": null,
       "padding": null,
       "right": null,
       "top": null,
       "visibility": null,
       "width": null
      }
     },
     "8ab575704e0244ee8652fe86dad1ad99": {
      "model_module": "@jupyter-widgets/controls",
      "model_module_version": "1.5.0",
      "model_name": "HTMLModel",
      "state": {
       "_dom_classes": [],
       "_model_module": "@jupyter-widgets/controls",
       "_model_module_version": "1.5.0",
       "_model_name": "HTMLModel",
       "_view_count": null,
       "_view_module": "@jupyter-widgets/controls",
       "_view_module_version": "1.5.0",
       "_view_name": "HTMLView",
       "description": "",
       "description_tooltip": null,
       "layout": "IPY_MODEL_72481f80bb36408ea1a07d8ef1755df0",
       "placeholder": "​",
       "style": "IPY_MODEL_c6ad0565336c4119913aa2c24ba46ad4",
       "value": "model.safetensors: 100%"
      }
     },
     "9175e32a5b9547249034a4f6672b6362": {
      "model_module": "@jupyter-widgets/controls",
      "model_module_version": "1.5.0",
      "model_name": "FloatProgressModel",
      "state": {
       "_dom_classes": [],
       "_model_module": "@jupyter-widgets/controls",
       "_model_module_version": "1.5.0",
       "_model_name": "FloatProgressModel",
       "_view_count": null,
       "_view_module": "@jupyter-widgets/controls",
       "_view_module_version": "1.5.0",
       "_view_name": "ProgressView",
       "bar_style": "success",
       "description": "",
       "description_tooltip": null,
       "layout": "IPY_MODEL_39b83e34be934b699ace83a2b29cbdc2",
       "max": 483.0,
       "min": 0.0,
       "orientation": "horizontal",
       "style": "IPY_MODEL_0fc8fbfc075b43598c57876bc131711e",
       "value": 483.0
      }
     },
     "95ae9b88536c4822ba02528f0bda9c4f": {
      "model_module": "@jupyter-widgets/base",
      "model_module_version": "1.2.0",
      "model_name": "LayoutModel",
      "state": {
       "_model_module": "@jupyter-widgets/base",
       "_model_module_version": "1.2.0",
       "_model_name": "LayoutModel",
       "_view_count": null,
       "_view_module": "@jupyter-widgets/base",
       "_view_module_version": "1.2.0",
       "_view_name": "LayoutView",
       "align_content": null,
       "align_items": null,
       "align_self": null,
       "border": null,
       "bottom": null,
       "display": null,
       "flex": null,
       "flex_flow": null,
       "grid_area": null,
       "grid_auto_columns": null,
       "grid_auto_flow": null,
       "grid_auto_rows": null,
       "grid_column": null,
       "grid_gap": null,
       "grid_row": null,
       "grid_template_areas": null,
       "grid_template_columns": null,
       "grid_template_rows": null,
       "height": null,
       "justify_content": null,
       "justify_items": null,
       "left": null,
       "margin": null,
       "max_height": null,
       "max_width": null,
       "min_height": null,
       "min_width": null,
       "object_fit": null,
       "object_position": null,
       "order": null,
       "overflow": null,
       "overflow_x": null,
       "overflow_y": null,
       "padding": null,
       "right": null,
       "top": null,
       "visibility": null,
       "width": null
      }
     },
     "a19d683d97ca4adf858730c4fc90d633": {
      "model_module": "@jupyter-widgets/base",
      "model_module_version": "1.2.0",
      "model_name": "LayoutModel",
      "state": {
       "_model_module": "@jupyter-widgets/base",
       "_model_module_version": "1.2.0",
       "_model_name": "LayoutModel",
       "_view_count": null,
       "_view_module": "@jupyter-widgets/base",
       "_view_module_version": "1.2.0",
       "_view_name": "LayoutView",
       "align_content": null,
       "align_items": null,
       "align_self": null,
       "border": null,
       "bottom": null,
       "display": null,
       "flex": null,
       "flex_flow": null,
       "grid_area": null,
       "grid_auto_columns": null,
       "grid_auto_flow": null,
       "grid_auto_rows": null,
       "grid_column": null,
       "grid_gap": null,
       "grid_row": null,
       "grid_template_areas": null,
       "grid_template_columns": null,
       "grid_template_rows": null,
       "height": null,
       "justify_content": null,
       "justify_items": null,
       "left": null,
       "margin": null,
       "max_height": null,
       "max_width": null,
       "min_height": null,
       "min_width": null,
       "object_fit": null,
       "object_position": null,
       "order": null,
       "overflow": null,
       "overflow_x": null,
       "overflow_y": null,
       "padding": null,
       "right": null,
       "top": null,
       "visibility": null,
       "width": null
      }
     },
     "a336547f1274459d80de95f630fb2b54": {
      "model_module": "@jupyter-widgets/base",
      "model_module_version": "1.2.0",
      "model_name": "LayoutModel",
      "state": {
       "_model_module": "@jupyter-widgets/base",
       "_model_module_version": "1.2.0",
       "_model_name": "LayoutModel",
       "_view_count": null,
       "_view_module": "@jupyter-widgets/base",
       "_view_module_version": "1.2.0",
       "_view_name": "LayoutView",
       "align_content": null,
       "align_items": null,
       "align_self": null,
       "border": null,
       "bottom": null,
       "display": null,
       "flex": null,
       "flex_flow": null,
       "grid_area": null,
       "grid_auto_columns": null,
       "grid_auto_flow": null,
       "grid_auto_rows": null,
       "grid_column": null,
       "grid_gap": null,
       "grid_row": null,
       "grid_template_areas": null,
       "grid_template_columns": null,
       "grid_template_rows": null,
       "height": null,
       "justify_content": null,
       "justify_items": null,
       "left": null,
       "margin": null,
       "max_height": null,
       "max_width": null,
       "min_height": null,
       "min_width": null,
       "object_fit": null,
       "object_position": null,
       "order": null,
       "overflow": null,
       "overflow_x": null,
       "overflow_y": null,
       "padding": null,
       "right": null,
       "top": null,
       "visibility": null,
       "width": null
      }
     },
     "a504809f5f3148da838aa02457a4720a": {
      "model_module": "@jupyter-widgets/controls",
      "model_module_version": "1.5.0",
      "model_name": "HBoxModel",
      "state": {
       "_dom_classes": [],
       "_model_module": "@jupyter-widgets/controls",
       "_model_module_version": "1.5.0",
       "_model_name": "HBoxModel",
       "_view_count": null,
       "_view_module": "@jupyter-widgets/controls",
       "_view_module_version": "1.5.0",
       "_view_name": "HBoxView",
       "box_style": "",
       "children": [
        "IPY_MODEL_742e9bdd04e5479bb2b48d1bdca00cae",
        "IPY_MODEL_aae6591de7274f5694ad8bca352c3daf",
        "IPY_MODEL_b796534c10f64a96bdf48f2fa472b337"
       ],
       "layout": "IPY_MODEL_a336547f1274459d80de95f630fb2b54"
      }
     },
     "a586dcf83e1e4127a17d6147f93c5227": {
      "model_module": "@jupyter-widgets/controls",
      "model_module_version": "1.5.0",
      "model_name": "ProgressStyleModel",
      "state": {
       "_model_module": "@jupyter-widgets/controls",
       "_model_module_version": "1.5.0",
       "_model_name": "ProgressStyleModel",
       "_view_count": null,
       "_view_module": "@jupyter-widgets/base",
       "_view_module_version": "1.2.0",
       "_view_name": "StyleView",
       "bar_color": null,
       "description_width": ""
      }
     },
     "aae6591de7274f5694ad8bca352c3daf": {
      "model_module": "@jupyter-widgets/controls",
      "model_module_version": "1.5.0",
      "model_name": "FloatProgressModel",
      "state": {
       "_dom_classes": [],
       "_model_module": "@jupyter-widgets/controls",
       "_model_module_version": "1.5.0",
       "_model_name": "FloatProgressModel",
       "_view_count": null,
       "_view_module": "@jupyter-widgets/controls",
       "_view_module_version": "1.5.0",
       "_view_name": "ProgressView",
       "bar_style": "success",
       "description": "",
       "description_tooltip": null,
       "layout": "IPY_MODEL_f6570b2f973c4cfcb25b9b5c9c9747f8",
       "max": 48.0,
       "min": 0.0,
       "orientation": "horizontal",
       "style": "IPY_MODEL_fc6500bf420c4905a74523d9e17f657c",
       "value": 48.0
      }
     },
     "b796534c10f64a96bdf48f2fa472b337": {
      "model_module": "@jupyter-widgets/controls",
      "model_module_version": "1.5.0",
      "model_name": "HTMLModel",
      "state": {
       "_dom_classes": [],
       "_model_module": "@jupyter-widgets/controls",
       "_model_module_version": "1.5.0",
       "_model_name": "HTMLModel",
       "_view_count": null,
       "_view_module": "@jupyter-widgets/controls",
       "_view_module_version": "1.5.0",
       "_view_name": "HTMLView",
       "description": "",
       "description_tooltip": null,
       "layout": "IPY_MODEL_c7413492e0bf4633b77bf60fdcc023b3",
       "placeholder": "​",
       "style": "IPY_MODEL_2f6e31c70f5b4d68aa907d83c8e72ecf",
       "value": " 48.0/48.0 [00:00&lt;00:00, 4.26kB/s]"
      }
     },
     "b921446d0e004eccac6702ca4f566e1f": {
      "model_module": "@jupyter-widgets/controls",
      "model_module_version": "1.5.0",
      "model_name": "DescriptionStyleModel",
      "state": {
       "_model_module": "@jupyter-widgets/controls",
       "_model_module_version": "1.5.0",
       "_model_name": "DescriptionStyleModel",
       "_view_count": null,
       "_view_module": "@jupyter-widgets/base",
       "_view_module_version": "1.2.0",
       "_view_name": "StyleView",
       "description_width": ""
      }
     },
     "c2b0501e1fd54199a1441f3e3f6d0d63": {
      "model_module": "@jupyter-widgets/base",
      "model_module_version": "1.2.0",
      "model_name": "LayoutModel",
      "state": {
       "_model_module": "@jupyter-widgets/base",
       "_model_module_version": "1.2.0",
       "_model_name": "LayoutModel",
       "_view_count": null,
       "_view_module": "@jupyter-widgets/base",
       "_view_module_version": "1.2.0",
       "_view_name": "LayoutView",
       "align_content": null,
       "align_items": null,
       "align_self": null,
       "border": null,
       "bottom": null,
       "display": null,
       "flex": null,
       "flex_flow": null,
       "grid_area": null,
       "grid_auto_columns": null,
       "grid_auto_flow": null,
       "grid_auto_rows": null,
       "grid_column": null,
       "grid_gap": null,
       "grid_row": null,
       "grid_template_areas": null,
       "grid_template_columns": null,
       "grid_template_rows": null,
       "height": null,
       "justify_content": null,
       "justify_items": null,
       "left": null,
       "margin": null,
       "max_height": null,
       "max_width": null,
       "min_height": null,
       "min_width": null,
       "object_fit": null,
       "object_position": null,
       "order": null,
       "overflow": null,
       "overflow_x": null,
       "overflow_y": null,
       "padding": null,
       "right": null,
       "top": null,
       "visibility": null,
       "width": null
      }
     },
     "c301a30defe14452a78a8962a011b21c": {
      "model_module": "@jupyter-widgets/controls",
      "model_module_version": "1.5.0",
      "model_name": "HTMLModel",
      "state": {
       "_dom_classes": [],
       "_model_module": "@jupyter-widgets/controls",
       "_model_module_version": "1.5.0",
       "_model_name": "HTMLModel",
       "_view_count": null,
       "_view_module": "@jupyter-widgets/controls",
       "_view_module_version": "1.5.0",
       "_view_name": "HTMLView",
       "description": "",
       "description_tooltip": null,
       "layout": "IPY_MODEL_95ae9b88536c4822ba02528f0bda9c4f",
       "placeholder": "​",
       "style": "IPY_MODEL_b921446d0e004eccac6702ca4f566e1f",
       "value": "tokenizer.json: 100%"
      }
     },
     "c6ad0565336c4119913aa2c24ba46ad4": {
      "model_module": "@jupyter-widgets/controls",
      "model_module_version": "1.5.0",
      "model_name": "DescriptionStyleModel",
      "state": {
       "_model_module": "@jupyter-widgets/controls",
       "_model_module_version": "1.5.0",
       "_model_name": "DescriptionStyleModel",
       "_view_count": null,
       "_view_module": "@jupyter-widgets/base",
       "_view_module_version": "1.2.0",
       "_view_name": "StyleView",
       "description_width": ""
      }
     },
     "c7413492e0bf4633b77bf60fdcc023b3": {
      "model_module": "@jupyter-widgets/base",
      "model_module_version": "1.2.0",
      "model_name": "LayoutModel",
      "state": {
       "_model_module": "@jupyter-widgets/base",
       "_model_module_version": "1.2.0",
       "_model_name": "LayoutModel",
       "_view_count": null,
       "_view_module": "@jupyter-widgets/base",
       "_view_module_version": "1.2.0",
       "_view_name": "LayoutView",
       "align_content": null,
       "align_items": null,
       "align_self": null,
       "border": null,
       "bottom": null,
       "display": null,
       "flex": null,
       "flex_flow": null,
       "grid_area": null,
       "grid_auto_columns": null,
       "grid_auto_flow": null,
       "grid_auto_rows": null,
       "grid_column": null,
       "grid_gap": null,
       "grid_row": null,
       "grid_template_areas": null,
       "grid_template_columns": null,
       "grid_template_rows": null,
       "height": null,
       "justify_content": null,
       "justify_items": null,
       "left": null,
       "margin": null,
       "max_height": null,
       "max_width": null,
       "min_height": null,
       "min_width": null,
       "object_fit": null,
       "object_position": null,
       "order": null,
       "overflow": null,
       "overflow_x": null,
       "overflow_y": null,
       "padding": null,
       "right": null,
       "top": null,
       "visibility": null,
       "width": null
      }
     },
     "cfdcc4be1a404ce1947d36acb89afa4f": {
      "model_module": "@jupyter-widgets/base",
      "model_module_version": "1.2.0",
      "model_name": "LayoutModel",
      "state": {
       "_model_module": "@jupyter-widgets/base",
       "_model_module_version": "1.2.0",
       "_model_name": "LayoutModel",
       "_view_count": null,
       "_view_module": "@jupyter-widgets/base",
       "_view_module_version": "1.2.0",
       "_view_name": "LayoutView",
       "align_content": null,
       "align_items": null,
       "align_self": null,
       "border": null,
       "bottom": null,
       "display": null,
       "flex": null,
       "flex_flow": null,
       "grid_area": null,
       "grid_auto_columns": null,
       "grid_auto_flow": null,
       "grid_auto_rows": null,
       "grid_column": null,
       "grid_gap": null,
       "grid_row": null,
       "grid_template_areas": null,
       "grid_template_columns": null,
       "grid_template_rows": null,
       "height": null,
       "justify_content": null,
       "justify_items": null,
       "left": null,
       "margin": null,
       "max_height": null,
       "max_width": null,
       "min_height": null,
       "min_width": null,
       "object_fit": null,
       "object_position": null,
       "order": null,
       "overflow": null,
       "overflow_x": null,
       "overflow_y": null,
       "padding": null,
       "right": null,
       "top": null,
       "visibility": null,
       "width": null
      }
     },
     "da26222076f04ef28952c317bc827364": {
      "model_module": "@jupyter-widgets/base",
      "model_module_version": "1.2.0",
      "model_name": "LayoutModel",
      "state": {
       "_model_module": "@jupyter-widgets/base",
       "_model_module_version": "1.2.0",
       "_model_name": "LayoutModel",
       "_view_count": null,
       "_view_module": "@jupyter-widgets/base",
       "_view_module_version": "1.2.0",
       "_view_name": "LayoutView",
       "align_content": null,
       "align_items": null,
       "align_self": null,
       "border": null,
       "bottom": null,
       "display": null,
       "flex": null,
       "flex_flow": null,
       "grid_area": null,
       "grid_auto_columns": null,
       "grid_auto_flow": null,
       "grid_auto_rows": null,
       "grid_column": null,
       "grid_gap": null,
       "grid_row": null,
       "grid_template_areas": null,
       "grid_template_columns": null,
       "grid_template_rows": null,
       "height": null,
       "justify_content": null,
       "justify_items": null,
       "left": null,
       "margin": null,
       "max_height": null,
       "max_width": null,
       "min_height": null,
       "min_width": null,
       "object_fit": null,
       "object_position": null,
       "order": null,
       "overflow": null,
       "overflow_x": null,
       "overflow_y": null,
       "padding": null,
       "right": null,
       "top": null,
       "visibility": null,
       "width": null
      }
     },
     "dd9058d79c6c49498513a9b1c8d29031": {
      "model_module": "@jupyter-widgets/controls",
      "model_module_version": "1.5.0",
      "model_name": "DescriptionStyleModel",
      "state": {
       "_model_module": "@jupyter-widgets/controls",
       "_model_module_version": "1.5.0",
       "_model_name": "DescriptionStyleModel",
       "_view_count": null,
       "_view_module": "@jupyter-widgets/base",
       "_view_module_version": "1.2.0",
       "_view_name": "StyleView",
       "description_width": ""
      }
     },
     "dec36c935c754f80bae256d2330b7544": {
      "model_module": "@jupyter-widgets/base",
      "model_module_version": "1.2.0",
      "model_name": "LayoutModel",
      "state": {
       "_model_module": "@jupyter-widgets/base",
       "_model_module_version": "1.2.0",
       "_model_name": "LayoutModel",
       "_view_count": null,
       "_view_module": "@jupyter-widgets/base",
       "_view_module_version": "1.2.0",
       "_view_name": "LayoutView",
       "align_content": null,
       "align_items": null,
       "align_self": null,
       "border": null,
       "bottom": null,
       "display": null,
       "flex": null,
       "flex_flow": null,
       "grid_area": null,
       "grid_auto_columns": null,
       "grid_auto_flow": null,
       "grid_auto_rows": null,
       "grid_column": null,
       "grid_gap": null,
       "grid_row": null,
       "grid_template_areas": null,
       "grid_template_columns": null,
       "grid_template_rows": null,
       "height": null,
       "justify_content": null,
       "justify_items": null,
       "left": null,
       "margin": null,
       "max_height": null,
       "max_width": null,
       "min_height": null,
       "min_width": null,
       "object_fit": null,
       "object_position": null,
       "order": null,
       "overflow": null,
       "overflow_x": null,
       "overflow_y": null,
       "padding": null,
       "right": null,
       "top": null,
       "visibility": null,
       "width": null
      }
     },
     "e31a263de7b3429a8abcbc86eb0852ac": {
      "model_module": "@jupyter-widgets/base",
      "model_module_version": "1.2.0",
      "model_name": "LayoutModel",
      "state": {
       "_model_module": "@jupyter-widgets/base",
       "_model_module_version": "1.2.0",
       "_model_name": "LayoutModel",
       "_view_count": null,
       "_view_module": "@jupyter-widgets/base",
       "_view_module_version": "1.2.0",
       "_view_name": "LayoutView",
       "align_content": null,
       "align_items": null,
       "align_self": null,
       "border": null,
       "bottom": null,
       "display": null,
       "flex": null,
       "flex_flow": null,
       "grid_area": null,
       "grid_auto_columns": null,
       "grid_auto_flow": null,
       "grid_auto_rows": null,
       "grid_column": null,
       "grid_gap": null,
       "grid_row": null,
       "grid_template_areas": null,
       "grid_template_columns": null,
       "grid_template_rows": null,
       "height": null,
       "justify_content": null,
       "justify_items": null,
       "left": null,
       "margin": null,
       "max_height": null,
       "max_width": null,
       "min_height": null,
       "min_width": null,
       "object_fit": null,
       "object_position": null,
       "order": null,
       "overflow": null,
       "overflow_x": null,
       "overflow_y": null,
       "padding": null,
       "right": null,
       "top": null,
       "visibility": null,
       "width": null
      }
     },
     "edc316381a904b13a8d544c8841edbc0": {
      "model_module": "@jupyter-widgets/controls",
      "model_module_version": "1.5.0",
      "model_name": "DescriptionStyleModel",
      "state": {
       "_model_module": "@jupyter-widgets/controls",
       "_model_module_version": "1.5.0",
       "_model_name": "DescriptionStyleModel",
       "_view_count": null,
       "_view_module": "@jupyter-widgets/base",
       "_view_module_version": "1.2.0",
       "_view_name": "StyleView",
       "description_width": ""
      }
     },
     "f1c152feac514397815d3c4bf8970309": {
      "model_module": "@jupyter-widgets/controls",
      "model_module_version": "1.5.0",
      "model_name": "HBoxModel",
      "state": {
       "_dom_classes": [],
       "_model_module": "@jupyter-widgets/controls",
       "_model_module_version": "1.5.0",
       "_model_name": "HBoxModel",
       "_view_count": null,
       "_view_module": "@jupyter-widgets/controls",
       "_view_module_version": "1.5.0",
       "_view_name": "HBoxView",
       "box_style": "",
       "children": [
        "IPY_MODEL_6c21330114c94a05aea8c0ebfe1bcca6",
        "IPY_MODEL_340667ead8a34722b8256dedf6aafe12",
        "IPY_MODEL_0ab73256073d4b9cb945d9efeb0fd6da"
       ],
       "layout": "IPY_MODEL_0fca59d777eb431da610f48d4340fbfa"
      }
     },
     "f6570b2f973c4cfcb25b9b5c9c9747f8": {
      "model_module": "@jupyter-widgets/base",
      "model_module_version": "1.2.0",
      "model_name": "LayoutModel",
      "state": {
       "_model_module": "@jupyter-widgets/base",
       "_model_module_version": "1.2.0",
       "_model_name": "LayoutModel",
       "_view_count": null,
       "_view_module": "@jupyter-widgets/base",
       "_view_module_version": "1.2.0",
       "_view_name": "LayoutView",
       "align_content": null,
       "align_items": null,
       "align_self": null,
       "border": null,
       "bottom": null,
       "display": null,
       "flex": null,
       "flex_flow": null,
       "grid_area": null,
       "grid_auto_columns": null,
       "grid_auto_flow": null,
       "grid_auto_rows": null,
       "grid_column": null,
       "grid_gap": null,
       "grid_row": null,
       "grid_template_areas": null,
       "grid_template_columns": null,
       "grid_template_rows": null,
       "height": null,
       "justify_content": null,
       "justify_items": null,
       "left": null,
       "margin": null,
       "max_height": null,
       "max_width": null,
       "min_height": null,
       "min_width": null,
       "object_fit": null,
       "object_position": null,
       "order": null,
       "overflow": null,
       "overflow_x": null,
       "overflow_y": null,
       "padding": null,
       "right": null,
       "top": null,
       "visibility": null,
       "width": null
      }
     },
     "fabe8c26c72f4052989baf37207fe90d": {
      "model_module": "@jupyter-widgets/controls",
      "model_module_version": "1.5.0",
      "model_name": "DescriptionStyleModel",
      "state": {
       "_model_module": "@jupyter-widgets/controls",
       "_model_module_version": "1.5.0",
       "_model_name": "DescriptionStyleModel",
       "_view_count": null,
       "_view_module": "@jupyter-widgets/base",
       "_view_module_version": "1.2.0",
       "_view_name": "StyleView",
       "description_width": ""
      }
     },
     "fc10487b6e4b466a9f0cd78583cc297d": {
      "model_module": "@jupyter-widgets/base",
      "model_module_version": "1.2.0",
      "model_name": "LayoutModel",
      "state": {
       "_model_module": "@jupyter-widgets/base",
       "_model_module_version": "1.2.0",
       "_model_name": "LayoutModel",
       "_view_count": null,
       "_view_module": "@jupyter-widgets/base",
       "_view_module_version": "1.2.0",
       "_view_name": "LayoutView",
       "align_content": null,
       "align_items": null,
       "align_self": null,
       "border": null,
       "bottom": null,
       "display": null,
       "flex": null,
       "flex_flow": null,
       "grid_area": null,
       "grid_auto_columns": null,
       "grid_auto_flow": null,
       "grid_auto_rows": null,
       "grid_column": null,
       "grid_gap": null,
       "grid_row": null,
       "grid_template_areas": null,
       "grid_template_columns": null,
       "grid_template_rows": null,
       "height": null,
       "justify_content": null,
       "justify_items": null,
       "left": null,
       "margin": null,
       "max_height": null,
       "max_width": null,
       "min_height": null,
       "min_width": null,
       "object_fit": null,
       "object_position": null,
       "order": null,
       "overflow": null,
       "overflow_x": null,
       "overflow_y": null,
       "padding": null,
       "right": null,
       "top": null,
       "visibility": null,
       "width": null
      }
     },
     "fc6500bf420c4905a74523d9e17f657c": {
      "model_module": "@jupyter-widgets/controls",
      "model_module_version": "1.5.0",
      "model_name": "ProgressStyleModel",
      "state": {
       "_model_module": "@jupyter-widgets/controls",
       "_model_module_version": "1.5.0",
       "_model_name": "ProgressStyleModel",
       "_view_count": null,
       "_view_module": "@jupyter-widgets/base",
       "_view_module_version": "1.2.0",
       "_view_name": "StyleView",
       "bar_color": null,
       "description_width": ""
      }
     },
     "fd7ff0be5bed472fafc76a9dd475691e": {
      "model_module": "@jupyter-widgets/controls",
      "model_module_version": "1.5.0",
      "model_name": "HTMLModel",
      "state": {
       "_dom_classes": [],
       "_model_module": "@jupyter-widgets/controls",
       "_model_module_version": "1.5.0",
       "_model_name": "HTMLModel",
       "_view_count": null,
       "_view_module": "@jupyter-widgets/controls",
       "_view_module_version": "1.5.0",
       "_view_name": "HTMLView",
       "description": "",
       "description_tooltip": null,
       "layout": "IPY_MODEL_3cf04f673a2344b8b8cd0d626ce61273",
       "placeholder": "​",
       "style": "IPY_MODEL_edc316381a904b13a8d544c8841edbc0",
       "value": "config.json: 100%"
      }
     },
     "fe10b923e5154d1b9919811198d6c3b4": {
      "model_module": "@jupyter-widgets/controls",
      "model_module_version": "1.5.0",
      "model_name": "FloatProgressModel",
      "state": {
       "_dom_classes": [],
       "_model_module": "@jupyter-widgets/controls",
       "_model_module_version": "1.5.0",
       "_model_name": "FloatProgressModel",
       "_view_count": null,
       "_view_module": "@jupyter-widgets/controls",
       "_view_module_version": "1.5.0",
       "_view_name": "ProgressView",
       "bar_style": "success",
       "description": "",
       "description_tooltip": null,
       "layout": "IPY_MODEL_fc10487b6e4b466a9f0cd78583cc297d",
       "max": 267954768.0,
       "min": 0.0,
       "orientation": "horizontal",
       "style": "IPY_MODEL_28d6b07d964d4bc59171d644a2c09e24",
       "value": 267954768.0
      }
     },
     "fe6c21b373ed4f2eb3192163e4caca9d": {
      "model_module": "@jupyter-widgets/controls",
      "model_module_version": "1.5.0",
      "model_name": "HTMLModel",
      "state": {
       "_dom_classes": [],
       "_model_module": "@jupyter-widgets/controls",
       "_model_module_version": "1.5.0",
       "_model_name": "HTMLModel",
       "_view_count": null,
       "_view_module": "@jupyter-widgets/controls",
       "_view_module_version": "1.5.0",
       "_view_name": "HTMLView",
       "description": "",
       "description_tooltip": null,
       "layout": "IPY_MODEL_da26222076f04ef28952c317bc827364",
       "placeholder": "​",
       "style": "IPY_MODEL_02a0eb8986444388bb2da62764e0776c",
       "value": " 466k/466k [00:00&lt;00:00, 2.50MB/s]"
      }
     }
    },
    "version_major": 2,
    "version_minor": 0
   }
  }
 },
 "nbformat": 4,
 "nbformat_minor": 5
}
