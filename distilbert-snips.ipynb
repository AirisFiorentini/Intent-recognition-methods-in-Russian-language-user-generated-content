{
 "cells": [
  {
   "cell_type": "code",
   "execution_count": 1,
   "id": "59d3dba6",
   "metadata": {
    "_cell_guid": "b1076dfc-b9ad-4769-8c92-a6c4dae69d19",
    "_uuid": "8f2839f25d086af736a60e9eeb907d3b93b6e0e5",
    "execution": {
     "iopub.execute_input": "2024-05-20T13:50:31.104980Z",
     "iopub.status.busy": "2024-05-20T13:50:31.104236Z",
     "iopub.status.idle": "2024-05-20T13:50:31.786209Z",
     "shell.execute_reply": "2024-05-20T13:50:31.785118Z"
    },
    "papermill": {
     "duration": 0.69486,
     "end_time": "2024-05-20T13:50:31.788466",
     "exception": false,
     "start_time": "2024-05-20T13:50:31.093606",
     "status": "completed"
    },
    "tags": []
   },
   "outputs": [
    {
     "name": "stdout",
     "output_type": "stream",
     "text": [
      "/kaggle/input/snips-dataset/train_data.csv\n",
      "/kaggle/input/snips-dataset/validate_data.csv\n"
     ]
    }
   ],
   "source": [
    "# This Python 3 environment comes with many helpful analytics libraries installed\n",
    "# It is defined by the kaggle/python Docker image: https://github.com/kaggle/docker-python\n",
    "# For example, here's several helpful packages to load\n",
    "\n",
    "import numpy as np # linear algebra\n",
    "import pandas as pd # data processing, CSV file I/O (e.g. pd.read_csv)\n",
    "\n",
    "# Input data files are available in the read-only \"../input/\" directory\n",
    "# For example, running this (by clicking run or pressing Shift+Enter) will list all files under the input directory\n",
    "\n",
    "import os\n",
    "for dirname, _, filenames in os.walk('/kaggle/input'):\n",
    "    for filename in filenames:\n",
    "        print(os.path.join(dirname, filename))\n",
    "\n",
    "# You can write up to 20GB to the current directory (/kaggle/working/) that gets preserved as output when you create a version using \"Save & Run All\" \n",
    "# You can also write temporary files to /kaggle/temp/, but they won't be saved outside of the current session"
   ]
  },
  {
   "cell_type": "code",
   "execution_count": 2,
   "id": "0dd52259",
   "metadata": {
    "execution": {
     "iopub.execute_input": "2024-05-20T13:50:31.807025Z",
     "iopub.status.busy": "2024-05-20T13:50:31.806625Z",
     "iopub.status.idle": "2024-05-20T13:50:39.683593Z",
     "shell.execute_reply": "2024-05-20T13:50:39.682736Z"
    },
    "papermill": {
     "duration": 7.888778,
     "end_time": "2024-05-20T13:50:39.686069",
     "exception": false,
     "start_time": "2024-05-20T13:50:31.797291",
     "status": "completed"
    },
    "tags": []
   },
   "outputs": [],
   "source": [
    "import torch\n",
    "from torch.utils.data import Dataset, DataLoader\n",
    "from transformers import BertTokenizer, BertForSequenceClassification, AdamW\n",
    "from sklearn.metrics import confusion_matrix, accuracy_score"
   ]
  },
  {
   "cell_type": "code",
   "execution_count": 3,
   "id": "3003ee8b",
   "metadata": {
    "execution": {
     "iopub.execute_input": "2024-05-20T13:50:39.706775Z",
     "iopub.status.busy": "2024-05-20T13:50:39.705754Z",
     "iopub.status.idle": "2024-05-20T13:50:39.709927Z",
     "shell.execute_reply": "2024-05-20T13:50:39.709018Z"
    },
    "papermill": {
     "duration": 0.015557,
     "end_time": "2024-05-20T13:50:39.711776",
     "exception": false,
     "start_time": "2024-05-20T13:50:39.696219",
     "status": "completed"
    },
    "tags": []
   },
   "outputs": [],
   "source": [
    "# import pandas as pd\n",
    "# import numpy as np"
   ]
  },
  {
   "cell_type": "code",
   "execution_count": 4,
   "id": "9e033463",
   "metadata": {
    "execution": {
     "iopub.execute_input": "2024-05-20T13:50:39.730193Z",
     "iopub.status.busy": "2024-05-20T13:50:39.729816Z",
     "iopub.status.idle": "2024-05-20T13:50:39.734135Z",
     "shell.execute_reply": "2024-05-20T13:50:39.733368Z"
    },
    "papermill": {
     "duration": 0.015675,
     "end_time": "2024-05-20T13:50:39.736180",
     "exception": false,
     "start_time": "2024-05-20T13:50:39.720505",
     "status": "completed"
    },
    "tags": []
   },
   "outputs": [],
   "source": [
    "from tqdm import tqdm"
   ]
  },
  {
   "cell_type": "code",
   "execution_count": 5,
   "id": "7a0461f2",
   "metadata": {
    "execution": {
     "iopub.execute_input": "2024-05-20T13:50:39.754487Z",
     "iopub.status.busy": "2024-05-20T13:50:39.754191Z",
     "iopub.status.idle": "2024-05-20T13:50:39.809400Z",
     "shell.execute_reply": "2024-05-20T13:50:39.808102Z"
    },
    "papermill": {
     "duration": 0.066865,
     "end_time": "2024-05-20T13:50:39.811442",
     "exception": false,
     "start_time": "2024-05-20T13:50:39.744577",
     "status": "completed"
    },
    "tags": []
   },
   "outputs": [
    {
     "name": "stdout",
     "output_type": "stream",
     "text": [
      "Train data:\n",
      "                       text       entity              intent\n",
      "0  Please help me find the           NaN  SearchCreativeWork\n",
      "1        Bloom: Remix Album  object_name  SearchCreativeWork\n",
      "2                                    NaN  SearchCreativeWork\n",
      "3                      song  object_type  SearchCreativeWork\n",
      "4                         .          NaN  SearchCreativeWork\n",
      "\n",
      "Validate data:\n",
      "                  text       entity              intent\n",
      "0    Wish to find the           NaN  SearchCreativeWork\n",
      "1                movie  object_type  SearchCreativeWork\n",
      "2                 the           NaN  SearchCreativeWork\n",
      "3           Heart Beat  object_name  SearchCreativeWork\n",
      "4  Please look up the           NaN  SearchCreativeWork\n"
     ]
    }
   ],
   "source": [
    "# Путь к файлу CSV\n",
    "train_data_path = \"/kaggle/input/snips-dataset/train_data.csv\"\n",
    "validate_data_path = \"/kaggle/input/snips-dataset/validate_data.csv\"\n",
    "\n",
    "# Чтение данных из CSV-файлов\n",
    "train_data = pd.read_csv(train_data_path)\n",
    "validate_data = pd.read_csv(validate_data_path)\n",
    "\n",
    "# Вывод первых 5 строк каждого DataFrame\n",
    "print(\"Train data:\")\n",
    "print(train_data.head())\n",
    "print(\"\\nValidate data:\")\n",
    "print(validate_data.head())"
   ]
  },
  {
   "cell_type": "code",
   "execution_count": 6,
   "id": "2ce4f8f7",
   "metadata": {
    "execution": {
     "iopub.execute_input": "2024-05-20T13:50:39.830258Z",
     "iopub.status.busy": "2024-05-20T13:50:39.829738Z",
     "iopub.status.idle": "2024-05-20T13:50:39.845637Z",
     "shell.execute_reply": "2024-05-20T13:50:39.844667Z"
    },
    "papermill": {
     "duration": 0.02764,
     "end_time": "2024-05-20T13:50:39.847817",
     "exception": false,
     "start_time": "2024-05-20T13:50:39.820177",
     "status": "completed"
    },
    "tags": []
   },
   "outputs": [
    {
     "name": "stdout",
     "output_type": "stream",
     "text": [
      "intent\n",
      "BookRestaurant          0.194746\n",
      "GetWeather              0.175608\n",
      "AddToPlaylist           0.157467\n",
      "PlayMusic               0.149945\n",
      "SearchCreativeWork      0.139878\n",
      "SearchScreeningEvent    0.099889\n",
      "RateBook                0.082467\n",
      "Name: proportion, dtype: float64\n"
     ]
    }
   ],
   "source": [
    "unique_values_normalized = train_data['intent'].value_counts(normalize=True)\n",
    "print(unique_values_normalized)"
   ]
  },
  {
   "cell_type": "code",
   "execution_count": 7,
   "id": "1b9eb2ec",
   "metadata": {
    "execution": {
     "iopub.execute_input": "2024-05-20T13:50:39.867116Z",
     "iopub.status.busy": "2024-05-20T13:50:39.866860Z",
     "iopub.status.idle": "2024-05-20T13:50:39.876553Z",
     "shell.execute_reply": "2024-05-20T13:50:39.875648Z"
    },
    "papermill": {
     "duration": 0.021294,
     "end_time": "2024-05-20T13:50:39.878738",
     "exception": false,
     "start_time": "2024-05-20T13:50:39.857444",
     "status": "completed"
    },
    "tags": []
   },
   "outputs": [],
   "source": [
    "train_data = train_data.drop('entity', axis=1)\n",
    "validate_data = validate_data.drop('entity', axis=1)"
   ]
  },
  {
   "cell_type": "code",
   "execution_count": 8,
   "id": "75e7271e",
   "metadata": {
    "execution": {
     "iopub.execute_input": "2024-05-20T13:50:39.896959Z",
     "iopub.status.busy": "2024-05-20T13:50:39.896684Z",
     "iopub.status.idle": "2024-05-20T13:50:39.907939Z",
     "shell.execute_reply": "2024-05-20T13:50:39.907278Z"
    },
    "papermill": {
     "duration": 0.022316,
     "end_time": "2024-05-20T13:50:39.909749",
     "exception": false,
     "start_time": "2024-05-20T13:50:39.887433",
     "status": "completed"
    },
    "tags": []
   },
   "outputs": [],
   "source": [
    "# Удалите строки, где столбец 'column_name' пуст\n",
    "train_data = train_data.dropna(subset=['text'])\n",
    "validate_data = validate_data.dropna(subset=['text'])"
   ]
  },
  {
   "cell_type": "code",
   "execution_count": 9,
   "id": "8f0b53c1",
   "metadata": {
    "execution": {
     "iopub.execute_input": "2024-05-20T13:50:39.927721Z",
     "iopub.status.busy": "2024-05-20T13:50:39.927418Z",
     "iopub.status.idle": "2024-05-20T13:50:39.963719Z",
     "shell.execute_reply": "2024-05-20T13:50:39.963009Z"
    },
    "papermill": {
     "duration": 0.047359,
     "end_time": "2024-05-20T13:50:39.965606",
     "exception": false,
     "start_time": "2024-05-20T13:50:39.918247",
     "status": "completed"
    },
    "tags": []
   },
   "outputs": [],
   "source": [
    "# Подсчитываем количество примеров для каждого класса\n",
    "class_counts = train_data['intent'].value_counts()\n",
    "\n",
    "# Находим класс с наименьшим количеством примеров\n",
    "min_class = class_counts.idxmin()\n",
    "min_class_count = class_counts.min()\n",
    "\n",
    "# Делаем undersampling для всех остальных классов\n",
    "balanced_data = train_data[train_data['intent'] == min_class]\n",
    "for intent in class_counts.index:\n",
    "    if intent != min_class:\n",
    "        samples = train_data[train_data['intent'] == intent].sample(min_class_count)\n",
    "        balanced_data = pd.concat([balanced_data, samples], axis=0)\n",
    "\n",
    "# Теперь в balanced_data примеры каждого класса представлены в одинаковом количестве"
   ]
  },
  {
   "cell_type": "code",
   "execution_count": 10,
   "id": "0d58489c",
   "metadata": {
    "execution": {
     "iopub.execute_input": "2024-05-20T13:50:39.983694Z",
     "iopub.status.busy": "2024-05-20T13:50:39.983406Z",
     "iopub.status.idle": "2024-05-20T13:50:39.998777Z",
     "shell.execute_reply": "2024-05-20T13:50:39.997940Z"
    },
    "papermill": {
     "duration": 0.026777,
     "end_time": "2024-05-20T13:50:40.000955",
     "exception": false,
     "start_time": "2024-05-20T13:50:39.974178",
     "status": "completed"
    },
    "tags": []
   },
   "outputs": [
    {
     "name": "stdout",
     "output_type": "stream",
     "text": [
      "<class 'pandas.core.frame.DataFrame'>\n",
      "Index: 10437 entries, 10357 to 4011\n",
      "Data columns (total 2 columns):\n",
      " #   Column  Non-Null Count  Dtype \n",
      "---  ------  --------------  ----- \n",
      " 0   text    10437 non-null  object\n",
      " 1   intent  10437 non-null  object\n",
      "dtypes: object(2)\n",
      "memory usage: 244.6+ KB\n"
     ]
    }
   ],
   "source": [
    "balanced_data.info()"
   ]
  },
  {
   "cell_type": "code",
   "execution_count": 11,
   "id": "5db65fb5",
   "metadata": {
    "execution": {
     "iopub.execute_input": "2024-05-20T13:50:40.020697Z",
     "iopub.status.busy": "2024-05-20T13:50:40.020394Z",
     "iopub.status.idle": "2024-05-20T13:50:41.237893Z",
     "shell.execute_reply": "2024-05-20T13:50:41.236886Z"
    },
    "papermill": {
     "duration": 1.229355,
     "end_time": "2024-05-20T13:50:41.240100",
     "exception": false,
     "start_time": "2024-05-20T13:50:40.010745",
     "status": "completed"
    },
    "tags": []
   },
   "outputs": [
    {
     "data": {
      "application/vnd.jupyter.widget-view+json": {
       "model_id": "acb3f51229f5461b8e74191b2fa934c2",
       "version_major": 2,
       "version_minor": 0
      },
      "text/plain": [
       "tokenizer_config.json:   0%|          | 0.00/48.0 [00:00<?, ?B/s]"
      ]
     },
     "metadata": {},
     "output_type": "display_data"
    },
    {
     "data": {
      "application/vnd.jupyter.widget-view+json": {
       "model_id": "143f1ccf41ff4284a6b393db1d6a267b",
       "version_major": 2,
       "version_minor": 0
      },
      "text/plain": [
       "vocab.txt:   0%|          | 0.00/232k [00:00<?, ?B/s]"
      ]
     },
     "metadata": {},
     "output_type": "display_data"
    },
    {
     "data": {
      "application/vnd.jupyter.widget-view+json": {
       "model_id": "845a09bf771841e8b315f048fd6977cb",
       "version_major": 2,
       "version_minor": 0
      },
      "text/plain": [
       "tokenizer.json:   0%|          | 0.00/466k [00:00<?, ?B/s]"
      ]
     },
     "metadata": {},
     "output_type": "display_data"
    },
    {
     "data": {
      "application/vnd.jupyter.widget-view+json": {
       "model_id": "cd4e3a4c073048bea5c61f0a20178f54",
       "version_major": 2,
       "version_minor": 0
      },
      "text/plain": [
       "config.json:   0%|          | 0.00/483 [00:00<?, ?B/s]"
      ]
     },
     "metadata": {},
     "output_type": "display_data"
    }
   ],
   "source": [
    "from transformers import DistilBertTokenizer\n",
    "tokenizer = DistilBertTokenizer.from_pretrained('distilbert-base-uncased')\n"
   ]
  },
  {
   "cell_type": "code",
   "execution_count": 12,
   "id": "fd34981f",
   "metadata": {
    "execution": {
     "iopub.execute_input": "2024-05-20T13:50:41.260622Z",
     "iopub.status.busy": "2024-05-20T13:50:41.260265Z",
     "iopub.status.idle": "2024-05-20T13:50:41.264305Z",
     "shell.execute_reply": "2024-05-20T13:50:41.263473Z"
    },
    "papermill": {
     "duration": 0.016283,
     "end_time": "2024-05-20T13:50:41.266141",
     "exception": false,
     "start_time": "2024-05-20T13:50:41.249858",
     "status": "completed"
    },
    "tags": []
   },
   "outputs": [],
   "source": [
    "from torch.nn import CrossEntropyLoss"
   ]
  },
  {
   "cell_type": "code",
   "execution_count": 13,
   "id": "920b1900",
   "metadata": {
    "execution": {
     "iopub.execute_input": "2024-05-20T13:50:41.286270Z",
     "iopub.status.busy": "2024-05-20T13:50:41.285979Z",
     "iopub.status.idle": "2024-05-20T13:50:41.293192Z",
     "shell.execute_reply": "2024-05-20T13:50:41.292427Z"
    },
    "papermill": {
     "duration": 0.019476,
     "end_time": "2024-05-20T13:50:41.295038",
     "exception": false,
     "start_time": "2024-05-20T13:50:41.275562",
     "status": "completed"
    },
    "tags": []
   },
   "outputs": [],
   "source": [
    "class IntentClassificationDataset(Dataset):\n",
    "    def __init__(self, texts, labels, tokenizer, max_len):\n",
    "        self.texts = texts\n",
    "        self.labels = labels\n",
    "        self.tokenizer = tokenizer\n",
    "        self.max_len = max_len\n",
    "\n",
    "    def __len__(self):\n",
    "        return len(self.texts)\n",
    "\n",
    "    def __getitem__(self, item):\n",
    "        text = str(self.texts[item])\n",
    "        label = self.labels[item]\n",
    "\n",
    "        encoding = self.tokenizer.encode_plus(\n",
    "            text,\n",
    "            add_special_tokens=True,\n",
    "            max_length=self.max_len,\n",
    "            return_token_type_ids=False,\n",
    "            padding='max_length',\n",
    "            return_attention_mask=True,\n",
    "            return_tensors='pt',\n",
    "        )\n",
    "\n",
    "        return {\n",
    "            'text': text,\n",
    "            'input_ids': encoding['input_ids'].flatten(),\n",
    "            'attention_mask': encoding['attention_mask'].flatten(),\n",
    "            'labels': torch.tensor(label, dtype=torch.long)\n",
    "        }"
   ]
  },
  {
   "cell_type": "code",
   "execution_count": 14,
   "id": "350493cb",
   "metadata": {
    "execution": {
     "iopub.execute_input": "2024-05-20T13:50:41.315050Z",
     "iopub.status.busy": "2024-05-20T13:50:41.314798Z",
     "iopub.status.idle": "2024-05-20T13:50:41.323230Z",
     "shell.execute_reply": "2024-05-20T13:50:41.322379Z"
    },
    "papermill": {
     "duration": 0.020551,
     "end_time": "2024-05-20T13:50:41.325101",
     "exception": false,
     "start_time": "2024-05-20T13:50:41.304550",
     "status": "completed"
    },
    "tags": []
   },
   "outputs": [],
   "source": [
    "class EarlyStopping:\n",
    "    def __init__(self, patience=2, verbose=False, delta=0):\n",
    "        self.patience = patience\n",
    "        self.verbose = verbose\n",
    "        self.counter = 0\n",
    "        self.best_score = None\n",
    "        self.early_stop = False\n",
    "        self.val_loss_min = np.Inf\n",
    "        self.delta = delta\n",
    "\n",
    "    def __call__(self, val_loss, model):\n",
    "\n",
    "        score = -val_loss\n",
    "\n",
    "        if self.best_score is None:\n",
    "            self.best_score = score\n",
    "            self.save_checkpoint(val_loss, model)\n",
    "        elif score < self.best_score + self.delta:\n",
    "            self.counter += 1\n",
    "            print(f'EarlyStopping counter: {self.counter} out of {self.patience}')\n",
    "            if self.counter >= self.patience:\n",
    "                self.early_stop = True\n",
    "        else:\n",
    "            self.best_score = score\n",
    "            self.save_checkpoint(val_loss, model)\n",
    "            self.counter = 0\n",
    "\n",
    "    def save_checkpoint(self, val_loss, model):\n",
    "        if self.verbose:\n",
    "            print(f'Validation loss decreased ({self.val_loss_min:.6f} --> {val_loss:.6f}).  Saving model ...')\n",
    "        torch.save(model.state_dict(), 'checkpoint.pt')\n",
    "        self.val_loss_min = val_loss\n"
   ]
  },
  {
   "cell_type": "code",
   "execution_count": 15,
   "id": "b5554aa9",
   "metadata": {
    "execution": {
     "iopub.execute_input": "2024-05-20T13:50:41.345200Z",
     "iopub.status.busy": "2024-05-20T13:50:41.344927Z",
     "iopub.status.idle": "2024-05-20T13:50:41.356163Z",
     "shell.execute_reply": "2024-05-20T13:50:41.355483Z"
    },
    "papermill": {
     "duration": 0.023342,
     "end_time": "2024-05-20T13:50:41.358062",
     "exception": false,
     "start_time": "2024-05-20T13:50:41.334720",
     "status": "completed"
    },
    "tags": []
   },
   "outputs": [],
   "source": [
    "from torch import nn\n",
    "from transformers import DistilBertModel\n",
    "\n",
    "class CustomDistilBertModel(nn.Module):\n",
    "    def __init__(self, num_labels):\n",
    "        super(CustomDistilBertModel, self).__init__()\n",
    "        self.distilbert = DistilBertModel.from_pretrained('distilbert-base-uncased')\n",
    "        self.dropout = nn.Dropout(0.1)\n",
    "        self.fc1 = nn.Linear(768, 512)\n",
    "        self.fc2 = nn.Linear(512, num_labels)\n",
    "\n",
    "    def forward(self, input_ids, attention_mask):\n",
    "        output = self.distilbert(input_ids=input_ids, attention_mask=attention_mask)\n",
    "        pooled_output = output[0][:, 0]\n",
    "        output = self.dropout(pooled_output)\n",
    "        output = self.fc1(output)\n",
    "        output = nn.Tanh()(output)\n",
    "        output = self.dropout(output)\n",
    "        output = self.fc2(output)\n",
    "        return output\n",
    "\n"
   ]
  },
  {
   "cell_type": "code",
   "execution_count": 16,
   "id": "bcf435e5",
   "metadata": {
    "execution": {
     "iopub.execute_input": "2024-05-20T13:50:41.378115Z",
     "iopub.status.busy": "2024-05-20T13:50:41.377852Z",
     "iopub.status.idle": "2024-05-20T13:50:41.386847Z",
     "shell.execute_reply": "2024-05-20T13:50:41.386142Z"
    },
    "papermill": {
     "duration": 0.021124,
     "end_time": "2024-05-20T13:50:41.388662",
     "exception": false,
     "start_time": "2024-05-20T13:50:41.367538",
     "status": "completed"
    },
    "tags": []
   },
   "outputs": [],
   "source": [
    "# Преобразование меток в числовой формат\n",
    "unique_intents = train_data['intent'].unique().tolist()\n",
    "intent_mapping = {intent: i for i, intent in enumerate(unique_intents)}\n",
    "train_labels = [intent_mapping[intent] for intent in balanced_data['intent']]\n",
    "test_labels = [intent_mapping[intent] for intent in validate_data['intent']]"
   ]
  },
  {
   "cell_type": "code",
   "execution_count": 17,
   "id": "f24bd616",
   "metadata": {
    "execution": {
     "iopub.execute_input": "2024-05-20T13:50:41.408964Z",
     "iopub.status.busy": "2024-05-20T13:50:41.408675Z",
     "iopub.status.idle": "2024-05-20T13:50:41.415046Z",
     "shell.execute_reply": "2024-05-20T13:50:41.414221Z"
    },
    "papermill": {
     "duration": 0.018776,
     "end_time": "2024-05-20T13:50:41.416975",
     "exception": false,
     "start_time": "2024-05-20T13:50:41.398199",
     "status": "completed"
    },
    "tags": []
   },
   "outputs": [],
   "source": [
    "# Создание наборов данных PyTorch\n",
    "max_len = 128\n",
    "batch_size = 16 #16\n",
    "train_dataset = IntentClassificationDataset(balanced_data['text'].tolist(), train_labels, tokenizer, max_len)\n",
    "test_dataset = IntentClassificationDataset(validate_data['text'].tolist(), test_labels, tokenizer, max_len)\n",
    "\n",
    "train_data_loader = DataLoader(train_dataset, batch_size=batch_size, shuffle=True)\n",
    "test_data_loader = DataLoader(test_dataset, batch_size=batch_size, shuffle=False)\n"
   ]
  },
  {
   "cell_type": "code",
   "execution_count": 18,
   "id": "d4efd2fa",
   "metadata": {
    "execution": {
     "iopub.execute_input": "2024-05-20T13:50:41.438123Z",
     "iopub.status.busy": "2024-05-20T13:50:41.437843Z",
     "iopub.status.idle": "2024-05-20T13:50:43.287997Z",
     "shell.execute_reply": "2024-05-20T13:50:43.286901Z"
    },
    "papermill": {
     "duration": 1.863653,
     "end_time": "2024-05-20T13:50:43.290513",
     "exception": false,
     "start_time": "2024-05-20T13:50:41.426860",
     "status": "completed"
    },
    "tags": []
   },
   "outputs": [
    {
     "data": {
      "application/vnd.jupyter.widget-view+json": {
       "model_id": "a07767623d6d4e7db383ad7714a32266",
       "version_major": 2,
       "version_minor": 0
      },
      "text/plain": [
       "model.safetensors:   0%|          | 0.00/268M [00:00<?, ?B/s]"
      ]
     },
     "metadata": {},
     "output_type": "display_data"
    },
    {
     "name": "stderr",
     "output_type": "stream",
     "text": [
      "/opt/conda/lib/python3.10/site-packages/transformers/optimization.py:457: FutureWarning: This implementation of AdamW is deprecated and will be removed in a future version. Use the PyTorch implementation torch.optim.AdamW instead, or set `no_deprecation_warning=True` to disable this warning\n",
      "  warnings.warn(\n"
     ]
    }
   ],
   "source": [
    "from transformers import DistilBertForSequenceClassification, AdamW\n",
    "import torch\n",
    "\n",
    "# Загрузка модели DistilBERT\n",
    "# model = DistilBertForSequenceClassification.from_pretrained('distilbert-base-uncased', num_labels=len(unique_intents))\n",
    "model = CustomDistilBertModel(num_labels=len(unique_intents))\n",
    "\n",
    "# Компиляция модели\n",
    "optimizer = AdamW(model.parameters(), lr=5e-5, weight_decay=0.01)\n",
    "\n",
    "device = torch.device(\"cuda\" if torch.cuda.is_available() else \"cpu\")\n",
    "model = model.to(device)"
   ]
  },
  {
   "cell_type": "code",
   "execution_count": 19,
   "id": "df6369d4",
   "metadata": {
    "execution": {
     "iopub.execute_input": "2024-05-20T13:50:43.311822Z",
     "iopub.status.busy": "2024-05-20T13:50:43.311474Z",
     "iopub.status.idle": "2024-05-20T13:50:43.315638Z",
     "shell.execute_reply": "2024-05-20T13:50:43.314779Z"
    },
    "papermill": {
     "duration": 0.016947,
     "end_time": "2024-05-20T13:50:43.317713",
     "exception": false,
     "start_time": "2024-05-20T13:50:43.300766",
     "status": "completed"
    },
    "tags": []
   },
   "outputs": [],
   "source": [
    "# Создание экземпляра класса EarlyStopping\n",
    "early_stopping = EarlyStopping(patience=5, verbose=True)"
   ]
  },
  {
   "cell_type": "code",
   "execution_count": 20,
   "id": "fd52acab",
   "metadata": {
    "execution": {
     "iopub.execute_input": "2024-05-20T13:50:43.338772Z",
     "iopub.status.busy": "2024-05-20T13:50:43.338504Z",
     "iopub.status.idle": "2024-05-20T13:50:43.343383Z",
     "shell.execute_reply": "2024-05-20T13:50:43.342625Z"
    },
    "papermill": {
     "duration": 0.017883,
     "end_time": "2024-05-20T13:50:43.345343",
     "exception": false,
     "start_time": "2024-05-20T13:50:43.327460",
     "status": "completed"
    },
    "tags": []
   },
   "outputs": [],
   "source": [
    "# # Замораживаем все параметры модели\n",
    "# for param in model.parameters():\n",
    "#     param.requires_grad = False\n",
    "\n",
    "# # Размораживаем параметры последнего слоя\n",
    "# for param in model.classifier.parameters():\n",
    "#     param.requires_grad = True\n"
   ]
  },
  {
   "cell_type": "code",
   "execution_count": 21,
   "id": "12994bc3",
   "metadata": {
    "execution": {
     "iopub.execute_input": "2024-05-20T13:50:43.366110Z",
     "iopub.status.busy": "2024-05-20T13:50:43.365429Z",
     "iopub.status.idle": "2024-05-20T13:50:43.369594Z",
     "shell.execute_reply": "2024-05-20T13:50:43.368767Z"
    },
    "papermill": {
     "duration": 0.016436,
     "end_time": "2024-05-20T13:50:43.371485",
     "exception": false,
     "start_time": "2024-05-20T13:50:43.355049",
     "status": "completed"
    },
    "tags": []
   },
   "outputs": [],
   "source": [
    "from sklearn.metrics import accuracy_score, recall_score, f1_score\n",
    "import matplotlib.pyplot as plt\n",
    "# from torch.nn import CrossEntropyLoss"
   ]
  },
  {
   "cell_type": "code",
   "execution_count": 22,
   "id": "8de340a3",
   "metadata": {
    "execution": {
     "iopub.execute_input": "2024-05-20T13:50:43.392454Z",
     "iopub.status.busy": "2024-05-20T13:50:43.391880Z",
     "iopub.status.idle": "2024-05-20T13:58:40.089962Z",
     "shell.execute_reply": "2024-05-20T13:58:40.088915Z"
    },
    "papermill": {
     "duration": 476.710748,
     "end_time": "2024-05-20T13:58:40.091994",
     "exception": false,
     "start_time": "2024-05-20T13:50:43.381246",
     "status": "completed"
    },
    "tags": []
   },
   "outputs": [
    {
     "name": "stderr",
     "output_type": "stream",
     "text": [
      "Epoch 1: 100%|██████████| 653/653 [01:05<00:00, 10.02it/s]\n"
     ]
    },
    {
     "name": "stdout",
     "output_type": "stream",
     "text": [
      "Epoch: 1, Train Loss: 1.2324\n"
     ]
    },
    {
     "name": "stderr",
     "output_type": "stream",
     "text": [
      "Validation Epoch 1: 100%|██████████| 96/96 [00:03<00:00, 28.88it/s]\n"
     ]
    },
    {
     "name": "stdout",
     "output_type": "stream",
     "text": [
      "Accuracy: 0.5813, Recall: 0.5813, F1-score: 0.5824\n",
      "Average validation loss:  0.9602067861706018\n",
      "Validation loss decreased (inf --> 0.960207).  Saving model ...\n"
     ]
    },
    {
     "name": "stderr",
     "output_type": "stream",
     "text": [
      "Epoch 2: 100%|██████████| 653/653 [01:04<00:00, 10.12it/s]\n"
     ]
    },
    {
     "name": "stdout",
     "output_type": "stream",
     "text": [
      "Epoch: 2, Train Loss: 0.8933\n"
     ]
    },
    {
     "name": "stderr",
     "output_type": "stream",
     "text": [
      "Validation Epoch 2: 100%|██████████| 96/96 [00:03<00:00, 28.91it/s]\n"
     ]
    },
    {
     "name": "stdout",
     "output_type": "stream",
     "text": [
      "Accuracy: 0.6270, Recall: 0.6270, F1-score: 0.6278\n",
      "Average validation loss:  0.9040018183489641\n",
      "Validation loss decreased (0.960207 --> 0.904002).  Saving model ...\n"
     ]
    },
    {
     "name": "stderr",
     "output_type": "stream",
     "text": [
      "Epoch 3: 100%|██████████| 653/653 [01:04<00:00, 10.12it/s]\n"
     ]
    },
    {
     "name": "stdout",
     "output_type": "stream",
     "text": [
      "Epoch: 3, Train Loss: 0.6696\n"
     ]
    },
    {
     "name": "stderr",
     "output_type": "stream",
     "text": [
      "Validation Epoch 3: 100%|██████████| 96/96 [00:03<00:00, 28.71it/s]\n"
     ]
    },
    {
     "name": "stdout",
     "output_type": "stream",
     "text": [
      "Accuracy: 0.6270, Recall: 0.6270, F1-score: 0.6313\n",
      "Average validation loss:  0.9639463008691868\n",
      "EarlyStopping counter: 1 out of 5\n"
     ]
    },
    {
     "name": "stderr",
     "output_type": "stream",
     "text": [
      "Epoch 4: 100%|██████████| 653/653 [01:04<00:00, 10.12it/s]\n"
     ]
    },
    {
     "name": "stdout",
     "output_type": "stream",
     "text": [
      "Epoch: 4, Train Loss: 0.4658\n"
     ]
    },
    {
     "name": "stderr",
     "output_type": "stream",
     "text": [
      "Validation Epoch 4: 100%|██████████| 96/96 [00:03<00:00, 28.96it/s]\n"
     ]
    },
    {
     "name": "stdout",
     "output_type": "stream",
     "text": [
      "Accuracy: 0.6238, Recall: 0.6238, F1-score: 0.6258\n",
      "Average validation loss:  1.0329791605472565\n",
      "EarlyStopping counter: 2 out of 5\n"
     ]
    },
    {
     "name": "stderr",
     "output_type": "stream",
     "text": [
      "Epoch 5: 100%|██████████| 653/653 [01:04<00:00, 10.13it/s]\n"
     ]
    },
    {
     "name": "stdout",
     "output_type": "stream",
     "text": [
      "Epoch: 5, Train Loss: 0.3326\n"
     ]
    },
    {
     "name": "stderr",
     "output_type": "stream",
     "text": [
      "Validation Epoch 5: 100%|██████████| 96/96 [00:03<00:00, 29.14it/s]\n"
     ]
    },
    {
     "name": "stdout",
     "output_type": "stream",
     "text": [
      "Accuracy: 0.6225, Recall: 0.6225, F1-score: 0.6253\n",
      "Average validation loss:  1.156429494265467\n",
      "EarlyStopping counter: 3 out of 5\n"
     ]
    },
    {
     "name": "stderr",
     "output_type": "stream",
     "text": [
      "Epoch 6: 100%|██████████| 653/653 [01:04<00:00, 10.14it/s]\n"
     ]
    },
    {
     "name": "stdout",
     "output_type": "stream",
     "text": [
      "Epoch: 6, Train Loss: 0.2806\n"
     ]
    },
    {
     "name": "stderr",
     "output_type": "stream",
     "text": [
      "Validation Epoch 6: 100%|██████████| 96/96 [00:03<00:00, 29.02it/s]\n"
     ]
    },
    {
     "name": "stdout",
     "output_type": "stream",
     "text": [
      "Accuracy: 0.6310, Recall: 0.6310, F1-score: 0.6313\n",
      "Average validation loss:  1.2027456609066576\n",
      "EarlyStopping counter: 4 out of 5\n"
     ]
    },
    {
     "name": "stderr",
     "output_type": "stream",
     "text": [
      "Epoch 7: 100%|██████████| 653/653 [01:04<00:00, 10.14it/s]\n"
     ]
    },
    {
     "name": "stdout",
     "output_type": "stream",
     "text": [
      "Epoch: 7, Train Loss: 0.2446\n"
     ]
    },
    {
     "name": "stderr",
     "output_type": "stream",
     "text": [
      "Validation Epoch 7: 100%|██████████| 96/96 [00:03<00:00, 29.13it/s]\n"
     ]
    },
    {
     "name": "stdout",
     "output_type": "stream",
     "text": [
      "Accuracy: 0.6166, Recall: 0.6166, F1-score: 0.6163\n",
      "Average validation loss:  1.3463486457864444\n",
      "EarlyStopping counter: 5 out of 5\n",
      "Early stopping\n"
     ]
    },
    {
     "data": {
      "image/png": "[encoded data removed]",
      "text/plain": [
       "<Figure size 1500x800 with 1 Axes>"
      ]
     },
     "metadata": {},
     "output_type": "display_data"
    }
   ],
   "source": [
    "# Количество эпох\n",
    "epochs = 50\n",
    "\n",
    "# Списки для хранения значений потерь и метрик на каждой эпохе\n",
    "loss_values = []\n",
    "val_loss_values = []  # список для потерь валидации\n",
    "acc_values = []\n",
    "rec_values = []\n",
    "f1_values = []\n",
    "\n",
    "\n",
    "for epoch in range(epochs):\n",
    "    model.train()\n",
    "    total_loss = 0\n",
    "\n",
    "    for batch in tqdm(train_data_loader, desc=f\"Epoch {epoch+1}\"):\n",
    "        optimizer.zero_grad()\n",
    "        input_ids = batch[\"input_ids\"].to(device)\n",
    "        attention_mask = batch[\"attention_mask\"].to(device)\n",
    "        labels = batch[\"labels\"].to(device)\n",
    "\n",
    "        # Вызов модели без аргумента labels\n",
    "        outputs = model(input_ids=input_ids, attention_mask=attention_mask)\n",
    "        \n",
    "        # Вычисление потерь\n",
    "        loss_fct = CrossEntropyLoss()\n",
    "        loss = loss_fct(outputs.view(-1, len(unique_intents)), labels.view(-1))\n",
    "        \n",
    "        total_loss += loss.item()\n",
    "        loss.backward()\n",
    "        optimizer.step()\n",
    "\n",
    "    avg_train_loss = total_loss / len(train_data_loader)\n",
    "    loss_values.append(avg_train_loss)\n",
    "\n",
    "    print(f\"Epoch: {epoch+1}, Train Loss: {avg_train_loss:.4f}\")\n",
    "\n",
    "    model.eval()\n",
    "    val_loss = 0\n",
    "    predictions , true_labels = [], []\n",
    "\n",
    "    for batch in tqdm(test_data_loader, desc=f\"Validation Epoch {epoch+1}\"):\n",
    "        with torch.no_grad():\n",
    "            input_ids = batch[\"input_ids\"].to(device)\n",
    "            attention_mask = batch[\"attention_mask\"].to(device)\n",
    "            labels = batch[\"labels\"].to(device)\n",
    "\n",
    "            # Вызов модели без аргумента labels\n",
    "            outputs = model(input_ids=input_ids, attention_mask=attention_mask)\n",
    "            \n",
    "            # Вычисление потерь\n",
    "            loss = loss_fct(outputs.view(-1, len(unique_intents)), labels.view(-1))\n",
    "            \n",
    "            val_loss += loss.item()\n",
    "\n",
    "            logits = outputs.detach().cpu().numpy()\n",
    "            label_ids = labels.to('cpu').numpy()\n",
    "            \n",
    "            predictions.extend(np.argmax(logits, axis=1).flatten())\n",
    "            true_labels.extend(label_ids.flatten())\n",
    "\n",
    "    acc = accuracy_score(true_labels, predictions)\n",
    "    rec = recall_score(true_labels, predictions, average='weighted')\n",
    "    f1 = f1_score(true_labels, predictions, average='weighted')\n",
    "\n",
    "    acc_values.append(acc)\n",
    "    rec_values.append(rec)\n",
    "    f1_values.append(f1)\n",
    "\n",
    "    print(f\"Accuracy: {acc:.4f}, Recall: {rec:.4f}, F1-score: {f1:.4f}\")\n",
    "\n",
    "    avg_val_loss = val_loss / len(test_data_loader)\n",
    "    val_loss_values.append(avg_val_loss)  # сохраняем потери валидации\n",
    "    print('Average validation loss: ', avg_val_loss)\n",
    "\n",
    "    early_stopping(avg_val_loss, model)\n",
    "\n",
    "    if early_stopping.early_stop:\n",
    "        print(\"Early stopping\")\n",
    "        break\n",
    "\n",
    "# Построение графиков потерь и метрик\n",
    "plt.figure(figsize=(15,8))\n",
    "plt.title(\"Training and Validation Metrics\")\n",
    "plt.xlabel(\"Epoch\")\n",
    "plt.ylabel(\"Metric Value\")\n",
    "\n",
    "plt.plot(acc_values, label='Accuracy')\n",
    "plt.plot(rec_values, label='Recall')\n",
    "plt.plot(f1_values, label='F1-score')\n",
    "plt.plot(loss_values, label='Train Loss')\n",
    "plt.plot(val_loss_values, label='Validation Loss')  # добавляем потери валидации на график\n",
    "plt.legend()\n",
    "plt.show()\n"
   ]
  },
  {
   "cell_type": "code",
   "execution_count": 23,
   "id": "f52c094d",
   "metadata": {
    "execution": {
     "iopub.execute_input": "2024-05-20T13:58:40.505176Z",
     "iopub.status.busy": "2024-05-20T13:58:40.504328Z",
     "iopub.status.idle": "2024-05-20T13:58:40.510910Z",
     "shell.execute_reply": "2024-05-20T13:58:40.510049Z"
    },
    "papermill": {
     "duration": 0.214741,
     "end_time": "2024-05-20T13:58:40.512744",
     "exception": false,
     "start_time": "2024-05-20T13:58:40.298003",
     "status": "completed"
    },
    "tags": []
   },
   "outputs": [],
   "source": [
    "# new\n",
    "# from transformers import BertForSequenceClassification\n",
    "# import matplotlib.pyplot as plt\n",
    "\n",
    "# # tokenizer = AutoTokenizer.from_pretrained(\"cointegrated/rubert-tiny2\")\n",
    "# # model = BertForSequenceClassification.from_pretrained(\"cointegrated/rubert-tiny2\")\n",
    "\n",
    "# # Количество эпох\n",
    "# epochs = 50\n",
    "\n",
    "# # Список для хранения значений потерь на каждой эпохе\n",
    "# loss_values = []\n",
    "\n",
    "# for epoch in range(epochs):\n",
    "#     model.train()\n",
    "#     total_loss = 0\n",
    "\n",
    "#     for batch in tqdm(train_data_loader, desc=f\"Epoch {epoch+1}\"):\n",
    "#         optimizer.zero_grad()\n",
    "#         input_ids = batch[\"input_ids\"].to(device)\n",
    "#         attention_mask = batch[\"attention_mask\"].to(device)\n",
    "#         labels = batch[\"labels\"].to(device)\n",
    "\n",
    "#         # Вызов модели без аргумента labels\n",
    "#         outputs = model(input_ids=input_ids, attention_mask=attention_mask)\n",
    "        \n",
    "#         # Вычисление потерь\n",
    "#         loss_fct = CrossEntropyLoss()\n",
    "#         loss = loss_fct(outputs.view(-1, len(unique_intents)), labels.view(-1))\n",
    "        \n",
    "#         total_loss += loss.item()\n",
    "#         loss.backward()\n",
    "#         optimizer.step()\n",
    "\n",
    "#     avg_train_loss = total_loss / len(train_data_loader)\n",
    "#     loss_values.append(avg_train_loss)\n",
    "\n",
    "#     print(f\"Epoch: {epoch+1}, Train Loss: {avg_train_loss:.4f}\")\n",
    "\n",
    "#     model.eval()\n",
    "#     val_loss = 0\n",
    "#     predictions , true_labels = [], []\n",
    "\n",
    "#     for batch in tqdm(test_data_loader, desc=f\"Validation Epoch {epoch+1}\"):\n",
    "#         with torch.no_grad():\n",
    "#             input_ids = batch[\"input_ids\"].to(device)\n",
    "#             attention_mask = batch[\"attention_mask\"].to(device)\n",
    "#             labels = batch[\"labels\"].to(device)\n",
    "\n",
    "#             # Вызов модели без аргумента labels\n",
    "#             outputs = model(input_ids=input_ids, attention_mask=attention_mask)\n",
    "            \n",
    "#             # Вычисление потерь\n",
    "#             loss = loss_fct(outputs.view(-1, len(unique_intents)), labels.view(-1))\n",
    "            \n",
    "#             val_loss += loss.item()\n",
    "\n",
    "#     avg_val_loss = val_loss / len(test_data_loader)\n",
    "#     print('Average validation loss: ', avg_val_loss)\n",
    "\n",
    "#     early_stopping(avg_val_loss, model)\n",
    "\n",
    "#     if early_stopping.early_stop:\n",
    "#         print(\"Early stopping\")\n",
    "#         break\n",
    "\n",
    "# # Построение графика потерь\n",
    "# plt.figure(figsize=(15,8))\n",
    "# plt.title(\"Training loss\")\n",
    "# plt.xlabel(\"Batch\")\n",
    "# plt.ylabel(\"Loss\")\n",
    "# plt.plot(loss_values)\n",
    "# plt.show()"
   ]
  },
  {
   "cell_type": "code",
   "execution_count": 24,
   "id": "66e99dac",
   "metadata": {
    "execution": {
     "iopub.execute_input": "2024-05-20T13:58:40.923822Z",
     "iopub.status.busy": "2024-05-20T13:58:40.923425Z",
     "iopub.status.idle": "2024-05-20T13:58:40.928993Z",
     "shell.execute_reply": "2024-05-20T13:58:40.928168Z"
    },
    "papermill": {
     "duration": 0.214442,
     "end_time": "2024-05-20T13:58:40.930965",
     "exception": false,
     "start_time": "2024-05-20T13:58:40.716523",
     "status": "completed"
    },
    "tags": []
   },
   "outputs": [],
   "source": [
    "# old working\n",
    "\n",
    "# # Обучение модели\n",
    "# for epoch in range(50):\n",
    "#     model.train()\n",
    "#     total_loss = 0\n",
    "#     progress_bar = tqdm(train_data_loader, desc='Epoch {:1d}'.format(epoch), leave=False, disable=False)\n",
    "#     for batch in progress_bar:\n",
    "#         input_ids = batch[\"input_ids\"].to(device)\n",
    "#         attention_mask = batch[\"attention_mask\"].to(device)\n",
    "#         labels = batch[\"labels\"].to(device)\n",
    "\n",
    "#         # Вызов модели\n",
    "#         outputs = model(input_ids=input_ids, attention_mask=attention_mask)\n",
    "        \n",
    "#         # Вычисление потерь\n",
    "#         loss_fct = CrossEntropyLoss()\n",
    "#         loss = loss_fct(outputs.view(-1, len(unique_intents)), labels.view(-1))\n",
    "        \n",
    "#         total_loss += loss.item()\n",
    "\n",
    "#         loss.backward()\n",
    "#         optimizer.step()\n",
    "#         optimizer.zero_grad()\n",
    "\n",
    "#         # Обновление шкалы выполнения\n",
    "#         progress_bar.set_postfix({'training_loss': '{:.3f}'.format(loss.item()/len(batch))})\n",
    "\n",
    "#     # Расчет среднего значения потерь за эпоху\n",
    "#     avg_train_loss = total_loss / len(train_data_loader)\n",
    "#     print('Average training loss: ', avg_train_loss)\n",
    "\n",
    "#     # Валидация на независимом наборе данных\n",
    "#     model.eval()\n",
    "#     val_loss = 0\n",
    "#     with torch.no_grad():\n",
    "#         for batch in test_data_loader:\n",
    "#             input_ids = batch[\"input_ids\"].to(device)\n",
    "#             attention_mask = batch[\"attention_mask\"].to(device)\n",
    "#             labels = batch[\"labels\"].to(device)\n",
    "\n",
    "#             # Вызов модели\n",
    "#             outputs = model(input_ids=input_ids, attention_mask=attention_mask)\n",
    "            \n",
    "#             # Вычисление потерь\n",
    "#             loss = loss_fct(outputs.view(-1, len(unique_intents)), labels.view(-1))\n",
    "            \n",
    "#             val_loss += loss.item()\n",
    "\n",
    "#     avg_val_loss = val_loss / len(test_data_loader)\n",
    "#     print('Average validation loss: ', avg_val_loss)\n",
    "\n",
    "#     early_stopping(avg_val_loss, model)\n",
    "\n",
    "#     if early_stopping.early_stop:\n",
    "#         print(\"Early stopping\")\n",
    "#         break"
   ]
  },
  {
   "cell_type": "code",
   "execution_count": 25,
   "id": "471574f6",
   "metadata": {
    "execution": {
     "iopub.execute_input": "2024-05-20T13:58:41.341376Z",
     "iopub.status.busy": "2024-05-20T13:58:41.340706Z",
     "iopub.status.idle": "2024-05-20T13:58:44.078501Z",
     "shell.execute_reply": "2024-05-20T13:58:44.077422Z"
    },
    "papermill": {
     "duration": 2.944888,
     "end_time": "2024-05-20T13:58:44.080912",
     "exception": false,
     "start_time": "2024-05-20T13:58:41.136024",
     "status": "completed"
    },
    "tags": []
   },
   "outputs": [],
   "source": [
    "# Предсказание на тестовых данных\n",
    "model.eval()\n",
    "predictions = []\n",
    "with torch.no_grad():\n",
    "    for batch in test_data_loader:\n",
    "        input_ids = batch[\"input_ids\"].to(device)\n",
    "        attention_mask = batch[\"attention_mask\"].to(device)\n",
    "\n",
    "        outputs = model(input_ids=input_ids, attention_mask=attention_mask)\n",
    "        _, preds = torch.max(outputs, dim=1)\n",
    "\n",
    "        predictions.extend(preds)\n",
    "\n",
    "predicted_labels = [pred.item() for pred in predictions]"
   ]
  },
  {
   "cell_type": "code",
   "execution_count": 26,
   "id": "78b02f9a",
   "metadata": {
    "execution": {
     "iopub.execute_input": "2024-05-20T13:58:44.495278Z",
     "iopub.status.busy": "2024-05-20T13:58:44.494418Z",
     "iopub.status.idle": "2024-05-20T13:58:44.501398Z",
     "shell.execute_reply": "2024-05-20T13:58:44.500428Z"
    },
    "papermill": {
     "duration": 0.215914,
     "end_time": "2024-05-20T13:58:44.503313",
     "exception": false,
     "start_time": "2024-05-20T13:58:44.287399",
     "status": "completed"
    },
    "tags": []
   },
   "outputs": [
    {
     "name": "stdout",
     "output_type": "stream",
     "text": [
      "Accuracy: 0.6165904637491836\n"
     ]
    }
   ],
   "source": [
    "# Расчет метрики accuracy\n",
    "accuracy = accuracy_score(test_labels, predicted_labels)\n",
    "print(f'Accuracy: {accuracy}')"
   ]
  },
  {
   "cell_type": "markdown",
   "id": "904282ca",
   "metadata": {
    "papermill": {
     "duration": 0.204742,
     "end_time": "2024-05-20T13:58:44.959766",
     "exception": false,
     "start_time": "2024-05-20T13:58:44.755024",
     "status": "completed"
    },
    "tags": []
   },
   "source": [
    "Accuracy: 0.6087524493794906"
   ]
  },
  {
   "cell_type": "code",
   "execution_count": 27,
   "id": "18f89b8d",
   "metadata": {
    "execution": {
     "iopub.execute_input": "2024-05-20T13:58:45.369594Z",
     "iopub.status.busy": "2024-05-20T13:58:45.369209Z",
     "iopub.status.idle": "2024-05-20T13:58:45.378220Z",
     "shell.execute_reply": "2024-05-20T13:58:45.376998Z"
    },
    "papermill": {
     "duration": 0.217098,
     "end_time": "2024-05-20T13:58:45.380190",
     "exception": false,
     "start_time": "2024-05-20T13:58:45.163092",
     "status": "completed"
    },
    "tags": []
   },
   "outputs": [
    {
     "name": "stdout",
     "output_type": "stream",
     "text": [
      "Confusion Matrix: \n",
      "[[ 90  27   3  15  29   6  16]\n",
      " [ 15 128   6   2  15  10   2]\n",
      " [  3  41 151   1   5  69   9]\n",
      " [  9   6   3 136  18   6  50]\n",
      " [  9   7   2   2  88   1   0]\n",
      " [  1  18  62   7  29 187   5]\n",
      " [ 13   9   3  39   9   5 164]]\n"
     ]
    }
   ],
   "source": [
    "# Построение confusion matrix\n",
    "cm = confusion_matrix(test_labels, predicted_labels)\n",
    "print(f'Confusion Matrix: \\n{cm}')"
   ]
  },
  {
   "cell_type": "code",
   "execution_count": 28,
   "id": "6efa3c4d",
   "metadata": {
    "execution": {
     "iopub.execute_input": "2024-05-20T13:58:45.791161Z",
     "iopub.status.busy": "2024-05-20T13:58:45.790821Z",
     "iopub.status.idle": "2024-05-20T13:58:45.962500Z",
     "shell.execute_reply": "2024-05-20T13:58:45.961562Z"
    },
    "papermill": {
     "duration": 0.378609,
     "end_time": "2024-05-20T13:58:45.964855",
     "exception": false,
     "start_time": "2024-05-20T13:58:45.586246",
     "status": "completed"
    },
    "tags": []
   },
   "outputs": [],
   "source": [
    "from sklearn.metrics import confusion_matrix\n",
    "import seaborn as sns\n",
    "import matplotlib.pyplot as plt"
   ]
  },
  {
   "cell_type": "code",
   "execution_count": 29,
   "id": "1a7d1f55",
   "metadata": {
    "execution": {
     "iopub.execute_input": "2024-05-20T13:58:46.385500Z",
     "iopub.status.busy": "2024-05-20T13:58:46.384842Z",
     "iopub.status.idle": "2024-05-20T13:58:46.833154Z",
     "shell.execute_reply": "2024-05-20T13:58:46.832244Z"
    },
    "papermill": {
     "duration": 0.666551,
     "end_time": "2024-05-20T13:58:46.835416",
     "exception": false,
     "start_time": "2024-05-20T13:58:46.168865",
     "status": "completed"
    },
    "tags": []
   },
   "outputs": [
    {
     "data": {
      "image/png": "[encoded data removed]",
      "text/plain": [
       "<Figure size 800x600 with 2 Axes>"
      ]
     },
     "metadata": {},
     "output_type": "display_data"
    }
   ],
   "source": [
    "# Визуализация матрицы ошибок с использованием seaborn\n",
    "plt.figure(figsize=(8, 6))\n",
    "sns.heatmap(cm, annot=True, fmt='d', cmap='Blues', xticklabels=set(test_labels), yticklabels=set(predicted_labels))\n",
    "plt.xlabel('Предсказанный класс')\n",
    "plt.ylabel('Истинный класс')\n",
    "plt.title('Матрица ошибок')\n",
    "plt.show()\n"
   ]
  }
 ],
 "metadata": {
  "kaggle": {
   "accelerator": "gpu",
   "dataSources": [
    {
     "datasetId": 4878620,
     "sourceId": 8227443,
     "sourceType": "datasetVersion"
    }
   ],
   "dockerImageVersionId": 30699,
   "isGpuEnabled": true,
   "isInternetEnabled": true,
   "language": "python",
   "sourceType": "notebook"
  },
  "kernelspec": {
   "display_name": "Python 3",
   "language": "python",
   "name": "python3"
  },
  "language_info": {
   "codemirror_mode": {
    "name": "ipython",
    "version": 3
   },
   "file_extension": ".py",
   "mimetype": "text/x-python",
   "name": "python",
   "nbconvert_exporter": "python",
   "pygments_lexer": "ipython3",
   "version": "3.10.13"
  },
  "papermill": {
   "default_parameters": {},
   "duration": 500.398941,
   "end_time": "2024-05-20T13:58:48.769052",
   "environment_variables": {},
   "exception": null,
   "input_path": "__notebook__.ipynb",
   "output_path": "__notebook__.ipynb",
   "parameters": {},
   "start_time": "2024-05-20T13:50:28.370111",
   "version": "2.5.0"
  },
  "widgets": {
   "application/vnd.jupyter.widget-state+json": {
    "state": {
     "02552627a33f4a628a34871611b9b3ba": {
      "model_module": "@jupyter-widgets/controls",
      "model_module_version": "1.5.0",
      "model_name": "HTMLModel",
      "state": {
       "_dom_classes": [],
       "_model_module": "@jupyter-widgets/controls",
       "_model_module_version": "1.5.0",
       "_model_name": "HTMLModel",
       "_view_count": null,
       "_view_module": "@jupyter-widgets/controls",
       "_view_module_version": "1.5.0",
       "_view_name": "HTMLView",
       "description": "",
       "description_tooltip": null,
       "layout": "IPY_MODEL_29d063ccd490478b9709bbc046250259",
       "placeholder": "​",
       "style": "IPY_MODEL_cf30c78ac8f844c196667b3de8148563",
       "value": "tokenizer.json: 100%"
      }
     },
     "0a40d8b330634aab98663528a47b4f40": {
      "model_module": "@jupyter-widgets/base",
      "model_module_version": "1.2.0",
      "model_name": "LayoutModel",
      "state": {
       "_model_module": "@jupyter-widgets/base",
       "_model_module_version": "1.2.0",
       "_model_name": "LayoutModel",
       "_view_count": null,
       "_view_module": "@jupyter-widgets/base",
       "_view_module_version": "1.2.0",
       "_view_name": "LayoutView",
       "align_content": null,
       "align_items": null,
       "align_self": null,
       "border": null,
       "bottom": null,
       "display": null,
       "flex": null,
       "flex_flow": null,
       "grid_area": null,
       "grid_auto_columns": null,
       "grid_auto_flow": null,
       "grid_auto_rows": null,
       "grid_column": null,
       "grid_gap": null,
       "grid_row": null,
       "grid_template_areas": null,
       "grid_template_columns": null,
       "grid_template_rows": null,
       "height": null,
       "justify_content": null,
       "justify_items": null,
       "left": null,
       "margin": null,
       "max_height": null,
       "max_width": null,
       "min_height": null,
       "min_width": null,
       "object_fit": null,
       "object_position": null,
       "order": null,
       "overflow": null,
       "overflow_x": null,
       "overflow_y": null,
       "padding": null,
       "right": null,
       "top": null,
       "visibility": null,
       "width": null
      }
     },
     "0e46474bad484e9bb763c9a0609695eb": {
      "model_module": "@jupyter-widgets/controls",
      "model_module_version": "1.5.0",
      "model_name": "DescriptionStyleModel",
      "state": {
       "_model_module": "@jupyter-widgets/controls",
       "_model_module_version": "1.5.0",
       "_model_name": "DescriptionStyleModel",
       "_view_count": null,
       "_view_module": "@jupyter-widgets/base",
       "_view_module_version": "1.2.0",
       "_view_name": "StyleView",
       "description_width": ""
      }
     },
     "1127ea7f552544429211c79ba98dda6d": {
      "model_module": "@jupyter-widgets/controls",
      "model_module_version": "1.5.0",
      "model_name": "DescriptionStyleModel",
      "state": {
       "_model_module": "@jupyter-widgets/controls",
       "_model_module_version": "1.5.0",
       "_model_name": "DescriptionStyleModel",
       "_view_count": null,
       "_view_module": "@jupyter-widgets/base",
       "_view_module_version": "1.2.0",
       "_view_name": "StyleView",
       "description_width": ""
      }
     },
     "122922968a1e4e62be6ba8f009bb5839": {
      "model_module": "@jupyter-widgets/controls",
      "model_module_version": "1.5.0",
      "model_name": "FloatProgressModel",
      "state": {
       "_dom_classes": [],
       "_model_module": "@jupyter-widgets/controls",
       "_model_module_version": "1.5.0",
       "_model_name": "FloatProgressModel",
       "_view_count": null,
       "_view_module": "@jupyter-widgets/controls",
       "_view_module_version": "1.5.0",
       "_view_name": "ProgressView",
       "bar_style": "success",
       "description": "",
       "description_tooltip": null,
       "layout": "IPY_MODEL_9f0dbd524e4048d8b20b6013d8f348ac",
       "max": 483.0,
       "min": 0.0,
       "orientation": "horizontal",
       "style": "IPY_MODEL_f571d8ff3501464894f752d0e086966b",
       "value": 483.0
      }
     },
     "133103c73b3c4da0a1306e3c7f593bc6": {
      "model_module": "@jupyter-widgets/base",
      "model_module_version": "1.2.0",
      "model_name": "LayoutModel",
      "state": {
       "_model_module": "@jupyter-widgets/base",
       "_model_module_version": "1.2.0",
       "_model_name": "LayoutModel",
       "_view_count": null,
       "_view_module": "@jupyter-widgets/base",
       "_view_module_version": "1.2.0",
       "_view_name": "LayoutView",
       "align_content": null,
       "align_items": null,
       "align_self": null,
       "border": null,
       "bottom": null,
       "display": null,
       "flex": null,
       "flex_flow": null,
       "grid_area": null,
       "grid_auto_columns": null,
       "grid_auto_flow": null,
       "grid_auto_rows": null,
       "grid_column": null,
       "grid_gap": null,
       "grid_row": null,
       "grid_template_areas": null,
       "grid_template_columns": null,
       "grid_template_rows": null,
       "height": null,
       "justify_content": null,
       "justify_items": null,
       "left": null,
       "margin": null,
       "max_height": null,
       "max_width": null,
       "min_height": null,
       "min_width": null,
       "object_fit": null,
       "object_position": null,
       "order": null,
       "overflow": null,
       "overflow_x": null,
       "overflow_y": null,
       "padding": null,
       "right": null,
       "top": null,
       "visibility": null,
       "width": null
      }
     },
     "143f1ccf41ff4284a6b393db1d6a267b": {
      "model_module": "@jupyter-widgets/controls",
      "model_module_version": "1.5.0",
      "model_name": "HBoxModel",
      "state": {
       "_dom_classes": [],
       "_model_module": "@jupyter-widgets/controls",
       "_model_module_version": "1.5.0",
       "_model_name": "HBoxModel",
       "_view_count": null,
       "_view_module": "@jupyter-widgets/controls",
       "_view_module_version": "1.5.0",
       "_view_name": "HBoxView",
       "box_style": "",
       "children": [
        "IPY_MODEL_8110e2652bbf48728b4b26bacfadb65f",
        "IPY_MODEL_5f53fb9f5a86493681a2c1ddf2dd4dd9",
        "IPY_MODEL_edbbb6d87a064d7b9685b076b8905a4a"
       ],
       "layout": "IPY_MODEL_b22ce1c944114015bb7486bbd8a81750"
      }
     },
     "1ae1b825d1b7411a85d432ea55db87f1": {
      "model_module": "@jupyter-widgets/controls",
      "model_module_version": "1.5.0",
      "model_name": "DescriptionStyleModel",
      "state": {
       "_model_module": "@jupyter-widgets/controls",
       "_model_module_version": "1.5.0",
       "_model_name": "DescriptionStyleModel",
       "_view_count": null,
       "_view_module": "@jupyter-widgets/base",
       "_view_module_version": "1.2.0",
       "_view_name": "StyleView",
       "description_width": ""
      }
     },
     "1d7ac80384f24dc0abd7a3c226aafe0c": {
      "model_module": "@jupyter-widgets/base",
      "model_module_version": "1.2.0",
      "model_name": "LayoutModel",
      "state": {
       "_model_module": "@jupyter-widgets/base",
       "_model_module_version": "1.2.0",
       "_model_name": "LayoutModel",
       "_view_count": null,
       "_view_module": "@jupyter-widgets/base",
       "_view_module_version": "1.2.0",
       "_view_name": "LayoutView",
       "align_content": null,
       "align_items": null,
       "align_self": null,
       "border": null,
       "bottom": null,
       "display": null,
       "flex": null,
       "flex_flow": null,
       "grid_area": null,
       "grid_auto_columns": null,
       "grid_auto_flow": null,
       "grid_auto_rows": null,
       "grid_column": null,
       "grid_gap": null,
       "grid_row": null,
       "grid_template_areas": null,
       "grid_template_columns": null,
       "grid_template_rows": null,
       "height": null,
       "justify_content": null,
       "justify_items": null,
       "left": null,
       "margin": null,
       "max_height": null,
       "max_width": null,
       "min_height": null,
       "min_width": null,
       "object_fit": null,
       "object_position": null,
       "order": null,
       "overflow": null,
       "overflow_x": null,
       "overflow_y": null,
       "padding": null,
       "right": null,
       "top": null,
       "visibility": null,
       "width": null
      }
     },
     "2511b9a0031149f79ef1e362d57576c9": {
      "model_module": "@jupyter-widgets/controls",
      "model_module_version": "1.5.0",
      "model_name": "DescriptionStyleModel",
      "state": {
       "_model_module": "@jupyter-widgets/controls",
       "_model_module_version": "1.5.0",
       "_model_name": "DescriptionStyleModel",
       "_view_count": null,
       "_view_module": "@jupyter-widgets/base",
       "_view_module_version": "1.2.0",
       "_view_name": "StyleView",
       "description_width": ""
      }
     },
     "268fff4b88514d2a98cf0e5845e8de35": {
      "model_module": "@jupyter-widgets/controls",
      "model_module_version": "1.5.0",
      "model_name": "DescriptionStyleModel",
      "state": {
       "_model_module": "@jupyter-widgets/controls",
       "_model_module_version": "1.5.0",
       "_model_name": "DescriptionStyleModel",
       "_view_count": null,
       "_view_module": "@jupyter-widgets/base",
       "_view_module_version": "1.2.0",
       "_view_name": "StyleView",
       "description_width": ""
      }
     },
     "29d063ccd490478b9709bbc046250259": {
      "model_module": "@jupyter-widgets/base",
      "model_module_version": "1.2.0",
      "model_name": "LayoutModel",
      "state": {
       "_model_module": "@jupyter-widgets/base",
       "_model_module_version": "1.2.0",
       "_model_name": "LayoutModel",
       "_view_count": null,
       "_view_module": "@jupyter-widgets/base",
       "_view_module_version": "1.2.0",
       "_view_name": "LayoutView",
       "align_content": null,
       "align_items": null,
       "align_self": null,
       "border": null,
       "bottom": null,
       "display": null,
       "flex": null,
       "flex_flow": null,
       "grid_area": null,
       "grid_auto_columns": null,
       "grid_auto_flow": null,
       "grid_auto_rows": null,
       "grid_column": null,
       "grid_gap": null,
       "grid_row": null,
       "grid_template_areas": null,
       "grid_template_columns": null,
       "grid_template_rows": null,
       "height": null,
       "justify_content": null,
       "justify_items": null,
       "left": null,
       "margin": null,
       "max_height": null,
       "max_width": null,
       "min_height": null,
       "min_width": null,
       "object_fit": null,
       "object_position": null,
       "order": null,
       "overflow": null,
       "overflow_x": null,
       "overflow_y": null,
       "padding": null,
       "right": null,
       "top": null,
       "visibility": null,
       "width": null
      }
     },
     "2dfdad7493244d9fa82c3504404e5aef": {
      "model_module": "@jupyter-widgets/controls",
      "model_module_version": "1.5.0",
      "model_name": "FloatProgressModel",
      "state": {
       "_dom_classes": [],
       "_model_module": "@jupyter-widgets/controls",
       "_model_module_version": "1.5.0",
       "_model_name": "FloatProgressModel",
       "_view_count": null,
       "_view_module": "@jupyter-widgets/controls",
       "_view_module_version": "1.5.0",
       "_view_name": "ProgressView",
       "bar_style": "success",
       "description": "",
       "description_tooltip": null,
       "layout": "IPY_MODEL_133103c73b3c4da0a1306e3c7f593bc6",
       "max": 267954768.0,
       "min": 0.0,
       "orientation": "horizontal",
       "style": "IPY_MODEL_f120959e1e4c4aeca1ed6ed6b8758413",
       "value": 267954768.0
      }
     },
     "2fe30fd8b3844a7d84a66c38a7856d7b": {
      "model_module": "@jupyter-widgets/base",
      "model_module_version": "1.2.0",
      "model_name": "LayoutModel",
      "state": {
       "_model_module": "@jupyter-widgets/base",
       "_model_module_version": "1.2.0",
       "_model_name": "LayoutModel",
       "_view_count": null,
       "_view_module": "@jupyter-widgets/base",
       "_view_module_version": "1.2.0",
       "_view_name": "LayoutView",
       "align_content": null,
       "align_items": null,
       "align_self": null,
       "border": null,
       "bottom": null,
       "display": null,
       "flex": null,
       "flex_flow": null,
       "grid_area": null,
       "grid_auto_columns": null,
       "grid_auto_flow": null,
       "grid_auto_rows": null,
       "grid_column": null,
       "grid_gap": null,
       "grid_row": null,
       "grid_template_areas": null,
       "grid_template_columns": null,
       "grid_template_rows": null,
       "height": null,
       "justify_content": null,
       "justify_items": null,
       "left": null,
       "margin": null,
       "max_height": null,
       "max_width": null,
       "min_height": null,
       "min_width": null,
       "object_fit": null,
       "object_position": null,
       "order": null,
       "overflow": null,
       "overflow_x": null,
       "overflow_y": null,
       "padding": null,
       "right": null,
       "top": null,
       "visibility": null,
       "width": null
      }
     },
     "3047aa1d6cf142a19a75d4e5113471de": {
      "model_module": "@jupyter-widgets/base",
      "model_module_version": "1.2.0",
      "model_name": "LayoutModel",
      "state": {
       "_model_module": "@jupyter-widgets/base",
       "_model_module_version": "1.2.0",
       "_model_name": "LayoutModel",
       "_view_count": null,
       "_view_module": "@jupyter-widgets/base",
       "_view_module_version": "1.2.0",
       "_view_name": "LayoutView",
       "align_content": null,
       "align_items": null,
       "align_self": null,
       "border": null,
       "bottom": null,
       "display": null,
       "flex": null,
       "flex_flow": null,
       "grid_area": null,
       "grid_auto_columns": null,
       "grid_auto_flow": null,
       "grid_auto_rows": null,
       "grid_column": null,
       "grid_gap": null,
       "grid_row": null,
       "grid_template_areas": null,
       "grid_template_columns": null,
       "grid_template_rows": null,
       "height": null,
       "justify_content": null,
       "justify_items": null,
       "left": null,
       "margin": null,
       "max_height": null,
       "max_width": null,
       "min_height": null,
       "min_width": null,
       "object_fit": null,
       "object_position": null,
       "order": null,
       "overflow": null,
       "overflow_x": null,
       "overflow_y": null,
       "padding": null,
       "right": null,
       "top": null,
       "visibility": null,
       "width": null
      }
     },
     "5a5f8173dea74322b7815e705d1eec98": {
      "model_module": "@jupyter-widgets/controls",
      "model_module_version": "1.5.0",
      "model_name": "ProgressStyleModel",
      "state": {
       "_model_module": "@jupyter-widgets/controls",
       "_model_module_version": "1.5.0",
       "_model_name": "ProgressStyleModel",
       "_view_count": null,
       "_view_module": "@jupyter-widgets/base",
       "_view_module_version": "1.2.0",
       "_view_name": "StyleView",
       "bar_color": null,
       "description_width": ""
      }
     },
     "5ca6d8f7b3ef4e7f825ce12b088901d9": {
      "model_module": "@jupyter-widgets/controls",
      "model_module_version": "1.5.0",
      "model_name": "HTMLModel",
      "state": {
       "_dom_classes": [],
       "_model_module": "@jupyter-widgets/controls",
       "_model_module_version": "1.5.0",
       "_model_name": "HTMLModel",
       "_view_count": null,
       "_view_module": "@jupyter-widgets/controls",
       "_view_module_version": "1.5.0",
       "_view_name": "HTMLView",
       "description": "",
       "description_tooltip": null,
       "layout": "IPY_MODEL_acdc81157e9643e58583c153eac78386",
       "placeholder": "​",
       "style": "IPY_MODEL_2511b9a0031149f79ef1e362d57576c9",
       "value": " 48.0/48.0 [00:00&lt;00:00, 3.74kB/s]"
      }
     },
     "5caa4d8d5949415988e89e1784b3b86c": {
      "model_module": "@jupyter-widgets/controls",
      "model_module_version": "1.5.0",
      "model_name": "ProgressStyleModel",
      "state": {
       "_model_module": "@jupyter-widgets/controls",
       "_model_module_version": "1.5.0",
       "_model_name": "ProgressStyleModel",
       "_view_count": null,
       "_view_module": "@jupyter-widgets/base",
       "_view_module_version": "1.2.0",
       "_view_name": "StyleView",
       "bar_color": null,
       "description_width": ""
      }
     },
     "5f53fb9f5a86493681a2c1ddf2dd4dd9": {
      "model_module": "@jupyter-widgets/controls",
      "model_module_version": "1.5.0",
      "model_name": "FloatProgressModel",
      "state": {
       "_dom_classes": [],
       "_model_module": "@jupyter-widgets/controls",
       "_model_module_version": "1.5.0",
       "_model_name": "FloatProgressModel",
       "_view_count": null,
       "_view_module": "@jupyter-widgets/controls",
       "_view_module_version": "1.5.0",
       "_view_name": "ProgressView",
       "bar_style": "success",
       "description": "",
       "description_tooltip": null,
       "layout": "IPY_MODEL_939377c08b294138af0129287edf4613",
       "max": 231508.0,
       "min": 0.0,
       "orientation": "horizontal",
       "style": "IPY_MODEL_ab408084e475459d80c861e1f524da31",
       "value": 231508.0
      }
     },
     "6024752705b74487a9c3a552761c930f": {
      "model_module": "@jupyter-widgets/base",
      "model_module_version": "1.2.0",
      "model_name": "LayoutModel",
      "state": {
       "_model_module": "@jupyter-widgets/base",
       "_model_module_version": "1.2.0",
       "_model_name": "LayoutModel",
       "_view_count": null,
       "_view_module": "@jupyter-widgets/base",
       "_view_module_version": "1.2.0",
       "_view_name": "LayoutView",
       "align_content": null,
       "align_items": null,
       "align_self": null,
       "border": null,
       "bottom": null,
       "display": null,
       "flex": null,
       "flex_flow": null,
       "grid_area": null,
       "grid_auto_columns": null,
       "grid_auto_flow": null,
       "grid_auto_rows": null,
       "grid_column": null,
       "grid_gap": null,
       "grid_row": null,
       "grid_template_areas": null,
       "grid_template_columns": null,
       "grid_template_rows": null,
       "height": null,
       "justify_content": null,
       "justify_items": null,
       "left": null,
       "margin": null,
       "max_height": null,
       "max_width": null,
       "min_height": null,
       "min_width": null,
       "object_fit": null,
       "object_position": null,
       "order": null,
       "overflow": null,
       "overflow_x": null,
       "overflow_y": null,
       "padding": null,
       "right": null,
       "top": null,
       "visibility": null,
       "width": null
      }
     },
     "61f3a10cc1d245c9af193d4d4524a363": {
      "model_module": "@jupyter-widgets/controls",
      "model_module_version": "1.5.0",
      "model_name": "FloatProgressModel",
      "state": {
       "_dom_classes": [],
       "_model_module": "@jupyter-widgets/controls",
       "_model_module_version": "1.5.0",
       "_model_name": "FloatProgressModel",
       "_view_count": null,
       "_view_module": "@jupyter-widgets/controls",
       "_view_module_version": "1.5.0",
       "_view_name": "ProgressView",
       "bar_style": "success",
       "description": "",
       "description_tooltip": null,
       "layout": "IPY_MODEL_a54bb61c55ea4b85b659c870f4504a70",
       "max": 48.0,
       "min": 0.0,
       "orientation": "horizontal",
       "style": "IPY_MODEL_5a5f8173dea74322b7815e705d1eec98",
       "value": 48.0
      }
     },
     "643c6556c8504e1aa3655e465293d24d": {
      "model_module": "@jupyter-widgets/controls",
      "model_module_version": "1.5.0",
      "model_name": "HTMLModel",
      "state": {
       "_dom_classes": [],
       "_model_module": "@jupyter-widgets/controls",
       "_model_module_version": "1.5.0",
       "_model_name": "HTMLModel",
       "_view_count": null,
       "_view_module": "@jupyter-widgets/controls",
       "_view_module_version": "1.5.0",
       "_view_name": "HTMLView",
       "description": "",
       "description_tooltip": null,
       "layout": "IPY_MODEL_1d7ac80384f24dc0abd7a3c226aafe0c",
       "placeholder": "​",
       "style": "IPY_MODEL_0e46474bad484e9bb763c9a0609695eb",
       "value": "config.json: 100%"
      }
     },
     "665fcab928e847f3a58ae5880bd2e841": {
      "model_module": "@jupyter-widgets/controls",
      "model_module_version": "1.5.0",
      "model_name": "HTMLModel",
      "state": {
       "_dom_classes": [],
       "_model_module": "@jupyter-widgets/controls",
       "_model_module_version": "1.5.0",
       "_model_name": "HTMLModel",
       "_view_count": null,
       "_view_module": "@jupyter-widgets/controls",
       "_view_module_version": "1.5.0",
       "_view_name": "HTMLView",
       "description": "",
       "description_tooltip": null,
       "layout": "IPY_MODEL_2fe30fd8b3844a7d84a66c38a7856d7b",
       "placeholder": "​",
       "style": "IPY_MODEL_dea7a2108f1d426690077ace39623e1f",
       "value": " 268M/268M [00:00&lt;00:00, 333MB/s]"
      }
     },
     "6ec4f72419f64d17a40e9bc5292462de": {
      "model_module": "@jupyter-widgets/controls",
      "model_module_version": "1.5.0",
      "model_name": "DescriptionStyleModel",
      "state": {
       "_model_module": "@jupyter-widgets/controls",
       "_model_module_version": "1.5.0",
       "_model_name": "DescriptionStyleModel",
       "_view_count": null,
       "_view_module": "@jupyter-widgets/base",
       "_view_module_version": "1.2.0",
       "_view_name": "StyleView",
       "description_width": ""
      }
     },
     "78f5996508494c2a919143f2a277dd19": {
      "model_module": "@jupyter-widgets/base",
      "model_module_version": "1.2.0",
      "model_name": "LayoutModel",
      "state": {
       "_model_module": "@jupyter-widgets/base",
       "_model_module_version": "1.2.0",
       "_model_name": "LayoutModel",
       "_view_count": null,
       "_view_module": "@jupyter-widgets/base",
       "_view_module_version": "1.2.0",
       "_view_name": "LayoutView",
       "align_content": null,
       "align_items": null,
       "align_self": null,
       "border": null,
       "bottom": null,
       "display": null,
       "flex": null,
       "flex_flow": null,
       "grid_area": null,
       "grid_auto_columns": null,
       "grid_auto_flow": null,
       "grid_auto_rows": null,
       "grid_column": null,
       "grid_gap": null,
       "grid_row": null,
       "grid_template_areas": null,
       "grid_template_columns": null,
       "grid_template_rows": null,
       "height": null,
       "justify_content": null,
       "justify_items": null,
       "left": null,
       "margin": null,
       "max_height": null,
       "max_width": null,
       "min_height": null,
       "min_width": null,
       "object_fit": null,
       "object_position": null,
       "order": null,
       "overflow": null,
       "overflow_x": null,
       "overflow_y": null,
       "padding": null,
       "right": null,
       "top": null,
       "visibility": null,
       "width": null
      }
     },
     "7ebf7f56c7d14a2fa116d586598e580d": {
      "model_module": "@jupyter-widgets/controls",
      "model_module_version": "1.5.0",
      "model_name": "HTMLModel",
      "state": {
       "_dom_classes": [],
       "_model_module": "@jupyter-widgets/controls",
       "_model_module_version": "1.5.0",
       "_model_name": "HTMLModel",
       "_view_count": null,
       "_view_module": "@jupyter-widgets/controls",
       "_view_module_version": "1.5.0",
       "_view_name": "HTMLView",
       "description": "",
       "description_tooltip": null,
       "layout": "IPY_MODEL_3047aa1d6cf142a19a75d4e5113471de",
       "placeholder": "​",
       "style": "IPY_MODEL_1127ea7f552544429211c79ba98dda6d",
       "value": " 483/483 [00:00&lt;00:00, 40.8kB/s]"
      }
     },
     "8110e2652bbf48728b4b26bacfadb65f": {
      "model_module": "@jupyter-widgets/controls",
      "model_module_version": "1.5.0",
      "model_name": "HTMLModel",
      "state": {
       "_dom_classes": [],
       "_model_module": "@jupyter-widgets/controls",
       "_model_module_version": "1.5.0",
       "_model_name": "HTMLModel",
       "_view_count": null,
       "_view_module": "@jupyter-widgets/controls",
       "_view_module_version": "1.5.0",
       "_view_name": "HTMLView",
       "description": "",
       "description_tooltip": null,
       "layout": "IPY_MODEL_88a2d448bdf84c0f87c184275da7ac6b",
       "placeholder": "​",
       "style": "IPY_MODEL_bf6b4fdd9cd54f4695fbe4c36fb62f7e",
       "value": "vocab.txt: 100%"
      }
     },
     "845a09bf771841e8b315f048fd6977cb": {
      "model_module": "@jupyter-widgets/controls",
      "model_module_version": "1.5.0",
      "model_name": "HBoxModel",
      "state": {
       "_dom_classes": [],
       "_model_module": "@jupyter-widgets/controls",
       "_model_module_version": "1.5.0",
       "_model_name": "HBoxModel",
       "_view_count": null,
       "_view_module": "@jupyter-widgets/controls",
       "_view_module_version": "1.5.0",
       "_view_name": "HBoxView",
       "box_style": "",
       "children": [
        "IPY_MODEL_02552627a33f4a628a34871611b9b3ba",
        "IPY_MODEL_b0278252f6cf4ec795537b24f08d63f5",
        "IPY_MODEL_e5ecf3b3f87443c1ae2274977169f424"
       ],
       "layout": "IPY_MODEL_e179997ce5d04f8588bbd48dc34bc8c9"
      }
     },
     "87cd9dc06f674e64b03a053dad8c9bfa": {
      "model_module": "@jupyter-widgets/controls",
      "model_module_version": "1.5.0",
      "model_name": "HTMLModel",
      "state": {
       "_dom_classes": [],
       "_model_module": "@jupyter-widgets/controls",
       "_model_module_version": "1.5.0",
       "_model_name": "HTMLModel",
       "_view_count": null,
       "_view_module": "@jupyter-widgets/controls",
       "_view_module_version": "1.5.0",
       "_view_name": "HTMLView",
       "description": "",
       "description_tooltip": null,
       "layout": "IPY_MODEL_c4a52d7db4624ca5880b20d296548544",
       "placeholder": "​",
       "style": "IPY_MODEL_1ae1b825d1b7411a85d432ea55db87f1",
       "value": "model.safetensors: 100%"
      }
     },
     "88a2d448bdf84c0f87c184275da7ac6b": {
      "model_module": "@jupyter-widgets/base",
      "model_module_version": "1.2.0",
      "model_name": "LayoutModel",
      "state": {
       "_model_module": "@jupyter-widgets/base",
       "_model_module_version": "1.2.0",
       "_model_name": "LayoutModel",
       "_view_count": null,
       "_view_module": "@jupyter-widgets/base",
       "_view_module_version": "1.2.0",
       "_view_name": "LayoutView",
       "align_content": null,
       "align_items": null,
       "align_self": null,
       "border": null,
       "bottom": null,
       "display": null,
       "flex": null,
       "flex_flow": null,
       "grid_area": null,
       "grid_auto_columns": null,
       "grid_auto_flow": null,
       "grid_auto_rows": null,
       "grid_column": null,
       "grid_gap": null,
       "grid_row": null,
       "grid_template_areas": null,
       "grid_template_columns": null,
       "grid_template_rows": null,
       "height": null,
       "justify_content": null,
       "justify_items": null,
       "left": null,
       "margin": null,
       "max_height": null,
       "max_width": null,
       "min_height": null,
       "min_width": null,
       "object_fit": null,
       "object_position": null,
       "order": null,
       "overflow": null,
       "overflow_x": null,
       "overflow_y": null,
       "padding": null,
       "right": null,
       "top": null,
       "visibility": null,
       "width": null
      }
     },
     "926e1751f0014badb263bdc38c489336": {
      "model_module": "@jupyter-widgets/base",
      "model_module_version": "1.2.0",
      "model_name": "LayoutModel",
      "state": {
       "_model_module": "@jupyter-widgets/base",
       "_model_module_version": "1.2.0",
       "_model_name": "LayoutModel",
       "_view_count": null,
       "_view_module": "@jupyter-widgets/base",
       "_view_module_version": "1.2.0",
       "_view_name": "LayoutView",
       "align_content": null,
       "align_items": null,
       "align_self": null,
       "border": null,
       "bottom": null,
       "display": null,
       "flex": null,
       "flex_flow": null,
       "grid_area": null,
       "grid_auto_columns": null,
       "grid_auto_flow": null,
       "grid_auto_rows": null,
       "grid_column": null,
       "grid_gap": null,
       "grid_row": null,
       "grid_template_areas": null,
       "grid_template_columns": null,
       "grid_template_rows": null,
       "height": null,
       "justify_content": null,
       "justify_items": null,
       "left": null,
       "margin": null,
       "max_height": null,
       "max_width": null,
       "min_height": null,
       "min_width": null,
       "object_fit": null,
       "object_position": null,
       "order": null,
       "overflow": null,
       "overflow_x": null,
       "overflow_y": null,
       "padding": null,
       "right": null,
       "top": null,
       "visibility": null,
       "width": null
      }
     },
     "939377c08b294138af0129287edf4613": {
      "model_module": "@jupyter-widgets/base",
      "model_module_version": "1.2.0",
      "model_name": "LayoutModel",
      "state": {
       "_model_module": "@jupyter-widgets/base",
       "_model_module_version": "1.2.0",
       "_model_name": "LayoutModel",
       "_view_count": null,
       "_view_module": "@jupyter-widgets/base",
       "_view_module_version": "1.2.0",
       "_view_name": "LayoutView",
       "align_content": null,
       "align_items": null,
       "align_self": null,
       "border": null,
       "bottom": null,
       "display": null,
       "flex": null,
       "flex_flow": null,
       "grid_area": null,
       "grid_auto_columns": null,
       "grid_auto_flow": null,
       "grid_auto_rows": null,
       "grid_column": null,
       "grid_gap": null,
       "grid_row": null,
       "grid_template_areas": null,
       "grid_template_columns": null,
       "grid_template_rows": null,
       "height": null,
       "justify_content": null,
       "justify_items": null,
       "left": null,
       "margin": null,
       "max_height": null,
       "max_width": null,
       "min_height": null,
       "min_width": null,
       "object_fit": null,
       "object_position": null,
       "order": null,
       "overflow": null,
       "overflow_x": null,
       "overflow_y": null,
       "padding": null,
       "right": null,
       "top": null,
       "visibility": null,
       "width": null
      }
     },
     "9f0dbd524e4048d8b20b6013d8f348ac": {
      "model_module": "@jupyter-widgets/base",
      "model_module_version": "1.2.0",
      "model_name": "LayoutModel",
      "state": {
       "_model_module": "@jupyter-widgets/base",
       "_model_module_version": "1.2.0",
       "_model_name": "LayoutModel",
       "_view_count": null,
       "_view_module": "@jupyter-widgets/base",
       "_view_module_version": "1.2.0",
       "_view_name": "LayoutView",
       "align_content": null,
       "align_items": null,
       "align_self": null,
       "border": null,
       "bottom": null,
       "display": null,
       "flex": null,
       "flex_flow": null,
       "grid_area": null,
       "grid_auto_columns": null,
       "grid_auto_flow": null,
       "grid_auto_rows": null,
       "grid_column": null,
       "grid_gap": null,
       "grid_row": null,
       "grid_template_areas": null,
       "grid_template_columns": null,
       "grid_template_rows": null,
       "height": null,
       "justify_content": null,
       "justify_items": null,
       "left": null,
       "margin": null,
       "max_height": null,
       "max_width": null,
       "min_height": null,
       "min_width": null,
       "object_fit": null,
       "object_position": null,
       "order": null,
       "overflow": null,
       "overflow_x": null,
       "overflow_y": null,
       "padding": null,
       "right": null,
       "top": null,
       "visibility": null,
       "width": null
      }
     },
     "a07767623d6d4e7db383ad7714a32266": {
      "model_module": "@jupyter-widgets/controls",
      "model_module_version": "1.5.0",
      "model_name": "HBoxModel",
      "state": {
       "_dom_classes": [],
       "_model_module": "@jupyter-widgets/controls",
       "_model_module_version": "1.5.0",
       "_model_name": "HBoxModel",
       "_view_count": null,
       "_view_module": "@jupyter-widgets/controls",
       "_view_module_version": "1.5.0",
       "_view_name": "HBoxView",
       "box_style": "",
       "children": [
        "IPY_MODEL_87cd9dc06f674e64b03a053dad8c9bfa",
        "IPY_MODEL_2dfdad7493244d9fa82c3504404e5aef",
        "IPY_MODEL_665fcab928e847f3a58ae5880bd2e841"
       ],
       "layout": "IPY_MODEL_ab9097cb65e24de8ba925e1d63fa1068"
      }
     },
     "a54bb61c55ea4b85b659c870f4504a70": {
      "model_module": "@jupyter-widgets/base",
      "model_module_version": "1.2.0",
      "model_name": "LayoutModel",
      "state": {
       "_model_module": "@jupyter-widgets/base",
       "_model_module_version": "1.2.0",
       "_model_name": "LayoutModel",
       "_view_count": null,
       "_view_module": "@jupyter-widgets/base",
       "_view_module_version": "1.2.0",
       "_view_name": "LayoutView",
       "align_content": null,
       "align_items": null,
       "align_self": null,
       "border": null,
       "bottom": null,
       "display": null,
       "flex": null,
       "flex_flow": null,
       "grid_area": null,
       "grid_auto_columns": null,
       "grid_auto_flow": null,
       "grid_auto_rows": null,
       "grid_column": null,
       "grid_gap": null,
       "grid_row": null,
       "grid_template_areas": null,
       "grid_template_columns": null,
       "grid_template_rows": null,
       "height": null,
       "justify_content": null,
       "justify_items": null,
       "left": null,
       "margin": null,
       "max_height": null,
       "max_width": null,
       "min_height": null,
       "min_width": null,
       "object_fit": null,
       "object_position": null,
       "order": null,
       "overflow": null,
       "overflow_x": null,
       "overflow_y": null,
       "padding": null,
       "right": null,
       "top": null,
       "visibility": null,
       "width": null
      }
     },
     "ab408084e475459d80c861e1f524da31": {
      "model_module": "@jupyter-widgets/controls",
      "model_module_version": "1.5.0",
      "model_name": "ProgressStyleModel",
      "state": {
       "_model_module": "@jupyter-widgets/controls",
       "_model_module_version": "1.5.0",
       "_model_name": "ProgressStyleModel",
       "_view_count": null,
       "_view_module": "@jupyter-widgets/base",
       "_view_module_version": "1.2.0",
       "_view_name": "StyleView",
       "bar_color": null,
       "description_width": ""
      }
     },
     "ab9097cb65e24de8ba925e1d63fa1068": {
      "model_module": "@jupyter-widgets/base",
      "model_module_version": "1.2.0",
      "model_name": "LayoutModel",
      "state": {
       "_model_module": "@jupyter-widgets/base",
       "_model_module_version": "1.2.0",
       "_model_name": "LayoutModel",
       "_view_count": null,
       "_view_module": "@jupyter-widgets/base",
       "_view_module_version": "1.2.0",
       "_view_name": "LayoutView",
       "align_content": null,
       "align_items": null,
       "align_self": null,
       "border": null,
       "bottom": null,
       "display": null,
       "flex": null,
       "flex_flow": null,
       "grid_area": null,
       "grid_auto_columns": null,
       "grid_auto_flow": null,
       "grid_auto_rows": null,
       "grid_column": null,
       "grid_gap": null,
       "grid_row": null,
       "grid_template_areas": null,
       "grid_template_columns": null,
       "grid_template_rows": null,
       "height": null,
       "justify_content": null,
       "justify_items": null,
       "left": null,
       "margin": null,
       "max_height": null,
       "max_width": null,
       "min_height": null,
       "min_width": null,
       "object_fit": null,
       "object_position": null,
       "order": null,
       "overflow": null,
       "overflow_x": null,
       "overflow_y": null,
       "padding": null,
       "right": null,
       "top": null,
       "visibility": null,
       "width": null
      }
     },
     "acb3f51229f5461b8e74191b2fa934c2": {
      "model_module": "@jupyter-widgets/controls",
      "model_module_version": "1.5.0",
      "model_name": "HBoxModel",
      "state": {
       "_dom_classes": [],
       "_model_module": "@jupyter-widgets/controls",
       "_model_module_version": "1.5.0",
       "_model_name": "HBoxModel",
       "_view_count": null,
       "_view_module": "@jupyter-widgets/controls",
       "_view_module_version": "1.5.0",
       "_view_name": "HBoxView",
       "box_style": "",
       "children": [
        "IPY_MODEL_b6ee34147c344351a06cf5d01db8f57a",
        "IPY_MODEL_61f3a10cc1d245c9af193d4d4524a363",
        "IPY_MODEL_5ca6d8f7b3ef4e7f825ce12b088901d9"
       ],
       "layout": "IPY_MODEL_78f5996508494c2a919143f2a277dd19"
      }
     },
     "acdc81157e9643e58583c153eac78386": {
      "model_module": "@jupyter-widgets/base",
      "model_module_version": "1.2.0",
      "model_name": "LayoutModel",
      "state": {
       "_model_module": "@jupyter-widgets/base",
       "_model_module_version": "1.2.0",
       "_model_name": "LayoutModel",
       "_view_count": null,
       "_view_module": "@jupyter-widgets/base",
       "_view_module_version": "1.2.0",
       "_view_name": "LayoutView",
       "align_content": null,
       "align_items": null,
       "align_self": null,
       "border": null,
       "bottom": null,
       "display": null,
       "flex": null,
       "flex_flow": null,
       "grid_area": null,
       "grid_auto_columns": null,
       "grid_auto_flow": null,
       "grid_auto_rows": null,
       "grid_column": null,
       "grid_gap": null,
       "grid_row": null,
       "grid_template_areas": null,
       "grid_template_columns": null,
       "grid_template_rows": null,
       "height": null,
       "justify_content": null,
       "justify_items": null,
       "left": null,
       "margin": null,
       "max_height": null,
       "max_width": null,
       "min_height": null,
       "min_width": null,
       "object_fit": null,
       "object_position": null,
       "order": null,
       "overflow": null,
       "overflow_x": null,
       "overflow_y": null,
       "padding": null,
       "right": null,
       "top": null,
       "visibility": null,
       "width": null
      }
     },
     "b0278252f6cf4ec795537b24f08d63f5": {
      "model_module": "@jupyter-widgets/controls",
      "model_module_version": "1.5.0",
      "model_name": "FloatProgressModel",
      "state": {
       "_dom_classes": [],
       "_model_module": "@jupyter-widgets/controls",
       "_model_module_version": "1.5.0",
       "_model_name": "FloatProgressModel",
       "_view_count": null,
       "_view_module": "@jupyter-widgets/controls",
       "_view_module_version": "1.5.0",
       "_view_name": "ProgressView",
       "bar_style": "success",
       "description": "",
       "description_tooltip": null,
       "layout": "IPY_MODEL_0a40d8b330634aab98663528a47b4f40",
       "max": 466062.0,
       "min": 0.0,
       "orientation": "horizontal",
       "style": "IPY_MODEL_5caa4d8d5949415988e89e1784b3b86c",
       "value": 466062.0
      }
     },
     "b22ce1c944114015bb7486bbd8a81750": {
      "model_module": "@jupyter-widgets/base",
      "model_module_version": "1.2.0",
      "model_name": "LayoutModel",
      "state": {
       "_model_module": "@jupyter-widgets/base",
       "_model_module_version": "1.2.0",
       "_model_name": "LayoutModel",
       "_view_count": null,
       "_view_module": "@jupyter-widgets/base",
       "_view_module_version": "1.2.0",
       "_view_name": "LayoutView",
       "align_content": null,
       "align_items": null,
       "align_self": null,
       "border": null,
       "bottom": null,
       "display": null,
       "flex": null,
       "flex_flow": null,
       "grid_area": null,
       "grid_auto_columns": null,
       "grid_auto_flow": null,
       "grid_auto_rows": null,
       "grid_column": null,
       "grid_gap": null,
       "grid_row": null,
       "grid_template_areas": null,
       "grid_template_columns": null,
       "grid_template_rows": null,
       "height": null,
       "justify_content": null,
       "justify_items": null,
       "left": null,
       "margin": null,
       "max_height": null,
       "max_width": null,
       "min_height": null,
       "min_width": null,
       "object_fit": null,
       "object_position": null,
       "order": null,
       "overflow": null,
       "overflow_x": null,
       "overflow_y": null,
       "padding": null,
       "right": null,
       "top": null,
       "visibility": null,
       "width": null
      }
     },
     "b6ee34147c344351a06cf5d01db8f57a": {
      "model_module": "@jupyter-widgets/controls",
      "model_module_version": "1.5.0",
      "model_name": "HTMLModel",
      "state": {
       "_dom_classes": [],
       "_model_module": "@jupyter-widgets/controls",
       "_model_module_version": "1.5.0",
       "_model_name": "HTMLModel",
       "_view_count": null,
       "_view_module": "@jupyter-widgets/controls",
       "_view_module_version": "1.5.0",
       "_view_name": "HTMLView",
       "description": "",
       "description_tooltip": null,
       "layout": "IPY_MODEL_f13f8a9aee604a249d05a2391b140ad3",
       "placeholder": "​",
       "style": "IPY_MODEL_c3cf50167fb349c6b19431d069754e5e",
       "value": "tokenizer_config.json: 100%"
      }
     },
     "bf6b4fdd9cd54f4695fbe4c36fb62f7e": {
      "model_module": "@jupyter-widgets/controls",
      "model_module_version": "1.5.0",
      "model_name": "DescriptionStyleModel",
      "state": {
       "_model_module": "@jupyter-widgets/controls",
       "_model_module_version": "1.5.0",
       "_model_name": "DescriptionStyleModel",
       "_view_count": null,
       "_view_module": "@jupyter-widgets/base",
       "_view_module_version": "1.2.0",
       "_view_name": "StyleView",
       "description_width": ""
      }
     },
     "c3cf50167fb349c6b19431d069754e5e": {
      "model_module": "@jupyter-widgets/controls",
      "model_module_version": "1.5.0",
      "model_name": "DescriptionStyleModel",
      "state": {
       "_model_module": "@jupyter-widgets/controls",
       "_model_module_version": "1.5.0",
       "_model_name": "DescriptionStyleModel",
       "_view_count": null,
       "_view_module": "@jupyter-widgets/base",
       "_view_module_version": "1.2.0",
       "_view_name": "StyleView",
       "description_width": ""
      }
     },
     "c4a52d7db4624ca5880b20d296548544": {
      "model_module": "@jupyter-widgets/base",
      "model_module_version": "1.2.0",
      "model_name": "LayoutModel",
      "state": {
       "_model_module": "@jupyter-widgets/base",
       "_model_module_version": "1.2.0",
       "_model_name": "LayoutModel",
       "_view_count": null,
       "_view_module": "@jupyter-widgets/base",
       "_view_module_version": "1.2.0",
       "_view_name": "LayoutView",
       "align_content": null,
       "align_items": null,
       "align_self": null,
       "border": null,
       "bottom": null,
       "display": null,
       "flex": null,
       "flex_flow": null,
       "grid_area": null,
       "grid_auto_columns": null,
       "grid_auto_flow": null,
       "grid_auto_rows": null,
       "grid_column": null,
       "grid_gap": null,
       "grid_row": null,
       "grid_template_areas": null,
       "grid_template_columns": null,
       "grid_template_rows": null,
       "height": null,
       "justify_content": null,
       "justify_items": null,
       "left": null,
       "margin": null,
       "max_height": null,
       "max_width": null,
       "min_height": null,
       "min_width": null,
       "object_fit": null,
       "object_position": null,
       "order": null,
       "overflow": null,
       "overflow_x": null,
       "overflow_y": null,
       "padding": null,
       "right": null,
       "top": null,
       "visibility": null,
       "width": null
      }
     },
     "cd4e3a4c073048bea5c61f0a20178f54": {
      "model_module": "@jupyter-widgets/controls",
      "model_module_version": "1.5.0",
      "model_name": "HBoxModel",
      "state": {
       "_dom_classes": [],
       "_model_module": "@jupyter-widgets/controls",
       "_model_module_version": "1.5.0",
       "_model_name": "HBoxModel",
       "_view_count": null,
       "_view_module": "@jupyter-widgets/controls",
       "_view_module_version": "1.5.0",
       "_view_name": "HBoxView",
       "box_style": "",
       "children": [
        "IPY_MODEL_643c6556c8504e1aa3655e465293d24d",
        "IPY_MODEL_122922968a1e4e62be6ba8f009bb5839",
        "IPY_MODEL_7ebf7f56c7d14a2fa116d586598e580d"
       ],
       "layout": "IPY_MODEL_6024752705b74487a9c3a552761c930f"
      }
     },
     "cf30c78ac8f844c196667b3de8148563": {
      "model_module": "@jupyter-widgets/controls",
      "model_module_version": "1.5.0",
      "model_name": "DescriptionStyleModel",
      "state": {
       "_model_module": "@jupyter-widgets/controls",
       "_model_module_version": "1.5.0",
       "_model_name": "DescriptionStyleModel",
       "_view_count": null,
       "_view_module": "@jupyter-widgets/base",
       "_view_module_version": "1.2.0",
       "_view_name": "StyleView",
       "description_width": ""
      }
     },
     "dea7a2108f1d426690077ace39623e1f": {
      "model_module": "@jupyter-widgets/controls",
      "model_module_version": "1.5.0",
      "model_name": "DescriptionStyleModel",
      "state": {
       "_model_module": "@jupyter-widgets/controls",
       "_model_module_version": "1.5.0",
       "_model_name": "DescriptionStyleModel",
       "_view_count": null,
       "_view_module": "@jupyter-widgets/base",
       "_view_module_version": "1.2.0",
       "_view_name": "StyleView",
       "description_width": ""
      }
     },
     "e179997ce5d04f8588bbd48dc34bc8c9": {
      "model_module": "@jupyter-widgets/base",
      "model_module_version": "1.2.0",
      "model_name": "LayoutModel",
      "state": {
       "_model_module": "@jupyter-widgets/base",
       "_model_module_version": "1.2.0",
       "_model_name": "LayoutModel",
       "_view_count": null,
       "_view_module": "@jupyter-widgets/base",
       "_view_module_version": "1.2.0",
       "_view_name": "LayoutView",
       "align_content": null,
       "align_items": null,
       "align_self": null,
       "border": null,
       "bottom": null,
       "display": null,
       "flex": null,
       "flex_flow": null,
       "grid_area": null,
       "grid_auto_columns": null,
       "grid_auto_flow": null,
       "grid_auto_rows": null,
       "grid_column": null,
       "grid_gap": null,
       "grid_row": null,
       "grid_template_areas": null,
       "grid_template_columns": null,
       "grid_template_rows": null,
       "height": null,
       "justify_content": null,
       "justify_items": null,
       "left": null,
       "margin": null,
       "max_height": null,
       "max_width": null,
       "min_height": null,
       "min_width": null,
       "object_fit": null,
       "object_position": null,
       "order": null,
       "overflow": null,
       "overflow_x": null,
       "overflow_y": null,
       "padding": null,
       "right": null,
       "top": null,
       "visibility": null,
       "width": null
      }
     },
     "e1c372fc2e4a4cb2924df2062dde58b7": {
      "model_module": "@jupyter-widgets/base",
      "model_module_version": "1.2.0",
      "model_name": "LayoutModel",
      "state": {
       "_model_module": "@jupyter-widgets/base",
       "_model_module_version": "1.2.0",
       "_model_name": "LayoutModel",
       "_view_count": null,
       "_view_module": "@jupyter-widgets/base",
       "_view_module_version": "1.2.0",
       "_view_name": "LayoutView",
       "align_content": null,
       "align_items": null,
       "align_self": null,
       "border": null,
       "bottom": null,
       "display": null,
       "flex": null,
       "flex_flow": null,
       "grid_area": null,
       "grid_auto_columns": null,
       "grid_auto_flow": null,
       "grid_auto_rows": null,
       "grid_column": null,
       "grid_gap": null,
       "grid_row": null,
       "grid_template_areas": null,
       "grid_template_columns": null,
       "grid_template_rows": null,
       "height": null,
       "justify_content": null,
       "justify_items": null,
       "left": null,
       "margin": null,
       "max_height": null,
       "max_width": null,
       "min_height": null,
       "min_width": null,
       "object_fit": null,
       "object_position": null,
       "order": null,
       "overflow": null,
       "overflow_x": null,
       "overflow_y": null,
       "padding": null,
       "right": null,
       "top": null,
       "visibility": null,
       "width": null
      }
     },
     "e5ecf3b3f87443c1ae2274977169f424": {
      "model_module": "@jupyter-widgets/controls",
      "model_module_version": "1.5.0",
      "model_name": "HTMLModel",
      "state": {
       "_dom_classes": [],
       "_model_module": "@jupyter-widgets/controls",
       "_model_module_version": "1.5.0",
       "_model_name": "HTMLModel",
       "_view_count": null,
       "_view_module": "@jupyter-widgets/controls",
       "_view_module_version": "1.5.0",
       "_view_name": "HTMLView",
       "description": "",
       "description_tooltip": null,
       "layout": "IPY_MODEL_926e1751f0014badb263bdc38c489336",
       "placeholder": "​",
       "style": "IPY_MODEL_6ec4f72419f64d17a40e9bc5292462de",
       "value": " 466k/466k [00:00&lt;00:00, 27.4MB/s]"
      }
     },
     "edbbb6d87a064d7b9685b076b8905a4a": {
      "model_module": "@jupyter-widgets/controls",
      "model_module_version": "1.5.0",
      "model_name": "HTMLModel",
      "state": {
       "_dom_classes": [],
       "_model_module": "@jupyter-widgets/controls",
       "_model_module_version": "1.5.0",
       "_model_name": "HTMLModel",
       "_view_count": null,
       "_view_module": "@jupyter-widgets/controls",
       "_view_module_version": "1.5.0",
       "_view_name": "HTMLView",
       "description": "",
       "description_tooltip": null,
       "layout": "IPY_MODEL_e1c372fc2e4a4cb2924df2062dde58b7",
       "placeholder": "​",
       "style": "IPY_MODEL_268fff4b88514d2a98cf0e5845e8de35",
       "value": " 232k/232k [00:00&lt;00:00, 9.83MB/s]"
      }
     },
     "f120959e1e4c4aeca1ed6ed6b8758413": {
      "model_module": "@jupyter-widgets/controls",
      "model_module_version": "1.5.0",
      "model_name": "ProgressStyleModel",
      "state": {
       "_model_module": "@jupyter-widgets/controls",
       "_model_module_version": "1.5.0",
       "_model_name": "ProgressStyleModel",
       "_view_count": null,
       "_view_module": "@jupyter-widgets/base",
       "_view_module_version": "1.2.0",
       "_view_name": "StyleView",
       "bar_color": null,
       "description_width": ""
      }
     },
     "f13f8a9aee604a249d05a2391b140ad3": {
      "model_module": "@jupyter-widgets/base",
      "model_module_version": "1.2.0",
      "model_name": "LayoutModel",
      "state": {
       "_model_module": "@jupyter-widgets/base",
       "_model_module_version": "1.2.0",
       "_model_name": "LayoutModel",
       "_view_count": null,
       "_view_module": "@jupyter-widgets/base",
       "_view_module_version": "1.2.0",
       "_view_name": "LayoutView",
       "align_content": null,
       "align_items": null,
       "align_self": null,
       "border": null,
       "bottom": null,
       "display": null,
       "flex": null,
       "flex_flow": null,
       "grid_area": null,
       "grid_auto_columns": null,
       "grid_auto_flow": null,
       "grid_auto_rows": null,
       "grid_column": null,
       "grid_gap": null,
       "grid_row": null,
       "grid_template_areas": null,
       "grid_template_columns": null,
       "grid_template_rows": null,
       "height": null,
       "justify_content": null,
       "justify_items": null,
       "left": null,
       "margin": null,
       "max_height": null,
       "max_width": null,
       "min_height": null,
       "min_width": null,
       "object_fit": null,
       "object_position": null,
       "order": null,
       "overflow": null,
       "overflow_x": null,
       "overflow_y": null,
       "padding": null,
       "right": null,
       "top": null,
       "visibility": null,
       "width": null
      }
     },
     "f571d8ff3501464894f752d0e086966b": {
      "model_module": "@jupyter-widgets/controls",
      "model_module_version": "1.5.0",
      "model_name": "ProgressStyleModel",
      "state": {
       "_model_module": "@jupyter-widgets/controls",
       "_model_module_version": "1.5.0",
       "_model_name": "ProgressStyleModel",
       "_view_count": null,
       "_view_module": "@jupyter-widgets/base",
       "_view_module_version": "1.2.0",
       "_view_name": "StyleView",
       "bar_color": null,
       "description_width": ""
      }
     }
    },
    "version_major": 2,
    "version_minor": 0
   }
  }
 },
 "nbformat": 4,
 "nbformat_minor": 5
}
