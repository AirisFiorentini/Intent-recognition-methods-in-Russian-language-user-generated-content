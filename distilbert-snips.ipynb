{
 "cells": [
  {
   "cell_type": "code",
   "execution_count": 1,
   "id": "83d779ca",
   "metadata": {
    "_cell_guid": "b1076dfc-b9ad-4769-8c92-a6c4dae69d19",
    "_uuid": "8f2839f25d086af736a60e9eeb907d3b93b6e0e5",
    "execution": {
     "iopub.execute_input": "2024-05-30T12:18:31.145235Z",
     "iopub.status.busy": "2024-05-30T12:18:31.144855Z",
     "iopub.status.idle": "2024-05-30T12:18:31.956474Z",
     "shell.execute_reply": "2024-05-30T12:18:31.955479Z"
    },
    "papermill": {
     "duration": 0.826111,
     "end_time": "2024-05-30T12:18:31.958968",
     "exception": false,
     "start_time": "2024-05-30T12:18:31.132857",
     "status": "completed"
    },
    "tags": []
   },
   "outputs": [
    {
     "name": "stdout",
     "output_type": "stream",
     "text": [
      "/kaggle/input/atis-airlinetravelinformationsystem/atis_intents_train.csv\n",
      "/kaggle/input/atis-airlinetravelinformationsystem/atis_intents.csv\n",
      "/kaggle/input/atis-airlinetravelinformationsystem/atis_intents_test.csv\n",
      "/kaggle/input/snips-dataset/train_data.csv\n",
      "/kaggle/input/snips-dataset/validate_data.csv\n"
     ]
    }
   ],
   "source": [
    "import numpy as np # linear algebra\n",
    "import pandas as pd # data processing, CSV file I/O (e.g. pd.read_csv)\n",
    "\n",
    "import os\n",
    "for dirname, _, filenames in os.walk('/kaggle/input'):\n",
    "    for filename in filenames:\n",
    "        print(os.path.join(dirname, filename))"
   ]
  },
  {
   "cell_type": "code",
   "execution_count": 2,
   "id": "7a2824d8",
   "metadata": {
    "execution": {
     "iopub.execute_input": "2024-05-30T12:18:31.979505Z",
     "iopub.status.busy": "2024-05-30T12:18:31.978526Z",
     "iopub.status.idle": "2024-05-30T12:18:40.604549Z",
     "shell.execute_reply": "2024-05-30T12:18:40.603645Z"
    },
    "papermill": {
     "duration": 8.63889,
     "end_time": "2024-05-30T12:18:40.607150",
     "exception": false,
     "start_time": "2024-05-30T12:18:31.968260",
     "status": "completed"
    },
    "tags": []
   },
   "outputs": [],
   "source": [
    "import torch\n",
    "from torch.utils.data import Dataset, DataLoader\n",
    "from transformers import BertTokenizer, BertForSequenceClassification, AdamW\n",
    "from sklearn.metrics import confusion_matrix, accuracy_score"
   ]
  },
  {
   "cell_type": "code",
   "execution_count": 3,
   "id": "5c1829d3",
   "metadata": {
    "execution": {
     "iopub.execute_input": "2024-05-30T12:18:40.629453Z",
     "iopub.status.busy": "2024-05-30T12:18:40.628634Z",
     "iopub.status.idle": "2024-05-30T12:18:41.516598Z",
     "shell.execute_reply": "2024-05-30T12:18:41.515548Z"
    },
    "papermill": {
     "duration": 0.901699,
     "end_time": "2024-05-30T12:18:41.518759",
     "exception": false,
     "start_time": "2024-05-30T12:18:40.617060",
     "status": "completed"
    },
    "tags": []
   },
   "outputs": [
    {
     "name": "stdout",
     "output_type": "stream",
     "text": [
      "[nltk_data] Downloading package punkt to /usr/share/nltk_data...\n",
      "[nltk_data]   Package punkt is already up-to-date!\n"
     ]
    },
    {
     "data": {
      "text/plain": [
       "True"
      ]
     },
     "execution_count": 3,
     "metadata": {},
     "output_type": "execute_result"
    }
   ],
   "source": [
    "import nltk\n",
    "from nltk.tokenize import word_tokenize\n",
    "from sklearn.feature_extraction.text import TfidfVectorizer\n",
    "from sklearn.preprocessing import LabelEncoder\n",
    "from torch.utils.data import Dataset, DataLoader\n",
    "import torch\n",
    "from torch import nn\n",
    "import timeit\n",
    "from sklearn.model_selection import train_test_split\n",
    "from sklearn.metrics import precision_recall_fscore_support, balanced_accuracy_score\n",
    "from tqdm import tqdm\n",
    "import matplotlib.pyplot as plt\n",
    "from sklearn.metrics import confusion_matrix, accuracy_score\n",
    "import matplotlib.pyplot as plt\n",
    "import seaborn as sns\n",
    "\n",
    "nltk.download('punkt')"
   ]
  },
  {
   "cell_type": "code",
   "execution_count": 4,
   "id": "2924e834",
   "metadata": {
    "execution": {
     "iopub.execute_input": "2024-05-30T12:18:41.539450Z",
     "iopub.status.busy": "2024-05-30T12:18:41.539094Z",
     "iopub.status.idle": "2024-05-30T12:18:41.654253Z",
     "shell.execute_reply": "2024-05-30T12:18:41.653007Z"
    },
    "papermill": {
     "duration": 0.128206,
     "end_time": "2024-05-30T12:18:41.656551",
     "exception": false,
     "start_time": "2024-05-30T12:18:41.528345",
     "status": "completed"
    },
    "tags": []
   },
   "outputs": [
    {
     "name": "stdout",
     "output_type": "stream",
     "text": [
      "intent\n",
      "atis_flight                                 73.869079\n",
      "atis_airfare                                 8.621607\n",
      "atis_ground_service                          5.082491\n",
      "atis_airline                                 3.113358\n",
      "atis_abbreviation                            2.474721\n",
      "atis_aircraft                                1.676424\n",
      "atis_flight_time                             1.117616\n",
      "atis_quantity                                1.091006\n",
      "atis_distance                                0.425758\n",
      "atis_flight#atis_airfare                     0.399148\n",
      "atis_ground_fare                             0.372539\n",
      "atis_airport                                 0.372539\n",
      "atis_city                                    0.372539\n",
      "atis_capacity                                0.345929\n",
      "atis_flight_no                               0.266099\n",
      "atis_meal                                    0.133049\n",
      "atis_restriction                             0.106440\n",
      "atis_airline#atis_flight_no                  0.053220\n",
      "atis_ground_service#atis_ground_fare         0.026610\n",
      "atis_airfare#atis_flight_time                0.026610\n",
      "atis_cheapest                                0.026610\n",
      "atis_aircraft#atis_flight#atis_flight_no     0.026610\n",
      "Name: proportion, dtype: float64 22 21\n",
      "intent\n",
      "atis_flight                                 73.869079\n",
      "atis_airfare                                 8.621607\n",
      "atis_ground_service                          5.082491\n",
      "atis_airline                                 3.113358\n",
      "atis_abbreviation                            2.474721\n",
      "atis_aircraft                                1.676424\n",
      "atis_flight_time                             1.117616\n",
      "atis_quantity                                1.091006\n",
      "atis_distance                                0.425758\n",
      "atis_flight#atis_airfare                     0.399148\n",
      "atis_ground_fare                             0.372539\n",
      "atis_airport                                 0.372539\n",
      "atis_city                                    0.372539\n",
      "atis_capacity                                0.345929\n",
      "atis_flight_no                               0.266099\n",
      "atis_meal                                    0.133049\n",
      "atis_restriction                             0.106440\n",
      "atis_airline#atis_flight_no                  0.053220\n",
      "atis_ground_service#atis_ground_fare         0.026610\n",
      "atis_airfare#atis_flight_time                0.026610\n",
      "atis_cheapest                                0.026610\n",
      "atis_aircraft#atis_flight#atis_flight_no     0.026610\n",
      "Name: proportion, dtype: float64 22 22\n"
     ]
    }
   ],
   "source": [
    "# Путь к файлу CSV\n",
    "data_path = \"/kaggle/input/atis-airlinetravelinformationsystem/atis_intents.csv\"\n",
    "train_data_path = \"/kaggle/input/atis-airlinetravelinformationsystem/atis_intents_train.csv\"\n",
    "test_data_path = \"/kaggle/input/atis-airlinetravelinformationsystem/atis_intents_test.csv\"\n",
    "\n",
    "# Чтение данных из CSV-файлов\n",
    "data = pd.read_csv(data_path)\n",
    "train_data = pd.read_csv(train_data_path)\n",
    "test_data = pd.read_csv(test_data_path)\n",
    "\n",
    "data = data.rename(columns={'atis_flight': 'intent', ' i want to fly from boston at 838 am and arrive in denver at 1110 in the morning': 'text'})\n",
    "lost_intent = {'intent': 'atis_flight', 'text': 'i want to fly from boston at 838 am and arrive in denver at 1110 in the morning'}\n",
    "data = pd.concat([data, pd.DataFrame([lost_intent])], ignore_index=True)\n",
    "\n",
    "# Find classes with only one sample\n",
    "class_counts = data['intent'].value_counts()\n",
    "single_sample_classes = class_counts[class_counts == 1].index.tolist()\n",
    "\n",
    "# Separate single sample classes\n",
    "single_sample_data = data[data['intent'].isin(single_sample_classes)]\n",
    "multiple_sample_data = data[~data['intent'].isin(single_sample_classes)]\n",
    "\n",
    "# train, test = train_test_split(data, test_size=0.2, random_state=42, stratify=data['intent'])\n",
    "# Perform stratified split on multiple sample data\n",
    "train_multiple, test_multiple = train_test_split(multiple_sample_data, test_size=0.2, random_state=42, stratify=multiple_sample_data['intent'])\n",
    "\n",
    "# Add single sample data to both train and test sets to ensure all classes are present\n",
    "train = pd.concat([train_multiple, single_sample_data]).reset_index(drop=True)\n",
    "test = pd.concat([test_multiple, single_sample_data]).reset_index(drop=True)\n",
    "\n",
    "# Ensure no duplicates in train and test sets\n",
    "train = train.drop_duplicates().reset_index(drop=True)\n",
    "test = test.drop_duplicates().reset_index(drop=True)\n",
    "\n",
    "unique_values_normalized = train['intent'].value_counts(normalize=True)\n",
    "unique_values_normalized_test = test['intent'].value_counts(normalize=True)\n",
    "print(unique_values_normalized*100, len(unique_values_normalized), len(unique_values_normalized_test))\n",
    "\n",
    "# Check for missing classes and ensure all classes are present\n",
    "train_classes = set(train['intent'])\n",
    "test_classes = set(test['intent'])\n",
    "all_classes = set(data['intent'])\n",
    "\n",
    "# Find missing classes in train and test sets\n",
    "missing_train_classes = all_classes - train_classes\n",
    "missing_test_classes = all_classes - test_classes\n",
    "\n",
    "# Add missing classes examples to train and test sets\n",
    "if missing_train_classes:\n",
    "    missing_train_data = data[data['intent'].isin(missing_train_classes)]\n",
    "    train = pd.concat([train, missing_train_data])\n",
    "    train = train.drop_duplicates().reset_index(drop=True)\n",
    "\n",
    "if missing_test_classes:\n",
    "    missing_test_data = data[data['intent'].isin(missing_test_classes)]\n",
    "    test = pd.concat([test, missing_test_data])\n",
    "    test = test.drop_duplicates().reset_index(drop=True)\n",
    "\n",
    "# Print unique value proportions\n",
    "unique_values_normalized = train['intent'].value_counts(normalize=True)\n",
    "unique_values_normalized_test = test['intent'].value_counts(normalize=True)\n",
    "print(unique_values_normalized * 100, len(unique_values_normalized), len(unique_values_normalized_test)) "
   ]
  },
  {
   "cell_type": "code",
   "execution_count": 5,
   "id": "28313222",
   "metadata": {
    "execution": {
     "iopub.execute_input": "2024-05-30T12:18:41.678002Z",
     "iopub.status.busy": "2024-05-30T12:18:41.677627Z",
     "iopub.status.idle": "2024-05-30T12:18:41.682192Z",
     "shell.execute_reply": "2024-05-30T12:18:41.681266Z"
    },
    "papermill": {
     "duration": 0.017802,
     "end_time": "2024-05-30T12:18:41.684371",
     "exception": false,
     "start_time": "2024-05-30T12:18:41.666569",
     "status": "completed"
    },
    "tags": []
   },
   "outputs": [],
   "source": [
    "# # Путь к файлу CSV\n",
    "# train_data_path = \"/kaggle/input/snips-dataset/train_data.csv\"\n",
    "# validate_data_path = \"/kaggle/input/snips-dataset/validate_data.csv\"\n",
    "\n",
    "# # Чтение данных из CSV-файлов\n",
    "# train_data = pd.read_csv(train_data_path)\n",
    "# validate_data = pd.read_csv(validate_data_path)\n",
    "\n",
    "# # Вывод первых 5 строк каждого DataFrame\n",
    "# print(\"Train data:\")\n",
    "# print(train_data.head())\n",
    "# print(\"\\nValidate data:\")\n",
    "# print(validate_data.head())"
   ]
  },
  {
   "cell_type": "code",
   "execution_count": 6,
   "id": "bed46ad4",
   "metadata": {
    "execution": {
     "iopub.execute_input": "2024-05-30T12:18:41.705859Z",
     "iopub.status.busy": "2024-05-30T12:18:41.705529Z",
     "iopub.status.idle": "2024-05-30T12:18:41.709697Z",
     "shell.execute_reply": "2024-05-30T12:18:41.708796Z"
    },
    "papermill": {
     "duration": 0.017447,
     "end_time": "2024-05-30T12:18:41.711997",
     "exception": false,
     "start_time": "2024-05-30T12:18:41.694550",
     "status": "completed"
    },
    "tags": []
   },
   "outputs": [],
   "source": [
    "# unique_values_normalized = train_data['intent'].value_counts(normalize=True)\n",
    "# print(unique_values_normalized)"
   ]
  },
  {
   "cell_type": "code",
   "execution_count": 7,
   "id": "0a198cac",
   "metadata": {
    "execution": {
     "iopub.execute_input": "2024-05-30T12:18:41.734722Z",
     "iopub.status.busy": "2024-05-30T12:18:41.734401Z",
     "iopub.status.idle": "2024-05-30T12:18:41.738428Z",
     "shell.execute_reply": "2024-05-30T12:18:41.737537Z"
    },
    "papermill": {
     "duration": 0.017283,
     "end_time": "2024-05-30T12:18:41.740516",
     "exception": false,
     "start_time": "2024-05-30T12:18:41.723233",
     "status": "completed"
    },
    "tags": []
   },
   "outputs": [],
   "source": [
    "# train_data = train_data.drop('entity', axis=1)\n",
    "# validate_data = validate_data.drop('entity', axis=1)"
   ]
  },
  {
   "cell_type": "code",
   "execution_count": 8,
   "id": "28c952bc",
   "metadata": {
    "execution": {
     "iopub.execute_input": "2024-05-30T12:18:41.762247Z",
     "iopub.status.busy": "2024-05-30T12:18:41.761390Z",
     "iopub.status.idle": "2024-05-30T12:18:41.765417Z",
     "shell.execute_reply": "2024-05-30T12:18:41.764609Z"
    },
    "papermill": {
     "duration": 0.016625,
     "end_time": "2024-05-30T12:18:41.767513",
     "exception": false,
     "start_time": "2024-05-30T12:18:41.750888",
     "status": "completed"
    },
    "tags": []
   },
   "outputs": [],
   "source": [
    "# # Удалите строки, где столбец 'column_name' пуст\n",
    "# train_data = train_data.dropna(subset=['text'])\n",
    "# validate_data = validate_data.dropna(subset=['text'])"
   ]
  },
  {
   "cell_type": "code",
   "execution_count": 9,
   "id": "0e918ef4",
   "metadata": {
    "execution": {
     "iopub.execute_input": "2024-05-30T12:18:41.788536Z",
     "iopub.status.busy": "2024-05-30T12:18:41.787917Z",
     "iopub.status.idle": "2024-05-30T12:18:41.792714Z",
     "shell.execute_reply": "2024-05-30T12:18:41.791748Z"
    },
    "papermill": {
     "duration": 0.017697,
     "end_time": "2024-05-30T12:18:41.794936",
     "exception": false,
     "start_time": "2024-05-30T12:18:41.777239",
     "status": "completed"
    },
    "tags": []
   },
   "outputs": [],
   "source": [
    "# # Подсчитываем количество примеров для каждого класса\n",
    "# class_counts = train_data['intent'].value_counts()\n",
    "\n",
    "# # Находим класс с наименьшим количеством примеров\n",
    "# min_class = class_counts.idxmin()\n",
    "# min_class_count = class_counts.min()\n",
    "\n",
    "# # Делаем undersampling для всех остальных классов\n",
    "# balanced_data = train_data[train_data['intent'] == min_class]\n",
    "# for intent in class_counts.index:\n",
    "#     if intent != min_class:\n",
    "#         samples = train_data[train_data['intent'] == intent].sample(min_class_count)\n",
    "#         balanced_data = pd.concat([balanced_data, samples], axis=0)\n",
    "\n",
    "# # Теперь в balanced_data примеры каждого класса представлены в одинаковом количестве"
   ]
  },
  {
   "cell_type": "code",
   "execution_count": 10,
   "id": "1df29821",
   "metadata": {
    "execution": {
     "iopub.execute_input": "2024-05-30T12:18:41.816309Z",
     "iopub.status.busy": "2024-05-30T12:18:41.815534Z",
     "iopub.status.idle": "2024-05-30T12:18:41.819719Z",
     "shell.execute_reply": "2024-05-30T12:18:41.818812Z"
    },
    "papermill": {
     "duration": 0.016866,
     "end_time": "2024-05-30T12:18:41.821712",
     "exception": false,
     "start_time": "2024-05-30T12:18:41.804846",
     "status": "completed"
    },
    "tags": []
   },
   "outputs": [],
   "source": [
    "# balanced_data = train_data"
   ]
  },
  {
   "cell_type": "code",
   "execution_count": 11,
   "id": "335d7375",
   "metadata": {
    "execution": {
     "iopub.execute_input": "2024-05-30T12:18:41.842169Z",
     "iopub.status.busy": "2024-05-30T12:18:41.841840Z",
     "iopub.status.idle": "2024-05-30T12:18:41.845839Z",
     "shell.execute_reply": "2024-05-30T12:18:41.844875Z"
    },
    "papermill": {
     "duration": 0.016666,
     "end_time": "2024-05-30T12:18:41.848007",
     "exception": false,
     "start_time": "2024-05-30T12:18:41.831341",
     "status": "completed"
    },
    "tags": []
   },
   "outputs": [],
   "source": [
    "# balanced_data.info()"
   ]
  },
  {
   "cell_type": "code",
   "execution_count": 12,
   "id": "1507c533",
   "metadata": {
    "execution": {
     "iopub.execute_input": "2024-05-30T12:18:41.868240Z",
     "iopub.status.busy": "2024-05-30T12:18:41.867931Z",
     "iopub.status.idle": "2024-05-30T12:18:42.830825Z",
     "shell.execute_reply": "2024-05-30T12:18:42.829926Z"
    },
    "papermill": {
     "duration": 0.976151,
     "end_time": "2024-05-30T12:18:42.833399",
     "exception": false,
     "start_time": "2024-05-30T12:18:41.857248",
     "status": "completed"
    },
    "tags": []
   },
   "outputs": [
    {
     "data": {
      "application/vnd.jupyter.widget-view+json": {
       "model_id": "46728dae11ef4b5da5e210b15d65b757",
       "version_major": 2,
       "version_minor": 0
      },
      "text/plain": [
       "tokenizer_config.json:   0%|          | 0.00/48.0 [00:00<?, ?B/s]"
      ]
     },
     "metadata": {},
     "output_type": "display_data"
    },
    {
     "data": {
      "application/vnd.jupyter.widget-view+json": {
       "model_id": "239adeebaa3c49d99e0fb91783bb24af",
       "version_major": 2,
       "version_minor": 0
      },
      "text/plain": [
       "vocab.txt:   0%|          | 0.00/232k [00:00<?, ?B/s]"
      ]
     },
     "metadata": {},
     "output_type": "display_data"
    },
    {
     "data": {
      "application/vnd.jupyter.widget-view+json": {
       "model_id": "d8db3e687ae14d2c9a2c7c5f69ae389e",
       "version_major": 2,
       "version_minor": 0
      },
      "text/plain": [
       "tokenizer.json:   0%|          | 0.00/466k [00:00<?, ?B/s]"
      ]
     },
     "metadata": {},
     "output_type": "display_data"
    },
    {
     "data": {
      "application/vnd.jupyter.widget-view+json": {
       "model_id": "ede4b47acc9b44519c86f15bde017433",
       "version_major": 2,
       "version_minor": 0
      },
      "text/plain": [
       "config.json:   0%|          | 0.00/483 [00:00<?, ?B/s]"
      ]
     },
     "metadata": {},
     "output_type": "display_data"
    }
   ],
   "source": [
    "from transformers import DistilBertTokenizer\n",
    "tokenizer = DistilBertTokenizer.from_pretrained('distilbert-base-uncased')\n"
   ]
  },
  {
   "cell_type": "code",
   "execution_count": 13,
   "id": "1fea2d66",
   "metadata": {
    "execution": {
     "iopub.execute_input": "2024-05-30T12:18:42.857260Z",
     "iopub.status.busy": "2024-05-30T12:18:42.856875Z",
     "iopub.status.idle": "2024-05-30T12:18:42.861521Z",
     "shell.execute_reply": "2024-05-30T12:18:42.860648Z"
    },
    "papermill": {
     "duration": 0.018953,
     "end_time": "2024-05-30T12:18:42.863700",
     "exception": false,
     "start_time": "2024-05-30T12:18:42.844747",
     "status": "completed"
    },
    "tags": []
   },
   "outputs": [],
   "source": [
    "from torch.nn import CrossEntropyLoss"
   ]
  },
  {
   "cell_type": "code",
   "execution_count": 14,
   "id": "87a4bd38",
   "metadata": {
    "execution": {
     "iopub.execute_input": "2024-05-30T12:18:42.885876Z",
     "iopub.status.busy": "2024-05-30T12:18:42.885562Z",
     "iopub.status.idle": "2024-05-30T12:18:42.893447Z",
     "shell.execute_reply": "2024-05-30T12:18:42.892459Z"
    },
    "papermill": {
     "duration": 0.021071,
     "end_time": "2024-05-30T12:18:42.895443",
     "exception": false,
     "start_time": "2024-05-30T12:18:42.874372",
     "status": "completed"
    },
    "tags": []
   },
   "outputs": [],
   "source": [
    "class IntentClassificationDataset(Dataset):\n",
    "    def __init__(self, texts, labels, tokenizer, max_len):\n",
    "        self.texts = texts\n",
    "        self.labels = labels\n",
    "        self.tokenizer = tokenizer\n",
    "        self.max_len = max_len\n",
    "\n",
    "    def __len__(self):\n",
    "        return len(self.texts)\n",
    "\n",
    "    def __getitem__(self, item):\n",
    "        text = str(self.texts[item])\n",
    "        label = self.labels[item]\n",
    "\n",
    "        encoding = self.tokenizer.encode_plus(\n",
    "            text,\n",
    "            add_special_tokens=True,\n",
    "            max_length=self.max_len,\n",
    "            return_token_type_ids=False,\n",
    "            padding='max_length',\n",
    "            return_attention_mask=True,\n",
    "            return_tensors='pt',\n",
    "        )\n",
    "\n",
    "        return {\n",
    "            'text': text,\n",
    "            'input_ids': encoding['input_ids'].flatten(),\n",
    "            'attention_mask': encoding['attention_mask'].flatten(),\n",
    "            'labels': torch.tensor(label, dtype=torch.long)\n",
    "        }"
   ]
  },
  {
   "cell_type": "code",
   "execution_count": 15,
   "id": "70a1decd",
   "metadata": {
    "execution": {
     "iopub.execute_input": "2024-05-30T12:18:42.917341Z",
     "iopub.status.busy": "2024-05-30T12:18:42.917014Z",
     "iopub.status.idle": "2024-05-30T12:18:42.926179Z",
     "shell.execute_reply": "2024-05-30T12:18:42.925322Z"
    },
    "papermill": {
     "duration": 0.022726,
     "end_time": "2024-05-30T12:18:42.928324",
     "exception": false,
     "start_time": "2024-05-30T12:18:42.905598",
     "status": "completed"
    },
    "tags": []
   },
   "outputs": [],
   "source": [
    "class EarlyStopping:\n",
    "    def __init__(self, patience=2, verbose=False, delta=0):\n",
    "        self.patience = patience\n",
    "        self.verbose = verbose\n",
    "        self.counter = 0\n",
    "        self.best_score = None\n",
    "        self.early_stop = False\n",
    "        self.val_loss_min = np.Inf\n",
    "        self.delta = delta\n",
    "\n",
    "    def __call__(self, val_loss, model):\n",
    "\n",
    "        score = -val_loss\n",
    "\n",
    "        if self.best_score is None:\n",
    "            self.best_score = score\n",
    "            self.save_checkpoint(val_loss, model)\n",
    "        elif score < self.best_score + self.delta:\n",
    "            self.counter += 1\n",
    "            print(f'EarlyStopping counter: {self.counter} out of {self.patience}')\n",
    "            if self.counter >= self.patience:\n",
    "                self.early_stop = True\n",
    "        else:\n",
    "            self.best_score = score\n",
    "            self.save_checkpoint(val_loss, model)\n",
    "            self.counter = 0\n",
    "\n",
    "    def save_checkpoint(self, val_loss, model):\n",
    "        if self.verbose:\n",
    "            print(f'Validation loss decreased ({self.val_loss_min:.6f} --> {val_loss:.6f}).  Saving model ...')\n",
    "        torch.save(model.state_dict(), 'checkpoint.pt')\n",
    "        self.val_loss_min = val_loss\n"
   ]
  },
  {
   "cell_type": "code",
   "execution_count": 16,
   "id": "22b28d57",
   "metadata": {
    "execution": {
     "iopub.execute_input": "2024-05-30T12:18:42.951160Z",
     "iopub.status.busy": "2024-05-30T12:18:42.950828Z",
     "iopub.status.idle": "2024-05-30T12:18:42.963613Z",
     "shell.execute_reply": "2024-05-30T12:18:42.962547Z"
    },
    "papermill": {
     "duration": 0.026855,
     "end_time": "2024-05-30T12:18:42.965897",
     "exception": false,
     "start_time": "2024-05-30T12:18:42.939042",
     "status": "completed"
    },
    "tags": []
   },
   "outputs": [],
   "source": [
    "from torch import nn\n",
    "from transformers import DistilBertModel\n",
    "\n",
    "class CustomDistilBertModel(nn.Module):\n",
    "    def __init__(self, num_labels):\n",
    "        super(CustomDistilBertModel, self).__init__()\n",
    "        self.distilbert = DistilBertModel.from_pretrained('distilbert-base-uncased')\n",
    "        self.dropout = nn.Dropout(0.1)\n",
    "        self.fc1 = nn.Linear(768, 512)\n",
    "        self.fc2 = nn.Linear(512, num_labels)\n",
    "\n",
    "    def forward(self, input_ids, attention_mask):\n",
    "        output = self.distilbert(input_ids=input_ids, attention_mask=attention_mask)\n",
    "        pooled_output = output[0][:, 0]\n",
    "        output = self.dropout(pooled_output)\n",
    "        output = self.fc1(output)\n",
    "        output = nn.Tanh()(output)\n",
    "        output = self.dropout(output)\n",
    "        output = self.fc2(output)\n",
    "        return output\n",
    "\n"
   ]
  },
  {
   "cell_type": "code",
   "execution_count": 17,
   "id": "cf889b80",
   "metadata": {
    "execution": {
     "iopub.execute_input": "2024-05-30T12:18:42.989441Z",
     "iopub.status.busy": "2024-05-30T12:18:42.989065Z",
     "iopub.status.idle": "2024-05-30T12:18:42.996334Z",
     "shell.execute_reply": "2024-05-30T12:18:42.995392Z"
    },
    "papermill": {
     "duration": 0.021516,
     "end_time": "2024-05-30T12:18:42.998480",
     "exception": false,
     "start_time": "2024-05-30T12:18:42.976964",
     "status": "completed"
    },
    "tags": []
   },
   "outputs": [],
   "source": [
    "# Преобразование меток в числовой формат\n",
    "unique_intents = train['intent'].unique().tolist()\n",
    "intent_mapping = {intent: i for i, intent in enumerate(unique_intents)}\n",
    "train_labels = [intent_mapping[intent] for intent in train['intent']]\n",
    "test_labels = [intent_mapping[intent] for intent in test['intent']]"
   ]
  },
  {
   "cell_type": "code",
   "execution_count": 18,
   "id": "6d20fa7b",
   "metadata": {
    "execution": {
     "iopub.execute_input": "2024-05-30T12:18:43.021147Z",
     "iopub.status.busy": "2024-05-30T12:18:43.020798Z",
     "iopub.status.idle": "2024-05-30T12:18:43.027535Z",
     "shell.execute_reply": "2024-05-30T12:18:43.026529Z"
    },
    "papermill": {
     "duration": 0.020684,
     "end_time": "2024-05-30T12:18:43.029599",
     "exception": false,
     "start_time": "2024-05-30T12:18:43.008915",
     "status": "completed"
    },
    "tags": []
   },
   "outputs": [],
   "source": [
    "# Создание наборов данных PyTorch\n",
    "max_len = 128\n",
    "batch_size = 16 #16\n",
    "train_dataset = IntentClassificationDataset(train['text'].tolist(), train_labels, tokenizer, max_len)\n",
    "test_dataset = IntentClassificationDataset(test['text'].tolist(), test_labels, tokenizer, max_len)\n",
    "\n",
    "train_data_loader = DataLoader(train_dataset, batch_size=batch_size, shuffle=True)\n",
    "test_data_loader = DataLoader(test_dataset, batch_size=batch_size, shuffle=False)\n"
   ]
  },
  {
   "cell_type": "code",
   "execution_count": 19,
   "id": "6b72f9d3",
   "metadata": {
    "execution": {
     "iopub.execute_input": "2024-05-30T12:18:43.053683Z",
     "iopub.status.busy": "2024-05-30T12:18:43.053337Z",
     "iopub.status.idle": "2024-05-30T12:18:45.422599Z",
     "shell.execute_reply": "2024-05-30T12:18:45.421659Z"
    },
    "papermill": {
     "duration": 2.384824,
     "end_time": "2024-05-30T12:18:45.425097",
     "exception": false,
     "start_time": "2024-05-30T12:18:43.040273",
     "status": "completed"
    },
    "tags": []
   },
   "outputs": [
    {
     "data": {
      "application/vnd.jupyter.widget-view+json": {
       "model_id": "e9b2619c8d28401289d3de38bde47b0c",
       "version_major": 2,
       "version_minor": 0
      },
      "text/plain": [
       "model.safetensors:   0%|          | 0.00/268M [00:00<?, ?B/s]"
      ]
     },
     "metadata": {},
     "output_type": "display_data"
    },
    {
     "name": "stderr",
     "output_type": "stream",
     "text": [
      "/opt/conda/lib/python3.10/site-packages/transformers/optimization.py:457: FutureWarning: This implementation of AdamW is deprecated and will be removed in a future version. Use the PyTorch implementation torch.optim.AdamW instead, or set `no_deprecation_warning=True` to disable this warning\n",
      "  warnings.warn(\n"
     ]
    }
   ],
   "source": [
    "from transformers import DistilBertForSequenceClassification, AdamW\n",
    "import torch\n",
    "\n",
    "# Загрузка модели DistilBERT\n",
    "# model = DistilBertForSequenceClassification.from_pretrained('distilbert-base-uncased', num_labels=len(unique_intents))\n",
    "model = CustomDistilBertModel(num_labels=len(unique_intents))\n",
    "\n",
    "# Компиляция модели\n",
    "optimizer = AdamW(model.parameters(), lr=5e-5, weight_decay=0.01)\n",
    "\n",
    "device = torch.device(\"cuda\" if torch.cuda.is_available() else \"cpu\")\n",
    "model = model.to(device)"
   ]
  },
  {
   "cell_type": "code",
   "execution_count": 20,
   "id": "3ef53b1c",
   "metadata": {
    "execution": {
     "iopub.execute_input": "2024-05-30T12:18:45.449038Z",
     "iopub.status.busy": "2024-05-30T12:18:45.448678Z",
     "iopub.status.idle": "2024-05-30T12:18:45.453325Z",
     "shell.execute_reply": "2024-05-30T12:18:45.452299Z"
    },
    "papermill": {
     "duration": 0.019425,
     "end_time": "2024-05-30T12:18:45.455478",
     "exception": false,
     "start_time": "2024-05-30T12:18:45.436053",
     "status": "completed"
    },
    "tags": []
   },
   "outputs": [],
   "source": [
    "# Создание экземпляра класса EarlyStopping\n",
    "early_stopping = EarlyStopping(patience=5, verbose=True)"
   ]
  },
  {
   "cell_type": "code",
   "execution_count": 21,
   "id": "a692f5ea",
   "metadata": {
    "execution": {
     "iopub.execute_input": "2024-05-30T12:18:45.479308Z",
     "iopub.status.busy": "2024-05-30T12:18:45.478363Z",
     "iopub.status.idle": "2024-05-30T12:18:45.483754Z",
     "shell.execute_reply": "2024-05-30T12:18:45.482933Z"
    },
    "papermill": {
     "duration": 0.019522,
     "end_time": "2024-05-30T12:18:45.485682",
     "exception": false,
     "start_time": "2024-05-30T12:18:45.466160",
     "status": "completed"
    },
    "tags": []
   },
   "outputs": [],
   "source": [
    "# # Замораживаем все параметры модели\n",
    "# for param in model.parameters():\n",
    "#     param.requires_grad = False\n",
    "\n",
    "# # Размораживаем параметры последнего слоя\n",
    "# for param in model.classifier.parameters():\n",
    "#     param.requires_grad = True\n"
   ]
  },
  {
   "cell_type": "code",
   "execution_count": 22,
   "id": "462bd2df",
   "metadata": {
    "execution": {
     "iopub.execute_input": "2024-05-30T12:18:45.508178Z",
     "iopub.status.busy": "2024-05-30T12:18:45.507322Z",
     "iopub.status.idle": "2024-05-30T12:18:45.511848Z",
     "shell.execute_reply": "2024-05-30T12:18:45.510950Z"
    },
    "papermill": {
     "duration": 0.017587,
     "end_time": "2024-05-30T12:18:45.513802",
     "exception": false,
     "start_time": "2024-05-30T12:18:45.496215",
     "status": "completed"
    },
    "tags": []
   },
   "outputs": [],
   "source": [
    "from sklearn.metrics import accuracy_score, recall_score, f1_score\n",
    "import matplotlib.pyplot as plt\n",
    "# from torch.nn import CrossEntropyLoss"
   ]
  },
  {
   "cell_type": "code",
   "execution_count": 23,
   "id": "e0fff488",
   "metadata": {
    "execution": {
     "iopub.execute_input": "2024-05-30T12:18:45.535791Z",
     "iopub.status.busy": "2024-05-30T12:18:45.535518Z",
     "iopub.status.idle": "2024-05-30T12:23:08.334808Z",
     "shell.execute_reply": "2024-05-30T12:23:08.333703Z"
    },
    "papermill": {
     "duration": 262.813081,
     "end_time": "2024-05-30T12:23:08.337393",
     "exception": false,
     "start_time": "2024-05-30T12:18:45.524312",
     "status": "completed"
    },
    "tags": []
   },
   "outputs": [
    {
     "name": "stderr",
     "output_type": "stream",
     "text": [
      "Epoch 1: 100%|██████████| 235/235 [00:24<00:00,  9.77it/s]\n"
     ]
    },
    {
     "name": "stdout",
     "output_type": "stream",
     "text": [
      "Epoch: 1, Train Loss: 0.4772\n"
     ]
    },
    {
     "name": "stderr",
     "output_type": "stream",
     "text": [
      "Validation Epoch 1: 100%|██████████| 62/62 [00:02<00:00, 23.97it/s]\n"
     ]
    },
    {
     "name": "stdout",
     "output_type": "stream",
     "text": [
      "Average validation loss:  0.26850269605676014\n",
      "Validation loss decreased (inf --> 0.268503).  Saving model ...\n"
     ]
    },
    {
     "name": "stderr",
     "output_type": "stream",
     "text": [
      "Epoch 2: 100%|██████████| 235/235 [00:23<00:00, 10.11it/s]\n"
     ]
    },
    {
     "name": "stdout",
     "output_type": "stream",
     "text": [
      "Epoch: 2, Train Loss: 0.1026\n"
     ]
    },
    {
     "name": "stderr",
     "output_type": "stream",
     "text": [
      "Validation Epoch 2: 100%|██████████| 62/62 [00:02<00:00, 23.73it/s]\n"
     ]
    },
    {
     "name": "stdout",
     "output_type": "stream",
     "text": [
      "Average validation loss:  0.20146008242943114\n",
      "Validation loss decreased (0.268503 --> 0.201460).  Saving model ...\n"
     ]
    },
    {
     "name": "stderr",
     "output_type": "stream",
     "text": [
      "Epoch 3: 100%|██████████| 235/235 [00:23<00:00, 10.11it/s]\n"
     ]
    },
    {
     "name": "stdout",
     "output_type": "stream",
     "text": [
      "Epoch: 3, Train Loss: 0.0600\n"
     ]
    },
    {
     "name": "stderr",
     "output_type": "stream",
     "text": [
      "Validation Epoch 3: 100%|██████████| 62/62 [00:02<00:00, 23.78it/s]\n"
     ]
    },
    {
     "name": "stdout",
     "output_type": "stream",
     "text": [
      "Average validation loss:  0.17690342726306088\n",
      "Validation loss decreased (0.201460 --> 0.176903).  Saving model ...\n"
     ]
    },
    {
     "name": "stderr",
     "output_type": "stream",
     "text": [
      "Epoch 4: 100%|██████████| 235/235 [00:23<00:00, 10.10it/s]\n"
     ]
    },
    {
     "name": "stdout",
     "output_type": "stream",
     "text": [
      "Epoch: 4, Train Loss: 0.0378\n"
     ]
    },
    {
     "name": "stderr",
     "output_type": "stream",
     "text": [
      "Validation Epoch 4: 100%|██████████| 62/62 [00:02<00:00, 23.66it/s]\n"
     ]
    },
    {
     "name": "stdout",
     "output_type": "stream",
     "text": [
      "Average validation loss:  0.1659570733055232\n",
      "Validation loss decreased (0.176903 --> 0.165957).  Saving model ...\n"
     ]
    },
    {
     "name": "stderr",
     "output_type": "stream",
     "text": [
      "Epoch 5: 100%|██████████| 235/235 [00:23<00:00, 10.10it/s]\n"
     ]
    },
    {
     "name": "stdout",
     "output_type": "stream",
     "text": [
      "Epoch: 5, Train Loss: 0.0403\n"
     ]
    },
    {
     "name": "stderr",
     "output_type": "stream",
     "text": [
      "Validation Epoch 5: 100%|██████████| 62/62 [00:02<00:00, 24.00it/s]\n"
     ]
    },
    {
     "name": "stdout",
     "output_type": "stream",
     "text": [
      "Average validation loss:  0.12903550077387463\n",
      "Validation loss decreased (0.165957 --> 0.129036).  Saving model ...\n"
     ]
    },
    {
     "name": "stderr",
     "output_type": "stream",
     "text": [
      "Epoch 6: 100%|██████████| 235/235 [00:23<00:00, 10.11it/s]\n"
     ]
    },
    {
     "name": "stdout",
     "output_type": "stream",
     "text": [
      "Epoch: 6, Train Loss: 0.0366\n"
     ]
    },
    {
     "name": "stderr",
     "output_type": "stream",
     "text": [
      "Validation Epoch 6: 100%|██████████| 62/62 [00:02<00:00, 24.19it/s]\n"
     ]
    },
    {
     "name": "stdout",
     "output_type": "stream",
     "text": [
      "Average validation loss:  0.13090457242440373\n",
      "EarlyStopping counter: 1 out of 5\n"
     ]
    },
    {
     "name": "stderr",
     "output_type": "stream",
     "text": [
      "Epoch 7: 100%|██████████| 235/235 [00:23<00:00, 10.12it/s]\n"
     ]
    },
    {
     "name": "stdout",
     "output_type": "stream",
     "text": [
      "Epoch: 7, Train Loss: 0.0305\n"
     ]
    },
    {
     "name": "stderr",
     "output_type": "stream",
     "text": [
      "Validation Epoch 7: 100%|██████████| 62/62 [00:02<00:00, 23.87it/s]\n"
     ]
    },
    {
     "name": "stdout",
     "output_type": "stream",
     "text": [
      "Average validation loss:  0.13493360553853093\n",
      "EarlyStopping counter: 2 out of 5\n"
     ]
    },
    {
     "name": "stderr",
     "output_type": "stream",
     "text": [
      "Epoch 8: 100%|██████████| 235/235 [00:23<00:00, 10.11it/s]\n"
     ]
    },
    {
     "name": "stdout",
     "output_type": "stream",
     "text": [
      "Epoch: 8, Train Loss: 0.0218\n"
     ]
    },
    {
     "name": "stderr",
     "output_type": "stream",
     "text": [
      "Validation Epoch 8: 100%|██████████| 62/62 [00:02<00:00, 23.82it/s]\n"
     ]
    },
    {
     "name": "stdout",
     "output_type": "stream",
     "text": [
      "Average validation loss:  0.150399599196164\n",
      "EarlyStopping counter: 3 out of 5\n"
     ]
    },
    {
     "name": "stderr",
     "output_type": "stream",
     "text": [
      "Epoch 9: 100%|██████████| 235/235 [00:23<00:00, 10.12it/s]\n"
     ]
    },
    {
     "name": "stdout",
     "output_type": "stream",
     "text": [
      "Epoch: 9, Train Loss: 0.0210\n"
     ]
    },
    {
     "name": "stderr",
     "output_type": "stream",
     "text": [
      "Validation Epoch 9: 100%|██████████| 62/62 [00:02<00:00, 24.02it/s]\n"
     ]
    },
    {
     "name": "stdout",
     "output_type": "stream",
     "text": [
      "Average validation loss:  0.14922401594606438\n",
      "EarlyStopping counter: 4 out of 5\n"
     ]
    },
    {
     "name": "stderr",
     "output_type": "stream",
     "text": [
      "Epoch 10: 100%|██████████| 235/235 [00:23<00:00, 10.12it/s]\n"
     ]
    },
    {
     "name": "stdout",
     "output_type": "stream",
     "text": [
      "Epoch: 10, Train Loss: 0.0161\n"
     ]
    },
    {
     "name": "stderr",
     "output_type": "stream",
     "text": [
      "Validation Epoch 10: 100%|██████████| 62/62 [00:02<00:00, 23.61it/s]\n"
     ]
    },
    {
     "name": "stdout",
     "output_type": "stream",
     "text": [
      "Average validation loss:  0.14804033920893656\n",
      "EarlyStopping counter: 5 out of 5\n",
      "Early stopping\n"
     ]
    },
    {
     "data": {
      "image/png": "[encoded data removed]",
      "text/plain": [
       "<Figure size 1500x800 with 1 Axes>"
      ]
     },
     "metadata": {},
     "output_type": "display_data"
    }
   ],
   "source": [
    "# Количество эпох\n",
    "epochs = 20\n",
    "\n",
    "# Списки для хранения значений потерь и метрик на каждой эпохе\n",
    "loss_values = []\n",
    "val_loss_values = []  # список для потерь валидации\n",
    "acc_values = []\n",
    "rec_values = []\n",
    "f1_values = []\n",
    "\n",
    "\n",
    "for epoch in range(epochs):\n",
    "    model.train()\n",
    "    total_loss = 0\n",
    "\n",
    "    for batch in tqdm(train_data_loader, desc=f\"Epoch {epoch+1}\"):\n",
    "        optimizer.zero_grad()\n",
    "        input_ids = batch[\"input_ids\"].to(device)\n",
    "        attention_mask = batch[\"attention_mask\"].to(device)\n",
    "        labels = batch[\"labels\"].to(device)\n",
    "\n",
    "        # Вызов модели без аргумента labels\n",
    "        outputs = model(input_ids=input_ids, attention_mask=attention_mask)\n",
    "        \n",
    "        # Вычисление потерь\n",
    "        loss_fct = CrossEntropyLoss()\n",
    "        loss = loss_fct(outputs.view(-1, len(unique_intents)), labels.view(-1))\n",
    "        \n",
    "        total_loss += loss.item()\n",
    "        loss.backward()\n",
    "        optimizer.step()\n",
    "\n",
    "    avg_train_loss = total_loss / len(train_data_loader)\n",
    "    loss_values.append(avg_train_loss)\n",
    "\n",
    "    print(f\"Epoch: {epoch+1}, Train Loss: {avg_train_loss:.4f}\")\n",
    "\n",
    "    model.eval()\n",
    "    val_loss = 0\n",
    "    predictions , true_labels = [], []\n",
    "\n",
    "    for batch in tqdm(test_data_loader, desc=f\"Validation Epoch {epoch+1}\"):\n",
    "        with torch.no_grad():\n",
    "            input_ids = batch[\"input_ids\"].to(device)\n",
    "            attention_mask = batch[\"attention_mask\"].to(device)\n",
    "            labels = batch[\"labels\"].to(device)\n",
    "\n",
    "            # Вызов модели без аргумента labels\n",
    "            outputs = model(input_ids=input_ids, attention_mask=attention_mask)\n",
    "            \n",
    "            # Вычисление потерь\n",
    "            loss = loss_fct(outputs.view(-1, len(unique_intents)), labels.view(-1))\n",
    "            \n",
    "            val_loss += loss.item()\n",
    "\n",
    "            logits = outputs.detach().cpu().numpy()\n",
    "            label_ids = labels.to('cpu').numpy()\n",
    "            \n",
    "            predictions.extend(np.argmax(logits, axis=1).flatten())\n",
    "            true_labels.extend(label_ids.flatten())\n",
    "\n",
    "    \n",
    "    avg_val_loss = val_loss / len(test_data_loader)\n",
    "    val_loss_values.append(avg_val_loss)  # сохраняем потери валидации\n",
    "    print('Average validation loss: ', avg_val_loss)\n",
    "\n",
    "    early_stopping(avg_val_loss, model)\n",
    "\n",
    "    if early_stopping.early_stop:\n",
    "        print(\"Early stopping\")\n",
    "        break\n",
    "\n",
    "# Построение графиков потерь и метрик\n",
    "plt.figure(figsize=(15,8))\n",
    "plt.title(\"Training and Validation Metrics\")\n",
    "plt.xlabel(\"Epoch\")\n",
    "plt.ylabel(\"Metric Value\")\n",
    "\n",
    "plt.plot(loss_values, label='Train Loss')\n",
    "plt.plot(val_loss_values, label='Validation Loss')  # добавляем потери валидации на график\n",
    "plt.legend()\n",
    "plt.show()\n"
   ]
  },
  {
   "cell_type": "code",
   "execution_count": 24,
   "id": "3497d99e",
   "metadata": {
    "execution": {
     "iopub.execute_input": "2024-05-30T12:23:08.615277Z",
     "iopub.status.busy": "2024-05-30T12:23:08.614313Z",
     "iopub.status.idle": "2024-05-30T12:23:08.621516Z",
     "shell.execute_reply": "2024-05-30T12:23:08.620390Z"
    },
    "papermill": {
     "duration": 0.149355,
     "end_time": "2024-05-30T12:23:08.623627",
     "exception": false,
     "start_time": "2024-05-30T12:23:08.474272",
     "status": "completed"
    },
    "tags": []
   },
   "outputs": [],
   "source": [
    "# new\n",
    "# from transformers import BertForSequenceClassification\n",
    "# import matplotlib.pyplot as plt\n",
    "\n",
    "# # tokenizer = AutoTokenizer.from_pretrained(\"cointegrated/rubert-tiny2\")\n",
    "# # model = BertForSequenceClassification.from_pretrained(\"cointegrated/rubert-tiny2\")\n",
    "\n",
    "# # Количество эпох\n",
    "# epochs = 50\n",
    "\n",
    "# # Список для хранения значений потерь на каждой эпохе\n",
    "# loss_values = []\n",
    "\n",
    "# for epoch in range(epochs):\n",
    "#     model.train()\n",
    "#     total_loss = 0\n",
    "\n",
    "#     for batch in tqdm(train_data_loader, desc=f\"Epoch {epoch+1}\"):\n",
    "#         optimizer.zero_grad()\n",
    "#         input_ids = batch[\"input_ids\"].to(device)\n",
    "#         attention_mask = batch[\"attention_mask\"].to(device)\n",
    "#         labels = batch[\"labels\"].to(device)\n",
    "\n",
    "#         # Вызов модели без аргумента labels\n",
    "#         outputs = model(input_ids=input_ids, attention_mask=attention_mask)\n",
    "        \n",
    "#         # Вычисление потерь\n",
    "#         loss_fct = CrossEntropyLoss()\n",
    "#         loss = loss_fct(outputs.view(-1, len(unique_intents)), labels.view(-1))\n",
    "        \n",
    "#         total_loss += loss.item()\n",
    "#         loss.backward()\n",
    "#         optimizer.step()\n",
    "\n",
    "#     avg_train_loss = total_loss / len(train_data_loader)\n",
    "#     loss_values.append(avg_train_loss)\n",
    "\n",
    "#     print(f\"Epoch: {epoch+1}, Train Loss: {avg_train_loss:.4f}\")\n",
    "\n",
    "#     model.eval()\n",
    "#     val_loss = 0\n",
    "#     predictions , true_labels = [], []\n",
    "\n",
    "#     for batch in tqdm(test_data_loader, desc=f\"Validation Epoch {epoch+1}\"):\n",
    "#         with torch.no_grad():\n",
    "#             input_ids = batch[\"input_ids\"].to(device)\n",
    "#             attention_mask = batch[\"attention_mask\"].to(device)\n",
    "#             labels = batch[\"labels\"].to(device)\n",
    "\n",
    "#             # Вызов модели без аргумента labels\n",
    "#             outputs = model(input_ids=input_ids, attention_mask=attention_mask)\n",
    "            \n",
    "#             # Вычисление потерь\n",
    "#             loss = loss_fct(outputs.view(-1, len(unique_intents)), labels.view(-1))\n",
    "            \n",
    "#             val_loss += loss.item()\n",
    "\n",
    "#     avg_val_loss = val_loss / len(test_data_loader)\n",
    "#     print('Average validation loss: ', avg_val_loss)\n",
    "\n",
    "#     early_stopping(avg_val_loss, model)\n",
    "\n",
    "#     if early_stopping.early_stop:\n",
    "#         print(\"Early stopping\")\n",
    "#         break\n",
    "\n",
    "# # Построение графика потерь\n",
    "# plt.figure(figsize=(15,8))\n",
    "# plt.title(\"Training loss\")\n",
    "# plt.xlabel(\"Batch\")\n",
    "# plt.ylabel(\"Loss\")\n",
    "# plt.plot(loss_values)\n",
    "# plt.show()"
   ]
  },
  {
   "cell_type": "code",
   "execution_count": 25,
   "id": "c4efd5ff",
   "metadata": {
    "execution": {
     "iopub.execute_input": "2024-05-30T12:23:08.898093Z",
     "iopub.status.busy": "2024-05-30T12:23:08.897716Z",
     "iopub.status.idle": "2024-05-30T12:23:08.904244Z",
     "shell.execute_reply": "2024-05-30T12:23:08.903297Z"
    },
    "papermill": {
     "duration": 0.146986,
     "end_time": "2024-05-30T12:23:08.906389",
     "exception": false,
     "start_time": "2024-05-30T12:23:08.759403",
     "status": "completed"
    },
    "tags": []
   },
   "outputs": [],
   "source": [
    "# old working\n",
    "\n",
    "# # Обучение модели\n",
    "# for epoch in range(50):\n",
    "#     model.train()\n",
    "#     total_loss = 0\n",
    "#     progress_bar = tqdm(train_data_loader, desc='Epoch {:1d}'.format(epoch), leave=False, disable=False)\n",
    "#     for batch in progress_bar:\n",
    "#         input_ids = batch[\"input_ids\"].to(device)\n",
    "#         attention_mask = batch[\"attention_mask\"].to(device)\n",
    "#         labels = batch[\"labels\"].to(device)\n",
    "\n",
    "#         # Вызов модели\n",
    "#         outputs = model(input_ids=input_ids, attention_mask=attention_mask)\n",
    "        \n",
    "#         # Вычисление потерь\n",
    "#         loss_fct = CrossEntropyLoss()\n",
    "#         loss = loss_fct(outputs.view(-1, len(unique_intents)), labels.view(-1))\n",
    "        \n",
    "#         total_loss += loss.item()\n",
    "\n",
    "#         loss.backward()\n",
    "#         optimizer.step()\n",
    "#         optimizer.zero_grad()\n",
    "\n",
    "#         # Обновление шкалы выполнения\n",
    "#         progress_bar.set_postfix({'training_loss': '{:.3f}'.format(loss.item()/len(batch))})\n",
    "\n",
    "#     # Расчет среднего значения потерь за эпоху\n",
    "#     avg_train_loss = total_loss / len(train_data_loader)\n",
    "#     print('Average training loss: ', avg_train_loss)\n",
    "\n",
    "#     # Валидация на независимом наборе данных\n",
    "#     model.eval()\n",
    "#     val_loss = 0\n",
    "#     with torch.no_grad():\n",
    "#         for batch in test_data_loader:\n",
    "#             input_ids = batch[\"input_ids\"].to(device)\n",
    "#             attention_mask = batch[\"attention_mask\"].to(device)\n",
    "#             labels = batch[\"labels\"].to(device)\n",
    "\n",
    "#             # Вызов модели\n",
    "#             outputs = model(input_ids=input_ids, attention_mask=attention_mask)\n",
    "            \n",
    "#             # Вычисление потерь\n",
    "#             loss = loss_fct(outputs.view(-1, len(unique_intents)), labels.view(-1))\n",
    "            \n",
    "#             val_loss += loss.item()\n",
    "\n",
    "#     avg_val_loss = val_loss / len(test_data_loader)\n",
    "#     print('Average validation loss: ', avg_val_loss)\n",
    "\n",
    "#     early_stopping(avg_val_loss, model)\n",
    "\n",
    "#     if early_stopping.early_stop:\n",
    "#         print(\"Early stopping\")\n",
    "#         break"
   ]
  },
  {
   "cell_type": "code",
   "execution_count": 26,
   "id": "3b4f0a97",
   "metadata": {
    "execution": {
     "iopub.execute_input": "2024-05-30T12:23:09.179642Z",
     "iopub.status.busy": "2024-05-30T12:23:09.178961Z",
     "iopub.status.idle": "2024-05-30T12:23:10.983428Z",
     "shell.execute_reply": "2024-05-30T12:23:10.982101Z"
    },
    "papermill": {
     "duration": 1.943265,
     "end_time": "2024-05-30T12:23:10.986138",
     "exception": false,
     "start_time": "2024-05-30T12:23:09.042873",
     "status": "completed"
    },
    "tags": []
   },
   "outputs": [
    {
     "name": "stdout",
     "output_type": "stream",
     "text": [
      "Time for testing: 1.7691 seconds\n",
      "Average time per response: 0.001805 seconds\n",
      "0.8556934472159057\n",
      "(0.9769024167296818, 0.9755102040816327, 0.9752974535616294, None)\n"
     ]
    },
    {
     "name": "stderr",
     "output_type": "stream",
     "text": [
      "/opt/conda/lib/python3.10/site-packages/sklearn/metrics/_classification.py:1344: UndefinedMetricWarning: Precision and F-score are ill-defined and being set to 0.0 in labels with no predicted samples. Use `zero_division` parameter to control this behavior.\n",
      "  _warn_prf(average, modifier, msg_start, len(result))\n"
     ]
    }
   ],
   "source": [
    "# Предсказание на тестовых данных\n",
    "model.eval()\n",
    "predictions = []\n",
    "start_test = timeit.default_timer()\n",
    "with torch.no_grad():\n",
    "    for batch in test_data_loader:\n",
    "        input_ids = batch[\"input_ids\"].to(device)\n",
    "        attention_mask = batch[\"attention_mask\"].to(device)\n",
    "\n",
    "        outputs = model(input_ids=input_ids, attention_mask=attention_mask)\n",
    "        _, preds = torch.max(outputs, dim=1)\n",
    "\n",
    "        predictions.extend(preds)\n",
    "end_test = timeit.default_timer()\n",
    "\n",
    "predicted_labels = [pred.item() for pred in predictions]\n",
    "\n",
    "# Общее количество предсказанных ответов\n",
    "num_predictions = len(predictions)\n",
    "\n",
    "# Среднее время на один ответ\n",
    "average_time_per_response = (end_test - start_test) / num_predictions\n",
    "\n",
    "print(f'Time for testing: {end_test - start_test:.4f} seconds')\n",
    "print(f'Average time per response: {average_time_per_response:.6f} seconds')\n",
    "print(balanced_accuracy_score(test_labels, predicted_labels))\n",
    "print(precision_recall_fscore_support(test_labels, predicted_labels, average='weighted'))"
   ]
  },
  {
   "cell_type": "code",
   "execution_count": 27,
   "id": "3bde17d0",
   "metadata": {
    "execution": {
     "iopub.execute_input": "2024-05-30T12:23:11.261248Z",
     "iopub.status.busy": "2024-05-30T12:23:11.260814Z",
     "iopub.status.idle": "2024-05-30T12:23:11.270901Z",
     "shell.execute_reply": "2024-05-30T12:23:11.269935Z"
    },
    "papermill": {
     "duration": 0.150797,
     "end_time": "2024-05-30T12:23:11.273211",
     "exception": false,
     "start_time": "2024-05-30T12:23:11.122414",
     "status": "completed"
    },
    "tags": []
   },
   "outputs": [
    {
     "name": "stdout",
     "output_type": "stream",
     "text": [
      "Confusion Matrix: \n",
      "[[ 79   1   0   0   0   0   0   0   0   0   4   0   0   0   0   0   0   0\n",
      "    0   0   0   0]\n",
      " [  0 710   1   0   1   3   0   0   0   0   1   0   0   0   0   0   0   0\n",
      "    0   0   0   0]\n",
      " [  0   0  27   0   0   0   0   0   0   0   0   0   0   0   0   0   0   0\n",
      "    0   0   0   0]\n",
      " [  0   0   0  10   0   0   0   0   0   0   0   0   0   0   0   0   0   0\n",
      "    0   0   0   0]\n",
      " [  0   2   0   0  13   0   0   0   0   0   0   0   0   1   0   0   0   0\n",
      "    0   0   0   0]\n",
      " [  0   0   0   0   0  32   0   0   0   0   0   0   0   0   0   0   0   0\n",
      "    0   0   0   0]\n",
      " [  0   0   0   0   0   0   3   1   0   0   0   0   0   0   0   0   0   0\n",
      "    0   0   0   0]\n",
      " [  0   2   0   0   0   0   1  47   0   0   0   0   0   1   0   0   0   0\n",
      "    0   0   0   0]\n",
      " [  0   0   0   0   0   0   0   0   4   0   0   0   0   0   0   0   0   0\n",
      "    0   0   0   0]\n",
      " [  0   0   0   0   0   0   0   0   0   2   0   0   0   0   0   0   0   0\n",
      "    0   0   0   0]\n",
      " [  0   0   0   0   0   0   0   0   0   0   4   0   0   0   0   0   0   0\n",
      "    0   0   0   0]\n",
      " [  0   0   0   0   0   0   0   0   0   0   0   2   0   0   0   0   0   0\n",
      "    0   0   0   0]\n",
      " [  0   0   0   0   0   0   0   0   0   0   0   0   3   0   0   0   0   0\n",
      "    0   0   0   0]\n",
      " [  0   1   0   0   0   0   0   0   0   0   0   0   0  10   0   0   0   0\n",
      "    0   0   0   0]\n",
      " [  0   1   0   0   0   0   0   0   0   0   0   0   0   0   3   0   0   0\n",
      "    0   0   0   0]\n",
      " [  0   0   0   0   0   0   0   0   0   0   0   0   0   0   0   1   0   0\n",
      "    0   0   0   0]\n",
      " [  0   0   0   0   0   0   0   0   0   0   0   0   0   1   0   0   3   0\n",
      "    0   0   0   0]\n",
      " [  0   1   0   0   0   0   0   0   0   0   0   0   0   0   0   0   0   0\n",
      "    0   0   0   0]\n",
      " [  0   0   0   0   0   0   0   0   0   0   0   0   0   0   0   0   0   0\n",
      "    1   0   0   0]\n",
      " [  0   0   0   0   0   0   0   0   0   0   0   0   0   0   0   0   0   0\n",
      "    0   1   0   0]\n",
      " [  0   0   0   0   0   0   0   0   0   0   0   0   0   0   0   0   0   0\n",
      "    0   0   1   0]\n",
      " [  0   1   0   0   0   0   0   0   0   0   0   0   0   0   0   0   0   0\n",
      "    0   0   0   0]]\n"
     ]
    }
   ],
   "source": [
    "# Построение confusion matrix\n",
    "cm = confusion_matrix(test_labels, predicted_labels)\n",
    "print(f'Confusion Matrix: \\n{cm}')"
   ]
  },
  {
   "cell_type": "code",
   "execution_count": 28,
   "id": "eed70d41",
   "metadata": {
    "execution": {
     "iopub.execute_input": "2024-05-30T12:23:11.544005Z",
     "iopub.status.busy": "2024-05-30T12:23:11.543658Z",
     "iopub.status.idle": "2024-05-30T12:23:11.548302Z",
     "shell.execute_reply": "2024-05-30T12:23:11.547386Z"
    },
    "papermill": {
     "duration": 0.144405,
     "end_time": "2024-05-30T12:23:11.550365",
     "exception": false,
     "start_time": "2024-05-30T12:23:11.405960",
     "status": "completed"
    },
    "tags": []
   },
   "outputs": [],
   "source": [
    "from sklearn.metrics import confusion_matrix\n",
    "import seaborn as sns\n",
    "import matplotlib.pyplot as plt"
   ]
  },
  {
   "cell_type": "code",
   "execution_count": 29,
   "id": "31b197b4",
   "metadata": {
    "execution": {
     "iopub.execute_input": "2024-05-30T12:23:11.820958Z",
     "iopub.status.busy": "2024-05-30T12:23:11.820175Z",
     "iopub.status.idle": "2024-05-30T12:23:13.474888Z",
     "shell.execute_reply": "2024-05-30T12:23:13.473870Z"
    },
    "papermill": {
     "duration": 1.792262,
     "end_time": "2024-05-30T12:23:13.477478",
     "exception": false,
     "start_time": "2024-05-30T12:23:11.685216",
     "status": "completed"
    },
    "tags": []
   },
   "outputs": [
    {
     "data": {
      "image/png": "[encoded data removed]",
      "text/plain": [
       "<Figure size 800x600 with 2 Axes>"
      ]
     },
     "metadata": {},
     "output_type": "display_data"
    }
   ],
   "source": [
    "# Визуализация матрицы ошибок с использованием seaborn\n",
    "plt.figure(figsize=(8, 6))\n",
    "sns.heatmap(cm, annot=True, fmt='d', cmap='Blues', xticklabels=set(test_labels), yticklabels=set(predicted_labels))\n",
    "plt.xlabel('Предсказанный класс')\n",
    "plt.ylabel('Истинный класс')\n",
    "plt.title('Матрица ошибок')\n",
    "plt.show()\n"
   ]
  }
 ],
 "metadata": {
  "kaggle": {
   "accelerator": "gpu",
   "dataSources": [
    {
     "datasetId": 4878620,
     "sourceId": 8227443,
     "sourceType": "datasetVersion"
    },
    {
     "datasetId": 284285,
     "sourceId": 585165,
     "sourceType": "datasetVersion"
    }
   ],
   "dockerImageVersionId": 30699,
   "isGpuEnabled": true,
   "isInternetEnabled": true,
   "language": "python",
   "sourceType": "notebook"
  },
  "kernelspec": {
   "display_name": "Python 3",
   "language": "python",
   "name": "python3"
  },
  "language_info": {
   "codemirror_mode": {
    "name": "ipython",
    "version": 3
   },
   "file_extension": ".py",
   "mimetype": "text/x-python",
   "name": "python",
   "nbconvert_exporter": "python",
   "pygments_lexer": "ipython3",
   "version": "3.10.13"
  },
  "papermill": {
   "default_parameters": {},
   "duration": 287.507716,
   "end_time": "2024-05-30T12:23:15.544048",
   "environment_variables": {},
   "exception": null,
   "input_path": "__notebook__.ipynb",
   "output_path": "__notebook__.ipynb",
   "parameters": {},
   "start_time": "2024-05-30T12:18:28.036332",
   "version": "2.5.0"
  },
  "widgets": {
   "application/vnd.jupyter.widget-state+json": {
    "state": {
     "0675fef0ebca4bceaa1c4f13f829dddd": {
      "model_module": "@jupyter-widgets/controls",
      "model_module_version": "1.5.0",
      "model_name": "HTMLModel",
      "state": {
       "_dom_classes": [],
       "_model_module": "@jupyter-widgets/controls",
       "_model_module_version": "1.5.0",
       "_model_name": "HTMLModel",
       "_view_count": null,
       "_view_module": "@jupyter-widgets/controls",
       "_view_module_version": "1.5.0",
       "_view_name": "HTMLView",
       "description": "",
       "description_tooltip": null,
       "layout": "IPY_MODEL_cece8104c8e0451fb486d7c81d7d4900",
       "placeholder": "​",
       "style": "IPY_MODEL_22c0bf7182124de1b7ccafa0ea52f8dc",
       "value": "vocab.txt: 100%"
      }
     },
     "0b6ae118784e4343b072790a10e0ff58": {
      "model_module": "@jupyter-widgets/controls",
      "model_module_version": "1.5.0",
      "model_name": "ProgressStyleModel",
      "state": {
       "_model_module": "@jupyter-widgets/controls",
       "_model_module_version": "1.5.0",
       "_model_name": "ProgressStyleModel",
       "_view_count": null,
       "_view_module": "@jupyter-widgets/base",
       "_view_module_version": "1.2.0",
       "_view_name": "StyleView",
       "bar_color": null,
       "description_width": ""
      }
     },
     "136f4db60a414c79bb741ade1526cdb1": {
      "model_module": "@jupyter-widgets/controls",
      "model_module_version": "1.5.0",
      "model_name": "FloatProgressModel",
      "state": {
       "_dom_classes": [],
       "_model_module": "@jupyter-widgets/controls",
       "_model_module_version": "1.5.0",
       "_model_name": "FloatProgressModel",
       "_view_count": null,
       "_view_module": "@jupyter-widgets/controls",
       "_view_module_version": "1.5.0",
       "_view_name": "ProgressView",
       "bar_style": "success",
       "description": "",
       "description_tooltip": null,
       "layout": "IPY_MODEL_34bf66dc6952491691a9b38717b7b7e8",
       "max": 466062.0,
       "min": 0.0,
       "orientation": "horizontal",
       "style": "IPY_MODEL_fe0284fdf83044d5b36c4b811bebda28",
       "value": 466062.0
      }
     },
     "13c818e947a0493691ce4c2a97069919": {
      "model_module": "@jupyter-widgets/base",
      "model_module_version": "1.2.0",
      "model_name": "LayoutModel",
      "state": {
       "_model_module": "@jupyter-widgets/base",
       "_model_module_version": "1.2.0",
       "_model_name": "LayoutModel",
       "_view_count": null,
       "_view_module": "@jupyter-widgets/base",
       "_view_module_version": "1.2.0",
       "_view_name": "LayoutView",
       "align_content": null,
       "align_items": null,
       "align_self": null,
       "border": null,
       "bottom": null,
       "display": null,
       "flex": null,
       "flex_flow": null,
       "grid_area": null,
       "grid_auto_columns": null,
       "grid_auto_flow": null,
       "grid_auto_rows": null,
       "grid_column": null,
       "grid_gap": null,
       "grid_row": null,
       "grid_template_areas": null,
       "grid_template_columns": null,
       "grid_template_rows": null,
       "height": null,
       "justify_content": null,
       "justify_items": null,
       "left": null,
       "margin": null,
       "max_height": null,
       "max_width": null,
       "min_height": null,
       "min_width": null,
       "object_fit": null,
       "object_position": null,
       "order": null,
       "overflow": null,
       "overflow_x": null,
       "overflow_y": null,
       "padding": null,
       "right": null,
       "top": null,
       "visibility": null,
       "width": null
      }
     },
     "15128a59c9bd4641a5df35456286ed0c": {
      "model_module": "@jupyter-widgets/base",
      "model_module_version": "1.2.0",
      "model_name": "LayoutModel",
      "state": {
       "_model_module": "@jupyter-widgets/base",
       "_model_module_version": "1.2.0",
       "_model_name": "LayoutModel",
       "_view_count": null,
       "_view_module": "@jupyter-widgets/base",
       "_view_module_version": "1.2.0",
       "_view_name": "LayoutView",
       "align_content": null,
       "align_items": null,
       "align_self": null,
       "border": null,
       "bottom": null,
       "display": null,
       "flex": null,
       "flex_flow": null,
       "grid_area": null,
       "grid_auto_columns": null,
       "grid_auto_flow": null,
       "grid_auto_rows": null,
       "grid_column": null,
       "grid_gap": null,
       "grid_row": null,
       "grid_template_areas": null,
       "grid_template_columns": null,
       "grid_template_rows": null,
       "height": null,
       "justify_content": null,
       "justify_items": null,
       "left": null,
       "margin": null,
       "max_height": null,
       "max_width": null,
       "min_height": null,
       "min_width": null,
       "object_fit": null,
       "object_position": null,
       "order": null,
       "overflow": null,
       "overflow_x": null,
       "overflow_y": null,
       "padding": null,
       "right": null,
       "top": null,
       "visibility": null,
       "width": null
      }
     },
     "22c0bf7182124de1b7ccafa0ea52f8dc": {
      "model_module": "@jupyter-widgets/controls",
      "model_module_version": "1.5.0",
      "model_name": "DescriptionStyleModel",
      "state": {
       "_model_module": "@jupyter-widgets/controls",
       "_model_module_version": "1.5.0",
       "_model_name": "DescriptionStyleModel",
       "_view_count": null,
       "_view_module": "@jupyter-widgets/base",
       "_view_module_version": "1.2.0",
       "_view_name": "StyleView",
       "description_width": ""
      }
     },
     "239adeebaa3c49d99e0fb91783bb24af": {
      "model_module": "@jupyter-widgets/controls",
      "model_module_version": "1.5.0",
      "model_name": "HBoxModel",
      "state": {
       "_dom_classes": [],
       "_model_module": "@jupyter-widgets/controls",
       "_model_module_version": "1.5.0",
       "_model_name": "HBoxModel",
       "_view_count": null,
       "_view_module": "@jupyter-widgets/controls",
       "_view_module_version": "1.5.0",
       "_view_name": "HBoxView",
       "box_style": "",
       "children": [
        "IPY_MODEL_0675fef0ebca4bceaa1c4f13f829dddd",
        "IPY_MODEL_928d66653e014c669186d7050b2d9068",
        "IPY_MODEL_c1166b7e1dd342eb80c9662487059e60"
       ],
       "layout": "IPY_MODEL_bed58a39d1ae455782f16fc80c6170aa"
      }
     },
     "280ebb0ef4614d0fae8cfc3b2f537bff": {
      "model_module": "@jupyter-widgets/controls",
      "model_module_version": "1.5.0",
      "model_name": "DescriptionStyleModel",
      "state": {
       "_model_module": "@jupyter-widgets/controls",
       "_model_module_version": "1.5.0",
       "_model_name": "DescriptionStyleModel",
       "_view_count": null,
       "_view_module": "@jupyter-widgets/base",
       "_view_module_version": "1.2.0",
       "_view_name": "StyleView",
       "description_width": ""
      }
     },
     "28148d6a56814fb4be7ca7606f41c766": {
      "model_module": "@jupyter-widgets/controls",
      "model_module_version": "1.5.0",
      "model_name": "DescriptionStyleModel",
      "state": {
       "_model_module": "@jupyter-widgets/controls",
       "_model_module_version": "1.5.0",
       "_model_name": "DescriptionStyleModel",
       "_view_count": null,
       "_view_module": "@jupyter-widgets/base",
       "_view_module_version": "1.2.0",
       "_view_name": "StyleView",
       "description_width": ""
      }
     },
     "34bf66dc6952491691a9b38717b7b7e8": {
      "model_module": "@jupyter-widgets/base",
      "model_module_version": "1.2.0",
      "model_name": "LayoutModel",
      "state": {
       "_model_module": "@jupyter-widgets/base",
       "_model_module_version": "1.2.0",
       "_model_name": "LayoutModel",
       "_view_count": null,
       "_view_module": "@jupyter-widgets/base",
       "_view_module_version": "1.2.0",
       "_view_name": "LayoutView",
       "align_content": null,
       "align_items": null,
       "align_self": null,
       "border": null,
       "bottom": null,
       "display": null,
       "flex": null,
       "flex_flow": null,
       "grid_area": null,
       "grid_auto_columns": null,
       "grid_auto_flow": null,
       "grid_auto_rows": null,
       "grid_column": null,
       "grid_gap": null,
       "grid_row": null,
       "grid_template_areas": null,
       "grid_template_columns": null,
       "grid_template_rows": null,
       "height": null,
       "justify_content": null,
       "justify_items": null,
       "left": null,
       "margin": null,
       "max_height": null,
       "max_width": null,
       "min_height": null,
       "min_width": null,
       "object_fit": null,
       "object_position": null,
       "order": null,
       "overflow": null,
       "overflow_x": null,
       "overflow_y": null,
       "padding": null,
       "right": null,
       "top": null,
       "visibility": null,
       "width": null
      }
     },
     "3c6a08ccfd3d45658c0a98803beade18": {
      "model_module": "@jupyter-widgets/base",
      "model_module_version": "1.2.0",
      "model_name": "LayoutModel",
      "state": {
       "_model_module": "@jupyter-widgets/base",
       "_model_module_version": "1.2.0",
       "_model_name": "LayoutModel",
       "_view_count": null,
       "_view_module": "@jupyter-widgets/base",
       "_view_module_version": "1.2.0",
       "_view_name": "LayoutView",
       "align_content": null,
       "align_items": null,
       "align_self": null,
       "border": null,
       "bottom": null,
       "display": null,
       "flex": null,
       "flex_flow": null,
       "grid_area": null,
       "grid_auto_columns": null,
       "grid_auto_flow": null,
       "grid_auto_rows": null,
       "grid_column": null,
       "grid_gap": null,
       "grid_row": null,
       "grid_template_areas": null,
       "grid_template_columns": null,
       "grid_template_rows": null,
       "height": null,
       "justify_content": null,
       "justify_items": null,
       "left": null,
       "margin": null,
       "max_height": null,
       "max_width": null,
       "min_height": null,
       "min_width": null,
       "object_fit": null,
       "object_position": null,
       "order": null,
       "overflow": null,
       "overflow_x": null,
       "overflow_y": null,
       "padding": null,
       "right": null,
       "top": null,
       "visibility": null,
       "width": null
      }
     },
     "3f010312b36e47aa929bf7f37995c90a": {
      "model_module": "@jupyter-widgets/base",
      "model_module_version": "1.2.0",
      "model_name": "LayoutModel",
      "state": {
       "_model_module": "@jupyter-widgets/base",
       "_model_module_version": "1.2.0",
       "_model_name": "LayoutModel",
       "_view_count": null,
       "_view_module": "@jupyter-widgets/base",
       "_view_module_version": "1.2.0",
       "_view_name": "LayoutView",
       "align_content": null,
       "align_items": null,
       "align_self": null,
       "border": null,
       "bottom": null,
       "display": null,
       "flex": null,
       "flex_flow": null,
       "grid_area": null,
       "grid_auto_columns": null,
       "grid_auto_flow": null,
       "grid_auto_rows": null,
       "grid_column": null,
       "grid_gap": null,
       "grid_row": null,
       "grid_template_areas": null,
       "grid_template_columns": null,
       "grid_template_rows": null,
       "height": null,
       "justify_content": null,
       "justify_items": null,
       "left": null,
       "margin": null,
       "max_height": null,
       "max_width": null,
       "min_height": null,
       "min_width": null,
       "object_fit": null,
       "object_position": null,
       "order": null,
       "overflow": null,
       "overflow_x": null,
       "overflow_y": null,
       "padding": null,
       "right": null,
       "top": null,
       "visibility": null,
       "width": null
      }
     },
     "43e48f23488741e4ad19f3f380d3c772": {
      "model_module": "@jupyter-widgets/controls",
      "model_module_version": "1.5.0",
      "model_name": "HTMLModel",
      "state": {
       "_dom_classes": [],
       "_model_module": "@jupyter-widgets/controls",
       "_model_module_version": "1.5.0",
       "_model_name": "HTMLModel",
       "_view_count": null,
       "_view_module": "@jupyter-widgets/controls",
       "_view_module_version": "1.5.0",
       "_view_name": "HTMLView",
       "description": "",
       "description_tooltip": null,
       "layout": "IPY_MODEL_9d522ce6ba4f47abb4e28902679ec983",
       "placeholder": "​",
       "style": "IPY_MODEL_d341c2d8aca34e82860d02fff4db902f",
       "value": "model.safetensors: 100%"
      }
     },
     "46728dae11ef4b5da5e210b15d65b757": {
      "model_module": "@jupyter-widgets/controls",
      "model_module_version": "1.5.0",
      "model_name": "HBoxModel",
      "state": {
       "_dom_classes": [],
       "_model_module": "@jupyter-widgets/controls",
       "_model_module_version": "1.5.0",
       "_model_name": "HBoxModel",
       "_view_count": null,
       "_view_module": "@jupyter-widgets/controls",
       "_view_module_version": "1.5.0",
       "_view_name": "HBoxView",
       "box_style": "",
       "children": [
        "IPY_MODEL_d03b69e3d4b245bfbf0dc84ca768f16f",
        "IPY_MODEL_9fc031c118384da7b1e0c4daba0956d4",
        "IPY_MODEL_c104c24fa9f84c709968dbb116c51511"
       ],
       "layout": "IPY_MODEL_3f010312b36e47aa929bf7f37995c90a"
      }
     },
     "489f48e9d2af442b95c54ba0ceb8079b": {
      "model_module": "@jupyter-widgets/base",
      "model_module_version": "1.2.0",
      "model_name": "LayoutModel",
      "state": {
       "_model_module": "@jupyter-widgets/base",
       "_model_module_version": "1.2.0",
       "_model_name": "LayoutModel",
       "_view_count": null,
       "_view_module": "@jupyter-widgets/base",
       "_view_module_version": "1.2.0",
       "_view_name": "LayoutView",
       "align_content": null,
       "align_items": null,
       "align_self": null,
       "border": null,
       "bottom": null,
       "display": null,
       "flex": null,
       "flex_flow": null,
       "grid_area": null,
       "grid_auto_columns": null,
       "grid_auto_flow": null,
       "grid_auto_rows": null,
       "grid_column": null,
       "grid_gap": null,
       "grid_row": null,
       "grid_template_areas": null,
       "grid_template_columns": null,
       "grid_template_rows": null,
       "height": null,
       "justify_content": null,
       "justify_items": null,
       "left": null,
       "margin": null,
       "max_height": null,
       "max_width": null,
       "min_height": null,
       "min_width": null,
       "object_fit": null,
       "object_position": null,
       "order": null,
       "overflow": null,
       "overflow_x": null,
       "overflow_y": null,
       "padding": null,
       "right": null,
       "top": null,
       "visibility": null,
       "width": null
      }
     },
     "50084a926ccb4d59a93b26c5782631ab": {
      "model_module": "@jupyter-widgets/controls",
      "model_module_version": "1.5.0",
      "model_name": "HTMLModel",
      "state": {
       "_dom_classes": [],
       "_model_module": "@jupyter-widgets/controls",
       "_model_module_version": "1.5.0",
       "_model_name": "HTMLModel",
       "_view_count": null,
       "_view_module": "@jupyter-widgets/controls",
       "_view_module_version": "1.5.0",
       "_view_name": "HTMLView",
       "description": "",
       "description_tooltip": null,
       "layout": "IPY_MODEL_dbf0fb4352f04fb2a6827fbaae234727",
       "placeholder": "​",
       "style": "IPY_MODEL_921b40feb4c044a4b09cc551f3f40245",
       "value": "tokenizer.json: 100%"
      }
     },
     "525d947d73324ed1933ff82df7f42dab": {
      "model_module": "@jupyter-widgets/base",
      "model_module_version": "1.2.0",
      "model_name": "LayoutModel",
      "state": {
       "_model_module": "@jupyter-widgets/base",
       "_model_module_version": "1.2.0",
       "_model_name": "LayoutModel",
       "_view_count": null,
       "_view_module": "@jupyter-widgets/base",
       "_view_module_version": "1.2.0",
       "_view_name": "LayoutView",
       "align_content": null,
       "align_items": null,
       "align_self": null,
       "border": null,
       "bottom": null,
       "display": null,
       "flex": null,
       "flex_flow": null,
       "grid_area": null,
       "grid_auto_columns": null,
       "grid_auto_flow": null,
       "grid_auto_rows": null,
       "grid_column": null,
       "grid_gap": null,
       "grid_row": null,
       "grid_template_areas": null,
       "grid_template_columns": null,
       "grid_template_rows": null,
       "height": null,
       "justify_content": null,
       "justify_items": null,
       "left": null,
       "margin": null,
       "max_height": null,
       "max_width": null,
       "min_height": null,
       "min_width": null,
       "object_fit": null,
       "object_position": null,
       "order": null,
       "overflow": null,
       "overflow_x": null,
       "overflow_y": null,
       "padding": null,
       "right": null,
       "top": null,
       "visibility": null,
       "width": null
      }
     },
     "5f699da05cac43bfb5e9044811660ab6": {
      "model_module": "@jupyter-widgets/controls",
      "model_module_version": "1.5.0",
      "model_name": "ProgressStyleModel",
      "state": {
       "_model_module": "@jupyter-widgets/controls",
       "_model_module_version": "1.5.0",
       "_model_name": "ProgressStyleModel",
       "_view_count": null,
       "_view_module": "@jupyter-widgets/base",
       "_view_module_version": "1.2.0",
       "_view_name": "StyleView",
       "bar_color": null,
       "description_width": ""
      }
     },
     "6132177c93494b5c8b8d531c183af887": {
      "model_module": "@jupyter-widgets/controls",
      "model_module_version": "1.5.0",
      "model_name": "HTMLModel",
      "state": {
       "_dom_classes": [],
       "_model_module": "@jupyter-widgets/controls",
       "_model_module_version": "1.5.0",
       "_model_name": "HTMLModel",
       "_view_count": null,
       "_view_module": "@jupyter-widgets/controls",
       "_view_module_version": "1.5.0",
       "_view_name": "HTMLView",
       "description": "",
       "description_tooltip": null,
       "layout": "IPY_MODEL_cc1d8d37d8824ba3a29c4b49a50991f2",
       "placeholder": "​",
       "style": "IPY_MODEL_acc5d3e4f27c4eceb070725effdf7add",
       "value": " 483/483 [00:00&lt;00:00, 37.4kB/s]"
      }
     },
     "7118950d42684188a0b7cc5c7ae3f768": {
      "model_module": "@jupyter-widgets/controls",
      "model_module_version": "1.5.0",
      "model_name": "ProgressStyleModel",
      "state": {
       "_model_module": "@jupyter-widgets/controls",
       "_model_module_version": "1.5.0",
       "_model_name": "ProgressStyleModel",
       "_view_count": null,
       "_view_module": "@jupyter-widgets/base",
       "_view_module_version": "1.2.0",
       "_view_name": "StyleView",
       "bar_color": null,
       "description_width": ""
      }
     },
     "78032dedd6d6412ab4123bb1893877e7": {
      "model_module": "@jupyter-widgets/controls",
      "model_module_version": "1.5.0",
      "model_name": "DescriptionStyleModel",
      "state": {
       "_model_module": "@jupyter-widgets/controls",
       "_model_module_version": "1.5.0",
       "_model_name": "DescriptionStyleModel",
       "_view_count": null,
       "_view_module": "@jupyter-widgets/base",
       "_view_module_version": "1.2.0",
       "_view_name": "StyleView",
       "description_width": ""
      }
     },
     "799c97337db549f7a31b03986166ae12": {
      "model_module": "@jupyter-widgets/controls",
      "model_module_version": "1.5.0",
      "model_name": "FloatProgressModel",
      "state": {
       "_dom_classes": [],
       "_model_module": "@jupyter-widgets/controls",
       "_model_module_version": "1.5.0",
       "_model_name": "FloatProgressModel",
       "_view_count": null,
       "_view_module": "@jupyter-widgets/controls",
       "_view_module_version": "1.5.0",
       "_view_name": "ProgressView",
       "bar_style": "success",
       "description": "",
       "description_tooltip": null,
       "layout": "IPY_MODEL_15128a59c9bd4641a5df35456286ed0c",
       "max": 483.0,
       "min": 0.0,
       "orientation": "horizontal",
       "style": "IPY_MODEL_5f699da05cac43bfb5e9044811660ab6",
       "value": 483.0
      }
     },
     "921b40feb4c044a4b09cc551f3f40245": {
      "model_module": "@jupyter-widgets/controls",
      "model_module_version": "1.5.0",
      "model_name": "DescriptionStyleModel",
      "state": {
       "_model_module": "@jupyter-widgets/controls",
       "_model_module_version": "1.5.0",
       "_model_name": "DescriptionStyleModel",
       "_view_count": null,
       "_view_module": "@jupyter-widgets/base",
       "_view_module_version": "1.2.0",
       "_view_name": "StyleView",
       "description_width": ""
      }
     },
     "928d66653e014c669186d7050b2d9068": {
      "model_module": "@jupyter-widgets/controls",
      "model_module_version": "1.5.0",
      "model_name": "FloatProgressModel",
      "state": {
       "_dom_classes": [],
       "_model_module": "@jupyter-widgets/controls",
       "_model_module_version": "1.5.0",
       "_model_name": "FloatProgressModel",
       "_view_count": null,
       "_view_module": "@jupyter-widgets/controls",
       "_view_module_version": "1.5.0",
       "_view_name": "ProgressView",
       "bar_style": "success",
       "description": "",
       "description_tooltip": null,
       "layout": "IPY_MODEL_b671f6c918db479b81ca81b9f0a7bd04",
       "max": 231508.0,
       "min": 0.0,
       "orientation": "horizontal",
       "style": "IPY_MODEL_0b6ae118784e4343b072790a10e0ff58",
       "value": 231508.0
      }
     },
     "941580f11fa34b52b5ea505cc4d014c8": {
      "model_module": "@jupyter-widgets/controls",
      "model_module_version": "1.5.0",
      "model_name": "ProgressStyleModel",
      "state": {
       "_model_module": "@jupyter-widgets/controls",
       "_model_module_version": "1.5.0",
       "_model_name": "ProgressStyleModel",
       "_view_count": null,
       "_view_module": "@jupyter-widgets/base",
       "_view_module_version": "1.2.0",
       "_view_name": "StyleView",
       "bar_color": null,
       "description_width": ""
      }
     },
     "95cadbc47ceb418587a9a80f29fae271": {
      "model_module": "@jupyter-widgets/controls",
      "model_module_version": "1.5.0",
      "model_name": "DescriptionStyleModel",
      "state": {
       "_model_module": "@jupyter-widgets/controls",
       "_model_module_version": "1.5.0",
       "_model_name": "DescriptionStyleModel",
       "_view_count": null,
       "_view_module": "@jupyter-widgets/base",
       "_view_module_version": "1.2.0",
       "_view_name": "StyleView",
       "description_width": ""
      }
     },
     "9c8eb4af035b4f9ba6d753d908755877": {
      "model_module": "@jupyter-widgets/controls",
      "model_module_version": "1.5.0",
      "model_name": "HTMLModel",
      "state": {
       "_dom_classes": [],
       "_model_module": "@jupyter-widgets/controls",
       "_model_module_version": "1.5.0",
       "_model_name": "HTMLModel",
       "_view_count": null,
       "_view_module": "@jupyter-widgets/controls",
       "_view_module_version": "1.5.0",
       "_view_name": "HTMLView",
       "description": "",
       "description_tooltip": null,
       "layout": "IPY_MODEL_489f48e9d2af442b95c54ba0ceb8079b",
       "placeholder": "​",
       "style": "IPY_MODEL_28148d6a56814fb4be7ca7606f41c766",
       "value": " 466k/466k [00:00&lt;00:00, 6.29MB/s]"
      }
     },
     "9d522ce6ba4f47abb4e28902679ec983": {
      "model_module": "@jupyter-widgets/base",
      "model_module_version": "1.2.0",
      "model_name": "LayoutModel",
      "state": {
       "_model_module": "@jupyter-widgets/base",
       "_model_module_version": "1.2.0",
       "_model_name": "LayoutModel",
       "_view_count": null,
       "_view_module": "@jupyter-widgets/base",
       "_view_module_version": "1.2.0",
       "_view_name": "LayoutView",
       "align_content": null,
       "align_items": null,
       "align_self": null,
       "border": null,
       "bottom": null,
       "display": null,
       "flex": null,
       "flex_flow": null,
       "grid_area": null,
       "grid_auto_columns": null,
       "grid_auto_flow": null,
       "grid_auto_rows": null,
       "grid_column": null,
       "grid_gap": null,
       "grid_row": null,
       "grid_template_areas": null,
       "grid_template_columns": null,
       "grid_template_rows": null,
       "height": null,
       "justify_content": null,
       "justify_items": null,
       "left": null,
       "margin": null,
       "max_height": null,
       "max_width": null,
       "min_height": null,
       "min_width": null,
       "object_fit": null,
       "object_position": null,
       "order": null,
       "overflow": null,
       "overflow_x": null,
       "overflow_y": null,
       "padding": null,
       "right": null,
       "top": null,
       "visibility": null,
       "width": null
      }
     },
     "9d9c9cdb62fe44bd8b272a4e7fd6ddab": {
      "model_module": "@jupyter-widgets/controls",
      "model_module_version": "1.5.0",
      "model_name": "DescriptionStyleModel",
      "state": {
       "_model_module": "@jupyter-widgets/controls",
       "_model_module_version": "1.5.0",
       "_model_name": "DescriptionStyleModel",
       "_view_count": null,
       "_view_module": "@jupyter-widgets/base",
       "_view_module_version": "1.2.0",
       "_view_name": "StyleView",
       "description_width": ""
      }
     },
     "9fc031c118384da7b1e0c4daba0956d4": {
      "model_module": "@jupyter-widgets/controls",
      "model_module_version": "1.5.0",
      "model_name": "FloatProgressModel",
      "state": {
       "_dom_classes": [],
       "_model_module": "@jupyter-widgets/controls",
       "_model_module_version": "1.5.0",
       "_model_name": "FloatProgressModel",
       "_view_count": null,
       "_view_module": "@jupyter-widgets/controls",
       "_view_module_version": "1.5.0",
       "_view_name": "ProgressView",
       "bar_style": "success",
       "description": "",
       "description_tooltip": null,
       "layout": "IPY_MODEL_13c818e947a0493691ce4c2a97069919",
       "max": 48.0,
       "min": 0.0,
       "orientation": "horizontal",
       "style": "IPY_MODEL_7118950d42684188a0b7cc5c7ae3f768",
       "value": 48.0
      }
     },
     "acc5d3e4f27c4eceb070725effdf7add": {
      "model_module": "@jupyter-widgets/controls",
      "model_module_version": "1.5.0",
      "model_name": "DescriptionStyleModel",
      "state": {
       "_model_module": "@jupyter-widgets/controls",
       "_model_module_version": "1.5.0",
       "_model_name": "DescriptionStyleModel",
       "_view_count": null,
       "_view_module": "@jupyter-widgets/base",
       "_view_module_version": "1.2.0",
       "_view_name": "StyleView",
       "description_width": ""
      }
     },
     "af2929baef7c428593e4b33632b3d18e": {
      "model_module": "@jupyter-widgets/base",
      "model_module_version": "1.2.0",
      "model_name": "LayoutModel",
      "state": {
       "_model_module": "@jupyter-widgets/base",
       "_model_module_version": "1.2.0",
       "_model_name": "LayoutModel",
       "_view_count": null,
       "_view_module": "@jupyter-widgets/base",
       "_view_module_version": "1.2.0",
       "_view_name": "LayoutView",
       "align_content": null,
       "align_items": null,
       "align_self": null,
       "border": null,
       "bottom": null,
       "display": null,
       "flex": null,
       "flex_flow": null,
       "grid_area": null,
       "grid_auto_columns": null,
       "grid_auto_flow": null,
       "grid_auto_rows": null,
       "grid_column": null,
       "grid_gap": null,
       "grid_row": null,
       "grid_template_areas": null,
       "grid_template_columns": null,
       "grid_template_rows": null,
       "height": null,
       "justify_content": null,
       "justify_items": null,
       "left": null,
       "margin": null,
       "max_height": null,
       "max_width": null,
       "min_height": null,
       "min_width": null,
       "object_fit": null,
       "object_position": null,
       "order": null,
       "overflow": null,
       "overflow_x": null,
       "overflow_y": null,
       "padding": null,
       "right": null,
       "top": null,
       "visibility": null,
       "width": null
      }
     },
     "b0cb0f7545d2447d999f9493277faef5": {
      "model_module": "@jupyter-widgets/controls",
      "model_module_version": "1.5.0",
      "model_name": "FloatProgressModel",
      "state": {
       "_dom_classes": [],
       "_model_module": "@jupyter-widgets/controls",
       "_model_module_version": "1.5.0",
       "_model_name": "FloatProgressModel",
       "_view_count": null,
       "_view_module": "@jupyter-widgets/controls",
       "_view_module_version": "1.5.0",
       "_view_name": "ProgressView",
       "bar_style": "success",
       "description": "",
       "description_tooltip": null,
       "layout": "IPY_MODEL_c15885a01f044d7496acc7bfcd8631d5",
       "max": 267954768.0,
       "min": 0.0,
       "orientation": "horizontal",
       "style": "IPY_MODEL_941580f11fa34b52b5ea505cc4d014c8",
       "value": 267954768.0
      }
     },
     "b4dd9389532244f8a97c464f020a1e76": {
      "model_module": "@jupyter-widgets/controls",
      "model_module_version": "1.5.0",
      "model_name": "HTMLModel",
      "state": {
       "_dom_classes": [],
       "_model_module": "@jupyter-widgets/controls",
       "_model_module_version": "1.5.0",
       "_model_name": "HTMLModel",
       "_view_count": null,
       "_view_module": "@jupyter-widgets/controls",
       "_view_module_version": "1.5.0",
       "_view_name": "HTMLView",
       "description": "",
       "description_tooltip": null,
       "layout": "IPY_MODEL_ecbe77b066754baeb7a11288b3559991",
       "placeholder": "​",
       "style": "IPY_MODEL_95cadbc47ceb418587a9a80f29fae271",
       "value": " 268M/268M [00:01&lt;00:00, 204MB/s]"
      }
     },
     "b671f6c918db479b81ca81b9f0a7bd04": {
      "model_module": "@jupyter-widgets/base",
      "model_module_version": "1.2.0",
      "model_name": "LayoutModel",
      "state": {
       "_model_module": "@jupyter-widgets/base",
       "_model_module_version": "1.2.0",
       "_model_name": "LayoutModel",
       "_view_count": null,
       "_view_module": "@jupyter-widgets/base",
       "_view_module_version": "1.2.0",
       "_view_name": "LayoutView",
       "align_content": null,
       "align_items": null,
       "align_self": null,
       "border": null,
       "bottom": null,
       "display": null,
       "flex": null,
       "flex_flow": null,
       "grid_area": null,
       "grid_auto_columns": null,
       "grid_auto_flow": null,
       "grid_auto_rows": null,
       "grid_column": null,
       "grid_gap": null,
       "grid_row": null,
       "grid_template_areas": null,
       "grid_template_columns": null,
       "grid_template_rows": null,
       "height": null,
       "justify_content": null,
       "justify_items": null,
       "left": null,
       "margin": null,
       "max_height": null,
       "max_width": null,
       "min_height": null,
       "min_width": null,
       "object_fit": null,
       "object_position": null,
       "order": null,
       "overflow": null,
       "overflow_x": null,
       "overflow_y": null,
       "padding": null,
       "right": null,
       "top": null,
       "visibility": null,
       "width": null
      }
     },
     "bba37abce2514a25a358e039ba647342": {
      "model_module": "@jupyter-widgets/base",
      "model_module_version": "1.2.0",
      "model_name": "LayoutModel",
      "state": {
       "_model_module": "@jupyter-widgets/base",
       "_model_module_version": "1.2.0",
       "_model_name": "LayoutModel",
       "_view_count": null,
       "_view_module": "@jupyter-widgets/base",
       "_view_module_version": "1.2.0",
       "_view_name": "LayoutView",
       "align_content": null,
       "align_items": null,
       "align_self": null,
       "border": null,
       "bottom": null,
       "display": null,
       "flex": null,
       "flex_flow": null,
       "grid_area": null,
       "grid_auto_columns": null,
       "grid_auto_flow": null,
       "grid_auto_rows": null,
       "grid_column": null,
       "grid_gap": null,
       "grid_row": null,
       "grid_template_areas": null,
       "grid_template_columns": null,
       "grid_template_rows": null,
       "height": null,
       "justify_content": null,
       "justify_items": null,
       "left": null,
       "margin": null,
       "max_height": null,
       "max_width": null,
       "min_height": null,
       "min_width": null,
       "object_fit": null,
       "object_position": null,
       "order": null,
       "overflow": null,
       "overflow_x": null,
       "overflow_y": null,
       "padding": null,
       "right": null,
       "top": null,
       "visibility": null,
       "width": null
      }
     },
     "be283f540d944187b5e450dfd34858ea": {
      "model_module": "@jupyter-widgets/base",
      "model_module_version": "1.2.0",
      "model_name": "LayoutModel",
      "state": {
       "_model_module": "@jupyter-widgets/base",
       "_model_module_version": "1.2.0",
       "_model_name": "LayoutModel",
       "_view_count": null,
       "_view_module": "@jupyter-widgets/base",
       "_view_module_version": "1.2.0",
       "_view_name": "LayoutView",
       "align_content": null,
       "align_items": null,
       "align_self": null,
       "border": null,
       "bottom": null,
       "display": null,
       "flex": null,
       "flex_flow": null,
       "grid_area": null,
       "grid_auto_columns": null,
       "grid_auto_flow": null,
       "grid_auto_rows": null,
       "grid_column": null,
       "grid_gap": null,
       "grid_row": null,
       "grid_template_areas": null,
       "grid_template_columns": null,
       "grid_template_rows": null,
       "height": null,
       "justify_content": null,
       "justify_items": null,
       "left": null,
       "margin": null,
       "max_height": null,
       "max_width": null,
       "min_height": null,
       "min_width": null,
       "object_fit": null,
       "object_position": null,
       "order": null,
       "overflow": null,
       "overflow_x": null,
       "overflow_y": null,
       "padding": null,
       "right": null,
       "top": null,
       "visibility": null,
       "width": null
      }
     },
     "bed58a39d1ae455782f16fc80c6170aa": {
      "model_module": "@jupyter-widgets/base",
      "model_module_version": "1.2.0",
      "model_name": "LayoutModel",
      "state": {
       "_model_module": "@jupyter-widgets/base",
       "_model_module_version": "1.2.0",
       "_model_name": "LayoutModel",
       "_view_count": null,
       "_view_module": "@jupyter-widgets/base",
       "_view_module_version": "1.2.0",
       "_view_name": "LayoutView",
       "align_content": null,
       "align_items": null,
       "align_self": null,
       "border": null,
       "bottom": null,
       "display": null,
       "flex": null,
       "flex_flow": null,
       "grid_area": null,
       "grid_auto_columns": null,
       "grid_auto_flow": null,
       "grid_auto_rows": null,
       "grid_column": null,
       "grid_gap": null,
       "grid_row": null,
       "grid_template_areas": null,
       "grid_template_columns": null,
       "grid_template_rows": null,
       "height": null,
       "justify_content": null,
       "justify_items": null,
       "left": null,
       "margin": null,
       "max_height": null,
       "max_width": null,
       "min_height": null,
       "min_width": null,
       "object_fit": null,
       "object_position": null,
       "order": null,
       "overflow": null,
       "overflow_x": null,
       "overflow_y": null,
       "padding": null,
       "right": null,
       "top": null,
       "visibility": null,
       "width": null
      }
     },
     "c104c24fa9f84c709968dbb116c51511": {
      "model_module": "@jupyter-widgets/controls",
      "model_module_version": "1.5.0",
      "model_name": "HTMLModel",
      "state": {
       "_dom_classes": [],
       "_model_module": "@jupyter-widgets/controls",
       "_model_module_version": "1.5.0",
       "_model_name": "HTMLModel",
       "_view_count": null,
       "_view_module": "@jupyter-widgets/controls",
       "_view_module_version": "1.5.0",
       "_view_name": "HTMLView",
       "description": "",
       "description_tooltip": null,
       "layout": "IPY_MODEL_af2929baef7c428593e4b33632b3d18e",
       "placeholder": "​",
       "style": "IPY_MODEL_e1b4fafbc4df47dc88343df584324b29",
       "value": " 48.0/48.0 [00:00&lt;00:00, 3.69kB/s]"
      }
     },
     "c1166b7e1dd342eb80c9662487059e60": {
      "model_module": "@jupyter-widgets/controls",
      "model_module_version": "1.5.0",
      "model_name": "HTMLModel",
      "state": {
       "_dom_classes": [],
       "_model_module": "@jupyter-widgets/controls",
       "_model_module_version": "1.5.0",
       "_model_name": "HTMLModel",
       "_view_count": null,
       "_view_module": "@jupyter-widgets/controls",
       "_view_module_version": "1.5.0",
       "_view_name": "HTMLView",
       "description": "",
       "description_tooltip": null,
       "layout": "IPY_MODEL_3c6a08ccfd3d45658c0a98803beade18",
       "placeholder": "​",
       "style": "IPY_MODEL_280ebb0ef4614d0fae8cfc3b2f537bff",
       "value": " 232k/232k [00:00&lt;00:00, 2.86MB/s]"
      }
     },
     "c15885a01f044d7496acc7bfcd8631d5": {
      "model_module": "@jupyter-widgets/base",
      "model_module_version": "1.2.0",
      "model_name": "LayoutModel",
      "state": {
       "_model_module": "@jupyter-widgets/base",
       "_model_module_version": "1.2.0",
       "_model_name": "LayoutModel",
       "_view_count": null,
       "_view_module": "@jupyter-widgets/base",
       "_view_module_version": "1.2.0",
       "_view_name": "LayoutView",
       "align_content": null,
       "align_items": null,
       "align_self": null,
       "border": null,
       "bottom": null,
       "display": null,
       "flex": null,
       "flex_flow": null,
       "grid_area": null,
       "grid_auto_columns": null,
       "grid_auto_flow": null,
       "grid_auto_rows": null,
       "grid_column": null,
       "grid_gap": null,
       "grid_row": null,
       "grid_template_areas": null,
       "grid_template_columns": null,
       "grid_template_rows": null,
       "height": null,
       "justify_content": null,
       "justify_items": null,
       "left": null,
       "margin": null,
       "max_height": null,
       "max_width": null,
       "min_height": null,
       "min_width": null,
       "object_fit": null,
       "object_position": null,
       "order": null,
       "overflow": null,
       "overflow_x": null,
       "overflow_y": null,
       "padding": null,
       "right": null,
       "top": null,
       "visibility": null,
       "width": null
      }
     },
     "cc1d8d37d8824ba3a29c4b49a50991f2": {
      "model_module": "@jupyter-widgets/base",
      "model_module_version": "1.2.0",
      "model_name": "LayoutModel",
      "state": {
       "_model_module": "@jupyter-widgets/base",
       "_model_module_version": "1.2.0",
       "_model_name": "LayoutModel",
       "_view_count": null,
       "_view_module": "@jupyter-widgets/base",
       "_view_module_version": "1.2.0",
       "_view_name": "LayoutView",
       "align_content": null,
       "align_items": null,
       "align_self": null,
       "border": null,
       "bottom": null,
       "display": null,
       "flex": null,
       "flex_flow": null,
       "grid_area": null,
       "grid_auto_columns": null,
       "grid_auto_flow": null,
       "grid_auto_rows": null,
       "grid_column": null,
       "grid_gap": null,
       "grid_row": null,
       "grid_template_areas": null,
       "grid_template_columns": null,
       "grid_template_rows": null,
       "height": null,
       "justify_content": null,
       "justify_items": null,
       "left": null,
       "margin": null,
       "max_height": null,
       "max_width": null,
       "min_height": null,
       "min_width": null,
       "object_fit": null,
       "object_position": null,
       "order": null,
       "overflow": null,
       "overflow_x": null,
       "overflow_y": null,
       "padding": null,
       "right": null,
       "top": null,
       "visibility": null,
       "width": null
      }
     },
     "cece8104c8e0451fb486d7c81d7d4900": {
      "model_module": "@jupyter-widgets/base",
      "model_module_version": "1.2.0",
      "model_name": "LayoutModel",
      "state": {
       "_model_module": "@jupyter-widgets/base",
       "_model_module_version": "1.2.0",
       "_model_name": "LayoutModel",
       "_view_count": null,
       "_view_module": "@jupyter-widgets/base",
       "_view_module_version": "1.2.0",
       "_view_name": "LayoutView",
       "align_content": null,
       "align_items": null,
       "align_self": null,
       "border": null,
       "bottom": null,
       "display": null,
       "flex": null,
       "flex_flow": null,
       "grid_area": null,
       "grid_auto_columns": null,
       "grid_auto_flow": null,
       "grid_auto_rows": null,
       "grid_column": null,
       "grid_gap": null,
       "grid_row": null,
       "grid_template_areas": null,
       "grid_template_columns": null,
       "grid_template_rows": null,
       "height": null,
       "justify_content": null,
       "justify_items": null,
       "left": null,
       "margin": null,
       "max_height": null,
       "max_width": null,
       "min_height": null,
       "min_width": null,
       "object_fit": null,
       "object_position": null,
       "order": null,
       "overflow": null,
       "overflow_x": null,
       "overflow_y": null,
       "padding": null,
       "right": null,
       "top": null,
       "visibility": null,
       "width": null
      }
     },
     "d03b69e3d4b245bfbf0dc84ca768f16f": {
      "model_module": "@jupyter-widgets/controls",
      "model_module_version": "1.5.0",
      "model_name": "HTMLModel",
      "state": {
       "_dom_classes": [],
       "_model_module": "@jupyter-widgets/controls",
       "_model_module_version": "1.5.0",
       "_model_name": "HTMLModel",
       "_view_count": null,
       "_view_module": "@jupyter-widgets/controls",
       "_view_module_version": "1.5.0",
       "_view_name": "HTMLView",
       "description": "",
       "description_tooltip": null,
       "layout": "IPY_MODEL_d0f5cba6a1234db9bacc0fdebf969578",
       "placeholder": "​",
       "style": "IPY_MODEL_78032dedd6d6412ab4123bb1893877e7",
       "value": "tokenizer_config.json: 100%"
      }
     },
     "d0f5cba6a1234db9bacc0fdebf969578": {
      "model_module": "@jupyter-widgets/base",
      "model_module_version": "1.2.0",
      "model_name": "LayoutModel",
      "state": {
       "_model_module": "@jupyter-widgets/base",
       "_model_module_version": "1.2.0",
       "_model_name": "LayoutModel",
       "_view_count": null,
       "_view_module": "@jupyter-widgets/base",
       "_view_module_version": "1.2.0",
       "_view_name": "LayoutView",
       "align_content": null,
       "align_items": null,
       "align_self": null,
       "border": null,
       "bottom": null,
       "display": null,
       "flex": null,
       "flex_flow": null,
       "grid_area": null,
       "grid_auto_columns": null,
       "grid_auto_flow": null,
       "grid_auto_rows": null,
       "grid_column": null,
       "grid_gap": null,
       "grid_row": null,
       "grid_template_areas": null,
       "grid_template_columns": null,
       "grid_template_rows": null,
       "height": null,
       "justify_content": null,
       "justify_items": null,
       "left": null,
       "margin": null,
       "max_height": null,
       "max_width": null,
       "min_height": null,
       "min_width": null,
       "object_fit": null,
       "object_position": null,
       "order": null,
       "overflow": null,
       "overflow_x": null,
       "overflow_y": null,
       "padding": null,
       "right": null,
       "top": null,
       "visibility": null,
       "width": null
      }
     },
     "d14e8ad5959947fa8c3c9e24c4fb2647": {
      "model_module": "@jupyter-widgets/base",
      "model_module_version": "1.2.0",
      "model_name": "LayoutModel",
      "state": {
       "_model_module": "@jupyter-widgets/base",
       "_model_module_version": "1.2.0",
       "_model_name": "LayoutModel",
       "_view_count": null,
       "_view_module": "@jupyter-widgets/base",
       "_view_module_version": "1.2.0",
       "_view_name": "LayoutView",
       "align_content": null,
       "align_items": null,
       "align_self": null,
       "border": null,
       "bottom": null,
       "display": null,
       "flex": null,
       "flex_flow": null,
       "grid_area": null,
       "grid_auto_columns": null,
       "grid_auto_flow": null,
       "grid_auto_rows": null,
       "grid_column": null,
       "grid_gap": null,
       "grid_row": null,
       "grid_template_areas": null,
       "grid_template_columns": null,
       "grid_template_rows": null,
       "height": null,
       "justify_content": null,
       "justify_items": null,
       "left": null,
       "margin": null,
       "max_height": null,
       "max_width": null,
       "min_height": null,
       "min_width": null,
       "object_fit": null,
       "object_position": null,
       "order": null,
       "overflow": null,
       "overflow_x": null,
       "overflow_y": null,
       "padding": null,
       "right": null,
       "top": null,
       "visibility": null,
       "width": null
      }
     },
     "d341c2d8aca34e82860d02fff4db902f": {
      "model_module": "@jupyter-widgets/controls",
      "model_module_version": "1.5.0",
      "model_name": "DescriptionStyleModel",
      "state": {
       "_model_module": "@jupyter-widgets/controls",
       "_model_module_version": "1.5.0",
       "_model_name": "DescriptionStyleModel",
       "_view_count": null,
       "_view_module": "@jupyter-widgets/base",
       "_view_module_version": "1.2.0",
       "_view_name": "StyleView",
       "description_width": ""
      }
     },
     "d4305781ebb248d6a65a89928e4ff35f": {
      "model_module": "@jupyter-widgets/controls",
      "model_module_version": "1.5.0",
      "model_name": "HTMLModel",
      "state": {
       "_dom_classes": [],
       "_model_module": "@jupyter-widgets/controls",
       "_model_module_version": "1.5.0",
       "_model_name": "HTMLModel",
       "_view_count": null,
       "_view_module": "@jupyter-widgets/controls",
       "_view_module_version": "1.5.0",
       "_view_name": "HTMLView",
       "description": "",
       "description_tooltip": null,
       "layout": "IPY_MODEL_bba37abce2514a25a358e039ba647342",
       "placeholder": "​",
       "style": "IPY_MODEL_9d9c9cdb62fe44bd8b272a4e7fd6ddab",
       "value": "config.json: 100%"
      }
     },
     "d8db3e687ae14d2c9a2c7c5f69ae389e": {
      "model_module": "@jupyter-widgets/controls",
      "model_module_version": "1.5.0",
      "model_name": "HBoxModel",
      "state": {
       "_dom_classes": [],
       "_model_module": "@jupyter-widgets/controls",
       "_model_module_version": "1.5.0",
       "_model_name": "HBoxModel",
       "_view_count": null,
       "_view_module": "@jupyter-widgets/controls",
       "_view_module_version": "1.5.0",
       "_view_name": "HBoxView",
       "box_style": "",
       "children": [
        "IPY_MODEL_50084a926ccb4d59a93b26c5782631ab",
        "IPY_MODEL_136f4db60a414c79bb741ade1526cdb1",
        "IPY_MODEL_9c8eb4af035b4f9ba6d753d908755877"
       ],
       "layout": "IPY_MODEL_525d947d73324ed1933ff82df7f42dab"
      }
     },
     "dbf0fb4352f04fb2a6827fbaae234727": {
      "model_module": "@jupyter-widgets/base",
      "model_module_version": "1.2.0",
      "model_name": "LayoutModel",
      "state": {
       "_model_module": "@jupyter-widgets/base",
       "_model_module_version": "1.2.0",
       "_model_name": "LayoutModel",
       "_view_count": null,
       "_view_module": "@jupyter-widgets/base",
       "_view_module_version": "1.2.0",
       "_view_name": "LayoutView",
       "align_content": null,
       "align_items": null,
       "align_self": null,
       "border": null,
       "bottom": null,
       "display": null,
       "flex": null,
       "flex_flow": null,
       "grid_area": null,
       "grid_auto_columns": null,
       "grid_auto_flow": null,
       "grid_auto_rows": null,
       "grid_column": null,
       "grid_gap": null,
       "grid_row": null,
       "grid_template_areas": null,
       "grid_template_columns": null,
       "grid_template_rows": null,
       "height": null,
       "justify_content": null,
       "justify_items": null,
       "left": null,
       "margin": null,
       "max_height": null,
       "max_width": null,
       "min_height": null,
       "min_width": null,
       "object_fit": null,
       "object_position": null,
       "order": null,
       "overflow": null,
       "overflow_x": null,
       "overflow_y": null,
       "padding": null,
       "right": null,
       "top": null,
       "visibility": null,
       "width": null
      }
     },
     "e1b4fafbc4df47dc88343df584324b29": {
      "model_module": "@jupyter-widgets/controls",
      "model_module_version": "1.5.0",
      "model_name": "DescriptionStyleModel",
      "state": {
       "_model_module": "@jupyter-widgets/controls",
       "_model_module_version": "1.5.0",
       "_model_name": "DescriptionStyleModel",
       "_view_count": null,
       "_view_module": "@jupyter-widgets/base",
       "_view_module_version": "1.2.0",
       "_view_name": "StyleView",
       "description_width": ""
      }
     },
     "e9b2619c8d28401289d3de38bde47b0c": {
      "model_module": "@jupyter-widgets/controls",
      "model_module_version": "1.5.0",
      "model_name": "HBoxModel",
      "state": {
       "_dom_classes": [],
       "_model_module": "@jupyter-widgets/controls",
       "_model_module_version": "1.5.0",
       "_model_name": "HBoxModel",
       "_view_count": null,
       "_view_module": "@jupyter-widgets/controls",
       "_view_module_version": "1.5.0",
       "_view_name": "HBoxView",
       "box_style": "",
       "children": [
        "IPY_MODEL_43e48f23488741e4ad19f3f380d3c772",
        "IPY_MODEL_b0cb0f7545d2447d999f9493277faef5",
        "IPY_MODEL_b4dd9389532244f8a97c464f020a1e76"
       ],
       "layout": "IPY_MODEL_be283f540d944187b5e450dfd34858ea"
      }
     },
     "ecbe77b066754baeb7a11288b3559991": {
      "model_module": "@jupyter-widgets/base",
      "model_module_version": "1.2.0",
      "model_name": "LayoutModel",
      "state": {
       "_model_module": "@jupyter-widgets/base",
       "_model_module_version": "1.2.0",
       "_model_name": "LayoutModel",
       "_view_count": null,
       "_view_module": "@jupyter-widgets/base",
       "_view_module_version": "1.2.0",
       "_view_name": "LayoutView",
       "align_content": null,
       "align_items": null,
       "align_self": null,
       "border": null,
       "bottom": null,
       "display": null,
       "flex": null,
       "flex_flow": null,
       "grid_area": null,
       "grid_auto_columns": null,
       "grid_auto_flow": null,
       "grid_auto_rows": null,
       "grid_column": null,
       "grid_gap": null,
       "grid_row": null,
       "grid_template_areas": null,
       "grid_template_columns": null,
       "grid_template_rows": null,
       "height": null,
       "justify_content": null,
       "justify_items": null,
       "left": null,
       "margin": null,
       "max_height": null,
       "max_width": null,
       "min_height": null,
       "min_width": null,
       "object_fit": null,
       "object_position": null,
       "order": null,
       "overflow": null,
       "overflow_x": null,
       "overflow_y": null,
       "padding": null,
       "right": null,
       "top": null,
       "visibility": null,
       "width": null
      }
     },
     "ede4b47acc9b44519c86f15bde017433": {
      "model_module": "@jupyter-widgets/controls",
      "model_module_version": "1.5.0",
      "model_name": "HBoxModel",
      "state": {
       "_dom_classes": [],
       "_model_module": "@jupyter-widgets/controls",
       "_model_module_version": "1.5.0",
       "_model_name": "HBoxModel",
       "_view_count": null,
       "_view_module": "@jupyter-widgets/controls",
       "_view_module_version": "1.5.0",
       "_view_name": "HBoxView",
       "box_style": "",
       "children": [
        "IPY_MODEL_d4305781ebb248d6a65a89928e4ff35f",
        "IPY_MODEL_799c97337db549f7a31b03986166ae12",
        "IPY_MODEL_6132177c93494b5c8b8d531c183af887"
       ],
       "layout": "IPY_MODEL_d14e8ad5959947fa8c3c9e24c4fb2647"
      }
     },
     "fe0284fdf83044d5b36c4b811bebda28": {
      "model_module": "@jupyter-widgets/controls",
      "model_module_version": "1.5.0",
      "model_name": "ProgressStyleModel",
      "state": {
       "_model_module": "@jupyter-widgets/controls",
       "_model_module_version": "1.5.0",
       "_model_name": "ProgressStyleModel",
       "_view_count": null,
       "_view_module": "@jupyter-widgets/base",
       "_view_module_version": "1.2.0",
       "_view_name": "StyleView",
       "bar_color": null,
       "description_width": ""
      }
     }
    },
    "version_major": 2,
    "version_minor": 0
   }
  }
 },
 "nbformat": 4,
 "nbformat_minor": 5
}
