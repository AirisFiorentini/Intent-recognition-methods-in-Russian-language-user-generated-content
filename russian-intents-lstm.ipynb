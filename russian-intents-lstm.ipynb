{
 "cells": [
  {
   "cell_type": "code",
   "execution_count": 1,
   "id": "e63e8b78",
   "metadata": {
    "_cell_guid": "b1076dfc-b9ad-4769-8c92-a6c4dae69d19",
    "_uuid": "8f2839f25d086af736a60e9eeb907d3b93b6e0e5",
    "execution": {
     "iopub.execute_input": "2024-05-21T14:52:13.448400Z",
     "iopub.status.busy": "2024-05-21T14:52:13.447973Z",
     "iopub.status.idle": "2024-05-21T14:52:14.440143Z",
     "shell.execute_reply": "2024-05-21T14:52:14.437052Z"
    },
    "papermill": {
     "duration": 1.003493,
     "end_time": "2024-05-21T14:52:14.443122",
     "exception": false,
     "start_time": "2024-05-21T14:52:13.439629",
     "status": "completed"
    },
    "tags": []
   },
   "outputs": [
    {
     "name": "stdout",
     "output_type": "stream",
     "text": [
      "/kaggle/input/qa-intents-dataset-university-domain/dataset_test.tsv\n",
      "/kaggle/input/qa-intents-dataset-university-domain/labels_description.txt\n",
      "/kaggle/input/qa-intents-dataset-university-domain/dataset_train.tsv\n"
     ]
    }
   ],
   "source": [
    "import numpy as np # linear algebra\n",
    "import pandas as pd # data processing, CSV file I/O (e.g. pd.read_csv)\n",
    "\n",
    "import os\n",
    "for dirname, _, filenames in os.walk('/kaggle/input'):\n",
    "    for filename in filenames:\n",
    "        print(os.path.join(dirname, filename))"
   ]
  },
  {
   "cell_type": "code",
   "execution_count": 2,
   "id": "b8a60c29",
   "metadata": {
    "execution": {
     "iopub.execute_input": "2024-05-21T14:52:14.457533Z",
     "iopub.status.busy": "2024-05-21T14:52:14.456950Z",
     "iopub.status.idle": "2024-05-21T14:52:20.467887Z",
     "shell.execute_reply": "2024-05-21T14:52:20.466568Z"
    },
    "papermill": {
     "duration": 6.021403,
     "end_time": "2024-05-21T14:52:20.470837",
     "exception": false,
     "start_time": "2024-05-21T14:52:14.449434",
     "status": "completed"
    },
    "tags": []
   },
   "outputs": [],
   "source": [
    "import nltk\n",
    "from nltk.tokenize import word_tokenize\n",
    "from sklearn.feature_extraction.text import TfidfVectorizer\n",
    "from sklearn.preprocessing import LabelEncoder\n",
    "from torch.utils.data import Dataset, DataLoader\n",
    "import torch\n",
    "from torch import nn"
   ]
  },
  {
   "cell_type": "code",
   "execution_count": 3,
   "id": "8f8cdc58",
   "metadata": {
    "execution": {
     "iopub.execute_input": "2024-05-21T14:52:20.485147Z",
     "iopub.status.busy": "2024-05-21T14:52:20.484615Z",
     "iopub.status.idle": "2024-05-21T14:52:20.640768Z",
     "shell.execute_reply": "2024-05-21T14:52:20.639803Z"
    },
    "papermill": {
     "duration": 0.16564,
     "end_time": "2024-05-21T14:52:20.643044",
     "exception": false,
     "start_time": "2024-05-21T14:52:20.477404",
     "status": "completed"
    },
    "tags": []
   },
   "outputs": [
    {
     "name": "stdout",
     "output_type": "stream",
     "text": [
      "[nltk_data] Downloading package punkt to /usr/share/nltk_data...\n",
      "[nltk_data]   Package punkt is already up-to-date!\n"
     ]
    },
    {
     "data": {
      "text/plain": [
       "True"
      ]
     },
     "execution_count": 3,
     "metadata": {},
     "output_type": "execute_result"
    }
   ],
   "source": [
    "import nltk\n",
    "from nltk.tokenize import word_tokenize\n",
    "from torch.utils.data import Dataset \n",
    "from sklearn.feature_extraction.text import TfidfVectorizer\n",
    "\n",
    "nltk.download('punkt')"
   ]
  },
  {
   "cell_type": "code",
   "execution_count": 4,
   "id": "a7120b56",
   "metadata": {
    "execution": {
     "iopub.execute_input": "2024-05-21T14:52:20.658509Z",
     "iopub.status.busy": "2024-05-21T14:52:20.657325Z",
     "iopub.status.idle": "2024-05-21T14:52:20.663296Z",
     "shell.execute_reply": "2024-05-21T14:52:20.662094Z"
    },
    "papermill": {
     "duration": 0.016912,
     "end_time": "2024-05-21T14:52:20.666214",
     "exception": false,
     "start_time": "2024-05-21T14:52:20.649302",
     "status": "completed"
    },
    "tags": []
   },
   "outputs": [],
   "source": [
    "from sklearn.metrics import precision_recall_fscore_support, balanced_accuracy_score"
   ]
  },
  {
   "cell_type": "code",
   "execution_count": 5,
   "id": "13e54d65",
   "metadata": {
    "execution": {
     "iopub.execute_input": "2024-05-21T14:52:20.681340Z",
     "iopub.status.busy": "2024-05-21T14:52:20.680899Z",
     "iopub.status.idle": "2024-05-21T14:52:20.758720Z",
     "shell.execute_reply": "2024-05-21T14:52:20.757741Z"
    },
    "papermill": {
     "duration": 0.088657,
     "end_time": "2024-05-21T14:52:20.761302",
     "exception": false,
     "start_time": "2024-05-21T14:52:20.672645",
     "status": "completed"
    },
    "tags": []
   },
   "outputs": [
    {
     "data": {
      "text/html": [
       "<div>\n",
       "<style scoped>\n",
       "    .dataframe tbody tr th:only-of-type {\n",
       "        vertical-align: middle;\n",
       "    }\n",
       "\n",
       "    .dataframe tbody tr th {\n",
       "        vertical-align: top;\n",
       "    }\n",
       "\n",
       "    .dataframe thead th {\n",
       "        text-align: right;\n",
       "    }\n",
       "</style>\n",
       "<table border=\"1\" class=\"dataframe\">\n",
       "  <thead>\n",
       "    <tr style=\"text-align: right;\">\n",
       "      <th></th>\n",
       "      <th>text</th>\n",
       "      <th>intent</th>\n",
       "    </tr>\n",
       "  </thead>\n",
       "  <tbody>\n",
       "    <tr>\n",
       "      <th>0</th>\n",
       "      <td>мне нужна справка</td>\n",
       "      <td>statement_general</td>\n",
       "    </tr>\n",
       "    <tr>\n",
       "      <th>1</th>\n",
       "      <td>оформить справку</td>\n",
       "      <td>statement_general</td>\n",
       "    </tr>\n",
       "    <tr>\n",
       "      <th>2</th>\n",
       "      <td>взять справку</td>\n",
       "      <td>statement_general</td>\n",
       "    </tr>\n",
       "    <tr>\n",
       "      <th>3</th>\n",
       "      <td>справку как получить</td>\n",
       "      <td>statement_general</td>\n",
       "    </tr>\n",
       "    <tr>\n",
       "      <th>4</th>\n",
       "      <td>справку ммф где получаться</td>\n",
       "      <td>statement_general</td>\n",
       "    </tr>\n",
       "  </tbody>\n",
       "</table>\n",
       "</div>"
      ],
      "text/plain": [
       "                         text             intent\n",
       "0           мне нужна справка  statement_general\n",
       "1            оформить справку  statement_general\n",
       "2               взять справку  statement_general\n",
       "3        справку как получить  statement_general\n",
       "4  справку ммф где получаться  statement_general"
      ]
     },
     "execution_count": 5,
     "metadata": {},
     "output_type": "execute_result"
    }
   ],
   "source": [
    "train_data = pd.read_csv('../input/qa-intents-dataset-university-domain/dataset_train.tsv',delimiter='\\t',encoding=\"utf-8\",names=['text', 'intent'])\n",
    "test_data = pd.read_csv('../input/qa-intents-dataset-university-domain/dataset_test.tsv',delimiter='\\t',encoding=\"utf-8\",names=['text', 'intent'])\n",
    "train_data.head()"
   ]
  },
  {
   "cell_type": "code",
   "execution_count": 6,
   "id": "9180c703",
   "metadata": {
    "execution": {
     "iopub.execute_input": "2024-05-21T14:52:20.776642Z",
     "iopub.status.busy": "2024-05-21T14:52:20.775925Z",
     "iopub.status.idle": "2024-05-21T14:52:20.787761Z",
     "shell.execute_reply": "2024-05-21T14:52:20.786602Z"
    },
    "papermill": {
     "duration": 0.022335,
     "end_time": "2024-05-21T14:52:20.790261",
     "exception": false,
     "start_time": "2024-05-21T14:52:20.767926",
     "status": "completed"
    },
    "tags": []
   },
   "outputs": [
    {
     "data": {
      "text/html": [
       "<div>\n",
       "<style scoped>\n",
       "    .dataframe tbody tr th:only-of-type {\n",
       "        vertical-align: middle;\n",
       "    }\n",
       "\n",
       "    .dataframe tbody tr th {\n",
       "        vertical-align: top;\n",
       "    }\n",
       "\n",
       "    .dataframe thead th {\n",
       "        text-align: right;\n",
       "    }\n",
       "</style>\n",
       "<table border=\"1\" class=\"dataframe\">\n",
       "  <thead>\n",
       "    <tr style=\"text-align: right;\">\n",
       "      <th></th>\n",
       "      <th>text</th>\n",
       "      <th>intent</th>\n",
       "    </tr>\n",
       "  </thead>\n",
       "  <tbody>\n",
       "    <tr>\n",
       "      <th>0</th>\n",
       "      <td>мне нужна справка</td>\n",
       "      <td>statement_general</td>\n",
       "    </tr>\n",
       "    <tr>\n",
       "      <th>1</th>\n",
       "      <td>оформить справку</td>\n",
       "      <td>statement_general</td>\n",
       "    </tr>\n",
       "    <tr>\n",
       "      <th>2</th>\n",
       "      <td>взять справку</td>\n",
       "      <td>statement_general</td>\n",
       "    </tr>\n",
       "    <tr>\n",
       "      <th>3</th>\n",
       "      <td>справку как получить</td>\n",
       "      <td>statement_general</td>\n",
       "    </tr>\n",
       "    <tr>\n",
       "      <th>4</th>\n",
       "      <td>справку ммф где получаться</td>\n",
       "      <td>statement_general</td>\n",
       "    </tr>\n",
       "  </tbody>\n",
       "</table>\n",
       "</div>"
      ],
      "text/plain": [
       "                         text             intent\n",
       "0           мне нужна справка  statement_general\n",
       "1            оформить справку  statement_general\n",
       "2               взять справку  statement_general\n",
       "3        справку как получить  statement_general\n",
       "4  справку ммф где получаться  statement_general"
      ]
     },
     "execution_count": 6,
     "metadata": {},
     "output_type": "execute_result"
    }
   ],
   "source": [
    "full_data = pd.concat([train_data, test_data])\n",
    "full_data.head()"
   ]
  },
  {
   "cell_type": "code",
   "execution_count": 7,
   "id": "3281f861",
   "metadata": {
    "execution": {
     "iopub.execute_input": "2024-05-21T14:52:20.805905Z",
     "iopub.status.busy": "2024-05-21T14:52:20.805136Z",
     "iopub.status.idle": "2024-05-21T14:52:20.830187Z",
     "shell.execute_reply": "2024-05-21T14:52:20.829196Z"
    },
    "papermill": {
     "duration": 0.035731,
     "end_time": "2024-05-21T14:52:20.832733",
     "exception": false,
     "start_time": "2024-05-21T14:52:20.797002",
     "status": "completed"
    },
    "tags": []
   },
   "outputs": [
    {
     "name": "stdout",
     "output_type": "stream",
     "text": [
      "intent\n",
      "sched_teacher                8.582817\n",
      "sched_for_group              3.126661\n",
      "sched_for_group_day          3.046944\n",
      "wifi                         2.143490\n",
      "status_free                  2.037201\n",
      "                               ...   \n",
      "location_general             0.168291\n",
      "loc_nsu_cafeteria            0.168291\n",
      "student_trade_union_enter    0.159433\n",
      "loc_passport_office          0.159433\n",
      "staff_trade_union_enter      0.159433\n",
      "Name: proportion, Length: 142, dtype: float64\n"
     ]
    }
   ],
   "source": [
    "from sklearn.model_selection import train_test_split\n",
    "train, test = train_test_split(full_data, test_size=0.2, random_state=42)\n",
    "unique_values_normalized = train['intent'].value_counts(normalize=True)\n",
    "print(unique_values_normalized*100)"
   ]
  },
  {
   "cell_type": "code",
   "execution_count": 8,
   "id": "ed0c0b00",
   "metadata": {
    "execution": {
     "iopub.execute_input": "2024-05-21T14:52:20.849002Z",
     "iopub.status.busy": "2024-05-21T14:52:20.848241Z",
     "iopub.status.idle": "2024-05-21T14:52:20.854649Z",
     "shell.execute_reply": "2024-05-21T14:52:20.853502Z"
    },
    "papermill": {
     "duration": 0.017432,
     "end_time": "2024-05-21T14:52:20.857129",
     "exception": false,
     "start_time": "2024-05-21T14:52:20.839697",
     "status": "completed"
    },
    "tags": []
   },
   "outputs": [],
   "source": [
    "class TextDataset(Dataset):\n",
    "    def __init__(self, texts, labels):\n",
    "        self.texts = texts\n",
    "        self.labels = labels\n",
    "\n",
    "    def __len__(self):\n",
    "        return len(self.texts)\n",
    "\n",
    "    def __getitem__(self, idx):\n",
    "        return self.texts[idx], self.labels[idx]"
   ]
  },
  {
   "cell_type": "code",
   "execution_count": 9,
   "id": "0e9f8161",
   "metadata": {
    "execution": {
     "iopub.execute_input": "2024-05-21T14:52:20.873511Z",
     "iopub.status.busy": "2024-05-21T14:52:20.872633Z",
     "iopub.status.idle": "2024-05-21T14:52:20.880029Z",
     "shell.execute_reply": "2024-05-21T14:52:20.879087Z"
    },
    "papermill": {
     "duration": 0.018739,
     "end_time": "2024-05-21T14:52:20.882736",
     "exception": false,
     "start_time": "2024-05-21T14:52:20.863997",
     "status": "completed"
    },
    "tags": []
   },
   "outputs": [],
   "source": [
    "class LSTMClassifier(nn.Module):\n",
    "    def __init__(self, input_dim, hidden_dim, output_dim):\n",
    "        super().__init__()\n",
    "        self.lstm = nn.LSTM(input_dim, hidden_dim, batch_first=True)\n",
    "        self.fc = nn.Linear(hidden_dim, output_dim)\n",
    "\n",
    "    def forward(self, x):\n",
    "        x = x.unsqueeze(1)  # Добавление дополнительного измерения\n",
    "#         print(f'x shape: {x.shape}')\n",
    "        lstm_out, _ = self.lstm(x)\n",
    "        out = self.fc(lstm_out[:, -1, :])\n",
    "        return out"
   ]
  },
  {
   "cell_type": "code",
   "execution_count": 10,
   "id": "5f2293fb",
   "metadata": {
    "execution": {
     "iopub.execute_input": "2024-05-21T14:52:20.898125Z",
     "iopub.status.busy": "2024-05-21T14:52:20.897677Z",
     "iopub.status.idle": "2024-05-21T14:52:20.916042Z",
     "shell.execute_reply": "2024-05-21T14:52:20.914775Z"
    },
    "papermill": {
     "duration": 0.029486,
     "end_time": "2024-05-21T14:52:20.919067",
     "exception": false,
     "start_time": "2024-05-21T14:52:20.889581",
     "status": "completed"
    },
    "tags": []
   },
   "outputs": [],
   "source": [
    "from sklearn.preprocessing import LabelEncoder\n",
    "\n",
    "# Создание LabelEncoder\n",
    "le = LabelEncoder()\n",
    "\n",
    "# Подготовка данных\n",
    "full_data = pd.concat([train_data, test_data])\n",
    "train, test = train_test_split(full_data, test_size=0.2, random_state=42)\n",
    "\n",
    "# Преобразование меток в числовые значения\n",
    "train_labels = le.fit_transform(train['intent'])\n",
    "test_labels = le.transform(test['intent'])\n",
    "\n",
    "# # Токенизация и преобразование в TF-IDF\n",
    "# tokenizer = word_tokenize\n",
    "# vectorizer = TfidfVectorizer(tokenizer=tokenizer, stop_words='english')\n",
    "\n",
    "# train_texts = vectorizer.fit_transform(train['text']).toarray()\n",
    "# test_texts = vectorizer.transform(test['text']).toarray()\n",
    "\n",
    "# # Преобразование массивов numpy в тензоры PyTorch перед передачей в TextDataset\n",
    "# train_dataset = TextDataset(torch.from_numpy(train_texts), train_labels)\n",
    "# test_dataset = TextDataset(torch.from_numpy(test_texts), test_labels)\n"
   ]
  },
  {
   "cell_type": "code",
   "execution_count": 11,
   "id": "30ff5282",
   "metadata": {
    "execution": {
     "iopub.execute_input": "2024-05-21T14:52:20.934672Z",
     "iopub.status.busy": "2024-05-21T14:52:20.934143Z",
     "iopub.status.idle": "2024-05-21T14:52:23.523923Z",
     "shell.execute_reply": "2024-05-21T14:52:23.522551Z"
    },
    "papermill": {
     "duration": 2.60136,
     "end_time": "2024-05-21T14:52:23.527239",
     "exception": false,
     "start_time": "2024-05-21T14:52:20.925879",
     "status": "completed"
    },
    "tags": []
   },
   "outputs": [
    {
     "name": "stderr",
     "output_type": "stream",
     "text": [
      "/opt/conda/lib/python3.10/site-packages/sklearn/feature_extraction/text.py:528: UserWarning: The parameter 'token_pattern' will not be used since 'tokenizer' is not None'\n",
      "  warnings.warn(\n"
     ]
    }
   ],
   "source": [
    "# Токенизация и преобразование в TF-IDF\n",
    "tokenizer = word_tokenize\n",
    "vectorizer = TfidfVectorizer(tokenizer=tokenizer, stop_words='english')\n",
    "\n",
    "train_texts = vectorizer.fit_transform(train['text']).toarray()\n",
    "test_texts = vectorizer.transform(test['text']).toarray()\n",
    "\n",
    "# Преобразование массивов numpy в тензоры PyTorch перед передачей в TextDataset\n",
    "train_dataset = TextDataset(torch.from_numpy(train_texts), train_labels)\n",
    "test_dataset = TextDataset(torch.from_numpy(test_texts), test_labels)\n"
   ]
  },
  {
   "cell_type": "code",
   "execution_count": 12,
   "id": "c1381171",
   "metadata": {
    "execution": {
     "iopub.execute_input": "2024-05-21T14:52:23.544872Z",
     "iopub.status.busy": "2024-05-21T14:52:23.543464Z",
     "iopub.status.idle": "2024-05-21T14:52:23.563838Z",
     "shell.execute_reply": "2024-05-21T14:52:23.562576Z"
    },
    "papermill": {
     "duration": 0.032425,
     "end_time": "2024-05-21T14:52:23.566694",
     "exception": false,
     "start_time": "2024-05-21T14:52:23.534269",
     "status": "completed"
    },
    "tags": []
   },
   "outputs": [],
   "source": [
    "# Подготовка данных\n",
    "full_data = pd.concat([train_data, test_data])\n",
    "train, test = train_test_split(full_data, test_size=0.2, random_state=42)\n",
    "\n",
    "le = LabelEncoder()\n",
    "train_labels = le.fit_transform(train['intent'])\n",
    "test_labels = le.transform(test['intent'])\n",
    "\n",
    "train_loader = DataLoader(train_dataset, batch_size=32, shuffle=True)\n",
    "test_loader = DataLoader(test_dataset, batch_size=32)\n"
   ]
  },
  {
   "cell_type": "code",
   "execution_count": 13,
   "id": "5400181a",
   "metadata": {
    "execution": {
     "iopub.execute_input": "2024-05-21T14:52:23.582280Z",
     "iopub.status.busy": "2024-05-21T14:52:23.581844Z",
     "iopub.status.idle": "2024-05-21T14:56:17.557547Z",
     "shell.execute_reply": "2024-05-21T14:56:17.556264Z"
    },
    "papermill": {
     "duration": 233.986941,
     "end_time": "2024-05-21T14:56:17.560591",
     "exception": false,
     "start_time": "2024-05-21T14:52:23.573650",
     "status": "completed"
    },
    "tags": []
   },
   "outputs": [
    {
     "name": "stderr",
     "output_type": "stream",
     "text": [
      "100%|██████████| 353/353 [00:25<00:00, 13.75it/s]\n",
      "100%|██████████| 89/89 [00:00<00:00, 143.11it/s]\n"
     ]
    },
    {
     "name": "stdout",
     "output_type": "stream",
     "text": [
      "Epoch 1, Train Loss: 3.8065775656497514, Val Loss: 2.016551906473181\n"
     ]
    },
    {
     "name": "stderr",
     "output_type": "stream",
     "text": [
      "100%|██████████| 353/353 [00:22<00:00, 15.86it/s]\n",
      "100%|██████████| 89/89 [00:00<00:00, 152.88it/s]\n"
     ]
    },
    {
     "name": "stdout",
     "output_type": "stream",
     "text": [
      "Epoch 2, Train Loss: 0.9797964396625335, Val Loss: 0.4276752324586504\n"
     ]
    },
    {
     "name": "stderr",
     "output_type": "stream",
     "text": [
      "100%|██████████| 353/353 [00:21<00:00, 16.10it/s]\n",
      "100%|██████████| 89/89 [00:00<00:00, 167.74it/s]\n"
     ]
    },
    {
     "name": "stdout",
     "output_type": "stream",
     "text": [
      "Epoch 3, Train Loss: 0.2639882240454975, Val Loss: 0.19726076165444395\n"
     ]
    },
    {
     "name": "stderr",
     "output_type": "stream",
     "text": [
      "100%|██████████| 353/353 [00:21<00:00, 16.18it/s]\n",
      "100%|██████████| 89/89 [00:00<00:00, 160.58it/s]\n"
     ]
    },
    {
     "name": "stdout",
     "output_type": "stream",
     "text": [
      "Epoch 4, Train Loss: 0.14916757921880855, Val Loss: 0.14936626455589627\n"
     ]
    },
    {
     "name": "stderr",
     "output_type": "stream",
     "text": [
      "100%|██████████| 353/353 [00:22<00:00, 16.04it/s]\n",
      "100%|██████████| 89/89 [00:00<00:00, 160.39it/s]\n"
     ]
    },
    {
     "name": "stdout",
     "output_type": "stream",
     "text": [
      "Epoch 5, Train Loss: 0.1169873273221739, Val Loss: 0.13447009870426707\n"
     ]
    },
    {
     "name": "stderr",
     "output_type": "stream",
     "text": [
      "100%|██████████| 353/353 [00:22<00:00, 15.96it/s]\n",
      "100%|██████████| 89/89 [00:00<00:00, 159.75it/s]\n"
     ]
    },
    {
     "name": "stdout",
     "output_type": "stream",
     "text": [
      "Epoch 6, Train Loss: 0.10357819793075745, Val Loss: 0.12809233998963504\n"
     ]
    },
    {
     "name": "stderr",
     "output_type": "stream",
     "text": [
      "100%|██████████| 353/353 [00:22<00:00, 15.93it/s]\n",
      "100%|██████████| 89/89 [00:00<00:00, 156.34it/s]\n"
     ]
    },
    {
     "name": "stdout",
     "output_type": "stream",
     "text": [
      "Epoch 7, Train Loss: 0.09683921175254324, Val Loss: 0.12467273016554418\n"
     ]
    },
    {
     "name": "stderr",
     "output_type": "stream",
     "text": [
      "100%|██████████| 353/353 [00:22<00:00, 15.77it/s]\n",
      "100%|██████████| 89/89 [00:00<00:00, 163.87it/s]\n"
     ]
    },
    {
     "name": "stdout",
     "output_type": "stream",
     "text": [
      "Epoch 8, Train Loss: 0.09290678014849489, Val Loss: 0.1216698277720742\n"
     ]
    },
    {
     "name": "stderr",
     "output_type": "stream",
     "text": [
      "100%|██████████| 353/353 [00:22<00:00, 15.74it/s]\n",
      "100%|██████████| 89/89 [00:00<00:00, 161.98it/s]\n"
     ]
    },
    {
     "name": "stdout",
     "output_type": "stream",
     "text": [
      "Epoch 9, Train Loss: 0.09064122935013039, Val Loss: 0.12379976268857718\n"
     ]
    },
    {
     "name": "stderr",
     "output_type": "stream",
     "text": [
      "100%|██████████| 353/353 [00:21<00:00, 16.09it/s]\n",
      "100%|██████████| 89/89 [00:00<00:00, 129.18it/s]\n"
     ]
    },
    {
     "name": "stdout",
     "output_type": "stream",
     "text": [
      "Epoch 10, Train Loss: 0.08925945964238208, Val Loss: 0.12214200492827955\n"
     ]
    },
    {
     "data": {
      "image/png": "[encoded data removed]",
      "text/plain": [
       "<Figure size 640x480 with 1 Axes>"
      ]
     },
     "metadata": {},
     "output_type": "display_data"
    }
   ],
   "source": [
    "from tqdm import tqdm\n",
    "import matplotlib.pyplot as plt\n",
    "\n",
    "# Создание и обучение модели\n",
    "model = LSTMClassifier(input_dim=train_texts.shape[1], hidden_dim=256, output_dim=len(le.classes_))\n",
    "\n",
    "# Перемещение модели на GPU, если он доступен\n",
    "device = torch.device('cuda' if torch.cuda.is_available() else 'cpu')\n",
    "model = model.to(device)\n",
    "\n",
    "criterion = nn.CrossEntropyLoss()\n",
    "optimizer = torch.optim.Adam(model.parameters(), lr=0.001)\n",
    "\n",
    "train_losses = []\n",
    "val_losses = []\n",
    "\n",
    "for epoch in range(10):\n",
    "    train_loss = 0\n",
    "    val_loss = 0\n",
    "    # Обучение\n",
    "    model.train()\n",
    "    for i, (texts, labels) in enumerate(tqdm(train_loader)):\n",
    "        # Перемещение данных на тот же устройство, что и модель\n",
    "        texts = texts.float().to(device)\n",
    "        labels = labels.to(device)\n",
    "\n",
    "        outputs = model(texts)\n",
    "        loss = criterion(outputs, labels)\n",
    "\n",
    "        optimizer.zero_grad()\n",
    "        loss.backward()\n",
    "        optimizer.step()\n",
    "\n",
    "        train_loss += loss.item()\n",
    "\n",
    "    # Валидация\n",
    "    model.eval()\n",
    "    with torch.no_grad():\n",
    "        for i, (texts, labels) in enumerate(tqdm(test_loader)):\n",
    "            texts = texts.float().to(device)\n",
    "            labels = labels.to(device)\n",
    "\n",
    "            outputs = model(texts)\n",
    "            loss = criterion(outputs, labels)\n",
    "\n",
    "            val_loss += loss.item()\n",
    "\n",
    "    train_loss /= len(train_loader)\n",
    "    val_loss /= len(test_loader)\n",
    "    train_losses.append(train_loss)\n",
    "    val_losses.append(val_loss)\n",
    "\n",
    "    print(f'Epoch {epoch+1}, Train Loss: {train_loss}, Val Loss: {val_loss}')\n",
    "\n",
    "# Построение графика потерь\n",
    "plt.plot(range(1, 11), train_losses, label='Train Loss')\n",
    "plt.plot(range(1, 11), val_losses, label='Val Loss')\n",
    "plt.xlabel('Epoch')\n",
    "plt.ylabel('Loss')\n",
    "plt.legend()\n",
    "plt.show()\n"
   ]
  },
  {
   "cell_type": "code",
   "execution_count": 14,
   "id": "215aad5e",
   "metadata": {
    "execution": {
     "iopub.execute_input": "2024-05-21T14:56:17.936075Z",
     "iopub.status.busy": "2024-05-21T14:56:17.935485Z",
     "iopub.status.idle": "2024-05-21T14:56:18.509618Z",
     "shell.execute_reply": "2024-05-21T14:56:18.508644Z"
    },
    "papermill": {
     "duration": 0.761747,
     "end_time": "2024-05-21T14:56:18.512295",
     "exception": false,
     "start_time": "2024-05-21T14:56:17.750548",
     "status": "completed"
    },
    "tags": []
   },
   "outputs": [
    {
     "name": "stdout",
     "output_type": "stream",
     "text": [
      "0.952707990745937\n",
      "(0.9492042367217138, 0.9507616011335459, 0.9487596973749451, None)\n"
     ]
    },
    {
     "name": "stderr",
     "output_type": "stream",
     "text": [
      "/opt/conda/lib/python3.10/site-packages/sklearn/metrics/_classification.py:1344: UndefinedMetricWarning: Precision and F-score are ill-defined and being set to 0.0 in labels with no predicted samples. Use `zero_division` parameter to control this behavior.\n",
      "  _warn_prf(average, modifier, msg_start, len(result))\n"
     ]
    }
   ],
   "source": [
    "# Прогнозирование на тестовом наборе\n",
    "predictions = []\n",
    "with torch.no_grad():\n",
    "    for i, (input_ids, labels) in enumerate(test_loader):\n",
    "        input_ids = input_ids.float().to(device)\n",
    "\n",
    "        outputs = model(input_ids)\n",
    "        _, predicted = torch.max(outputs.data, 1)\n",
    "        predictions.extend(predicted.cpu().numpy())\n",
    "\n",
    "# Перевод меток обратно в исходные интенты\n",
    "predicted_intents = le.inverse_transform(predictions)\n",
    "\n",
    "print(balanced_accuracy_score(test_labels, predictions))\n",
    "print(precision_recall_fscore_support(test_labels, predictions, average = 'weighted'))\n"
   ]
  }
 ],
 "metadata": {
  "kaggle": {
   "accelerator": "none",
   "dataSources": [
    {
     "datasetId": 1549969,
     "sourceId": 2560015,
     "sourceType": "datasetVersion"
    }
   ],
   "dockerImageVersionId": 30698,
   "isGpuEnabled": false,
   "isInternetEnabled": true,
   "language": "python",
   "sourceType": "notebook"
  },
  "kernelspec": {
   "display_name": "Python 3",
   "language": "python",
   "name": "python3"
  },
  "language_info": {
   "codemirror_mode": {
    "name": "ipython",
    "version": 3
   },
   "file_extension": ".py",
   "mimetype": "text/x-python",
   "name": "python",
   "nbconvert_exporter": "python",
   "pygments_lexer": "ipython3",
   "version": "3.10.13"
  },
  "papermill": {
   "default_parameters": {},
   "duration": 249.954313,
   "end_time": "2024-05-21T14:56:20.223849",
   "environment_variables": {},
   "exception": null,
   "input_path": "__notebook__.ipynb",
   "output_path": "__notebook__.ipynb",
   "parameters": {},
   "start_time": "2024-05-21T14:52:10.269536",
   "version": "2.5.0"
  }
 },
 "nbformat": 4,
 "nbformat_minor": 5
}
