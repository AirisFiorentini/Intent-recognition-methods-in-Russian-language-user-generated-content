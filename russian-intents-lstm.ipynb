{
 "cells": [
  {
   "cell_type": "code",
   "execution_count": 1,
   "id": "359b6511",
   "metadata": {
    "_cell_guid": "b1076dfc-b9ad-4769-8c92-a6c4dae69d19",
    "_uuid": "8f2839f25d086af736a60e9eeb907d3b93b6e0e5",
    "execution": {
     "iopub.execute_input": "2024-05-22T14:36:17.421060Z",
     "iopub.status.busy": "2024-05-22T14:36:17.420288Z",
     "iopub.status.idle": "2024-05-22T14:36:18.351415Z",
     "shell.execute_reply": "2024-05-22T14:36:18.350064Z"
    },
    "papermill": {
     "duration": 0.939841,
     "end_time": "2024-05-22T14:36:18.353936",
     "exception": false,
     "start_time": "2024-05-22T14:36:17.414095",
     "status": "completed"
    },
    "tags": []
   },
   "outputs": [
    {
     "name": "stdout",
     "output_type": "stream",
     "text": [
      "/kaggle/input/qa-intents-dataset-university-domain/dataset_test.tsv\n",
      "/kaggle/input/qa-intents-dataset-university-domain/labels_description.txt\n",
      "/kaggle/input/qa-intents-dataset-university-domain/dataset_train.tsv\n"
     ]
    }
   ],
   "source": [
    "import numpy as np # linear algebra\n",
    "import pandas as pd # data processing, CSV file I/O (e.g. pd.read_csv)\n",
    "\n",
    "import os\n",
    "for dirname, _, filenames in os.walk('/kaggle/input'):\n",
    "    for filename in filenames:\n",
    "        print(os.path.join(dirname, filename))"
   ]
  },
  {
   "cell_type": "code",
   "execution_count": 2,
   "id": "cca24d1e",
   "metadata": {
    "execution": {
     "iopub.execute_input": "2024-05-22T14:36:18.364523Z",
     "iopub.status.busy": "2024-05-22T14:36:18.364058Z",
     "iopub.status.idle": "2024-05-22T14:36:23.992511Z",
     "shell.execute_reply": "2024-05-22T14:36:23.991459Z"
    },
    "papermill": {
     "duration": 5.636501,
     "end_time": "2024-05-22T14:36:23.995105",
     "exception": false,
     "start_time": "2024-05-22T14:36:18.358604",
     "status": "completed"
    },
    "tags": []
   },
   "outputs": [],
   "source": [
    "import nltk\n",
    "from nltk.tokenize import word_tokenize\n",
    "from sklearn.feature_extraction.text import TfidfVectorizer\n",
    "from sklearn.preprocessing import LabelEncoder\n",
    "from torch.utils.data import Dataset, DataLoader\n",
    "import torch\n",
    "from torch import nn"
   ]
  },
  {
   "cell_type": "code",
   "execution_count": 3,
   "id": "bcd7bdbc",
   "metadata": {
    "execution": {
     "iopub.execute_input": "2024-05-22T14:36:24.007161Z",
     "iopub.status.busy": "2024-05-22T14:36:24.006595Z",
     "iopub.status.idle": "2024-05-22T14:36:24.156763Z",
     "shell.execute_reply": "2024-05-22T14:36:24.155567Z"
    },
    "papermill": {
     "duration": 0.158708,
     "end_time": "2024-05-22T14:36:24.159419",
     "exception": false,
     "start_time": "2024-05-22T14:36:24.000711",
     "status": "completed"
    },
    "tags": []
   },
   "outputs": [
    {
     "name": "stdout",
     "output_type": "stream",
     "text": [
      "[nltk_data] Downloading package punkt to /usr/share/nltk_data...\n",
      "[nltk_data]   Package punkt is already up-to-date!\n"
     ]
    },
    {
     "data": {
      "text/plain": [
       "True"
      ]
     },
     "execution_count": 3,
     "metadata": {},
     "output_type": "execute_result"
    }
   ],
   "source": [
    "import nltk\n",
    "from nltk.tokenize import word_tokenize\n",
    "from torch.utils.data import Dataset \n",
    "from sklearn.feature_extraction.text import TfidfVectorizer\n",
    "\n",
    "nltk.download('punkt')"
   ]
  },
  {
   "cell_type": "code",
   "execution_count": 4,
   "id": "a4a76517",
   "metadata": {
    "execution": {
     "iopub.execute_input": "2024-05-22T14:36:24.170434Z",
     "iopub.status.busy": "2024-05-22T14:36:24.169941Z",
     "iopub.status.idle": "2024-05-22T14:36:24.174971Z",
     "shell.execute_reply": "2024-05-22T14:36:24.173904Z"
    },
    "papermill": {
     "duration": 0.012903,
     "end_time": "2024-05-22T14:36:24.176927",
     "exception": false,
     "start_time": "2024-05-22T14:36:24.164024",
     "status": "completed"
    },
    "tags": []
   },
   "outputs": [],
   "source": [
    "from sklearn.metrics import precision_recall_fscore_support, balanced_accuracy_score"
   ]
  },
  {
   "cell_type": "code",
   "execution_count": 5,
   "id": "3edb5e4a",
   "metadata": {
    "execution": {
     "iopub.execute_input": "2024-05-22T14:36:24.187412Z",
     "iopub.status.busy": "2024-05-22T14:36:24.187040Z",
     "iopub.status.idle": "2024-05-22T14:36:24.278366Z",
     "shell.execute_reply": "2024-05-22T14:36:24.277354Z"
    },
    "papermill": {
     "duration": 0.099072,
     "end_time": "2024-05-22T14:36:24.280485",
     "exception": false,
     "start_time": "2024-05-22T14:36:24.181413",
     "status": "completed"
    },
    "tags": []
   },
   "outputs": [
    {
     "data": {
      "text/html": [
       "<div>\n",
       "<style scoped>\n",
       "    .dataframe tbody tr th:only-of-type {\n",
       "        vertical-align: middle;\n",
       "    }\n",
       "\n",
       "    .dataframe tbody tr th {\n",
       "        vertical-align: top;\n",
       "    }\n",
       "\n",
       "    .dataframe thead th {\n",
       "        text-align: right;\n",
       "    }\n",
       "</style>\n",
       "<table border=\"1\" class=\"dataframe\">\n",
       "  <thead>\n",
       "    <tr style=\"text-align: right;\">\n",
       "      <th></th>\n",
       "      <th>text</th>\n",
       "      <th>intent</th>\n",
       "    </tr>\n",
       "  </thead>\n",
       "  <tbody>\n",
       "    <tr>\n",
       "      <th>0</th>\n",
       "      <td>мне нужна справка</td>\n",
       "      <td>statement_general</td>\n",
       "    </tr>\n",
       "    <tr>\n",
       "      <th>1</th>\n",
       "      <td>оформить справку</td>\n",
       "      <td>statement_general</td>\n",
       "    </tr>\n",
       "    <tr>\n",
       "      <th>2</th>\n",
       "      <td>взять справку</td>\n",
       "      <td>statement_general</td>\n",
       "    </tr>\n",
       "    <tr>\n",
       "      <th>3</th>\n",
       "      <td>справку как получить</td>\n",
       "      <td>statement_general</td>\n",
       "    </tr>\n",
       "    <tr>\n",
       "      <th>4</th>\n",
       "      <td>справку ммф где получаться</td>\n",
       "      <td>statement_general</td>\n",
       "    </tr>\n",
       "  </tbody>\n",
       "</table>\n",
       "</div>"
      ],
      "text/plain": [
       "                         text             intent\n",
       "0           мне нужна справка  statement_general\n",
       "1            оформить справку  statement_general\n",
       "2               взять справку  statement_general\n",
       "3        справку как получить  statement_general\n",
       "4  справку ммф где получаться  statement_general"
      ]
     },
     "execution_count": 5,
     "metadata": {},
     "output_type": "execute_result"
    }
   ],
   "source": [
    "train_data = pd.read_csv('../input/qa-intents-dataset-university-domain/dataset_train.tsv',delimiter='\\t',encoding=\"utf-8\",names=['text', 'intent'])\n",
    "test_data = pd.read_csv('../input/qa-intents-dataset-university-domain/dataset_test.tsv',delimiter='\\t',encoding=\"utf-8\",names=['text', 'intent'])\n",
    "train_data.head()"
   ]
  },
  {
   "cell_type": "code",
   "execution_count": 6,
   "id": "06b00494",
   "metadata": {
    "execution": {
     "iopub.execute_input": "2024-05-22T14:36:24.292456Z",
     "iopub.status.busy": "2024-05-22T14:36:24.291314Z",
     "iopub.status.idle": "2024-05-22T14:36:24.302544Z",
     "shell.execute_reply": "2024-05-22T14:36:24.301756Z"
    },
    "papermill": {
     "duration": 0.019218,
     "end_time": "2024-05-22T14:36:24.304604",
     "exception": false,
     "start_time": "2024-05-22T14:36:24.285386",
     "status": "completed"
    },
    "tags": []
   },
   "outputs": [
    {
     "data": {
      "text/html": [
       "<div>\n",
       "<style scoped>\n",
       "    .dataframe tbody tr th:only-of-type {\n",
       "        vertical-align: middle;\n",
       "    }\n",
       "\n",
       "    .dataframe tbody tr th {\n",
       "        vertical-align: top;\n",
       "    }\n",
       "\n",
       "    .dataframe thead th {\n",
       "        text-align: right;\n",
       "    }\n",
       "</style>\n",
       "<table border=\"1\" class=\"dataframe\">\n",
       "  <thead>\n",
       "    <tr style=\"text-align: right;\">\n",
       "      <th></th>\n",
       "      <th>text</th>\n",
       "      <th>intent</th>\n",
       "    </tr>\n",
       "  </thead>\n",
       "  <tbody>\n",
       "    <tr>\n",
       "      <th>0</th>\n",
       "      <td>мне нужна справка</td>\n",
       "      <td>statement_general</td>\n",
       "    </tr>\n",
       "    <tr>\n",
       "      <th>1</th>\n",
       "      <td>оформить справку</td>\n",
       "      <td>statement_general</td>\n",
       "    </tr>\n",
       "    <tr>\n",
       "      <th>2</th>\n",
       "      <td>взять справку</td>\n",
       "      <td>statement_general</td>\n",
       "    </tr>\n",
       "    <tr>\n",
       "      <th>3</th>\n",
       "      <td>справку как получить</td>\n",
       "      <td>statement_general</td>\n",
       "    </tr>\n",
       "    <tr>\n",
       "      <th>4</th>\n",
       "      <td>справку ммф где получаться</td>\n",
       "      <td>statement_general</td>\n",
       "    </tr>\n",
       "  </tbody>\n",
       "</table>\n",
       "</div>"
      ],
      "text/plain": [
       "                         text             intent\n",
       "0           мне нужна справка  statement_general\n",
       "1            оформить справку  statement_general\n",
       "2               взять справку  statement_general\n",
       "3        справку как получить  statement_general\n",
       "4  справку ммф где получаться  statement_general"
      ]
     },
     "execution_count": 6,
     "metadata": {},
     "output_type": "execute_result"
    }
   ],
   "source": [
    "full_data = pd.concat([train_data, test_data])\n",
    "full_data.head()"
   ]
  },
  {
   "cell_type": "code",
   "execution_count": 7,
   "id": "3bc12e6a",
   "metadata": {
    "execution": {
     "iopub.execute_input": "2024-05-22T14:36:24.316800Z",
     "iopub.status.busy": "2024-05-22T14:36:24.316104Z",
     "iopub.status.idle": "2024-05-22T14:36:24.338776Z",
     "shell.execute_reply": "2024-05-22T14:36:24.336883Z"
    },
    "papermill": {
     "duration": 0.031821,
     "end_time": "2024-05-22T14:36:24.341333",
     "exception": false,
     "start_time": "2024-05-22T14:36:24.309512",
     "status": "completed"
    },
    "tags": []
   },
   "outputs": [
    {
     "name": "stdout",
     "output_type": "stream",
     "text": [
      "intent\n",
      "sched_teacher                8.582817\n",
      "sched_for_group              3.126661\n",
      "sched_for_group_day          3.046944\n",
      "wifi                         2.143490\n",
      "status_free                  2.037201\n",
      "                               ...   \n",
      "location_general             0.168291\n",
      "loc_nsu_cafeteria            0.168291\n",
      "student_trade_union_enter    0.159433\n",
      "loc_passport_office          0.159433\n",
      "staff_trade_union_enter      0.159433\n",
      "Name: proportion, Length: 142, dtype: float64\n"
     ]
    }
   ],
   "source": [
    "from sklearn.model_selection import train_test_split\n",
    "train, test = train_test_split(full_data, test_size=0.2, random_state=42)\n",
    "unique_values_normalized = train['intent'].value_counts(normalize=True)\n",
    "print(unique_values_normalized*100)"
   ]
  },
  {
   "cell_type": "code",
   "execution_count": 8,
   "id": "ba21503b",
   "metadata": {
    "execution": {
     "iopub.execute_input": "2024-05-22T14:36:24.353387Z",
     "iopub.status.busy": "2024-05-22T14:36:24.352960Z",
     "iopub.status.idle": "2024-05-22T14:36:24.359299Z",
     "shell.execute_reply": "2024-05-22T14:36:24.358133Z"
    },
    "papermill": {
     "duration": 0.014799,
     "end_time": "2024-05-22T14:36:24.361540",
     "exception": false,
     "start_time": "2024-05-22T14:36:24.346741",
     "status": "completed"
    },
    "tags": []
   },
   "outputs": [],
   "source": [
    "class TextDataset(Dataset):\n",
    "    def __init__(self, texts, labels):\n",
    "        self.texts = texts\n",
    "        self.labels = labels\n",
    "\n",
    "    def __len__(self):\n",
    "        return len(self.texts)\n",
    "\n",
    "    def __getitem__(self, idx):\n",
    "        return self.texts[idx], self.labels[idx]"
   ]
  },
  {
   "cell_type": "code",
   "execution_count": 9,
   "id": "802193d4",
   "metadata": {
    "execution": {
     "iopub.execute_input": "2024-05-22T14:36:24.373303Z",
     "iopub.status.busy": "2024-05-22T14:36:24.372930Z",
     "iopub.status.idle": "2024-05-22T14:36:24.380022Z",
     "shell.execute_reply": "2024-05-22T14:36:24.378973Z"
    },
    "papermill": {
     "duration": 0.015503,
     "end_time": "2024-05-22T14:36:24.382114",
     "exception": false,
     "start_time": "2024-05-22T14:36:24.366611",
     "status": "completed"
    },
    "tags": []
   },
   "outputs": [],
   "source": [
    "class LSTMClassifier(nn.Module):\n",
    "    def __init__(self, input_dim, hidden_dim, output_dim):\n",
    "        super().__init__()\n",
    "        self.lstm = nn.LSTM(input_dim, hidden_dim, batch_first=True)\n",
    "        self.fc = nn.Linear(hidden_dim, output_dim)\n",
    "\n",
    "    def forward(self, x):\n",
    "        x = x.unsqueeze(1)  # Добавление дополнительного измерения\n",
    "#         print(f'x shape: {x.shape}')\n",
    "        lstm_out, _ = self.lstm(x)\n",
    "        out = self.fc(lstm_out[:, -1, :])\n",
    "        return out"
   ]
  },
  {
   "cell_type": "code",
   "execution_count": 10,
   "id": "bbf27a77",
   "metadata": {
    "execution": {
     "iopub.execute_input": "2024-05-22T14:36:24.394576Z",
     "iopub.status.busy": "2024-05-22T14:36:24.393805Z",
     "iopub.status.idle": "2024-05-22T14:36:24.408242Z",
     "shell.execute_reply": "2024-05-22T14:36:24.407190Z"
    },
    "papermill": {
     "duration": 0.023248,
     "end_time": "2024-05-22T14:36:24.410409",
     "exception": false,
     "start_time": "2024-05-22T14:36:24.387161",
     "status": "completed"
    },
    "tags": []
   },
   "outputs": [],
   "source": [
    "# !\n",
    "from sklearn.preprocessing import LabelEncoder\n",
    "\n",
    "# Создание LabelEncoder\n",
    "le = LabelEncoder()\n",
    "\n",
    "# Подготовка данных\n",
    "full_data = pd.concat([train_data, test_data])\n",
    "train, test = train_test_split(full_data, test_size=0.2, random_state=42)\n",
    "\n",
    "# Преобразование меток в числовые значения\n",
    "train_labels = le.fit_transform(train['intent'])\n",
    "test_labels = le.transform(test['intent'])\n",
    "\n",
    "# # Токенизация и преобразование в TF-IDF\n",
    "# tokenizer = word_tokenize\n",
    "# vectorizer = TfidfVectorizer(tokenizer=tokenizer, stop_words='english')\n",
    "\n",
    "# train_texts = vectorizer.fit_transform(train['text']).toarray()\n",
    "# test_texts = vectorizer.transform(test['text']).toarray()\n",
    "\n",
    "# # Преобразование массивов numpy в тензоры PyTorch перед передачей в TextDataset\n",
    "# train_dataset = TextDataset(torch.from_numpy(train_texts), train_labels)\n",
    "# test_dataset = TextDataset(torch.from_numpy(test_texts), test_labels)\n"
   ]
  },
  {
   "cell_type": "code",
   "execution_count": 11,
   "id": "5bfb0a62",
   "metadata": {
    "execution": {
     "iopub.execute_input": "2024-05-22T14:36:24.422498Z",
     "iopub.status.busy": "2024-05-22T14:36:24.421576Z",
     "iopub.status.idle": "2024-05-22T14:36:26.201524Z",
     "shell.execute_reply": "2024-05-22T14:36:26.200187Z"
    },
    "papermill": {
     "duration": 1.789038,
     "end_time": "2024-05-22T14:36:26.204535",
     "exception": false,
     "start_time": "2024-05-22T14:36:24.415497",
     "status": "completed"
    },
    "tags": []
   },
   "outputs": [
    {
     "name": "stderr",
     "output_type": "stream",
     "text": [
      "/opt/conda/lib/python3.10/site-packages/sklearn/feature_extraction/text.py:528: UserWarning: The parameter 'token_pattern' will not be used since 'tokenizer' is not None'\n",
      "  warnings.warn(\n"
     ]
    }
   ],
   "source": [
    "# Токенизация и преобразование в TF-IDF\n",
    "tokenizer = word_tokenize\n",
    "vectorizer = TfidfVectorizer(tokenizer=tokenizer, stop_words='english')\n",
    "\n",
    "train_texts = vectorizer.fit_transform(train['text']).toarray()\n",
    "test_texts = vectorizer.transform(test['text']).toarray()\n",
    "\n",
    "# Преобразование массивов numpy в тензоры PyTorch перед передачей в TextDataset\n",
    "train_dataset = TextDataset(torch.from_numpy(train_texts), train_labels)\n",
    "test_dataset = TextDataset(torch.from_numpy(test_texts), test_labels)\n"
   ]
  },
  {
   "cell_type": "code",
   "execution_count": 12,
   "id": "b7f33bab",
   "metadata": {
    "execution": {
     "iopub.execute_input": "2024-05-22T14:36:26.217113Z",
     "iopub.status.busy": "2024-05-22T14:36:26.216723Z",
     "iopub.status.idle": "2024-05-22T14:36:26.223341Z",
     "shell.execute_reply": "2024-05-22T14:36:26.222441Z"
    },
    "papermill": {
     "duration": 0.015429,
     "end_time": "2024-05-22T14:36:26.225328",
     "exception": false,
     "start_time": "2024-05-22T14:36:26.209899",
     "status": "completed"
    },
    "tags": []
   },
   "outputs": [],
   "source": [
    "# Подготовка данных\n",
    "# full_data = pd.concat([train_data, test_data])\n",
    "# train, test = train_test_split(full_data, test_size=0.2, random_state=42)\n",
    "\n",
    "# le = LabelEncoder()\n",
    "# train_labels = le.fit_transform(train['intent'])\n",
    "# test_labels = le.transform(test['intent'])\n",
    "\n",
    "train_loader = DataLoader(train_dataset, batch_size=32, shuffle=True)\n",
    "test_loader = DataLoader(test_dataset, batch_size=32)\n"
   ]
  },
  {
   "cell_type": "code",
   "execution_count": 13,
   "id": "5ab37d34",
   "metadata": {
    "execution": {
     "iopub.execute_input": "2024-05-22T14:36:26.238546Z",
     "iopub.status.busy": "2024-05-22T14:36:26.237177Z",
     "iopub.status.idle": "2024-05-22T14:39:28.572054Z",
     "shell.execute_reply": "2024-05-22T14:39:28.570978Z"
    },
    "papermill": {
     "duration": 182.344111,
     "end_time": "2024-05-22T14:39:28.574506",
     "exception": false,
     "start_time": "2024-05-22T14:36:26.230395",
     "status": "completed"
    },
    "tags": []
   },
   "outputs": [
    {
     "name": "stderr",
     "output_type": "stream",
     "text": [
      "100%|██████████| 353/353 [00:18<00:00, 19.33it/s]\n",
      "100%|██████████| 89/89 [00:00<00:00, 169.23it/s]\n"
     ]
    },
    {
     "name": "stdout",
     "output_type": "stream",
     "text": [
      "Epoch 1, Train Loss: 3.7557706991606326, Val Loss: 1.9758212934719044\n"
     ]
    },
    {
     "name": "stderr",
     "output_type": "stream",
     "text": [
      "100%|██████████| 353/353 [00:16<00:00, 21.13it/s]\n",
      "100%|██████████| 89/89 [00:00<00:00, 176.57it/s]\n"
     ]
    },
    {
     "name": "stdout",
     "output_type": "stream",
     "text": [
      "Epoch 2, Train Loss: 0.9635761194458764, Val Loss: 0.4221329898311851\n"
     ]
    },
    {
     "name": "stderr",
     "output_type": "stream",
     "text": [
      "100%|██████████| 353/353 [00:17<00:00, 20.75it/s]\n",
      "100%|██████████| 89/89 [00:00<00:00, 173.47it/s]\n"
     ]
    },
    {
     "name": "stdout",
     "output_type": "stream",
     "text": [
      "Epoch 3, Train Loss: 0.2636987099017705, Val Loss: 0.1968535218345985\n"
     ]
    },
    {
     "name": "stderr",
     "output_type": "stream",
     "text": [
      "100%|██████████| 353/353 [00:16<00:00, 21.06it/s]\n",
      "100%|██████████| 89/89 [00:00<00:00, 170.50it/s]\n"
     ]
    },
    {
     "name": "stdout",
     "output_type": "stream",
     "text": [
      "Epoch 4, Train Loss: 0.14921001393464065, Val Loss: 0.1509918130390095\n"
     ]
    },
    {
     "name": "stderr",
     "output_type": "stream",
     "text": [
      "100%|██████████| 353/353 [00:17<00:00, 20.45it/s]\n",
      "100%|██████████| 89/89 [00:00<00:00, 175.43it/s]\n"
     ]
    },
    {
     "name": "stdout",
     "output_type": "stream",
     "text": [
      "Epoch 5, Train Loss: 0.11700232457844462, Val Loss: 0.13336502085701468\n"
     ]
    },
    {
     "name": "stderr",
     "output_type": "stream",
     "text": [
      "100%|██████████| 353/353 [00:17<00:00, 20.06it/s]\n",
      "100%|██████████| 89/89 [00:00<00:00, 174.21it/s]\n"
     ]
    },
    {
     "name": "stdout",
     "output_type": "stream",
     "text": [
      "Epoch 6, Train Loss: 0.10390805377210714, Val Loss: 0.1263998035404287\n"
     ]
    },
    {
     "name": "stderr",
     "output_type": "stream",
     "text": [
      "100%|██████████| 353/353 [00:17<00:00, 20.58it/s]\n",
      "100%|██████████| 89/89 [00:00<00:00, 172.96it/s]\n"
     ]
    },
    {
     "name": "stdout",
     "output_type": "stream",
     "text": [
      "Epoch 7, Train Loss: 0.0968373592615803, Val Loss: 0.12286216843862797\n"
     ]
    },
    {
     "name": "stderr",
     "output_type": "stream",
     "text": [
      "100%|██████████| 353/353 [00:17<00:00, 19.96it/s]\n",
      "100%|██████████| 89/89 [00:00<00:00, 174.81it/s]\n"
     ]
    },
    {
     "name": "stdout",
     "output_type": "stream",
     "text": [
      "Epoch 8, Train Loss: 0.09317625965791156, Val Loss: 0.12080938922335509\n"
     ]
    },
    {
     "name": "stderr",
     "output_type": "stream",
     "text": [
      "100%|██████████| 353/353 [00:17<00:00, 20.20it/s]\n",
      "100%|██████████| 89/89 [00:00<00:00, 170.88it/s]\n"
     ]
    },
    {
     "name": "stdout",
     "output_type": "stream",
     "text": [
      "Epoch 9, Train Loss: 0.09059736835137115, Val Loss: 0.12218698288387295\n"
     ]
    },
    {
     "name": "stderr",
     "output_type": "stream",
     "text": [
      "100%|██████████| 353/353 [00:18<00:00, 19.37it/s]\n",
      "100%|██████████| 89/89 [00:00<00:00, 171.50it/s]\n"
     ]
    },
    {
     "name": "stdout",
     "output_type": "stream",
     "text": [
      "Epoch 10, Train Loss: 0.08894952346284533, Val Loss: 0.12245281214506648\n"
     ]
    },
    {
     "data": {
      "image/png": "[encoded data removed]",
      "text/plain": [
       "<Figure size 640x480 with 1 Axes>"
      ]
     },
     "metadata": {},
     "output_type": "display_data"
    }
   ],
   "source": [
    "from tqdm import tqdm\n",
    "import matplotlib.pyplot as plt\n",
    "\n",
    "# Создание и обучение модели\n",
    "model = LSTMClassifier(input_dim=train_texts.shape[1], hidden_dim=256, output_dim=len(le.classes_))\n",
    "\n",
    "# Перемещение модели на GPU, если он доступен\n",
    "device = torch.device('cuda' if torch.cuda.is_available() else 'cpu')\n",
    "model = model.to(device)\n",
    "\n",
    "criterion = nn.CrossEntropyLoss()\n",
    "optimizer = torch.optim.Adam(model.parameters(), lr=0.001)\n",
    "\n",
    "train_losses = []\n",
    "val_losses = []\n",
    "\n",
    "for epoch in range(10):\n",
    "    train_loss = 0\n",
    "    val_loss = 0\n",
    "    # Обучение\n",
    "    model.train()\n",
    "    for i, (texts, labels) in enumerate(tqdm(train_loader)):\n",
    "        # Перемещение данных на тот же устройство, что и модель\n",
    "        texts = texts.float().to(device)\n",
    "        labels = labels.to(device)\n",
    "\n",
    "        outputs = model(texts)\n",
    "        loss = criterion(outputs, labels)\n",
    "\n",
    "        optimizer.zero_grad()\n",
    "        loss.backward()\n",
    "        optimizer.step()\n",
    "\n",
    "        train_loss += loss.item()\n",
    "\n",
    "    # Валидация\n",
    "    model.eval()\n",
    "    with torch.no_grad():\n",
    "        for i, (texts, labels) in enumerate(tqdm(test_loader)):\n",
    "            texts = texts.float().to(device)\n",
    "            labels = labels.to(device)\n",
    "\n",
    "            outputs = model(texts)\n",
    "            loss = criterion(outputs, labels)\n",
    "\n",
    "            val_loss += loss.item()\n",
    "\n",
    "    train_loss /= len(train_loader)\n",
    "    val_loss /= len(test_loader)\n",
    "    train_losses.append(train_loss)\n",
    "    val_losses.append(val_loss)\n",
    "\n",
    "    print(f'Epoch {epoch+1}, Train Loss: {train_loss}, Val Loss: {val_loss}')\n",
    "\n",
    "# Построение графика потерь\n",
    "plt.plot(range(1, 11), train_losses, label='Train Loss')\n",
    "plt.plot(range(1, 11), val_losses, label='Val Loss')\n",
    "plt.xlabel('Epoch')\n",
    "plt.ylabel('Loss')\n",
    "plt.legend()\n",
    "plt.show()\n"
   ]
  },
  {
   "cell_type": "code",
   "execution_count": 14,
   "id": "c7fd2916",
   "metadata": {
    "execution": {
     "iopub.execute_input": "2024-05-22T14:39:28.824150Z",
     "iopub.status.busy": "2024-05-22T14:39:28.823272Z",
     "iopub.status.idle": "2024-05-22T14:39:29.356440Z",
     "shell.execute_reply": "2024-05-22T14:39:29.354584Z"
    },
    "papermill": {
     "duration": 0.63176,
     "end_time": "2024-05-22T14:39:29.359392",
     "exception": false,
     "start_time": "2024-05-22T14:39:28.727632",
     "status": "completed"
    },
    "tags": []
   },
   "outputs": [
    {
     "name": "stdout",
     "output_type": "stream",
     "text": [
      "0.9537406780981204\n",
      "(0.9490007123364085, 0.9511158342189161, 0.9485130426504018, None)\n"
     ]
    },
    {
     "name": "stderr",
     "output_type": "stream",
     "text": [
      "/opt/conda/lib/python3.10/site-packages/sklearn/metrics/_classification.py:1344: UndefinedMetricWarning: Precision and F-score are ill-defined and being set to 0.0 in labels with no predicted samples. Use `zero_division` parameter to control this behavior.\n",
      "  _warn_prf(average, modifier, msg_start, len(result))\n"
     ]
    }
   ],
   "source": [
    "# Прогнозирование на тестовом наборе\n",
    "predictions = []\n",
    "with torch.no_grad():\n",
    "    for i, (input_ids, labels) in enumerate(test_loader):\n",
    "        input_ids = input_ids.float().to(device)\n",
    "\n",
    "        outputs = model(input_ids)\n",
    "        _, predicted = torch.max(outputs.data, 1)\n",
    "        predictions.extend(predicted.cpu().numpy())\n",
    "\n",
    "# Перевод меток обратно в исходные интенты\n",
    "predicted_intents = le.inverse_transform(predictions)\n",
    "\n",
    "print(balanced_accuracy_score(test_labels, predictions))\n",
    "print(precision_recall_fscore_support(test_labels, predictions, average = 'weighted'))\n"
   ]
  }
 ],
 "metadata": {
  "kaggle": {
   "accelerator": "none",
   "dataSources": [
    {
     "datasetId": 1549969,
     "sourceId": 2560015,
     "sourceType": "datasetVersion"
    }
   ],
   "dockerImageVersionId": 30698,
   "isGpuEnabled": false,
   "isInternetEnabled": true,
   "language": "python",
   "sourceType": "notebook"
  },
  "kernelspec": {
   "display_name": "Python 3",
   "language": "python",
   "name": "python3"
  },
  "language_info": {
   "codemirror_mode": {
    "name": "ipython",
    "version": 3
   },
   "file_extension": ".py",
   "mimetype": "text/x-python",
   "name": "python",
   "nbconvert_exporter": "python",
   "pygments_lexer": "ipython3",
   "version": "3.10.13"
  },
  "papermill": {
   "default_parameters": {},
   "duration": 197.141733,
   "end_time": "2024-05-22T14:39:31.813524",
   "environment_variables": {},
   "exception": null,
   "input_path": "__notebook__.ipynb",
   "output_path": "__notebook__.ipynb",
   "parameters": {},
   "start_time": "2024-05-22T14:36:14.671791",
   "version": "2.5.0"
  }
 },
 "nbformat": 4,
 "nbformat_minor": 5
}
