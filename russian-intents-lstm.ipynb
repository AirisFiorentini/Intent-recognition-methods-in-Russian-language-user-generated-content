{
 "cells": [
  {
   "cell_type": "code",
   "execution_count": 1,
   "id": "ad2f7cb6",
   "metadata": {
    "_cell_guid": "b1076dfc-b9ad-4769-8c92-a6c4dae69d19",
    "_uuid": "8f2839f25d086af736a60e9eeb907d3b93b6e0e5",
    "execution": {
     "iopub.execute_input": "2024-05-23T11:44:18.958451Z",
     "iopub.status.busy": "2024-05-23T11:44:18.957139Z",
     "iopub.status.idle": "2024-05-23T11:44:19.984088Z",
     "shell.execute_reply": "2024-05-23T11:44:19.982671Z"
    },
    "papermill": {
     "duration": 1.036071,
     "end_time": "2024-05-23T11:44:19.986574",
     "exception": false,
     "start_time": "2024-05-23T11:44:18.950503",
     "status": "completed"
    },
    "tags": []
   },
   "outputs": [
    {
     "name": "stdout",
     "output_type": "stream",
     "text": [
      "/kaggle/input/qa-intents-dataset-university-domain/dataset_test.tsv\n",
      "/kaggle/input/qa-intents-dataset-university-domain/labels_description.txt\n",
      "/kaggle/input/qa-intents-dataset-university-domain/dataset_train.tsv\n"
     ]
    }
   ],
   "source": [
    "import numpy as np # linear algebra\n",
    "import pandas as pd # data processing, CSV file I/O (e.g. pd.read_csv)\n",
    "\n",
    "import os\n",
    "for dirname, _, filenames in os.walk('/kaggle/input'):\n",
    "    for filename in filenames:\n",
    "        print(os.path.join(dirname, filename))"
   ]
  },
  {
   "cell_type": "code",
   "execution_count": 2,
   "id": "b19e0c3c",
   "metadata": {
    "execution": {
     "iopub.execute_input": "2024-05-23T11:44:19.998062Z",
     "iopub.status.busy": "2024-05-23T11:44:19.996955Z",
     "iopub.status.idle": "2024-05-23T11:44:26.132328Z",
     "shell.execute_reply": "2024-05-23T11:44:26.130949Z"
    },
    "papermill": {
     "duration": 6.143814,
     "end_time": "2024-05-23T11:44:26.135219",
     "exception": false,
     "start_time": "2024-05-23T11:44:19.991405",
     "status": "completed"
    },
    "tags": []
   },
   "outputs": [],
   "source": [
    "import nltk\n",
    "from nltk.tokenize import word_tokenize\n",
    "from sklearn.feature_extraction.text import TfidfVectorizer\n",
    "from sklearn.preprocessing import LabelEncoder\n",
    "from torch.utils.data import Dataset, DataLoader\n",
    "import torch\n",
    "from torch import nn"
   ]
  },
  {
   "cell_type": "code",
   "execution_count": 3,
   "id": "e3ddb93d",
   "metadata": {
    "execution": {
     "iopub.execute_input": "2024-05-23T11:44:26.146102Z",
     "iopub.status.busy": "2024-05-23T11:44:26.145546Z",
     "iopub.status.idle": "2024-05-23T11:44:26.332999Z",
     "shell.execute_reply": "2024-05-23T11:44:26.331914Z"
    },
    "papermill": {
     "duration": 0.195525,
     "end_time": "2024-05-23T11:44:26.335280",
     "exception": false,
     "start_time": "2024-05-23T11:44:26.139755",
     "status": "completed"
    },
    "tags": []
   },
   "outputs": [
    {
     "name": "stdout",
     "output_type": "stream",
     "text": [
      "[nltk_data] Downloading package punkt to /usr/share/nltk_data...\n",
      "[nltk_data]   Package punkt is already up-to-date!\n"
     ]
    },
    {
     "data": {
      "text/plain": [
       "True"
      ]
     },
     "execution_count": 3,
     "metadata": {},
     "output_type": "execute_result"
    }
   ],
   "source": [
    "import nltk\n",
    "from nltk.tokenize import word_tokenize\n",
    "from torch.utils.data import Dataset \n",
    "from sklearn.feature_extraction.text import TfidfVectorizer\n",
    "\n",
    "nltk.download('punkt')"
   ]
  },
  {
   "cell_type": "code",
   "execution_count": 4,
   "id": "f8a9156b",
   "metadata": {
    "execution": {
     "iopub.execute_input": "2024-05-23T11:44:26.347116Z",
     "iopub.status.busy": "2024-05-23T11:44:26.346010Z",
     "iopub.status.idle": "2024-05-23T11:44:26.351884Z",
     "shell.execute_reply": "2024-05-23T11:44:26.350552Z"
    },
    "papermill": {
     "duration": 0.01448,
     "end_time": "2024-05-23T11:44:26.354363",
     "exception": false,
     "start_time": "2024-05-23T11:44:26.339883",
     "status": "completed"
    },
    "tags": []
   },
   "outputs": [],
   "source": [
    "from sklearn.metrics import precision_recall_fscore_support, balanced_accuracy_score"
   ]
  },
  {
   "cell_type": "code",
   "execution_count": 5,
   "id": "395dac3e",
   "metadata": {
    "execution": {
     "iopub.execute_input": "2024-05-23T11:44:26.365115Z",
     "iopub.status.busy": "2024-05-23T11:44:26.364706Z",
     "iopub.status.idle": "2024-05-23T11:44:26.437264Z",
     "shell.execute_reply": "2024-05-23T11:44:26.436153Z"
    },
    "papermill": {
     "duration": 0.080799,
     "end_time": "2024-05-23T11:44:26.439754",
     "exception": false,
     "start_time": "2024-05-23T11:44:26.358955",
     "status": "completed"
    },
    "tags": []
   },
   "outputs": [
    {
     "data": {
      "text/html": [
       "<div>\n",
       "<style scoped>\n",
       "    .dataframe tbody tr th:only-of-type {\n",
       "        vertical-align: middle;\n",
       "    }\n",
       "\n",
       "    .dataframe tbody tr th {\n",
       "        vertical-align: top;\n",
       "    }\n",
       "\n",
       "    .dataframe thead th {\n",
       "        text-align: right;\n",
       "    }\n",
       "</style>\n",
       "<table border=\"1\" class=\"dataframe\">\n",
       "  <thead>\n",
       "    <tr style=\"text-align: right;\">\n",
       "      <th></th>\n",
       "      <th>text</th>\n",
       "      <th>intent</th>\n",
       "    </tr>\n",
       "  </thead>\n",
       "  <tbody>\n",
       "    <tr>\n",
       "      <th>0</th>\n",
       "      <td>мне нужна справка</td>\n",
       "      <td>statement_general</td>\n",
       "    </tr>\n",
       "    <tr>\n",
       "      <th>1</th>\n",
       "      <td>оформить справку</td>\n",
       "      <td>statement_general</td>\n",
       "    </tr>\n",
       "    <tr>\n",
       "      <th>2</th>\n",
       "      <td>взять справку</td>\n",
       "      <td>statement_general</td>\n",
       "    </tr>\n",
       "    <tr>\n",
       "      <th>3</th>\n",
       "      <td>справку как получить</td>\n",
       "      <td>statement_general</td>\n",
       "    </tr>\n",
       "    <tr>\n",
       "      <th>4</th>\n",
       "      <td>справку ммф где получаться</td>\n",
       "      <td>statement_general</td>\n",
       "    </tr>\n",
       "  </tbody>\n",
       "</table>\n",
       "</div>"
      ],
      "text/plain": [
       "                         text             intent\n",
       "0           мне нужна справка  statement_general\n",
       "1            оформить справку  statement_general\n",
       "2               взять справку  statement_general\n",
       "3        справку как получить  statement_general\n",
       "4  справку ммф где получаться  statement_general"
      ]
     },
     "execution_count": 5,
     "metadata": {},
     "output_type": "execute_result"
    }
   ],
   "source": [
    "train_data = pd.read_csv('../input/qa-intents-dataset-university-domain/dataset_train.tsv',delimiter='\\t',encoding=\"utf-8\",names=['text', 'intent'])\n",
    "test_data = pd.read_csv('../input/qa-intents-dataset-university-domain/dataset_test.tsv',delimiter='\\t',encoding=\"utf-8\",names=['text', 'intent'])\n",
    "train_data.head()"
   ]
  },
  {
   "cell_type": "code",
   "execution_count": 6,
   "id": "e871f17d",
   "metadata": {
    "execution": {
     "iopub.execute_input": "2024-05-23T11:44:26.450847Z",
     "iopub.status.busy": "2024-05-23T11:44:26.450415Z",
     "iopub.status.idle": "2024-05-23T11:44:26.461960Z",
     "shell.execute_reply": "2024-05-23T11:44:26.461037Z"
    },
    "papermill": {
     "duration": 0.019467,
     "end_time": "2024-05-23T11:44:26.464001",
     "exception": false,
     "start_time": "2024-05-23T11:44:26.444534",
     "status": "completed"
    },
    "tags": []
   },
   "outputs": [
    {
     "data": {
      "text/html": [
       "<div>\n",
       "<style scoped>\n",
       "    .dataframe tbody tr th:only-of-type {\n",
       "        vertical-align: middle;\n",
       "    }\n",
       "\n",
       "    .dataframe tbody tr th {\n",
       "        vertical-align: top;\n",
       "    }\n",
       "\n",
       "    .dataframe thead th {\n",
       "        text-align: right;\n",
       "    }\n",
       "</style>\n",
       "<table border=\"1\" class=\"dataframe\">\n",
       "  <thead>\n",
       "    <tr style=\"text-align: right;\">\n",
       "      <th></th>\n",
       "      <th>text</th>\n",
       "      <th>intent</th>\n",
       "    </tr>\n",
       "  </thead>\n",
       "  <tbody>\n",
       "    <tr>\n",
       "      <th>0</th>\n",
       "      <td>мне нужна справка</td>\n",
       "      <td>statement_general</td>\n",
       "    </tr>\n",
       "    <tr>\n",
       "      <th>1</th>\n",
       "      <td>оформить справку</td>\n",
       "      <td>statement_general</td>\n",
       "    </tr>\n",
       "    <tr>\n",
       "      <th>2</th>\n",
       "      <td>взять справку</td>\n",
       "      <td>statement_general</td>\n",
       "    </tr>\n",
       "    <tr>\n",
       "      <th>3</th>\n",
       "      <td>справку как получить</td>\n",
       "      <td>statement_general</td>\n",
       "    </tr>\n",
       "    <tr>\n",
       "      <th>4</th>\n",
       "      <td>справку ммф где получаться</td>\n",
       "      <td>statement_general</td>\n",
       "    </tr>\n",
       "  </tbody>\n",
       "</table>\n",
       "</div>"
      ],
      "text/plain": [
       "                         text             intent\n",
       "0           мне нужна справка  statement_general\n",
       "1            оформить справку  statement_general\n",
       "2               взять справку  statement_general\n",
       "3        справку как получить  statement_general\n",
       "4  справку ммф где получаться  statement_general"
      ]
     },
     "execution_count": 6,
     "metadata": {},
     "output_type": "execute_result"
    }
   ],
   "source": [
    "full_data = pd.concat([train_data, test_data])\n",
    "full_data.head()"
   ]
  },
  {
   "cell_type": "code",
   "execution_count": 7,
   "id": "57434374",
   "metadata": {
    "execution": {
     "iopub.execute_input": "2024-05-23T11:44:26.475650Z",
     "iopub.status.busy": "2024-05-23T11:44:26.475200Z",
     "iopub.status.idle": "2024-05-23T11:44:26.498567Z",
     "shell.execute_reply": "2024-05-23T11:44:26.497608Z"
    },
    "papermill": {
     "duration": 0.033363,
     "end_time": "2024-05-23T11:44:26.502299",
     "exception": false,
     "start_time": "2024-05-23T11:44:26.468936",
     "status": "completed"
    },
    "tags": []
   },
   "outputs": [
    {
     "name": "stdout",
     "output_type": "stream",
     "text": [
      "intent\n",
      "sched_teacher                8.582817\n",
      "sched_for_group              3.126661\n",
      "sched_for_group_day          3.046944\n",
      "wifi                         2.143490\n",
      "status_free                  2.037201\n",
      "                               ...   \n",
      "location_general             0.168291\n",
      "loc_nsu_cafeteria            0.168291\n",
      "student_trade_union_enter    0.159433\n",
      "loc_passport_office          0.159433\n",
      "staff_trade_union_enter      0.159433\n",
      "Name: proportion, Length: 142, dtype: float64\n"
     ]
    }
   ],
   "source": [
    "from sklearn.model_selection import train_test_split\n",
    "train, test = train_test_split(full_data, test_size=0.2, random_state=42)\n",
    "unique_values_normalized = train['intent'].value_counts(normalize=True)\n",
    "print(unique_values_normalized*100)"
   ]
  },
  {
   "cell_type": "code",
   "execution_count": 8,
   "id": "7dc0ad1c",
   "metadata": {
    "execution": {
     "iopub.execute_input": "2024-05-23T11:44:26.514316Z",
     "iopub.status.busy": "2024-05-23T11:44:26.513937Z",
     "iopub.status.idle": "2024-05-23T11:44:26.520048Z",
     "shell.execute_reply": "2024-05-23T11:44:26.518961Z"
    },
    "papermill": {
     "duration": 0.014775,
     "end_time": "2024-05-23T11:44:26.522305",
     "exception": false,
     "start_time": "2024-05-23T11:44:26.507530",
     "status": "completed"
    },
    "tags": []
   },
   "outputs": [],
   "source": [
    "class TextDataset(Dataset):\n",
    "    def __init__(self, texts, labels):\n",
    "        self.texts = texts\n",
    "        self.labels = labels\n",
    "\n",
    "    def __len__(self):\n",
    "        return len(self.texts)\n",
    "\n",
    "    def __getitem__(self, idx):\n",
    "        return self.texts[idx], self.labels[idx]"
   ]
  },
  {
   "cell_type": "code",
   "execution_count": 9,
   "id": "a4e25a6f",
   "metadata": {
    "execution": {
     "iopub.execute_input": "2024-05-23T11:44:26.534404Z",
     "iopub.status.busy": "2024-05-23T11:44:26.533988Z",
     "iopub.status.idle": "2024-05-23T11:44:26.541442Z",
     "shell.execute_reply": "2024-05-23T11:44:26.540193Z"
    },
    "papermill": {
     "duration": 0.016531,
     "end_time": "2024-05-23T11:44:26.543788",
     "exception": false,
     "start_time": "2024-05-23T11:44:26.527257",
     "status": "completed"
    },
    "tags": []
   },
   "outputs": [],
   "source": [
    "class LSTMClassifier(nn.Module):\n",
    "    def __init__(self, input_dim, hidden_dim, output_dim):\n",
    "        super().__init__()\n",
    "        self.lstm = nn.LSTM(input_dim, hidden_dim, batch_first=True)\n",
    "        self.fc = nn.Linear(hidden_dim, output_dim)\n",
    "\n",
    "    def forward(self, x):\n",
    "        x = x.unsqueeze(1)  # Добавление дополнительного измерения\n",
    "#         print(f'x shape: {x.shape}')\n",
    "        lstm_out, _ = self.lstm(x)\n",
    "        out = self.fc(lstm_out[:, -1, :])\n",
    "        return out"
   ]
  },
  {
   "cell_type": "code",
   "execution_count": 10,
   "id": "6c423b39",
   "metadata": {
    "execution": {
     "iopub.execute_input": "2024-05-23T11:44:26.555614Z",
     "iopub.status.busy": "2024-05-23T11:44:26.555181Z",
     "iopub.status.idle": "2024-05-23T11:44:26.570292Z",
     "shell.execute_reply": "2024-05-23T11:44:26.569435Z"
    },
    "papermill": {
     "duration": 0.023676,
     "end_time": "2024-05-23T11:44:26.572516",
     "exception": false,
     "start_time": "2024-05-23T11:44:26.548840",
     "status": "completed"
    },
    "tags": []
   },
   "outputs": [],
   "source": [
    "# !\n",
    "from sklearn.preprocessing import LabelEncoder\n",
    "\n",
    "# Создание LabelEncoder\n",
    "le = LabelEncoder()\n",
    "\n",
    "# Подготовка данных\n",
    "full_data = pd.concat([train_data, test_data])\n",
    "train, test = train_test_split(full_data, test_size=0.2, random_state=42)\n",
    "\n",
    "# Преобразование меток в числовые значения\n",
    "train_labels = le.fit_transform(train['intent'])\n",
    "test_labels = le.transform(test['intent'])\n",
    "\n",
    "# # Токенизация и преобразование в TF-IDF\n",
    "# tokenizer = word_tokenize\n",
    "# vectorizer = TfidfVectorizer(tokenizer=tokenizer, stop_words='english')\n",
    "\n",
    "# train_texts = vectorizer.fit_transform(train['text']).toarray()\n",
    "# test_texts = vectorizer.transform(test['text']).toarray()\n",
    "\n",
    "# # Преобразование массивов numpy в тензоры PyTorch перед передачей в TextDataset\n",
    "# train_dataset = TextDataset(torch.from_numpy(train_texts), train_labels)\n",
    "# test_dataset = TextDataset(torch.from_numpy(test_texts), test_labels)\n"
   ]
  },
  {
   "cell_type": "code",
   "execution_count": 11,
   "id": "6b677b27",
   "metadata": {
    "execution": {
     "iopub.execute_input": "2024-05-23T11:44:26.584307Z",
     "iopub.status.busy": "2024-05-23T11:44:26.583923Z",
     "iopub.status.idle": "2024-05-23T11:44:28.366404Z",
     "shell.execute_reply": "2024-05-23T11:44:28.365204Z"
    },
    "papermill": {
     "duration": 1.791282,
     "end_time": "2024-05-23T11:44:28.368898",
     "exception": false,
     "start_time": "2024-05-23T11:44:26.577616",
     "status": "completed"
    },
    "tags": []
   },
   "outputs": [
    {
     "name": "stderr",
     "output_type": "stream",
     "text": [
      "/opt/conda/lib/python3.10/site-packages/sklearn/feature_extraction/text.py:528: UserWarning: The parameter 'token_pattern' will not be used since 'tokenizer' is not None'\n",
      "  warnings.warn(\n"
     ]
    }
   ],
   "source": [
    "# Токенизация и преобразование в TF-IDF\n",
    "tokenizer = word_tokenize\n",
    "vectorizer = TfidfVectorizer(tokenizer=tokenizer)\n",
    "\n",
    "train_texts = vectorizer.fit_transform(train['text']).toarray()\n",
    "test_texts = vectorizer.transform(test['text']).toarray()\n",
    "\n",
    "# Преобразование массивов numpy в тензоры PyTorch перед передачей в TextDataset\n",
    "train_dataset = TextDataset(torch.from_numpy(train_texts), train_labels)\n",
    "test_dataset = TextDataset(torch.from_numpy(test_texts), test_labels)\n"
   ]
  },
  {
   "cell_type": "code",
   "execution_count": 12,
   "id": "af28e40d",
   "metadata": {
    "execution": {
     "iopub.execute_input": "2024-05-23T11:44:28.381135Z",
     "iopub.status.busy": "2024-05-23T11:44:28.380720Z",
     "iopub.status.idle": "2024-05-23T11:44:28.388252Z",
     "shell.execute_reply": "2024-05-23T11:44:28.386923Z"
    },
    "papermill": {
     "duration": 0.01638,
     "end_time": "2024-05-23T11:44:28.390591",
     "exception": false,
     "start_time": "2024-05-23T11:44:28.374211",
     "status": "completed"
    },
    "tags": []
   },
   "outputs": [],
   "source": [
    "# Подготовка данных\n",
    "# full_data = pd.concat([train_data, test_data])\n",
    "# train, test = train_test_split(full_data, test_size=0.2, random_state=42)\n",
    "\n",
    "# le = LabelEncoder()\n",
    "# train_labels = le.fit_transform(train['intent'])\n",
    "# test_labels = le.transform(test['intent'])\n",
    "\n",
    "train_loader = DataLoader(train_dataset, batch_size=32, shuffle=True)\n",
    "test_loader = DataLoader(test_dataset, batch_size=32)\n"
   ]
  },
  {
   "cell_type": "code",
   "execution_count": 13,
   "id": "34668116",
   "metadata": {
    "execution": {
     "iopub.execute_input": "2024-05-23T11:44:28.402602Z",
     "iopub.status.busy": "2024-05-23T11:44:28.402030Z",
     "iopub.status.idle": "2024-05-23T11:48:21.743533Z",
     "shell.execute_reply": "2024-05-23T11:48:21.742253Z"
    },
    "papermill": {
     "duration": 233.350483,
     "end_time": "2024-05-23T11:48:21.746170",
     "exception": false,
     "start_time": "2024-05-23T11:44:28.395687",
     "status": "completed"
    },
    "tags": []
   },
   "outputs": [
    {
     "name": "stderr",
     "output_type": "stream",
     "text": [
      "100%|██████████| 353/353 [00:24<00:00, 14.55it/s]\n",
      "100%|██████████| 89/89 [00:00<00:00, 156.77it/s]\n"
     ]
    },
    {
     "name": "stdout",
     "output_type": "stream",
     "text": [
      "Epoch 1, Train Loss: 3.762012464466581, Val Loss: 1.9905650649177895\n"
     ]
    },
    {
     "name": "stderr",
     "output_type": "stream",
     "text": [
      "100%|██████████| 353/353 [00:21<00:00, 16.55it/s]\n",
      "100%|██████████| 89/89 [00:00<00:00, 166.49it/s]\n"
     ]
    },
    {
     "name": "stdout",
     "output_type": "stream",
     "text": [
      "Epoch 2, Train Loss: 0.9644932008583215, Val Loss: 0.42200039980116855\n"
     ]
    },
    {
     "name": "stderr",
     "output_type": "stream",
     "text": [
      "100%|██████████| 353/353 [00:21<00:00, 16.05it/s]\n",
      "100%|██████████| 89/89 [00:00<00:00, 161.98it/s]\n"
     ]
    },
    {
     "name": "stdout",
     "output_type": "stream",
     "text": [
      "Epoch 3, Train Loss: 0.26498753523649304, Val Loss: 0.19421887950281078\n"
     ]
    },
    {
     "name": "stderr",
     "output_type": "stream",
     "text": [
      "100%|██████████| 353/353 [00:22<00:00, 16.01it/s]\n",
      "100%|██████████| 89/89 [00:00<00:00, 163.37it/s]\n"
     ]
    },
    {
     "name": "stdout",
     "output_type": "stream",
     "text": [
      "Epoch 4, Train Loss: 0.14985606370878962, Val Loss: 0.1476608639101634\n"
     ]
    },
    {
     "name": "stderr",
     "output_type": "stream",
     "text": [
      "100%|██████████| 353/353 [00:22<00:00, 15.50it/s]\n",
      "100%|██████████| 89/89 [00:00<00:00, 164.53it/s]\n"
     ]
    },
    {
     "name": "stdout",
     "output_type": "stream",
     "text": [
      "Epoch 5, Train Loss: 0.11706688297548393, Val Loss: 0.1318985675199983\n"
     ]
    },
    {
     "name": "stderr",
     "output_type": "stream",
     "text": [
      "100%|██████████| 353/353 [00:22<00:00, 15.86it/s]\n",
      "100%|██████████| 89/89 [00:00<00:00, 157.10it/s]\n"
     ]
    },
    {
     "name": "stdout",
     "output_type": "stream",
     "text": [
      "Epoch 6, Train Loss: 0.10332280550964662, Val Loss: 0.12595792298906305\n"
     ]
    },
    {
     "name": "stderr",
     "output_type": "stream",
     "text": [
      "100%|██████████| 353/353 [00:22<00:00, 15.86it/s]\n",
      "100%|██████████| 89/89 [00:00<00:00, 160.79it/s]\n"
     ]
    },
    {
     "name": "stdout",
     "output_type": "stream",
     "text": [
      "Epoch 7, Train Loss: 0.0967298823688443, Val Loss: 0.1225703859785467\n"
     ]
    },
    {
     "name": "stderr",
     "output_type": "stream",
     "text": [
      "100%|██████████| 353/353 [00:22<00:00, 15.72it/s]\n",
      "100%|██████████| 89/89 [00:00<00:00, 158.10it/s]\n"
     ]
    },
    {
     "name": "stdout",
     "output_type": "stream",
     "text": [
      "Epoch 8, Train Loss: 0.09307793947200557, Val Loss: 0.1210257487863386\n"
     ]
    },
    {
     "name": "stderr",
     "output_type": "stream",
     "text": [
      "100%|██████████| 353/353 [00:22<00:00, 15.92it/s]\n",
      "100%|██████████| 89/89 [00:00<00:00, 165.74it/s]\n"
     ]
    },
    {
     "name": "stdout",
     "output_type": "stream",
     "text": [
      "Epoch 9, Train Loss: 0.09051145838010297, Val Loss: 0.12074560930512929\n"
     ]
    },
    {
     "name": "stderr",
     "output_type": "stream",
     "text": [
      "100%|██████████| 353/353 [00:22<00:00, 15.37it/s]\n",
      "100%|██████████| 89/89 [00:00<00:00, 162.50it/s]\n"
     ]
    },
    {
     "name": "stdout",
     "output_type": "stream",
     "text": [
      "Epoch 10, Train Loss: 0.08897625488458628, Val Loss: 0.1201369918364864\n"
     ]
    },
    {
     "data": {
      "image/png": "[encoded data removed]",
      "text/plain": [
       "<Figure size 640x480 with 1 Axes>"
      ]
     },
     "metadata": {},
     "output_type": "display_data"
    }
   ],
   "source": [
    "from tqdm import tqdm\n",
    "import matplotlib.pyplot as plt\n",
    "\n",
    "# Создание и обучение модели\n",
    "model = LSTMClassifier(input_dim=train_texts.shape[1], hidden_dim=256, output_dim=len(le.classes_))\n",
    "\n",
    "# Перемещение модели на GPU, если он доступен\n",
    "device = torch.device('cuda' if torch.cuda.is_available() else 'cpu')\n",
    "model = model.to(device)\n",
    "\n",
    "criterion = nn.CrossEntropyLoss()\n",
    "optimizer = torch.optim.Adam(model.parameters(), lr=0.001)\n",
    "\n",
    "train_losses = []\n",
    "val_losses = []\n",
    "\n",
    "for epoch in range(10):\n",
    "    train_loss = 0\n",
    "    val_loss = 0\n",
    "    # Обучение\n",
    "    model.train()\n",
    "    for i, (texts, labels) in enumerate(tqdm(train_loader)):\n",
    "        # Перемещение данных на тот же устройство, что и модель\n",
    "        texts = texts.float().to(device)\n",
    "        labels = labels.to(device)\n",
    "\n",
    "        outputs = model(texts)\n",
    "        loss = criterion(outputs, labels)\n",
    "\n",
    "        optimizer.zero_grad()\n",
    "        loss.backward()\n",
    "        optimizer.step()\n",
    "\n",
    "        train_loss += loss.item()\n",
    "\n",
    "    # Валидация\n",
    "    model.eval()\n",
    "    with torch.no_grad():\n",
    "        for i, (texts, labels) in enumerate(tqdm(test_loader)):\n",
    "            texts = texts.float().to(device)\n",
    "            labels = labels.to(device)\n",
    "\n",
    "            outputs = model(texts)\n",
    "            loss = criterion(outputs, labels)\n",
    "\n",
    "            val_loss += loss.item()\n",
    "\n",
    "    train_loss /= len(train_loader)\n",
    "    val_loss /= len(test_loader)\n",
    "    train_losses.append(train_loss)\n",
    "    val_losses.append(val_loss)\n",
    "\n",
    "    print(f'Epoch {epoch+1}, Train Loss: {train_loss}, Val Loss: {val_loss}')\n",
    "\n",
    "# Построение графика потерь\n",
    "plt.plot(range(1, 11), train_losses, label='Train Loss')\n",
    "plt.plot(range(1, 11), val_losses, label='Val Loss')\n",
    "plt.xlabel('Epoch')\n",
    "plt.ylabel('Loss')\n",
    "plt.legend()\n",
    "plt.show()\n"
   ]
  },
  {
   "cell_type": "code",
   "execution_count": 14,
   "id": "09150efb",
   "metadata": {
    "execution": {
     "iopub.execute_input": "2024-05-23T11:48:22.001177Z",
     "iopub.status.busy": "2024-05-23T11:48:22.000564Z",
     "iopub.status.idle": "2024-05-23T11:48:22.551570Z",
     "shell.execute_reply": "2024-05-23T11:48:22.550474Z"
    },
    "papermill": {
     "duration": 0.679875,
     "end_time": "2024-05-23T11:48:22.554541",
     "exception": false,
     "start_time": "2024-05-23T11:48:21.874666",
     "status": "completed"
    },
    "tags": []
   },
   "outputs": [
    {
     "name": "stdout",
     "output_type": "stream",
     "text": [
      "0.9527577155454766\n",
      "(0.9499178368191363, 0.9518243003896564, 0.9496336133947143, None)\n"
     ]
    },
    {
     "name": "stderr",
     "output_type": "stream",
     "text": [
      "/opt/conda/lib/python3.10/site-packages/sklearn/metrics/_classification.py:1344: UndefinedMetricWarning: Precision and F-score are ill-defined and being set to 0.0 in labels with no predicted samples. Use `zero_division` parameter to control this behavior.\n",
      "  _warn_prf(average, modifier, msg_start, len(result))\n"
     ]
    }
   ],
   "source": [
    "# Прогнозирование на тестовом наборе\n",
    "predictions = []\n",
    "with torch.no_grad():\n",
    "    for i, (input_ids, labels) in enumerate(test_loader):\n",
    "        input_ids = input_ids.float().to(device)\n",
    "\n",
    "        outputs = model(input_ids)\n",
    "        _, predicted = torch.max(outputs.data, 1)\n",
    "        predictions.extend(predicted.cpu().numpy())\n",
    "\n",
    "# Перевод меток обратно в исходные интенты\n",
    "predicted_intents = le.inverse_transform(predictions)\n",
    "\n",
    "print(balanced_accuracy_score(test_labels, predictions))\n",
    "print(precision_recall_fscore_support(test_labels, predictions, average = 'weighted'))"
   ]
  }
 ],
 "metadata": {
  "kaggle": {
   "accelerator": "none",
   "dataSources": [
    {
     "datasetId": 1549969,
     "sourceId": 2560015,
     "sourceType": "datasetVersion"
    }
   ],
   "dockerImageVersionId": 30698,
   "isGpuEnabled": false,
   "isInternetEnabled": true,
   "language": "python",
   "sourceType": "notebook"
  },
  "kernelspec": {
   "display_name": "Python 3",
   "language": "python",
   "name": "python3"
  },
  "language_info": {
   "codemirror_mode": {
    "name": "ipython",
    "version": 3
   },
   "file_extension": ".py",
   "mimetype": "text/x-python",
   "name": "python",
   "nbconvert_exporter": "python",
   "pygments_lexer": "ipython3",
   "version": "3.10.13"
  },
  "papermill": {
   "default_parameters": {},
   "duration": 248.227652,
   "end_time": "2024-05-23T11:48:24.207504",
   "environment_variables": {},
   "exception": null,
   "input_path": "__notebook__.ipynb",
   "output_path": "__notebook__.ipynb",
   "parameters": {},
   "start_time": "2024-05-23T11:44:15.979852",
   "version": "2.5.0"
  }
 },
 "nbformat": 4,
 "nbformat_minor": 5
}
