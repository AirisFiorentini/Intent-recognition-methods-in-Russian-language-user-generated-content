{
  "nbformat": 4,
  "nbformat_minor": 0,
  "metadata": {
    "colab": {
      "provenance": [],
      "authorship_tag": "ABX9TyO7sS69r3MvU97hFFqFLGUT"
    },
    "kernelspec": {
      "name": "python3",
      "display_name": "Python 3"
    },
    "language_info": {
      "name": "python"
    }
  },
  "cells": [
    {
      "cell_type": "code",
      "source": [
        "from google.colab import drive\n",
        "import os\n",
        "import glob\n",
        "import json\n",
        "import pandas as pd\n",
        "import chardet\n"
      ],
      "metadata": {
        "id": "3aX7gtIeJY7o"
      },
      "execution_count": 20,
      "outputs": []
    },
    {
      "cell_type": "code",
      "source": [
        "# Монтирование Google Drive\n",
        "drive.mount('/content/drive')\n",
        "\n",
        "# Путь к папке с данными\n",
        "data_folder = \"/content/drive/MyDrive/Colab Notebooks/SNIPS_dataset\"\n",
        "\n",
        "# Получаем список всех папок в каталоге данных\n",
        "folders = [f for f in glob.glob(data_folder + \"/*/\", recursive=False)]\n"
      ],
      "metadata": {
        "colab": {
          "base_uri": "https://localhost:8080/"
        },
        "id": "Yu4r4y3DJbSn",
        "outputId": "c4271dd5-f475-4399-c5cd-dc8623ad3878"
      },
      "execution_count": 21,
      "outputs": [
        {
          "output_type": "stream",
          "name": "stdout",
          "text": [
            "Drive already mounted at /content/drive; to attempt to forcibly remount, call drive.mount(\"/content/drive\", force_remount=True).\n"
          ]
        }
      ]
    },
    {
      "cell_type": "code",
      "source": [
        "print(folders)"
      ],
      "metadata": {
        "colab": {
          "base_uri": "https://localhost:8080/"
        },
        "id": "GRB9_VpW20LD",
        "outputId": "6bf5838e-84cb-4a48-9888-605ea0f9c9c1"
      },
      "execution_count": 22,
      "outputs": [
        {
          "output_type": "stream",
          "name": "stdout",
          "text": [
            "['/content/drive/MyDrive/Colab Notebooks/SNIPS_dataset/SearchCreativeWork/', '/content/drive/MyDrive/Colab Notebooks/SNIPS_dataset/SearchScreeningEvent/', '/content/drive/MyDrive/Colab Notebooks/SNIPS_dataset/GetWeather/', '/content/drive/MyDrive/Colab Notebooks/SNIPS_dataset/AddToPlaylist/', '/content/drive/MyDrive/Colab Notebooks/SNIPS_dataset/RateBook/', '/content/drive/MyDrive/Colab Notebooks/SNIPS_dataset/BookRestaurant/', '/content/drive/MyDrive/Colab Notebooks/SNIPS_dataset/PlayMusic/']\n"
          ]
        }
      ]
    },
    {
      "cell_type": "code",
      "source": [
        "from google.colab import drive\n",
        "import os\n",
        "\n",
        "# Монтирование Google Drive\n",
        "drive.mount('/content/drive')\n",
        "\n",
        "# Путь к папке с данными\n",
        "data_folder = \"/content/drive/MyDrive/Colab Notebooks/SNIPS_dataset\"\n",
        "\n",
        "# Получаем список всех папок в каталоге данных\n",
        "folders = [folder[0] for folder in os.walk(data_folder)]\n",
        "\n",
        "print(folders)\n"
      ],
      "metadata": {
        "colab": {
          "base_uri": "https://localhost:8080/"
        },
        "id": "rQNjYf8GO4Rl",
        "outputId": "f9d2482e-2098-4557-9977-7439fecbdb5d"
      },
      "execution_count": 23,
      "outputs": [
        {
          "output_type": "stream",
          "name": "stdout",
          "text": [
            "Drive already mounted at /content/drive; to attempt to forcibly remount, call drive.mount(\"/content/drive\", force_remount=True).\n",
            "['/content/drive/MyDrive/Colab Notebooks/SNIPS_dataset', '/content/drive/MyDrive/Colab Notebooks/SNIPS_dataset/SearchCreativeWork', '/content/drive/MyDrive/Colab Notebooks/SNIPS_dataset/SearchScreeningEvent', '/content/drive/MyDrive/Colab Notebooks/SNIPS_dataset/GetWeather', '/content/drive/MyDrive/Colab Notebooks/SNIPS_dataset/AddToPlaylist', '/content/drive/MyDrive/Colab Notebooks/SNIPS_dataset/RateBook', '/content/drive/MyDrive/Colab Notebooks/SNIPS_dataset/BookRestaurant', '/content/drive/MyDrive/Colab Notebooks/SNIPS_dataset/PlayMusic']\n"
          ]
        }
      ]
    },
    {
      "cell_type": "code",
      "source": [
        "# Получаем список всех json файлов в каталоге данных\n",
        "json_files = [f for f in glob.glob(data_folder + \"**/*\", recursive=True)]\n",
        "\n",
        "# Выводим список всех файлов\n",
        "for json_file in json_files:\n",
        "\n",
        "    print(\"smth\", json_file)\n"
      ],
      "metadata": {
        "colab": {
          "base_uri": "https://localhost:8080/"
        },
        "id": "tBQJaw5sSCJY",
        "outputId": "726a56ee-f4e0-4d81-8410-f23f15dcaa84"
      },
      "execution_count": 24,
      "outputs": [
        {
          "output_type": "stream",
          "name": "stdout",
          "text": [
            "smth /content/drive/MyDrive/Colab Notebooks/SNIPS_dataset/SearchCreativeWork\n",
            "smth /content/drive/MyDrive/Colab Notebooks/SNIPS_dataset/SearchScreeningEvent\n",
            "smth /content/drive/MyDrive/Colab Notebooks/SNIPS_dataset/GetWeather\n",
            "smth /content/drive/MyDrive/Colab Notebooks/SNIPS_dataset/AddToPlaylist\n",
            "smth /content/drive/MyDrive/Colab Notebooks/SNIPS_dataset/RateBook\n",
            "smth /content/drive/MyDrive/Colab Notebooks/SNIPS_dataset/BookRestaurant\n",
            "smth /content/drive/MyDrive/Colab Notebooks/SNIPS_dataset/PlayMusic\n"
          ]
        }
      ]
    },
    {
      "cell_type": "code",
      "source": [
        "import glob\n",
        "\n",
        "# Цикл по всем папкам\n",
        "for folder in folders:\n",
        "    # Получаем список всех json файлов в текущей папке\n",
        "    json_files = [f for f in glob.glob(folder + \"/*.json\")]\n",
        "\n",
        "    # Выводим список всех файлов в текущей папке\n",
        "    print(f\"В папке {folder} найдены следующие файлы:\")\n",
        "    for json_file in json_files:\n",
        "        print(json_file)\n"
      ],
      "metadata": {
        "colab": {
          "base_uri": "https://localhost:8080/"
        },
        "id": "aces4sHG3t3L",
        "outputId": "6900e3eb-5007-4360-9846-3e86cf5d6f27"
      },
      "execution_count": 27,
      "outputs": [
        {
          "output_type": "stream",
          "name": "stdout",
          "text": [
            "В папке /content/drive/MyDrive/Colab Notebooks/SNIPS_dataset найдены следующие файлы:\n",
            "В папке /content/drive/MyDrive/Colab Notebooks/SNIPS_dataset/SearchCreativeWork найдены следующие файлы:\n",
            "/content/drive/MyDrive/Colab Notebooks/SNIPS_dataset/SearchCreativeWork/train_SearchCreativeWork.json\n",
            "/content/drive/MyDrive/Colab Notebooks/SNIPS_dataset/SearchCreativeWork/validate_SearchCreativeWork.json\n",
            "/content/drive/MyDrive/Colab Notebooks/SNIPS_dataset/SearchCreativeWork/train_SearchCreativeWork_full.json\n",
            "В папке /content/drive/MyDrive/Colab Notebooks/SNIPS_dataset/SearchScreeningEvent найдены следующие файлы:\n",
            "/content/drive/MyDrive/Colab Notebooks/SNIPS_dataset/SearchScreeningEvent/validate_SearchScreeningEvent.json\n",
            "/content/drive/MyDrive/Colab Notebooks/SNIPS_dataset/SearchScreeningEvent/train_SearchScreeningEvent_full.json\n",
            "/content/drive/MyDrive/Colab Notebooks/SNIPS_dataset/SearchScreeningEvent/train_SearchScreeningEvent.json\n",
            "В папке /content/drive/MyDrive/Colab Notebooks/SNIPS_dataset/GetWeather найдены следующие файлы:\n",
            "/content/drive/MyDrive/Colab Notebooks/SNIPS_dataset/GetWeather/train_GetWeather_full.json\n",
            "/content/drive/MyDrive/Colab Notebooks/SNIPS_dataset/GetWeather/validate_GetWeather.json\n",
            "/content/drive/MyDrive/Colab Notebooks/SNIPS_dataset/GetWeather/train_GetWeather.json\n",
            "В папке /content/drive/MyDrive/Colab Notebooks/SNIPS_dataset/AddToPlaylist найдены следующие файлы:\n",
            "/content/drive/MyDrive/Colab Notebooks/SNIPS_dataset/AddToPlaylist/validate_AddToPlaylist.json\n",
            "/content/drive/MyDrive/Colab Notebooks/SNIPS_dataset/AddToPlaylist/train_AddToPlaylist.json\n",
            "/content/drive/MyDrive/Colab Notebooks/SNIPS_dataset/AddToPlaylist/train_AddToPlaylist_full.json\n",
            "В папке /content/drive/MyDrive/Colab Notebooks/SNIPS_dataset/RateBook найдены следующие файлы:\n",
            "/content/drive/MyDrive/Colab Notebooks/SNIPS_dataset/RateBook/train_RateBook.json\n",
            "/content/drive/MyDrive/Colab Notebooks/SNIPS_dataset/RateBook/validate_RateBook.json\n",
            "/content/drive/MyDrive/Colab Notebooks/SNIPS_dataset/RateBook/train_RateBook_full.json\n",
            "В папке /content/drive/MyDrive/Colab Notebooks/SNIPS_dataset/BookRestaurant найдены следующие файлы:\n",
            "/content/drive/MyDrive/Colab Notebooks/SNIPS_dataset/BookRestaurant/validate_BookRestaurant.json\n",
            "/content/drive/MyDrive/Colab Notebooks/SNIPS_dataset/BookRestaurant/train_BookRestaurant.json\n",
            "/content/drive/MyDrive/Colab Notebooks/SNIPS_dataset/BookRestaurant/train_BookRestaurant_full.json\n",
            "В папке /content/drive/MyDrive/Colab Notebooks/SNIPS_dataset/PlayMusic найдены следующие файлы:\n",
            "/content/drive/MyDrive/Colab Notebooks/SNIPS_dataset/PlayMusic/train_PlayMusic_full.json\n",
            "/content/drive/MyDrive/Colab Notebooks/SNIPS_dataset/PlayMusic/train_PlayMusic.json\n",
            "/content/drive/MyDrive/Colab Notebooks/SNIPS_dataset/PlayMusic/validate_PlayMusic.json\n"
          ]
        }
      ]
    },
    {
      "cell_type": "code",
      "source": [
        "# Создаем словари для хранения обучающих и валидационных данных\n",
        "train_data = []\n",
        "validate_data = []\n",
        "\n",
        "# Цикл по всем папкам\n",
        "for folder in folders:\n",
        "    # Получаем список всех json файлов в текущей папке\n",
        "    json_files = [f for f in glob.glob(folder + \"/*.json\")]\n",
        "\n",
        "    # Цикл по всем json файлам в текущей папке\n",
        "    for json_file in json_files:\n",
        "        print(json_file)\n",
        "        # Открываем файл и загружаем данные\n",
        "        with open(json_file, 'rb') as f:\n",
        "            result = chardet.detect(f.read())\n",
        "            print(result)\n",
        "\n",
        "        with open(json_file, 'r', encoding = result['encoding']) as f:\n",
        "            data = json.load(f)\n",
        "\n",
        "        # Извлечение данных и преобразование их в DataFrame\n",
        "        rows = []\n",
        "        for item in data[next(iter(data))]:  # Используем next(iter(data)) для получения первого ключа в словаре\n",
        "            for subitem in item['data']:\n",
        "                row = {'text': subitem['text']}\n",
        "                if 'entity' in subitem:\n",
        "                    row['entity'] = subitem['entity']\n",
        "                else:\n",
        "                    row['entity'] = None\n",
        "                rows.append(row)\n",
        "\n",
        "        df = pd.DataFrame(rows)\n",
        "\n",
        "        # Добавляем столбец с интентом\n",
        "        df['intent'] = os.path.basename(json_file).split('_')[1].split('.')[0]\n",
        "\n",
        "        # Если имя файла начинается с 'validate_', сохраняем данные в списке validate_data\n",
        "        if os.path.basename(json_file).startswith('validate_'):\n",
        "            validate_data.append(df)\n",
        "        else:  # Иначе сохраняем данные в списке train_data\n",
        "            train_data.append(df)\n",
        "\n",
        "# Объединяем все DataFrame в списке в один DataFrame\n",
        "train_data = pd.concat(train_data, ignore_index=True)\n",
        "validate_data = pd.concat(validate_data, ignore_index=True)\n",
        "\n",
        "# Выводим первые 5 строк каждого DataFrame\n",
        "print(\"Train data:\")\n",
        "print(train_data.head())\n",
        "print(\"\\nValidate data:\")\n",
        "print(validate_data.head())\n"
      ],
      "metadata": {
        "colab": {
          "base_uri": "https://localhost:8080/"
        },
        "id": "dRUKrK9eRhTF",
        "outputId": "87412e8d-7bf0-486e-fc67-397848f9b7e4"
      },
      "execution_count": 29,
      "outputs": [
        {
          "output_type": "stream",
          "name": "stdout",
          "text": [
            "/content/drive/MyDrive/Colab Notebooks/SNIPS_dataset/SearchCreativeWork/train_SearchCreativeWork.json\n",
            "{'encoding': 'utf-8', 'confidence': 0.99, 'language': ''}\n",
            "/content/drive/MyDrive/Colab Notebooks/SNIPS_dataset/SearchCreativeWork/validate_SearchCreativeWork.json\n",
            "{'encoding': 'Windows-1252', 'confidence': 0.73, 'language': ''}\n",
            "/content/drive/MyDrive/Colab Notebooks/SNIPS_dataset/SearchCreativeWork/train_SearchCreativeWork_full.json\n",
            "{'encoding': 'ascii', 'confidence': 1.0, 'language': ''}\n",
            "/content/drive/MyDrive/Colab Notebooks/SNIPS_dataset/SearchScreeningEvent/validate_SearchScreeningEvent.json\n",
            "{'encoding': 'Windows-1252', 'confidence': 0.73, 'language': ''}\n",
            "/content/drive/MyDrive/Colab Notebooks/SNIPS_dataset/SearchScreeningEvent/train_SearchScreeningEvent_full.json\n",
            "{'encoding': 'ascii', 'confidence': 1.0, 'language': ''}\n",
            "/content/drive/MyDrive/Colab Notebooks/SNIPS_dataset/SearchScreeningEvent/train_SearchScreeningEvent.json\n",
            "{'encoding': 'utf-8', 'confidence': 0.938125, 'language': ''}\n",
            "/content/drive/MyDrive/Colab Notebooks/SNIPS_dataset/GetWeather/train_GetWeather_full.json\n",
            "{'encoding': 'utf-8', 'confidence': 0.99, 'language': ''}\n",
            "/content/drive/MyDrive/Colab Notebooks/SNIPS_dataset/GetWeather/validate_GetWeather.json\n",
            "{'encoding': 'utf-8', 'confidence': 0.7525, 'language': ''}\n",
            "/content/drive/MyDrive/Colab Notebooks/SNIPS_dataset/GetWeather/train_GetWeather.json\n",
            "{'encoding': 'utf-8', 'confidence': 0.87625, 'language': ''}\n",
            "/content/drive/MyDrive/Colab Notebooks/SNIPS_dataset/AddToPlaylist/validate_AddToPlaylist.json\n",
            "{'encoding': 'utf-8', 'confidence': 0.99, 'language': ''}\n",
            "/content/drive/MyDrive/Colab Notebooks/SNIPS_dataset/AddToPlaylist/train_AddToPlaylist.json\n",
            "{'encoding': 'utf-8', 'confidence': 0.99, 'language': ''}\n",
            "/content/drive/MyDrive/Colab Notebooks/SNIPS_dataset/AddToPlaylist/train_AddToPlaylist_full.json\n",
            "{'encoding': 'utf-8', 'confidence': 0.99, 'language': ''}\n",
            "/content/drive/MyDrive/Colab Notebooks/SNIPS_dataset/RateBook/train_RateBook.json\n",
            "{'encoding': 'ascii', 'confidence': 1.0, 'language': ''}\n",
            "/content/drive/MyDrive/Colab Notebooks/SNIPS_dataset/RateBook/validate_RateBook.json\n",
            "{'encoding': 'ascii', 'confidence': 1.0, 'language': ''}\n",
            "/content/drive/MyDrive/Colab Notebooks/SNIPS_dataset/RateBook/train_RateBook_full.json\n",
            "{'encoding': 'ascii', 'confidence': 1.0, 'language': ''}\n",
            "/content/drive/MyDrive/Colab Notebooks/SNIPS_dataset/BookRestaurant/validate_BookRestaurant.json\n",
            "{'encoding': 'Windows-1252', 'confidence': 0.73, 'language': ''}\n",
            "/content/drive/MyDrive/Colab Notebooks/SNIPS_dataset/BookRestaurant/train_BookRestaurant.json\n",
            "{'encoding': 'utf-8', 'confidence': 0.7525, 'language': ''}\n",
            "/content/drive/MyDrive/Colab Notebooks/SNIPS_dataset/BookRestaurant/train_BookRestaurant_full.json\n",
            "{'encoding': 'utf-8', 'confidence': 0.99, 'language': ''}\n",
            "/content/drive/MyDrive/Colab Notebooks/SNIPS_dataset/PlayMusic/train_PlayMusic_full.json\n",
            "{'encoding': 'MacRoman', 'confidence': 0.7299664915977274, 'language': ''}\n",
            "/content/drive/MyDrive/Colab Notebooks/SNIPS_dataset/PlayMusic/train_PlayMusic.json\n",
            "{'encoding': 'utf-8', 'confidence': 0.938125, 'language': ''}\n",
            "/content/drive/MyDrive/Colab Notebooks/SNIPS_dataset/PlayMusic/validate_PlayMusic.json\n",
            "{'encoding': 'utf-8', 'confidence': 0.7525, 'language': ''}\n",
            "Train data:\n",
            "                       text       entity              intent\n",
            "0  Please help me find the          None  SearchCreativeWork\n",
            "1        Bloom: Remix Album  object_name  SearchCreativeWork\n",
            "2                                   None  SearchCreativeWork\n",
            "3                      song  object_type  SearchCreativeWork\n",
            "4                         .         None  SearchCreativeWork\n",
            "\n",
            "Validate data:\n",
            "                  text       entity              intent\n",
            "0    Wish to find the          None  SearchCreativeWork\n",
            "1                movie  object_type  SearchCreativeWork\n",
            "2                 the          None  SearchCreativeWork\n",
            "3           Heart Beat  object_name  SearchCreativeWork\n",
            "4  Please look up the          None  SearchCreativeWork\n"
          ]
        }
      ]
    },
    {
      "cell_type": "code",
      "source": [
        "# import chardet\n",
        "\n",
        "# # Путь к файлу JSON\n",
        "# json_file = \"/content/drive/MyDrive/Colab Notebooks/SNIPS_dataset/PlayMusic/train_PlayMusic_full.json\"\n",
        "\n",
        "# # Определение кодировки файла\n",
        "# with open(json_file, 'rb') as f:\n",
        "#     result = chardet.detect(f.read())\n",
        "\n",
        "# print(result)\n"
      ],
      "metadata": {
        "colab": {
          "base_uri": "https://localhost:8080/"
        },
        "id": "5b_GBByJJX97",
        "outputId": "58c0412e-1496-438f-f6db-e7e352fe8ebc"
      },
      "execution_count": 13,
      "outputs": [
        {
          "output_type": "stream",
          "name": "stdout",
          "text": [
            "{'encoding': 'MacRoman', 'confidence': 0.7299664915977274, 'language': ''}\n"
          ]
        }
      ]
    },
    {
      "cell_type": "code",
      "source": [
        "# Удаляем дубликаты из обучающих данных\n",
        "train_data = train_data.drop_duplicates()\n",
        "\n",
        "# Удаляем дубликаты из валидационных данных\n",
        "validate_data = validate_data.drop_duplicates()\n"
      ],
      "metadata": {
        "id": "DN6im1n3Ajdt"
      },
      "execution_count": 30,
      "outputs": []
    },
    {
      "cell_type": "code",
      "source": [
        "# Сохраняем обучающие данные\n",
        "train_data.to_csv('/content/drive/MyDrive/Colab Notebooks/SNIPS_dataset/train_data.csv', index=False)\n",
        "\n",
        "# Сохраняем валидационные данные\n",
        "validate_data.to_csv('/content/drive/MyDrive/Colab Notebooks/SNIPS_dataset/validate_data.csv', index=False)\n"
      ],
      "metadata": {
        "id": "qpetvyPpADIi"
      },
      "execution_count": 31,
      "outputs": []
    },
    {
      "cell_type": "code",
      "source": [
        "import pandas as pd\n",
        "\n",
        "# Путь к файлу CSV\n",
        "train_data_path = \"/content/drive/MyDrive/Colab Notebooks/SNIPS_dataset/train_data.csv\"\n",
        "validate_data_path = \"/content/drive/MyDrive/Colab Notebooks/SNIPS_dataset/validate_data.csv\"\n",
        "\n",
        "# Чтение данных из CSV-файлов\n",
        "train_data = pd.read_csv(train_data_path)\n",
        "validate_data = pd.read_csv(validate_data_path)\n",
        "\n",
        "# Вывод первых 5 строк каждого DataFrame\n",
        "print(\"Train data:\")\n",
        "print(train_data.head())\n",
        "print(\"\\nValidate data:\")\n",
        "print(validate_data.head())\n"
      ],
      "metadata": {
        "colab": {
          "base_uri": "https://localhost:8080/"
        },
        "id": "_csX-QX0Bb4t",
        "outputId": "05e7858f-b9e4-4fae-814f-4a3c979cf7ee"
      },
      "execution_count": 32,
      "outputs": [
        {
          "output_type": "stream",
          "name": "stdout",
          "text": [
            "Train data:\n",
            "                       text       entity              intent\n",
            "0  Please help me find the           NaN  SearchCreativeWork\n",
            "1        Bloom: Remix Album  object_name  SearchCreativeWork\n",
            "2                                    NaN  SearchCreativeWork\n",
            "3                      song  object_type  SearchCreativeWork\n",
            "4                         .          NaN  SearchCreativeWork\n",
            "\n",
            "Validate data:\n",
            "                  text       entity              intent\n",
            "0    Wish to find the           NaN  SearchCreativeWork\n",
            "1                movie  object_type  SearchCreativeWork\n",
            "2                 the           NaN  SearchCreativeWork\n",
            "3           Heart Beat  object_name  SearchCreativeWork\n",
            "4  Please look up the           NaN  SearchCreativeWork\n"
          ]
        }
      ]
    }
  ]
}