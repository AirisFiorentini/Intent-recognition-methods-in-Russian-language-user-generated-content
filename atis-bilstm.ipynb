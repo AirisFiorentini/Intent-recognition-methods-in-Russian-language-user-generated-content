{
 "cells": [
  {
   "cell_type": "code",
   "execution_count": 1,
   "id": "14966ff4",
   "metadata": {
    "_cell_guid": "b1076dfc-b9ad-4769-8c92-a6c4dae69d19",
    "_uuid": "8f2839f25d086af736a60e9eeb907d3b93b6e0e5",
    "execution": {
     "iopub.execute_input": "2024-05-30T14:37:14.772055Z",
     "iopub.status.busy": "2024-05-30T14:37:14.771290Z",
     "iopub.status.idle": "2024-05-30T14:37:15.558905Z",
     "shell.execute_reply": "2024-05-30T14:37:15.557658Z"
    },
    "papermill": {
     "duration": 0.795831,
     "end_time": "2024-05-30T14:37:15.560993",
     "exception": false,
     "start_time": "2024-05-30T14:37:14.765162",
     "status": "completed"
    },
    "tags": []
   },
   "outputs": [
    {
     "name": "stdout",
     "output_type": "stream",
     "text": [
      "/kaggle/input/atis-airlinetravelinformationsystem/atis_intents_train.csv\n",
      "/kaggle/input/atis-airlinetravelinformationsystem/atis_intents.csv\n",
      "/kaggle/input/atis-airlinetravelinformationsystem/atis_intents_test.csv\n"
     ]
    }
   ],
   "source": [
    "import numpy as np # linear algebra\n",
    "import pandas as pd # data processing, CSV file I/O (e.g. pd.read_csv)\n",
    "\n",
    "import os\n",
    "for dirname, _, filenames in os.walk('/kaggle/input'):\n",
    "    for filename in filenames:\n",
    "        print(os.path.join(dirname, filename))"
   ]
  },
  {
   "cell_type": "code",
   "execution_count": 2,
   "id": "871efade",
   "metadata": {
    "execution": {
     "iopub.execute_input": "2024-05-30T14:37:15.570548Z",
     "iopub.status.busy": "2024-05-30T14:37:15.570147Z",
     "iopub.status.idle": "2024-05-30T14:37:21.456707Z",
     "shell.execute_reply": "2024-05-30T14:37:21.455767Z"
    },
    "papermill": {
     "duration": 5.893432,
     "end_time": "2024-05-30T14:37:21.458728",
     "exception": false,
     "start_time": "2024-05-30T14:37:15.565296",
     "status": "completed"
    },
    "tags": []
   },
   "outputs": [
    {
     "name": "stdout",
     "output_type": "stream",
     "text": [
      "[nltk_data] Downloading package punkt to /usr/share/nltk_data...\n",
      "[nltk_data]   Package punkt is already up-to-date!\n"
     ]
    },
    {
     "data": {
      "text/plain": [
       "True"
      ]
     },
     "execution_count": 2,
     "metadata": {},
     "output_type": "execute_result"
    }
   ],
   "source": [
    "import numpy as np\n",
    "import pandas as pd\n",
    "import os\n",
    "import nltk\n",
    "from nltk.tokenize import word_tokenize\n",
    "from sklearn.feature_extraction.text import TfidfVectorizer\n",
    "from sklearn.preprocessing import LabelEncoder\n",
    "from torch.utils.data import Dataset, DataLoader\n",
    "import torch\n",
    "from torch import nn\n",
    "from sklearn.model_selection import train_test_split\n",
    "from tqdm import tqdm\n",
    "import matplotlib.pyplot as plt\n",
    "from sklearn.metrics import precision_recall_fscore_support, balanced_accuracy_score, confusion_matrix, accuracy_score\n",
    "import seaborn as sns\n",
    "import timeit\n",
    "\n",
    "nltk.download('punkt')"
   ]
  },
  {
   "cell_type": "code",
   "execution_count": 3,
   "id": "9cd62af5",
   "metadata": {
    "execution": {
     "iopub.execute_input": "2024-05-30T14:37:21.468648Z",
     "iopub.status.busy": "2024-05-30T14:37:21.468240Z",
     "iopub.status.idle": "2024-05-30T14:37:21.517547Z",
     "shell.execute_reply": "2024-05-30T14:37:21.516795Z"
    },
    "papermill": {
     "duration": 0.056427,
     "end_time": "2024-05-30T14:37:21.519515",
     "exception": false,
     "start_time": "2024-05-30T14:37:21.463088",
     "status": "completed"
    },
    "tags": []
   },
   "outputs": [],
   "source": [
    "# Путь к файлу CSV\n",
    "data_path = \"/kaggle/input/atis-airlinetravelinformationsystem/atis_intents.csv\"\n",
    "\n",
    "# Чтение данных из CSV-файла\n",
    "data = pd.read_csv(data_path)\n",
    "data = data.rename(columns={'atis_flight': 'intent', ' i want to fly from boston at 838 am and arrive in denver at 1110 in the morning': 'text'})\n",
    "lost_intent = {'intent': 'atis_flight', 'text': 'i want to fly from boston at 838 am and arrive in denver at 1110 in the morning'}\n",
    "data = pd.concat([data, pd.DataFrame([lost_intent])], ignore_index=True)\n",
    "\n",
    "# Find classes with only one sample\n",
    "class_counts = data['intent'].value_counts()\n",
    "single_sample_classes = class_counts[class_counts == 1].index.tolist()\n",
    "\n",
    "# Separate single sample classes\n",
    "single_sample_data = data[data['intent'].isin(single_sample_classes)]\n",
    "multiple_sample_data = data[~data['intent'].isin(single_sample_classes)]"
   ]
  },
  {
   "cell_type": "code",
   "execution_count": 4,
   "id": "a5323fae",
   "metadata": {
    "execution": {
     "iopub.execute_input": "2024-05-30T14:37:21.529079Z",
     "iopub.status.busy": "2024-05-30T14:37:21.528774Z",
     "iopub.status.idle": "2024-05-30T14:37:21.549419Z",
     "shell.execute_reply": "2024-05-30T14:37:21.548762Z"
    },
    "papermill": {
     "duration": 0.027552,
     "end_time": "2024-05-30T14:37:21.551318",
     "exception": false,
     "start_time": "2024-05-30T14:37:21.523766",
     "status": "completed"
    },
    "tags": []
   },
   "outputs": [],
   "source": [
    "# Perform stratified split on multiple sample data\n",
    "train_multiple, test_multiple = train_test_split(multiple_sample_data, test_size=0.2, random_state=42, stratify=multiple_sample_data['intent'])\n",
    "\n",
    "# Add single sample data to both train and test sets to ensure all classes are present\n",
    "train = pd.concat([train_multiple, single_sample_data]).reset_index(drop=True)\n",
    "test = pd.concat([test_multiple, single_sample_data]).reset_index(drop=True)\n",
    "\n",
    "# Ensure no duplicates in train and test sets\n",
    "train = train.drop_duplicates().reset_index(drop=True)\n",
    "test = test.drop_duplicates().reset_index(drop=True)"
   ]
  },
  {
   "cell_type": "code",
   "execution_count": 5,
   "id": "460b84ab",
   "metadata": {
    "execution": {
     "iopub.execute_input": "2024-05-30T14:37:21.560508Z",
     "iopub.status.busy": "2024-05-30T14:37:21.560247Z",
     "iopub.status.idle": "2024-05-30T14:37:21.577361Z",
     "shell.execute_reply": "2024-05-30T14:37:21.576049Z"
    },
    "papermill": {
     "duration": 0.023784,
     "end_time": "2024-05-30T14:37:21.579197",
     "exception": false,
     "start_time": "2024-05-30T14:37:21.555413",
     "status": "completed"
    },
    "tags": []
   },
   "outputs": [
    {
     "name": "stdout",
     "output_type": "stream",
     "text": [
      "intent\n",
      "atis_flight                                 73.869079\n",
      "atis_airfare                                 8.621607\n",
      "atis_ground_service                          5.082491\n",
      "atis_airline                                 3.113358\n",
      "atis_abbreviation                            2.474721\n",
      "atis_aircraft                                1.676424\n",
      "atis_flight_time                             1.117616\n",
      "atis_quantity                                1.091006\n",
      "atis_distance                                0.425758\n",
      "atis_flight#atis_airfare                     0.399148\n",
      "atis_ground_fare                             0.372539\n",
      "atis_airport                                 0.372539\n",
      "atis_city                                    0.372539\n",
      "atis_capacity                                0.345929\n",
      "atis_flight_no                               0.266099\n",
      "atis_meal                                    0.133049\n",
      "atis_restriction                             0.106440\n",
      "atis_airline#atis_flight_no                  0.053220\n",
      "atis_ground_service#atis_ground_fare         0.026610\n",
      "atis_airfare#atis_flight_time                0.026610\n",
      "atis_cheapest                                0.026610\n",
      "atis_aircraft#atis_flight#atis_flight_no     0.026610\n",
      "Name: proportion, dtype: float64 22 22 22\n"
     ]
    }
   ],
   "source": [
    "# Check for missing classes and ensure all classes are present\n",
    "train_classes = set(train['intent'])\n",
    "test_classes = set(test['intent'])\n",
    "all_classes = set(data['intent'])\n",
    "\n",
    "# Find missing classes in train and test sets\n",
    "missing_train_classes = all_classes - train_classes\n",
    "missing_test_classes = all_classes - test_classes\n",
    "\n",
    "# Add missing classes examples to train and test sets\n",
    "if missing_train_classes:\n",
    "    missing_train_data = data[data['intent'].isin(missing_train_classes)]\n",
    "    train = pd.concat([train, missing_train_data])\n",
    "    train = train.drop_duplicates().reset_index(drop=True)\n",
    "\n",
    "if missing_test_classes:\n",
    "    missing_test_data = data[data['intent'].isin(missing_test_classes)]\n",
    "    test = pd.concat([test, missing_test_data])\n",
    "    test = test.drop_duplicates().reset_index(drop=True)\n",
    "\n",
    "# Print unique value proportions\n",
    "unique_values_normalized = train['intent'].value_counts(normalize=True)\n",
    "unique_values_normalized_test = test['intent'].value_counts(normalize=True)\n",
    "unique_values_normalized_data = data['intent'].value_counts(normalize=True)\n",
    "print(unique_values_normalized * 100, len(unique_values_normalized), len(unique_values_normalized_test),len(unique_values_normalized_data)) "
   ]
  },
  {
   "cell_type": "code",
   "execution_count": 6,
   "id": "d1f30aff",
   "metadata": {
    "execution": {
     "iopub.execute_input": "2024-05-30T14:37:21.588621Z",
     "iopub.status.busy": "2024-05-30T14:37:21.588359Z",
     "iopub.status.idle": "2024-05-30T14:37:22.504380Z",
     "shell.execute_reply": "2024-05-30T14:37:22.503542Z"
    },
    "papermill": {
     "duration": 0.923362,
     "end_time": "2024-05-30T14:37:22.506766",
     "exception": false,
     "start_time": "2024-05-30T14:37:21.583404",
     "status": "completed"
    },
    "tags": []
   },
   "outputs": [
    {
     "name": "stderr",
     "output_type": "stream",
     "text": [
      "/opt/conda/lib/python3.10/site-packages/sklearn/feature_extraction/text.py:528: UserWarning: The parameter 'token_pattern' will not be used since 'tokenizer' is not None'\n",
      "  warnings.warn(\n"
     ]
    }
   ],
   "source": [
    "# Преобразование меток в числовые значения\n",
    "le = LabelEncoder()\n",
    "train_labels = le.fit_transform(train['intent'])\n",
    "test_labels = le.transform(test['intent'])\n",
    "\n",
    "# Токенизация и преобразование в TF-IDF\n",
    "tokenizer = word_tokenize\n",
    "vectorizer = TfidfVectorizer(tokenizer=tokenizer, stop_words='english')\n",
    "train_texts = vectorizer.fit_transform(train['text']).toarray()\n",
    "test_texts = vectorizer.transform(test['text']).toarray()"
   ]
  },
  {
   "cell_type": "code",
   "execution_count": 7,
   "id": "26883783",
   "metadata": {
    "execution": {
     "iopub.execute_input": "2024-05-30T14:37:22.517040Z",
     "iopub.status.busy": "2024-05-30T14:37:22.516718Z",
     "iopub.status.idle": "2024-05-30T14:37:22.526329Z",
     "shell.execute_reply": "2024-05-30T14:37:22.525565Z"
    },
    "papermill": {
     "duration": 0.016721,
     "end_time": "2024-05-30T14:37:22.528204",
     "exception": false,
     "start_time": "2024-05-30T14:37:22.511483",
     "status": "completed"
    },
    "tags": []
   },
   "outputs": [],
   "source": [
    "# Определение датасета\n",
    "class TextDataset(Dataset):\n",
    "    def __init__(self, texts, labels):\n",
    "        self.texts = texts\n",
    "        self.labels = labels\n",
    "\n",
    "    def __len__(self):\n",
    "        return len(self.texts)\n",
    "\n",
    "    def __getitem__(self, idx):\n",
    "        return self.texts[idx], self.labels[idx]\n",
    "    \n",
    "# Определение модели Bidirectional LSTM\n",
    "class BidirectionalLSTMClassifier(nn.Module):\n",
    "    def __init__(self, input_dim, hidden_dim, output_dim):\n",
    "        super().__init__()\n",
    "        self.lstm = nn.LSTM(input_dim, hidden_dim, batch_first=True, bidirectional=True)\n",
    "        self.fc = nn.Linear(hidden_dim * 2, output_dim)  # Умножаем на 2 из-за двунаправленности\n",
    "\n",
    "    def forward(self, x):\n",
    "        x = x.unsqueeze(1)  # Добавление дополнительного измерения\n",
    "        lstm_out, _ = self.lstm(x)\n",
    "        out = self.fc(lstm_out[:, -1, :])\n",
    "        return out"
   ]
  },
  {
   "cell_type": "code",
   "execution_count": 8,
   "id": "37633da4",
   "metadata": {
    "execution": {
     "iopub.execute_input": "2024-05-30T14:37:22.537912Z",
     "iopub.status.busy": "2024-05-30T14:37:22.537605Z",
     "iopub.status.idle": "2024-05-30T14:37:22.550683Z",
     "shell.execute_reply": "2024-05-30T14:37:22.549964Z"
    },
    "papermill": {
     "duration": 0.019923,
     "end_time": "2024-05-30T14:37:22.552499",
     "exception": false,
     "start_time": "2024-05-30T14:37:22.532576",
     "status": "completed"
    },
    "tags": []
   },
   "outputs": [],
   "source": [
    "train_dataset = TextDataset(torch.from_numpy(train_texts), train_labels)\n",
    "test_dataset = TextDataset(torch.from_numpy(test_texts), test_labels)\n",
    "train_loader = DataLoader(train_dataset, batch_size=32, shuffle=True)\n",
    "test_loader = DataLoader(test_dataset, batch_size=32)"
   ]
  },
  {
   "cell_type": "code",
   "execution_count": 9,
   "id": "b1620563",
   "metadata": {
    "execution": {
     "iopub.execute_input": "2024-05-30T14:37:22.562425Z",
     "iopub.status.busy": "2024-05-30T14:37:22.562172Z",
     "iopub.status.idle": "2024-05-30T14:37:25.328057Z",
     "shell.execute_reply": "2024-05-30T14:37:25.327085Z"
    },
    "papermill": {
     "duration": 2.774152,
     "end_time": "2024-05-30T14:37:25.330932",
     "exception": false,
     "start_time": "2024-05-30T14:37:22.556780",
     "status": "completed"
    },
    "tags": []
   },
   "outputs": [],
   "source": [
    "# Инициализация модели\n",
    "model = BidirectionalLSTMClassifier(input_dim=train_texts.shape[1], hidden_dim=256, output_dim=len(le.classes_))\n",
    "\n",
    "# Настройка устройства\n",
    "device = torch.device('cuda' if torch.cuda.is_available() else 'cpu')\n",
    "model = model.to(device)\n",
    "\n",
    "# Определение функции потерь и оптимизатора\n",
    "criterion = nn.CrossEntropyLoss()\n",
    "optimizer = torch.optim.Adam(model.parameters(), lr=0.001)\n",
    "\n",
    "# Обучение модели\n",
    "train_losses = []\n",
    "val_losses = []\n",
    "\n",
    "n_epoches = 15"
   ]
  },
  {
   "cell_type": "code",
   "execution_count": 10,
   "id": "e21b1c18",
   "metadata": {
    "execution": {
     "iopub.execute_input": "2024-05-30T14:37:25.341249Z",
     "iopub.status.busy": "2024-05-30T14:37:25.340797Z",
     "iopub.status.idle": "2024-05-30T14:37:30.813598Z",
     "shell.execute_reply": "2024-05-30T14:37:30.812716Z"
    },
    "papermill": {
     "duration": 5.479896,
     "end_time": "2024-05-30T14:37:30.815448",
     "exception": false,
     "start_time": "2024-05-30T14:37:25.335552",
     "status": "completed"
    },
    "tags": []
   },
   "outputs": [
    {
     "name": "stderr",
     "output_type": "stream",
     "text": [
      "100%|██████████| 118/118 [00:00<00:00, 179.23it/s]\n",
      "100%|██████████| 31/31 [00:00<00:00, 1155.46it/s]\n"
     ]
    },
    {
     "name": "stdout",
     "output_type": "stream",
     "text": [
      "Epoch 1, Train Loss: 1.5803200622736397, Val Loss: 0.9056805718329645\n"
     ]
    },
    {
     "name": "stderr",
     "output_type": "stream",
     "text": [
      "100%|██████████| 118/118 [00:00<00:00, 403.25it/s]\n",
      "100%|██████████| 31/31 [00:00<00:00, 1124.81it/s]\n"
     ]
    },
    {
     "name": "stdout",
     "output_type": "stream",
     "text": [
      "Epoch 2, Train Loss: 0.6913973151122109, Val Loss: 0.6240777219495466\n"
     ]
    },
    {
     "name": "stderr",
     "output_type": "stream",
     "text": [
      "100%|██████████| 118/118 [00:00<00:00, 408.38it/s]\n",
      "100%|██████████| 31/31 [00:00<00:00, 1130.58it/s]\n"
     ]
    },
    {
     "name": "stdout",
     "output_type": "stream",
     "text": [
      "Epoch 3, Train Loss: 0.45369202176393086, Val Loss: 0.4764202116958557\n"
     ]
    },
    {
     "name": "stderr",
     "output_type": "stream",
     "text": [
      "100%|██████████| 118/118 [00:00<00:00, 404.64it/s]\n",
      "100%|██████████| 31/31 [00:00<00:00, 1123.92it/s]\n"
     ]
    },
    {
     "name": "stdout",
     "output_type": "stream",
     "text": [
      "Epoch 4, Train Loss: 0.3269278384050575, Val Loss: 0.3937317503075446\n"
     ]
    },
    {
     "name": "stderr",
     "output_type": "stream",
     "text": [
      "100%|██████████| 118/118 [00:00<00:00, 404.35it/s]\n",
      "100%|██████████| 31/31 [00:00<00:00, 1175.24it/s]\n"
     ]
    },
    {
     "name": "stdout",
     "output_type": "stream",
     "text": [
      "Epoch 5, Train Loss: 0.24910492824106398, Val Loss: 0.3444998477014803\n"
     ]
    },
    {
     "name": "stderr",
     "output_type": "stream",
     "text": [
      "100%|██████████| 118/118 [00:00<00:00, 410.27it/s]\n",
      "100%|██████████| 31/31 [00:00<00:00, 1181.98it/s]\n"
     ]
    },
    {
     "name": "stdout",
     "output_type": "stream",
     "text": [
      "Epoch 6, Train Loss: 0.19532891811203149, Val Loss: 0.30539647327555763\n"
     ]
    },
    {
     "name": "stderr",
     "output_type": "stream",
     "text": [
      "100%|██████████| 118/118 [00:00<00:00, 406.29it/s]\n",
      "100%|██████████| 31/31 [00:00<00:00, 1170.14it/s]\n"
     ]
    },
    {
     "name": "stdout",
     "output_type": "stream",
     "text": [
      "Epoch 7, Train Loss: 0.15528402426990412, Val Loss: 0.28105004985005627\n"
     ]
    },
    {
     "name": "stderr",
     "output_type": "stream",
     "text": [
      "100%|██████████| 118/118 [00:00<00:00, 410.73it/s]\n",
      "100%|██████████| 31/31 [00:00<00:00, 1098.48it/s]\n"
     ]
    },
    {
     "name": "stdout",
     "output_type": "stream",
     "text": [
      "Epoch 8, Train Loss: 0.12501736718498296, Val Loss: 0.26352181850421813\n"
     ]
    },
    {
     "name": "stderr",
     "output_type": "stream",
     "text": [
      "100%|██████████| 118/118 [00:00<00:00, 415.16it/s]\n",
      "100%|██████████| 31/31 [00:00<00:00, 1161.50it/s]\n"
     ]
    },
    {
     "name": "stdout",
     "output_type": "stream",
     "text": [
      "Epoch 9, Train Loss: 0.10343226660200852, Val Loss: 0.2561238232038675\n"
     ]
    },
    {
     "name": "stderr",
     "output_type": "stream",
     "text": [
      "100%|██████████| 118/118 [00:00<00:00, 413.55it/s]\n",
      "100%|██████████| 31/31 [00:00<00:00, 1117.09it/s]\n"
     ]
    },
    {
     "name": "stdout",
     "output_type": "stream",
     "text": [
      "Epoch 10, Train Loss: 0.08738954674247336, Val Loss: 0.24846557029072316\n"
     ]
    },
    {
     "name": "stderr",
     "output_type": "stream",
     "text": [
      "100%|██████████| 118/118 [00:00<00:00, 406.09it/s]\n",
      "100%|██████████| 31/31 [00:00<00:00, 1168.35it/s]\n"
     ]
    },
    {
     "name": "stdout",
     "output_type": "stream",
     "text": [
      "Epoch 11, Train Loss: 0.07512348106178313, Val Loss: 0.24654517103467258\n"
     ]
    },
    {
     "name": "stderr",
     "output_type": "stream",
     "text": [
      "100%|██████████| 118/118 [00:00<00:00, 371.64it/s]\n",
      "100%|██████████| 31/31 [00:00<00:00, 1169.69it/s]\n"
     ]
    },
    {
     "name": "stdout",
     "output_type": "stream",
     "text": [
      "Epoch 12, Train Loss: 0.06580321909465148, Val Loss: 0.2420326613130108\n"
     ]
    },
    {
     "name": "stderr",
     "output_type": "stream",
     "text": [
      "100%|██████████| 118/118 [00:00<00:00, 417.55it/s]\n",
      "100%|██████████| 31/31 [00:00<00:00, 1152.57it/s]\n"
     ]
    },
    {
     "name": "stdout",
     "output_type": "stream",
     "text": [
      "Epoch 13, Train Loss: 0.058834572867253576, Val Loss: 0.2391914828650413\n"
     ]
    },
    {
     "name": "stderr",
     "output_type": "stream",
     "text": [
      "100%|██████████| 118/118 [00:00<00:00, 414.60it/s]\n",
      "100%|██████████| 31/31 [00:00<00:00, 1082.21it/s]\n"
     ]
    },
    {
     "name": "stdout",
     "output_type": "stream",
     "text": [
      "Epoch 14, Train Loss: 0.05230434521464473, Val Loss: 0.2408509755567197\n"
     ]
    },
    {
     "name": "stderr",
     "output_type": "stream",
     "text": [
      "100%|██████████| 118/118 [00:00<00:00, 387.14it/s]\n",
      "100%|██████████| 31/31 [00:00<00:00, 1119.84it/s]\n"
     ]
    },
    {
     "name": "stdout",
     "output_type": "stream",
     "text": [
      "Epoch 15, Train Loss: 0.0489587524740057, Val Loss: 0.2387375773621663\n"
     ]
    },
    {
     "data": {
      "image/png": "[encoded data removed]",
      "text/plain": [
       "<Figure size 640x480 with 1 Axes>"
      ]
     },
     "metadata": {},
     "output_type": "display_data"
    }
   ],
   "source": [
    "for epoch in range(n_epoches):\n",
    "    train_loss = 0\n",
    "    val_loss = 0\n",
    "\n",
    "    # Обучение\n",
    "    model.train()\n",
    "    for texts, labels in tqdm(train_loader):\n",
    "        texts = texts.float().to(device)\n",
    "        labels = labels.to(device)\n",
    "\n",
    "        outputs = model(texts)\n",
    "        loss = criterion(outputs, labels)\n",
    "\n",
    "        optimizer.zero_grad()\n",
    "        loss.backward()\n",
    "        optimizer.step()\n",
    "\n",
    "        train_loss += loss.item()\n",
    "\n",
    "    # Валидация\n",
    "    model.eval()\n",
    "    with torch.no_grad():\n",
    "        for texts, labels in tqdm(test_loader):\n",
    "            texts = texts.float().to(device)\n",
    "            labels = labels.to(device)\n",
    "\n",
    "            outputs = model(texts)\n",
    "            loss = criterion(outputs, labels)\n",
    "\n",
    "            val_loss += loss.item()\n",
    "\n",
    "    train_loss /= len(train_loader)\n",
    "    val_loss /= len(test_loader)\n",
    "    train_losses.append(train_loss)\n",
    "    val_losses.append(val_loss)\n",
    "    print(f'Epoch {epoch+1}, Train Loss: {train_loss}, Val Loss: {val_loss}')\n",
    "\n",
    "# Построение графика потерь\n",
    "plt.plot(range(1, n_epoches + 1), train_losses, label='Train Loss')\n",
    "plt.plot(range(1, n_epoches + 1), val_losses, label='Val Loss')\n",
    "plt.xlabel('Epoch')\n",
    "plt.ylabel('Loss')\n",
    "plt.legend()\n",
    "plt.show()"
   ]
  },
  {
   "cell_type": "code",
   "execution_count": 11,
   "id": "23448f01",
   "metadata": {
    "execution": {
     "iopub.execute_input": "2024-05-30T14:37:30.847291Z",
     "iopub.status.busy": "2024-05-30T14:37:30.846971Z",
     "iopub.status.idle": "2024-05-30T14:37:30.908188Z",
     "shell.execute_reply": "2024-05-30T14:37:30.907189Z"
    },
    "papermill": {
     "duration": 0.079515,
     "end_time": "2024-05-30T14:37:30.910462",
     "exception": false,
     "start_time": "2024-05-30T14:37:30.830947",
     "status": "completed"
    },
    "tags": []
   },
   "outputs": [
    {
     "name": "stdout",
     "output_type": "stream",
     "text": [
      "Time for testing: 0.0457 seconds\n",
      "Average time per response: 0.000047 seconds\n",
      "0.6192569462415682\n",
      "(0.9345902899411537, 0.939795918367347, 0.9361900713536448, None)\n"
     ]
    },
    {
     "name": "stderr",
     "output_type": "stream",
     "text": [
      "/opt/conda/lib/python3.10/site-packages/sklearn/metrics/_classification.py:1344: UndefinedMetricWarning: Precision and F-score are ill-defined and being set to 0.0 in labels with no predicted samples. Use `zero_division` parameter to control this behavior.\n",
      "  _warn_prf(average, modifier, msg_start, len(result))\n"
     ]
    }
   ],
   "source": [
    "# Прогнозирование на тестовом наборе\n",
    "predictions = []\n",
    "start_test = timeit.default_timer()\n",
    "with torch.no_grad():\n",
    "    for texts, labels in test_loader:\n",
    "        texts = texts.float().to(device)\n",
    "        outputs = model(texts)\n",
    "        _, predicted = torch.max(outputs.data, 1)\n",
    "        predictions.extend(predicted.cpu().numpy()) \n",
    "end_test = timeit.default_timer()\n",
    "\n",
    "# Перевод меток обратно в исходные интенты\n",
    "predicted_intents = le.inverse_transform(predictions)\n",
    "\n",
    "# Общее количество предсказанных ответов\n",
    "num_predictions = len(predictions)\n",
    "\n",
    "# Среднее время на один ответ\n",
    "average_time_per_response = (end_test - start_test) / num_predictions\n",
    "\n",
    "print(f'Time for testing: {end_test - start_test:.4f} seconds')\n",
    "print(f'Average time per response: {average_time_per_response:.6f} seconds')\n",
    "\n",
    "print(balanced_accuracy_score(test_labels, predictions))\n",
    "print(precision_recall_fscore_support(test_labels, predictions, average='weighted'))"
   ]
  }
 ],
 "metadata": {
  "kaggle": {
   "accelerator": "none",
   "dataSources": [
    {
     "datasetId": 284285,
     "sourceId": 585165,
     "sourceType": "datasetVersion"
    }
   ],
   "dockerImageVersionId": 30698,
   "isGpuEnabled": false,
   "isInternetEnabled": true,
   "language": "python",
   "sourceType": "notebook"
  },
  "kernelspec": {
   "display_name": "Python 3",
   "language": "python",
   "name": "python3"
  },
  "language_info": {
   "codemirror_mode": {
    "name": "ipython",
    "version": 3
   },
   "file_extension": ".py",
   "mimetype": "text/x-python",
   "name": "python",
   "nbconvert_exporter": "python",
   "pygments_lexer": "ipython3",
   "version": "3.10.13"
  },
  "papermill": {
   "default_parameters": {},
   "duration": 21.285878,
   "end_time": "2024-05-30T14:37:33.168604",
   "environment_variables": {},
   "exception": null,
   "input_path": "__notebook__.ipynb",
   "output_path": "__notebook__.ipynb",
   "parameters": {},
   "start_time": "2024-05-30T14:37:11.882726",
   "version": "2.5.0"
  }
 },
 "nbformat": 4,
 "nbformat_minor": 5
}
