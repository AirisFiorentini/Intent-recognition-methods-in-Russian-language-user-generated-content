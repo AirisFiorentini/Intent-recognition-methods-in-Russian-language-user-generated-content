{
 "cells": [
  {
   "cell_type": "code",
   "execution_count": 1,
   "id": "2f05d54c",
   "metadata": {
    "_cell_guid": "b1076dfc-b9ad-4769-8c92-a6c4dae69d19",
    "_uuid": "8f2839f25d086af736a60e9eeb907d3b93b6e0e5",
    "execution": {
     "iopub.execute_input": "2024-05-27T14:32:55.763523Z",
     "iopub.status.busy": "2024-05-27T14:32:55.763151Z",
     "iopub.status.idle": "2024-05-27T14:32:56.726323Z",
     "shell.execute_reply": "2024-05-27T14:32:56.725152Z"
    },
    "papermill": {
     "duration": 0.978607,
     "end_time": "2024-05-27T14:32:56.729061",
     "exception": false,
     "start_time": "2024-05-27T14:32:55.750454",
     "status": "completed"
    },
    "tags": []
   },
   "outputs": [
    {
     "name": "stdout",
     "output_type": "stream",
     "text": [
      "/kaggle/input/qa-intents-dataset-university-domain/dataset_test.tsv\n",
      "/kaggle/input/qa-intents-dataset-university-domain/labels_description.txt\n",
      "/kaggle/input/qa-intents-dataset-university-domain/dataset_train.tsv\n"
     ]
    }
   ],
   "source": [
    "import numpy as np # linear algebra\n",
    "import pandas as pd # data processing, CSV file I/O (e.g. pd.read_csv)\n",
    "import os\n",
    "for dirname, _, filenames in os.walk('/kaggle/input'):\n",
    "    for filename in filenames:\n",
    "        print(os.path.join(dirname, filename))"
   ]
  },
  {
   "cell_type": "code",
   "execution_count": 2,
   "id": "05f5c243",
   "metadata": {
    "execution": {
     "iopub.execute_input": "2024-05-27T14:32:56.751618Z",
     "iopub.status.busy": "2024-05-27T14:32:56.751069Z",
     "iopub.status.idle": "2024-05-27T14:32:56.821303Z",
     "shell.execute_reply": "2024-05-27T14:32:56.820187Z"
    },
    "papermill": {
     "duration": 0.084599,
     "end_time": "2024-05-27T14:32:56.824023",
     "exception": false,
     "start_time": "2024-05-27T14:32:56.739424",
     "status": "completed"
    },
    "tags": []
   },
   "outputs": [
    {
     "data": {
      "text/html": [
       "<div>\n",
       "<style scoped>\n",
       "    .dataframe tbody tr th:only-of-type {\n",
       "        vertical-align: middle;\n",
       "    }\n",
       "\n",
       "    .dataframe tbody tr th {\n",
       "        vertical-align: top;\n",
       "    }\n",
       "\n",
       "    .dataframe thead th {\n",
       "        text-align: right;\n",
       "    }\n",
       "</style>\n",
       "<table border=\"1\" class=\"dataframe\">\n",
       "  <thead>\n",
       "    <tr style=\"text-align: right;\">\n",
       "      <th></th>\n",
       "      <th>text</th>\n",
       "      <th>intent</th>\n",
       "    </tr>\n",
       "  </thead>\n",
       "  <tbody>\n",
       "    <tr>\n",
       "      <th>0</th>\n",
       "      <td>мне нужна справка</td>\n",
       "      <td>statement_general</td>\n",
       "    </tr>\n",
       "    <tr>\n",
       "      <th>1</th>\n",
       "      <td>оформить справку</td>\n",
       "      <td>statement_general</td>\n",
       "    </tr>\n",
       "    <tr>\n",
       "      <th>2</th>\n",
       "      <td>взять справку</td>\n",
       "      <td>statement_general</td>\n",
       "    </tr>\n",
       "    <tr>\n",
       "      <th>3</th>\n",
       "      <td>справку как получить</td>\n",
       "      <td>statement_general</td>\n",
       "    </tr>\n",
       "    <tr>\n",
       "      <th>4</th>\n",
       "      <td>справку ммф где получаться</td>\n",
       "      <td>statement_general</td>\n",
       "    </tr>\n",
       "  </tbody>\n",
       "</table>\n",
       "</div>"
      ],
      "text/plain": [
       "                         text             intent\n",
       "0           мне нужна справка  statement_general\n",
       "1            оформить справку  statement_general\n",
       "2               взять справку  statement_general\n",
       "3        справку как получить  statement_general\n",
       "4  справку ммф где получаться  statement_general"
      ]
     },
     "execution_count": 2,
     "metadata": {},
     "output_type": "execute_result"
    }
   ],
   "source": [
    "train_data = pd.read_csv('../input/qa-intents-dataset-university-domain/dataset_train.tsv',delimiter='\\t',encoding=\"utf-8\",names=['text', 'intent'])\n",
    "test_data = pd.read_csv('../input/qa-intents-dataset-university-domain/dataset_test.tsv',delimiter='\\t',encoding=\"utf-8\",names=['text', 'intent'])\n",
    "train_data.head()"
   ]
  },
  {
   "cell_type": "code",
   "execution_count": 3,
   "id": "8e8c6865",
   "metadata": {
    "execution": {
     "iopub.execute_input": "2024-05-27T14:32:56.846784Z",
     "iopub.status.busy": "2024-05-27T14:32:56.846342Z",
     "iopub.status.idle": "2024-05-27T14:32:56.858993Z",
     "shell.execute_reply": "2024-05-27T14:32:56.857830Z"
    },
    "papermill": {
     "duration": 0.02715,
     "end_time": "2024-05-27T14:32:56.861541",
     "exception": false,
     "start_time": "2024-05-27T14:32:56.834391",
     "status": "completed"
    },
    "tags": []
   },
   "outputs": [
    {
     "data": {
      "text/html": [
       "<div>\n",
       "<style scoped>\n",
       "    .dataframe tbody tr th:only-of-type {\n",
       "        vertical-align: middle;\n",
       "    }\n",
       "\n",
       "    .dataframe tbody tr th {\n",
       "        vertical-align: top;\n",
       "    }\n",
       "\n",
       "    .dataframe thead th {\n",
       "        text-align: right;\n",
       "    }\n",
       "</style>\n",
       "<table border=\"1\" class=\"dataframe\">\n",
       "  <thead>\n",
       "    <tr style=\"text-align: right;\">\n",
       "      <th></th>\n",
       "      <th>text</th>\n",
       "      <th>intent</th>\n",
       "    </tr>\n",
       "  </thead>\n",
       "  <tbody>\n",
       "    <tr>\n",
       "      <th>0</th>\n",
       "      <td>мне нужна справка</td>\n",
       "      <td>statement_general</td>\n",
       "    </tr>\n",
       "    <tr>\n",
       "      <th>1</th>\n",
       "      <td>оформить справку</td>\n",
       "      <td>statement_general</td>\n",
       "    </tr>\n",
       "    <tr>\n",
       "      <th>2</th>\n",
       "      <td>взять справку</td>\n",
       "      <td>statement_general</td>\n",
       "    </tr>\n",
       "    <tr>\n",
       "      <th>3</th>\n",
       "      <td>справку как получить</td>\n",
       "      <td>statement_general</td>\n",
       "    </tr>\n",
       "    <tr>\n",
       "      <th>4</th>\n",
       "      <td>справку ммф где получаться</td>\n",
       "      <td>statement_general</td>\n",
       "    </tr>\n",
       "  </tbody>\n",
       "</table>\n",
       "</div>"
      ],
      "text/plain": [
       "                         text             intent\n",
       "0           мне нужна справка  statement_general\n",
       "1            оформить справку  statement_general\n",
       "2               взять справку  statement_general\n",
       "3        справку как получить  statement_general\n",
       "4  справку ммф где получаться  statement_general"
      ]
     },
     "execution_count": 3,
     "metadata": {},
     "output_type": "execute_result"
    }
   ],
   "source": [
    "full_data = pd.concat([train_data, test_data])\n",
    "full_data.head()"
   ]
  },
  {
   "cell_type": "code",
   "execution_count": 4,
   "id": "46b880c4",
   "metadata": {
    "execution": {
     "iopub.execute_input": "2024-05-27T14:32:56.884765Z",
     "iopub.status.busy": "2024-05-27T14:32:56.883839Z",
     "iopub.status.idle": "2024-05-27T14:32:56.914151Z",
     "shell.execute_reply": "2024-05-27T14:32:56.912719Z"
    },
    "papermill": {
     "duration": 0.04467,
     "end_time": "2024-05-27T14:32:56.916834",
     "exception": false,
     "start_time": "2024-05-27T14:32:56.872164",
     "status": "completed"
    },
    "tags": []
   },
   "outputs": [
    {
     "name": "stdout",
     "output_type": "stream",
     "text": [
      "<class 'pandas.core.frame.DataFrame'>\n",
      "Index: 14113 entries, 0 to 882\n",
      "Data columns (total 2 columns):\n",
      " #   Column  Non-Null Count  Dtype \n",
      "---  ------  --------------  ----- \n",
      " 0   text    14113 non-null  object\n",
      " 1   intent  14113 non-null  object\n",
      "dtypes: object(2)\n",
      "memory usage: 330.8+ KB\n"
     ]
    }
   ],
   "source": [
    "full_data.info()"
   ]
  },
  {
   "cell_type": "code",
   "execution_count": 5,
   "id": "310d0c29",
   "metadata": {
    "execution": {
     "iopub.execute_input": "2024-05-27T14:32:56.940153Z",
     "iopub.status.busy": "2024-05-27T14:32:56.939725Z",
     "iopub.status.idle": "2024-05-27T14:32:58.382968Z",
     "shell.execute_reply": "2024-05-27T14:32:58.381894Z"
    },
    "papermill": {
     "duration": 1.45828,
     "end_time": "2024-05-27T14:32:58.385850",
     "exception": false,
     "start_time": "2024-05-27T14:32:56.927570",
     "status": "completed"
    },
    "tags": []
   },
   "outputs": [],
   "source": [
    "from sklearn.model_selection import train_test_split\n",
    "train, test = train_test_split(full_data, test_size=0.2, random_state=42)"
   ]
  },
  {
   "cell_type": "code",
   "execution_count": 6,
   "id": "949530aa",
   "metadata": {
    "execution": {
     "iopub.execute_input": "2024-05-27T14:32:58.409281Z",
     "iopub.status.busy": "2024-05-27T14:32:58.408848Z",
     "iopub.status.idle": "2024-05-27T14:32:58.420928Z",
     "shell.execute_reply": "2024-05-27T14:32:58.419702Z"
    },
    "papermill": {
     "duration": 0.02774,
     "end_time": "2024-05-27T14:32:58.424470",
     "exception": false,
     "start_time": "2024-05-27T14:32:58.396730",
     "status": "completed"
    },
    "tags": []
   },
   "outputs": [
    {
     "name": "stdout",
     "output_type": "stream",
     "text": [
      "intent\n",
      "sched_teacher                8.582817\n",
      "sched_for_group              3.126661\n",
      "sched_for_group_day          3.046944\n",
      "wifi                         2.143490\n",
      "status_free                  2.037201\n",
      "                               ...   \n",
      "location_general             0.168291\n",
      "loc_nsu_cafeteria            0.168291\n",
      "student_trade_union_enter    0.159433\n",
      "loc_passport_office          0.159433\n",
      "staff_trade_union_enter      0.159433\n",
      "Name: proportion, Length: 142, dtype: float64\n"
     ]
    }
   ],
   "source": [
    "unique_values_normalized = train['intent'].value_counts(normalize=True)\n",
    "print(unique_values_normalized*100)"
   ]
  },
  {
   "cell_type": "code",
   "execution_count": 7,
   "id": "2277dc44",
   "metadata": {
    "execution": {
     "iopub.execute_input": "2024-05-27T14:32:58.449062Z",
     "iopub.status.busy": "2024-05-27T14:32:58.448659Z",
     "iopub.status.idle": "2024-05-27T14:32:58.458314Z",
     "shell.execute_reply": "2024-05-27T14:32:58.457056Z"
    },
    "papermill": {
     "duration": 0.024659,
     "end_time": "2024-05-27T14:32:58.461119",
     "exception": false,
     "start_time": "2024-05-27T14:32:58.436460",
     "status": "completed"
    },
    "tags": []
   },
   "outputs": [
    {
     "name": "stdout",
     "output_type": "stream",
     "text": [
      "intent\n",
      "sched_teacher              7.616011\n",
      "sched_for_group_day        3.010981\n",
      "sched_for_group            2.833865\n",
      "wifi                       2.267092\n",
      "status_free                2.054552\n",
      "                             ...   \n",
      "volunteer_become           0.106270\n",
      "staff_trade_union_enter    0.106270\n",
      "cvvr_define                0.106270\n",
      "nsu_foundation_date        0.070847\n",
      "location_general           0.070847\n",
      "Name: proportion, Length: 142, dtype: float64\n"
     ]
    }
   ],
   "source": [
    "unique_values_normalized2 = test['intent'].value_counts(normalize=True)\n",
    "print(unique_values_normalized2*100)"
   ]
  },
  {
   "cell_type": "code",
   "execution_count": 8,
   "id": "05d6702b",
   "metadata": {
    "execution": {
     "iopub.execute_input": "2024-05-27T14:32:58.485085Z",
     "iopub.status.busy": "2024-05-27T14:32:58.484657Z",
     "iopub.status.idle": "2024-05-27T14:32:58.497213Z",
     "shell.execute_reply": "2024-05-27T14:32:58.496122Z"
    },
    "papermill": {
     "duration": 0.028456,
     "end_time": "2024-05-27T14:32:58.500608",
     "exception": false,
     "start_time": "2024-05-27T14:32:58.472152",
     "status": "completed"
    },
    "tags": []
   },
   "outputs": [
    {
     "name": "stdout",
     "output_type": "stream",
     "text": [
      "<class 'pandas.core.frame.DataFrame'>\n",
      "Index: 2823 entries, 8079 to 8188\n",
      "Data columns (total 2 columns):\n",
      " #   Column  Non-Null Count  Dtype \n",
      "---  ------  --------------  ----- \n",
      " 0   text    2823 non-null   object\n",
      " 1   intent  2823 non-null   object\n",
      "dtypes: object(2)\n",
      "memory usage: 66.2+ KB\n"
     ]
    }
   ],
   "source": [
    "test.info()"
   ]
  },
  {
   "cell_type": "code",
   "execution_count": 9,
   "id": "1e52f2b2",
   "metadata": {
    "execution": {
     "iopub.execute_input": "2024-05-27T14:32:58.525695Z",
     "iopub.status.busy": "2024-05-27T14:32:58.524559Z",
     "iopub.status.idle": "2024-05-27T14:33:05.015946Z",
     "shell.execute_reply": "2024-05-27T14:33:05.014816Z"
    },
    "papermill": {
     "duration": 6.506882,
     "end_time": "2024-05-27T14:33:05.019037",
     "exception": false,
     "start_time": "2024-05-27T14:32:58.512155",
     "status": "completed"
    },
    "tags": []
   },
   "outputs": [],
   "source": [
    "from transformers import BertTokenizer"
   ]
  },
  {
   "cell_type": "code",
   "execution_count": 10,
   "id": "8bca5a76",
   "metadata": {
    "execution": {
     "iopub.execute_input": "2024-05-27T14:33:05.043586Z",
     "iopub.status.busy": "2024-05-27T14:33:05.043012Z",
     "iopub.status.idle": "2024-05-27T14:33:05.048001Z",
     "shell.execute_reply": "2024-05-27T14:33:05.046929Z"
    },
    "papermill": {
     "duration": 0.019668,
     "end_time": "2024-05-27T14:33:05.050471",
     "exception": false,
     "start_time": "2024-05-27T14:33:05.030803",
     "status": "completed"
    },
    "tags": []
   },
   "outputs": [],
   "source": [
    "# Создание токенизатора BERT\n",
    "# tokenizer = BertTokenizer.from_pretrained('bert-base-uncased')"
   ]
  },
  {
   "cell_type": "code",
   "execution_count": 11,
   "id": "b2dfeee4",
   "metadata": {
    "execution": {
     "iopub.execute_input": "2024-05-27T14:33:05.073981Z",
     "iopub.status.busy": "2024-05-27T14:33:05.073554Z",
     "iopub.status.idle": "2024-05-27T14:33:10.061088Z",
     "shell.execute_reply": "2024-05-27T14:33:10.059968Z"
    },
    "papermill": {
     "duration": 5.002315,
     "end_time": "2024-05-27T14:33:10.063860",
     "exception": false,
     "start_time": "2024-05-27T14:33:05.061545",
     "status": "completed"
    },
    "tags": []
   },
   "outputs": [
    {
     "data": {
      "application/vnd.jupyter.widget-view+json": {
       "model_id": "77b18f1b37fd4879bb9003001773062d",
       "version_major": 2,
       "version_minor": 0
      },
      "text/plain": [
       "tokenizer_config.json:   0%|          | 0.00/401 [00:00<?, ?B/s]"
      ]
     },
     "metadata": {},
     "output_type": "display_data"
    },
    {
     "data": {
      "application/vnd.jupyter.widget-view+json": {
       "model_id": "ed4be74e267142cd91f320d0534d384e",
       "version_major": 2,
       "version_minor": 0
      },
      "text/plain": [
       "vocab.txt:   0%|          | 0.00/1.08M [00:00<?, ?B/s]"
      ]
     },
     "metadata": {},
     "output_type": "display_data"
    },
    {
     "data": {
      "application/vnd.jupyter.widget-view+json": {
       "model_id": "81a3f787b0de462fb85fccd671db3876",
       "version_major": 2,
       "version_minor": 0
      },
      "text/plain": [
       "tokenizer.json:   0%|          | 0.00/1.74M [00:00<?, ?B/s]"
      ]
     },
     "metadata": {},
     "output_type": "display_data"
    },
    {
     "data": {
      "application/vnd.jupyter.widget-view+json": {
       "model_id": "a1e91cff141d476f8f32612fc93be142",
       "version_major": 2,
       "version_minor": 0
      },
      "text/plain": [
       "special_tokens_map.json:   0%|          | 0.00/112 [00:00<?, ?B/s]"
      ]
     },
     "metadata": {},
     "output_type": "display_data"
    }
   ],
   "source": [
    "from transformers import AutoTokenizer, AutoModel\n",
    "tokenizer = AutoTokenizer.from_pretrained(\"cointegrated/rubert-tiny2\")\n"
   ]
  },
  {
   "cell_type": "code",
   "execution_count": 12,
   "id": "c35bb53b",
   "metadata": {
    "execution": {
     "iopub.execute_input": "2024-05-27T14:33:10.089524Z",
     "iopub.status.busy": "2024-05-27T14:33:10.089103Z",
     "iopub.status.idle": "2024-05-27T14:33:10.912264Z",
     "shell.execute_reply": "2024-05-27T14:33:10.911104Z"
    },
    "papermill": {
     "duration": 0.839298,
     "end_time": "2024-05-27T14:33:10.915171",
     "exception": false,
     "start_time": "2024-05-27T14:33:10.075873",
     "status": "completed"
    },
    "tags": []
   },
   "outputs": [],
   "source": [
    "# Преобразование текста в токены\n",
    "input_texts = train['text'].values.tolist()  # Преобразуйте тексты в список\n",
    "input_ids = tokenizer.batch_encode_plus(input_texts, add_special_tokens=True, padding=True, truncation=True, max_length=64, return_tensors='pt')['input_ids']\n",
    "# labels = torch.tensor(train_data['intent'].values)"
   ]
  },
  {
   "cell_type": "code",
   "execution_count": 13,
   "id": "716250bf",
   "metadata": {
    "execution": {
     "iopub.execute_input": "2024-05-27T14:33:10.940987Z",
     "iopub.status.busy": "2024-05-27T14:33:10.940495Z",
     "iopub.status.idle": "2024-05-27T14:33:10.954390Z",
     "shell.execute_reply": "2024-05-27T14:33:10.953370Z"
    },
    "papermill": {
     "duration": 0.029983,
     "end_time": "2024-05-27T14:33:10.956928",
     "exception": false,
     "start_time": "2024-05-27T14:33:10.926945",
     "status": "completed"
    },
    "tags": []
   },
   "outputs": [],
   "source": [
    "# Преобразование меток в числовой формат\n",
    "unique_intents = train['intent'].unique().tolist()\n",
    "intent_mapping = {intent: i for i, intent in enumerate(unique_intents)}\n",
    "train_labels = [intent_mapping[intent] for intent in train['intent']]\n",
    "test_labels = [intent_mapping[intent] for intent in test['intent']]"
   ]
  },
  {
   "cell_type": "code",
   "execution_count": 14,
   "id": "b8289747",
   "metadata": {
    "execution": {
     "iopub.execute_input": "2024-05-27T14:33:10.981741Z",
     "iopub.status.busy": "2024-05-27T14:33:10.981310Z",
     "iopub.status.idle": "2024-05-27T14:33:12.507897Z",
     "shell.execute_reply": "2024-05-27T14:33:12.506813Z"
    },
    "papermill": {
     "duration": 1.542632,
     "end_time": "2024-05-27T14:33:12.511109",
     "exception": false,
     "start_time": "2024-05-27T14:33:10.968477",
     "status": "completed"
    },
    "tags": []
   },
   "outputs": [],
   "source": [
    "import torch\n",
    "import torch.nn as nn\n",
    "from transformers import BertForSequenceClassification, AdamW"
   ]
  },
  {
   "cell_type": "code",
   "execution_count": 15,
   "id": "6f746856",
   "metadata": {
    "execution": {
     "iopub.execute_input": "2024-05-27T14:33:12.536515Z",
     "iopub.status.busy": "2024-05-27T14:33:12.535944Z",
     "iopub.status.idle": "2024-05-27T14:33:22.673969Z",
     "shell.execute_reply": "2024-05-27T14:33:22.672742Z"
    },
    "papermill": {
     "duration": 10.153768,
     "end_time": "2024-05-27T14:33:22.676798",
     "exception": false,
     "start_time": "2024-05-27T14:33:12.523030",
     "status": "completed"
    },
    "tags": []
   },
   "outputs": [
    {
     "data": {
      "application/vnd.jupyter.widget-view+json": {
       "model_id": "c1c37c958abd4232ac0b636d401d6c29",
       "version_major": 2,
       "version_minor": 0
      },
      "text/plain": [
       "config.json:   0%|          | 0.00/693 [00:00<?, ?B/s]"
      ]
     },
     "metadata": {},
     "output_type": "display_data"
    },
    {
     "data": {
      "application/vnd.jupyter.widget-view+json": {
       "model_id": "ca03429a9e2b4e2590930d17772eaf96",
       "version_major": 2,
       "version_minor": 0
      },
      "text/plain": [
       "model.safetensors:   0%|          | 0.00/118M [00:00<?, ?B/s]"
      ]
     },
     "metadata": {},
     "output_type": "display_data"
    },
    {
     "name": "stderr",
     "output_type": "stream",
     "text": [
      "Some weights of BertForSequenceClassification were not initialized from the model checkpoint at cointegrated/rubert-tiny2 and are newly initialized: ['classifier.bias', 'classifier.weight']\n",
      "You should probably TRAIN this model on a down-stream task to be able to use it for predictions and inference.\n",
      "/opt/conda/lib/python3.10/site-packages/transformers/optimization.py:457: FutureWarning: This implementation of AdamW is deprecated and will be removed in a future version. Use the PyTorch implementation torch.optim.AdamW instead, or set `no_deprecation_warning=True` to disable this warning\n",
      "  warnings.warn(\n"
     ]
    }
   ],
   "source": [
    "# Загрузка предобученной модели BERT\n",
    "#model = BertForSequenceClassification.from_pretrained('bert-base-uncased', num_labels=len(train_data['intent'].unique()))\n",
    "\n",
    "#ruberttiny\n",
    "# model = AutoModel.from_pretrained(\"cointegrated/rubert-tiny2\")\n",
    "\n",
    "model = BertForSequenceClassification.from_pretrained(\"cointegrated/rubert-tiny2\", num_labels=len(unique_intents))\n",
    "\n",
    "\n",
    "# Определение оптимизатора\n",
    "optimizer = AdamW(model.parameters(), lr=1e-3)\n",
    "\n",
    "device = torch.device(\"cuda\" if torch.cuda.is_available() else \"cpu\")\n",
    "model = model.to(device)\n",
    "\n",
    "# # Преобразование текста в токены и создание маски внимания\n",
    "# input_ids = tokenizer.encode(train_data['text'].values, add_special_tokens=True, padding=True, truncation=True, max_length=64, return_tensors='pt')\n",
    "# #labels = torch.tensor(train_data['intent'].values)\n",
    "\n",
    "# Преобразование текста в токены и создание маски внимания\n",
    "encoding = tokenizer.batch_encode_plus(\n",
    "    train['text'].values.tolist(),  # Преобразуйте тексты в список\n",
    "    add_special_tokens=True,\n",
    "    padding=True,\n",
    "    truncation=True,\n",
    "    max_length=64,\n",
    "    return_tensors='pt'\n",
    ")\n",
    "input_ids = encoding['input_ids']\n",
    "attention_mask = encoding['attention_mask']"
   ]
  },
  {
   "cell_type": "code",
   "execution_count": 16,
   "id": "5ad8170c",
   "metadata": {
    "execution": {
     "iopub.execute_input": "2024-05-27T14:33:22.703547Z",
     "iopub.status.busy": "2024-05-27T14:33:22.703115Z",
     "iopub.status.idle": "2024-05-27T14:33:22.709335Z",
     "shell.execute_reply": "2024-05-27T14:33:22.708171Z"
    },
    "papermill": {
     "duration": 0.022476,
     "end_time": "2024-05-27T14:33:22.711732",
     "exception": false,
     "start_time": "2024-05-27T14:33:22.689256",
     "status": "completed"
    },
    "tags": []
   },
   "outputs": [],
   "source": [
    "import matplotlib.pyplot as plt\n",
    "\n",
    "def plot_loss(loss_values):\n",
    "    plt.plot(loss_values)\n",
    "    plt.xlabel('Epoch')\n",
    "    plt.ylabel('Loss')\n",
    "    plt.title('Training Loss')\n",
    "    plt.show()"
   ]
  },
  {
   "cell_type": "code",
   "execution_count": 17,
   "id": "461b9c0d",
   "metadata": {
    "execution": {
     "iopub.execute_input": "2024-05-27T14:33:22.738570Z",
     "iopub.status.busy": "2024-05-27T14:33:22.737678Z",
     "iopub.status.idle": "2024-05-27T14:33:22.751948Z",
     "shell.execute_reply": "2024-05-27T14:33:22.750733Z"
    },
    "papermill": {
     "duration": 0.030404,
     "end_time": "2024-05-27T14:33:22.754422",
     "exception": false,
     "start_time": "2024-05-27T14:33:22.724018",
     "status": "completed"
    },
    "tags": []
   },
   "outputs": [],
   "source": [
    "from torch.utils.data import Dataset, DataLoader\n",
    "\n",
    "class IntentClassificationDataset(Dataset):\n",
    "    def __init__(self, texts, labels, tokenizer, max_len):\n",
    "        self.texts = texts\n",
    "        self.labels = labels\n",
    "        self.tokenizer = tokenizer\n",
    "        self.max_len = max_len\n",
    "\n",
    "    def __len__(self):\n",
    "        return len(self.texts)\n",
    "\n",
    "    def __getitem__(self, item):\n",
    "        text = str(self.texts[item])\n",
    "        label = self.labels[item]\n",
    "\n",
    "        encoding = self.tokenizer.encode_plus(\n",
    "            text,\n",
    "            add_special_tokens=True,\n",
    "            max_length=self.max_len,\n",
    "            return_token_type_ids=False,\n",
    "            padding='max_length',\n",
    "            truncation=True,\n",
    "            return_attention_mask=True,\n",
    "            return_tensors='pt',\n",
    "        )\n",
    "\n",
    "        return {\n",
    "            'text': text,\n",
    "            'input_ids': encoding['input_ids'].flatten(),\n",
    "            'attention_mask': encoding['attention_mask'].flatten(),\n",
    "            'labels': torch.tensor(label, dtype=torch.long)\n",
    "        }\n",
    "\n",
    "# Создание DataLoader\n",
    "def create_data_loader(texts, labels, tokenizer, max_len, batch_size):\n",
    "    ds = IntentClassificationDataset(\n",
    "        texts=texts,\n",
    "        labels=labels,\n",
    "        tokenizer=tokenizer,\n",
    "        max_len=max_len\n",
    "    )\n",
    "\n",
    "    return DataLoader(\n",
    "        ds,\n",
    "        batch_size=batch_size\n",
    "    )\n",
    "\n",
    "# Использование DataLoader в вашем коде\n",
    "batch_size = 8 # 16\n",
    "max_len = 64\n",
    "train_data_loader = create_data_loader(train['text'].values.tolist(), train_labels, tokenizer, max_len, batch_size)\n",
    "test_data_loader = create_data_loader(test['text'].values.tolist(), test_labels, tokenizer, max_len, batch_size)"
   ]
  },
  {
   "cell_type": "code",
   "execution_count": 18,
   "id": "d8836a27",
   "metadata": {
    "execution": {
     "iopub.execute_input": "2024-05-27T14:33:22.780838Z",
     "iopub.status.busy": "2024-05-27T14:33:22.780418Z",
     "iopub.status.idle": "2024-05-27T14:33:22.785199Z",
     "shell.execute_reply": "2024-05-27T14:33:22.784119Z"
    },
    "papermill": {
     "duration": 0.020932,
     "end_time": "2024-05-27T14:33:22.787649",
     "exception": false,
     "start_time": "2024-05-27T14:33:22.766717",
     "status": "completed"
    },
    "tags": []
   },
   "outputs": [],
   "source": [
    "# print(next(iter(train_data_loader)))"
   ]
  },
  {
   "cell_type": "code",
   "execution_count": 19,
   "id": "12038c86",
   "metadata": {
    "execution": {
     "iopub.execute_input": "2024-05-27T14:33:22.814031Z",
     "iopub.status.busy": "2024-05-27T14:33:22.813600Z",
     "iopub.status.idle": "2024-05-27T14:33:22.819027Z",
     "shell.execute_reply": "2024-05-27T14:33:22.817870Z"
    },
    "papermill": {
     "duration": 0.021244,
     "end_time": "2024-05-27T14:33:22.821400",
     "exception": false,
     "start_time": "2024-05-27T14:33:22.800156",
     "status": "completed"
    },
    "tags": []
   },
   "outputs": [],
   "source": [
    "from tqdm import tqdm\n",
    "from sklearn.metrics import accuracy_score, recall_score, f1_score\n",
    "from sklearn.metrics import precision_recall_fscore_support, balanced_accuracy_score"
   ]
  },
  {
   "cell_type": "markdown",
   "id": "2fc98ffe",
   "metadata": {
    "papermill": {
     "duration": 0.011975,
     "end_time": "2024-05-27T14:33:22.845656",
     "exception": false,
     "start_time": "2024-05-27T14:33:22.833681",
     "status": "completed"
    },
    "tags": []
   },
   "source": [
    "train bert"
   ]
  },
  {
   "cell_type": "code",
   "execution_count": 20,
   "id": "19aa1dd6",
   "metadata": {
    "execution": {
     "iopub.execute_input": "2024-05-27T14:33:22.873167Z",
     "iopub.status.busy": "2024-05-27T14:33:22.872742Z",
     "iopub.status.idle": "2024-05-27T14:33:22.880376Z",
     "shell.execute_reply": "2024-05-27T14:33:22.879163Z"
    },
    "papermill": {
     "duration": 0.024968,
     "end_time": "2024-05-27T14:33:22.882768",
     "exception": false,
     "start_time": "2024-05-27T14:33:22.857800",
     "status": "completed"
    },
    "scrolled": true,
    "tags": []
   },
   "outputs": [],
   "source": [
    "# # Количество эпох\n",
    "# epochs = 5\n",
    "\n",
    "# # Список для хранения значений потерь на каждой эпохе\n",
    "# loss_values = []\n",
    "# best_loss = float('inf')\n",
    "# best_acc = 0.8\n",
    "\n",
    "# for epoch in range(epochs):\n",
    "#     model.train()\n",
    "#     total_loss = 0\n",
    "\n",
    "#     # Используйте tqdm для отображения прогресса\n",
    "#     for batch in tqdm(train_data_loader, desc=f\"Epoch {epoch+1}\"):\n",
    "#         optimizer.zero_grad()\n",
    "#         input_ids = batch['input_ids']\n",
    "#         attention_mask = batch['attention_mask']\n",
    "#         labels = batch['labels']\n",
    "\n",
    "#         outputs = model(input_ids, attention_mask=attention_mask, labels=labels)\n",
    "#         loss = outputs.loss\n",
    "#         total_loss += loss.item()\n",
    "#         loss.backward()\n",
    "#         optimizer.step()\n",
    "\n",
    "#     avg_train_loss = total_loss / len(train_data_loader)\n",
    "#     loss_values.append(avg_train_loss)\n",
    "\n",
    "#     print(f\"Epoch: {epoch+1}, Train Loss: {avg_train_loss:.4f}\")\n",
    "\n",
    "#     model.eval()\n",
    "#     predictions , true_labels = [], []\n",
    "\n",
    "#     for batch in tqdm(test_data_loader, desc=f\"Validation Epoch {epoch+1}\"):\n",
    "#         with torch.no_grad():\n",
    "#             input_ids = batch['input_ids']\n",
    "#             attention_mask = batch['attention_mask']\n",
    "#             labels = batch['labels']\n",
    "\n",
    "#             outputs = model(input_ids, attention_mask=attention_mask, labels=labels)\n",
    "#             logits = outputs.logits\n",
    "#             logits = logits.detach().cpu().numpy()\n",
    "#             label_ids = labels.to('cpu').numpy()\n",
    "            \n",
    "#             print(logits.shape)\n",
    "#             predictions.extend(np.argmax(logits, axis=1).flatten())\n",
    "#             true_labels.extend(label_ids.flatten())\n",
    "\n",
    "#     acc = accuracy_score(true_labels, predictions)\n",
    "#     rec = recall_score(true_labels, predictions, average='weighted')\n",
    "#     f1 = f1_score(true_labels, predictions, average='weighted')\n",
    "\n",
    "#     print(f\"Accuracy: {acc:.4f}, Recall: {rec:.4f}, F1-score: {f1:.4f}\")\n",
    "\n",
    "#     # Ранняя остановка по потерям на валидации\n",
    "#     if avg_train_loss > best_loss:\n",
    "#         print(\"Early stopping due to increase in validation loss\")\n",
    "#         break\n",
    "\n",
    "#     # Ранняя остановка по точности на валидации\n",
    "#     if acc >= best_acc:\n",
    "#         print(\"Early stopping due to reaching target accuracy\")\n",
    "#         break\n",
    "\n",
    "#     best_loss = avg_train_loss\n",
    "\n",
    "# plot_loss(loss_values)"
   ]
  },
  {
   "cell_type": "raw",
   "id": "a38ca971",
   "metadata": {
    "papermill": {
     "duration": 0.011969,
     "end_time": "2024-05-27T14:33:22.907097",
     "exception": false,
     "start_time": "2024-05-27T14:33:22.895128",
     "status": "completed"
    },
    "tags": []
   },
   "source": [
    "Train rubert tiny 2"
   ]
  },
  {
   "cell_type": "code",
   "execution_count": 21,
   "id": "4a628bc3",
   "metadata": {
    "execution": {
     "iopub.execute_input": "2024-05-27T14:33:22.933936Z",
     "iopub.status.busy": "2024-05-27T14:33:22.933523Z",
     "iopub.status.idle": "2024-05-27T15:34:23.200594Z",
     "shell.execute_reply": "2024-05-27T15:34:23.199200Z"
    },
    "papermill": {
     "duration": 3660.283845,
     "end_time": "2024-05-27T15:34:23.203127",
     "exception": false,
     "start_time": "2024-05-27T14:33:22.919282",
     "status": "completed"
    },
    "tags": []
   },
   "outputs": [
    {
     "name": "stderr",
     "output_type": "stream",
     "text": [
      "Epoch 1: 100%|██████████| 1412/1412 [08:06<00:00,  2.90it/s]\n"
     ]
    },
    {
     "name": "stdout",
     "output_type": "stream",
     "text": [
      "Epoch: 1, Train Loss: 1.6448\n"
     ]
    },
    {
     "name": "stderr",
     "output_type": "stream",
     "text": [
      "Validation Epoch 1: 100%|██████████| 353/353 [00:12<00:00, 27.46it/s]\n",
      "/opt/conda/lib/python3.10/site-packages/sklearn/metrics/_classification.py:1344: UndefinedMetricWarning: Precision and F-score are ill-defined and being set to 0.0 in labels with no predicted samples. Use `zero_division` parameter to control this behavior.\n",
      "  _warn_prf(average, modifier, msg_start, len(result))\n"
     ]
    },
    {
     "name": "stdout",
     "output_type": "stream",
     "text": [
      "Accuracy: 0.7768, Recall: 0.7768, F1-score: 0.7484\n",
      "Balanced acc: 0.6400998722344223\n",
      "Weighted precision, recall, fscore: (0.7657923550719643, 0.7768331562167906, 0.7484020466120807, None)\n"
     ]
    },
    {
     "name": "stderr",
     "output_type": "stream",
     "text": [
      "Epoch 2: 100%|██████████| 1412/1412 [08:13<00:00,  2.86it/s]\n"
     ]
    },
    {
     "name": "stdout",
     "output_type": "stream",
     "text": [
      "Epoch: 2, Train Loss: 0.4796\n"
     ]
    },
    {
     "name": "stderr",
     "output_type": "stream",
     "text": [
      "Validation Epoch 2: 100%|██████████| 353/353 [00:13<00:00, 26.91it/s]\n",
      "/opt/conda/lib/python3.10/site-packages/sklearn/metrics/_classification.py:1344: UndefinedMetricWarning: Precision and F-score are ill-defined and being set to 0.0 in labels with no predicted samples. Use `zero_division` parameter to control this behavior.\n",
      "  _warn_prf(average, modifier, msg_start, len(result))\n"
     ]
    },
    {
     "name": "stdout",
     "output_type": "stream",
     "text": [
      "Accuracy: 0.8583, Recall: 0.8583, F1-score: 0.8450\n",
      "Balanced acc: 0.8226433362576697\n",
      "Weighted precision, recall, fscore: (0.8794275063185952, 0.8583067658519306, 0.8450460038848732, None)\n"
     ]
    },
    {
     "name": "stderr",
     "output_type": "stream",
     "text": [
      "Epoch 3: 100%|██████████| 1412/1412 [08:21<00:00,  2.82it/s]\n"
     ]
    },
    {
     "name": "stdout",
     "output_type": "stream",
     "text": [
      "Epoch: 3, Train Loss: 0.4072\n"
     ]
    },
    {
     "name": "stderr",
     "output_type": "stream",
     "text": [
      "Validation Epoch 3: 100%|██████████| 353/353 [00:13<00:00, 27.01it/s]\n",
      "/opt/conda/lib/python3.10/site-packages/sklearn/metrics/_classification.py:1344: UndefinedMetricWarning: Precision and F-score are ill-defined and being set to 0.0 in labels with no predicted samples. Use `zero_division` parameter to control this behavior.\n",
      "  _warn_prf(average, modifier, msg_start, len(result))\n"
     ]
    },
    {
     "name": "stdout",
     "output_type": "stream",
     "text": [
      "Accuracy: 0.8856, Recall: 0.8856, F1-score: 0.8810\n",
      "Balanced acc: 0.8513031034967462\n",
      "Weighted precision, recall, fscore: (0.8992815668711308, 0.8855827134254339, 0.8809587606384348, None)\n"
     ]
    },
    {
     "name": "stderr",
     "output_type": "stream",
     "text": [
      "Epoch 4: 100%|██████████| 1412/1412 [08:32<00:00,  2.76it/s]\n"
     ]
    },
    {
     "name": "stdout",
     "output_type": "stream",
     "text": [
      "Epoch: 4, Train Loss: 0.4353\n"
     ]
    },
    {
     "name": "stderr",
     "output_type": "stream",
     "text": [
      "Validation Epoch 4: 100%|██████████| 353/353 [00:13<00:00, 25.25it/s]\n",
      "/opt/conda/lib/python3.10/site-packages/sklearn/metrics/_classification.py:1344: UndefinedMetricWarning: Precision and F-score are ill-defined and being set to 0.0 in labels with no predicted samples. Use `zero_division` parameter to control this behavior.\n",
      "  _warn_prf(average, modifier, msg_start, len(result))\n"
     ]
    },
    {
     "name": "stdout",
     "output_type": "stream",
     "text": [
      "Accuracy: 0.8448, Recall: 0.8448, F1-score: 0.8381\n",
      "Balanced acc: 0.8158960973153209\n",
      "Weighted precision, recall, fscore: (0.8728669023167617, 0.844845908607864, 0.8380938080088484, None)\n"
     ]
    },
    {
     "name": "stderr",
     "output_type": "stream",
     "text": [
      "Epoch 5: 100%|██████████| 1412/1412 [08:40<00:00,  2.71it/s]\n"
     ]
    },
    {
     "name": "stdout",
     "output_type": "stream",
     "text": [
      "Epoch: 5, Train Loss: 0.3232\n"
     ]
    },
    {
     "name": "stderr",
     "output_type": "stream",
     "text": [
      "Validation Epoch 5: 100%|██████████| 353/353 [00:13<00:00, 26.25it/s]\n",
      "/opt/conda/lib/python3.10/site-packages/sklearn/metrics/_classification.py:1344: UndefinedMetricWarning: Precision and F-score are ill-defined and being set to 0.0 in labels with no predicted samples. Use `zero_division` parameter to control this behavior.\n",
      "  _warn_prf(average, modifier, msg_start, len(result))\n"
     ]
    },
    {
     "name": "stdout",
     "output_type": "stream",
     "text": [
      "Accuracy: 0.8990, Recall: 0.8990, F1-score: 0.8946\n",
      "Balanced acc: 0.8843223048376925\n",
      "Weighted precision, recall, fscore: (0.9074423211961994, 0.8990435706695006, 0.8945715202874331, None)\n"
     ]
    },
    {
     "name": "stderr",
     "output_type": "stream",
     "text": [
      "Epoch 6: 100%|██████████| 1412/1412 [08:44<00:00,  2.69it/s]\n"
     ]
    },
    {
     "name": "stdout",
     "output_type": "stream",
     "text": [
      "Epoch: 6, Train Loss: 0.3145\n"
     ]
    },
    {
     "name": "stderr",
     "output_type": "stream",
     "text": [
      "Validation Epoch 6: 100%|██████████| 353/353 [00:14<00:00, 25.06it/s]\n",
      "/opt/conda/lib/python3.10/site-packages/sklearn/metrics/_classification.py:1344: UndefinedMetricWarning: Precision and F-score are ill-defined and being set to 0.0 in labels with no predicted samples. Use `zero_division` parameter to control this behavior.\n",
      "  _warn_prf(average, modifier, msg_start, len(result))\n"
     ]
    },
    {
     "name": "stdout",
     "output_type": "stream",
     "text": [
      "Accuracy: 0.8739, Recall: 0.8739, F1-score: 0.8656\n",
      "Balanced acc: 0.819974299004617\n",
      "Weighted precision, recall, fscore: (0.8874752329947376, 0.8738930216082182, 0.8656013741018683, None)\n"
     ]
    },
    {
     "name": "stderr",
     "output_type": "stream",
     "text": [
      "Epoch 7: 100%|██████████| 1412/1412 [08:46<00:00,  2.68it/s]\n"
     ]
    },
    {
     "name": "stdout",
     "output_type": "stream",
     "text": [
      "Epoch: 7, Train Loss: 0.3038\n"
     ]
    },
    {
     "name": "stderr",
     "output_type": "stream",
     "text": [
      "Validation Epoch 7: 100%|██████████| 353/353 [00:14<00:00, 24.13it/s]\n",
      "/opt/conda/lib/python3.10/site-packages/sklearn/metrics/_classification.py:1344: UndefinedMetricWarning: Precision and F-score are ill-defined and being set to 0.0 in labels with no predicted samples. Use `zero_division` parameter to control this behavior.\n",
      "  _warn_prf(average, modifier, msg_start, len(result))\n"
     ]
    },
    {
     "name": "stdout",
     "output_type": "stream",
     "text": [
      "Accuracy: 0.9160, Recall: 0.9160, F1-score: 0.9115\n",
      "Balanced acc: 0.8906399048103024\n",
      "Weighted precision, recall, fscore: (0.9196284043566537, 0.9160467587672688, 0.9115262719005303, None)\n"
     ]
    },
    {
     "data": {
      "image/png": "[encoded data removed]",
      "text/plain": [
       "<Figure size 640x480 with 1 Axes>"
      ]
     },
     "metadata": {},
     "output_type": "display_data"
    }
   ],
   "source": [
    "from transformers import BertForSequenceClassification\n",
    "\n",
    "# tokenizer = AutoTokenizer.from_pretrained(\"cointegrated/rubert-tiny2\")\n",
    "# model = BertForSequenceClassification.from_pretrained(\"cointegrated/rubert-tiny2\")\n",
    "\n",
    "# Количество эпох\n",
    "epochs = 7\n",
    "\n",
    "# Список для хранения значений потерь на каждой эпохе\n",
    "loss_values = []\n",
    "best_loss = float('inf')\n",
    "best_acc = 0.98\n",
    "\n",
    "for epoch in range(epochs):\n",
    "    model.train()\n",
    "    total_loss = 0\n",
    "\n",
    "    # Используйте tqdm для отображения прогресса\n",
    "    for batch in tqdm(train_data_loader, desc=f\"Epoch {epoch+1}\"):\n",
    "        optimizer.zero_grad()\n",
    "        input_ids = batch['input_ids']\n",
    "        attention_mask = batch['attention_mask']\n",
    "        labels = batch['labels']\n",
    "\n",
    "        outputs = model(input_ids, attention_mask=attention_mask, labels=labels)\n",
    "        loss = outputs.loss\n",
    "        total_loss += loss.item()\n",
    "        loss.backward()\n",
    "        optimizer.step()\n",
    "\n",
    "    avg_train_loss = total_loss / len(train_data_loader)\n",
    "    loss_values.append(avg_train_loss)\n",
    "\n",
    "    print(f\"Epoch: {epoch+1}, Train Loss: {avg_train_loss:.4f}\")\n",
    "\n",
    "    model.eval()\n",
    "    predictions , true_labels = [], []\n",
    "\n",
    "    for batch in tqdm(test_data_loader, desc=f\"Validation Epoch {epoch+1}\"):\n",
    "        with torch.no_grad():\n",
    "            input_ids = batch['input_ids']\n",
    "            attention_mask = batch['attention_mask']\n",
    "            labels = batch['labels']\n",
    "\n",
    "            outputs = model(input_ids, attention_mask=attention_mask, labels=labels)\n",
    "            logits = outputs.logits\n",
    "            logits = logits.detach().cpu().numpy()\n",
    "            label_ids = labels.to('cpu').numpy()\n",
    "            \n",
    "            # print(logits.shape)\n",
    "            predictions.extend(np.argmax(logits, axis=1).flatten())\n",
    "            true_labels.extend(label_ids.flatten())\n",
    "\n",
    "    acc = accuracy_score(true_labels, predictions)\n",
    "    rec = recall_score(true_labels, predictions, average='weighted')\n",
    "    f1 = f1_score(true_labels, predictions, average='weighted')\n",
    "\n",
    "    print(f\"Accuracy: {acc:.4f}, Recall: {rec:.4f}, F1-score: {f1:.4f}\")\n",
    "    print(\"Balanced acc:\", balanced_accuracy_score(true_labels, predictions))\n",
    "    print(\"Weighted precision, recall, fscore:\", precision_recall_fscore_support(true_labels, predictions, average='weighted'))\n",
    "\n",
    "#     # Ранняя остановка по потерям на валидации\n",
    "#     if avg_train_loss > best_loss:\n",
    "#         print(\"Early stopping due to increase in validation loss\")\n",
    "#         break\n",
    "\n",
    "#     # Ранняя остановка по точности на валидации\n",
    "#     if acc >= best_acc:\n",
    "#         print(\"Early stopping due to reaching target accuracy\")\n",
    "#         break\n",
    "\n",
    "    best_loss = avg_train_loss\n",
    "\n",
    "plot_loss(loss_values)\n"
   ]
  },
  {
   "cell_type": "code",
   "execution_count": 22,
   "id": "a4528c19",
   "metadata": {
    "execution": {
     "iopub.execute_input": "2024-05-27T15:34:25.316854Z",
     "iopub.status.busy": "2024-05-27T15:34:25.316403Z",
     "iopub.status.idle": "2024-05-27T15:34:25.550542Z",
     "shell.execute_reply": "2024-05-27T15:34:25.549488Z"
    },
    "papermill": {
     "duration": 1.326683,
     "end_time": "2024-05-27T15:34:25.553300",
     "exception": false,
     "start_time": "2024-05-27T15:34:24.226617",
     "status": "completed"
    },
    "tags": []
   },
   "outputs": [],
   "source": [
    "from sklearn.metrics import confusion_matrix\n",
    "import seaborn as sns\n",
    "import matplotlib.pyplot as plt"
   ]
  },
  {
   "cell_type": "code",
   "execution_count": 23,
   "id": "4671e8ad",
   "metadata": {
    "execution": {
     "iopub.execute_input": "2024-05-27T15:34:27.655761Z",
     "iopub.status.busy": "2024-05-27T15:34:27.655313Z",
     "iopub.status.idle": "2024-05-27T15:34:40.463998Z",
     "shell.execute_reply": "2024-05-27T15:34:40.462860Z"
    },
    "papermill": {
     "duration": 13.898494,
     "end_time": "2024-05-27T15:34:40.466715",
     "exception": false,
     "start_time": "2024-05-27T15:34:26.568221",
     "status": "completed"
    },
    "tags": []
   },
   "outputs": [],
   "source": [
    "# Предсказание на тестовых данных\n",
    "model.eval()\n",
    "predictions = []\n",
    "with torch.no_grad():\n",
    "    for batch in test_data_loader:\n",
    "        input_ids = batch[\"input_ids\"].to(device)\n",
    "        attention_mask = batch[\"attention_mask\"].to(device)\n",
    "\n",
    "        outputs = model(input_ids=input_ids, attention_mask=attention_mask)\n",
    "        _, preds = torch.max(outputs.logits, dim=1)\n",
    "\n",
    "        predictions.extend(preds)\n",
    "\n",
    "predicted_labels = [pred.item() for pred in predictions]\n"
   ]
  },
  {
   "cell_type": "code",
   "execution_count": 24,
   "id": "23b36b44",
   "metadata": {
    "execution": {
     "iopub.execute_input": "2024-05-27T15:34:42.665022Z",
     "iopub.status.busy": "2024-05-27T15:34:42.663902Z",
     "iopub.status.idle": "2024-05-27T15:34:42.669347Z",
     "shell.execute_reply": "2024-05-27T15:34:42.668269Z"
    },
    "papermill": {
     "duration": 1.194569,
     "end_time": "2024-05-27T15:34:42.671721",
     "exception": false,
     "start_time": "2024-05-27T15:34:41.477152",
     "status": "completed"
    },
    "tags": []
   },
   "outputs": [],
   "source": [
    "# print(balanced_accuracy_score(test_labels, predicted_labels))"
   ]
  },
  {
   "cell_type": "code",
   "execution_count": 25,
   "id": "89be1805",
   "metadata": {
    "execution": {
     "iopub.execute_input": "2024-05-27T15:34:44.703403Z",
     "iopub.status.busy": "2024-05-27T15:34:44.703027Z",
     "iopub.status.idle": "2024-05-27T15:34:44.722236Z",
     "shell.execute_reply": "2024-05-27T15:34:44.721087Z"
    },
    "papermill": {
     "duration": 1.036622,
     "end_time": "2024-05-27T15:34:44.725596",
     "exception": false,
     "start_time": "2024-05-27T15:34:43.688974",
     "status": "completed"
    },
    "tags": []
   },
   "outputs": [
    {
     "name": "stdout",
     "output_type": "stream",
     "text": [
      "0.8906399048103024\n",
      "(0.9196284043566537, 0.9160467587672688, 0.9115262719005303, None)\n"
     ]
    },
    {
     "name": "stderr",
     "output_type": "stream",
     "text": [
      "/opt/conda/lib/python3.10/site-packages/sklearn/metrics/_classification.py:1344: UndefinedMetricWarning: Precision and F-score are ill-defined and being set to 0.0 in labels with no predicted samples. Use `zero_division` parameter to control this behavior.\n",
      "  _warn_prf(average, modifier, msg_start, len(result))\n"
     ]
    }
   ],
   "source": [
    "print(balanced_accuracy_score(test_labels, predicted_labels))\n",
    "print(precision_recall_fscore_support(test_labels, predicted_labels, average='weighted'))"
   ]
  },
  {
   "cell_type": "code",
   "execution_count": 26,
   "id": "276a4cdb",
   "metadata": {
    "execution": {
     "iopub.execute_input": "2024-05-27T15:34:46.851074Z",
     "iopub.status.busy": "2024-05-27T15:34:46.850594Z",
     "iopub.status.idle": "2024-05-27T15:34:46.862210Z",
     "shell.execute_reply": "2024-05-27T15:34:46.860998Z"
    },
    "papermill": {
     "duration": 1.033539,
     "end_time": "2024-05-27T15:34:46.864793",
     "exception": false,
     "start_time": "2024-05-27T15:34:45.831254",
     "status": "completed"
    },
    "tags": []
   },
   "outputs": [
    {
     "name": "stdout",
     "output_type": "stream",
     "text": [
      "Confusion Matrix: \n",
      "[[ 53   0   0 ...   0   0   0]\n",
      " [  0 215   0 ...   0   0   0]\n",
      " [  0   0  15 ...   0   0   0]\n",
      " ...\n",
      " [  0   0   0 ...   7   0   0]\n",
      " [  0   0   0 ...   0   6   0]\n",
      " [  0   0   0 ...   0   0   4]]\n"
     ]
    }
   ],
   "source": [
    "# Построение confusion matrix\n",
    "cm = confusion_matrix(test_labels, predicted_labels)\n",
    "print(f'Confusion Matrix: \\n{cm}')"
   ]
  },
  {
   "cell_type": "code",
   "execution_count": 27,
   "id": "9ad71ad1",
   "metadata": {
    "execution": {
     "iopub.execute_input": "2024-05-27T15:34:48.971018Z",
     "iopub.status.busy": "2024-05-27T15:34:48.970611Z",
     "iopub.status.idle": "2024-05-27T15:35:28.336690Z",
     "shell.execute_reply": "2024-05-27T15:35:28.335505Z"
    },
    "papermill": {
     "duration": 41.488942,
     "end_time": "2024-05-27T15:35:29.366793",
     "exception": false,
     "start_time": "2024-05-27T15:34:47.877851",
     "status": "completed"
    },
    "tags": []
   },
   "outputs": [
    {
     "data": {
      "image/png": "[encoded data removed]",
      "text/plain": [
       "<Figure size 2000x2000 with 2 Axes>"
      ]
     },
     "metadata": {},
     "output_type": "display_data"
    }
   ],
   "source": [
    "# Визуализация матрицы ошибок с использованием seaborn\n",
    "plt.figure(figsize=(20, 20))\n",
    "sns.heatmap(cm, annot=True, fmt='d', cmap='Blues', xticklabels=set(test_labels), yticklabels=set(predicted_labels))\n",
    "plt.xlabel('Предсказанный класс')\n",
    "plt.ylabel('Истинный класс')\n",
    "plt.title('Матрица ошибок')\n",
    "plt.show()\n"
   ]
  }
 ],
 "metadata": {
  "kaggle": {
   "accelerator": "none",
   "dataSources": [
    {
     "datasetId": 1549969,
     "sourceId": 2560015,
     "sourceType": "datasetVersion"
    }
   ],
   "dockerImageVersionId": 30698,
   "isGpuEnabled": false,
   "isInternetEnabled": true,
   "language": "python",
   "sourceType": "notebook"
  },
  "kernelspec": {
   "display_name": "Python 3",
   "language": "python",
   "name": "python3"
  },
  "language_info": {
   "codemirror_mode": {
    "name": "ipython",
    "version": 3
   },
   "file_extension": ".py",
   "mimetype": "text/x-python",
   "name": "python",
   "nbconvert_exporter": "python",
   "pygments_lexer": "ipython3",
   "version": "3.10.13"
  },
  "papermill": {
   "default_parameters": {},
   "duration": 3760.195486,
   "end_time": "2024-05-27T15:35:32.918447",
   "environment_variables": {},
   "exception": null,
   "input_path": "__notebook__.ipynb",
   "output_path": "__notebook__.ipynb",
   "parameters": {},
   "start_time": "2024-05-27T14:32:52.722961",
   "version": "2.5.0"
  },
  "widgets": {
   "application/vnd.jupyter.widget-state+json": {
    "state": {
     "051763e971f642e8abb5afc313858cfe": {
      "model_module": "@jupyter-widgets/base",
      "model_module_version": "1.2.0",
      "model_name": "LayoutModel",
      "state": {
       "_model_module": "@jupyter-widgets/base",
       "_model_module_version": "1.2.0",
       "_model_name": "LayoutModel",
       "_view_count": null,
       "_view_module": "@jupyter-widgets/base",
       "_view_module_version": "1.2.0",
       "_view_name": "LayoutView",
       "align_content": null,
       "align_items": null,
       "align_self": null,
       "border": null,
       "bottom": null,
       "display": null,
       "flex": null,
       "flex_flow": null,
       "grid_area": null,
       "grid_auto_columns": null,
       "grid_auto_flow": null,
       "grid_auto_rows": null,
       "grid_column": null,
       "grid_gap": null,
       "grid_row": null,
       "grid_template_areas": null,
       "grid_template_columns": null,
       "grid_template_rows": null,
       "height": null,
       "justify_content": null,
       "justify_items": null,
       "left": null,
       "margin": null,
       "max_height": null,
       "max_width": null,
       "min_height": null,
       "min_width": null,
       "object_fit": null,
       "object_position": null,
       "order": null,
       "overflow": null,
       "overflow_x": null,
       "overflow_y": null,
       "padding": null,
       "right": null,
       "top": null,
       "visibility": null,
       "width": null
      }
     },
     "074e5f8007b74aeb9df15873f9862f00": {
      "model_module": "@jupyter-widgets/base",
      "model_module_version": "1.2.0",
      "model_name": "LayoutModel",
      "state": {
       "_model_module": "@jupyter-widgets/base",
       "_model_module_version": "1.2.0",
       "_model_name": "LayoutModel",
       "_view_count": null,
       "_view_module": "@jupyter-widgets/base",
       "_view_module_version": "1.2.0",
       "_view_name": "LayoutView",
       "align_content": null,
       "align_items": null,
       "align_self": null,
       "border": null,
       "bottom": null,
       "display": null,
       "flex": null,
       "flex_flow": null,
       "grid_area": null,
       "grid_auto_columns": null,
       "grid_auto_flow": null,
       "grid_auto_rows": null,
       "grid_column": null,
       "grid_gap": null,
       "grid_row": null,
       "grid_template_areas": null,
       "grid_template_columns": null,
       "grid_template_rows": null,
       "height": null,
       "justify_content": null,
       "justify_items": null,
       "left": null,
       "margin": null,
       "max_height": null,
       "max_width": null,
       "min_height": null,
       "min_width": null,
       "object_fit": null,
       "object_position": null,
       "order": null,
       "overflow": null,
       "overflow_x": null,
       "overflow_y": null,
       "padding": null,
       "right": null,
       "top": null,
       "visibility": null,
       "width": null
      }
     },
     "0c41cf5f51c3413591d1e716f8222ccb": {
      "model_module": "@jupyter-widgets/base",
      "model_module_version": "1.2.0",
      "model_name": "LayoutModel",
      "state": {
       "_model_module": "@jupyter-widgets/base",
       "_model_module_version": "1.2.0",
       "_model_name": "LayoutModel",
       "_view_count": null,
       "_view_module": "@jupyter-widgets/base",
       "_view_module_version": "1.2.0",
       "_view_name": "LayoutView",
       "align_content": null,
       "align_items": null,
       "align_self": null,
       "border": null,
       "bottom": null,
       "display": null,
       "flex": null,
       "flex_flow": null,
       "grid_area": null,
       "grid_auto_columns": null,
       "grid_auto_flow": null,
       "grid_auto_rows": null,
       "grid_column": null,
       "grid_gap": null,
       "grid_row": null,
       "grid_template_areas": null,
       "grid_template_columns": null,
       "grid_template_rows": null,
       "height": null,
       "justify_content": null,
       "justify_items": null,
       "left": null,
       "margin": null,
       "max_height": null,
       "max_width": null,
       "min_height": null,
       "min_width": null,
       "object_fit": null,
       "object_position": null,
       "order": null,
       "overflow": null,
       "overflow_x": null,
       "overflow_y": null,
       "padding": null,
       "right": null,
       "top": null,
       "visibility": null,
       "width": null
      }
     },
     "0f8aeaa48da74354aa9824b992f2d01d": {
      "model_module": "@jupyter-widgets/controls",
      "model_module_version": "1.5.0",
      "model_name": "HTMLModel",
      "state": {
       "_dom_classes": [],
       "_model_module": "@jupyter-widgets/controls",
       "_model_module_version": "1.5.0",
       "_model_name": "HTMLModel",
       "_view_count": null,
       "_view_module": "@jupyter-widgets/controls",
       "_view_module_version": "1.5.0",
       "_view_name": "HTMLView",
       "description": "",
       "description_tooltip": null,
       "layout": "IPY_MODEL_a14f1956de4b4745b63a690aae4d35fc",
       "placeholder": "​",
       "style": "IPY_MODEL_198c4966befb4d2ba9deba7e1f2dea3c",
       "value": " 118M/118M [00:07&lt;00:00, 18.2MB/s]"
      }
     },
     "14404ead42f44846a6cf6637df105022": {
      "model_module": "@jupyter-widgets/controls",
      "model_module_version": "1.5.0",
      "model_name": "ProgressStyleModel",
      "state": {
       "_model_module": "@jupyter-widgets/controls",
       "_model_module_version": "1.5.0",
       "_model_name": "ProgressStyleModel",
       "_view_count": null,
       "_view_module": "@jupyter-widgets/base",
       "_view_module_version": "1.2.0",
       "_view_name": "StyleView",
       "bar_color": null,
       "description_width": ""
      }
     },
     "1492fba1cbce4b7ea45026b730fa63b2": {
      "model_module": "@jupyter-widgets/controls",
      "model_module_version": "1.5.0",
      "model_name": "HTMLModel",
      "state": {
       "_dom_classes": [],
       "_model_module": "@jupyter-widgets/controls",
       "_model_module_version": "1.5.0",
       "_model_name": "HTMLModel",
       "_view_count": null,
       "_view_module": "@jupyter-widgets/controls",
       "_view_module_version": "1.5.0",
       "_view_name": "HTMLView",
       "description": "",
       "description_tooltip": null,
       "layout": "IPY_MODEL_775e87515a9d4a3f957b6475c7a5a28b",
       "placeholder": "​",
       "style": "IPY_MODEL_a13ee81c42684ef3b4e4e65eab3483f9",
       "value": " 693/693 [00:00&lt;00:00, 50.0kB/s]"
      }
     },
     "198c4966befb4d2ba9deba7e1f2dea3c": {
      "model_module": "@jupyter-widgets/controls",
      "model_module_version": "1.5.0",
      "model_name": "DescriptionStyleModel",
      "state": {
       "_model_module": "@jupyter-widgets/controls",
       "_model_module_version": "1.5.0",
       "_model_name": "DescriptionStyleModel",
       "_view_count": null,
       "_view_module": "@jupyter-widgets/base",
       "_view_module_version": "1.2.0",
       "_view_name": "StyleView",
       "description_width": ""
      }
     },
     "1b148717a2d64e99a7ae9a2dec3e4062": {
      "model_module": "@jupyter-widgets/base",
      "model_module_version": "1.2.0",
      "model_name": "LayoutModel",
      "state": {
       "_model_module": "@jupyter-widgets/base",
       "_model_module_version": "1.2.0",
       "_model_name": "LayoutModel",
       "_view_count": null,
       "_view_module": "@jupyter-widgets/base",
       "_view_module_version": "1.2.0",
       "_view_name": "LayoutView",
       "align_content": null,
       "align_items": null,
       "align_self": null,
       "border": null,
       "bottom": null,
       "display": null,
       "flex": null,
       "flex_flow": null,
       "grid_area": null,
       "grid_auto_columns": null,
       "grid_auto_flow": null,
       "grid_auto_rows": null,
       "grid_column": null,
       "grid_gap": null,
       "grid_row": null,
       "grid_template_areas": null,
       "grid_template_columns": null,
       "grid_template_rows": null,
       "height": null,
       "justify_content": null,
       "justify_items": null,
       "left": null,
       "margin": null,
       "max_height": null,
       "max_width": null,
       "min_height": null,
       "min_width": null,
       "object_fit": null,
       "object_position": null,
       "order": null,
       "overflow": null,
       "overflow_x": null,
       "overflow_y": null,
       "padding": null,
       "right": null,
       "top": null,
       "visibility": null,
       "width": null
      }
     },
     "1e82318312cf468fae0ae60bb1ae6f7b": {
      "model_module": "@jupyter-widgets/base",
      "model_module_version": "1.2.0",
      "model_name": "LayoutModel",
      "state": {
       "_model_module": "@jupyter-widgets/base",
       "_model_module_version": "1.2.0",
       "_model_name": "LayoutModel",
       "_view_count": null,
       "_view_module": "@jupyter-widgets/base",
       "_view_module_version": "1.2.0",
       "_view_name": "LayoutView",
       "align_content": null,
       "align_items": null,
       "align_self": null,
       "border": null,
       "bottom": null,
       "display": null,
       "flex": null,
       "flex_flow": null,
       "grid_area": null,
       "grid_auto_columns": null,
       "grid_auto_flow": null,
       "grid_auto_rows": null,
       "grid_column": null,
       "grid_gap": null,
       "grid_row": null,
       "grid_template_areas": null,
       "grid_template_columns": null,
       "grid_template_rows": null,
       "height": null,
       "justify_content": null,
       "justify_items": null,
       "left": null,
       "margin": null,
       "max_height": null,
       "max_width": null,
       "min_height": null,
       "min_width": null,
       "object_fit": null,
       "object_position": null,
       "order": null,
       "overflow": null,
       "overflow_x": null,
       "overflow_y": null,
       "padding": null,
       "right": null,
       "top": null,
       "visibility": null,
       "width": null
      }
     },
     "1f67e9c2f2f24a52b8e8fb43680cb53e": {
      "model_module": "@jupyter-widgets/base",
      "model_module_version": "1.2.0",
      "model_name": "LayoutModel",
      "state": {
       "_model_module": "@jupyter-widgets/base",
       "_model_module_version": "1.2.0",
       "_model_name": "LayoutModel",
       "_view_count": null,
       "_view_module": "@jupyter-widgets/base",
       "_view_module_version": "1.2.0",
       "_view_name": "LayoutView",
       "align_content": null,
       "align_items": null,
       "align_self": null,
       "border": null,
       "bottom": null,
       "display": null,
       "flex": null,
       "flex_flow": null,
       "grid_area": null,
       "grid_auto_columns": null,
       "grid_auto_flow": null,
       "grid_auto_rows": null,
       "grid_column": null,
       "grid_gap": null,
       "grid_row": null,
       "grid_template_areas": null,
       "grid_template_columns": null,
       "grid_template_rows": null,
       "height": null,
       "justify_content": null,
       "justify_items": null,
       "left": null,
       "margin": null,
       "max_height": null,
       "max_width": null,
       "min_height": null,
       "min_width": null,
       "object_fit": null,
       "object_position": null,
       "order": null,
       "overflow": null,
       "overflow_x": null,
       "overflow_y": null,
       "padding": null,
       "right": null,
       "top": null,
       "visibility": null,
       "width": null
      }
     },
     "2acf270c30e24e778c9cf7611ed1f017": {
      "model_module": "@jupyter-widgets/base",
      "model_module_version": "1.2.0",
      "model_name": "LayoutModel",
      "state": {
       "_model_module": "@jupyter-widgets/base",
       "_model_module_version": "1.2.0",
       "_model_name": "LayoutModel",
       "_view_count": null,
       "_view_module": "@jupyter-widgets/base",
       "_view_module_version": "1.2.0",
       "_view_name": "LayoutView",
       "align_content": null,
       "align_items": null,
       "align_self": null,
       "border": null,
       "bottom": null,
       "display": null,
       "flex": null,
       "flex_flow": null,
       "grid_area": null,
       "grid_auto_columns": null,
       "grid_auto_flow": null,
       "grid_auto_rows": null,
       "grid_column": null,
       "grid_gap": null,
       "grid_row": null,
       "grid_template_areas": null,
       "grid_template_columns": null,
       "grid_template_rows": null,
       "height": null,
       "justify_content": null,
       "justify_items": null,
       "left": null,
       "margin": null,
       "max_height": null,
       "max_width": null,
       "min_height": null,
       "min_width": null,
       "object_fit": null,
       "object_position": null,
       "order": null,
       "overflow": null,
       "overflow_x": null,
       "overflow_y": null,
       "padding": null,
       "right": null,
       "top": null,
       "visibility": null,
       "width": null
      }
     },
     "32b3b1c722974297883bc66a7b11472d": {
      "model_module": "@jupyter-widgets/controls",
      "model_module_version": "1.5.0",
      "model_name": "DescriptionStyleModel",
      "state": {
       "_model_module": "@jupyter-widgets/controls",
       "_model_module_version": "1.5.0",
       "_model_name": "DescriptionStyleModel",
       "_view_count": null,
       "_view_module": "@jupyter-widgets/base",
       "_view_module_version": "1.2.0",
       "_view_name": "StyleView",
       "description_width": ""
      }
     },
     "3b6119d3c1a1442c83711baae04e61b1": {
      "model_module": "@jupyter-widgets/base",
      "model_module_version": "1.2.0",
      "model_name": "LayoutModel",
      "state": {
       "_model_module": "@jupyter-widgets/base",
       "_model_module_version": "1.2.0",
       "_model_name": "LayoutModel",
       "_view_count": null,
       "_view_module": "@jupyter-widgets/base",
       "_view_module_version": "1.2.0",
       "_view_name": "LayoutView",
       "align_content": null,
       "align_items": null,
       "align_self": null,
       "border": null,
       "bottom": null,
       "display": null,
       "flex": null,
       "flex_flow": null,
       "grid_area": null,
       "grid_auto_columns": null,
       "grid_auto_flow": null,
       "grid_auto_rows": null,
       "grid_column": null,
       "grid_gap": null,
       "grid_row": null,
       "grid_template_areas": null,
       "grid_template_columns": null,
       "grid_template_rows": null,
       "height": null,
       "justify_content": null,
       "justify_items": null,
       "left": null,
       "margin": null,
       "max_height": null,
       "max_width": null,
       "min_height": null,
       "min_width": null,
       "object_fit": null,
       "object_position": null,
       "order": null,
       "overflow": null,
       "overflow_x": null,
       "overflow_y": null,
       "padding": null,
       "right": null,
       "top": null,
       "visibility": null,
       "width": null
      }
     },
     "3d07aaaee7bf409eaaefda597f0764ab": {
      "model_module": "@jupyter-widgets/controls",
      "model_module_version": "1.5.0",
      "model_name": "HTMLModel",
      "state": {
       "_dom_classes": [],
       "_model_module": "@jupyter-widgets/controls",
       "_model_module_version": "1.5.0",
       "_model_name": "HTMLModel",
       "_view_count": null,
       "_view_module": "@jupyter-widgets/controls",
       "_view_module_version": "1.5.0",
       "_view_name": "HTMLView",
       "description": "",
       "description_tooltip": null,
       "layout": "IPY_MODEL_67b1a4d55d314b99a75763f6b21d2edc",
       "placeholder": "​",
       "style": "IPY_MODEL_32b3b1c722974297883bc66a7b11472d",
       "value": " 112/112 [00:00&lt;00:00, 8.39kB/s]"
      }
     },
     "3e59fc560fe341d68db57d0266c68ace": {
      "model_module": "@jupyter-widgets/base",
      "model_module_version": "1.2.0",
      "model_name": "LayoutModel",
      "state": {
       "_model_module": "@jupyter-widgets/base",
       "_model_module_version": "1.2.0",
       "_model_name": "LayoutModel",
       "_view_count": null,
       "_view_module": "@jupyter-widgets/base",
       "_view_module_version": "1.2.0",
       "_view_name": "LayoutView",
       "align_content": null,
       "align_items": null,
       "align_self": null,
       "border": null,
       "bottom": null,
       "display": null,
       "flex": null,
       "flex_flow": null,
       "grid_area": null,
       "grid_auto_columns": null,
       "grid_auto_flow": null,
       "grid_auto_rows": null,
       "grid_column": null,
       "grid_gap": null,
       "grid_row": null,
       "grid_template_areas": null,
       "grid_template_columns": null,
       "grid_template_rows": null,
       "height": null,
       "justify_content": null,
       "justify_items": null,
       "left": null,
       "margin": null,
       "max_height": null,
       "max_width": null,
       "min_height": null,
       "min_width": null,
       "object_fit": null,
       "object_position": null,
       "order": null,
       "overflow": null,
       "overflow_x": null,
       "overflow_y": null,
       "padding": null,
       "right": null,
       "top": null,
       "visibility": null,
       "width": null
      }
     },
     "42bbd534bb594bc699c6501fcc3a6420": {
      "model_module": "@jupyter-widgets/controls",
      "model_module_version": "1.5.0",
      "model_name": "ProgressStyleModel",
      "state": {
       "_model_module": "@jupyter-widgets/controls",
       "_model_module_version": "1.5.0",
       "_model_name": "ProgressStyleModel",
       "_view_count": null,
       "_view_module": "@jupyter-widgets/base",
       "_view_module_version": "1.2.0",
       "_view_name": "StyleView",
       "bar_color": null,
       "description_width": ""
      }
     },
     "4505babb21fb4e22b420e4b147e4a88d": {
      "model_module": "@jupyter-widgets/controls",
      "model_module_version": "1.5.0",
      "model_name": "FloatProgressModel",
      "state": {
       "_dom_classes": [],
       "_model_module": "@jupyter-widgets/controls",
       "_model_module_version": "1.5.0",
       "_model_name": "FloatProgressModel",
       "_view_count": null,
       "_view_module": "@jupyter-widgets/controls",
       "_view_module_version": "1.5.0",
       "_view_name": "ProgressView",
       "bar_style": "success",
       "description": "",
       "description_tooltip": null,
       "layout": "IPY_MODEL_1f67e9c2f2f24a52b8e8fb43680cb53e",
       "max": 117529600.0,
       "min": 0.0,
       "orientation": "horizontal",
       "style": "IPY_MODEL_8502cd1e209147caa3f4614653c524ad",
       "value": 117529600.0
      }
     },
     "4702ba3b20b143d9938010b9f9481c49": {
      "model_module": "@jupyter-widgets/controls",
      "model_module_version": "1.5.0",
      "model_name": "DescriptionStyleModel",
      "state": {
       "_model_module": "@jupyter-widgets/controls",
       "_model_module_version": "1.5.0",
       "_model_name": "DescriptionStyleModel",
       "_view_count": null,
       "_view_module": "@jupyter-widgets/base",
       "_view_module_version": "1.2.0",
       "_view_name": "StyleView",
       "description_width": ""
      }
     },
     "4db2e4b457794c1a8ed6e535b160b8f8": {
      "model_module": "@jupyter-widgets/controls",
      "model_module_version": "1.5.0",
      "model_name": "HTMLModel",
      "state": {
       "_dom_classes": [],
       "_model_module": "@jupyter-widgets/controls",
       "_model_module_version": "1.5.0",
       "_model_name": "HTMLModel",
       "_view_count": null,
       "_view_module": "@jupyter-widgets/controls",
       "_view_module_version": "1.5.0",
       "_view_name": "HTMLView",
       "description": "",
       "description_tooltip": null,
       "layout": "IPY_MODEL_1b148717a2d64e99a7ae9a2dec3e4062",
       "placeholder": "​",
       "style": "IPY_MODEL_4702ba3b20b143d9938010b9f9481c49",
       "value": " 401/401 [00:00&lt;00:00, 28.9kB/s]"
      }
     },
     "62dfd5dcac864948aacdead332955749": {
      "model_module": "@jupyter-widgets/controls",
      "model_module_version": "1.5.0",
      "model_name": "HTMLModel",
      "state": {
       "_dom_classes": [],
       "_model_module": "@jupyter-widgets/controls",
       "_model_module_version": "1.5.0",
       "_model_name": "HTMLModel",
       "_view_count": null,
       "_view_module": "@jupyter-widgets/controls",
       "_view_module_version": "1.5.0",
       "_view_name": "HTMLView",
       "description": "",
       "description_tooltip": null,
       "layout": "IPY_MODEL_ec8c7ecee8824dcd8d2be1269801d477",
       "placeholder": "​",
       "style": "IPY_MODEL_a36bc62093814bc3b38c16b2c9332eb6",
       "value": "vocab.txt: 100%"
      }
     },
     "63e7922b8f1040f495317f8d00f2195e": {
      "model_module": "@jupyter-widgets/controls",
      "model_module_version": "1.5.0",
      "model_name": "FloatProgressModel",
      "state": {
       "_dom_classes": [],
       "_model_module": "@jupyter-widgets/controls",
       "_model_module_version": "1.5.0",
       "_model_name": "FloatProgressModel",
       "_view_count": null,
       "_view_module": "@jupyter-widgets/controls",
       "_view_module_version": "1.5.0",
       "_view_name": "ProgressView",
       "bar_style": "success",
       "description": "",
       "description_tooltip": null,
       "layout": "IPY_MODEL_f76833bf81c143dd89da1bdc5c9fddc7",
       "max": 693.0,
       "min": 0.0,
       "orientation": "horizontal",
       "style": "IPY_MODEL_14404ead42f44846a6cf6637df105022",
       "value": 693.0
      }
     },
     "641cee4ccd6b4790b19bc87c90404b8d": {
      "model_module": "@jupyter-widgets/controls",
      "model_module_version": "1.5.0",
      "model_name": "HTMLModel",
      "state": {
       "_dom_classes": [],
       "_model_module": "@jupyter-widgets/controls",
       "_model_module_version": "1.5.0",
       "_model_name": "HTMLModel",
       "_view_count": null,
       "_view_module": "@jupyter-widgets/controls",
       "_view_module_version": "1.5.0",
       "_view_name": "HTMLView",
       "description": "",
       "description_tooltip": null,
       "layout": "IPY_MODEL_afe03b5cf113458eb91174cb52dfd1c2",
       "placeholder": "​",
       "style": "IPY_MODEL_c118ce84bbc6431ba5f563ae256353b1",
       "value": " 1.08M/1.08M [00:00&lt;00:00, 1.34MB/s]"
      }
     },
     "64eabf8394db436599ce0b73d9813bfc": {
      "model_module": "@jupyter-widgets/controls",
      "model_module_version": "1.5.0",
      "model_name": "DescriptionStyleModel",
      "state": {
       "_model_module": "@jupyter-widgets/controls",
       "_model_module_version": "1.5.0",
       "_model_name": "DescriptionStyleModel",
       "_view_count": null,
       "_view_module": "@jupyter-widgets/base",
       "_view_module_version": "1.2.0",
       "_view_name": "StyleView",
       "description_width": ""
      }
     },
     "67b1a4d55d314b99a75763f6b21d2edc": {
      "model_module": "@jupyter-widgets/base",
      "model_module_version": "1.2.0",
      "model_name": "LayoutModel",
      "state": {
       "_model_module": "@jupyter-widgets/base",
       "_model_module_version": "1.2.0",
       "_model_name": "LayoutModel",
       "_view_count": null,
       "_view_module": "@jupyter-widgets/base",
       "_view_module_version": "1.2.0",
       "_view_name": "LayoutView",
       "align_content": null,
       "align_items": null,
       "align_self": null,
       "border": null,
       "bottom": null,
       "display": null,
       "flex": null,
       "flex_flow": null,
       "grid_area": null,
       "grid_auto_columns": null,
       "grid_auto_flow": null,
       "grid_auto_rows": null,
       "grid_column": null,
       "grid_gap": null,
       "grid_row": null,
       "grid_template_areas": null,
       "grid_template_columns": null,
       "grid_template_rows": null,
       "height": null,
       "justify_content": null,
       "justify_items": null,
       "left": null,
       "margin": null,
       "max_height": null,
       "max_width": null,
       "min_height": null,
       "min_width": null,
       "object_fit": null,
       "object_position": null,
       "order": null,
       "overflow": null,
       "overflow_x": null,
       "overflow_y": null,
       "padding": null,
       "right": null,
       "top": null,
       "visibility": null,
       "width": null
      }
     },
     "69f8bfae74aa43eab4b246afbd36d04e": {
      "model_module": "@jupyter-widgets/base",
      "model_module_version": "1.2.0",
      "model_name": "LayoutModel",
      "state": {
       "_model_module": "@jupyter-widgets/base",
       "_model_module_version": "1.2.0",
       "_model_name": "LayoutModel",
       "_view_count": null,
       "_view_module": "@jupyter-widgets/base",
       "_view_module_version": "1.2.0",
       "_view_name": "LayoutView",
       "align_content": null,
       "align_items": null,
       "align_self": null,
       "border": null,
       "bottom": null,
       "display": null,
       "flex": null,
       "flex_flow": null,
       "grid_area": null,
       "grid_auto_columns": null,
       "grid_auto_flow": null,
       "grid_auto_rows": null,
       "grid_column": null,
       "grid_gap": null,
       "grid_row": null,
       "grid_template_areas": null,
       "grid_template_columns": null,
       "grid_template_rows": null,
       "height": null,
       "justify_content": null,
       "justify_items": null,
       "left": null,
       "margin": null,
       "max_height": null,
       "max_width": null,
       "min_height": null,
       "min_width": null,
       "object_fit": null,
       "object_position": null,
       "order": null,
       "overflow": null,
       "overflow_x": null,
       "overflow_y": null,
       "padding": null,
       "right": null,
       "top": null,
       "visibility": null,
       "width": null
      }
     },
     "6e7e1ce647b54748aa33ebe5a4821283": {
      "model_module": "@jupyter-widgets/controls",
      "model_module_version": "1.5.0",
      "model_name": "ProgressStyleModel",
      "state": {
       "_model_module": "@jupyter-widgets/controls",
       "_model_module_version": "1.5.0",
       "_model_name": "ProgressStyleModel",
       "_view_count": null,
       "_view_module": "@jupyter-widgets/base",
       "_view_module_version": "1.2.0",
       "_view_name": "StyleView",
       "bar_color": null,
       "description_width": ""
      }
     },
     "6f2d4e28f2e846d9a3b0693e761347ac": {
      "model_module": "@jupyter-widgets/base",
      "model_module_version": "1.2.0",
      "model_name": "LayoutModel",
      "state": {
       "_model_module": "@jupyter-widgets/base",
       "_model_module_version": "1.2.0",
       "_model_name": "LayoutModel",
       "_view_count": null,
       "_view_module": "@jupyter-widgets/base",
       "_view_module_version": "1.2.0",
       "_view_name": "LayoutView",
       "align_content": null,
       "align_items": null,
       "align_self": null,
       "border": null,
       "bottom": null,
       "display": null,
       "flex": null,
       "flex_flow": null,
       "grid_area": null,
       "grid_auto_columns": null,
       "grid_auto_flow": null,
       "grid_auto_rows": null,
       "grid_column": null,
       "grid_gap": null,
       "grid_row": null,
       "grid_template_areas": null,
       "grid_template_columns": null,
       "grid_template_rows": null,
       "height": null,
       "justify_content": null,
       "justify_items": null,
       "left": null,
       "margin": null,
       "max_height": null,
       "max_width": null,
       "min_height": null,
       "min_width": null,
       "object_fit": null,
       "object_position": null,
       "order": null,
       "overflow": null,
       "overflow_x": null,
       "overflow_y": null,
       "padding": null,
       "right": null,
       "top": null,
       "visibility": null,
       "width": null
      }
     },
     "6f7a662e22f34398847009dc5c8b7807": {
      "model_module": "@jupyter-widgets/controls",
      "model_module_version": "1.5.0",
      "model_name": "FloatProgressModel",
      "state": {
       "_dom_classes": [],
       "_model_module": "@jupyter-widgets/controls",
       "_model_module_version": "1.5.0",
       "_model_name": "FloatProgressModel",
       "_view_count": null,
       "_view_module": "@jupyter-widgets/controls",
       "_view_module_version": "1.5.0",
       "_view_name": "ProgressView",
       "bar_style": "success",
       "description": "",
       "description_tooltip": null,
       "layout": "IPY_MODEL_d8a9ac9e816b49f0bc23f606a1190c0d",
       "max": 1080667.0,
       "min": 0.0,
       "orientation": "horizontal",
       "style": "IPY_MODEL_6e7e1ce647b54748aa33ebe5a4821283",
       "value": 1080667.0
      }
     },
     "7005754d2f8a401591cd810c928ab08e": {
      "model_module": "@jupyter-widgets/controls",
      "model_module_version": "1.5.0",
      "model_name": "HTMLModel",
      "state": {
       "_dom_classes": [],
       "_model_module": "@jupyter-widgets/controls",
       "_model_module_version": "1.5.0",
       "_model_name": "HTMLModel",
       "_view_count": null,
       "_view_module": "@jupyter-widgets/controls",
       "_view_module_version": "1.5.0",
       "_view_name": "HTMLView",
       "description": "",
       "description_tooltip": null,
       "layout": "IPY_MODEL_051763e971f642e8abb5afc313858cfe",
       "placeholder": "​",
       "style": "IPY_MODEL_745803d77017473597417f84c4992024",
       "value": "tokenizer.json: 100%"
      }
     },
     "7394091171fd457f83db9e24254f6932": {
      "model_module": "@jupyter-widgets/controls",
      "model_module_version": "1.5.0",
      "model_name": "DescriptionStyleModel",
      "state": {
       "_model_module": "@jupyter-widgets/controls",
       "_model_module_version": "1.5.0",
       "_model_name": "DescriptionStyleModel",
       "_view_count": null,
       "_view_module": "@jupyter-widgets/base",
       "_view_module_version": "1.2.0",
       "_view_name": "StyleView",
       "description_width": ""
      }
     },
     "745803d77017473597417f84c4992024": {
      "model_module": "@jupyter-widgets/controls",
      "model_module_version": "1.5.0",
      "model_name": "DescriptionStyleModel",
      "state": {
       "_model_module": "@jupyter-widgets/controls",
       "_model_module_version": "1.5.0",
       "_model_name": "DescriptionStyleModel",
       "_view_count": null,
       "_view_module": "@jupyter-widgets/base",
       "_view_module_version": "1.2.0",
       "_view_name": "StyleView",
       "description_width": ""
      }
     },
     "74d3acc6d59d4b4e8912bb6f0998ccaa": {
      "model_module": "@jupyter-widgets/controls",
      "model_module_version": "1.5.0",
      "model_name": "FloatProgressModel",
      "state": {
       "_dom_classes": [],
       "_model_module": "@jupyter-widgets/controls",
       "_model_module_version": "1.5.0",
       "_model_name": "FloatProgressModel",
       "_view_count": null,
       "_view_module": "@jupyter-widgets/controls",
       "_view_module_version": "1.5.0",
       "_view_name": "ProgressView",
       "bar_style": "success",
       "description": "",
       "description_tooltip": null,
       "layout": "IPY_MODEL_fc33f3d0845a43f18b31b37871b1560f",
       "max": 401.0,
       "min": 0.0,
       "orientation": "horizontal",
       "style": "IPY_MODEL_fc280023bece4564aad84aec6e5783d4",
       "value": 401.0
      }
     },
     "762cc81625794bbeb479fa27ed64b44d": {
      "model_module": "@jupyter-widgets/controls",
      "model_module_version": "1.5.0",
      "model_name": "HTMLModel",
      "state": {
       "_dom_classes": [],
       "_model_module": "@jupyter-widgets/controls",
       "_model_module_version": "1.5.0",
       "_model_name": "HTMLModel",
       "_view_count": null,
       "_view_module": "@jupyter-widgets/controls",
       "_view_module_version": "1.5.0",
       "_view_name": "HTMLView",
       "description": "",
       "description_tooltip": null,
       "layout": "IPY_MODEL_3b6119d3c1a1442c83711baae04e61b1",
       "placeholder": "​",
       "style": "IPY_MODEL_7394091171fd457f83db9e24254f6932",
       "value": " 1.74M/1.74M [00:01&lt;00:00, 1.74MB/s]"
      }
     },
     "775e87515a9d4a3f957b6475c7a5a28b": {
      "model_module": "@jupyter-widgets/base",
      "model_module_version": "1.2.0",
      "model_name": "LayoutModel",
      "state": {
       "_model_module": "@jupyter-widgets/base",
       "_model_module_version": "1.2.0",
       "_model_name": "LayoutModel",
       "_view_count": null,
       "_view_module": "@jupyter-widgets/base",
       "_view_module_version": "1.2.0",
       "_view_name": "LayoutView",
       "align_content": null,
       "align_items": null,
       "align_self": null,
       "border": null,
       "bottom": null,
       "display": null,
       "flex": null,
       "flex_flow": null,
       "grid_area": null,
       "grid_auto_columns": null,
       "grid_auto_flow": null,
       "grid_auto_rows": null,
       "grid_column": null,
       "grid_gap": null,
       "grid_row": null,
       "grid_template_areas": null,
       "grid_template_columns": null,
       "grid_template_rows": null,
       "height": null,
       "justify_content": null,
       "justify_items": null,
       "left": null,
       "margin": null,
       "max_height": null,
       "max_width": null,
       "min_height": null,
       "min_width": null,
       "object_fit": null,
       "object_position": null,
       "order": null,
       "overflow": null,
       "overflow_x": null,
       "overflow_y": null,
       "padding": null,
       "right": null,
       "top": null,
       "visibility": null,
       "width": null
      }
     },
     "77b18f1b37fd4879bb9003001773062d": {
      "model_module": "@jupyter-widgets/controls",
      "model_module_version": "1.5.0",
      "model_name": "HBoxModel",
      "state": {
       "_dom_classes": [],
       "_model_module": "@jupyter-widgets/controls",
       "_model_module_version": "1.5.0",
       "_model_name": "HBoxModel",
       "_view_count": null,
       "_view_module": "@jupyter-widgets/controls",
       "_view_module_version": "1.5.0",
       "_view_name": "HBoxView",
       "box_style": "",
       "children": [
        "IPY_MODEL_8bdd278805414d619f019c73de3b6270",
        "IPY_MODEL_74d3acc6d59d4b4e8912bb6f0998ccaa",
        "IPY_MODEL_4db2e4b457794c1a8ed6e535b160b8f8"
       ],
       "layout": "IPY_MODEL_2acf270c30e24e778c9cf7611ed1f017"
      }
     },
     "81a3f787b0de462fb85fccd671db3876": {
      "model_module": "@jupyter-widgets/controls",
      "model_module_version": "1.5.0",
      "model_name": "HBoxModel",
      "state": {
       "_dom_classes": [],
       "_model_module": "@jupyter-widgets/controls",
       "_model_module_version": "1.5.0",
       "_model_name": "HBoxModel",
       "_view_count": null,
       "_view_module": "@jupyter-widgets/controls",
       "_view_module_version": "1.5.0",
       "_view_name": "HBoxView",
       "box_style": "",
       "children": [
        "IPY_MODEL_7005754d2f8a401591cd810c928ab08e",
        "IPY_MODEL_a3bbda6d3a134b31910182a690be85c0",
        "IPY_MODEL_762cc81625794bbeb479fa27ed64b44d"
       ],
       "layout": "IPY_MODEL_074e5f8007b74aeb9df15873f9862f00"
      }
     },
     "8502cd1e209147caa3f4614653c524ad": {
      "model_module": "@jupyter-widgets/controls",
      "model_module_version": "1.5.0",
      "model_name": "ProgressStyleModel",
      "state": {
       "_model_module": "@jupyter-widgets/controls",
       "_model_module_version": "1.5.0",
       "_model_name": "ProgressStyleModel",
       "_view_count": null,
       "_view_module": "@jupyter-widgets/base",
       "_view_module_version": "1.2.0",
       "_view_name": "StyleView",
       "bar_color": null,
       "description_width": ""
      }
     },
     "8a0bae4e43b24458ae932c46f5303d66": {
      "model_module": "@jupyter-widgets/base",
      "model_module_version": "1.2.0",
      "model_name": "LayoutModel",
      "state": {
       "_model_module": "@jupyter-widgets/base",
       "_model_module_version": "1.2.0",
       "_model_name": "LayoutModel",
       "_view_count": null,
       "_view_module": "@jupyter-widgets/base",
       "_view_module_version": "1.2.0",
       "_view_name": "LayoutView",
       "align_content": null,
       "align_items": null,
       "align_self": null,
       "border": null,
       "bottom": null,
       "display": null,
       "flex": null,
       "flex_flow": null,
       "grid_area": null,
       "grid_auto_columns": null,
       "grid_auto_flow": null,
       "grid_auto_rows": null,
       "grid_column": null,
       "grid_gap": null,
       "grid_row": null,
       "grid_template_areas": null,
       "grid_template_columns": null,
       "grid_template_rows": null,
       "height": null,
       "justify_content": null,
       "justify_items": null,
       "left": null,
       "margin": null,
       "max_height": null,
       "max_width": null,
       "min_height": null,
       "min_width": null,
       "object_fit": null,
       "object_position": null,
       "order": null,
       "overflow": null,
       "overflow_x": null,
       "overflow_y": null,
       "padding": null,
       "right": null,
       "top": null,
       "visibility": null,
       "width": null
      }
     },
     "8bdd278805414d619f019c73de3b6270": {
      "model_module": "@jupyter-widgets/controls",
      "model_module_version": "1.5.0",
      "model_name": "HTMLModel",
      "state": {
       "_dom_classes": [],
       "_model_module": "@jupyter-widgets/controls",
       "_model_module_version": "1.5.0",
       "_model_name": "HTMLModel",
       "_view_count": null,
       "_view_module": "@jupyter-widgets/controls",
       "_view_module_version": "1.5.0",
       "_view_name": "HTMLView",
       "description": "",
       "description_tooltip": null,
       "layout": "IPY_MODEL_1e82318312cf468fae0ae60bb1ae6f7b",
       "placeholder": "​",
       "style": "IPY_MODEL_e8bd52f8e4b8417cac7d7ecc220fdc85",
       "value": "tokenizer_config.json: 100%"
      }
     },
     "a13ee81c42684ef3b4e4e65eab3483f9": {
      "model_module": "@jupyter-widgets/controls",
      "model_module_version": "1.5.0",
      "model_name": "DescriptionStyleModel",
      "state": {
       "_model_module": "@jupyter-widgets/controls",
       "_model_module_version": "1.5.0",
       "_model_name": "DescriptionStyleModel",
       "_view_count": null,
       "_view_module": "@jupyter-widgets/base",
       "_view_module_version": "1.2.0",
       "_view_name": "StyleView",
       "description_width": ""
      }
     },
     "a14f1956de4b4745b63a690aae4d35fc": {
      "model_module": "@jupyter-widgets/base",
      "model_module_version": "1.2.0",
      "model_name": "LayoutModel",
      "state": {
       "_model_module": "@jupyter-widgets/base",
       "_model_module_version": "1.2.0",
       "_model_name": "LayoutModel",
       "_view_count": null,
       "_view_module": "@jupyter-widgets/base",
       "_view_module_version": "1.2.0",
       "_view_name": "LayoutView",
       "align_content": null,
       "align_items": null,
       "align_self": null,
       "border": null,
       "bottom": null,
       "display": null,
       "flex": null,
       "flex_flow": null,
       "grid_area": null,
       "grid_auto_columns": null,
       "grid_auto_flow": null,
       "grid_auto_rows": null,
       "grid_column": null,
       "grid_gap": null,
       "grid_row": null,
       "grid_template_areas": null,
       "grid_template_columns": null,
       "grid_template_rows": null,
       "height": null,
       "justify_content": null,
       "justify_items": null,
       "left": null,
       "margin": null,
       "max_height": null,
       "max_width": null,
       "min_height": null,
       "min_width": null,
       "object_fit": null,
       "object_position": null,
       "order": null,
       "overflow": null,
       "overflow_x": null,
       "overflow_y": null,
       "padding": null,
       "right": null,
       "top": null,
       "visibility": null,
       "width": null
      }
     },
     "a1e91cff141d476f8f32612fc93be142": {
      "model_module": "@jupyter-widgets/controls",
      "model_module_version": "1.5.0",
      "model_name": "HBoxModel",
      "state": {
       "_dom_classes": [],
       "_model_module": "@jupyter-widgets/controls",
       "_model_module_version": "1.5.0",
       "_model_name": "HBoxModel",
       "_view_count": null,
       "_view_module": "@jupyter-widgets/controls",
       "_view_module_version": "1.5.0",
       "_view_name": "HBoxView",
       "box_style": "",
       "children": [
        "IPY_MODEL_bf6001423fda414fa17d57576fa9a187",
        "IPY_MODEL_b411541cdf954398959180184203c611",
        "IPY_MODEL_3d07aaaee7bf409eaaefda597f0764ab"
       ],
       "layout": "IPY_MODEL_6f2d4e28f2e846d9a3b0693e761347ac"
      }
     },
     "a36bc62093814bc3b38c16b2c9332eb6": {
      "model_module": "@jupyter-widgets/controls",
      "model_module_version": "1.5.0",
      "model_name": "DescriptionStyleModel",
      "state": {
       "_model_module": "@jupyter-widgets/controls",
       "_model_module_version": "1.5.0",
       "_model_name": "DescriptionStyleModel",
       "_view_count": null,
       "_view_module": "@jupyter-widgets/base",
       "_view_module_version": "1.2.0",
       "_view_name": "StyleView",
       "description_width": ""
      }
     },
     "a3bbda6d3a134b31910182a690be85c0": {
      "model_module": "@jupyter-widgets/controls",
      "model_module_version": "1.5.0",
      "model_name": "FloatProgressModel",
      "state": {
       "_dom_classes": [],
       "_model_module": "@jupyter-widgets/controls",
       "_model_module_version": "1.5.0",
       "_model_name": "FloatProgressModel",
       "_view_count": null,
       "_view_module": "@jupyter-widgets/controls",
       "_view_module_version": "1.5.0",
       "_view_name": "ProgressView",
       "bar_style": "success",
       "description": "",
       "description_tooltip": null,
       "layout": "IPY_MODEL_3e59fc560fe341d68db57d0266c68ace",
       "max": 1741842.0,
       "min": 0.0,
       "orientation": "horizontal",
       "style": "IPY_MODEL_42bbd534bb594bc699c6501fcc3a6420",
       "value": 1741842.0
      }
     },
     "a90cf84be29445f481b4d3113ce2fa23": {
      "model_module": "@jupyter-widgets/base",
      "model_module_version": "1.2.0",
      "model_name": "LayoutModel",
      "state": {
       "_model_module": "@jupyter-widgets/base",
       "_model_module_version": "1.2.0",
       "_model_name": "LayoutModel",
       "_view_count": null,
       "_view_module": "@jupyter-widgets/base",
       "_view_module_version": "1.2.0",
       "_view_name": "LayoutView",
       "align_content": null,
       "align_items": null,
       "align_self": null,
       "border": null,
       "bottom": null,
       "display": null,
       "flex": null,
       "flex_flow": null,
       "grid_area": null,
       "grid_auto_columns": null,
       "grid_auto_flow": null,
       "grid_auto_rows": null,
       "grid_column": null,
       "grid_gap": null,
       "grid_row": null,
       "grid_template_areas": null,
       "grid_template_columns": null,
       "grid_template_rows": null,
       "height": null,
       "justify_content": null,
       "justify_items": null,
       "left": null,
       "margin": null,
       "max_height": null,
       "max_width": null,
       "min_height": null,
       "min_width": null,
       "object_fit": null,
       "object_position": null,
       "order": null,
       "overflow": null,
       "overflow_x": null,
       "overflow_y": null,
       "padding": null,
       "right": null,
       "top": null,
       "visibility": null,
       "width": null
      }
     },
     "ae1d568d5c6348eeae348f75d1219342": {
      "model_module": "@jupyter-widgets/controls",
      "model_module_version": "1.5.0",
      "model_name": "DescriptionStyleModel",
      "state": {
       "_model_module": "@jupyter-widgets/controls",
       "_model_module_version": "1.5.0",
       "_model_name": "DescriptionStyleModel",
       "_view_count": null,
       "_view_module": "@jupyter-widgets/base",
       "_view_module_version": "1.2.0",
       "_view_name": "StyleView",
       "description_width": ""
      }
     },
     "afe03b5cf113458eb91174cb52dfd1c2": {
      "model_module": "@jupyter-widgets/base",
      "model_module_version": "1.2.0",
      "model_name": "LayoutModel",
      "state": {
       "_model_module": "@jupyter-widgets/base",
       "_model_module_version": "1.2.0",
       "_model_name": "LayoutModel",
       "_view_count": null,
       "_view_module": "@jupyter-widgets/base",
       "_view_module_version": "1.2.0",
       "_view_name": "LayoutView",
       "align_content": null,
       "align_items": null,
       "align_self": null,
       "border": null,
       "bottom": null,
       "display": null,
       "flex": null,
       "flex_flow": null,
       "grid_area": null,
       "grid_auto_columns": null,
       "grid_auto_flow": null,
       "grid_auto_rows": null,
       "grid_column": null,
       "grid_gap": null,
       "grid_row": null,
       "grid_template_areas": null,
       "grid_template_columns": null,
       "grid_template_rows": null,
       "height": null,
       "justify_content": null,
       "justify_items": null,
       "left": null,
       "margin": null,
       "max_height": null,
       "max_width": null,
       "min_height": null,
       "min_width": null,
       "object_fit": null,
       "object_position": null,
       "order": null,
       "overflow": null,
       "overflow_x": null,
       "overflow_y": null,
       "padding": null,
       "right": null,
       "top": null,
       "visibility": null,
       "width": null
      }
     },
     "b411541cdf954398959180184203c611": {
      "model_module": "@jupyter-widgets/controls",
      "model_module_version": "1.5.0",
      "model_name": "FloatProgressModel",
      "state": {
       "_dom_classes": [],
       "_model_module": "@jupyter-widgets/controls",
       "_model_module_version": "1.5.0",
       "_model_name": "FloatProgressModel",
       "_view_count": null,
       "_view_module": "@jupyter-widgets/controls",
       "_view_module_version": "1.5.0",
       "_view_name": "ProgressView",
       "bar_style": "success",
       "description": "",
       "description_tooltip": null,
       "layout": "IPY_MODEL_69f8bfae74aa43eab4b246afbd36d04e",
       "max": 112.0,
       "min": 0.0,
       "orientation": "horizontal",
       "style": "IPY_MODEL_d5b61620523d4386a028b1e6cfd2ba8b",
       "value": 112.0
      }
     },
     "b5dce3dce36448129d5ec515ffa1b64d": {
      "model_module": "@jupyter-widgets/base",
      "model_module_version": "1.2.0",
      "model_name": "LayoutModel",
      "state": {
       "_model_module": "@jupyter-widgets/base",
       "_model_module_version": "1.2.0",
       "_model_name": "LayoutModel",
       "_view_count": null,
       "_view_module": "@jupyter-widgets/base",
       "_view_module_version": "1.2.0",
       "_view_name": "LayoutView",
       "align_content": null,
       "align_items": null,
       "align_self": null,
       "border": null,
       "bottom": null,
       "display": null,
       "flex": null,
       "flex_flow": null,
       "grid_area": null,
       "grid_auto_columns": null,
       "grid_auto_flow": null,
       "grid_auto_rows": null,
       "grid_column": null,
       "grid_gap": null,
       "grid_row": null,
       "grid_template_areas": null,
       "grid_template_columns": null,
       "grid_template_rows": null,
       "height": null,
       "justify_content": null,
       "justify_items": null,
       "left": null,
       "margin": null,
       "max_height": null,
       "max_width": null,
       "min_height": null,
       "min_width": null,
       "object_fit": null,
       "object_position": null,
       "order": null,
       "overflow": null,
       "overflow_x": null,
       "overflow_y": null,
       "padding": null,
       "right": null,
       "top": null,
       "visibility": null,
       "width": null
      }
     },
     "bf6001423fda414fa17d57576fa9a187": {
      "model_module": "@jupyter-widgets/controls",
      "model_module_version": "1.5.0",
      "model_name": "HTMLModel",
      "state": {
       "_dom_classes": [],
       "_model_module": "@jupyter-widgets/controls",
       "_model_module_version": "1.5.0",
       "_model_name": "HTMLModel",
       "_view_count": null,
       "_view_module": "@jupyter-widgets/controls",
       "_view_module_version": "1.5.0",
       "_view_name": "HTMLView",
       "description": "",
       "description_tooltip": null,
       "layout": "IPY_MODEL_0c41cf5f51c3413591d1e716f8222ccb",
       "placeholder": "​",
       "style": "IPY_MODEL_64eabf8394db436599ce0b73d9813bfc",
       "value": "special_tokens_map.json: 100%"
      }
     },
     "c118ce84bbc6431ba5f563ae256353b1": {
      "model_module": "@jupyter-widgets/controls",
      "model_module_version": "1.5.0",
      "model_name": "DescriptionStyleModel",
      "state": {
       "_model_module": "@jupyter-widgets/controls",
       "_model_module_version": "1.5.0",
       "_model_name": "DescriptionStyleModel",
       "_view_count": null,
       "_view_module": "@jupyter-widgets/base",
       "_view_module_version": "1.2.0",
       "_view_name": "StyleView",
       "description_width": ""
      }
     },
     "c1c37c958abd4232ac0b636d401d6c29": {
      "model_module": "@jupyter-widgets/controls",
      "model_module_version": "1.5.0",
      "model_name": "HBoxModel",
      "state": {
       "_dom_classes": [],
       "_model_module": "@jupyter-widgets/controls",
       "_model_module_version": "1.5.0",
       "_model_name": "HBoxModel",
       "_view_count": null,
       "_view_module": "@jupyter-widgets/controls",
       "_view_module_version": "1.5.0",
       "_view_name": "HBoxView",
       "box_style": "",
       "children": [
        "IPY_MODEL_fbf38f4d43044c10ac6de02eff7bf246",
        "IPY_MODEL_63e7922b8f1040f495317f8d00f2195e",
        "IPY_MODEL_1492fba1cbce4b7ea45026b730fa63b2"
       ],
       "layout": "IPY_MODEL_f177868f455544a4837a529256069c6b"
      }
     },
     "ca03429a9e2b4e2590930d17772eaf96": {
      "model_module": "@jupyter-widgets/controls",
      "model_module_version": "1.5.0",
      "model_name": "HBoxModel",
      "state": {
       "_dom_classes": [],
       "_model_module": "@jupyter-widgets/controls",
       "_model_module_version": "1.5.0",
       "_model_name": "HBoxModel",
       "_view_count": null,
       "_view_module": "@jupyter-widgets/controls",
       "_view_module_version": "1.5.0",
       "_view_name": "HBoxView",
       "box_style": "",
       "children": [
        "IPY_MODEL_f93fbb83fe0a4d028cfa75e104ac7289",
        "IPY_MODEL_4505babb21fb4e22b420e4b147e4a88d",
        "IPY_MODEL_0f8aeaa48da74354aa9824b992f2d01d"
       ],
       "layout": "IPY_MODEL_b5dce3dce36448129d5ec515ffa1b64d"
      }
     },
     "ccb11635a5fe4aff9cfe8772702cbad5": {
      "model_module": "@jupyter-widgets/base",
      "model_module_version": "1.2.0",
      "model_name": "LayoutModel",
      "state": {
       "_model_module": "@jupyter-widgets/base",
       "_model_module_version": "1.2.0",
       "_model_name": "LayoutModel",
       "_view_count": null,
       "_view_module": "@jupyter-widgets/base",
       "_view_module_version": "1.2.0",
       "_view_name": "LayoutView",
       "align_content": null,
       "align_items": null,
       "align_self": null,
       "border": null,
       "bottom": null,
       "display": null,
       "flex": null,
       "flex_flow": null,
       "grid_area": null,
       "grid_auto_columns": null,
       "grid_auto_flow": null,
       "grid_auto_rows": null,
       "grid_column": null,
       "grid_gap": null,
       "grid_row": null,
       "grid_template_areas": null,
       "grid_template_columns": null,
       "grid_template_rows": null,
       "height": null,
       "justify_content": null,
       "justify_items": null,
       "left": null,
       "margin": null,
       "max_height": null,
       "max_width": null,
       "min_height": null,
       "min_width": null,
       "object_fit": null,
       "object_position": null,
       "order": null,
       "overflow": null,
       "overflow_x": null,
       "overflow_y": null,
       "padding": null,
       "right": null,
       "top": null,
       "visibility": null,
       "width": null
      }
     },
     "d5b61620523d4386a028b1e6cfd2ba8b": {
      "model_module": "@jupyter-widgets/controls",
      "model_module_version": "1.5.0",
      "model_name": "ProgressStyleModel",
      "state": {
       "_model_module": "@jupyter-widgets/controls",
       "_model_module_version": "1.5.0",
       "_model_name": "ProgressStyleModel",
       "_view_count": null,
       "_view_module": "@jupyter-widgets/base",
       "_view_module_version": "1.2.0",
       "_view_name": "StyleView",
       "bar_color": null,
       "description_width": ""
      }
     },
     "d8385206f3594cb98b4307910b107ebd": {
      "model_module": "@jupyter-widgets/controls",
      "model_module_version": "1.5.0",
      "model_name": "DescriptionStyleModel",
      "state": {
       "_model_module": "@jupyter-widgets/controls",
       "_model_module_version": "1.5.0",
       "_model_name": "DescriptionStyleModel",
       "_view_count": null,
       "_view_module": "@jupyter-widgets/base",
       "_view_module_version": "1.2.0",
       "_view_name": "StyleView",
       "description_width": ""
      }
     },
     "d8a9ac9e816b49f0bc23f606a1190c0d": {
      "model_module": "@jupyter-widgets/base",
      "model_module_version": "1.2.0",
      "model_name": "LayoutModel",
      "state": {
       "_model_module": "@jupyter-widgets/base",
       "_model_module_version": "1.2.0",
       "_model_name": "LayoutModel",
       "_view_count": null,
       "_view_module": "@jupyter-widgets/base",
       "_view_module_version": "1.2.0",
       "_view_name": "LayoutView",
       "align_content": null,
       "align_items": null,
       "align_self": null,
       "border": null,
       "bottom": null,
       "display": null,
       "flex": null,
       "flex_flow": null,
       "grid_area": null,
       "grid_auto_columns": null,
       "grid_auto_flow": null,
       "grid_auto_rows": null,
       "grid_column": null,
       "grid_gap": null,
       "grid_row": null,
       "grid_template_areas": null,
       "grid_template_columns": null,
       "grid_template_rows": null,
       "height": null,
       "justify_content": null,
       "justify_items": null,
       "left": null,
       "margin": null,
       "max_height": null,
       "max_width": null,
       "min_height": null,
       "min_width": null,
       "object_fit": null,
       "object_position": null,
       "order": null,
       "overflow": null,
       "overflow_x": null,
       "overflow_y": null,
       "padding": null,
       "right": null,
       "top": null,
       "visibility": null,
       "width": null
      }
     },
     "e8bd52f8e4b8417cac7d7ecc220fdc85": {
      "model_module": "@jupyter-widgets/controls",
      "model_module_version": "1.5.0",
      "model_name": "DescriptionStyleModel",
      "state": {
       "_model_module": "@jupyter-widgets/controls",
       "_model_module_version": "1.5.0",
       "_model_name": "DescriptionStyleModel",
       "_view_count": null,
       "_view_module": "@jupyter-widgets/base",
       "_view_module_version": "1.2.0",
       "_view_name": "StyleView",
       "description_width": ""
      }
     },
     "ec8c7ecee8824dcd8d2be1269801d477": {
      "model_module": "@jupyter-widgets/base",
      "model_module_version": "1.2.0",
      "model_name": "LayoutModel",
      "state": {
       "_model_module": "@jupyter-widgets/base",
       "_model_module_version": "1.2.0",
       "_model_name": "LayoutModel",
       "_view_count": null,
       "_view_module": "@jupyter-widgets/base",
       "_view_module_version": "1.2.0",
       "_view_name": "LayoutView",
       "align_content": null,
       "align_items": null,
       "align_self": null,
       "border": null,
       "bottom": null,
       "display": null,
       "flex": null,
       "flex_flow": null,
       "grid_area": null,
       "grid_auto_columns": null,
       "grid_auto_flow": null,
       "grid_auto_rows": null,
       "grid_column": null,
       "grid_gap": null,
       "grid_row": null,
       "grid_template_areas": null,
       "grid_template_columns": null,
       "grid_template_rows": null,
       "height": null,
       "justify_content": null,
       "justify_items": null,
       "left": null,
       "margin": null,
       "max_height": null,
       "max_width": null,
       "min_height": null,
       "min_width": null,
       "object_fit": null,
       "object_position": null,
       "order": null,
       "overflow": null,
       "overflow_x": null,
       "overflow_y": null,
       "padding": null,
       "right": null,
       "top": null,
       "visibility": null,
       "width": null
      }
     },
     "ed4be74e267142cd91f320d0534d384e": {
      "model_module": "@jupyter-widgets/controls",
      "model_module_version": "1.5.0",
      "model_name": "HBoxModel",
      "state": {
       "_dom_classes": [],
       "_model_module": "@jupyter-widgets/controls",
       "_model_module_version": "1.5.0",
       "_model_name": "HBoxModel",
       "_view_count": null,
       "_view_module": "@jupyter-widgets/controls",
       "_view_module_version": "1.5.0",
       "_view_name": "HBoxView",
       "box_style": "",
       "children": [
        "IPY_MODEL_62dfd5dcac864948aacdead332955749",
        "IPY_MODEL_6f7a662e22f34398847009dc5c8b7807",
        "IPY_MODEL_641cee4ccd6b4790b19bc87c90404b8d"
       ],
       "layout": "IPY_MODEL_ccb11635a5fe4aff9cfe8772702cbad5"
      }
     },
     "f177868f455544a4837a529256069c6b": {
      "model_module": "@jupyter-widgets/base",
      "model_module_version": "1.2.0",
      "model_name": "LayoutModel",
      "state": {
       "_model_module": "@jupyter-widgets/base",
       "_model_module_version": "1.2.0",
       "_model_name": "LayoutModel",
       "_view_count": null,
       "_view_module": "@jupyter-widgets/base",
       "_view_module_version": "1.2.0",
       "_view_name": "LayoutView",
       "align_content": null,
       "align_items": null,
       "align_self": null,
       "border": null,
       "bottom": null,
       "display": null,
       "flex": null,
       "flex_flow": null,
       "grid_area": null,
       "grid_auto_columns": null,
       "grid_auto_flow": null,
       "grid_auto_rows": null,
       "grid_column": null,
       "grid_gap": null,
       "grid_row": null,
       "grid_template_areas": null,
       "grid_template_columns": null,
       "grid_template_rows": null,
       "height": null,
       "justify_content": null,
       "justify_items": null,
       "left": null,
       "margin": null,
       "max_height": null,
       "max_width": null,
       "min_height": null,
       "min_width": null,
       "object_fit": null,
       "object_position": null,
       "order": null,
       "overflow": null,
       "overflow_x": null,
       "overflow_y": null,
       "padding": null,
       "right": null,
       "top": null,
       "visibility": null,
       "width": null
      }
     },
     "f76833bf81c143dd89da1bdc5c9fddc7": {
      "model_module": "@jupyter-widgets/base",
      "model_module_version": "1.2.0",
      "model_name": "LayoutModel",
      "state": {
       "_model_module": "@jupyter-widgets/base",
       "_model_module_version": "1.2.0",
       "_model_name": "LayoutModel",
       "_view_count": null,
       "_view_module": "@jupyter-widgets/base",
       "_view_module_version": "1.2.0",
       "_view_name": "LayoutView",
       "align_content": null,
       "align_items": null,
       "align_self": null,
       "border": null,
       "bottom": null,
       "display": null,
       "flex": null,
       "flex_flow": null,
       "grid_area": null,
       "grid_auto_columns": null,
       "grid_auto_flow": null,
       "grid_auto_rows": null,
       "grid_column": null,
       "grid_gap": null,
       "grid_row": null,
       "grid_template_areas": null,
       "grid_template_columns": null,
       "grid_template_rows": null,
       "height": null,
       "justify_content": null,
       "justify_items": null,
       "left": null,
       "margin": null,
       "max_height": null,
       "max_width": null,
       "min_height": null,
       "min_width": null,
       "object_fit": null,
       "object_position": null,
       "order": null,
       "overflow": null,
       "overflow_x": null,
       "overflow_y": null,
       "padding": null,
       "right": null,
       "top": null,
       "visibility": null,
       "width": null
      }
     },
     "f93fbb83fe0a4d028cfa75e104ac7289": {
      "model_module": "@jupyter-widgets/controls",
      "model_module_version": "1.5.0",
      "model_name": "HTMLModel",
      "state": {
       "_dom_classes": [],
       "_model_module": "@jupyter-widgets/controls",
       "_model_module_version": "1.5.0",
       "_model_name": "HTMLModel",
       "_view_count": null,
       "_view_module": "@jupyter-widgets/controls",
       "_view_module_version": "1.5.0",
       "_view_name": "HTMLView",
       "description": "",
       "description_tooltip": null,
       "layout": "IPY_MODEL_a90cf84be29445f481b4d3113ce2fa23",
       "placeholder": "​",
       "style": "IPY_MODEL_ae1d568d5c6348eeae348f75d1219342",
       "value": "model.safetensors: 100%"
      }
     },
     "fbf38f4d43044c10ac6de02eff7bf246": {
      "model_module": "@jupyter-widgets/controls",
      "model_module_version": "1.5.0",
      "model_name": "HTMLModel",
      "state": {
       "_dom_classes": [],
       "_model_module": "@jupyter-widgets/controls",
       "_model_module_version": "1.5.0",
       "_model_name": "HTMLModel",
       "_view_count": null,
       "_view_module": "@jupyter-widgets/controls",
       "_view_module_version": "1.5.0",
       "_view_name": "HTMLView",
       "description": "",
       "description_tooltip": null,
       "layout": "IPY_MODEL_8a0bae4e43b24458ae932c46f5303d66",
       "placeholder": "​",
       "style": "IPY_MODEL_d8385206f3594cb98b4307910b107ebd",
       "value": "config.json: 100%"
      }
     },
     "fc280023bece4564aad84aec6e5783d4": {
      "model_module": "@jupyter-widgets/controls",
      "model_module_version": "1.5.0",
      "model_name": "ProgressStyleModel",
      "state": {
       "_model_module": "@jupyter-widgets/controls",
       "_model_module_version": "1.5.0",
       "_model_name": "ProgressStyleModel",
       "_view_count": null,
       "_view_module": "@jupyter-widgets/base",
       "_view_module_version": "1.2.0",
       "_view_name": "StyleView",
       "bar_color": null,
       "description_width": ""
      }
     },
     "fc33f3d0845a43f18b31b37871b1560f": {
      "model_module": "@jupyter-widgets/base",
      "model_module_version": "1.2.0",
      "model_name": "LayoutModel",
      "state": {
       "_model_module": "@jupyter-widgets/base",
       "_model_module_version": "1.2.0",
       "_model_name": "LayoutModel",
       "_view_count": null,
       "_view_module": "@jupyter-widgets/base",
       "_view_module_version": "1.2.0",
       "_view_name": "LayoutView",
       "align_content": null,
       "align_items": null,
       "align_self": null,
       "border": null,
       "bottom": null,
       "display": null,
       "flex": null,
       "flex_flow": null,
       "grid_area": null,
       "grid_auto_columns": null,
       "grid_auto_flow": null,
       "grid_auto_rows": null,
       "grid_column": null,
       "grid_gap": null,
       "grid_row": null,
       "grid_template_areas": null,
       "grid_template_columns": null,
       "grid_template_rows": null,
       "height": null,
       "justify_content": null,
       "justify_items": null,
       "left": null,
       "margin": null,
       "max_height": null,
       "max_width": null,
       "min_height": null,
       "min_width": null,
       "object_fit": null,
       "object_position": null,
       "order": null,
       "overflow": null,
       "overflow_x": null,
       "overflow_y": null,
       "padding": null,
       "right": null,
       "top": null,
       "visibility": null,
       "width": null
      }
     }
    },
    "version_major": 2,
    "version_minor": 0
   }
  }
 },
 "nbformat": 4,
 "nbformat_minor": 5
}
