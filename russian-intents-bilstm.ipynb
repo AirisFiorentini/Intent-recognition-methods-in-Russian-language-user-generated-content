{
 "cells": [
  {
   "cell_type": "code",
   "execution_count": 1,
   "id": "0271bb33",
   "metadata": {
    "_cell_guid": "b1076dfc-b9ad-4769-8c92-a6c4dae69d19",
    "_uuid": "8f2839f25d086af736a60e9eeb907d3b93b6e0e5",
    "execution": {
     "iopub.execute_input": "2024-05-23T14:11:06.370518Z",
     "iopub.status.busy": "2024-05-23T14:11:06.370069Z",
     "iopub.status.idle": "2024-05-23T14:11:07.397499Z",
     "shell.execute_reply": "2024-05-23T14:11:07.396051Z"
    },
    "papermill": {
     "duration": 1.036736,
     "end_time": "2024-05-23T14:11:07.400237",
     "exception": false,
     "start_time": "2024-05-23T14:11:06.363501",
     "status": "completed"
    },
    "tags": []
   },
   "outputs": [
    {
     "name": "stdout",
     "output_type": "stream",
     "text": [
      "/kaggle/input/qa-intents-dataset-university-domain/dataset_test.tsv\n",
      "/kaggle/input/qa-intents-dataset-university-domain/labels_description.txt\n",
      "/kaggle/input/qa-intents-dataset-university-domain/dataset_train.tsv\n"
     ]
    }
   ],
   "source": [
    "import numpy as np # linear algebra\n",
    "import pandas as pd # data processing, CSV file I/O (e.g. pd.read_csv)\n",
    "\n",
    "import os\n",
    "for dirname, _, filenames in os.walk('/kaggle/input'):\n",
    "    for filename in filenames:\n",
    "        print(os.path.join(dirname, filename))"
   ]
  },
  {
   "cell_type": "code",
   "execution_count": 2,
   "id": "d333b792",
   "metadata": {
    "execution": {
     "iopub.execute_input": "2024-05-23T14:11:07.411293Z",
     "iopub.status.busy": "2024-05-23T14:11:07.409750Z",
     "iopub.status.idle": "2024-05-23T14:11:13.984663Z",
     "shell.execute_reply": "2024-05-23T14:11:13.983098Z"
    },
    "papermill": {
     "duration": 6.584132,
     "end_time": "2024-05-23T14:11:13.988534",
     "exception": false,
     "start_time": "2024-05-23T14:11:07.404402",
     "status": "completed"
    },
    "tags": []
   },
   "outputs": [
    {
     "name": "stdout",
     "output_type": "stream",
     "text": [
      "[nltk_data] Downloading package punkt to /usr/share/nltk_data...\n",
      "[nltk_data]   Package punkt is already up-to-date!\n"
     ]
    },
    {
     "data": {
      "text/plain": [
       "True"
      ]
     },
     "execution_count": 2,
     "metadata": {},
     "output_type": "execute_result"
    }
   ],
   "source": [
    "import nltk\n",
    "from nltk.tokenize import word_tokenize\n",
    "from sklearn.feature_extraction.text import TfidfVectorizer\n",
    "from sklearn.preprocessing import LabelEncoder\n",
    "from torch.utils.data import Dataset, DataLoader\n",
    "import torch\n",
    "from torch import nn\n",
    "from sklearn.metrics import precision_recall_fscore_support, balanced_accuracy_score\n",
    "from sklearn.model_selection import train_test_split\n",
    "from tqdm import tqdm\n",
    "import matplotlib.pyplot as plt\n",
    "\n",
    "# Загрузка данных\n",
    "nltk.download('punkt')"
   ]
  },
  {
   "cell_type": "code",
   "execution_count": 3,
   "id": "2153f53e",
   "metadata": {
    "execution": {
     "iopub.execute_input": "2024-05-23T14:11:13.999366Z",
     "iopub.status.busy": "2024-05-23T14:11:13.998793Z",
     "iopub.status.idle": "2024-05-23T14:11:16.630258Z",
     "shell.execute_reply": "2024-05-23T14:11:16.628804Z"
    },
    "papermill": {
     "duration": 2.641095,
     "end_time": "2024-05-23T14:11:16.634127",
     "exception": false,
     "start_time": "2024-05-23T14:11:13.993032",
     "status": "completed"
    },
    "tags": []
   },
   "outputs": [
    {
     "name": "stderr",
     "output_type": "stream",
     "text": [
      "/opt/conda/lib/python3.10/site-packages/sklearn/feature_extraction/text.py:528: UserWarning: The parameter 'token_pattern' will not be used since 'tokenizer' is not None'\n",
      "  warnings.warn(\n"
     ]
    }
   ],
   "source": [
    "train_data = pd.read_csv('../input/qa-intents-dataset-university-domain/dataset_train.tsv', delimiter='\\t', encoding=\"utf-8\", names=['text', 'intent'])\n",
    "test_data = pd.read_csv('../input/qa-intents-dataset-university-domain/dataset_test.tsv', delimiter='\\t', encoding=\"utf-8\", names=['text', 'intent'])\n",
    "full_data = pd.concat([train_data, test_data])\n",
    "\n",
    "train, test = train_test_split(full_data, test_size=0.2, random_state=42)\n",
    "\n",
    "# Преобразование меток в числовые значения\n",
    "le = LabelEncoder()\n",
    "train_labels = le.fit_transform(train['intent'])\n",
    "test_labels = le.transform(test['intent'])\n",
    "\n",
    "# Токенизация и преобразование в TF-IDF\n",
    "tokenizer = word_tokenize\n",
    "vectorizer = TfidfVectorizer(tokenizer=tokenizer, stop_words='english')\n",
    "train_texts = vectorizer.fit_transform(train['text']).toarray()\n",
    "test_texts = vectorizer.transform(test['text']).toarray()\n"
   ]
  },
  {
   "cell_type": "code",
   "execution_count": 4,
   "id": "a77b78d2",
   "metadata": {
    "execution": {
     "iopub.execute_input": "2024-05-23T14:11:16.645638Z",
     "iopub.status.busy": "2024-05-23T14:11:16.645169Z",
     "iopub.status.idle": "2024-05-23T14:11:16.656663Z",
     "shell.execute_reply": "2024-05-23T14:11:16.655149Z"
    },
    "papermill": {
     "duration": 0.02073,
     "end_time": "2024-05-23T14:11:16.659504",
     "exception": false,
     "start_time": "2024-05-23T14:11:16.638774",
     "status": "completed"
    },
    "tags": []
   },
   "outputs": [],
   "source": [
    "# Определение датасета\n",
    "class TextDataset(Dataset):\n",
    "    def __init__(self, texts, labels):\n",
    "        self.texts = texts\n",
    "        self.labels = labels\n",
    "\n",
    "    def __len__(self):\n",
    "        return len(self.texts)\n",
    "\n",
    "    def __getitem__(self, idx):\n",
    "        return self.texts[idx], self.labels[idx]\n",
    "    \n",
    "# Определение модели Bidirectional LSTM\n",
    "class BidirectionalLSTMClassifier(nn.Module):\n",
    "    def __init__(self, input_dim, hidden_dim, output_dim):\n",
    "        super().__init__()\n",
    "        self.lstm = nn.LSTM(input_dim, hidden_dim, batch_first=True, bidirectional=True)\n",
    "        self.fc = nn.Linear(hidden_dim * 2, output_dim)  # Умножаем на 2 из-за двунаправленности\n",
    "\n",
    "    def forward(self, x):\n",
    "        x = x.unsqueeze(1)  # Добавление дополнительного измерения\n",
    "        lstm_out, _ = self.lstm(x)\n",
    "        out = self.fc(lstm_out[:, -1, :])\n",
    "        return out"
   ]
  },
  {
   "cell_type": "code",
   "execution_count": 5,
   "id": "b211f592",
   "metadata": {
    "execution": {
     "iopub.execute_input": "2024-05-23T14:11:16.670504Z",
     "iopub.status.busy": "2024-05-23T14:11:16.670060Z",
     "iopub.status.idle": "2024-05-23T14:11:16.686743Z",
     "shell.execute_reply": "2024-05-23T14:11:16.685518Z"
    },
    "papermill": {
     "duration": 0.025566,
     "end_time": "2024-05-23T14:11:16.689551",
     "exception": false,
     "start_time": "2024-05-23T14:11:16.663985",
     "status": "completed"
    },
    "tags": []
   },
   "outputs": [],
   "source": [
    "train_dataset = TextDataset(torch.from_numpy(train_texts), train_labels)\n",
    "test_dataset = TextDataset(torch.from_numpy(test_texts), test_labels)\n",
    "train_loader = DataLoader(train_dataset, batch_size=32, shuffle=True)\n",
    "test_loader = DataLoader(test_dataset, batch_size=32)"
   ]
  },
  {
   "cell_type": "code",
   "execution_count": 6,
   "id": "56f7a0c8",
   "metadata": {
    "execution": {
     "iopub.execute_input": "2024-05-23T14:11:16.700991Z",
     "iopub.status.busy": "2024-05-23T14:11:16.700565Z",
     "iopub.status.idle": "2024-05-23T14:15:00.944605Z",
     "shell.execute_reply": "2024-05-23T14:15:00.943201Z"
    },
    "papermill": {
     "duration": 224.25385,
     "end_time": "2024-05-23T14:15:00.947980",
     "exception": false,
     "start_time": "2024-05-23T14:11:16.694130",
     "status": "completed"
    },
    "tags": []
   },
   "outputs": [
    {
     "name": "stderr",
     "output_type": "stream",
     "text": [
      "100%|██████████| 353/353 [00:47<00:00,  7.49it/s]\n",
      "100%|██████████| 89/89 [00:01<00:00, 70.08it/s]\n"
     ]
    },
    {
     "name": "stdout",
     "output_type": "stream",
     "text": [
      "Epoch 1, Train Loss: 3.2876453352379733, Val Loss: 1.2174328572294686\n"
     ]
    },
    {
     "name": "stderr",
     "output_type": "stream",
     "text": [
      "100%|██████████| 353/353 [00:42<00:00,  8.40it/s]\n",
      "100%|██████████| 89/89 [00:01<00:00, 70.69it/s]\n"
     ]
    },
    {
     "name": "stdout",
     "output_type": "stream",
     "text": [
      "Epoch 2, Train Loss: 0.5304416733617148, Val Loss: 0.23976633170347536\n"
     ]
    },
    {
     "name": "stderr",
     "output_type": "stream",
     "text": [
      "100%|██████████| 353/353 [00:41<00:00,  8.45it/s]\n",
      "100%|██████████| 89/89 [00:01<00:00, 68.45it/s]\n"
     ]
    },
    {
     "name": "stdout",
     "output_type": "stream",
     "text": [
      "Epoch 3, Train Loss: 0.16513872330232654, Val Loss: 0.150401742856824\n"
     ]
    },
    {
     "name": "stderr",
     "output_type": "stream",
     "text": [
      "100%|██████████| 353/353 [00:42<00:00,  8.38it/s]\n",
      "100%|██████████| 89/89 [00:01<00:00, 70.50it/s]\n"
     ]
    },
    {
     "name": "stdout",
     "output_type": "stream",
     "text": [
      "Epoch 4, Train Loss: 0.11660344945662589, Val Loss: 0.12949300621730392\n"
     ]
    },
    {
     "name": "stderr",
     "output_type": "stream",
     "text": [
      "100%|██████████| 353/353 [00:41<00:00,  8.55it/s]\n",
      "100%|██████████| 89/89 [00:01<00:00, 73.54it/s]\n"
     ]
    },
    {
     "name": "stdout",
     "output_type": "stream",
     "text": [
      "Epoch 5, Train Loss: 0.10093184869219325, Val Loss: 0.1253177424673033\n"
     ]
    },
    {
     "data": {
      "image/png": "[encoded data removed]",
      "text/plain": [
       "<Figure size 640x480 with 1 Axes>"
      ]
     },
     "metadata": {},
     "output_type": "display_data"
    }
   ],
   "source": [
    "# Инициализация модели\n",
    "model = BidirectionalLSTMClassifier(input_dim=train_texts.shape[1], hidden_dim=256, output_dim=len(le.classes_))\n",
    "\n",
    "# Настройка устройства\n",
    "device = torch.device('cuda' if torch.cuda.is_available() else 'cpu')\n",
    "model = model.to(device)\n",
    "\n",
    "# Определение функции потерь и оптимизатора\n",
    "criterion = nn.CrossEntropyLoss()\n",
    "optimizer = torch.optim.Adam(model.parameters(), lr=0.001)\n",
    "\n",
    "# Обучение модели\n",
    "train_losses = []\n",
    "val_losses = []\n",
    "\n",
    "n_epoches = 5\n",
    "\n",
    "for epoch in range(n_epoches):\n",
    "    train_loss = 0\n",
    "    val_loss = 0\n",
    "\n",
    "    # Обучение\n",
    "    model.train()\n",
    "    for texts, labels in tqdm(train_loader):\n",
    "        texts = texts.float().to(device)\n",
    "        labels = labels.to(device)\n",
    "\n",
    "        outputs = model(texts)\n",
    "        loss = criterion(outputs, labels)\n",
    "\n",
    "        optimizer.zero_grad()\n",
    "        loss.backward()\n",
    "        optimizer.step()\n",
    "\n",
    "        train_loss += loss.item()\n",
    "\n",
    "    # Валидация\n",
    "    model.eval()\n",
    "    with torch.no_grad():\n",
    "        for texts, labels in tqdm(test_loader):\n",
    "            texts = texts.float().to(device)\n",
    "            labels = labels.to(device)\n",
    "\n",
    "            outputs = model(texts)\n",
    "            loss = criterion(outputs, labels)\n",
    "\n",
    "            val_loss += loss.item()\n",
    "\n",
    "    train_loss /= len(train_loader)\n",
    "    val_loss /= len(test_loader)\n",
    "    train_losses.append(train_loss)\n",
    "    val_losses.append(val_loss)\n",
    "\n",
    "    print(f'Epoch {epoch+1}, Train Loss: {train_loss}, Val Loss: {val_loss}')\n",
    "\n",
    "# Построение графика потерь\n",
    "plt.plot(range(1, n_epoches + 1), train_losses, label='Train Loss')\n",
    "plt.plot(range(1, n_epoches + 1), val_losses, label='Val Loss')\n",
    "plt.xlabel('Epoch')\n",
    "plt.ylabel('Loss')\n",
    "plt.legend()\n",
    "plt.show()\n",
    "\n"
   ]
  },
  {
   "cell_type": "code",
   "execution_count": 7,
   "id": "fb676f8c",
   "metadata": {
    "execution": {
     "iopub.execute_input": "2024-05-23T14:15:01.319175Z",
     "iopub.status.busy": "2024-05-23T14:15:01.317664Z",
     "iopub.status.idle": "2024-05-23T14:15:02.610557Z",
     "shell.execute_reply": "2024-05-23T14:15:02.608860Z"
    },
    "papermill": {
     "duration": 1.484375,
     "end_time": "2024-05-23T14:15:02.614266",
     "exception": false,
     "start_time": "2024-05-23T14:15:01.129891",
     "status": "completed"
    },
    "tags": []
   },
   "outputs": [
    {
     "name": "stdout",
     "output_type": "stream",
     "text": [
      "0.9501517677715395\n",
      "(0.9474625183993687, 0.9493446687920651, 0.9471876502376112, None)\n"
     ]
    },
    {
     "name": "stderr",
     "output_type": "stream",
     "text": [
      "/opt/conda/lib/python3.10/site-packages/sklearn/metrics/_classification.py:1344: UndefinedMetricWarning: Precision and F-score are ill-defined and being set to 0.0 in labels with no predicted samples. Use `zero_division` parameter to control this behavior.\n",
      "  _warn_prf(average, modifier, msg_start, len(result))\n"
     ]
    }
   ],
   "source": [
    "# Прогнозирование на тестовом наборе\n",
    "predictions = []\n",
    "with torch.no_grad():\n",
    "    for texts, labels in test_loader:\n",
    "        texts = texts.float().to(device)\n",
    "        outputs = model(texts)\n",
    "        _, predicted = torch.max(outputs.data, 1)\n",
    "        predictions.extend(predicted.cpu().numpy())\n",
    "\n",
    "# Перевод меток обратно в исходные интенты\n",
    "predicted_intents = le.inverse_transform(predictions)\n",
    "\n",
    "print(balanced_accuracy_score(test_labels, predictions))\n",
    "print(precision_recall_fscore_support(test_labels, predictions, average='weighted'))"
   ]
  }
 ],
 "metadata": {
  "kaggle": {
   "accelerator": "none",
   "dataSources": [
    {
     "datasetId": 1549969,
     "sourceId": 2560015,
     "sourceType": "datasetVersion"
    }
   ],
   "dockerImageVersionId": 30698,
   "isGpuEnabled": false,
   "isInternetEnabled": true,
   "language": "python",
   "sourceType": "notebook"
  },
  "kernelspec": {
   "display_name": "Python 3",
   "language": "python",
   "name": "python3"
  },
  "language_info": {
   "codemirror_mode": {
    "name": "ipython",
    "version": 3
   },
   "file_extension": ".py",
   "mimetype": "text/x-python",
   "name": "python",
   "nbconvert_exporter": "python",
   "pygments_lexer": "ipython3",
   "version": "3.10.13"
  },
  "papermill": {
   "default_parameters": {},
   "duration": 241.251904,
   "end_time": "2024-05-23T14:15:04.325584",
   "environment_variables": {},
   "exception": null,
   "input_path": "__notebook__.ipynb",
   "output_path": "__notebook__.ipynb",
   "parameters": {},
   "start_time": "2024-05-23T14:11:03.073680",
   "version": "2.5.0"
  }
 },
 "nbformat": 4,
 "nbformat_minor": 5
}
