{
 "cells": [
  {
   "cell_type": "code",
   "execution_count": 1,
   "id": "b6a7a446",
   "metadata": {
    "_cell_guid": "b1076dfc-b9ad-4769-8c92-a6c4dae69d19",
    "_uuid": "8f2839f25d086af736a60e9eeb907d3b93b6e0e5",
    "execution": {
     "iopub.execute_input": "2024-05-23T14:05:58.294830Z",
     "iopub.status.busy": "2024-05-23T14:05:58.294342Z",
     "iopub.status.idle": "2024-05-23T14:05:59.289686Z",
     "shell.execute_reply": "2024-05-23T14:05:59.288487Z"
    },
    "papermill": {
     "duration": 1.00394,
     "end_time": "2024-05-23T14:05:59.292403",
     "exception": false,
     "start_time": "2024-05-23T14:05:58.288463",
     "status": "completed"
    },
    "tags": []
   },
   "outputs": [
    {
     "name": "stdout",
     "output_type": "stream",
     "text": [
      "/kaggle/input/qa-intents-dataset-university-domain/dataset_test.tsv\n",
      "/kaggle/input/qa-intents-dataset-university-domain/labels_description.txt\n",
      "/kaggle/input/qa-intents-dataset-university-domain/dataset_train.tsv\n"
     ]
    }
   ],
   "source": [
    "import numpy as np # linear algebra\n",
    "import pandas as pd # data processing, CSV file I/O (e.g. pd.read_csv)\n",
    "\n",
    "import os\n",
    "for dirname, _, filenames in os.walk('/kaggle/input'):\n",
    "    for filename in filenames:\n",
    "        print(os.path.join(dirname, filename))"
   ]
  },
  {
   "cell_type": "code",
   "execution_count": 2,
   "id": "0cb289c9",
   "metadata": {
    "execution": {
     "iopub.execute_input": "2024-05-23T14:05:59.302370Z",
     "iopub.status.busy": "2024-05-23T14:05:59.301801Z",
     "iopub.status.idle": "2024-05-23T14:06:06.014212Z",
     "shell.execute_reply": "2024-05-23T14:06:06.012936Z"
    },
    "papermill": {
     "duration": 6.720482,
     "end_time": "2024-05-23T14:06:06.017051",
     "exception": false,
     "start_time": "2024-05-23T14:05:59.296569",
     "status": "completed"
    },
    "tags": []
   },
   "outputs": [
    {
     "name": "stdout",
     "output_type": "stream",
     "text": [
      "[nltk_data] Downloading package punkt to /usr/share/nltk_data...\n",
      "[nltk_data]   Package punkt is already up-to-date!\n"
     ]
    },
    {
     "data": {
      "text/plain": [
       "True"
      ]
     },
     "execution_count": 2,
     "metadata": {},
     "output_type": "execute_result"
    }
   ],
   "source": [
    "import nltk\n",
    "from nltk.tokenize import word_tokenize\n",
    "from sklearn.feature_extraction.text import TfidfVectorizer\n",
    "from sklearn.preprocessing import LabelEncoder\n",
    "from torch.utils.data import Dataset, DataLoader\n",
    "import torch\n",
    "from torch import nn\n",
    "from sklearn.metrics import precision_recall_fscore_support, balanced_accuracy_score\n",
    "from sklearn.model_selection import train_test_split\n",
    "from tqdm import tqdm\n",
    "import matplotlib.pyplot as plt\n",
    "\n",
    "# Загрузка данных\n",
    "nltk.download('punkt')"
   ]
  },
  {
   "cell_type": "code",
   "execution_count": 3,
   "id": "a9b62189",
   "metadata": {
    "execution": {
     "iopub.execute_input": "2024-05-23T14:06:06.028073Z",
     "iopub.status.busy": "2024-05-23T14:06:06.026771Z",
     "iopub.status.idle": "2024-05-23T14:06:08.651972Z",
     "shell.execute_reply": "2024-05-23T14:06:08.650764Z"
    },
    "papermill": {
     "duration": 2.633862,
     "end_time": "2024-05-23T14:06:08.654978",
     "exception": false,
     "start_time": "2024-05-23T14:06:06.021116",
     "status": "completed"
    },
    "tags": []
   },
   "outputs": [
    {
     "name": "stderr",
     "output_type": "stream",
     "text": [
      "/opt/conda/lib/python3.10/site-packages/sklearn/feature_extraction/text.py:528: UserWarning: The parameter 'token_pattern' will not be used since 'tokenizer' is not None'\n",
      "  warnings.warn(\n"
     ]
    }
   ],
   "source": [
    "train_data = pd.read_csv('../input/qa-intents-dataset-university-domain/dataset_train.tsv', delimiter='\\t', encoding=\"utf-8\", names=['text', 'intent'])\n",
    "test_data = pd.read_csv('../input/qa-intents-dataset-university-domain/dataset_test.tsv', delimiter='\\t', encoding=\"utf-8\", names=['text', 'intent'])\n",
    "full_data = pd.concat([train_data, test_data])\n",
    "\n",
    "train, test = train_test_split(full_data, test_size=0.2, random_state=42)\n",
    "\n",
    "# Преобразование меток в числовые значения\n",
    "le = LabelEncoder()\n",
    "train_labels = le.fit_transform(train['intent'])\n",
    "test_labels = le.transform(test['intent'])\n",
    "\n",
    "# Токенизация и преобразование в TF-IDF\n",
    "tokenizer = word_tokenize\n",
    "vectorizer = TfidfVectorizer(tokenizer=tokenizer, stop_words='english')\n",
    "train_texts = vectorizer.fit_transform(train['text']).toarray()\n",
    "test_texts = vectorizer.transform(test['text']).toarray()\n"
   ]
  },
  {
   "cell_type": "code",
   "execution_count": 4,
   "id": "b529d53d",
   "metadata": {
    "execution": {
     "iopub.execute_input": "2024-05-23T14:06:08.665417Z",
     "iopub.status.busy": "2024-05-23T14:06:08.664997Z",
     "iopub.status.idle": "2024-05-23T14:06:08.675472Z",
     "shell.execute_reply": "2024-05-23T14:06:08.674249Z"
    },
    "papermill": {
     "duration": 0.018736,
     "end_time": "2024-05-23T14:06:08.678153",
     "exception": false,
     "start_time": "2024-05-23T14:06:08.659417",
     "status": "completed"
    },
    "tags": []
   },
   "outputs": [],
   "source": [
    "# Определение датасета\n",
    "class TextDataset(Dataset):\n",
    "    def __init__(self, texts, labels):\n",
    "        self.texts = texts\n",
    "        self.labels = labels\n",
    "\n",
    "    def __len__(self):\n",
    "        return len(self.texts)\n",
    "\n",
    "    def __getitem__(self, idx):\n",
    "        return self.texts[idx], self.labels[idx]\n",
    "    \n",
    "# Определение модели Bidirectional LSTM\n",
    "class BidirectionalLSTMClassifier(nn.Module):\n",
    "    def __init__(self, input_dim, hidden_dim, output_dim):\n",
    "        super().__init__()\n",
    "        self.lstm = nn.LSTM(input_dim, hidden_dim, batch_first=True, bidirectional=True)\n",
    "        self.fc = nn.Linear(hidden_dim * 2, output_dim)  # Умножаем на 2 из-за двунаправленности\n",
    "\n",
    "    def forward(self, x):\n",
    "        x = x.unsqueeze(1)  # Добавление дополнительного измерения\n",
    "        lstm_out, _ = self.lstm(x)\n",
    "        out = self.fc(lstm_out[:, -1, :])\n",
    "        return out"
   ]
  },
  {
   "cell_type": "code",
   "execution_count": 5,
   "id": "b8954896",
   "metadata": {
    "execution": {
     "iopub.execute_input": "2024-05-23T14:06:08.688208Z",
     "iopub.status.busy": "2024-05-23T14:06:08.687760Z",
     "iopub.status.idle": "2024-05-23T14:06:08.703188Z",
     "shell.execute_reply": "2024-05-23T14:06:08.701913Z"
    },
    "papermill": {
     "duration": 0.023351,
     "end_time": "2024-05-23T14:06:08.705779",
     "exception": false,
     "start_time": "2024-05-23T14:06:08.682428",
     "status": "completed"
    },
    "tags": []
   },
   "outputs": [],
   "source": [
    "train_dataset = TextDataset(torch.from_numpy(train_texts), train_labels)\n",
    "test_dataset = TextDataset(torch.from_numpy(test_texts), test_labels)\n",
    "train_loader = DataLoader(train_dataset, batch_size=32, shuffle=True)\n",
    "test_loader = DataLoader(test_dataset, batch_size=32)"
   ]
  },
  {
   "cell_type": "code",
   "execution_count": 6,
   "id": "ad806ff9",
   "metadata": {
    "execution": {
     "iopub.execute_input": "2024-05-23T14:06:08.716244Z",
     "iopub.status.busy": "2024-05-23T14:06:08.715797Z",
     "iopub.status.idle": "2024-05-23T14:09:05.709740Z",
     "shell.execute_reply": "2024-05-23T14:09:05.708540Z"
    },
    "papermill": {
     "duration": 177.002267,
     "end_time": "2024-05-23T14:09:05.712332",
     "exception": false,
     "start_time": "2024-05-23T14:06:08.710065",
     "status": "completed"
    },
    "tags": []
   },
   "outputs": [
    {
     "name": "stderr",
     "output_type": "stream",
     "text": [
      "100%|██████████| 353/353 [00:36<00:00,  9.71it/s]\n",
      "100%|██████████| 89/89 [00:01<00:00, 84.08it/s]\n"
     ]
    },
    {
     "name": "stdout",
     "output_type": "stream",
     "text": [
      "Epoch 1, Train Loss: 4.876121106296355, Val Loss: 4.754261140073283\n"
     ]
    },
    {
     "name": "stderr",
     "output_type": "stream",
     "text": [
      "100%|██████████| 353/353 [00:32<00:00, 10.78it/s]\n",
      "100%|██████████| 89/89 [00:01<00:00, 87.67it/s]\n"
     ]
    },
    {
     "name": "stdout",
     "output_type": "stream",
     "text": [
      "Epoch 2, Train Loss: 4.56218072712928, Val Loss: 4.376211712869366\n"
     ]
    },
    {
     "name": "stderr",
     "output_type": "stream",
     "text": [
      "100%|██████████| 353/353 [00:33<00:00, 10.65it/s]\n",
      "100%|██████████| 89/89 [00:01<00:00, 88.09it/s]\n"
     ]
    },
    {
     "name": "stdout",
     "output_type": "stream",
     "text": [
      "Epoch 3, Train Loss: 4.252573799479109, Val Loss: 4.114067048169254\n"
     ]
    },
    {
     "name": "stderr",
     "output_type": "stream",
     "text": [
      "100%|██████████| 353/353 [00:33<00:00, 10.67it/s]\n",
      "100%|██████████| 89/89 [00:01<00:00, 86.41it/s]\n"
     ]
    },
    {
     "name": "stdout",
     "output_type": "stream",
     "text": [
      "Epoch 4, Train Loss: 3.948947086550359, Val Loss: 3.75193154142144\n"
     ]
    },
    {
     "name": "stderr",
     "output_type": "stream",
     "text": [
      "100%|██████████| 353/353 [00:33<00:00, 10.69it/s]\n",
      "100%|██████████| 89/89 [00:01<00:00, 85.41it/s]\n"
     ]
    },
    {
     "name": "stdout",
     "output_type": "stream",
     "text": [
      "Epoch 5, Train Loss: 3.526774508419523, Val Loss: 3.2810988158322454\n"
     ]
    },
    {
     "data": {
      "image/png": "[encoded data removed]",
      "text/plain": [
       "<Figure size 640x480 with 1 Axes>"
      ]
     },
     "metadata": {},
     "output_type": "display_data"
    }
   ],
   "source": [
    "# Инициализация модели\n",
    "model = BidirectionalLSTMClassifier(input_dim=train_texts.shape[1], hidden_dim=256, output_dim=len(le.classes_))\n",
    "\n",
    "# Настройка устройства\n",
    "device = torch.device('cuda' if torch.cuda.is_available() else 'cpu')\n",
    "model = model.to(device)\n",
    "\n",
    "# Определение функции потерь и оптимизатора\n",
    "criterion = nn.CrossEntropyLoss()\n",
    "optimizer = torch.optim.Adam(model.parameters(), lr=0.0001)\n",
    "\n",
    "# Обучение модели\n",
    "train_losses = []\n",
    "val_losses = []\n",
    "\n",
    "n_epoches = 5\n",
    "\n",
    "for epoch in range(n_epoches):\n",
    "    train_loss = 0\n",
    "    val_loss = 0\n",
    "\n",
    "    # Обучение\n",
    "    model.train()\n",
    "    for texts, labels in tqdm(train_loader):\n",
    "        texts = texts.float().to(device)\n",
    "        labels = labels.to(device)\n",
    "\n",
    "        outputs = model(texts)\n",
    "        loss = criterion(outputs, labels)\n",
    "\n",
    "        optimizer.zero_grad()\n",
    "        loss.backward()\n",
    "        optimizer.step()\n",
    "\n",
    "        train_loss += loss.item()\n",
    "\n",
    "    # Валидация\n",
    "    model.eval()\n",
    "    with torch.no_grad():\n",
    "        for texts, labels in tqdm(test_loader):\n",
    "            texts = texts.float().to(device)\n",
    "            labels = labels.to(device)\n",
    "\n",
    "            outputs = model(texts)\n",
    "            loss = criterion(outputs, labels)\n",
    "\n",
    "            val_loss += loss.item()\n",
    "\n",
    "    train_loss /= len(train_loader)\n",
    "    val_loss /= len(test_loader)\n",
    "    train_losses.append(train_loss)\n",
    "    val_losses.append(val_loss)\n",
    "\n",
    "    print(f'Epoch {epoch+1}, Train Loss: {train_loss}, Val Loss: {val_loss}')\n",
    "\n",
    "# Построение графика потерь\n",
    "plt.plot(range(1, n_epoches + 1), train_losses, label='Train Loss')\n",
    "plt.plot(range(1, n_epoches + 1), val_losses, label='Val Loss')\n",
    "plt.xlabel('Epoch')\n",
    "plt.ylabel('Loss')\n",
    "plt.legend()\n",
    "plt.show()\n",
    "\n"
   ]
  },
  {
   "cell_type": "code",
   "execution_count": 7,
   "id": "0249ce46",
   "metadata": {
    "execution": {
     "iopub.execute_input": "2024-05-23T14:09:05.916061Z",
     "iopub.status.busy": "2024-05-23T14:09:05.915361Z",
     "iopub.status.idle": "2024-05-23T14:09:06.955451Z",
     "shell.execute_reply": "2024-05-23T14:09:06.954089Z"
    },
    "papermill": {
     "duration": 1.145764,
     "end_time": "2024-05-23T14:09:06.958575",
     "exception": false,
     "start_time": "2024-05-23T14:09:05.812811",
     "status": "completed"
    },
    "tags": []
   },
   "outputs": [
    {
     "name": "stdout",
     "output_type": "stream",
     "text": [
      "0.12098200261275904\n",
      "(0.2844674247686749, 0.28515763372298975, 0.22119750841740193, None)\n"
     ]
    },
    {
     "name": "stderr",
     "output_type": "stream",
     "text": [
      "/opt/conda/lib/python3.10/site-packages/sklearn/metrics/_classification.py:1344: UndefinedMetricWarning: Precision and F-score are ill-defined and being set to 0.0 in labels with no predicted samples. Use `zero_division` parameter to control this behavior.\n",
      "  _warn_prf(average, modifier, msg_start, len(result))\n"
     ]
    }
   ],
   "source": [
    "# Прогнозирование на тестовом наборе\n",
    "predictions = []\n",
    "with torch.no_grad():\n",
    "    for texts, labels in test_loader:\n",
    "        texts = texts.float().to(device)\n",
    "        outputs = model(texts)\n",
    "        _, predicted = torch.max(outputs.data, 1)\n",
    "        predictions.extend(predicted.cpu().numpy())\n",
    "\n",
    "# Перевод меток обратно в исходные интенты\n",
    "predicted_intents = le.inverse_transform(predictions)\n",
    "\n",
    "print(balanced_accuracy_score(test_labels, predictions))\n",
    "print(precision_recall_fscore_support(test_labels, predictions, average='weighted'))"
   ]
  }
 ],
 "metadata": {
  "kaggle": {
   "accelerator": "none",
   "dataSources": [
    {
     "datasetId": 1549969,
     "sourceId": 2560015,
     "sourceType": "datasetVersion"
    }
   ],
   "dockerImageVersionId": 30698,
   "isGpuEnabled": false,
   "isInternetEnabled": true,
   "language": "python",
   "sourceType": "notebook"
  },
  "kernelspec": {
   "display_name": "Python 3",
   "language": "python",
   "name": "python3"
  },
  "language_info": {
   "codemirror_mode": {
    "name": "ipython",
    "version": 3
   },
   "file_extension": ".py",
   "mimetype": "text/x-python",
   "name": "python",
   "nbconvert_exporter": "python",
   "pygments_lexer": "ipython3",
   "version": "3.10.13"
  },
  "papermill": {
   "default_parameters": {},
   "duration": 194.320628,
   "end_time": "2024-05-23T14:09:09.438382",
   "environment_variables": {},
   "exception": null,
   "input_path": "__notebook__.ipynb",
   "output_path": "__notebook__.ipynb",
   "parameters": {},
   "start_time": "2024-05-23T14:05:55.117754",
   "version": "2.5.0"
  }
 },
 "nbformat": 4,
 "nbformat_minor": 5
}
