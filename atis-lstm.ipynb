{
 "cells": [
  {
   "cell_type": "code",
   "execution_count": 1,
   "id": "541099af",
   "metadata": {
    "_cell_guid": "b1076dfc-b9ad-4769-8c92-a6c4dae69d19",
    "_uuid": "8f2839f25d086af736a60e9eeb907d3b93b6e0e5",
    "execution": {
     "iopub.execute_input": "2024-05-28T15:14:46.400752Z",
     "iopub.status.busy": "2024-05-28T15:14:46.400245Z",
     "iopub.status.idle": "2024-05-28T15:14:47.453776Z",
     "shell.execute_reply": "2024-05-28T15:14:47.452003Z"
    },
    "papermill": {
     "duration": 1.069688,
     "end_time": "2024-05-28T15:14:47.457233",
     "exception": false,
     "start_time": "2024-05-28T15:14:46.387545",
     "status": "completed"
    },
    "tags": []
   },
   "outputs": [
    {
     "name": "stdout",
     "output_type": "stream",
     "text": [
      "/kaggle/input/atis-airlinetravelinformationsystem/atis_intents_train.csv\n",
      "/kaggle/input/atis-airlinetravelinformationsystem/atis_intents.csv\n",
      "/kaggle/input/atis-airlinetravelinformationsystem/atis_intents_test.csv\n"
     ]
    }
   ],
   "source": [
    "import numpy as np # linear algebra\n",
    "import pandas as pd # data processing, CSV file I/O (e.g. pd.read_csv)\n",
    "\n",
    "import os\n",
    "for dirname, _, filenames in os.walk('/kaggle/input'):\n",
    "    for filename in filenames:\n",
    "        print(os.path.join(dirname, filename))"
   ]
  },
  {
   "cell_type": "code",
   "execution_count": 2,
   "id": "6484da96",
   "metadata": {
    "execution": {
     "iopub.execute_input": "2024-05-28T15:14:47.481587Z",
     "iopub.status.busy": "2024-05-28T15:14:47.480764Z",
     "iopub.status.idle": "2024-05-28T15:14:54.261867Z",
     "shell.execute_reply": "2024-05-28T15:14:54.260511Z"
    },
    "papermill": {
     "duration": 6.796823,
     "end_time": "2024-05-28T15:14:54.265611",
     "exception": false,
     "start_time": "2024-05-28T15:14:47.468788",
     "status": "completed"
    },
    "tags": []
   },
   "outputs": [],
   "source": [
    "import nltk\n",
    "from nltk.tokenize import word_tokenize\n",
    "from sklearn.feature_extraction.text import TfidfVectorizer\n",
    "from sklearn.preprocessing import LabelEncoder\n",
    "from torch.utils.data import Dataset, DataLoader\n",
    "import torch\n",
    "from torch import nn"
   ]
  },
  {
   "cell_type": "code",
   "execution_count": 3,
   "id": "16a4bc73",
   "metadata": {
    "execution": {
     "iopub.execute_input": "2024-05-28T15:14:54.288751Z",
     "iopub.status.busy": "2024-05-28T15:14:54.288114Z",
     "iopub.status.idle": "2024-05-28T15:14:54.875898Z",
     "shell.execute_reply": "2024-05-28T15:14:54.874283Z"
    },
    "papermill": {
     "duration": 0.603329,
     "end_time": "2024-05-28T15:14:54.879213",
     "exception": false,
     "start_time": "2024-05-28T15:14:54.275884",
     "status": "completed"
    },
    "tags": []
   },
   "outputs": [
    {
     "name": "stdout",
     "output_type": "stream",
     "text": [
      "[nltk_data] Downloading package punkt to /usr/share/nltk_data...\n",
      "[nltk_data]   Package punkt is already up-to-date!\n"
     ]
    },
    {
     "data": {
      "text/plain": [
       "True"
      ]
     },
     "execution_count": 3,
     "metadata": {},
     "output_type": "execute_result"
    }
   ],
   "source": [
    "from sklearn.model_selection import train_test_split\n",
    "from sklearn.metrics import precision_recall_fscore_support, balanced_accuracy_score\n",
    "from tqdm import tqdm\n",
    "import matplotlib.pyplot as plt\n",
    "from sklearn.metrics import confusion_matrix, accuracy_score\n",
    "import matplotlib.pyplot as plt\n",
    "import seaborn as sns\n",
    "\n",
    "nltk.download('punkt')"
   ]
  },
  {
   "cell_type": "code",
   "execution_count": 4,
   "id": "dc9e24d9",
   "metadata": {
    "execution": {
     "iopub.execute_input": "2024-05-28T15:14:54.901480Z",
     "iopub.status.busy": "2024-05-28T15:14:54.901014Z",
     "iopub.status.idle": "2024-05-28T15:14:54.986229Z",
     "shell.execute_reply": "2024-05-28T15:14:54.984598Z"
    },
    "papermill": {
     "duration": 0.100225,
     "end_time": "2024-05-28T15:14:54.989341",
     "exception": false,
     "start_time": "2024-05-28T15:14:54.889116",
     "status": "completed"
    },
    "tags": []
   },
   "outputs": [],
   "source": [
    "# Путь к файлу CSV\n",
    "data_path = \"/kaggle/input/atis-airlinetravelinformationsystem/atis_intents.csv\"\n",
    "train_data_path = \"/kaggle/input/atis-airlinetravelinformationsystem/atis_intents_train.csv\"\n",
    "test_data_path = \"/kaggle/input/atis-airlinetravelinformationsystem/atis_intents_test.csv\"\n",
    "\n",
    "# Чтение данных из CSV-файлов\n",
    "data = pd.read_csv(data_path)\n",
    "train_data = pd.read_csv(train_data_path)\n",
    "test_data = pd.read_csv(test_data_path)"
   ]
  },
  {
   "cell_type": "code",
   "execution_count": 5,
   "id": "14916df5",
   "metadata": {
    "execution": {
     "iopub.execute_input": "2024-05-28T15:14:55.011787Z",
     "iopub.status.busy": "2024-05-28T15:14:55.011254Z",
     "iopub.status.idle": "2024-05-28T15:14:55.027082Z",
     "shell.execute_reply": "2024-05-28T15:14:55.025994Z"
    },
    "papermill": {
     "duration": 0.030653,
     "end_time": "2024-05-28T15:14:55.030043",
     "exception": false,
     "start_time": "2024-05-28T15:14:54.999390",
     "status": "completed"
    },
    "tags": []
   },
   "outputs": [],
   "source": [
    "data = data.rename(columns={'atis_flight': 'intent', ' i want to fly from boston at 838 am and arrive in denver at 1110 in the morning': 'text'})\n",
    "lost_intent = {'intent': 'atis_flight', 'text': 'i want to fly from boston at 838 am and arrive in denver at 1110 in the morning'}\n",
    "data = pd.concat([data, pd.DataFrame([lost_intent])], ignore_index=True)"
   ]
  },
  {
   "cell_type": "code",
   "execution_count": 6,
   "id": "e5c49265",
   "metadata": {
    "execution": {
     "iopub.execute_input": "2024-05-28T15:14:55.053875Z",
     "iopub.status.busy": "2024-05-28T15:14:55.052890Z",
     "iopub.status.idle": "2024-05-28T15:14:55.074718Z",
     "shell.execute_reply": "2024-05-28T15:14:55.073662Z"
    },
    "papermill": {
     "duration": 0.037307,
     "end_time": "2024-05-28T15:14:55.077766",
     "exception": false,
     "start_time": "2024-05-28T15:14:55.040459",
     "status": "completed"
    },
    "tags": []
   },
   "outputs": [],
   "source": [
    "# Find classes with only one sample\n",
    "class_counts = data['intent'].value_counts()\n",
    "single_sample_classes = class_counts[class_counts == 1].index.tolist()\n",
    "\n",
    "# Separate single sample classes\n",
    "single_sample_data = data[data['intent'].isin(single_sample_classes)]\n",
    "multiple_sample_data = data[~data['intent'].isin(single_sample_classes)]"
   ]
  },
  {
   "cell_type": "code",
   "execution_count": 7,
   "id": "9596cbfa",
   "metadata": {
    "execution": {
     "iopub.execute_input": "2024-05-28T15:14:55.102551Z",
     "iopub.status.busy": "2024-05-28T15:14:55.101586Z",
     "iopub.status.idle": "2024-05-28T15:14:55.142017Z",
     "shell.execute_reply": "2024-05-28T15:14:55.140617Z"
    },
    "papermill": {
     "duration": 0.057926,
     "end_time": "2024-05-28T15:14:55.145765",
     "exception": false,
     "start_time": "2024-05-28T15:14:55.087839",
     "status": "completed"
    },
    "tags": []
   },
   "outputs": [
    {
     "name": "stdout",
     "output_type": "stream",
     "text": [
      "intent\n",
      "atis_flight                                 73.869079\n",
      "atis_airfare                                 8.621607\n",
      "atis_ground_service                          5.082491\n",
      "atis_airline                                 3.113358\n",
      "atis_abbreviation                            2.474721\n",
      "atis_aircraft                                1.676424\n",
      "atis_flight_time                             1.117616\n",
      "atis_quantity                                1.091006\n",
      "atis_distance                                0.425758\n",
      "atis_flight#atis_airfare                     0.399148\n",
      "atis_ground_fare                             0.372539\n",
      "atis_airport                                 0.372539\n",
      "atis_city                                    0.372539\n",
      "atis_capacity                                0.345929\n",
      "atis_flight_no                               0.266099\n",
      "atis_meal                                    0.133049\n",
      "atis_restriction                             0.106440\n",
      "atis_airline#atis_flight_no                  0.053220\n",
      "atis_ground_service#atis_ground_fare         0.026610\n",
      "atis_airfare#atis_flight_time                0.026610\n",
      "atis_cheapest                                0.026610\n",
      "atis_aircraft#atis_flight#atis_flight_no     0.026610\n",
      "Name: proportion, dtype: float64 22 21\n"
     ]
    }
   ],
   "source": [
    "# train, test = train_test_split(data, test_size=0.2, random_state=42, stratify=data['intent'])\n",
    "# Perform stratified split on multiple sample data\n",
    "train_multiple, test_multiple = train_test_split(multiple_sample_data, test_size=0.2, random_state=42, stratify=multiple_sample_data['intent'])\n",
    "\n",
    "# Add single sample data to both train and test sets to ensure all classes are present\n",
    "train = pd.concat([train_multiple, single_sample_data]).reset_index(drop=True)\n",
    "test = pd.concat([test_multiple, single_sample_data]).reset_index(drop=True)\n",
    "\n",
    "# Ensure no duplicates in train and test sets\n",
    "train = train.drop_duplicates().reset_index(drop=True)\n",
    "test = test.drop_duplicates().reset_index(drop=True)\n",
    "\n",
    "unique_values_normalized = train['intent'].value_counts(normalize=True)\n",
    "unique_values_normalized_test = test['intent'].value_counts(normalize=True)\n",
    "print(unique_values_normalized*100, len(unique_values_normalized), len(unique_values_normalized_test))"
   ]
  },
  {
   "cell_type": "code",
   "execution_count": 8,
   "id": "b71152ef",
   "metadata": {
    "execution": {
     "iopub.execute_input": "2024-05-28T15:14:55.172192Z",
     "iopub.status.busy": "2024-05-28T15:14:55.170712Z",
     "iopub.status.idle": "2024-05-28T15:14:55.190417Z",
     "shell.execute_reply": "2024-05-28T15:14:55.189024Z"
    },
    "papermill": {
     "duration": 0.037366,
     "end_time": "2024-05-28T15:14:55.193833",
     "exception": false,
     "start_time": "2024-05-28T15:14:55.156467",
     "status": "completed"
    },
    "tags": []
   },
   "outputs": [
    {
     "name": "stdout",
     "output_type": "stream",
     "text": [
      "intent\n",
      "atis_flight                                 73.869079\n",
      "atis_airfare                                 8.621607\n",
      "atis_ground_service                          5.082491\n",
      "atis_airline                                 3.113358\n",
      "atis_abbreviation                            2.474721\n",
      "atis_aircraft                                1.676424\n",
      "atis_flight_time                             1.117616\n",
      "atis_quantity                                1.091006\n",
      "atis_distance                                0.425758\n",
      "atis_flight#atis_airfare                     0.399148\n",
      "atis_ground_fare                             0.372539\n",
      "atis_airport                                 0.372539\n",
      "atis_city                                    0.372539\n",
      "atis_capacity                                0.345929\n",
      "atis_flight_no                               0.266099\n",
      "atis_meal                                    0.133049\n",
      "atis_restriction                             0.106440\n",
      "atis_airline#atis_flight_no                  0.053220\n",
      "atis_ground_service#atis_ground_fare         0.026610\n",
      "atis_airfare#atis_flight_time                0.026610\n",
      "atis_cheapest                                0.026610\n",
      "atis_aircraft#atis_flight#atis_flight_no     0.026610\n",
      "Name: proportion, dtype: float64 22 22\n"
     ]
    }
   ],
   "source": [
    "# Check for missing classes and ensure all classes are present\n",
    "train_classes = set(train['intent'])\n",
    "test_classes = set(test['intent'])\n",
    "all_classes = set(data['intent'])\n",
    "\n",
    "# Find missing classes in train and test sets\n",
    "missing_train_classes = all_classes - train_classes\n",
    "missing_test_classes = all_classes - test_classes\n",
    "\n",
    "# Add missing classes examples to train and test sets\n",
    "if missing_train_classes:\n",
    "    missing_train_data = data[data['intent'].isin(missing_train_classes)]\n",
    "    train = pd.concat([train, missing_train_data])\n",
    "    train = train.drop_duplicates().reset_index(drop=True)\n",
    "\n",
    "if missing_test_classes:\n",
    "    missing_test_data = data[data['intent'].isin(missing_test_classes)]\n",
    "    test = pd.concat([test, missing_test_data])\n",
    "    test = test.drop_duplicates().reset_index(drop=True)\n",
    "\n",
    "# Print unique value proportions\n",
    "unique_values_normalized = train['intent'].value_counts(normalize=True)\n",
    "unique_values_normalized_test = test['intent'].value_counts(normalize=True)\n",
    "print(unique_values_normalized * 100, len(unique_values_normalized), len(unique_values_normalized_test)) "
   ]
  },
  {
   "cell_type": "code",
   "execution_count": 9,
   "id": "c6ecf45f",
   "metadata": {
    "execution": {
     "iopub.execute_input": "2024-05-28T15:14:55.217007Z",
     "iopub.status.busy": "2024-05-28T15:14:55.216605Z",
     "iopub.status.idle": "2024-05-28T15:14:55.224103Z",
     "shell.execute_reply": "2024-05-28T15:14:55.222651Z"
    },
    "papermill": {
     "duration": 0.022469,
     "end_time": "2024-05-28T15:14:55.226802",
     "exception": false,
     "start_time": "2024-05-28T15:14:55.204333",
     "status": "completed"
    },
    "tags": []
   },
   "outputs": [],
   "source": [
    "class TextDataset(Dataset):\n",
    "    def __init__(self, texts, labels):\n",
    "        self.texts = texts\n",
    "        self.labels = labels\n",
    "\n",
    "    def __len__(self):\n",
    "        return len(self.texts)\n",
    "\n",
    "    def __getitem__(self, idx):\n",
    "        return self.texts[idx], self.labels[idx]"
   ]
  },
  {
   "cell_type": "code",
   "execution_count": 10,
   "id": "00163616",
   "metadata": {
    "execution": {
     "iopub.execute_input": "2024-05-28T15:14:55.248821Z",
     "iopub.status.busy": "2024-05-28T15:14:55.248405Z",
     "iopub.status.idle": "2024-05-28T15:14:55.257559Z",
     "shell.execute_reply": "2024-05-28T15:14:55.255977Z"
    },
    "papermill": {
     "duration": 0.024019,
     "end_time": "2024-05-28T15:14:55.260877",
     "exception": false,
     "start_time": "2024-05-28T15:14:55.236858",
     "status": "completed"
    },
    "tags": []
   },
   "outputs": [],
   "source": [
    "class LSTMClassifier(nn.Module):\n",
    "    def __init__(self, input_dim, hidden_dim, output_dim):\n",
    "        super().__init__()\n",
    "        self.lstm = nn.LSTM(input_dim, hidden_dim, batch_first=True)\n",
    "        self.fc = nn.Linear(hidden_dim, output_dim)\n",
    "\n",
    "    def forward(self, x):\n",
    "        x = x.unsqueeze(1)  # Добавление дополнительного измерения\n",
    "#         print(f'x shape: {x.shape}')\n",
    "        lstm_out, _ = self.lstm(x)\n",
    "        out = self.fc(lstm_out[:, -1, :])\n",
    "        return out"
   ]
  },
  {
   "cell_type": "code",
   "execution_count": 11,
   "id": "7f3a003b",
   "metadata": {
    "execution": {
     "iopub.execute_input": "2024-05-28T15:14:55.283320Z",
     "iopub.status.busy": "2024-05-28T15:14:55.282877Z",
     "iopub.status.idle": "2024-05-28T15:14:55.292069Z",
     "shell.execute_reply": "2024-05-28T15:14:55.290622Z"
    },
    "papermill": {
     "duration": 0.024019,
     "end_time": "2024-05-28T15:14:55.295053",
     "exception": false,
     "start_time": "2024-05-28T15:14:55.271034",
     "status": "completed"
    },
    "tags": []
   },
   "outputs": [],
   "source": [
    "from sklearn.preprocessing import LabelEncoder\n",
    "\n",
    "# Создание LabelEncoder\n",
    "le = LabelEncoder()\n",
    "\n",
    "# Преобразование меток в числовые значения\n",
    "train_labels = le.fit_transform(train['intent'])\n",
    "test_labels = le.transform(test['intent'])"
   ]
  },
  {
   "cell_type": "code",
   "execution_count": 12,
   "id": "fa8dd15f",
   "metadata": {
    "execution": {
     "iopub.execute_input": "2024-05-28T15:14:55.318445Z",
     "iopub.status.busy": "2024-05-28T15:14:55.316735Z",
     "iopub.status.idle": "2024-05-28T15:14:56.457320Z",
     "shell.execute_reply": "2024-05-28T15:14:56.455853Z"
    },
    "papermill": {
     "duration": 1.155396,
     "end_time": "2024-05-28T15:14:56.460654",
     "exception": false,
     "start_time": "2024-05-28T15:14:55.305258",
     "status": "completed"
    },
    "tags": []
   },
   "outputs": [
    {
     "name": "stderr",
     "output_type": "stream",
     "text": [
      "/opt/conda/lib/python3.10/site-packages/sklearn/feature_extraction/text.py:528: UserWarning: The parameter 'token_pattern' will not be used since 'tokenizer' is not None'\n",
      "  warnings.warn(\n"
     ]
    }
   ],
   "source": [
    "# Токенизация и преобразование в TF-IDF\n",
    "tokenizer = word_tokenize\n",
    "vectorizer = TfidfVectorizer(tokenizer=tokenizer)\n",
    "\n",
    "train_texts = vectorizer.fit_transform(train['text']).toarray()\n",
    "test_texts = vectorizer.transform(test['text']).toarray()\n",
    "\n",
    "# Преобразование массивов numpy в тензоры PyTorch перед передачей в TextDataset\n",
    "train_dataset = TextDataset(torch.from_numpy(train_texts), train_labels)\n",
    "test_dataset = TextDataset(torch.from_numpy(test_texts), test_labels)\n",
    "\n",
    "train_loader = DataLoader(train_dataset, batch_size=32, shuffle=True)\n",
    "test_loader = DataLoader(test_dataset, batch_size=32)"
   ]
  },
  {
   "cell_type": "code",
   "execution_count": 13,
   "id": "bf8e2a20",
   "metadata": {
    "execution": {
     "iopub.execute_input": "2024-05-28T15:14:56.484885Z",
     "iopub.status.busy": "2024-05-28T15:14:56.484473Z",
     "iopub.status.idle": "2024-05-28T15:14:59.739714Z",
     "shell.execute_reply": "2024-05-28T15:14:59.738094Z"
    },
    "papermill": {
     "duration": 3.271477,
     "end_time": "2024-05-28T15:14:59.743051",
     "exception": false,
     "start_time": "2024-05-28T15:14:56.471574",
     "status": "completed"
    },
    "tags": []
   },
   "outputs": [],
   "source": [
    "# Создание и обучение модели\n",
    "model = LSTMClassifier(input_dim=train_texts.shape[1], hidden_dim=256, output_dim=len(le.classes_))\n",
    "\n",
    "# Перемещение модели на GPU, если он доступен\n",
    "device = torch.device('cuda' if torch.cuda.is_available() else 'cpu')\n",
    "model = model.to(device)\n",
    "\n",
    "criterion = nn.CrossEntropyLoss()\n",
    "optimizer = torch.optim.Adam(model.parameters(), lr=0.001)\n",
    "\n",
    "train_losses = []\n",
    "val_losses = []\n"
   ]
  },
  {
   "cell_type": "code",
   "execution_count": 14,
   "id": "8018aa9c",
   "metadata": {
    "execution": {
     "iopub.execute_input": "2024-05-28T15:14:59.767148Z",
     "iopub.status.busy": "2024-05-28T15:14:59.766406Z",
     "iopub.status.idle": "2024-05-28T15:14:59.772382Z",
     "shell.execute_reply": "2024-05-28T15:14:59.770759Z"
    },
    "papermill": {
     "duration": 0.021172,
     "end_time": "2024-05-28T15:14:59.775100",
     "exception": false,
     "start_time": "2024-05-28T15:14:59.753928",
     "status": "completed"
    },
    "tags": []
   },
   "outputs": [],
   "source": [
    "n_epoches = 20"
   ]
  },
  {
   "cell_type": "code",
   "execution_count": 15,
   "id": "9faedd67",
   "metadata": {
    "execution": {
     "iopub.execute_input": "2024-05-28T15:14:59.799214Z",
     "iopub.status.busy": "2024-05-28T15:14:59.798685Z",
     "iopub.status.idle": "2024-05-28T15:15:52.734873Z",
     "shell.execute_reply": "2024-05-28T15:15:52.733658Z"
    },
    "papermill": {
     "duration": 52.952097,
     "end_time": "2024-05-28T15:15:52.737880",
     "exception": false,
     "start_time": "2024-05-28T15:14:59.785783",
     "status": "completed"
    },
    "tags": []
   },
   "outputs": [
    {
     "name": "stderr",
     "output_type": "stream",
     "text": [
      "100%|██████████| 118/118 [00:02<00:00, 39.84it/s]\n",
      "100%|██████████| 31/31 [00:00<00:00, 375.45it/s]\n"
     ]
    },
    {
     "name": "stdout",
     "output_type": "stream",
     "text": [
      "Epoch 1, Train Loss: 1.688953007681895, Val Loss: 0.9821634936717248\n"
     ]
    },
    {
     "name": "stderr",
     "output_type": "stream",
     "text": [
      "100%|██████████| 118/118 [00:02<00:00, 48.94it/s]\n",
      "100%|██████████| 31/31 [00:00<00:00, 409.53it/s]\n"
     ]
    },
    {
     "name": "stdout",
     "output_type": "stream",
     "text": [
      "Epoch 2, Train Loss: 0.7919306022635961, Val Loss: 0.721755656503862\n"
     ]
    },
    {
     "name": "stderr",
     "output_type": "stream",
     "text": [
      "100%|██████████| 118/118 [00:02<00:00, 44.06it/s]\n",
      "100%|██████████| 31/31 [00:00<00:00, 402.50it/s]\n"
     ]
    },
    {
     "name": "stdout",
     "output_type": "stream",
     "text": [
      "Epoch 3, Train Loss: 0.540651541518963, Val Loss: 0.5416828826550515\n"
     ]
    },
    {
     "name": "stderr",
     "output_type": "stream",
     "text": [
      "100%|██████████| 118/118 [00:02<00:00, 40.90it/s]\n",
      "100%|██████████| 31/31 [00:00<00:00, 434.33it/s]\n"
     ]
    },
    {
     "name": "stdout",
     "output_type": "stream",
     "text": [
      "Epoch 4, Train Loss: 0.3804277694957741, Val Loss: 0.4308617821624202\n"
     ]
    },
    {
     "name": "stderr",
     "output_type": "stream",
     "text": [
      "100%|██████████| 118/118 [00:02<00:00, 46.55it/s]\n",
      "100%|██████████| 31/31 [00:00<00:00, 403.55it/s]\n"
     ]
    },
    {
     "name": "stdout",
     "output_type": "stream",
     "text": [
      "Epoch 5, Train Loss: 0.27638518815007757, Val Loss: 0.3558182620233105\n"
     ]
    },
    {
     "name": "stderr",
     "output_type": "stream",
     "text": [
      "100%|██████████| 118/118 [00:02<00:00, 47.25it/s]\n",
      "100%|██████████| 31/31 [00:00<00:00, 395.40it/s]\n"
     ]
    },
    {
     "name": "stdout",
     "output_type": "stream",
     "text": [
      "Epoch 6, Train Loss: 0.20820500979484138, Val Loss: 0.30570988549340156\n"
     ]
    },
    {
     "name": "stderr",
     "output_type": "stream",
     "text": [
      "100%|██████████| 118/118 [00:02<00:00, 46.65it/s]\n",
      "100%|██████████| 31/31 [00:00<00:00, 405.70it/s]\n"
     ]
    },
    {
     "name": "stdout",
     "output_type": "stream",
     "text": [
      "Epoch 7, Train Loss: 0.15890321036074626, Val Loss: 0.2707582905648216\n"
     ]
    },
    {
     "name": "stderr",
     "output_type": "stream",
     "text": [
      "100%|██████████| 118/118 [00:02<00:00, 46.44it/s]\n",
      "100%|██████████| 31/31 [00:00<00:00, 439.25it/s]\n"
     ]
    },
    {
     "name": "stdout",
     "output_type": "stream",
     "text": [
      "Epoch 8, Train Loss: 0.1221732951037712, Val Loss: 0.24793466330776293\n"
     ]
    },
    {
     "name": "stderr",
     "output_type": "stream",
     "text": [
      "100%|██████████| 118/118 [00:02<00:00, 40.30it/s]\n",
      "100%|██████████| 31/31 [00:00<00:00, 427.37it/s]\n"
     ]
    },
    {
     "name": "stdout",
     "output_type": "stream",
     "text": [
      "Epoch 9, Train Loss: 0.09125529378021167, Val Loss: 0.23601023348108416\n"
     ]
    },
    {
     "name": "stderr",
     "output_type": "stream",
     "text": [
      "100%|██████████| 118/118 [00:02<00:00, 48.65it/s]\n",
      "100%|██████████| 31/31 [00:00<00:00, 396.71it/s]\n"
     ]
    },
    {
     "name": "stdout",
     "output_type": "stream",
     "text": [
      "Epoch 10, Train Loss: 0.07133699438960875, Val Loss: 0.21600232321408488\n"
     ]
    },
    {
     "name": "stderr",
     "output_type": "stream",
     "text": [
      "100%|██████████| 118/118 [00:02<00:00, 47.58it/s]\n",
      "100%|██████████| 31/31 [00:00<00:00, 458.05it/s]\n"
     ]
    },
    {
     "name": "stdout",
     "output_type": "stream",
     "text": [
      "Epoch 11, Train Loss: 0.05632185267473934, Val Loss: 0.20729440781137637\n"
     ]
    },
    {
     "name": "stderr",
     "output_type": "stream",
     "text": [
      "100%|██████████| 118/118 [00:02<00:00, 46.99it/s]\n",
      "100%|██████████| 31/31 [00:00<00:00, 433.50it/s]\n"
     ]
    },
    {
     "name": "stdout",
     "output_type": "stream",
     "text": [
      "Epoch 12, Train Loss: 0.04559339000448837, Val Loss: 0.20322465725363262\n"
     ]
    },
    {
     "name": "stderr",
     "output_type": "stream",
     "text": [
      "100%|██████████| 118/118 [00:02<00:00, 47.78it/s]\n",
      "100%|██████████| 31/31 [00:00<00:00, 446.14it/s]\n"
     ]
    },
    {
     "name": "stdout",
     "output_type": "stream",
     "text": [
      "Epoch 13, Train Loss: 0.03714285548815851, Val Loss: 0.20256684139190662\n"
     ]
    },
    {
     "name": "stderr",
     "output_type": "stream",
     "text": [
      "100%|██████████| 118/118 [00:02<00:00, 46.97it/s]\n",
      "100%|██████████| 31/31 [00:00<00:00, 420.07it/s]\n"
     ]
    },
    {
     "name": "stdout",
     "output_type": "stream",
     "text": [
      "Epoch 14, Train Loss: 0.031198269754679778, Val Loss: 0.19861708441749215\n"
     ]
    },
    {
     "name": "stderr",
     "output_type": "stream",
     "text": [
      "100%|██████████| 118/118 [00:02<00:00, 46.37it/s]\n",
      "100%|██████████| 31/31 [00:00<00:00, 444.87it/s]\n"
     ]
    },
    {
     "name": "stdout",
     "output_type": "stream",
     "text": [
      "Epoch 15, Train Loss: 0.02565998475311987, Val Loss: 0.19956607724569977\n"
     ]
    },
    {
     "name": "stderr",
     "output_type": "stream",
     "text": [
      "100%|██████████| 118/118 [00:02<00:00, 48.03it/s]\n",
      "100%|██████████| 31/31 [00:00<00:00, 398.57it/s]\n"
     ]
    },
    {
     "name": "stdout",
     "output_type": "stream",
     "text": [
      "Epoch 16, Train Loss: 0.021736197024623278, Val Loss: 0.19918826635506365\n"
     ]
    },
    {
     "name": "stderr",
     "output_type": "stream",
     "text": [
      "100%|██████████| 118/118 [00:02<00:00, 48.57it/s]\n",
      "100%|██████████| 31/31 [00:00<00:00, 454.33it/s]\n"
     ]
    },
    {
     "name": "stdout",
     "output_type": "stream",
     "text": [
      "Epoch 17, Train Loss: 0.018251136520490745, Val Loss: 0.19608473243011582\n"
     ]
    },
    {
     "name": "stderr",
     "output_type": "stream",
     "text": [
      "100%|██████████| 118/118 [00:02<00:00, 47.57it/s]\n",
      "100%|██████████| 31/31 [00:00<00:00, 428.45it/s]\n"
     ]
    },
    {
     "name": "stdout",
     "output_type": "stream",
     "text": [
      "Epoch 18, Train Loss: 0.01523791711532779, Val Loss: 0.19810096220293594\n"
     ]
    },
    {
     "name": "stderr",
     "output_type": "stream",
     "text": [
      "100%|██████████| 118/118 [00:02<00:00, 46.69it/s]\n",
      "100%|██████████| 31/31 [00:00<00:00, 400.12it/s]\n"
     ]
    },
    {
     "name": "stdout",
     "output_type": "stream",
     "text": [
      "Epoch 19, Train Loss: 0.01325620252341111, Val Loss: 0.19919318327259633\n"
     ]
    },
    {
     "name": "stderr",
     "output_type": "stream",
     "text": [
      "100%|██████████| 118/118 [00:02<00:00, 47.99it/s]\n",
      "100%|██████████| 31/31 [00:00<00:00, 450.74it/s]"
     ]
    },
    {
     "name": "stdout",
     "output_type": "stream",
     "text": [
      "Epoch 20, Train Loss: 0.011751088401069865, Val Loss: 0.20100974446282752\n"
     ]
    },
    {
     "name": "stderr",
     "output_type": "stream",
     "text": [
      "\n"
     ]
    }
   ],
   "source": [
    "for epoch in range(n_epoches):\n",
    "    train_loss = 0\n",
    "    val_loss = 0\n",
    "    # Обучение\n",
    "    model.train()\n",
    "    for i, (texts, labels) in enumerate(tqdm(train_loader)):\n",
    "        # Перемещение данных на тот же устройство, что и модель\n",
    "        texts = texts.float().to(device)\n",
    "        labels = labels.to(device)\n",
    "\n",
    "        outputs = model(texts)\n",
    "        loss = criterion(outputs, labels)\n",
    "\n",
    "        optimizer.zero_grad()\n",
    "        loss.backward()\n",
    "        optimizer.step()\n",
    "\n",
    "        train_loss += loss.item()\n",
    "\n",
    "    # Валидация\n",
    "    model.eval()\n",
    "    with torch.no_grad():\n",
    "        for i, (texts, labels) in enumerate(tqdm(test_loader)):\n",
    "            texts = texts.float().to(device)\n",
    "            labels = labels.to(device)\n",
    "\n",
    "            outputs = model(texts)\n",
    "            loss = criterion(outputs, labels)\n",
    "\n",
    "            val_loss += loss.item()\n",
    "\n",
    "    train_loss /= len(train_loader)\n",
    "    val_loss /= len(test_loader)\n",
    "    train_losses.append(train_loss)\n",
    "    val_losses.append(val_loss)\n",
    "\n",
    "    print(f'Epoch {epoch+1}, Train Loss: {train_loss}, Val Loss: {val_loss}')"
   ]
  },
  {
   "cell_type": "code",
   "execution_count": 16,
   "id": "7738772f",
   "metadata": {
    "execution": {
     "iopub.execute_input": "2024-05-28T15:15:52.872655Z",
     "iopub.status.busy": "2024-05-28T15:15:52.872229Z",
     "iopub.status.idle": "2024-05-28T15:15:53.184484Z",
     "shell.execute_reply": "2024-05-28T15:15:53.183183Z"
    },
    "papermill": {
     "duration": 0.382381,
     "end_time": "2024-05-28T15:15:53.187312",
     "exception": false,
     "start_time": "2024-05-28T15:15:52.804931",
     "status": "completed"
    },
    "tags": []
   },
   "outputs": [
    {
     "data": {
      "image/png": "[encoded data removed]",
      "text/plain": [
       "<Figure size 640x480 with 1 Axes>"
      ]
     },
     "metadata": {},
     "output_type": "display_data"
    }
   ],
   "source": [
    "# Построение графика потерь\n",
    "plt.plot(range(1, n_epoches + 1), train_losses, label='Train Loss')\n",
    "plt.plot(range(1, n_epoches + 1), val_losses, label='Val Loss')\n",
    "plt.xlabel('Epoch')\n",
    "plt.ylabel('Loss')\n",
    "plt.legend()\n",
    "plt.show()\n"
   ]
  },
  {
   "cell_type": "code",
   "execution_count": 17,
   "id": "d23a357d",
   "metadata": {
    "execution": {
     "iopub.execute_input": "2024-05-28T15:15:53.330314Z",
     "iopub.status.busy": "2024-05-28T15:15:53.329774Z",
     "iopub.status.idle": "2024-05-28T15:15:53.462095Z",
     "shell.execute_reply": "2024-05-28T15:15:53.460952Z"
    },
    "papermill": {
     "duration": 0.207101,
     "end_time": "2024-05-28T15:15:53.465376",
     "exception": false,
     "start_time": "2024-05-28T15:15:53.258275",
     "status": "completed"
    },
    "tags": []
   },
   "outputs": [
    {
     "name": "stdout",
     "output_type": "stream",
     "text": [
      "0.7678535989039978\n",
      "(0.9597982069665509, 0.9622448979591837, 0.9604485666430078, None)\n"
     ]
    },
    {
     "name": "stderr",
     "output_type": "stream",
     "text": [
      "/opt/conda/lib/python3.10/site-packages/sklearn/metrics/_classification.py:1344: UndefinedMetricWarning: Precision and F-score are ill-defined and being set to 0.0 in labels with no predicted samples. Use `zero_division` parameter to control this behavior.\n",
      "  _warn_prf(average, modifier, msg_start, len(result))\n"
     ]
    }
   ],
   "source": [
    "# Прогнозирование на тестовом наборе\n",
    "predictions = []\n",
    "with torch.no_grad():\n",
    "    for i, (input_ids, labels) in enumerate(test_loader):\n",
    "        input_ids = input_ids.float().to(device)\n",
    "\n",
    "        outputs = model(input_ids)\n",
    "        _, predicted = torch.max(outputs.data, 1)\n",
    "        predictions.extend(predicted.cpu().numpy())\n",
    "\n",
    "# Перевод меток обратно в исходные интенты\n",
    "predicted_intents = le.inverse_transform(predictions)\n",
    "\n",
    "print(balanced_accuracy_score(test_labels, predictions))\n",
    "print(precision_recall_fscore_support(test_labels, predictions, average = 'weighted'))"
   ]
  },
  {
   "cell_type": "code",
   "execution_count": 18,
   "id": "4a2aa632",
   "metadata": {
    "execution": {
     "iopub.execute_input": "2024-05-28T15:15:53.606445Z",
     "iopub.status.busy": "2024-05-28T15:15:53.605733Z",
     "iopub.status.idle": "2024-05-28T15:15:55.211528Z",
     "shell.execute_reply": "2024-05-28T15:15:55.210257Z"
    },
    "papermill": {
     "duration": 1.683521,
     "end_time": "2024-05-28T15:15:55.215497",
     "exception": false,
     "start_time": "2024-05-28T15:15:53.531976",
     "status": "completed"
    },
    "tags": []
   },
   "outputs": [
    {
     "data": {
      "image/png": "[encoded data removed]",
      "text/plain": [
       "<Figure size 1000x700 with 2 Axes>"
      ]
     },
     "metadata": {},
     "output_type": "display_data"
    }
   ],
   "source": [
    "# Построение confusion matrix\n",
    "labels = data['intent'].unique()  # получите уникальные метки классов\n",
    "cm = confusion_matrix(test['intent'], predicted_intents, labels=labels)\n",
    "plt.figure(figsize=(10,7))\n",
    "sns.heatmap(cm, annot=True, fmt='d', cmap='Blues', xticklabels=labels, yticklabels=labels)\n",
    "plt.xlabel('Predicted')\n",
    "plt.ylabel('Truth')\n",
    "plt.title(f'Logistic Regression')\n",
    "plt.show()"
   ]
  },
  {
   "cell_type": "markdown",
   "id": "ec3ed639",
   "metadata": {
    "papermill": {
     "duration": 0.068977,
     "end_time": "2024-05-28T15:15:55.353726",
     "exception": false,
     "start_time": "2024-05-28T15:15:55.284749",
     "status": "completed"
    },
    "tags": []
   },
   "source": [
    "M-USE"
   ]
  },
  {
   "cell_type": "code",
   "execution_count": 19,
   "id": "b7e9664f",
   "metadata": {
    "execution": {
     "iopub.execute_input": "2024-05-28T15:15:55.564135Z",
     "iopub.status.busy": "2024-05-28T15:15:55.563473Z",
     "iopub.status.idle": "2024-05-28T15:15:56.339494Z",
     "shell.execute_reply": "2024-05-28T15:15:56.338232Z"
    },
    "papermill": {
     "duration": 0.919975,
     "end_time": "2024-05-28T15:15:56.342786",
     "exception": false,
     "start_time": "2024-05-28T15:15:55.422811",
     "status": "completed"
    },
    "tags": []
   },
   "outputs": [],
   "source": [
    "import torch\n",
    "from transformers import AutoTokenizer, AutoModel\n",
    "from sklearn.model_selection import train_test_split\n",
    "from sklearn.metrics import precision_recall_fscore_support, balanced_accuracy_score\n",
    "import pandas as pd\n",
    "import torch\n",
    "from torch.utils.data import DataLoader, Dataset, random_split\n",
    "from transformers import AutoTokenizer, AutoModel\n",
    "from sklearn.preprocessing import LabelEncoder\n",
    "import torch.nn as nn\n",
    "import torch.optim as optim\n",
    "import matplotlib.pyplot as plt\n",
    "from tqdm import tqdm"
   ]
  },
  {
   "cell_type": "code",
   "execution_count": 20,
   "id": "ab8a3ffd",
   "metadata": {
    "execution": {
     "iopub.execute_input": "2024-05-28T15:15:56.488886Z",
     "iopub.status.busy": "2024-05-28T15:15:56.488425Z",
     "iopub.status.idle": "2024-05-28T15:15:56.500493Z",
     "shell.execute_reply": "2024-05-28T15:15:56.499420Z"
    },
    "papermill": {
     "duration": 0.09033,
     "end_time": "2024-05-28T15:15:56.503422",
     "exception": false,
     "start_time": "2024-05-28T15:15:56.413092",
     "status": "completed"
    },
    "tags": []
   },
   "outputs": [],
   "source": [
    "# Создание пользовательского Dataset класса\n",
    "class TextDataset(Dataset):\n",
    "    def __init__(self, embeddings, labels):\n",
    "        self.embeddings = embeddings\n",
    "        self.labels = labels\n",
    "\n",
    "    def __len__(self):\n",
    "        return len(self.labels)\n",
    "\n",
    "    def __getitem__(self, idx):\n",
    "        return self.embeddings[idx], self.labels[idx]\n",
    "    \n",
    "# Определение модели LSTM\n",
    "class LSTMClassifier(nn.Module):\n",
    "    def __init__(self, input_dim, hidden_dim, output_dim):\n",
    "        super(LSTMClassifier, self).__init__()\n",
    "        self.lstm = nn.LSTM(input_dim, hidden_dim, batch_first=True)\n",
    "        self.fc = nn.Linear(hidden_dim, output_dim)\n",
    "\n",
    "    def forward(self, x):\n",
    "        _, (hn, _) = self.lstm(x.unsqueeze(1))\n",
    "        out = self.fc(hn[-1])\n",
    "        return out"
   ]
  },
  {
   "cell_type": "code",
   "execution_count": 21,
   "id": "25e75008",
   "metadata": {
    "execution": {
     "iopub.execute_input": "2024-05-28T15:15:56.647687Z",
     "iopub.status.busy": "2024-05-28T15:15:56.646874Z",
     "iopub.status.idle": "2024-05-28T15:16:03.709695Z",
     "shell.execute_reply": "2024-05-28T15:16:03.708533Z"
    },
    "papermill": {
     "duration": 7.138582,
     "end_time": "2024-05-28T15:16:03.712840",
     "exception": false,
     "start_time": "2024-05-28T15:15:56.574258",
     "status": "completed"
    },
    "tags": []
   },
   "outputs": [
    {
     "data": {
      "application/vnd.jupyter.widget-view+json": {
       "model_id": "f051a310b0d24ed387d5e594a112613c",
       "version_major": 2,
       "version_minor": 0
      },
      "text/plain": [
       "tokenizer_config.json:   0%|          | 0.00/480 [00:00<?, ?B/s]"
      ]
     },
     "metadata": {},
     "output_type": "display_data"
    },
    {
     "data": {
      "application/vnd.jupyter.widget-view+json": {
       "model_id": "7eb299387a1b46838b5213df86a815a3",
       "version_major": 2,
       "version_minor": 0
      },
      "text/plain": [
       "config.json:   0%|          | 0.00/645 [00:00<?, ?B/s]"
      ]
     },
     "metadata": {},
     "output_type": "display_data"
    },
    {
     "data": {
      "application/vnd.jupyter.widget-view+json": {
       "model_id": "edcd9431d3ab4e9c8dbbb4f233e8ebd4",
       "version_major": 2,
       "version_minor": 0
      },
      "text/plain": [
       "tokenizer.json:   0%|          | 0.00/9.08M [00:00<?, ?B/s]"
      ]
     },
     "metadata": {},
     "output_type": "display_data"
    },
    {
     "data": {
      "application/vnd.jupyter.widget-view+json": {
       "model_id": "1f07ec33ba594f1796ce5340f580b8d1",
       "version_major": 2,
       "version_minor": 0
      },
      "text/plain": [
       "special_tokens_map.json:   0%|          | 0.00/239 [00:00<?, ?B/s]"
      ]
     },
     "metadata": {},
     "output_type": "display_data"
    },
    {
     "data": {
      "application/vnd.jupyter.widget-view+json": {
       "model_id": "6599b9347c16413a8731586255367bc6",
       "version_major": 2,
       "version_minor": 0
      },
      "text/plain": [
       "model.safetensors:   0%|          | 0.00/471M [00:00<?, ?B/s]"
      ]
     },
     "metadata": {},
     "output_type": "display_data"
    }
   ],
   "source": [
    "# Load tokenizer and model\n",
    "tokenizer = AutoTokenizer.from_pretrained(\"sentence-transformers/paraphrase-multilingual-MiniLM-L12-v2\")\n",
    "model = AutoModel.from_pretrained(\"sentence-transformers/paraphrase-multilingual-MiniLM-L12-v2\")\n"
   ]
  },
  {
   "cell_type": "code",
   "execution_count": null,
   "id": "7a73f93c",
   "metadata": {
    "papermill": {
     "duration": 0.071843,
     "end_time": "2024-05-28T15:16:03.855387",
     "exception": false,
     "start_time": "2024-05-28T15:16:03.783544",
     "status": "completed"
    },
    "tags": []
   },
   "outputs": [],
   "source": []
  },
  {
   "cell_type": "code",
   "execution_count": 22,
   "id": "81cb6de9",
   "metadata": {
    "execution": {
     "iopub.execute_input": "2024-05-28T15:16:04.004351Z",
     "iopub.status.busy": "2024-05-28T15:16:04.002782Z",
     "iopub.status.idle": "2024-05-28T15:19:16.033300Z",
     "shell.execute_reply": "2024-05-28T15:19:16.031881Z"
    },
    "papermill": {
     "duration": 192.10899,
     "end_time": "2024-05-28T15:19:16.037001",
     "exception": false,
     "start_time": "2024-05-28T15:16:03.928011",
     "status": "completed"
    },
    "tags": []
   },
   "outputs": [],
   "source": [
    "# Tokenize and encode the text data\n",
    "train_encodings = tokenizer(train['text'].tolist(), truncation=True, padding=True, return_tensors=\"pt\")\n",
    "test_encodings = tokenizer(test['text'].tolist(), truncation=True, padding=True, return_tensors=\"pt\")\n",
    "\n",
    "# Extract embeddings\n",
    "with torch.no_grad():\n",
    "    train_embeddings = model(**train_encodings).pooler_output\n",
    "    test_embeddings = model(**test_encodings).pooler_output\n",
    "\n",
    "le = LabelEncoder()\n",
    "\n",
    "# Преобразование меток в числовые значения\n",
    "train_labels = le.fit_transform(train['intent'])\n",
    "test_labels = le.transform(test['intent'])\n",
    "\n",
    "\n",
    "# Преобразование массивов numpy в тензоры PyTorch перед передачей в TextDataset\n",
    "train_dataset = TextDataset(train_embeddings, torch.tensor(train_labels))\n",
    "test_dataset = TextDataset(test_embeddings, torch.tensor(test_labels))\n",
    "\n",
    "train_loader = DataLoader(train_dataset, batch_size=32, shuffle=True)\n",
    "test_loader = DataLoader(test_dataset, batch_size=32)"
   ]
  },
  {
   "cell_type": "code",
   "execution_count": 23,
   "id": "3a86add9",
   "metadata": {
    "execution": {
     "iopub.execute_input": "2024-05-28T15:19:16.178918Z",
     "iopub.status.busy": "2024-05-28T15:19:16.178055Z",
     "iopub.status.idle": "2024-05-28T15:19:16.220709Z",
     "shell.execute_reply": "2024-05-28T15:19:16.219729Z"
    },
    "papermill": {
     "duration": 0.116249,
     "end_time": "2024-05-28T15:19:16.223376",
     "exception": false,
     "start_time": "2024-05-28T15:19:16.107127",
     "status": "completed"
    },
    "tags": []
   },
   "outputs": [],
   "source": [
    "# Создание и обучение модели\n",
    "model = LSTMClassifier(input_dim=train_embeddings.shape[1], hidden_dim=256, output_dim=len(le.classes_))\n",
    "\n",
    "# Перемещение модели на GPU, если он доступен\n",
    "device = torch.device('cuda' if torch.cuda.is_available() else 'cpu')\n",
    "model = model.to(device)\n",
    "\n",
    "criterion = nn.CrossEntropyLoss()\n",
    "optimizer = optim.Adam(model.parameters(), lr=0.001)\n",
    "\n",
    "train_losses = []\n",
    "val_losses = []\n",
    "\n",
    "n_epoches = 25\n"
   ]
  },
  {
   "cell_type": "code",
   "execution_count": 24,
   "id": "d09b58ba",
   "metadata": {
    "execution": {
     "iopub.execute_input": "2024-05-28T15:19:16.362588Z",
     "iopub.status.busy": "2024-05-28T15:19:16.361733Z",
     "iopub.status.idle": "2024-05-28T15:19:46.311212Z",
     "shell.execute_reply": "2024-05-28T15:19:46.309861Z"
    },
    "papermill": {
     "duration": 30.023323,
     "end_time": "2024-05-28T15:19:46.314919",
     "exception": false,
     "start_time": "2024-05-28T15:19:16.291596",
     "status": "completed"
    },
    "tags": []
   },
   "outputs": [
    {
     "name": "stderr",
     "output_type": "stream",
     "text": [
      "100%|██████████| 118/118 [00:01<00:00, 104.88it/s]\n",
      "100%|██████████| 31/31 [00:00<00:00, 565.26it/s]\n"
     ]
    },
    {
     "name": "stdout",
     "output_type": "stream",
     "text": [
      "Epoch 1, Train Loss: 1.149129064785222, Val Loss: 0.7085439187865104\n"
     ]
    },
    {
     "name": "stderr",
     "output_type": "stream",
     "text": [
      "100%|██████████| 118/118 [00:01<00:00, 109.11it/s]\n",
      "100%|██████████| 31/31 [00:00<00:00, 634.86it/s]\n"
     ]
    },
    {
     "name": "stdout",
     "output_type": "stream",
     "text": [
      "Epoch 2, Train Loss: 0.5106484175233518, Val Loss: 0.48424487633089863\n"
     ]
    },
    {
     "name": "stderr",
     "output_type": "stream",
     "text": [
      "100%|██████████| 118/118 [00:01<00:00, 103.37it/s]\n",
      "100%|██████████| 31/31 [00:00<00:00, 628.06it/s]\n"
     ]
    },
    {
     "name": "stdout",
     "output_type": "stream",
     "text": [
      "Epoch 3, Train Loss: 0.3473328043848781, Val Loss: 0.3725719146670834\n"
     ]
    },
    {
     "name": "stderr",
     "output_type": "stream",
     "text": [
      "100%|██████████| 118/118 [00:01<00:00, 106.31it/s]\n",
      "100%|██████████| 31/31 [00:00<00:00, 619.34it/s]\n"
     ]
    },
    {
     "name": "stdout",
     "output_type": "stream",
     "text": [
      "Epoch 4, Train Loss: 0.2624570387178811, Val Loss: 0.31272952763303635\n"
     ]
    },
    {
     "name": "stderr",
     "output_type": "stream",
     "text": [
      "100%|██████████| 118/118 [00:01<00:00, 104.21it/s]\n",
      "100%|██████████| 31/31 [00:00<00:00, 588.08it/s]\n"
     ]
    },
    {
     "name": "stdout",
     "output_type": "stream",
     "text": [
      "Epoch 5, Train Loss: 0.21678668866723272, Val Loss: 0.2863340914970444\n"
     ]
    },
    {
     "name": "stderr",
     "output_type": "stream",
     "text": [
      "100%|██████████| 118/118 [00:01<00:00, 103.92it/s]\n",
      "100%|██████████| 31/31 [00:00<00:00, 579.15it/s]\n"
     ]
    },
    {
     "name": "stdout",
     "output_type": "stream",
     "text": [
      "Epoch 6, Train Loss: 0.1803095615547845, Val Loss: 0.2711117625717194\n"
     ]
    },
    {
     "name": "stderr",
     "output_type": "stream",
     "text": [
      "100%|██████████| 118/118 [00:01<00:00, 106.05it/s]\n",
      "100%|██████████| 31/31 [00:00<00:00, 615.56it/s]\n"
     ]
    },
    {
     "name": "stdout",
     "output_type": "stream",
     "text": [
      "Epoch 7, Train Loss: 0.1570220882846516, Val Loss: 0.24357372894883156\n"
     ]
    },
    {
     "name": "stderr",
     "output_type": "stream",
     "text": [
      "100%|██████████| 118/118 [00:01<00:00, 105.61it/s]\n",
      "100%|██████████| 31/31 [00:00<00:00, 615.03it/s]\n"
     ]
    },
    {
     "name": "stdout",
     "output_type": "stream",
     "text": [
      "Epoch 8, Train Loss: 0.13849232169026035, Val Loss: 0.226812427923564\n"
     ]
    },
    {
     "name": "stderr",
     "output_type": "stream",
     "text": [
      "100%|██████████| 118/118 [00:01<00:00, 105.00it/s]\n",
      "100%|██████████| 31/31 [00:00<00:00, 613.56it/s]\n"
     ]
    },
    {
     "name": "stdout",
     "output_type": "stream",
     "text": [
      "Epoch 9, Train Loss: 0.1228554600028921, Val Loss: 0.2119313549370535\n"
     ]
    },
    {
     "name": "stderr",
     "output_type": "stream",
     "text": [
      "100%|██████████| 118/118 [00:01<00:00, 107.77it/s]\n",
      "100%|██████████| 31/31 [00:00<00:00, 561.16it/s]\n"
     ]
    },
    {
     "name": "stdout",
     "output_type": "stream",
     "text": [
      "Epoch 10, Train Loss: 0.10996110054616959, Val Loss: 0.20599110622800165\n"
     ]
    },
    {
     "name": "stderr",
     "output_type": "stream",
     "text": [
      "100%|██████████| 118/118 [00:01<00:00, 104.37it/s]\n",
      "100%|██████████| 31/31 [00:00<00:00, 373.61it/s]\n"
     ]
    },
    {
     "name": "stdout",
     "output_type": "stream",
     "text": [
      "Epoch 11, Train Loss: 0.10215988188540026, Val Loss: 0.201158981950533\n"
     ]
    },
    {
     "name": "stderr",
     "output_type": "stream",
     "text": [
      "100%|██████████| 118/118 [00:01<00:00, 107.68it/s]\n",
      "100%|██████████| 31/31 [00:00<00:00, 570.45it/s]\n"
     ]
    },
    {
     "name": "stdout",
     "output_type": "stream",
     "text": [
      "Epoch 12, Train Loss: 0.08992296140798825, Val Loss: 0.19302345523911138\n"
     ]
    },
    {
     "name": "stderr",
     "output_type": "stream",
     "text": [
      "100%|██████████| 118/118 [00:01<00:00, 108.83it/s]\n",
      "100%|██████████| 31/31 [00:00<00:00, 617.84it/s]\n"
     ]
    },
    {
     "name": "stdout",
     "output_type": "stream",
     "text": [
      "Epoch 13, Train Loss: 0.08533949963748455, Val Loss: 0.19076609046709153\n"
     ]
    },
    {
     "name": "stderr",
     "output_type": "stream",
     "text": [
      "100%|██████████| 118/118 [00:01<00:00, 107.63it/s]\n",
      "100%|██████████| 31/31 [00:00<00:00, 548.48it/s]\n"
     ]
    },
    {
     "name": "stdout",
     "output_type": "stream",
     "text": [
      "Epoch 14, Train Loss: 0.07790414708019314, Val Loss: 0.17831404585271113\n"
     ]
    },
    {
     "name": "stderr",
     "output_type": "stream",
     "text": [
      "100%|██████████| 118/118 [00:01<00:00, 107.15it/s]\n",
      "100%|██████████| 31/31 [00:00<00:00, 569.42it/s]\n"
     ]
    },
    {
     "name": "stdout",
     "output_type": "stream",
     "text": [
      "Epoch 15, Train Loss: 0.06848400076693398, Val Loss: 0.17472212244906732\n"
     ]
    },
    {
     "name": "stderr",
     "output_type": "stream",
     "text": [
      "100%|██████████| 118/118 [00:01<00:00, 109.26it/s]\n",
      "100%|██████████| 31/31 [00:00<00:00, 635.85it/s]\n"
     ]
    },
    {
     "name": "stdout",
     "output_type": "stream",
     "text": [
      "Epoch 16, Train Loss: 0.06744296112397717, Val Loss: 0.17170328839171317\n"
     ]
    },
    {
     "name": "stderr",
     "output_type": "stream",
     "text": [
      "100%|██████████| 118/118 [00:01<00:00, 91.67it/s]\n",
      "100%|██████████| 31/31 [00:00<00:00, 365.32it/s]\n"
     ]
    },
    {
     "name": "stdout",
     "output_type": "stream",
     "text": [
      "Epoch 17, Train Loss: 0.060069433989603134, Val Loss: 0.17808873110240506\n"
     ]
    },
    {
     "name": "stderr",
     "output_type": "stream",
     "text": [
      "100%|██████████| 118/118 [00:01<00:00, 89.33it/s] \n",
      "100%|██████████| 31/31 [00:00<00:00, 629.78it/s]\n"
     ]
    },
    {
     "name": "stdout",
     "output_type": "stream",
     "text": [
      "Epoch 18, Train Loss: 0.057508060477784506, Val Loss: 0.18023837532006926\n"
     ]
    },
    {
     "name": "stderr",
     "output_type": "stream",
     "text": [
      "100%|██████████| 118/118 [00:01<00:00, 106.36it/s]\n",
      "100%|██████████| 31/31 [00:00<00:00, 617.37it/s]\n"
     ]
    },
    {
     "name": "stdout",
     "output_type": "stream",
     "text": [
      "Epoch 19, Train Loss: 0.053830660962483894, Val Loss: 0.16965978893060837\n"
     ]
    },
    {
     "name": "stderr",
     "output_type": "stream",
     "text": [
      "100%|██████████| 118/118 [00:01<00:00, 103.05it/s]\n",
      "100%|██████████| 31/31 [00:00<00:00, 612.48it/s]\n"
     ]
    },
    {
     "name": "stdout",
     "output_type": "stream",
     "text": [
      "Epoch 20, Train Loss: 0.04725119340138794, Val Loss: 0.17144258146084124\n"
     ]
    },
    {
     "name": "stderr",
     "output_type": "stream",
     "text": [
      "100%|██████████| 118/118 [00:01<00:00, 106.26it/s]\n",
      "100%|██████████| 31/31 [00:00<00:00, 626.96it/s]\n"
     ]
    },
    {
     "name": "stdout",
     "output_type": "stream",
     "text": [
      "Epoch 21, Train Loss: 0.044764318976993275, Val Loss: 0.1708955459236618\n"
     ]
    },
    {
     "name": "stderr",
     "output_type": "stream",
     "text": [
      "100%|██████████| 118/118 [00:01<00:00, 108.62it/s]\n",
      "100%|██████████| 31/31 [00:00<00:00, 580.22it/s]\n"
     ]
    },
    {
     "name": "stdout",
     "output_type": "stream",
     "text": [
      "Epoch 22, Train Loss: 0.04173886634792217, Val Loss: 0.1669036507185909\n"
     ]
    },
    {
     "name": "stderr",
     "output_type": "stream",
     "text": [
      "100%|██████████| 118/118 [00:01<00:00, 107.02it/s]\n",
      "100%|██████████| 31/31 [00:00<00:00, 606.66it/s]\n"
     ]
    },
    {
     "name": "stdout",
     "output_type": "stream",
     "text": [
      "Epoch 23, Train Loss: 0.03765565128128786, Val Loss: 0.17157174292350968\n"
     ]
    },
    {
     "name": "stderr",
     "output_type": "stream",
     "text": [
      "100%|██████████| 118/118 [00:01<00:00, 106.28it/s]\n",
      "100%|██████████| 31/31 [00:00<00:00, 614.92it/s]\n"
     ]
    },
    {
     "name": "stdout",
     "output_type": "stream",
     "text": [
      "Epoch 24, Train Loss: 0.037036700000576045, Val Loss: 0.16645860801180523\n"
     ]
    },
    {
     "name": "stderr",
     "output_type": "stream",
     "text": [
      "100%|██████████| 118/118 [00:01<00:00, 107.56it/s]\n",
      "100%|██████████| 31/31 [00:00<00:00, 629.60it/s]\n"
     ]
    },
    {
     "name": "stdout",
     "output_type": "stream",
     "text": [
      "Epoch 25, Train Loss: 0.032774671891475315, Val Loss: 0.1719649596620471\n"
     ]
    },
    {
     "data": {
      "image/png": "[encoded data removed]",
      "text/plain": [
       "<Figure size 640x480 with 1 Axes>"
      ]
     },
     "metadata": {},
     "output_type": "display_data"
    }
   ],
   "source": [
    "for epoch in range(n_epoches):\n",
    "    train_loss = 0\n",
    "    val_loss = 0\n",
    "    # Обучение\n",
    "    model.train()\n",
    "    for texts, labels in tqdm(train_loader):\n",
    "        # Перемещение данных на тот же устройство, что и модель\n",
    "        texts = texts.float().to(device)\n",
    "        labels = labels.to(device)\n",
    "\n",
    "        outputs = model(texts)\n",
    "        loss = criterion(outputs, labels)\n",
    "\n",
    "        optimizer.zero_grad()\n",
    "        loss.backward()\n",
    "        optimizer.step()\n",
    "\n",
    "        train_loss += loss.item()\n",
    "\n",
    "    # Валидация\n",
    "    model.eval()\n",
    "    with torch.no_grad():\n",
    "        for texts, labels in tqdm(test_loader):\n",
    "            texts = texts.float().to(device)\n",
    "            labels = labels.to(device)\n",
    "\n",
    "            outputs = model(texts)\n",
    "            loss = criterion(outputs, labels)\n",
    "\n",
    "            val_loss += loss.item()\n",
    "\n",
    "    train_loss /= len(train_loader)\n",
    "    val_loss /= len(test_loader)\n",
    "    train_losses.append(train_loss)\n",
    "    val_losses.append(val_loss)\n",
    "    print(f'Epoch {epoch+1}, Train Loss: {train_loss}, Val Loss: {val_loss}')\n",
    "\n",
    "# Построение графика потерь\n",
    "plt.plot(range(1, n_epoches + 1), train_losses, label='Train Loss')\n",
    "plt.plot(range(1, n_epoches + 1), val_losses, label='Val Loss')\n",
    "plt.xlabel('Epoch')\n",
    "plt.ylabel('Loss')\n",
    "plt.legend()\n",
    "plt.show()"
   ]
  },
  {
   "cell_type": "code",
   "execution_count": 25,
   "id": "c7cb1e6c",
   "metadata": {
    "execution": {
     "iopub.execute_input": "2024-05-28T15:19:46.537279Z",
     "iopub.status.busy": "2024-05-28T15:19:46.536833Z",
     "iopub.status.idle": "2024-05-28T15:19:46.621382Z",
     "shell.execute_reply": "2024-05-28T15:19:46.620202Z"
    },
    "papermill": {
     "duration": 0.201075,
     "end_time": "2024-05-28T15:19:46.624612",
     "exception": false,
     "start_time": "2024-05-28T15:19:46.423537",
     "status": "completed"
    },
    "tags": []
   },
   "outputs": [
    {
     "name": "stdout",
     "output_type": "stream",
     "text": [
      "precision_recall_fscore weighted (0.9564598726530132, 0.9581632653061225, 0.9563643071046122, None)\n",
      "balanced_accuracy 0.7593145702101988\n"
     ]
    },
    {
     "name": "stderr",
     "output_type": "stream",
     "text": [
      "/opt/conda/lib/python3.10/site-packages/sklearn/metrics/_classification.py:1344: UndefinedMetricWarning: Precision and F-score are ill-defined and being set to 0.0 in labels with no predicted samples. Use `zero_division` parameter to control this behavior.\n",
      "  _warn_prf(average, modifier, msg_start, len(result))\n"
     ]
    }
   ],
   "source": [
    "# Прогнозирование на тестовом наборе\n",
    "predictions = []\n",
    "with torch.no_grad():\n",
    "    for i, (input_ids, labels) in enumerate(test_loader):\n",
    "        input_ids = input_ids.float().to(device)\n",
    "\n",
    "        outputs = model(input_ids)\n",
    "        _, predicted = torch.max(outputs.data, 1)\n",
    "        predictions.extend(predicted.cpu().numpy())\n",
    "\n",
    "# Перевод меток обратно в исходные интенты\n",
    "predicted_intents = le.inverse_transform(predictions)\n",
    "\n",
    "print(\"precision_recall_fscore weighted\", precision_recall_fscore_support(test['intent'], predicted_intents, average='weighted'))\n",
    "print(\"balanced_accuracy\", balanced_accuracy_score(test['intent'], predicted_intents))"
   ]
  }
 ],
 "metadata": {
  "kaggle": {
   "accelerator": "none",
   "dataSources": [
    {
     "datasetId": 284285,
     "sourceId": 585165,
     "sourceType": "datasetVersion"
    }
   ],
   "dockerImageVersionId": 30698,
   "isGpuEnabled": false,
   "isInternetEnabled": true,
   "language": "python",
   "sourceType": "notebook"
  },
  "kernelspec": {
   "display_name": "Python 3",
   "language": "python",
   "name": "python3"
  },
  "language_info": {
   "codemirror_mode": {
    "name": "ipython",
    "version": 3
   },
   "file_extension": ".py",
   "mimetype": "text/x-python",
   "name": "python",
   "nbconvert_exporter": "python",
   "pygments_lexer": "ipython3",
   "version": "3.10.13"
  },
  "papermill": {
   "default_parameters": {},
   "duration": 307.012964,
   "end_time": "2024-05-28T15:19:49.458440",
   "environment_variables": {},
   "exception": null,
   "input_path": "__notebook__.ipynb",
   "output_path": "__notebook__.ipynb",
   "parameters": {},
   "start_time": "2024-05-28T15:14:42.445476",
   "version": "2.5.0"
  },
  "widgets": {
   "application/vnd.jupyter.widget-state+json": {
    "state": {
     "047e3f8b61c9459da568a80d13224643": {
      "model_module": "@jupyter-widgets/base",
      "model_module_version": "1.2.0",
      "model_name": "LayoutModel",
      "state": {
       "_model_module": "@jupyter-widgets/base",
       "_model_module_version": "1.2.0",
       "_model_name": "LayoutModel",
       "_view_count": null,
       "_view_module": "@jupyter-widgets/base",
       "_view_module_version": "1.2.0",
       "_view_name": "LayoutView",
       "align_content": null,
       "align_items": null,
       "align_self": null,
       "border": null,
       "bottom": null,
       "display": null,
       "flex": null,
       "flex_flow": null,
       "grid_area": null,
       "grid_auto_columns": null,
       "grid_auto_flow": null,
       "grid_auto_rows": null,
       "grid_column": null,
       "grid_gap": null,
       "grid_row": null,
       "grid_template_areas": null,
       "grid_template_columns": null,
       "grid_template_rows": null,
       "height": null,
       "justify_content": null,
       "justify_items": null,
       "left": null,
       "margin": null,
       "max_height": null,
       "max_width": null,
       "min_height": null,
       "min_width": null,
       "object_fit": null,
       "object_position": null,
       "order": null,
       "overflow": null,
       "overflow_x": null,
       "overflow_y": null,
       "padding": null,
       "right": null,
       "top": null,
       "visibility": null,
       "width": null
      }
     },
     "06bbef4180344921be7c27bc3e04b1c9": {
      "model_module": "@jupyter-widgets/controls",
      "model_module_version": "1.5.0",
      "model_name": "ProgressStyleModel",
      "state": {
       "_model_module": "@jupyter-widgets/controls",
       "_model_module_version": "1.5.0",
       "_model_name": "ProgressStyleModel",
       "_view_count": null,
       "_view_module": "@jupyter-widgets/base",
       "_view_module_version": "1.2.0",
       "_view_name": "StyleView",
       "bar_color": null,
       "description_width": ""
      }
     },
     "09b721197260492d8b9264fc44f368c5": {
      "model_module": "@jupyter-widgets/base",
      "model_module_version": "1.2.0",
      "model_name": "LayoutModel",
      "state": {
       "_model_module": "@jupyter-widgets/base",
       "_model_module_version": "1.2.0",
       "_model_name": "LayoutModel",
       "_view_count": null,
       "_view_module": "@jupyter-widgets/base",
       "_view_module_version": "1.2.0",
       "_view_name": "LayoutView",
       "align_content": null,
       "align_items": null,
       "align_self": null,
       "border": null,
       "bottom": null,
       "display": null,
       "flex": null,
       "flex_flow": null,
       "grid_area": null,
       "grid_auto_columns": null,
       "grid_auto_flow": null,
       "grid_auto_rows": null,
       "grid_column": null,
       "grid_gap": null,
       "grid_row": null,
       "grid_template_areas": null,
       "grid_template_columns": null,
       "grid_template_rows": null,
       "height": null,
       "justify_content": null,
       "justify_items": null,
       "left": null,
       "margin": null,
       "max_height": null,
       "max_width": null,
       "min_height": null,
       "min_width": null,
       "object_fit": null,
       "object_position": null,
       "order": null,
       "overflow": null,
       "overflow_x": null,
       "overflow_y": null,
       "padding": null,
       "right": null,
       "top": null,
       "visibility": null,
       "width": null
      }
     },
     "1241fee92d8642be8f8478c21e73b8d3": {
      "model_module": "@jupyter-widgets/base",
      "model_module_version": "1.2.0",
      "model_name": "LayoutModel",
      "state": {
       "_model_module": "@jupyter-widgets/base",
       "_model_module_version": "1.2.0",
       "_model_name": "LayoutModel",
       "_view_count": null,
       "_view_module": "@jupyter-widgets/base",
       "_view_module_version": "1.2.0",
       "_view_name": "LayoutView",
       "align_content": null,
       "align_items": null,
       "align_self": null,
       "border": null,
       "bottom": null,
       "display": null,
       "flex": null,
       "flex_flow": null,
       "grid_area": null,
       "grid_auto_columns": null,
       "grid_auto_flow": null,
       "grid_auto_rows": null,
       "grid_column": null,
       "grid_gap": null,
       "grid_row": null,
       "grid_template_areas": null,
       "grid_template_columns": null,
       "grid_template_rows": null,
       "height": null,
       "justify_content": null,
       "justify_items": null,
       "left": null,
       "margin": null,
       "max_height": null,
       "max_width": null,
       "min_height": null,
       "min_width": null,
       "object_fit": null,
       "object_position": null,
       "order": null,
       "overflow": null,
       "overflow_x": null,
       "overflow_y": null,
       "padding": null,
       "right": null,
       "top": null,
       "visibility": null,
       "width": null
      }
     },
     "193bbb1a2a8b4349afd7c7f89b245433": {
      "model_module": "@jupyter-widgets/controls",
      "model_module_version": "1.5.0",
      "model_name": "DescriptionStyleModel",
      "state": {
       "_model_module": "@jupyter-widgets/controls",
       "_model_module_version": "1.5.0",
       "_model_name": "DescriptionStyleModel",
       "_view_count": null,
       "_view_module": "@jupyter-widgets/base",
       "_view_module_version": "1.2.0",
       "_view_name": "StyleView",
       "description_width": ""
      }
     },
     "1d3be95dc0204d1790471cf95cf7dd30": {
      "model_module": "@jupyter-widgets/controls",
      "model_module_version": "1.5.0",
      "model_name": "DescriptionStyleModel",
      "state": {
       "_model_module": "@jupyter-widgets/controls",
       "_model_module_version": "1.5.0",
       "_model_name": "DescriptionStyleModel",
       "_view_count": null,
       "_view_module": "@jupyter-widgets/base",
       "_view_module_version": "1.2.0",
       "_view_name": "StyleView",
       "description_width": ""
      }
     },
     "1f07ec33ba594f1796ce5340f580b8d1": {
      "model_module": "@jupyter-widgets/controls",
      "model_module_version": "1.5.0",
      "model_name": "HBoxModel",
      "state": {
       "_dom_classes": [],
       "_model_module": "@jupyter-widgets/controls",
       "_model_module_version": "1.5.0",
       "_model_name": "HBoxModel",
       "_view_count": null,
       "_view_module": "@jupyter-widgets/controls",
       "_view_module_version": "1.5.0",
       "_view_name": "HBoxView",
       "box_style": "",
       "children": [
        "IPY_MODEL_8a4d49e51dd3426f8548a3f3d1cd4089",
        "IPY_MODEL_d118f48eb5754d6fb3b87f37169dacb5",
        "IPY_MODEL_ffcecd160a47453184803f7e5a683c5a"
       ],
       "layout": "IPY_MODEL_7599af9bf95c478fb84e5c2d132472bb"
      }
     },
     "2ff356cdcc9f4dd4bf20f2c2e222e889": {
      "model_module": "@jupyter-widgets/base",
      "model_module_version": "1.2.0",
      "model_name": "LayoutModel",
      "state": {
       "_model_module": "@jupyter-widgets/base",
       "_model_module_version": "1.2.0",
       "_model_name": "LayoutModel",
       "_view_count": null,
       "_view_module": "@jupyter-widgets/base",
       "_view_module_version": "1.2.0",
       "_view_name": "LayoutView",
       "align_content": null,
       "align_items": null,
       "align_self": null,
       "border": null,
       "bottom": null,
       "display": null,
       "flex": null,
       "flex_flow": null,
       "grid_area": null,
       "grid_auto_columns": null,
       "grid_auto_flow": null,
       "grid_auto_rows": null,
       "grid_column": null,
       "grid_gap": null,
       "grid_row": null,
       "grid_template_areas": null,
       "grid_template_columns": null,
       "grid_template_rows": null,
       "height": null,
       "justify_content": null,
       "justify_items": null,
       "left": null,
       "margin": null,
       "max_height": null,
       "max_width": null,
       "min_height": null,
       "min_width": null,
       "object_fit": null,
       "object_position": null,
       "order": null,
       "overflow": null,
       "overflow_x": null,
       "overflow_y": null,
       "padding": null,
       "right": null,
       "top": null,
       "visibility": null,
       "width": null
      }
     },
     "306f2f2173224b05979c8e599518ebb9": {
      "model_module": "@jupyter-widgets/controls",
      "model_module_version": "1.5.0",
      "model_name": "DescriptionStyleModel",
      "state": {
       "_model_module": "@jupyter-widgets/controls",
       "_model_module_version": "1.5.0",
       "_model_name": "DescriptionStyleModel",
       "_view_count": null,
       "_view_module": "@jupyter-widgets/base",
       "_view_module_version": "1.2.0",
       "_view_name": "StyleView",
       "description_width": ""
      }
     },
     "3d1ec0c5f00d41e5bf8cdafe6003e060": {
      "model_module": "@jupyter-widgets/controls",
      "model_module_version": "1.5.0",
      "model_name": "DescriptionStyleModel",
      "state": {
       "_model_module": "@jupyter-widgets/controls",
       "_model_module_version": "1.5.0",
       "_model_name": "DescriptionStyleModel",
       "_view_count": null,
       "_view_module": "@jupyter-widgets/base",
       "_view_module_version": "1.2.0",
       "_view_name": "StyleView",
       "description_width": ""
      }
     },
     "48ecd0c295d44360a057c2b21bd4eef6": {
      "model_module": "@jupyter-widgets/base",
      "model_module_version": "1.2.0",
      "model_name": "LayoutModel",
      "state": {
       "_model_module": "@jupyter-widgets/base",
       "_model_module_version": "1.2.0",
       "_model_name": "LayoutModel",
       "_view_count": null,
       "_view_module": "@jupyter-widgets/base",
       "_view_module_version": "1.2.0",
       "_view_name": "LayoutView",
       "align_content": null,
       "align_items": null,
       "align_self": null,
       "border": null,
       "bottom": null,
       "display": null,
       "flex": null,
       "flex_flow": null,
       "grid_area": null,
       "grid_auto_columns": null,
       "grid_auto_flow": null,
       "grid_auto_rows": null,
       "grid_column": null,
       "grid_gap": null,
       "grid_row": null,
       "grid_template_areas": null,
       "grid_template_columns": null,
       "grid_template_rows": null,
       "height": null,
       "justify_content": null,
       "justify_items": null,
       "left": null,
       "margin": null,
       "max_height": null,
       "max_width": null,
       "min_height": null,
       "min_width": null,
       "object_fit": null,
       "object_position": null,
       "order": null,
       "overflow": null,
       "overflow_x": null,
       "overflow_y": null,
       "padding": null,
       "right": null,
       "top": null,
       "visibility": null,
       "width": null
      }
     },
     "4a18f4a535194bfd8c6040bd21757058": {
      "model_module": "@jupyter-widgets/controls",
      "model_module_version": "1.5.0",
      "model_name": "HTMLModel",
      "state": {
       "_dom_classes": [],
       "_model_module": "@jupyter-widgets/controls",
       "_model_module_version": "1.5.0",
       "_model_name": "HTMLModel",
       "_view_count": null,
       "_view_module": "@jupyter-widgets/controls",
       "_view_module_version": "1.5.0",
       "_view_name": "HTMLView",
       "description": "",
       "description_tooltip": null,
       "layout": "IPY_MODEL_09b721197260492d8b9264fc44f368c5",
       "placeholder": "​",
       "style": "IPY_MODEL_feaa00b0bfd64bb4ab6469da1479f62d",
       "value": " 480/480 [00:00&lt;00:00, 32.8kB/s]"
      }
     },
     "4d3e647dbc8d4e26a58016736161006c": {
      "model_module": "@jupyter-widgets/base",
      "model_module_version": "1.2.0",
      "model_name": "LayoutModel",
      "state": {
       "_model_module": "@jupyter-widgets/base",
       "_model_module_version": "1.2.0",
       "_model_name": "LayoutModel",
       "_view_count": null,
       "_view_module": "@jupyter-widgets/base",
       "_view_module_version": "1.2.0",
       "_view_name": "LayoutView",
       "align_content": null,
       "align_items": null,
       "align_self": null,
       "border": null,
       "bottom": null,
       "display": null,
       "flex": null,
       "flex_flow": null,
       "grid_area": null,
       "grid_auto_columns": null,
       "grid_auto_flow": null,
       "grid_auto_rows": null,
       "grid_column": null,
       "grid_gap": null,
       "grid_row": null,
       "grid_template_areas": null,
       "grid_template_columns": null,
       "grid_template_rows": null,
       "height": null,
       "justify_content": null,
       "justify_items": null,
       "left": null,
       "margin": null,
       "max_height": null,
       "max_width": null,
       "min_height": null,
       "min_width": null,
       "object_fit": null,
       "object_position": null,
       "order": null,
       "overflow": null,
       "overflow_x": null,
       "overflow_y": null,
       "padding": null,
       "right": null,
       "top": null,
       "visibility": null,
       "width": null
      }
     },
     "5293e39f74a442c08af58972d808c279": {
      "model_module": "@jupyter-widgets/controls",
      "model_module_version": "1.5.0",
      "model_name": "FloatProgressModel",
      "state": {
       "_dom_classes": [],
       "_model_module": "@jupyter-widgets/controls",
       "_model_module_version": "1.5.0",
       "_model_name": "FloatProgressModel",
       "_view_count": null,
       "_view_module": "@jupyter-widgets/controls",
       "_view_module_version": "1.5.0",
       "_view_name": "ProgressView",
       "bar_style": "success",
       "description": "",
       "description_tooltip": null,
       "layout": "IPY_MODEL_2ff356cdcc9f4dd4bf20f2c2e222e889",
       "max": 9081518.0,
       "min": 0.0,
       "orientation": "horizontal",
       "style": "IPY_MODEL_9a64e342616b45dfabad89fc392f63e7",
       "value": 9081518.0
      }
     },
     "54e4f59c029a4e58a067559f08605d5b": {
      "model_module": "@jupyter-widgets/base",
      "model_module_version": "1.2.0",
      "model_name": "LayoutModel",
      "state": {
       "_model_module": "@jupyter-widgets/base",
       "_model_module_version": "1.2.0",
       "_model_name": "LayoutModel",
       "_view_count": null,
       "_view_module": "@jupyter-widgets/base",
       "_view_module_version": "1.2.0",
       "_view_name": "LayoutView",
       "align_content": null,
       "align_items": null,
       "align_self": null,
       "border": null,
       "bottom": null,
       "display": null,
       "flex": null,
       "flex_flow": null,
       "grid_area": null,
       "grid_auto_columns": null,
       "grid_auto_flow": null,
       "grid_auto_rows": null,
       "grid_column": null,
       "grid_gap": null,
       "grid_row": null,
       "grid_template_areas": null,
       "grid_template_columns": null,
       "grid_template_rows": null,
       "height": null,
       "justify_content": null,
       "justify_items": null,
       "left": null,
       "margin": null,
       "max_height": null,
       "max_width": null,
       "min_height": null,
       "min_width": null,
       "object_fit": null,
       "object_position": null,
       "order": null,
       "overflow": null,
       "overflow_x": null,
       "overflow_y": null,
       "padding": null,
       "right": null,
       "top": null,
       "visibility": null,
       "width": null
      }
     },
     "61ea7a3dfd9f4432b19c09d6c4c00669": {
      "model_module": "@jupyter-widgets/base",
      "model_module_version": "1.2.0",
      "model_name": "LayoutModel",
      "state": {
       "_model_module": "@jupyter-widgets/base",
       "_model_module_version": "1.2.0",
       "_model_name": "LayoutModel",
       "_view_count": null,
       "_view_module": "@jupyter-widgets/base",
       "_view_module_version": "1.2.0",
       "_view_name": "LayoutView",
       "align_content": null,
       "align_items": null,
       "align_self": null,
       "border": null,
       "bottom": null,
       "display": null,
       "flex": null,
       "flex_flow": null,
       "grid_area": null,
       "grid_auto_columns": null,
       "grid_auto_flow": null,
       "grid_auto_rows": null,
       "grid_column": null,
       "grid_gap": null,
       "grid_row": null,
       "grid_template_areas": null,
       "grid_template_columns": null,
       "grid_template_rows": null,
       "height": null,
       "justify_content": null,
       "justify_items": null,
       "left": null,
       "margin": null,
       "max_height": null,
       "max_width": null,
       "min_height": null,
       "min_width": null,
       "object_fit": null,
       "object_position": null,
       "order": null,
       "overflow": null,
       "overflow_x": null,
       "overflow_y": null,
       "padding": null,
       "right": null,
       "top": null,
       "visibility": null,
       "width": null
      }
     },
     "64e8cae319ca4ecf8729cac616d4b16a": {
      "model_module": "@jupyter-widgets/controls",
      "model_module_version": "1.5.0",
      "model_name": "DescriptionStyleModel",
      "state": {
       "_model_module": "@jupyter-widgets/controls",
       "_model_module_version": "1.5.0",
       "_model_name": "DescriptionStyleModel",
       "_view_count": null,
       "_view_module": "@jupyter-widgets/base",
       "_view_module_version": "1.2.0",
       "_view_name": "StyleView",
       "description_width": ""
      }
     },
     "6599b9347c16413a8731586255367bc6": {
      "model_module": "@jupyter-widgets/controls",
      "model_module_version": "1.5.0",
      "model_name": "HBoxModel",
      "state": {
       "_dom_classes": [],
       "_model_module": "@jupyter-widgets/controls",
       "_model_module_version": "1.5.0",
       "_model_name": "HBoxModel",
       "_view_count": null,
       "_view_module": "@jupyter-widgets/controls",
       "_view_module_version": "1.5.0",
       "_view_name": "HBoxView",
       "box_style": "",
       "children": [
        "IPY_MODEL_ac996aa4baec496fa5672bb4a237a7ef",
        "IPY_MODEL_c04cc52f8437476baa04e0da3747e045",
        "IPY_MODEL_8ac03a6b527a4c778b2c9494e8dcf1e3"
       ],
       "layout": "IPY_MODEL_a2abbcd3b8534cdc90fa12436f6d56d3"
      }
     },
     "703c598a562c4b8d8676c5c5b9fd4c59": {
      "model_module": "@jupyter-widgets/controls",
      "model_module_version": "1.5.0",
      "model_name": "HTMLModel",
      "state": {
       "_dom_classes": [],
       "_model_module": "@jupyter-widgets/controls",
       "_model_module_version": "1.5.0",
       "_model_name": "HTMLModel",
       "_view_count": null,
       "_view_module": "@jupyter-widgets/controls",
       "_view_module_version": "1.5.0",
       "_view_name": "HTMLView",
       "description": "",
       "description_tooltip": null,
       "layout": "IPY_MODEL_61ea7a3dfd9f4432b19c09d6c4c00669",
       "placeholder": "​",
       "style": "IPY_MODEL_fd9ccb6eb0564056a6015b11582e95cd",
       "value": " 645/645 [00:00&lt;00:00, 41.3kB/s]"
      }
     },
     "70c0da75ff4745dc84de506988a4665a": {
      "model_module": "@jupyter-widgets/base",
      "model_module_version": "1.2.0",
      "model_name": "LayoutModel",
      "state": {
       "_model_module": "@jupyter-widgets/base",
       "_model_module_version": "1.2.0",
       "_model_name": "LayoutModel",
       "_view_count": null,
       "_view_module": "@jupyter-widgets/base",
       "_view_module_version": "1.2.0",
       "_view_name": "LayoutView",
       "align_content": null,
       "align_items": null,
       "align_self": null,
       "border": null,
       "bottom": null,
       "display": null,
       "flex": null,
       "flex_flow": null,
       "grid_area": null,
       "grid_auto_columns": null,
       "grid_auto_flow": null,
       "grid_auto_rows": null,
       "grid_column": null,
       "grid_gap": null,
       "grid_row": null,
       "grid_template_areas": null,
       "grid_template_columns": null,
       "grid_template_rows": null,
       "height": null,
       "justify_content": null,
       "justify_items": null,
       "left": null,
       "margin": null,
       "max_height": null,
       "max_width": null,
       "min_height": null,
       "min_width": null,
       "object_fit": null,
       "object_position": null,
       "order": null,
       "overflow": null,
       "overflow_x": null,
       "overflow_y": null,
       "padding": null,
       "right": null,
       "top": null,
       "visibility": null,
       "width": null
      }
     },
     "7599af9bf95c478fb84e5c2d132472bb": {
      "model_module": "@jupyter-widgets/base",
      "model_module_version": "1.2.0",
      "model_name": "LayoutModel",
      "state": {
       "_model_module": "@jupyter-widgets/base",
       "_model_module_version": "1.2.0",
       "_model_name": "LayoutModel",
       "_view_count": null,
       "_view_module": "@jupyter-widgets/base",
       "_view_module_version": "1.2.0",
       "_view_name": "LayoutView",
       "align_content": null,
       "align_items": null,
       "align_self": null,
       "border": null,
       "bottom": null,
       "display": null,
       "flex": null,
       "flex_flow": null,
       "grid_area": null,
       "grid_auto_columns": null,
       "grid_auto_flow": null,
       "grid_auto_rows": null,
       "grid_column": null,
       "grid_gap": null,
       "grid_row": null,
       "grid_template_areas": null,
       "grid_template_columns": null,
       "grid_template_rows": null,
       "height": null,
       "justify_content": null,
       "justify_items": null,
       "left": null,
       "margin": null,
       "max_height": null,
       "max_width": null,
       "min_height": null,
       "min_width": null,
       "object_fit": null,
       "object_position": null,
       "order": null,
       "overflow": null,
       "overflow_x": null,
       "overflow_y": null,
       "padding": null,
       "right": null,
       "top": null,
       "visibility": null,
       "width": null
      }
     },
     "7adb2f688cb04cea9191d663aa5ae21b": {
      "model_module": "@jupyter-widgets/controls",
      "model_module_version": "1.5.0",
      "model_name": "ProgressStyleModel",
      "state": {
       "_model_module": "@jupyter-widgets/controls",
       "_model_module_version": "1.5.0",
       "_model_name": "ProgressStyleModel",
       "_view_count": null,
       "_view_module": "@jupyter-widgets/base",
       "_view_module_version": "1.2.0",
       "_view_name": "StyleView",
       "bar_color": null,
       "description_width": ""
      }
     },
     "7be5f6401edd4d42a0f15c9e5227db9e": {
      "model_module": "@jupyter-widgets/controls",
      "model_module_version": "1.5.0",
      "model_name": "ProgressStyleModel",
      "state": {
       "_model_module": "@jupyter-widgets/controls",
       "_model_module_version": "1.5.0",
       "_model_name": "ProgressStyleModel",
       "_view_count": null,
       "_view_module": "@jupyter-widgets/base",
       "_view_module_version": "1.2.0",
       "_view_name": "StyleView",
       "bar_color": null,
       "description_width": ""
      }
     },
     "7eb299387a1b46838b5213df86a815a3": {
      "model_module": "@jupyter-widgets/controls",
      "model_module_version": "1.5.0",
      "model_name": "HBoxModel",
      "state": {
       "_dom_classes": [],
       "_model_module": "@jupyter-widgets/controls",
       "_model_module_version": "1.5.0",
       "_model_name": "HBoxModel",
       "_view_count": null,
       "_view_module": "@jupyter-widgets/controls",
       "_view_module_version": "1.5.0",
       "_view_name": "HBoxView",
       "box_style": "",
       "children": [
        "IPY_MODEL_ec4a46fb70cc48dea412de39f5ddadd6",
        "IPY_MODEL_888580fb508747729e56422d3acb352b",
        "IPY_MODEL_703c598a562c4b8d8676c5c5b9fd4c59"
       ],
       "layout": "IPY_MODEL_4d3e647dbc8d4e26a58016736161006c"
      }
     },
     "81f89f5ccf144c77be5a54af643ef798": {
      "model_module": "@jupyter-widgets/base",
      "model_module_version": "1.2.0",
      "model_name": "LayoutModel",
      "state": {
       "_model_module": "@jupyter-widgets/base",
       "_model_module_version": "1.2.0",
       "_model_name": "LayoutModel",
       "_view_count": null,
       "_view_module": "@jupyter-widgets/base",
       "_view_module_version": "1.2.0",
       "_view_name": "LayoutView",
       "align_content": null,
       "align_items": null,
       "align_self": null,
       "border": null,
       "bottom": null,
       "display": null,
       "flex": null,
       "flex_flow": null,
       "grid_area": null,
       "grid_auto_columns": null,
       "grid_auto_flow": null,
       "grid_auto_rows": null,
       "grid_column": null,
       "grid_gap": null,
       "grid_row": null,
       "grid_template_areas": null,
       "grid_template_columns": null,
       "grid_template_rows": null,
       "height": null,
       "justify_content": null,
       "justify_items": null,
       "left": null,
       "margin": null,
       "max_height": null,
       "max_width": null,
       "min_height": null,
       "min_width": null,
       "object_fit": null,
       "object_position": null,
       "order": null,
       "overflow": null,
       "overflow_x": null,
       "overflow_y": null,
       "padding": null,
       "right": null,
       "top": null,
       "visibility": null,
       "width": null
      }
     },
     "888580fb508747729e56422d3acb352b": {
      "model_module": "@jupyter-widgets/controls",
      "model_module_version": "1.5.0",
      "model_name": "FloatProgressModel",
      "state": {
       "_dom_classes": [],
       "_model_module": "@jupyter-widgets/controls",
       "_model_module_version": "1.5.0",
       "_model_name": "FloatProgressModel",
       "_view_count": null,
       "_view_module": "@jupyter-widgets/controls",
       "_view_module_version": "1.5.0",
       "_view_name": "ProgressView",
       "bar_style": "success",
       "description": "",
       "description_tooltip": null,
       "layout": "IPY_MODEL_9f770c7e11564237842d63039d54f7cc",
       "max": 645.0,
       "min": 0.0,
       "orientation": "horizontal",
       "style": "IPY_MODEL_06bbef4180344921be7c27bc3e04b1c9",
       "value": 645.0
      }
     },
     "8a4d49e51dd3426f8548a3f3d1cd4089": {
      "model_module": "@jupyter-widgets/controls",
      "model_module_version": "1.5.0",
      "model_name": "HTMLModel",
      "state": {
       "_dom_classes": [],
       "_model_module": "@jupyter-widgets/controls",
       "_model_module_version": "1.5.0",
       "_model_name": "HTMLModel",
       "_view_count": null,
       "_view_module": "@jupyter-widgets/controls",
       "_view_module_version": "1.5.0",
       "_view_name": "HTMLView",
       "description": "",
       "description_tooltip": null,
       "layout": "IPY_MODEL_1241fee92d8642be8f8478c21e73b8d3",
       "placeholder": "​",
       "style": "IPY_MODEL_3d1ec0c5f00d41e5bf8cdafe6003e060",
       "value": "special_tokens_map.json: 100%"
      }
     },
     "8ac03a6b527a4c778b2c9494e8dcf1e3": {
      "model_module": "@jupyter-widgets/controls",
      "model_module_version": "1.5.0",
      "model_name": "HTMLModel",
      "state": {
       "_dom_classes": [],
       "_model_module": "@jupyter-widgets/controls",
       "_model_module_version": "1.5.0",
       "_model_name": "HTMLModel",
       "_view_count": null,
       "_view_module": "@jupyter-widgets/controls",
       "_view_module_version": "1.5.0",
       "_view_name": "HTMLView",
       "description": "",
       "description_tooltip": null,
       "layout": "IPY_MODEL_cd8cbb1ea6034d578fac22af84caf9c5",
       "placeholder": "​",
       "style": "IPY_MODEL_bf32296dc7fe4783a15bb571f0da86e5",
       "value": " 471M/471M [00:01&lt;00:00, 267MB/s]"
      }
     },
     "96d668e0893345b7a3885d5212ac0c9d": {
      "model_module": "@jupyter-widgets/base",
      "model_module_version": "1.2.0",
      "model_name": "LayoutModel",
      "state": {
       "_model_module": "@jupyter-widgets/base",
       "_model_module_version": "1.2.0",
       "_model_name": "LayoutModel",
       "_view_count": null,
       "_view_module": "@jupyter-widgets/base",
       "_view_module_version": "1.2.0",
       "_view_name": "LayoutView",
       "align_content": null,
       "align_items": null,
       "align_self": null,
       "border": null,
       "bottom": null,
       "display": null,
       "flex": null,
       "flex_flow": null,
       "grid_area": null,
       "grid_auto_columns": null,
       "grid_auto_flow": null,
       "grid_auto_rows": null,
       "grid_column": null,
       "grid_gap": null,
       "grid_row": null,
       "grid_template_areas": null,
       "grid_template_columns": null,
       "grid_template_rows": null,
       "height": null,
       "justify_content": null,
       "justify_items": null,
       "left": null,
       "margin": null,
       "max_height": null,
       "max_width": null,
       "min_height": null,
       "min_width": null,
       "object_fit": null,
       "object_position": null,
       "order": null,
       "overflow": null,
       "overflow_x": null,
       "overflow_y": null,
       "padding": null,
       "right": null,
       "top": null,
       "visibility": null,
       "width": null
      }
     },
     "9a64e342616b45dfabad89fc392f63e7": {
      "model_module": "@jupyter-widgets/controls",
      "model_module_version": "1.5.0",
      "model_name": "ProgressStyleModel",
      "state": {
       "_model_module": "@jupyter-widgets/controls",
       "_model_module_version": "1.5.0",
       "_model_name": "ProgressStyleModel",
       "_view_count": null,
       "_view_module": "@jupyter-widgets/base",
       "_view_module_version": "1.2.0",
       "_view_name": "StyleView",
       "bar_color": null,
       "description_width": ""
      }
     },
     "9f770c7e11564237842d63039d54f7cc": {
      "model_module": "@jupyter-widgets/base",
      "model_module_version": "1.2.0",
      "model_name": "LayoutModel",
      "state": {
       "_model_module": "@jupyter-widgets/base",
       "_model_module_version": "1.2.0",
       "_model_name": "LayoutModel",
       "_view_count": null,
       "_view_module": "@jupyter-widgets/base",
       "_view_module_version": "1.2.0",
       "_view_name": "LayoutView",
       "align_content": null,
       "align_items": null,
       "align_self": null,
       "border": null,
       "bottom": null,
       "display": null,
       "flex": null,
       "flex_flow": null,
       "grid_area": null,
       "grid_auto_columns": null,
       "grid_auto_flow": null,
       "grid_auto_rows": null,
       "grid_column": null,
       "grid_gap": null,
       "grid_row": null,
       "grid_template_areas": null,
       "grid_template_columns": null,
       "grid_template_rows": null,
       "height": null,
       "justify_content": null,
       "justify_items": null,
       "left": null,
       "margin": null,
       "max_height": null,
       "max_width": null,
       "min_height": null,
       "min_width": null,
       "object_fit": null,
       "object_position": null,
       "order": null,
       "overflow": null,
       "overflow_x": null,
       "overflow_y": null,
       "padding": null,
       "right": null,
       "top": null,
       "visibility": null,
       "width": null
      }
     },
     "a0f830ad279845a6b09bcfe743117eb0": {
      "model_module": "@jupyter-widgets/controls",
      "model_module_version": "1.5.0",
      "model_name": "HTMLModel",
      "state": {
       "_dom_classes": [],
       "_model_module": "@jupyter-widgets/controls",
       "_model_module_version": "1.5.0",
       "_model_name": "HTMLModel",
       "_view_count": null,
       "_view_module": "@jupyter-widgets/controls",
       "_view_module_version": "1.5.0",
       "_view_name": "HTMLView",
       "description": "",
       "description_tooltip": null,
       "layout": "IPY_MODEL_e4f02d9cf640495fa42d2cd2882395bc",
       "placeholder": "​",
       "style": "IPY_MODEL_1d3be95dc0204d1790471cf95cf7dd30",
       "value": " 9.08M/9.08M [00:00&lt;00:00, 42.9MB/s]"
      }
     },
     "a2abbcd3b8534cdc90fa12436f6d56d3": {
      "model_module": "@jupyter-widgets/base",
      "model_module_version": "1.2.0",
      "model_name": "LayoutModel",
      "state": {
       "_model_module": "@jupyter-widgets/base",
       "_model_module_version": "1.2.0",
       "_model_name": "LayoutModel",
       "_view_count": null,
       "_view_module": "@jupyter-widgets/base",
       "_view_module_version": "1.2.0",
       "_view_name": "LayoutView",
       "align_content": null,
       "align_items": null,
       "align_self": null,
       "border": null,
       "bottom": null,
       "display": null,
       "flex": null,
       "flex_flow": null,
       "grid_area": null,
       "grid_auto_columns": null,
       "grid_auto_flow": null,
       "grid_auto_rows": null,
       "grid_column": null,
       "grid_gap": null,
       "grid_row": null,
       "grid_template_areas": null,
       "grid_template_columns": null,
       "grid_template_rows": null,
       "height": null,
       "justify_content": null,
       "justify_items": null,
       "left": null,
       "margin": null,
       "max_height": null,
       "max_width": null,
       "min_height": null,
       "min_width": null,
       "object_fit": null,
       "object_position": null,
       "order": null,
       "overflow": null,
       "overflow_x": null,
       "overflow_y": null,
       "padding": null,
       "right": null,
       "top": null,
       "visibility": null,
       "width": null
      }
     },
     "a3614abde4424e679a46bec00a72da41": {
      "model_module": "@jupyter-widgets/controls",
      "model_module_version": "1.5.0",
      "model_name": "FloatProgressModel",
      "state": {
       "_dom_classes": [],
       "_model_module": "@jupyter-widgets/controls",
       "_model_module_version": "1.5.0",
       "_model_name": "FloatProgressModel",
       "_view_count": null,
       "_view_module": "@jupyter-widgets/controls",
       "_view_module_version": "1.5.0",
       "_view_name": "ProgressView",
       "bar_style": "success",
       "description": "",
       "description_tooltip": null,
       "layout": "IPY_MODEL_d9630d569f47432fb6ba819ceb0bd5a8",
       "max": 480.0,
       "min": 0.0,
       "orientation": "horizontal",
       "style": "IPY_MODEL_bdcc52b4db4e4e24b267167a5bdda83b",
       "value": 480.0
      }
     },
     "ac2ca0737d6a493b839d0ff36343aea9": {
      "model_module": "@jupyter-widgets/controls",
      "model_module_version": "1.5.0",
      "model_name": "HTMLModel",
      "state": {
       "_dom_classes": [],
       "_model_module": "@jupyter-widgets/controls",
       "_model_module_version": "1.5.0",
       "_model_name": "HTMLModel",
       "_view_count": null,
       "_view_module": "@jupyter-widgets/controls",
       "_view_module_version": "1.5.0",
       "_view_name": "HTMLView",
       "description": "",
       "description_tooltip": null,
       "layout": "IPY_MODEL_96d668e0893345b7a3885d5212ac0c9d",
       "placeholder": "​",
       "style": "IPY_MODEL_c0ef7a0bcda24028a322fb3726730bed",
       "value": "tokenizer_config.json: 100%"
      }
     },
     "ac996aa4baec496fa5672bb4a237a7ef": {
      "model_module": "@jupyter-widgets/controls",
      "model_module_version": "1.5.0",
      "model_name": "HTMLModel",
      "state": {
       "_dom_classes": [],
       "_model_module": "@jupyter-widgets/controls",
       "_model_module_version": "1.5.0",
       "_model_name": "HTMLModel",
       "_view_count": null,
       "_view_module": "@jupyter-widgets/controls",
       "_view_module_version": "1.5.0",
       "_view_name": "HTMLView",
       "description": "",
       "description_tooltip": null,
       "layout": "IPY_MODEL_047e3f8b61c9459da568a80d13224643",
       "placeholder": "​",
       "style": "IPY_MODEL_da7ea1f3413040b79806059d274019c1",
       "value": "model.safetensors: 100%"
      }
     },
     "b2268d4efd874c49a6508d07f4371fb7": {
      "model_module": "@jupyter-widgets/base",
      "model_module_version": "1.2.0",
      "model_name": "LayoutModel",
      "state": {
       "_model_module": "@jupyter-widgets/base",
       "_model_module_version": "1.2.0",
       "_model_name": "LayoutModel",
       "_view_count": null,
       "_view_module": "@jupyter-widgets/base",
       "_view_module_version": "1.2.0",
       "_view_name": "LayoutView",
       "align_content": null,
       "align_items": null,
       "align_self": null,
       "border": null,
       "bottom": null,
       "display": null,
       "flex": null,
       "flex_flow": null,
       "grid_area": null,
       "grid_auto_columns": null,
       "grid_auto_flow": null,
       "grid_auto_rows": null,
       "grid_column": null,
       "grid_gap": null,
       "grid_row": null,
       "grid_template_areas": null,
       "grid_template_columns": null,
       "grid_template_rows": null,
       "height": null,
       "justify_content": null,
       "justify_items": null,
       "left": null,
       "margin": null,
       "max_height": null,
       "max_width": null,
       "min_height": null,
       "min_width": null,
       "object_fit": null,
       "object_position": null,
       "order": null,
       "overflow": null,
       "overflow_x": null,
       "overflow_y": null,
       "padding": null,
       "right": null,
       "top": null,
       "visibility": null,
       "width": null
      }
     },
     "bdcc52b4db4e4e24b267167a5bdda83b": {
      "model_module": "@jupyter-widgets/controls",
      "model_module_version": "1.5.0",
      "model_name": "ProgressStyleModel",
      "state": {
       "_model_module": "@jupyter-widgets/controls",
       "_model_module_version": "1.5.0",
       "_model_name": "ProgressStyleModel",
       "_view_count": null,
       "_view_module": "@jupyter-widgets/base",
       "_view_module_version": "1.2.0",
       "_view_name": "StyleView",
       "bar_color": null,
       "description_width": ""
      }
     },
     "be5ec4f39fbc402185132e6b27b91994": {
      "model_module": "@jupyter-widgets/base",
      "model_module_version": "1.2.0",
      "model_name": "LayoutModel",
      "state": {
       "_model_module": "@jupyter-widgets/base",
       "_model_module_version": "1.2.0",
       "_model_name": "LayoutModel",
       "_view_count": null,
       "_view_module": "@jupyter-widgets/base",
       "_view_module_version": "1.2.0",
       "_view_name": "LayoutView",
       "align_content": null,
       "align_items": null,
       "align_self": null,
       "border": null,
       "bottom": null,
       "display": null,
       "flex": null,
       "flex_flow": null,
       "grid_area": null,
       "grid_auto_columns": null,
       "grid_auto_flow": null,
       "grid_auto_rows": null,
       "grid_column": null,
       "grid_gap": null,
       "grid_row": null,
       "grid_template_areas": null,
       "grid_template_columns": null,
       "grid_template_rows": null,
       "height": null,
       "justify_content": null,
       "justify_items": null,
       "left": null,
       "margin": null,
       "max_height": null,
       "max_width": null,
       "min_height": null,
       "min_width": null,
       "object_fit": null,
       "object_position": null,
       "order": null,
       "overflow": null,
       "overflow_x": null,
       "overflow_y": null,
       "padding": null,
       "right": null,
       "top": null,
       "visibility": null,
       "width": null
      }
     },
     "bf32296dc7fe4783a15bb571f0da86e5": {
      "model_module": "@jupyter-widgets/controls",
      "model_module_version": "1.5.0",
      "model_name": "DescriptionStyleModel",
      "state": {
       "_model_module": "@jupyter-widgets/controls",
       "_model_module_version": "1.5.0",
       "_model_name": "DescriptionStyleModel",
       "_view_count": null,
       "_view_module": "@jupyter-widgets/base",
       "_view_module_version": "1.2.0",
       "_view_name": "StyleView",
       "description_width": ""
      }
     },
     "c04cc52f8437476baa04e0da3747e045": {
      "model_module": "@jupyter-widgets/controls",
      "model_module_version": "1.5.0",
      "model_name": "FloatProgressModel",
      "state": {
       "_dom_classes": [],
       "_model_module": "@jupyter-widgets/controls",
       "_model_module_version": "1.5.0",
       "_model_name": "FloatProgressModel",
       "_view_count": null,
       "_view_module": "@jupyter-widgets/controls",
       "_view_module_version": "1.5.0",
       "_view_name": "ProgressView",
       "bar_style": "success",
       "description": "",
       "description_tooltip": null,
       "layout": "IPY_MODEL_81f89f5ccf144c77be5a54af643ef798",
       "max": 470641600.0,
       "min": 0.0,
       "orientation": "horizontal",
       "style": "IPY_MODEL_7adb2f688cb04cea9191d663aa5ae21b",
       "value": 470641600.0
      }
     },
     "c0ef7a0bcda24028a322fb3726730bed": {
      "model_module": "@jupyter-widgets/controls",
      "model_module_version": "1.5.0",
      "model_name": "DescriptionStyleModel",
      "state": {
       "_model_module": "@jupyter-widgets/controls",
       "_model_module_version": "1.5.0",
       "_model_name": "DescriptionStyleModel",
       "_view_count": null,
       "_view_module": "@jupyter-widgets/base",
       "_view_module_version": "1.2.0",
       "_view_name": "StyleView",
       "description_width": ""
      }
     },
     "cd8cbb1ea6034d578fac22af84caf9c5": {
      "model_module": "@jupyter-widgets/base",
      "model_module_version": "1.2.0",
      "model_name": "LayoutModel",
      "state": {
       "_model_module": "@jupyter-widgets/base",
       "_model_module_version": "1.2.0",
       "_model_name": "LayoutModel",
       "_view_count": null,
       "_view_module": "@jupyter-widgets/base",
       "_view_module_version": "1.2.0",
       "_view_name": "LayoutView",
       "align_content": null,
       "align_items": null,
       "align_self": null,
       "border": null,
       "bottom": null,
       "display": null,
       "flex": null,
       "flex_flow": null,
       "grid_area": null,
       "grid_auto_columns": null,
       "grid_auto_flow": null,
       "grid_auto_rows": null,
       "grid_column": null,
       "grid_gap": null,
       "grid_row": null,
       "grid_template_areas": null,
       "grid_template_columns": null,
       "grid_template_rows": null,
       "height": null,
       "justify_content": null,
       "justify_items": null,
       "left": null,
       "margin": null,
       "max_height": null,
       "max_width": null,
       "min_height": null,
       "min_width": null,
       "object_fit": null,
       "object_position": null,
       "order": null,
       "overflow": null,
       "overflow_x": null,
       "overflow_y": null,
       "padding": null,
       "right": null,
       "top": null,
       "visibility": null,
       "width": null
      }
     },
     "d118f48eb5754d6fb3b87f37169dacb5": {
      "model_module": "@jupyter-widgets/controls",
      "model_module_version": "1.5.0",
      "model_name": "FloatProgressModel",
      "state": {
       "_dom_classes": [],
       "_model_module": "@jupyter-widgets/controls",
       "_model_module_version": "1.5.0",
       "_model_name": "FloatProgressModel",
       "_view_count": null,
       "_view_module": "@jupyter-widgets/controls",
       "_view_module_version": "1.5.0",
       "_view_name": "ProgressView",
       "bar_style": "success",
       "description": "",
       "description_tooltip": null,
       "layout": "IPY_MODEL_70c0da75ff4745dc84de506988a4665a",
       "max": 239.0,
       "min": 0.0,
       "orientation": "horizontal",
       "style": "IPY_MODEL_7be5f6401edd4d42a0f15c9e5227db9e",
       "value": 239.0
      }
     },
     "d9630d569f47432fb6ba819ceb0bd5a8": {
      "model_module": "@jupyter-widgets/base",
      "model_module_version": "1.2.0",
      "model_name": "LayoutModel",
      "state": {
       "_model_module": "@jupyter-widgets/base",
       "_model_module_version": "1.2.0",
       "_model_name": "LayoutModel",
       "_view_count": null,
       "_view_module": "@jupyter-widgets/base",
       "_view_module_version": "1.2.0",
       "_view_name": "LayoutView",
       "align_content": null,
       "align_items": null,
       "align_self": null,
       "border": null,
       "bottom": null,
       "display": null,
       "flex": null,
       "flex_flow": null,
       "grid_area": null,
       "grid_auto_columns": null,
       "grid_auto_flow": null,
       "grid_auto_rows": null,
       "grid_column": null,
       "grid_gap": null,
       "grid_row": null,
       "grid_template_areas": null,
       "grid_template_columns": null,
       "grid_template_rows": null,
       "height": null,
       "justify_content": null,
       "justify_items": null,
       "left": null,
       "margin": null,
       "max_height": null,
       "max_width": null,
       "min_height": null,
       "min_width": null,
       "object_fit": null,
       "object_position": null,
       "order": null,
       "overflow": null,
       "overflow_x": null,
       "overflow_y": null,
       "padding": null,
       "right": null,
       "top": null,
       "visibility": null,
       "width": null
      }
     },
     "da7ea1f3413040b79806059d274019c1": {
      "model_module": "@jupyter-widgets/controls",
      "model_module_version": "1.5.0",
      "model_name": "DescriptionStyleModel",
      "state": {
       "_model_module": "@jupyter-widgets/controls",
       "_model_module_version": "1.5.0",
       "_model_name": "DescriptionStyleModel",
       "_view_count": null,
       "_view_module": "@jupyter-widgets/base",
       "_view_module_version": "1.2.0",
       "_view_name": "StyleView",
       "description_width": ""
      }
     },
     "dbef6b1b1cfe4fa3b4975240a12e97ea": {
      "model_module": "@jupyter-widgets/base",
      "model_module_version": "1.2.0",
      "model_name": "LayoutModel",
      "state": {
       "_model_module": "@jupyter-widgets/base",
       "_model_module_version": "1.2.0",
       "_model_name": "LayoutModel",
       "_view_count": null,
       "_view_module": "@jupyter-widgets/base",
       "_view_module_version": "1.2.0",
       "_view_name": "LayoutView",
       "align_content": null,
       "align_items": null,
       "align_self": null,
       "border": null,
       "bottom": null,
       "display": null,
       "flex": null,
       "flex_flow": null,
       "grid_area": null,
       "grid_auto_columns": null,
       "grid_auto_flow": null,
       "grid_auto_rows": null,
       "grid_column": null,
       "grid_gap": null,
       "grid_row": null,
       "grid_template_areas": null,
       "grid_template_columns": null,
       "grid_template_rows": null,
       "height": null,
       "justify_content": null,
       "justify_items": null,
       "left": null,
       "margin": null,
       "max_height": null,
       "max_width": null,
       "min_height": null,
       "min_width": null,
       "object_fit": null,
       "object_position": null,
       "order": null,
       "overflow": null,
       "overflow_x": null,
       "overflow_y": null,
       "padding": null,
       "right": null,
       "top": null,
       "visibility": null,
       "width": null
      }
     },
     "e4f02d9cf640495fa42d2cd2882395bc": {
      "model_module": "@jupyter-widgets/base",
      "model_module_version": "1.2.0",
      "model_name": "LayoutModel",
      "state": {
       "_model_module": "@jupyter-widgets/base",
       "_model_module_version": "1.2.0",
       "_model_name": "LayoutModel",
       "_view_count": null,
       "_view_module": "@jupyter-widgets/base",
       "_view_module_version": "1.2.0",
       "_view_name": "LayoutView",
       "align_content": null,
       "align_items": null,
       "align_self": null,
       "border": null,
       "bottom": null,
       "display": null,
       "flex": null,
       "flex_flow": null,
       "grid_area": null,
       "grid_auto_columns": null,
       "grid_auto_flow": null,
       "grid_auto_rows": null,
       "grid_column": null,
       "grid_gap": null,
       "grid_row": null,
       "grid_template_areas": null,
       "grid_template_columns": null,
       "grid_template_rows": null,
       "height": null,
       "justify_content": null,
       "justify_items": null,
       "left": null,
       "margin": null,
       "max_height": null,
       "max_width": null,
       "min_height": null,
       "min_width": null,
       "object_fit": null,
       "object_position": null,
       "order": null,
       "overflow": null,
       "overflow_x": null,
       "overflow_y": null,
       "padding": null,
       "right": null,
       "top": null,
       "visibility": null,
       "width": null
      }
     },
     "ec4a46fb70cc48dea412de39f5ddadd6": {
      "model_module": "@jupyter-widgets/controls",
      "model_module_version": "1.5.0",
      "model_name": "HTMLModel",
      "state": {
       "_dom_classes": [],
       "_model_module": "@jupyter-widgets/controls",
       "_model_module_version": "1.5.0",
       "_model_name": "HTMLModel",
       "_view_count": null,
       "_view_module": "@jupyter-widgets/controls",
       "_view_module_version": "1.5.0",
       "_view_name": "HTMLView",
       "description": "",
       "description_tooltip": null,
       "layout": "IPY_MODEL_be5ec4f39fbc402185132e6b27b91994",
       "placeholder": "​",
       "style": "IPY_MODEL_193bbb1a2a8b4349afd7c7f89b245433",
       "value": "config.json: 100%"
      }
     },
     "edcd9431d3ab4e9c8dbbb4f233e8ebd4": {
      "model_module": "@jupyter-widgets/controls",
      "model_module_version": "1.5.0",
      "model_name": "HBoxModel",
      "state": {
       "_dom_classes": [],
       "_model_module": "@jupyter-widgets/controls",
       "_model_module_version": "1.5.0",
       "_model_name": "HBoxModel",
       "_view_count": null,
       "_view_module": "@jupyter-widgets/controls",
       "_view_module_version": "1.5.0",
       "_view_name": "HBoxView",
       "box_style": "",
       "children": [
        "IPY_MODEL_f0248ac034b64d2db79fb94cbc84a265",
        "IPY_MODEL_5293e39f74a442c08af58972d808c279",
        "IPY_MODEL_a0f830ad279845a6b09bcfe743117eb0"
       ],
       "layout": "IPY_MODEL_b2268d4efd874c49a6508d07f4371fb7"
      }
     },
     "f0248ac034b64d2db79fb94cbc84a265": {
      "model_module": "@jupyter-widgets/controls",
      "model_module_version": "1.5.0",
      "model_name": "HTMLModel",
      "state": {
       "_dom_classes": [],
       "_model_module": "@jupyter-widgets/controls",
       "_model_module_version": "1.5.0",
       "_model_name": "HTMLModel",
       "_view_count": null,
       "_view_module": "@jupyter-widgets/controls",
       "_view_module_version": "1.5.0",
       "_view_name": "HTMLView",
       "description": "",
       "description_tooltip": null,
       "layout": "IPY_MODEL_48ecd0c295d44360a057c2b21bd4eef6",
       "placeholder": "​",
       "style": "IPY_MODEL_64e8cae319ca4ecf8729cac616d4b16a",
       "value": "tokenizer.json: 100%"
      }
     },
     "f051a310b0d24ed387d5e594a112613c": {
      "model_module": "@jupyter-widgets/controls",
      "model_module_version": "1.5.0",
      "model_name": "HBoxModel",
      "state": {
       "_dom_classes": [],
       "_model_module": "@jupyter-widgets/controls",
       "_model_module_version": "1.5.0",
       "_model_name": "HBoxModel",
       "_view_count": null,
       "_view_module": "@jupyter-widgets/controls",
       "_view_module_version": "1.5.0",
       "_view_name": "HBoxView",
       "box_style": "",
       "children": [
        "IPY_MODEL_ac2ca0737d6a493b839d0ff36343aea9",
        "IPY_MODEL_a3614abde4424e679a46bec00a72da41",
        "IPY_MODEL_4a18f4a535194bfd8c6040bd21757058"
       ],
       "layout": "IPY_MODEL_54e4f59c029a4e58a067559f08605d5b"
      }
     },
     "fd9ccb6eb0564056a6015b11582e95cd": {
      "model_module": "@jupyter-widgets/controls",
      "model_module_version": "1.5.0",
      "model_name": "DescriptionStyleModel",
      "state": {
       "_model_module": "@jupyter-widgets/controls",
       "_model_module_version": "1.5.0",
       "_model_name": "DescriptionStyleModel",
       "_view_count": null,
       "_view_module": "@jupyter-widgets/base",
       "_view_module_version": "1.2.0",
       "_view_name": "StyleView",
       "description_width": ""
      }
     },
     "feaa00b0bfd64bb4ab6469da1479f62d": {
      "model_module": "@jupyter-widgets/controls",
      "model_module_version": "1.5.0",
      "model_name": "DescriptionStyleModel",
      "state": {
       "_model_module": "@jupyter-widgets/controls",
       "_model_module_version": "1.5.0",
       "_model_name": "DescriptionStyleModel",
       "_view_count": null,
       "_view_module": "@jupyter-widgets/base",
       "_view_module_version": "1.2.0",
       "_view_name": "StyleView",
       "description_width": ""
      }
     },
     "ffcecd160a47453184803f7e5a683c5a": {
      "model_module": "@jupyter-widgets/controls",
      "model_module_version": "1.5.0",
      "model_name": "HTMLModel",
      "state": {
       "_dom_classes": [],
       "_model_module": "@jupyter-widgets/controls",
       "_model_module_version": "1.5.0",
       "_model_name": "HTMLModel",
       "_view_count": null,
       "_view_module": "@jupyter-widgets/controls",
       "_view_module_version": "1.5.0",
       "_view_name": "HTMLView",
       "description": "",
       "description_tooltip": null,
       "layout": "IPY_MODEL_dbef6b1b1cfe4fa3b4975240a12e97ea",
       "placeholder": "​",
       "style": "IPY_MODEL_306f2f2173224b05979c8e599518ebb9",
       "value": " 239/239 [00:00&lt;00:00, 15.5kB/s]"
      }
     }
    },
    "version_major": 2,
    "version_minor": 0
   }
  }
 },
 "nbformat": 4,
 "nbformat_minor": 5
}
