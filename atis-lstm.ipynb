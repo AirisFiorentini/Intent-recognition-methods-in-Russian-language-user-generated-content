{
 "cells": [
  {
   "cell_type": "code",
   "execution_count": 1,
   "id": "5bb92804",
   "metadata": {
    "_cell_guid": "b1076dfc-b9ad-4769-8c92-a6c4dae69d19",
    "_uuid": "8f2839f25d086af736a60e9eeb907d3b93b6e0e5",
    "execution": {
     "iopub.execute_input": "2024-05-28T15:32:35.082976Z",
     "iopub.status.busy": "2024-05-28T15:32:35.081847Z",
     "iopub.status.idle": "2024-05-28T15:32:36.029306Z",
     "shell.execute_reply": "2024-05-28T15:32:36.027486Z"
    },
    "papermill": {
     "duration": 0.960142,
     "end_time": "2024-05-28T15:32:36.032410",
     "exception": false,
     "start_time": "2024-05-28T15:32:35.072268",
     "status": "completed"
    },
    "tags": []
   },
   "outputs": [
    {
     "name": "stdout",
     "output_type": "stream",
     "text": [
      "/kaggle/input/atis-airlinetravelinformationsystem/atis_intents_train.csv\n",
      "/kaggle/input/atis-airlinetravelinformationsystem/atis_intents.csv\n",
      "/kaggle/input/atis-airlinetravelinformationsystem/atis_intents_test.csv\n"
     ]
    }
   ],
   "source": [
    "import numpy as np # linear algebra\n",
    "import pandas as pd # data processing, CSV file I/O (e.g. pd.read_csv)\n",
    "\n",
    "import os\n",
    "for dirname, _, filenames in os.walk('/kaggle/input'):\n",
    "    for filename in filenames:\n",
    "        print(os.path.join(dirname, filename))"
   ]
  },
  {
   "cell_type": "code",
   "execution_count": 2,
   "id": "6bfb24f1",
   "metadata": {
    "execution": {
     "iopub.execute_input": "2024-05-28T15:32:36.050561Z",
     "iopub.status.busy": "2024-05-28T15:32:36.049361Z",
     "iopub.status.idle": "2024-05-28T15:32:41.526427Z",
     "shell.execute_reply": "2024-05-28T15:32:41.524982Z"
    },
    "papermill": {
     "duration": 5.488961,
     "end_time": "2024-05-28T15:32:41.529255",
     "exception": false,
     "start_time": "2024-05-28T15:32:36.040294",
     "status": "completed"
    },
    "tags": []
   },
   "outputs": [],
   "source": [
    "import nltk\n",
    "from nltk.tokenize import word_tokenize\n",
    "from sklearn.feature_extraction.text import TfidfVectorizer\n",
    "from sklearn.preprocessing import LabelEncoder\n",
    "from torch.utils.data import Dataset, DataLoader\n",
    "import torch\n",
    "from torch import nn"
   ]
  },
  {
   "cell_type": "code",
   "execution_count": 3,
   "id": "ff319f59",
   "metadata": {
    "execution": {
     "iopub.execute_input": "2024-05-28T15:32:41.545827Z",
     "iopub.status.busy": "2024-05-28T15:32:41.545308Z",
     "iopub.status.idle": "2024-05-28T15:32:42.010931Z",
     "shell.execute_reply": "2024-05-28T15:32:42.009642Z"
    },
    "papermill": {
     "duration": 0.476642,
     "end_time": "2024-05-28T15:32:42.013443",
     "exception": false,
     "start_time": "2024-05-28T15:32:41.536801",
     "status": "completed"
    },
    "tags": []
   },
   "outputs": [
    {
     "name": "stdout",
     "output_type": "stream",
     "text": [
      "[nltk_data] Downloading package punkt to /usr/share/nltk_data...\n",
      "[nltk_data]   Package punkt is already up-to-date!\n"
     ]
    },
    {
     "data": {
      "text/plain": [
       "True"
      ]
     },
     "execution_count": 3,
     "metadata": {},
     "output_type": "execute_result"
    }
   ],
   "source": [
    "from sklearn.model_selection import train_test_split\n",
    "from sklearn.metrics import precision_recall_fscore_support, balanced_accuracy_score\n",
    "from tqdm import tqdm\n",
    "import matplotlib.pyplot as plt\n",
    "from sklearn.metrics import confusion_matrix, accuracy_score\n",
    "import matplotlib.pyplot as plt\n",
    "import seaborn as sns\n",
    "\n",
    "nltk.download('punkt')"
   ]
  },
  {
   "cell_type": "code",
   "execution_count": 4,
   "id": "cc71b2ed",
   "metadata": {
    "execution": {
     "iopub.execute_input": "2024-05-28T15:32:42.032011Z",
     "iopub.status.busy": "2024-05-28T15:32:42.031496Z",
     "iopub.status.idle": "2024-05-28T15:32:42.117779Z",
     "shell.execute_reply": "2024-05-28T15:32:42.116589Z"
    },
    "papermill": {
     "duration": 0.097952,
     "end_time": "2024-05-28T15:32:42.120410",
     "exception": false,
     "start_time": "2024-05-28T15:32:42.022458",
     "status": "completed"
    },
    "tags": []
   },
   "outputs": [],
   "source": [
    "# Путь к файлу CSV\n",
    "data_path = \"/kaggle/input/atis-airlinetravelinformationsystem/atis_intents.csv\"\n",
    "train_data_path = \"/kaggle/input/atis-airlinetravelinformationsystem/atis_intents_train.csv\"\n",
    "test_data_path = \"/kaggle/input/atis-airlinetravelinformationsystem/atis_intents_test.csv\"\n",
    "\n",
    "# Чтение данных из CSV-файлов\n",
    "data = pd.read_csv(data_path)\n",
    "train_data = pd.read_csv(train_data_path)\n",
    "test_data = pd.read_csv(test_data_path)"
   ]
  },
  {
   "cell_type": "code",
   "execution_count": 5,
   "id": "e16392d5",
   "metadata": {
    "execution": {
     "iopub.execute_input": "2024-05-28T15:32:42.137983Z",
     "iopub.status.busy": "2024-05-28T15:32:42.137592Z",
     "iopub.status.idle": "2024-05-28T15:32:42.151094Z",
     "shell.execute_reply": "2024-05-28T15:32:42.149898Z"
    },
    "papermill": {
     "duration": 0.025577,
     "end_time": "2024-05-28T15:32:42.153602",
     "exception": false,
     "start_time": "2024-05-28T15:32:42.128025",
     "status": "completed"
    },
    "tags": []
   },
   "outputs": [],
   "source": [
    "data = data.rename(columns={'atis_flight': 'intent', ' i want to fly from boston at 838 am and arrive in denver at 1110 in the morning': 'text'})\n",
    "lost_intent = {'intent': 'atis_flight', 'text': 'i want to fly from boston at 838 am and arrive in denver at 1110 in the morning'}\n",
    "data = pd.concat([data, pd.DataFrame([lost_intent])], ignore_index=True)"
   ]
  },
  {
   "cell_type": "code",
   "execution_count": 6,
   "id": "f61b0083",
   "metadata": {
    "execution": {
     "iopub.execute_input": "2024-05-28T15:32:42.171260Z",
     "iopub.status.busy": "2024-05-28T15:32:42.169959Z",
     "iopub.status.idle": "2024-05-28T15:32:42.191246Z",
     "shell.execute_reply": "2024-05-28T15:32:42.190103Z"
    },
    "papermill": {
     "duration": 0.032535,
     "end_time": "2024-05-28T15:32:42.193765",
     "exception": false,
     "start_time": "2024-05-28T15:32:42.161230",
     "status": "completed"
    },
    "tags": []
   },
   "outputs": [],
   "source": [
    "# Find classes with only one sample\n",
    "class_counts = data['intent'].value_counts()\n",
    "single_sample_classes = class_counts[class_counts == 1].index.tolist()\n",
    "\n",
    "# Separate single sample classes\n",
    "single_sample_data = data[data['intent'].isin(single_sample_classes)]\n",
    "multiple_sample_data = data[~data['intent'].isin(single_sample_classes)]"
   ]
  },
  {
   "cell_type": "code",
   "execution_count": 7,
   "id": "d6750ff8",
   "metadata": {
    "execution": {
     "iopub.execute_input": "2024-05-28T15:32:42.212034Z",
     "iopub.status.busy": "2024-05-28T15:32:42.210962Z",
     "iopub.status.idle": "2024-05-28T15:32:42.241322Z",
     "shell.execute_reply": "2024-05-28T15:32:42.239847Z"
    },
    "papermill": {
     "duration": 0.041807,
     "end_time": "2024-05-28T15:32:42.244159",
     "exception": false,
     "start_time": "2024-05-28T15:32:42.202352",
     "status": "completed"
    },
    "tags": []
   },
   "outputs": [
    {
     "name": "stdout",
     "output_type": "stream",
     "text": [
      "intent\n",
      "atis_flight                                 73.869079\n",
      "atis_airfare                                 8.621607\n",
      "atis_ground_service                          5.082491\n",
      "atis_airline                                 3.113358\n",
      "atis_abbreviation                            2.474721\n",
      "atis_aircraft                                1.676424\n",
      "atis_flight_time                             1.117616\n",
      "atis_quantity                                1.091006\n",
      "atis_distance                                0.425758\n",
      "atis_flight#atis_airfare                     0.399148\n",
      "atis_ground_fare                             0.372539\n",
      "atis_airport                                 0.372539\n",
      "atis_city                                    0.372539\n",
      "atis_capacity                                0.345929\n",
      "atis_flight_no                               0.266099\n",
      "atis_meal                                    0.133049\n",
      "atis_restriction                             0.106440\n",
      "atis_airline#atis_flight_no                  0.053220\n",
      "atis_ground_service#atis_ground_fare         0.026610\n",
      "atis_airfare#atis_flight_time                0.026610\n",
      "atis_cheapest                                0.026610\n",
      "atis_aircraft#atis_flight#atis_flight_no     0.026610\n",
      "Name: proportion, dtype: float64 22 21\n"
     ]
    }
   ],
   "source": [
    "# train, test = train_test_split(data, test_size=0.2, random_state=42, stratify=data['intent'])\n",
    "# Perform stratified split on multiple sample data\n",
    "train_multiple, test_multiple = train_test_split(multiple_sample_data, test_size=0.2, random_state=42, stratify=multiple_sample_data['intent'])\n",
    "\n",
    "# Add single sample data to both train and test sets to ensure all classes are present\n",
    "train = pd.concat([train_multiple, single_sample_data]).reset_index(drop=True)\n",
    "test = pd.concat([test_multiple, single_sample_data]).reset_index(drop=True)\n",
    "\n",
    "# Ensure no duplicates in train and test sets\n",
    "train = train.drop_duplicates().reset_index(drop=True)\n",
    "test = test.drop_duplicates().reset_index(drop=True)\n",
    "\n",
    "unique_values_normalized = train['intent'].value_counts(normalize=True)\n",
    "unique_values_normalized_test = test['intent'].value_counts(normalize=True)\n",
    "print(unique_values_normalized*100, len(unique_values_normalized), len(unique_values_normalized_test))"
   ]
  },
  {
   "cell_type": "code",
   "execution_count": 8,
   "id": "1eb5358a",
   "metadata": {
    "execution": {
     "iopub.execute_input": "2024-05-28T15:32:42.262240Z",
     "iopub.status.busy": "2024-05-28T15:32:42.261192Z",
     "iopub.status.idle": "2024-05-28T15:32:42.277900Z",
     "shell.execute_reply": "2024-05-28T15:32:42.276824Z"
    },
    "papermill": {
     "duration": 0.028421,
     "end_time": "2024-05-28T15:32:42.280515",
     "exception": false,
     "start_time": "2024-05-28T15:32:42.252094",
     "status": "completed"
    },
    "tags": []
   },
   "outputs": [
    {
     "name": "stdout",
     "output_type": "stream",
     "text": [
      "intent\n",
      "atis_flight                                 73.869079\n",
      "atis_airfare                                 8.621607\n",
      "atis_ground_service                          5.082491\n",
      "atis_airline                                 3.113358\n",
      "atis_abbreviation                            2.474721\n",
      "atis_aircraft                                1.676424\n",
      "atis_flight_time                             1.117616\n",
      "atis_quantity                                1.091006\n",
      "atis_distance                                0.425758\n",
      "atis_flight#atis_airfare                     0.399148\n",
      "atis_ground_fare                             0.372539\n",
      "atis_airport                                 0.372539\n",
      "atis_city                                    0.372539\n",
      "atis_capacity                                0.345929\n",
      "atis_flight_no                               0.266099\n",
      "atis_meal                                    0.133049\n",
      "atis_restriction                             0.106440\n",
      "atis_airline#atis_flight_no                  0.053220\n",
      "atis_ground_service#atis_ground_fare         0.026610\n",
      "atis_airfare#atis_flight_time                0.026610\n",
      "atis_cheapest                                0.026610\n",
      "atis_aircraft#atis_flight#atis_flight_no     0.026610\n",
      "Name: proportion, dtype: float64 22 22\n"
     ]
    }
   ],
   "source": [
    "# Check for missing classes and ensure all classes are present\n",
    "train_classes = set(train['intent'])\n",
    "test_classes = set(test['intent'])\n",
    "all_classes = set(data['intent'])\n",
    "\n",
    "# Find missing classes in train and test sets\n",
    "missing_train_classes = all_classes - train_classes\n",
    "missing_test_classes = all_classes - test_classes\n",
    "\n",
    "# Add missing classes examples to train and test sets\n",
    "if missing_train_classes:\n",
    "    missing_train_data = data[data['intent'].isin(missing_train_classes)]\n",
    "    train = pd.concat([train, missing_train_data])\n",
    "    train = train.drop_duplicates().reset_index(drop=True)\n",
    "\n",
    "if missing_test_classes:\n",
    "    missing_test_data = data[data['intent'].isin(missing_test_classes)]\n",
    "    test = pd.concat([test, missing_test_data])\n",
    "    test = test.drop_duplicates().reset_index(drop=True)\n",
    "\n",
    "# Print unique value proportions\n",
    "unique_values_normalized = train['intent'].value_counts(normalize=True)\n",
    "unique_values_normalized_test = test['intent'].value_counts(normalize=True)\n",
    "print(unique_values_normalized * 100, len(unique_values_normalized), len(unique_values_normalized_test)) "
   ]
  },
  {
   "cell_type": "code",
   "execution_count": 9,
   "id": "fa2cfbc8",
   "metadata": {
    "execution": {
     "iopub.execute_input": "2024-05-28T15:32:42.299040Z",
     "iopub.status.busy": "2024-05-28T15:32:42.298229Z",
     "iopub.status.idle": "2024-05-28T15:32:42.304373Z",
     "shell.execute_reply": "2024-05-28T15:32:42.303224Z"
    },
    "papermill": {
     "duration": 0.018033,
     "end_time": "2024-05-28T15:32:42.306549",
     "exception": false,
     "start_time": "2024-05-28T15:32:42.288516",
     "status": "completed"
    },
    "tags": []
   },
   "outputs": [],
   "source": [
    "class TextDataset(Dataset):\n",
    "    def __init__(self, texts, labels):\n",
    "        self.texts = texts\n",
    "        self.labels = labels\n",
    "\n",
    "    def __len__(self):\n",
    "        return len(self.texts)\n",
    "\n",
    "    def __getitem__(self, idx):\n",
    "        return self.texts[idx], self.labels[idx]"
   ]
  },
  {
   "cell_type": "code",
   "execution_count": 10,
   "id": "68487a21",
   "metadata": {
    "execution": {
     "iopub.execute_input": "2024-05-28T15:32:42.323405Z",
     "iopub.status.busy": "2024-05-28T15:32:42.323020Z",
     "iopub.status.idle": "2024-05-28T15:32:42.330224Z",
     "shell.execute_reply": "2024-05-28T15:32:42.329158Z"
    },
    "papermill": {
     "duration": 0.018713,
     "end_time": "2024-05-28T15:32:42.332829",
     "exception": false,
     "start_time": "2024-05-28T15:32:42.314116",
     "status": "completed"
    },
    "tags": []
   },
   "outputs": [],
   "source": [
    "class LSTMClassifier(nn.Module):\n",
    "    def __init__(self, input_dim, hidden_dim, output_dim):\n",
    "        super().__init__()\n",
    "        self.lstm = nn.LSTM(input_dim, hidden_dim, batch_first=True)\n",
    "        self.fc = nn.Linear(hidden_dim, output_dim)\n",
    "\n",
    "    def forward(self, x):\n",
    "        x = x.unsqueeze(1)  # Добавление дополнительного измерения\n",
    "#         print(f'x shape: {x.shape}')\n",
    "        lstm_out, _ = self.lstm(x)\n",
    "        out = self.fc(lstm_out[:, -1, :])\n",
    "        return out"
   ]
  },
  {
   "cell_type": "code",
   "execution_count": 11,
   "id": "6c507533",
   "metadata": {
    "execution": {
     "iopub.execute_input": "2024-05-28T15:32:42.350523Z",
     "iopub.status.busy": "2024-05-28T15:32:42.349811Z",
     "iopub.status.idle": "2024-05-28T15:32:42.357375Z",
     "shell.execute_reply": "2024-05-28T15:32:42.356221Z"
    },
    "papermill": {
     "duration": 0.018717,
     "end_time": "2024-05-28T15:32:42.359765",
     "exception": false,
     "start_time": "2024-05-28T15:32:42.341048",
     "status": "completed"
    },
    "tags": []
   },
   "outputs": [],
   "source": [
    "from sklearn.preprocessing import LabelEncoder\n",
    "\n",
    "# Создание LabelEncoder\n",
    "le = LabelEncoder()\n",
    "\n",
    "# Преобразование меток в числовые значения\n",
    "train_labels = le.fit_transform(train['intent'])\n",
    "test_labels = le.transform(test['intent'])"
   ]
  },
  {
   "cell_type": "code",
   "execution_count": 12,
   "id": "913feff4",
   "metadata": {
    "execution": {
     "iopub.execute_input": "2024-05-28T15:32:42.377364Z",
     "iopub.status.busy": "2024-05-28T15:32:42.376980Z",
     "iopub.status.idle": "2024-05-28T15:32:43.133227Z",
     "shell.execute_reply": "2024-05-28T15:32:43.131844Z"
    },
    "papermill": {
     "duration": 0.768484,
     "end_time": "2024-05-28T15:32:43.136071",
     "exception": false,
     "start_time": "2024-05-28T15:32:42.367587",
     "status": "completed"
    },
    "tags": []
   },
   "outputs": [
    {
     "name": "stderr",
     "output_type": "stream",
     "text": [
      "/opt/conda/lib/python3.10/site-packages/sklearn/feature_extraction/text.py:528: UserWarning: The parameter 'token_pattern' will not be used since 'tokenizer' is not None'\n",
      "  warnings.warn(\n"
     ]
    }
   ],
   "source": [
    "# Токенизация и преобразование в TF-IDF\n",
    "tokenizer = word_tokenize\n",
    "vectorizer = TfidfVectorizer(tokenizer=tokenizer)\n",
    "\n",
    "train_texts = vectorizer.fit_transform(train['text']).toarray()\n",
    "test_texts = vectorizer.transform(test['text']).toarray()\n",
    "\n",
    "# Преобразование массивов numpy в тензоры PyTorch перед передачей в TextDataset\n",
    "train_dataset = TextDataset(torch.from_numpy(train_texts), train_labels)\n",
    "test_dataset = TextDataset(torch.from_numpy(test_texts), test_labels)\n",
    "\n",
    "train_loader = DataLoader(train_dataset, batch_size=32, shuffle=True)\n",
    "test_loader = DataLoader(test_dataset, batch_size=32)"
   ]
  },
  {
   "cell_type": "code",
   "execution_count": 13,
   "id": "8d98d102",
   "metadata": {
    "execution": {
     "iopub.execute_input": "2024-05-28T15:32:43.154130Z",
     "iopub.status.busy": "2024-05-28T15:32:43.153753Z",
     "iopub.status.idle": "2024-05-28T15:32:45.782540Z",
     "shell.execute_reply": "2024-05-28T15:32:45.781335Z"
    },
    "papermill": {
     "duration": 2.641177,
     "end_time": "2024-05-28T15:32:45.785398",
     "exception": false,
     "start_time": "2024-05-28T15:32:43.144221",
     "status": "completed"
    },
    "tags": []
   },
   "outputs": [],
   "source": [
    "# Создание и обучение модели\n",
    "model = LSTMClassifier(input_dim=train_texts.shape[1], hidden_dim=256, output_dim=len(le.classes_))\n",
    "\n",
    "# Перемещение модели на GPU, если он доступен\n",
    "device = torch.device('cuda' if torch.cuda.is_available() else 'cpu')\n",
    "model = model.to(device)\n",
    "\n",
    "criterion = nn.CrossEntropyLoss()\n",
    "optimizer = torch.optim.Adam(model.parameters(), lr=0.001)\n",
    "\n",
    "train_losses = []\n",
    "val_losses = []\n"
   ]
  },
  {
   "cell_type": "code",
   "execution_count": 14,
   "id": "7d861291",
   "metadata": {
    "execution": {
     "iopub.execute_input": "2024-05-28T15:32:45.803357Z",
     "iopub.status.busy": "2024-05-28T15:32:45.802631Z",
     "iopub.status.idle": "2024-05-28T15:32:45.808526Z",
     "shell.execute_reply": "2024-05-28T15:32:45.807217Z"
    },
    "papermill": {
     "duration": 0.017791,
     "end_time": "2024-05-28T15:32:45.811045",
     "exception": false,
     "start_time": "2024-05-28T15:32:45.793254",
     "status": "completed"
    },
    "tags": []
   },
   "outputs": [],
   "source": [
    "n_epoches = 20"
   ]
  },
  {
   "cell_type": "code",
   "execution_count": 15,
   "id": "4ce0b541",
   "metadata": {
    "execution": {
     "iopub.execute_input": "2024-05-28T15:32:45.829084Z",
     "iopub.status.busy": "2024-05-28T15:32:45.828443Z",
     "iopub.status.idle": "2024-05-28T15:33:33.110576Z",
     "shell.execute_reply": "2024-05-28T15:33:33.109378Z"
    },
    "papermill": {
     "duration": 47.29582,
     "end_time": "2024-05-28T15:33:33.114974",
     "exception": false,
     "start_time": "2024-05-28T15:32:45.819154",
     "status": "completed"
    },
    "tags": []
   },
   "outputs": [
    {
     "name": "stderr",
     "output_type": "stream",
     "text": [
      "100%|██████████| 118/118 [00:02<00:00, 42.28it/s]\n",
      "100%|██████████| 31/31 [00:00<00:00, 392.30it/s]\n"
     ]
    },
    {
     "name": "stdout",
     "output_type": "stream",
     "text": [
      "Epoch 1, Train Loss: 1.743101375335354, Val Loss: 0.9829068539604064\n"
     ]
    },
    {
     "name": "stderr",
     "output_type": "stream",
     "text": [
      "100%|██████████| 118/118 [00:02<00:00, 52.06it/s]\n",
      "100%|██████████| 31/31 [00:00<00:00, 498.28it/s]\n"
     ]
    },
    {
     "name": "stdout",
     "output_type": "stream",
     "text": [
      "Epoch 2, Train Loss: 0.7951328966577175, Val Loss: 0.7196445993838771\n"
     ]
    },
    {
     "name": "stderr",
     "output_type": "stream",
     "text": [
      "100%|██████████| 118/118 [00:02<00:00, 52.42it/s]\n",
      "100%|██████████| 31/31 [00:00<00:00, 511.05it/s]\n"
     ]
    },
    {
     "name": "stdout",
     "output_type": "stream",
     "text": [
      "Epoch 3, Train Loss: 0.5382663973180924, Val Loss: 0.5417475556173632\n"
     ]
    },
    {
     "name": "stderr",
     "output_type": "stream",
     "text": [
      "100%|██████████| 118/118 [00:02<00:00, 53.25it/s]\n",
      "100%|██████████| 31/31 [00:00<00:00, 513.90it/s]\n"
     ]
    },
    {
     "name": "stdout",
     "output_type": "stream",
     "text": [
      "Epoch 4, Train Loss: 0.38010675245422426, Val Loss: 0.4327377446236149\n"
     ]
    },
    {
     "name": "stderr",
     "output_type": "stream",
     "text": [
      "100%|██████████| 118/118 [00:02<00:00, 52.25it/s]\n",
      "100%|██████████| 31/31 [00:00<00:00, 514.26it/s]\n"
     ]
    },
    {
     "name": "stdout",
     "output_type": "stream",
     "text": [
      "Epoch 5, Train Loss: 0.2774157542419636, Val Loss: 0.36372442375267705\n"
     ]
    },
    {
     "name": "stderr",
     "output_type": "stream",
     "text": [
      "100%|██████████| 118/118 [00:02<00:00, 52.66it/s]\n",
      "100%|██████████| 31/31 [00:00<00:00, 567.55it/s]\n"
     ]
    },
    {
     "name": "stdout",
     "output_type": "stream",
     "text": [
      "Epoch 6, Train Loss: 0.20991153604650903, Val Loss: 0.310683517446441\n"
     ]
    },
    {
     "name": "stderr",
     "output_type": "stream",
     "text": [
      "100%|██████████| 118/118 [00:02<00:00, 53.39it/s]\n",
      "100%|██████████| 31/31 [00:00<00:00, 538.70it/s]\n"
     ]
    },
    {
     "name": "stdout",
     "output_type": "stream",
     "text": [
      "Epoch 7, Train Loss: 0.16144935077971825, Val Loss: 0.27580934817031505\n"
     ]
    },
    {
     "name": "stderr",
     "output_type": "stream",
     "text": [
      "100%|██████████| 118/118 [00:02<00:00, 53.18it/s]\n",
      "100%|██████████| 31/31 [00:00<00:00, 531.80it/s]\n"
     ]
    },
    {
     "name": "stdout",
     "output_type": "stream",
     "text": [
      "Epoch 8, Train Loss: 0.1236405022821184, Val Loss: 0.2524928154964601\n"
     ]
    },
    {
     "name": "stderr",
     "output_type": "stream",
     "text": [
      "100%|██████████| 118/118 [00:02<00:00, 52.80it/s]\n",
      "100%|██████████| 31/31 [00:00<00:00, 538.05it/s]\n"
     ]
    },
    {
     "name": "stdout",
     "output_type": "stream",
     "text": [
      "Epoch 9, Train Loss: 0.09562520408939759, Val Loss: 0.23712038302854185\n"
     ]
    },
    {
     "name": "stderr",
     "output_type": "stream",
     "text": [
      "100%|██████████| 118/118 [00:02<00:00, 51.85it/s]\n",
      "100%|██████████| 31/31 [00:00<00:00, 459.26it/s]\n"
     ]
    },
    {
     "name": "stdout",
     "output_type": "stream",
     "text": [
      "Epoch 10, Train Loss: 0.07572692179641986, Val Loss: 0.2229157942497442\n"
     ]
    },
    {
     "name": "stderr",
     "output_type": "stream",
     "text": [
      "100%|██████████| 118/118 [00:02<00:00, 52.96it/s]\n",
      "100%|██████████| 31/31 [00:00<00:00, 317.69it/s]\n"
     ]
    },
    {
     "name": "stdout",
     "output_type": "stream",
     "text": [
      "Epoch 11, Train Loss: 0.060199364617277505, Val Loss: 0.21447716031463876\n"
     ]
    },
    {
     "name": "stderr",
     "output_type": "stream",
     "text": [
      "100%|██████████| 118/118 [00:02<00:00, 52.79it/s]\n",
      "100%|██████████| 31/31 [00:00<00:00, 476.40it/s]\n"
     ]
    },
    {
     "name": "stdout",
     "output_type": "stream",
     "text": [
      "Epoch 12, Train Loss: 0.048860657646447044, Val Loss: 0.20732551716989087\n"
     ]
    },
    {
     "name": "stderr",
     "output_type": "stream",
     "text": [
      "100%|██████████| 118/118 [00:02<00:00, 51.86it/s]\n",
      "100%|██████████| 31/31 [00:00<00:00, 467.69it/s]\n"
     ]
    },
    {
     "name": "stdout",
     "output_type": "stream",
     "text": [
      "Epoch 13, Train Loss: 0.03945501331216261, Val Loss: 0.20883417134023002\n"
     ]
    },
    {
     "name": "stderr",
     "output_type": "stream",
     "text": [
      "100%|██████████| 118/118 [00:02<00:00, 47.72it/s]\n",
      "100%|██████████| 31/31 [00:00<00:00, 469.87it/s]\n"
     ]
    },
    {
     "name": "stdout",
     "output_type": "stream",
     "text": [
      "Epoch 14, Train Loss: 0.03307942145748727, Val Loss: 0.20023677957754943\n"
     ]
    },
    {
     "name": "stderr",
     "output_type": "stream",
     "text": [
      "100%|██████████| 118/118 [00:02<00:00, 50.51it/s]\n",
      "100%|██████████| 31/31 [00:00<00:00, 409.50it/s]\n"
     ]
    },
    {
     "name": "stdout",
     "output_type": "stream",
     "text": [
      "Epoch 15, Train Loss: 0.027441212370739144, Val Loss: 0.19966061180457473\n"
     ]
    },
    {
     "name": "stderr",
     "output_type": "stream",
     "text": [
      "100%|██████████| 118/118 [00:02<00:00, 50.97it/s]\n",
      "100%|██████████| 31/31 [00:00<00:00, 404.67it/s]\n"
     ]
    },
    {
     "name": "stdout",
     "output_type": "stream",
     "text": [
      "Epoch 16, Train Loss: 0.022660166475037904, Val Loss: 0.19889515096081362\n"
     ]
    },
    {
     "name": "stderr",
     "output_type": "stream",
     "text": [
      "100%|██████████| 118/118 [00:02<00:00, 52.93it/s]\n",
      "100%|██████████| 31/31 [00:00<00:00, 489.51it/s]\n"
     ]
    },
    {
     "name": "stdout",
     "output_type": "stream",
     "text": [
      "Epoch 17, Train Loss: 0.019333656002191228, Val Loss: 0.19974943476488755\n"
     ]
    },
    {
     "name": "stderr",
     "output_type": "stream",
     "text": [
      "100%|██████████| 118/118 [00:02<00:00, 53.02it/s]\n",
      "100%|██████████| 31/31 [00:00<00:00, 518.43it/s]\n"
     ]
    },
    {
     "name": "stdout",
     "output_type": "stream",
     "text": [
      "Epoch 18, Train Loss: 0.01656938145455477, Val Loss: 0.19973221075751127\n"
     ]
    },
    {
     "name": "stderr",
     "output_type": "stream",
     "text": [
      "100%|██████████| 118/118 [00:02<00:00, 53.32it/s]\n",
      "100%|██████████| 31/31 [00:00<00:00, 509.28it/s]\n"
     ]
    },
    {
     "name": "stdout",
     "output_type": "stream",
     "text": [
      "Epoch 19, Train Loss: 0.01429657727752228, Val Loss: 0.20136780113041883\n"
     ]
    },
    {
     "name": "stderr",
     "output_type": "stream",
     "text": [
      "100%|██████████| 118/118 [00:02<00:00, 51.18it/s]\n",
      "100%|██████████| 31/31 [00:00<00:00, 521.70it/s]"
     ]
    },
    {
     "name": "stdout",
     "output_type": "stream",
     "text": [
      "Epoch 20, Train Loss: 0.012610925526764655, Val Loss: 0.20099198997711704\n"
     ]
    },
    {
     "name": "stderr",
     "output_type": "stream",
     "text": [
      "\n"
     ]
    }
   ],
   "source": [
    "for epoch in range(n_epoches):\n",
    "    train_loss = 0\n",
    "    val_loss = 0\n",
    "    # Обучение\n",
    "    model.train()\n",
    "    for i, (texts, labels) in enumerate(tqdm(train_loader)):\n",
    "        # Перемещение данных на тот же устройство, что и модель\n",
    "        texts = texts.float().to(device)\n",
    "        labels = labels.to(device)\n",
    "\n",
    "        outputs = model(texts)\n",
    "        loss = criterion(outputs, labels)\n",
    "\n",
    "        optimizer.zero_grad()\n",
    "        loss.backward()\n",
    "        optimizer.step()\n",
    "\n",
    "        train_loss += loss.item()\n",
    "\n",
    "    # Валидация\n",
    "    model.eval()\n",
    "    with torch.no_grad():\n",
    "        for i, (texts, labels) in enumerate(tqdm(test_loader)):\n",
    "            texts = texts.float().to(device)\n",
    "            labels = labels.to(device)\n",
    "\n",
    "            outputs = model(texts)\n",
    "            loss = criterion(outputs, labels)\n",
    "\n",
    "            val_loss += loss.item()\n",
    "\n",
    "    train_loss /= len(train_loader)\n",
    "    val_loss /= len(test_loader)\n",
    "    train_losses.append(train_loss)\n",
    "    val_losses.append(val_loss)\n",
    "\n",
    "    print(f'Epoch {epoch+1}, Train Loss: {train_loss}, Val Loss: {val_loss}')"
   ]
  },
  {
   "cell_type": "code",
   "execution_count": 16,
   "id": "b247410a",
   "metadata": {
    "execution": {
     "iopub.execute_input": "2024-05-28T15:33:33.198881Z",
     "iopub.status.busy": "2024-05-28T15:33:33.198497Z",
     "iopub.status.idle": "2024-05-28T15:33:33.488819Z",
     "shell.execute_reply": "2024-05-28T15:33:33.487724Z"
    },
    "papermill": {
     "duration": 0.335039,
     "end_time": "2024-05-28T15:33:33.491262",
     "exception": false,
     "start_time": "2024-05-28T15:33:33.156223",
     "status": "completed"
    },
    "tags": []
   },
   "outputs": [
    {
     "data": {
      "image/png": "[encoded data removed]",
      "text/plain": [
       "<Figure size 640x480 with 1 Axes>"
      ]
     },
     "metadata": {},
     "output_type": "display_data"
    }
   ],
   "source": [
    "# Построение графика потерь\n",
    "plt.plot(range(1, n_epoches + 1), train_losses, label='Train Loss')\n",
    "plt.plot(range(1, n_epoches + 1), val_losses, label='Val Loss')\n",
    "plt.xlabel('Epoch')\n",
    "plt.ylabel('Loss')\n",
    "plt.legend()\n",
    "plt.show()\n"
   ]
  },
  {
   "cell_type": "code",
   "execution_count": 17,
   "id": "d1331e83",
   "metadata": {
    "execution": {
     "iopub.execute_input": "2024-05-28T15:33:33.575842Z",
     "iopub.status.busy": "2024-05-28T15:33:33.575446Z",
     "iopub.status.idle": "2024-05-28T15:33:33.654928Z",
     "shell.execute_reply": "2024-05-28T15:33:33.653786Z"
    },
    "papermill": {
     "duration": 0.125409,
     "end_time": "2024-05-28T15:33:33.657797",
     "exception": false,
     "start_time": "2024-05-28T15:33:33.532388",
     "status": "completed"
    },
    "tags": []
   },
   "outputs": [
    {
     "name": "stdout",
     "output_type": "stream",
     "text": [
      "0.7717051334579828\n",
      "(0.9563212502568768, 0.9591836734693877, 0.9569546514788144, None)\n"
     ]
    },
    {
     "name": "stderr",
     "output_type": "stream",
     "text": [
      "/opt/conda/lib/python3.10/site-packages/sklearn/metrics/_classification.py:1344: UndefinedMetricWarning: Precision and F-score are ill-defined and being set to 0.0 in labels with no predicted samples. Use `zero_division` parameter to control this behavior.\n",
      "  _warn_prf(average, modifier, msg_start, len(result))\n"
     ]
    }
   ],
   "source": [
    "# Прогнозирование на тестовом наборе\n",
    "predictions = []\n",
    "with torch.no_grad():\n",
    "    for i, (input_ids, labels) in enumerate(test_loader):\n",
    "        input_ids = input_ids.float().to(device)\n",
    "\n",
    "        outputs = model(input_ids)\n",
    "        _, predicted = torch.max(outputs.data, 1)\n",
    "        predictions.extend(predicted.cpu().numpy())\n",
    "\n",
    "# Перевод меток обратно в исходные интенты\n",
    "predicted_intents = le.inverse_transform(predictions)\n",
    "\n",
    "print(balanced_accuracy_score(test_labels, predictions))\n",
    "print(precision_recall_fscore_support(test_labels, predictions, average = 'weighted'))"
   ]
  },
  {
   "cell_type": "code",
   "execution_count": 18,
   "id": "c1cf16b4",
   "metadata": {
    "execution": {
     "iopub.execute_input": "2024-05-28T15:33:33.745863Z",
     "iopub.status.busy": "2024-05-28T15:33:33.745457Z",
     "iopub.status.idle": "2024-05-28T15:33:35.152149Z",
     "shell.execute_reply": "2024-05-28T15:33:35.151048Z"
    },
    "papermill": {
     "duration": 1.454751,
     "end_time": "2024-05-28T15:33:35.155759",
     "exception": false,
     "start_time": "2024-05-28T15:33:33.701008",
     "status": "completed"
    },
    "tags": []
   },
   "outputs": [
    {
     "data": {
      "image/png": "[encoded data removed]",
      "text/plain": [
       "<Figure size 1000x700 with 2 Axes>"
      ]
     },
     "metadata": {},
     "output_type": "display_data"
    }
   ],
   "source": [
    "# Построение confusion matrix\n",
    "labels = data['intent'].unique()  # получите уникальные метки классов\n",
    "cm = confusion_matrix(test['intent'], predicted_intents, labels=labels)\n",
    "plt.figure(figsize=(10,7))\n",
    "sns.heatmap(cm, annot=True, fmt='d', cmap='Blues', xticklabels=labels, yticklabels=labels)\n",
    "plt.xlabel('Predicted')\n",
    "plt.ylabel('Truth')\n",
    "plt.title(f'Logistic Regression')\n",
    "plt.show()"
   ]
  },
  {
   "cell_type": "code",
   "execution_count": 19,
   "id": "05acf862",
   "metadata": {
    "execution": {
     "iopub.execute_input": "2024-05-28T15:33:35.244584Z",
     "iopub.status.busy": "2024-05-28T15:33:35.244181Z",
     "iopub.status.idle": "2024-05-28T15:33:35.251093Z",
     "shell.execute_reply": "2024-05-28T15:33:35.249871Z"
    },
    "papermill": {
     "duration": 0.054181,
     "end_time": "2024-05-28T15:33:35.253439",
     "exception": false,
     "start_time": "2024-05-28T15:33:35.199258",
     "status": "completed"
    },
    "tags": []
   },
   "outputs": [],
   "source": [
    "def plotCM(test, predictions, name:'str'):\n",
    "    # Построение confusion matrix\n",
    "    labels = test['intent'].unique()  # получите уникальные метки классов\n",
    "    cm = confusion_matrix(test['intent'], predictions, labels=labels)\n",
    "    plt.figure(figsize=(10,7))\n",
    "    sns.heatmap(cm, annot=True, fmt='d', cmap='Blues', xticklabels=labels, yticklabels=labels)\n",
    "    plt.xlabel('Predicted')\n",
    "    plt.ylabel('Truth')\n",
    "    plt.title(f'{name}')\n",
    "    plt.show()"
   ]
  },
  {
   "cell_type": "code",
   "execution_count": 20,
   "id": "1a91d4b9",
   "metadata": {
    "execution": {
     "iopub.execute_input": "2024-05-28T15:33:35.343898Z",
     "iopub.status.busy": "2024-05-28T15:33:35.342898Z",
     "iopub.status.idle": "2024-05-28T15:33:37.023349Z",
     "shell.execute_reply": "2024-05-28T15:33:37.022026Z"
    },
    "papermill": {
     "duration": 1.728912,
     "end_time": "2024-05-28T15:33:37.026291",
     "exception": false,
     "start_time": "2024-05-28T15:33:35.297379",
     "status": "completed"
    },
    "tags": []
   },
   "outputs": [
    {
     "data": {
      "image/png": "[encoded data removed]",
      "text/plain": [
       "<Figure size 1000x700 with 2 Axes>"
      ]
     },
     "metadata": {},
     "output_type": "display_data"
    }
   ],
   "source": [
    "plotCM(test, predicted_intents,'LSTM+TF-IDF')"
   ]
  },
  {
   "cell_type": "markdown",
   "id": "792827c1",
   "metadata": {
    "papermill": {
     "duration": 0.046969,
     "end_time": "2024-05-28T15:33:37.119900",
     "exception": false,
     "start_time": "2024-05-28T15:33:37.072931",
     "status": "completed"
    },
    "tags": []
   },
   "source": [
    "M-USE"
   ]
  },
  {
   "cell_type": "code",
   "execution_count": 21,
   "id": "4232ec0f",
   "metadata": {
    "execution": {
     "iopub.execute_input": "2024-05-28T15:33:37.281595Z",
     "iopub.status.busy": "2024-05-28T15:33:37.281205Z",
     "iopub.status.idle": "2024-05-28T15:33:37.976282Z",
     "shell.execute_reply": "2024-05-28T15:33:37.974948Z"
    },
    "papermill": {
     "duration": 0.810812,
     "end_time": "2024-05-28T15:33:37.979107",
     "exception": false,
     "start_time": "2024-05-28T15:33:37.168295",
     "status": "completed"
    },
    "tags": []
   },
   "outputs": [],
   "source": [
    "import torch\n",
    "from transformers import AutoTokenizer, AutoModel\n",
    "from sklearn.model_selection import train_test_split\n",
    "from sklearn.metrics import precision_recall_fscore_support, balanced_accuracy_score\n",
    "import pandas as pd\n",
    "import torch\n",
    "from torch.utils.data import DataLoader, Dataset, random_split\n",
    "from transformers import AutoTokenizer, AutoModel\n",
    "from sklearn.preprocessing import LabelEncoder\n",
    "import torch.nn as nn\n",
    "import torch.optim as optim\n",
    "import matplotlib.pyplot as plt\n",
    "from tqdm import tqdm"
   ]
  },
  {
   "cell_type": "code",
   "execution_count": 22,
   "id": "d8cc69c8",
   "metadata": {
    "execution": {
     "iopub.execute_input": "2024-05-28T15:33:38.074040Z",
     "iopub.status.busy": "2024-05-28T15:33:38.073622Z",
     "iopub.status.idle": "2024-05-28T15:33:38.082810Z",
     "shell.execute_reply": "2024-05-28T15:33:38.081757Z"
    },
    "papermill": {
     "duration": 0.060237,
     "end_time": "2024-05-28T15:33:38.085256",
     "exception": false,
     "start_time": "2024-05-28T15:33:38.025019",
     "status": "completed"
    },
    "tags": []
   },
   "outputs": [],
   "source": [
    "# Создание пользовательского Dataset класса\n",
    "class TextDataset(Dataset):\n",
    "    def __init__(self, embeddings, labels):\n",
    "        self.embeddings = embeddings\n",
    "        self.labels = labels\n",
    "\n",
    "    def __len__(self):\n",
    "        return len(self.labels)\n",
    "\n",
    "    def __getitem__(self, idx):\n",
    "        return self.embeddings[idx], self.labels[idx]\n",
    "    \n",
    "# Определение модели LSTM\n",
    "class LSTMClassifier(nn.Module):\n",
    "    def __init__(self, input_dim, hidden_dim, output_dim):\n",
    "        super(LSTMClassifier, self).__init__()\n",
    "        self.lstm = nn.LSTM(input_dim, hidden_dim, batch_first=True)\n",
    "        self.fc = nn.Linear(hidden_dim, output_dim)\n",
    "\n",
    "    def forward(self, x):\n",
    "        _, (hn, _) = self.lstm(x.unsqueeze(1))\n",
    "        out = self.fc(hn[-1])\n",
    "        return out"
   ]
  },
  {
   "cell_type": "code",
   "execution_count": 23,
   "id": "7adbf20e",
   "metadata": {
    "execution": {
     "iopub.execute_input": "2024-05-28T15:33:38.184578Z",
     "iopub.status.busy": "2024-05-28T15:33:38.184167Z",
     "iopub.status.idle": "2024-05-28T15:33:44.006118Z",
     "shell.execute_reply": "2024-05-28T15:33:44.005013Z"
    },
    "papermill": {
     "duration": 5.874011,
     "end_time": "2024-05-28T15:33:44.008892",
     "exception": false,
     "start_time": "2024-05-28T15:33:38.134881",
     "status": "completed"
    },
    "tags": []
   },
   "outputs": [
    {
     "data": {
      "application/vnd.jupyter.widget-view+json": {
       "model_id": "642ae046c7e34d54b45cafc85f66d9bb",
       "version_major": 2,
       "version_minor": 0
      },
      "text/plain": [
       "tokenizer_config.json:   0%|          | 0.00/480 [00:00<?, ?B/s]"
      ]
     },
     "metadata": {},
     "output_type": "display_data"
    },
    {
     "data": {
      "application/vnd.jupyter.widget-view+json": {
       "model_id": "b6ca555d8c0a4597a4db9fe34a3846a2",
       "version_major": 2,
       "version_minor": 0
      },
      "text/plain": [
       "config.json:   0%|          | 0.00/645 [00:00<?, ?B/s]"
      ]
     },
     "metadata": {},
     "output_type": "display_data"
    },
    {
     "data": {
      "application/vnd.jupyter.widget-view+json": {
       "model_id": "4b0bd39c2bc94223b02a92f1b3f44073",
       "version_major": 2,
       "version_minor": 0
      },
      "text/plain": [
       "tokenizer.json:   0%|          | 0.00/9.08M [00:00<?, ?B/s]"
      ]
     },
     "metadata": {},
     "output_type": "display_data"
    },
    {
     "data": {
      "application/vnd.jupyter.widget-view+json": {
       "model_id": "f63a05d53c174aea8c97f4841cd4dfc5",
       "version_major": 2,
       "version_minor": 0
      },
      "text/plain": [
       "special_tokens_map.json:   0%|          | 0.00/239 [00:00<?, ?B/s]"
      ]
     },
     "metadata": {},
     "output_type": "display_data"
    },
    {
     "data": {
      "application/vnd.jupyter.widget-view+json": {
       "model_id": "726cbb6b69c0447e8ad12bdefb174e6b",
       "version_major": 2,
       "version_minor": 0
      },
      "text/plain": [
       "model.safetensors:   0%|          | 0.00/471M [00:00<?, ?B/s]"
      ]
     },
     "metadata": {},
     "output_type": "display_data"
    }
   ],
   "source": [
    "# Load tokenizer and model\n",
    "tokenizer = AutoTokenizer.from_pretrained(\"sentence-transformers/paraphrase-multilingual-MiniLM-L12-v2\")\n",
    "model = AutoModel.from_pretrained(\"sentence-transformers/paraphrase-multilingual-MiniLM-L12-v2\")\n"
   ]
  },
  {
   "cell_type": "code",
   "execution_count": 24,
   "id": "1177ea5a",
   "metadata": {
    "execution": {
     "iopub.execute_input": "2024-05-28T15:33:44.111281Z",
     "iopub.status.busy": "2024-05-28T15:33:44.110675Z",
     "iopub.status.idle": "2024-05-28T15:36:35.316634Z",
     "shell.execute_reply": "2024-05-28T15:36:35.315330Z"
    },
    "papermill": {
     "duration": 171.259384,
     "end_time": "2024-05-28T15:36:35.319476",
     "exception": false,
     "start_time": "2024-05-28T15:33:44.060092",
     "status": "completed"
    },
    "tags": []
   },
   "outputs": [],
   "source": [
    "# Tokenize and encode the text data\n",
    "train_encodings = tokenizer(train['text'].tolist(), truncation=True, padding=True, return_tensors=\"pt\")\n",
    "test_encodings = tokenizer(test['text'].tolist(), truncation=True, padding=True, return_tensors=\"pt\")\n",
    "\n",
    "# Extract embeddings\n",
    "with torch.no_grad():\n",
    "    train_embeddings = model(**train_encodings).pooler_output\n",
    "    test_embeddings = model(**test_encodings).pooler_output\n",
    "\n",
    "le = LabelEncoder()\n",
    "\n",
    "# Преобразование меток в числовые значения\n",
    "train_labels = le.fit_transform(train['intent'])\n",
    "test_labels = le.transform(test['intent'])\n",
    "\n",
    "\n",
    "# Преобразование массивов numpy в тензоры PyTorch перед передачей в TextDataset\n",
    "train_dataset = TextDataset(train_embeddings, torch.tensor(train_labels))\n",
    "test_dataset = TextDataset(test_embeddings, torch.tensor(test_labels))\n",
    "\n",
    "train_loader = DataLoader(train_dataset, batch_size=32, shuffle=True)\n",
    "test_loader = DataLoader(test_dataset, batch_size=32)"
   ]
  },
  {
   "cell_type": "code",
   "execution_count": 25,
   "id": "cbd09c2b",
   "metadata": {
    "execution": {
     "iopub.execute_input": "2024-05-28T15:36:35.417037Z",
     "iopub.status.busy": "2024-05-28T15:36:35.416015Z",
     "iopub.status.idle": "2024-05-28T15:36:35.453449Z",
     "shell.execute_reply": "2024-05-28T15:36:35.451854Z"
    },
    "papermill": {
     "duration": 0.088933,
     "end_time": "2024-05-28T15:36:35.456338",
     "exception": false,
     "start_time": "2024-05-28T15:36:35.367405",
     "status": "completed"
    },
    "tags": []
   },
   "outputs": [],
   "source": [
    "# Создание и обучение модели\n",
    "model = LSTMClassifier(input_dim=train_embeddings.shape[1], hidden_dim=256, output_dim=len(le.classes_))\n",
    "\n",
    "# Перемещение модели на GPU, если он доступен\n",
    "device = torch.device('cuda' if torch.cuda.is_available() else 'cpu')\n",
    "model = model.to(device)\n",
    "\n",
    "criterion = nn.CrossEntropyLoss()\n",
    "optimizer = optim.Adam(model.parameters(), lr=0.001)\n",
    "\n",
    "train_losses = []\n",
    "val_losses = []\n",
    "\n",
    "n_epoches = 25\n"
   ]
  },
  {
   "cell_type": "code",
   "execution_count": 26,
   "id": "3610d034",
   "metadata": {
    "execution": {
     "iopub.execute_input": "2024-05-28T15:36:35.554624Z",
     "iopub.status.busy": "2024-05-28T15:36:35.554198Z",
     "iopub.status.idle": "2024-05-28T15:37:01.366339Z",
     "shell.execute_reply": "2024-05-28T15:37:01.356242Z"
    },
    "papermill": {
     "duration": 25.864736,
     "end_time": "2024-05-28T15:37:01.370169",
     "exception": false,
     "start_time": "2024-05-28T15:36:35.505433",
     "status": "completed"
    },
    "tags": []
   },
   "outputs": [
    {
     "name": "stderr",
     "output_type": "stream",
     "text": [
      "100%|██████████| 118/118 [00:01<00:00, 116.55it/s]\n",
      "100%|██████████| 31/31 [00:00<00:00, 641.55it/s]\n"
     ]
    },
    {
     "name": "stdout",
     "output_type": "stream",
     "text": [
      "Epoch 1, Train Loss: 1.1425380176406796, Val Loss: 0.6969728469848633\n"
     ]
    },
    {
     "name": "stderr",
     "output_type": "stream",
     "text": [
      "100%|██████████| 118/118 [00:00<00:00, 121.09it/s]\n",
      "100%|██████████| 31/31 [00:00<00:00, 704.94it/s]\n"
     ]
    },
    {
     "name": "stdout",
     "output_type": "stream",
     "text": [
      "Epoch 2, Train Loss: 0.5004334315910177, Val Loss: 0.47153443338409545\n"
     ]
    },
    {
     "name": "stderr",
     "output_type": "stream",
     "text": [
      "100%|██████████| 118/118 [00:00<00:00, 124.36it/s]\n",
      "100%|██████████| 31/31 [00:00<00:00, 706.92it/s]\n"
     ]
    },
    {
     "name": "stdout",
     "output_type": "stream",
     "text": [
      "Epoch 3, Train Loss: 0.3451782975472131, Val Loss: 0.3704394342437867\n"
     ]
    },
    {
     "name": "stderr",
     "output_type": "stream",
     "text": [
      "100%|██████████| 118/118 [00:00<00:00, 120.51it/s]\n",
      "100%|██████████| 31/31 [00:00<00:00, 609.43it/s]\n"
     ]
    },
    {
     "name": "stdout",
     "output_type": "stream",
     "text": [
      "Epoch 4, Train Loss: 0.26061904048389295, Val Loss: 0.31568035495377356\n"
     ]
    },
    {
     "name": "stderr",
     "output_type": "stream",
     "text": [
      "100%|██████████| 118/118 [00:00<00:00, 122.44it/s]\n",
      "100%|██████████| 31/31 [00:00<00:00, 746.88it/s]\n"
     ]
    },
    {
     "name": "stdout",
     "output_type": "stream",
     "text": [
      "Epoch 5, Train Loss: 0.21164912902513297, Val Loss: 0.2783355089204927\n"
     ]
    },
    {
     "name": "stderr",
     "output_type": "stream",
     "text": [
      "100%|██████████| 118/118 [00:00<00:00, 119.34it/s]\n",
      "100%|██████████| 31/31 [00:00<00:00, 583.88it/s]\n"
     ]
    },
    {
     "name": "stdout",
     "output_type": "stream",
     "text": [
      "Epoch 6, Train Loss: 0.1815069056573813, Val Loss: 0.25908744215003904\n"
     ]
    },
    {
     "name": "stderr",
     "output_type": "stream",
     "text": [
      "100%|██████████| 118/118 [00:00<00:00, 119.95it/s]\n",
      "100%|██████████| 31/31 [00:00<00:00, 666.08it/s]\n"
     ]
    },
    {
     "name": "stdout",
     "output_type": "stream",
     "text": [
      "Epoch 7, Train Loss: 0.15796772460058583, Val Loss: 0.23846249558752583\n"
     ]
    },
    {
     "name": "stderr",
     "output_type": "stream",
     "text": [
      "100%|██████████| 118/118 [00:00<00:00, 123.18it/s]\n",
      "100%|██████████| 31/31 [00:00<00:00, 702.29it/s]\n"
     ]
    },
    {
     "name": "stdout",
     "output_type": "stream",
     "text": [
      "Epoch 8, Train Loss: 0.13689814597936506, Val Loss: 0.2229869515905457\n"
     ]
    },
    {
     "name": "stderr",
     "output_type": "stream",
     "text": [
      "100%|██████████| 118/118 [00:00<00:00, 122.25it/s]\n",
      "100%|██████████| 31/31 [00:00<00:00, 712.71it/s]\n"
     ]
    },
    {
     "name": "stdout",
     "output_type": "stream",
     "text": [
      "Epoch 9, Train Loss: 0.126430734037027, Val Loss: 0.21373483009876743\n"
     ]
    },
    {
     "name": "stderr",
     "output_type": "stream",
     "text": [
      "100%|██████████| 118/118 [00:00<00:00, 119.87it/s]\n",
      "100%|██████████| 31/31 [00:00<00:00, 598.38it/s]\n"
     ]
    },
    {
     "name": "stdout",
     "output_type": "stream",
     "text": [
      "Epoch 10, Train Loss: 0.11129058521809214, Val Loss: 0.20663063702804427\n"
     ]
    },
    {
     "name": "stderr",
     "output_type": "stream",
     "text": [
      "100%|██████████| 118/118 [00:00<00:00, 120.53it/s]\n",
      "100%|██████████| 31/31 [00:00<00:00, 668.78it/s]\n"
     ]
    },
    {
     "name": "stdout",
     "output_type": "stream",
     "text": [
      "Epoch 11, Train Loss: 0.10039821060342809, Val Loss: 0.20372291774519027\n"
     ]
    },
    {
     "name": "stderr",
     "output_type": "stream",
     "text": [
      "100%|██████████| 118/118 [00:00<00:00, 123.33it/s]\n",
      "100%|██████████| 31/31 [00:00<00:00, 714.37it/s]\n"
     ]
    },
    {
     "name": "stdout",
     "output_type": "stream",
     "text": [
      "Epoch 12, Train Loss: 0.09342545830502601, Val Loss: 0.19741542817604157\n"
     ]
    },
    {
     "name": "stderr",
     "output_type": "stream",
     "text": [
      "100%|██████████| 118/118 [00:00<00:00, 125.02it/s]\n",
      "100%|██████████| 31/31 [00:00<00:00, 694.06it/s]\n"
     ]
    },
    {
     "name": "stdout",
     "output_type": "stream",
     "text": [
      "Epoch 13, Train Loss: 0.08246873769025176, Val Loss: 0.1840518455231382\n"
     ]
    },
    {
     "name": "stderr",
     "output_type": "stream",
     "text": [
      "100%|██████████| 118/118 [00:00<00:00, 121.05it/s]\n",
      "100%|██████████| 31/31 [00:00<00:00, 720.02it/s]\n"
     ]
    },
    {
     "name": "stdout",
     "output_type": "stream",
     "text": [
      "Epoch 14, Train Loss: 0.07807079710113674, Val Loss: 0.18242476964669843\n"
     ]
    },
    {
     "name": "stderr",
     "output_type": "stream",
     "text": [
      "100%|██████████| 118/118 [00:01<00:00, 115.31it/s]\n",
      "100%|██████████| 31/31 [00:00<00:00, 718.16it/s]\n"
     ]
    },
    {
     "name": "stdout",
     "output_type": "stream",
     "text": [
      "Epoch 15, Train Loss: 0.07093861801313016, Val Loss: 0.1769680716097355\n"
     ]
    },
    {
     "name": "stderr",
     "output_type": "stream",
     "text": [
      "100%|██████████| 118/118 [00:01<00:00, 115.47it/s]\n",
      "100%|██████████| 31/31 [00:00<00:00, 684.57it/s]\n"
     ]
    },
    {
     "name": "stdout",
     "output_type": "stream",
     "text": [
      "Epoch 16, Train Loss: 0.06677239638816376, Val Loss: 0.1769746884463295\n"
     ]
    },
    {
     "name": "stderr",
     "output_type": "stream",
     "text": [
      "100%|██████████| 118/118 [00:00<00:00, 123.54it/s]\n",
      "100%|██████████| 31/31 [00:00<00:00, 740.20it/s]\n"
     ]
    },
    {
     "name": "stdout",
     "output_type": "stream",
     "text": [
      "Epoch 17, Train Loss: 0.060415262766813825, Val Loss: 0.17484028156726591\n"
     ]
    },
    {
     "name": "stderr",
     "output_type": "stream",
     "text": [
      "100%|██████████| 118/118 [00:00<00:00, 123.91it/s]\n",
      "100%|██████████| 31/31 [00:00<00:00, 610.28it/s]\n"
     ]
    },
    {
     "name": "stdout",
     "output_type": "stream",
     "text": [
      "Epoch 18, Train Loss: 0.05290368724401283, Val Loss: 0.1724673798608203\n"
     ]
    },
    {
     "name": "stderr",
     "output_type": "stream",
     "text": [
      "100%|██████████| 118/118 [00:00<00:00, 127.67it/s]\n",
      "100%|██████████| 31/31 [00:00<00:00, 722.62it/s]\n"
     ]
    },
    {
     "name": "stdout",
     "output_type": "stream",
     "text": [
      "Epoch 19, Train Loss: 0.051199140559913495, Val Loss: 0.176204975424034\n"
     ]
    },
    {
     "name": "stderr",
     "output_type": "stream",
     "text": [
      "100%|██████████| 118/118 [00:00<00:00, 122.46it/s]\n",
      "100%|██████████| 31/31 [00:00<00:00, 702.97it/s]\n"
     ]
    },
    {
     "name": "stdout",
     "output_type": "stream",
     "text": [
      "Epoch 20, Train Loss: 0.04851294597768682, Val Loss: 0.16877785673545254\n"
     ]
    },
    {
     "name": "stderr",
     "output_type": "stream",
     "text": [
      "100%|██████████| 118/118 [00:00<00:00, 120.71it/s]\n",
      "100%|██████████| 31/31 [00:00<00:00, 724.31it/s]\n"
     ]
    },
    {
     "name": "stdout",
     "output_type": "stream",
     "text": [
      "Epoch 21, Train Loss: 0.04541093703375151, Val Loss: 0.16997263893004386\n"
     ]
    },
    {
     "name": "stderr",
     "output_type": "stream",
     "text": [
      "100%|██████████| 118/118 [00:00<00:00, 122.42it/s]\n",
      "100%|██████████| 31/31 [00:00<00:00, 693.52it/s]\n"
     ]
    },
    {
     "name": "stdout",
     "output_type": "stream",
     "text": [
      "Epoch 22, Train Loss: 0.043076219432789956, Val Loss: 0.17333139235814732\n"
     ]
    },
    {
     "name": "stderr",
     "output_type": "stream",
     "text": [
      "100%|██████████| 118/118 [00:00<00:00, 124.27it/s]\n",
      "100%|██████████| 31/31 [00:00<00:00, 702.86it/s]\n"
     ]
    },
    {
     "name": "stdout",
     "output_type": "stream",
     "text": [
      "Epoch 23, Train Loss: 0.03821248981817547, Val Loss: 0.16576803878190055\n"
     ]
    },
    {
     "name": "stderr",
     "output_type": "stream",
     "text": [
      "100%|██████████| 118/118 [00:00<00:00, 123.59it/s]\n",
      "100%|██████████| 31/31 [00:00<00:00, 708.21it/s]\n"
     ]
    },
    {
     "name": "stdout",
     "output_type": "stream",
     "text": [
      "Epoch 24, Train Loss: 0.03761801990913227, Val Loss: 0.17722153483379272\n"
     ]
    },
    {
     "name": "stderr",
     "output_type": "stream",
     "text": [
      "100%|██████████| 118/118 [00:00<00:00, 124.47it/s]\n",
      "100%|██████████| 31/31 [00:00<00:00, 732.13it/s]\n"
     ]
    },
    {
     "name": "stdout",
     "output_type": "stream",
     "text": [
      "Epoch 25, Train Loss: 0.03275704231523609, Val Loss: 0.1735606214572345\n"
     ]
    },
    {
     "data": {
      "image/png": "[encoded data removed]",
      "text/plain": [
       "<Figure size 640x480 with 1 Axes>"
      ]
     },
     "metadata": {},
     "output_type": "display_data"
    }
   ],
   "source": [
    "for epoch in range(n_epoches):\n",
    "    train_loss = 0\n",
    "    val_loss = 0\n",
    "    # Обучение\n",
    "    model.train()\n",
    "    for texts, labels in tqdm(train_loader):\n",
    "        # Перемещение данных на тот же устройство, что и модель\n",
    "        texts = texts.float().to(device)\n",
    "        labels = labels.to(device)\n",
    "\n",
    "        outputs = model(texts)\n",
    "        loss = criterion(outputs, labels)\n",
    "\n",
    "        optimizer.zero_grad()\n",
    "        loss.backward()\n",
    "        optimizer.step()\n",
    "\n",
    "        train_loss += loss.item()\n",
    "\n",
    "    # Валидация\n",
    "    model.eval()\n",
    "    with torch.no_grad():\n",
    "        for texts, labels in tqdm(test_loader):\n",
    "            texts = texts.float().to(device)\n",
    "            labels = labels.to(device)\n",
    "\n",
    "            outputs = model(texts)\n",
    "            loss = criterion(outputs, labels)\n",
    "\n",
    "            val_loss += loss.item()\n",
    "\n",
    "    train_loss /= len(train_loader)\n",
    "    val_loss /= len(test_loader)\n",
    "    train_losses.append(train_loss)\n",
    "    val_losses.append(val_loss)\n",
    "    print(f'Epoch {epoch+1}, Train Loss: {train_loss}, Val Loss: {val_loss}')\n",
    "\n",
    "# Построение графика потерь\n",
    "plt.plot(range(1, n_epoches + 1), train_losses, label='Train Loss')\n",
    "plt.plot(range(1, n_epoches + 1), val_losses, label='Val Loss')\n",
    "plt.xlabel('Epoch')\n",
    "plt.ylabel('Loss')\n",
    "plt.legend()\n",
    "plt.show()"
   ]
  },
  {
   "cell_type": "code",
   "execution_count": 27,
   "id": "fe095c97",
   "metadata": {
    "execution": {
     "iopub.execute_input": "2024-05-28T15:37:01.538678Z",
     "iopub.status.busy": "2024-05-28T15:37:01.537565Z",
     "iopub.status.idle": "2024-05-28T15:37:01.617727Z",
     "shell.execute_reply": "2024-05-28T15:37:01.616405Z"
    },
    "papermill": {
     "duration": 0.168287,
     "end_time": "2024-05-28T15:37:01.620760",
     "exception": false,
     "start_time": "2024-05-28T15:37:01.452473",
     "status": "completed"
    },
    "tags": []
   },
   "outputs": [
    {
     "name": "stdout",
     "output_type": "stream",
     "text": [
      "precision_recall_fscore weighted (0.9580834006627862, 0.9591836734693877, 0.9580156205094918, None)\n",
      "balanced_accuracy 0.7800162453698513\n"
     ]
    },
    {
     "name": "stderr",
     "output_type": "stream",
     "text": [
      "/opt/conda/lib/python3.10/site-packages/sklearn/metrics/_classification.py:1344: UndefinedMetricWarning: Precision and F-score are ill-defined and being set to 0.0 in labels with no predicted samples. Use `zero_division` parameter to control this behavior.\n",
      "  _warn_prf(average, modifier, msg_start, len(result))\n"
     ]
    }
   ],
   "source": [
    "# Прогнозирование на тестовом наборе\n",
    "predictions = []\n",
    "with torch.no_grad():\n",
    "    for i, (input_ids, labels) in enumerate(test_loader):\n",
    "        input_ids = input_ids.float().to(device)\n",
    "\n",
    "        outputs = model(input_ids)\n",
    "        _, predicted = torch.max(outputs.data, 1)\n",
    "        predictions.extend(predicted.cpu().numpy())\n",
    "\n",
    "# Перевод меток обратно в исходные интенты\n",
    "predicted_intents = le.inverse_transform(predictions)\n",
    "\n",
    "print(\"precision_recall_fscore weighted\", precision_recall_fscore_support(test['intent'], predicted_intents, average='weighted'))\n",
    "print(\"balanced_accuracy\", balanced_accuracy_score(test['intent'], predicted_intents))"
   ]
  },
  {
   "cell_type": "code",
   "execution_count": 28,
   "id": "3dcf630c",
   "metadata": {
    "execution": {
     "iopub.execute_input": "2024-05-28T15:37:01.799063Z",
     "iopub.status.busy": "2024-05-28T15:37:01.798545Z",
     "iopub.status.idle": "2024-05-28T15:37:03.280549Z",
     "shell.execute_reply": "2024-05-28T15:37:03.279446Z"
    },
    "papermill": {
     "duration": 1.581298,
     "end_time": "2024-05-28T15:37:03.284101",
     "exception": false,
     "start_time": "2024-05-28T15:37:01.702803",
     "status": "completed"
    },
    "tags": []
   },
   "outputs": [
    {
     "data": {
      "image/png": "[encoded data removed]",
      "text/plain": [
       "<Figure size 1000x700 with 2 Axes>"
      ]
     },
     "metadata": {},
     "output_type": "display_data"
    }
   ],
   "source": [
    "plotCM(test, predicted_intents, 'LSTM+M-USE')"
   ]
  }
 ],
 "metadata": {
  "kaggle": {
   "accelerator": "none",
   "dataSources": [
    {
     "datasetId": 284285,
     "sourceId": 585165,
     "sourceType": "datasetVersion"
    }
   ],
   "dockerImageVersionId": 30698,
   "isGpuEnabled": false,
   "isInternetEnabled": true,
   "language": "python",
   "sourceType": "notebook"
  },
  "kernelspec": {
   "display_name": "Python 3",
   "language": "python",
   "name": "python3"
  },
  "language_info": {
   "codemirror_mode": {
    "name": "ipython",
    "version": 3
   },
   "file_extension": ".py",
   "mimetype": "text/x-python",
   "name": "python",
   "nbconvert_exporter": "python",
   "pygments_lexer": "ipython3",
   "version": "3.10.13"
  },
  "papermill": {
   "default_parameters": {},
   "duration": 272.924279,
   "end_time": "2024-05-28T15:37:05.185480",
   "environment_variables": {},
   "exception": null,
   "input_path": "__notebook__.ipynb",
   "output_path": "__notebook__.ipynb",
   "parameters": {},
   "start_time": "2024-05-28T15:32:32.261201",
   "version": "2.5.0"
  },
  "widgets": {
   "application/vnd.jupyter.widget-state+json": {
    "state": {
     "08f6bc1329454fa89ddbc5b6b26796ee": {
      "model_module": "@jupyter-widgets/controls",
      "model_module_version": "1.5.0",
      "model_name": "DescriptionStyleModel",
      "state": {
       "_model_module": "@jupyter-widgets/controls",
       "_model_module_version": "1.5.0",
       "_model_name": "DescriptionStyleModel",
       "_view_count": null,
       "_view_module": "@jupyter-widgets/base",
       "_view_module_version": "1.2.0",
       "_view_name": "StyleView",
       "description_width": ""
      }
     },
     "0919327933d44f3ba2f9b3340cf4c8bc": {
      "model_module": "@jupyter-widgets/controls",
      "model_module_version": "1.5.0",
      "model_name": "FloatProgressModel",
      "state": {
       "_dom_classes": [],
       "_model_module": "@jupyter-widgets/controls",
       "_model_module_version": "1.5.0",
       "_model_name": "FloatProgressModel",
       "_view_count": null,
       "_view_module": "@jupyter-widgets/controls",
       "_view_module_version": "1.5.0",
       "_view_name": "ProgressView",
       "bar_style": "success",
       "description": "",
       "description_tooltip": null,
       "layout": "IPY_MODEL_71fe014990d146a9ac24e25ffa519ae7",
       "max": 9081518.0,
       "min": 0.0,
       "orientation": "horizontal",
       "style": "IPY_MODEL_eb135abf9a844182a4e25273908edaa7",
       "value": 9081518.0
      }
     },
     "0aa43dde1fe74a38bc3b954ecd9969b7": {
      "model_module": "@jupyter-widgets/controls",
      "model_module_version": "1.5.0",
      "model_name": "DescriptionStyleModel",
      "state": {
       "_model_module": "@jupyter-widgets/controls",
       "_model_module_version": "1.5.0",
       "_model_name": "DescriptionStyleModel",
       "_view_count": null,
       "_view_module": "@jupyter-widgets/base",
       "_view_module_version": "1.2.0",
       "_view_name": "StyleView",
       "description_width": ""
      }
     },
     "0b280a7e915444d1b987d74c41ea76fc": {
      "model_module": "@jupyter-widgets/controls",
      "model_module_version": "1.5.0",
      "model_name": "HTMLModel",
      "state": {
       "_dom_classes": [],
       "_model_module": "@jupyter-widgets/controls",
       "_model_module_version": "1.5.0",
       "_model_name": "HTMLModel",
       "_view_count": null,
       "_view_module": "@jupyter-widgets/controls",
       "_view_module_version": "1.5.0",
       "_view_name": "HTMLView",
       "description": "",
       "description_tooltip": null,
       "layout": "IPY_MODEL_31900a86c17f4deb9947ea083f88b181",
       "placeholder": "​",
       "style": "IPY_MODEL_08f6bc1329454fa89ddbc5b6b26796ee",
       "value": " 239/239 [00:00&lt;00:00, 20.6kB/s]"
      }
     },
     "0c50719b5dc84e829735b0b70dd28693": {
      "model_module": "@jupyter-widgets/controls",
      "model_module_version": "1.5.0",
      "model_name": "ProgressStyleModel",
      "state": {
       "_model_module": "@jupyter-widgets/controls",
       "_model_module_version": "1.5.0",
       "_model_name": "ProgressStyleModel",
       "_view_count": null,
       "_view_module": "@jupyter-widgets/base",
       "_view_module_version": "1.2.0",
       "_view_name": "StyleView",
       "bar_color": null,
       "description_width": ""
      }
     },
     "1332ca0338c7420bbb61c1b5df66703d": {
      "model_module": "@jupyter-widgets/controls",
      "model_module_version": "1.5.0",
      "model_name": "HTMLModel",
      "state": {
       "_dom_classes": [],
       "_model_module": "@jupyter-widgets/controls",
       "_model_module_version": "1.5.0",
       "_model_name": "HTMLModel",
       "_view_count": null,
       "_view_module": "@jupyter-widgets/controls",
       "_view_module_version": "1.5.0",
       "_view_name": "HTMLView",
       "description": "",
       "description_tooltip": null,
       "layout": "IPY_MODEL_f335e82f04cb4ac096baadf9d516c2c5",
       "placeholder": "​",
       "style": "IPY_MODEL_3bd0751cfaa34cef8672bd749cb8a0a6",
       "value": " 471M/471M [00:01&lt;00:00, 336MB/s]"
      }
     },
     "1e53070f21b64c9798ff3f3bf42ab87c": {
      "model_module": "@jupyter-widgets/controls",
      "model_module_version": "1.5.0",
      "model_name": "DescriptionStyleModel",
      "state": {
       "_model_module": "@jupyter-widgets/controls",
       "_model_module_version": "1.5.0",
       "_model_name": "DescriptionStyleModel",
       "_view_count": null,
       "_view_module": "@jupyter-widgets/base",
       "_view_module_version": "1.2.0",
       "_view_name": "StyleView",
       "description_width": ""
      }
     },
     "263b985a5e6a4fd18604a06e49322f7e": {
      "model_module": "@jupyter-widgets/controls",
      "model_module_version": "1.5.0",
      "model_name": "FloatProgressModel",
      "state": {
       "_dom_classes": [],
       "_model_module": "@jupyter-widgets/controls",
       "_model_module_version": "1.5.0",
       "_model_name": "FloatProgressModel",
       "_view_count": null,
       "_view_module": "@jupyter-widgets/controls",
       "_view_module_version": "1.5.0",
       "_view_name": "ProgressView",
       "bar_style": "success",
       "description": "",
       "description_tooltip": null,
       "layout": "IPY_MODEL_9472419e4ba2489b87ca1f136e8f142d",
       "max": 645.0,
       "min": 0.0,
       "orientation": "horizontal",
       "style": "IPY_MODEL_31accdab2b714c1fbd16432b54e3ca9f",
       "value": 645.0
      }
     },
     "2f7667217a734495ad0d0c5e53e9e74c": {
      "model_module": "@jupyter-widgets/controls",
      "model_module_version": "1.5.0",
      "model_name": "DescriptionStyleModel",
      "state": {
       "_model_module": "@jupyter-widgets/controls",
       "_model_module_version": "1.5.0",
       "_model_name": "DescriptionStyleModel",
       "_view_count": null,
       "_view_module": "@jupyter-widgets/base",
       "_view_module_version": "1.2.0",
       "_view_name": "StyleView",
       "description_width": ""
      }
     },
     "31900a86c17f4deb9947ea083f88b181": {
      "model_module": "@jupyter-widgets/base",
      "model_module_version": "1.2.0",
      "model_name": "LayoutModel",
      "state": {
       "_model_module": "@jupyter-widgets/base",
       "_model_module_version": "1.2.0",
       "_model_name": "LayoutModel",
       "_view_count": null,
       "_view_module": "@jupyter-widgets/base",
       "_view_module_version": "1.2.0",
       "_view_name": "LayoutView",
       "align_content": null,
       "align_items": null,
       "align_self": null,
       "border": null,
       "bottom": null,
       "display": null,
       "flex": null,
       "flex_flow": null,
       "grid_area": null,
       "grid_auto_columns": null,
       "grid_auto_flow": null,
       "grid_auto_rows": null,
       "grid_column": null,
       "grid_gap": null,
       "grid_row": null,
       "grid_template_areas": null,
       "grid_template_columns": null,
       "grid_template_rows": null,
       "height": null,
       "justify_content": null,
       "justify_items": null,
       "left": null,
       "margin": null,
       "max_height": null,
       "max_width": null,
       "min_height": null,
       "min_width": null,
       "object_fit": null,
       "object_position": null,
       "order": null,
       "overflow": null,
       "overflow_x": null,
       "overflow_y": null,
       "padding": null,
       "right": null,
       "top": null,
       "visibility": null,
       "width": null
      }
     },
     "31accdab2b714c1fbd16432b54e3ca9f": {
      "model_module": "@jupyter-widgets/controls",
      "model_module_version": "1.5.0",
      "model_name": "ProgressStyleModel",
      "state": {
       "_model_module": "@jupyter-widgets/controls",
       "_model_module_version": "1.5.0",
       "_model_name": "ProgressStyleModel",
       "_view_count": null,
       "_view_module": "@jupyter-widgets/base",
       "_view_module_version": "1.2.0",
       "_view_name": "StyleView",
       "bar_color": null,
       "description_width": ""
      }
     },
     "3bd0751cfaa34cef8672bd749cb8a0a6": {
      "model_module": "@jupyter-widgets/controls",
      "model_module_version": "1.5.0",
      "model_name": "DescriptionStyleModel",
      "state": {
       "_model_module": "@jupyter-widgets/controls",
       "_model_module_version": "1.5.0",
       "_model_name": "DescriptionStyleModel",
       "_view_count": null,
       "_view_module": "@jupyter-widgets/base",
       "_view_module_version": "1.2.0",
       "_view_name": "StyleView",
       "description_width": ""
      }
     },
     "409725a58c9848c2a0f633d5a52a6604": {
      "model_module": "@jupyter-widgets/base",
      "model_module_version": "1.2.0",
      "model_name": "LayoutModel",
      "state": {
       "_model_module": "@jupyter-widgets/base",
       "_model_module_version": "1.2.0",
       "_model_name": "LayoutModel",
       "_view_count": null,
       "_view_module": "@jupyter-widgets/base",
       "_view_module_version": "1.2.0",
       "_view_name": "LayoutView",
       "align_content": null,
       "align_items": null,
       "align_self": null,
       "border": null,
       "bottom": null,
       "display": null,
       "flex": null,
       "flex_flow": null,
       "grid_area": null,
       "grid_auto_columns": null,
       "grid_auto_flow": null,
       "grid_auto_rows": null,
       "grid_column": null,
       "grid_gap": null,
       "grid_row": null,
       "grid_template_areas": null,
       "grid_template_columns": null,
       "grid_template_rows": null,
       "height": null,
       "justify_content": null,
       "justify_items": null,
       "left": null,
       "margin": null,
       "max_height": null,
       "max_width": null,
       "min_height": null,
       "min_width": null,
       "object_fit": null,
       "object_position": null,
       "order": null,
       "overflow": null,
       "overflow_x": null,
       "overflow_y": null,
       "padding": null,
       "right": null,
       "top": null,
       "visibility": null,
       "width": null
      }
     },
     "4308e3471d174f8ca578fea6f904c60b": {
      "model_module": "@jupyter-widgets/base",
      "model_module_version": "1.2.0",
      "model_name": "LayoutModel",
      "state": {
       "_model_module": "@jupyter-widgets/base",
       "_model_module_version": "1.2.0",
       "_model_name": "LayoutModel",
       "_view_count": null,
       "_view_module": "@jupyter-widgets/base",
       "_view_module_version": "1.2.0",
       "_view_name": "LayoutView",
       "align_content": null,
       "align_items": null,
       "align_self": null,
       "border": null,
       "bottom": null,
       "display": null,
       "flex": null,
       "flex_flow": null,
       "grid_area": null,
       "grid_auto_columns": null,
       "grid_auto_flow": null,
       "grid_auto_rows": null,
       "grid_column": null,
       "grid_gap": null,
       "grid_row": null,
       "grid_template_areas": null,
       "grid_template_columns": null,
       "grid_template_rows": null,
       "height": null,
       "justify_content": null,
       "justify_items": null,
       "left": null,
       "margin": null,
       "max_height": null,
       "max_width": null,
       "min_height": null,
       "min_width": null,
       "object_fit": null,
       "object_position": null,
       "order": null,
       "overflow": null,
       "overflow_x": null,
       "overflow_y": null,
       "padding": null,
       "right": null,
       "top": null,
       "visibility": null,
       "width": null
      }
     },
     "433b45e4e6624e80b9dbb5b9aae0a504": {
      "model_module": "@jupyter-widgets/base",
      "model_module_version": "1.2.0",
      "model_name": "LayoutModel",
      "state": {
       "_model_module": "@jupyter-widgets/base",
       "_model_module_version": "1.2.0",
       "_model_name": "LayoutModel",
       "_view_count": null,
       "_view_module": "@jupyter-widgets/base",
       "_view_module_version": "1.2.0",
       "_view_name": "LayoutView",
       "align_content": null,
       "align_items": null,
       "align_self": null,
       "border": null,
       "bottom": null,
       "display": null,
       "flex": null,
       "flex_flow": null,
       "grid_area": null,
       "grid_auto_columns": null,
       "grid_auto_flow": null,
       "grid_auto_rows": null,
       "grid_column": null,
       "grid_gap": null,
       "grid_row": null,
       "grid_template_areas": null,
       "grid_template_columns": null,
       "grid_template_rows": null,
       "height": null,
       "justify_content": null,
       "justify_items": null,
       "left": null,
       "margin": null,
       "max_height": null,
       "max_width": null,
       "min_height": null,
       "min_width": null,
       "object_fit": null,
       "object_position": null,
       "order": null,
       "overflow": null,
       "overflow_x": null,
       "overflow_y": null,
       "padding": null,
       "right": null,
       "top": null,
       "visibility": null,
       "width": null
      }
     },
     "49ad7138b1174c418a911bc1ecf6a7a3": {
      "model_module": "@jupyter-widgets/base",
      "model_module_version": "1.2.0",
      "model_name": "LayoutModel",
      "state": {
       "_model_module": "@jupyter-widgets/base",
       "_model_module_version": "1.2.0",
       "_model_name": "LayoutModel",
       "_view_count": null,
       "_view_module": "@jupyter-widgets/base",
       "_view_module_version": "1.2.0",
       "_view_name": "LayoutView",
       "align_content": null,
       "align_items": null,
       "align_self": null,
       "border": null,
       "bottom": null,
       "display": null,
       "flex": null,
       "flex_flow": null,
       "grid_area": null,
       "grid_auto_columns": null,
       "grid_auto_flow": null,
       "grid_auto_rows": null,
       "grid_column": null,
       "grid_gap": null,
       "grid_row": null,
       "grid_template_areas": null,
       "grid_template_columns": null,
       "grid_template_rows": null,
       "height": null,
       "justify_content": null,
       "justify_items": null,
       "left": null,
       "margin": null,
       "max_height": null,
       "max_width": null,
       "min_height": null,
       "min_width": null,
       "object_fit": null,
       "object_position": null,
       "order": null,
       "overflow": null,
       "overflow_x": null,
       "overflow_y": null,
       "padding": null,
       "right": null,
       "top": null,
       "visibility": null,
       "width": null
      }
     },
     "4b0bd39c2bc94223b02a92f1b3f44073": {
      "model_module": "@jupyter-widgets/controls",
      "model_module_version": "1.5.0",
      "model_name": "HBoxModel",
      "state": {
       "_dom_classes": [],
       "_model_module": "@jupyter-widgets/controls",
       "_model_module_version": "1.5.0",
       "_model_name": "HBoxModel",
       "_view_count": null,
       "_view_module": "@jupyter-widgets/controls",
       "_view_module_version": "1.5.0",
       "_view_name": "HBoxView",
       "box_style": "",
       "children": [
        "IPY_MODEL_c8070a00a27545a48f6a74478f00a758",
        "IPY_MODEL_0919327933d44f3ba2f9b3340cf4c8bc",
        "IPY_MODEL_f9d12d76a70d4d81aea19d9430494390"
       ],
       "layout": "IPY_MODEL_613bdcb90b444957aa3555367a41bbb6"
      }
     },
     "4f576b37f8634261a4cd523625cb5f7e": {
      "model_module": "@jupyter-widgets/controls",
      "model_module_version": "1.5.0",
      "model_name": "FloatProgressModel",
      "state": {
       "_dom_classes": [],
       "_model_module": "@jupyter-widgets/controls",
       "_model_module_version": "1.5.0",
       "_model_name": "FloatProgressModel",
       "_view_count": null,
       "_view_module": "@jupyter-widgets/controls",
       "_view_module_version": "1.5.0",
       "_view_name": "ProgressView",
       "bar_style": "success",
       "description": "",
       "description_tooltip": null,
       "layout": "IPY_MODEL_afe6fb9799b4486e9d665fa386ca50c0",
       "max": 480.0,
       "min": 0.0,
       "orientation": "horizontal",
       "style": "IPY_MODEL_7ab108eeb745401694a1487d47bcd8bf",
       "value": 480.0
      }
     },
     "578185aa43e64818a4f40ffaebc98623": {
      "model_module": "@jupyter-widgets/controls",
      "model_module_version": "1.5.0",
      "model_name": "DescriptionStyleModel",
      "state": {
       "_model_module": "@jupyter-widgets/controls",
       "_model_module_version": "1.5.0",
       "_model_name": "DescriptionStyleModel",
       "_view_count": null,
       "_view_module": "@jupyter-widgets/base",
       "_view_module_version": "1.2.0",
       "_view_name": "StyleView",
       "description_width": ""
      }
     },
     "613bdcb90b444957aa3555367a41bbb6": {
      "model_module": "@jupyter-widgets/base",
      "model_module_version": "1.2.0",
      "model_name": "LayoutModel",
      "state": {
       "_model_module": "@jupyter-widgets/base",
       "_model_module_version": "1.2.0",
       "_model_name": "LayoutModel",
       "_view_count": null,
       "_view_module": "@jupyter-widgets/base",
       "_view_module_version": "1.2.0",
       "_view_name": "LayoutView",
       "align_content": null,
       "align_items": null,
       "align_self": null,
       "border": null,
       "bottom": null,
       "display": null,
       "flex": null,
       "flex_flow": null,
       "grid_area": null,
       "grid_auto_columns": null,
       "grid_auto_flow": null,
       "grid_auto_rows": null,
       "grid_column": null,
       "grid_gap": null,
       "grid_row": null,
       "grid_template_areas": null,
       "grid_template_columns": null,
       "grid_template_rows": null,
       "height": null,
       "justify_content": null,
       "justify_items": null,
       "left": null,
       "margin": null,
       "max_height": null,
       "max_width": null,
       "min_height": null,
       "min_width": null,
       "object_fit": null,
       "object_position": null,
       "order": null,
       "overflow": null,
       "overflow_x": null,
       "overflow_y": null,
       "padding": null,
       "right": null,
       "top": null,
       "visibility": null,
       "width": null
      }
     },
     "642ae046c7e34d54b45cafc85f66d9bb": {
      "model_module": "@jupyter-widgets/controls",
      "model_module_version": "1.5.0",
      "model_name": "HBoxModel",
      "state": {
       "_dom_classes": [],
       "_model_module": "@jupyter-widgets/controls",
       "_model_module_version": "1.5.0",
       "_model_name": "HBoxModel",
       "_view_count": null,
       "_view_module": "@jupyter-widgets/controls",
       "_view_module_version": "1.5.0",
       "_view_name": "HBoxView",
       "box_style": "",
       "children": [
        "IPY_MODEL_b30209127b8541f8ba4311b5dc40de1e",
        "IPY_MODEL_4f576b37f8634261a4cd523625cb5f7e",
        "IPY_MODEL_8a4463dc800a4bcb80b728901b40a133"
       ],
       "layout": "IPY_MODEL_889eed8a52ea487f9717f573714f3f73"
      }
     },
     "682f15a4ea1443c19204c2b3f1e4551b": {
      "model_module": "@jupyter-widgets/base",
      "model_module_version": "1.2.0",
      "model_name": "LayoutModel",
      "state": {
       "_model_module": "@jupyter-widgets/base",
       "_model_module_version": "1.2.0",
       "_model_name": "LayoutModel",
       "_view_count": null,
       "_view_module": "@jupyter-widgets/base",
       "_view_module_version": "1.2.0",
       "_view_name": "LayoutView",
       "align_content": null,
       "align_items": null,
       "align_self": null,
       "border": null,
       "bottom": null,
       "display": null,
       "flex": null,
       "flex_flow": null,
       "grid_area": null,
       "grid_auto_columns": null,
       "grid_auto_flow": null,
       "grid_auto_rows": null,
       "grid_column": null,
       "grid_gap": null,
       "grid_row": null,
       "grid_template_areas": null,
       "grid_template_columns": null,
       "grid_template_rows": null,
       "height": null,
       "justify_content": null,
       "justify_items": null,
       "left": null,
       "margin": null,
       "max_height": null,
       "max_width": null,
       "min_height": null,
       "min_width": null,
       "object_fit": null,
       "object_position": null,
       "order": null,
       "overflow": null,
       "overflow_x": null,
       "overflow_y": null,
       "padding": null,
       "right": null,
       "top": null,
       "visibility": null,
       "width": null
      }
     },
     "71fe014990d146a9ac24e25ffa519ae7": {
      "model_module": "@jupyter-widgets/base",
      "model_module_version": "1.2.0",
      "model_name": "LayoutModel",
      "state": {
       "_model_module": "@jupyter-widgets/base",
       "_model_module_version": "1.2.0",
       "_model_name": "LayoutModel",
       "_view_count": null,
       "_view_module": "@jupyter-widgets/base",
       "_view_module_version": "1.2.0",
       "_view_name": "LayoutView",
       "align_content": null,
       "align_items": null,
       "align_self": null,
       "border": null,
       "bottom": null,
       "display": null,
       "flex": null,
       "flex_flow": null,
       "grid_area": null,
       "grid_auto_columns": null,
       "grid_auto_flow": null,
       "grid_auto_rows": null,
       "grid_column": null,
       "grid_gap": null,
       "grid_row": null,
       "grid_template_areas": null,
       "grid_template_columns": null,
       "grid_template_rows": null,
       "height": null,
       "justify_content": null,
       "justify_items": null,
       "left": null,
       "margin": null,
       "max_height": null,
       "max_width": null,
       "min_height": null,
       "min_width": null,
       "object_fit": null,
       "object_position": null,
       "order": null,
       "overflow": null,
       "overflow_x": null,
       "overflow_y": null,
       "padding": null,
       "right": null,
       "top": null,
       "visibility": null,
       "width": null
      }
     },
     "726cbb6b69c0447e8ad12bdefb174e6b": {
      "model_module": "@jupyter-widgets/controls",
      "model_module_version": "1.5.0",
      "model_name": "HBoxModel",
      "state": {
       "_dom_classes": [],
       "_model_module": "@jupyter-widgets/controls",
       "_model_module_version": "1.5.0",
       "_model_name": "HBoxModel",
       "_view_count": null,
       "_view_module": "@jupyter-widgets/controls",
       "_view_module_version": "1.5.0",
       "_view_name": "HBoxView",
       "box_style": "",
       "children": [
        "IPY_MODEL_d810bfd8b9c4481f828c0c7fb8f20767",
        "IPY_MODEL_e6f28da9cc9f49958f0a8b0674a6ad80",
        "IPY_MODEL_1332ca0338c7420bbb61c1b5df66703d"
       ],
       "layout": "IPY_MODEL_49ad7138b1174c418a911bc1ecf6a7a3"
      }
     },
     "7ab108eeb745401694a1487d47bcd8bf": {
      "model_module": "@jupyter-widgets/controls",
      "model_module_version": "1.5.0",
      "model_name": "ProgressStyleModel",
      "state": {
       "_model_module": "@jupyter-widgets/controls",
       "_model_module_version": "1.5.0",
       "_model_name": "ProgressStyleModel",
       "_view_count": null,
       "_view_module": "@jupyter-widgets/base",
       "_view_module_version": "1.2.0",
       "_view_name": "StyleView",
       "bar_color": null,
       "description_width": ""
      }
     },
     "8489693bf0584826912fe97b8d74214e": {
      "model_module": "@jupyter-widgets/controls",
      "model_module_version": "1.5.0",
      "model_name": "ProgressStyleModel",
      "state": {
       "_model_module": "@jupyter-widgets/controls",
       "_model_module_version": "1.5.0",
       "_model_name": "ProgressStyleModel",
       "_view_count": null,
       "_view_module": "@jupyter-widgets/base",
       "_view_module_version": "1.2.0",
       "_view_name": "StyleView",
       "bar_color": null,
       "description_width": ""
      }
     },
     "889eed8a52ea487f9717f573714f3f73": {
      "model_module": "@jupyter-widgets/base",
      "model_module_version": "1.2.0",
      "model_name": "LayoutModel",
      "state": {
       "_model_module": "@jupyter-widgets/base",
       "_model_module_version": "1.2.0",
       "_model_name": "LayoutModel",
       "_view_count": null,
       "_view_module": "@jupyter-widgets/base",
       "_view_module_version": "1.2.0",
       "_view_name": "LayoutView",
       "align_content": null,
       "align_items": null,
       "align_self": null,
       "border": null,
       "bottom": null,
       "display": null,
       "flex": null,
       "flex_flow": null,
       "grid_area": null,
       "grid_auto_columns": null,
       "grid_auto_flow": null,
       "grid_auto_rows": null,
       "grid_column": null,
       "grid_gap": null,
       "grid_row": null,
       "grid_template_areas": null,
       "grid_template_columns": null,
       "grid_template_rows": null,
       "height": null,
       "justify_content": null,
       "justify_items": null,
       "left": null,
       "margin": null,
       "max_height": null,
       "max_width": null,
       "min_height": null,
       "min_width": null,
       "object_fit": null,
       "object_position": null,
       "order": null,
       "overflow": null,
       "overflow_x": null,
       "overflow_y": null,
       "padding": null,
       "right": null,
       "top": null,
       "visibility": null,
       "width": null
      }
     },
     "8a4463dc800a4bcb80b728901b40a133": {
      "model_module": "@jupyter-widgets/controls",
      "model_module_version": "1.5.0",
      "model_name": "HTMLModel",
      "state": {
       "_dom_classes": [],
       "_model_module": "@jupyter-widgets/controls",
       "_model_module_version": "1.5.0",
       "_model_name": "HTMLModel",
       "_view_count": null,
       "_view_module": "@jupyter-widgets/controls",
       "_view_module_version": "1.5.0",
       "_view_name": "HTMLView",
       "description": "",
       "description_tooltip": null,
       "layout": "IPY_MODEL_fb4cd3561a2b4b5da01bb7679f7a6034",
       "placeholder": "​",
       "style": "IPY_MODEL_2f7667217a734495ad0d0c5e53e9e74c",
       "value": " 480/480 [00:00&lt;00:00, 37.2kB/s]"
      }
     },
     "907559bb743e4585a438f9dfa4eb3b7a": {
      "model_module": "@jupyter-widgets/base",
      "model_module_version": "1.2.0",
      "model_name": "LayoutModel",
      "state": {
       "_model_module": "@jupyter-widgets/base",
       "_model_module_version": "1.2.0",
       "_model_name": "LayoutModel",
       "_view_count": null,
       "_view_module": "@jupyter-widgets/base",
       "_view_module_version": "1.2.0",
       "_view_name": "LayoutView",
       "align_content": null,
       "align_items": null,
       "align_self": null,
       "border": null,
       "bottom": null,
       "display": null,
       "flex": null,
       "flex_flow": null,
       "grid_area": null,
       "grid_auto_columns": null,
       "grid_auto_flow": null,
       "grid_auto_rows": null,
       "grid_column": null,
       "grid_gap": null,
       "grid_row": null,
       "grid_template_areas": null,
       "grid_template_columns": null,
       "grid_template_rows": null,
       "height": null,
       "justify_content": null,
       "justify_items": null,
       "left": null,
       "margin": null,
       "max_height": null,
       "max_width": null,
       "min_height": null,
       "min_width": null,
       "object_fit": null,
       "object_position": null,
       "order": null,
       "overflow": null,
       "overflow_x": null,
       "overflow_y": null,
       "padding": null,
       "right": null,
       "top": null,
       "visibility": null,
       "width": null
      }
     },
     "94452f45c94c47239077918fed913739": {
      "model_module": "@jupyter-widgets/base",
      "model_module_version": "1.2.0",
      "model_name": "LayoutModel",
      "state": {
       "_model_module": "@jupyter-widgets/base",
       "_model_module_version": "1.2.0",
       "_model_name": "LayoutModel",
       "_view_count": null,
       "_view_module": "@jupyter-widgets/base",
       "_view_module_version": "1.2.0",
       "_view_name": "LayoutView",
       "align_content": null,
       "align_items": null,
       "align_self": null,
       "border": null,
       "bottom": null,
       "display": null,
       "flex": null,
       "flex_flow": null,
       "grid_area": null,
       "grid_auto_columns": null,
       "grid_auto_flow": null,
       "grid_auto_rows": null,
       "grid_column": null,
       "grid_gap": null,
       "grid_row": null,
       "grid_template_areas": null,
       "grid_template_columns": null,
       "grid_template_rows": null,
       "height": null,
       "justify_content": null,
       "justify_items": null,
       "left": null,
       "margin": null,
       "max_height": null,
       "max_width": null,
       "min_height": null,
       "min_width": null,
       "object_fit": null,
       "object_position": null,
       "order": null,
       "overflow": null,
       "overflow_x": null,
       "overflow_y": null,
       "padding": null,
       "right": null,
       "top": null,
       "visibility": null,
       "width": null
      }
     },
     "9472419e4ba2489b87ca1f136e8f142d": {
      "model_module": "@jupyter-widgets/base",
      "model_module_version": "1.2.0",
      "model_name": "LayoutModel",
      "state": {
       "_model_module": "@jupyter-widgets/base",
       "_model_module_version": "1.2.0",
       "_model_name": "LayoutModel",
       "_view_count": null,
       "_view_module": "@jupyter-widgets/base",
       "_view_module_version": "1.2.0",
       "_view_name": "LayoutView",
       "align_content": null,
       "align_items": null,
       "align_self": null,
       "border": null,
       "bottom": null,
       "display": null,
       "flex": null,
       "flex_flow": null,
       "grid_area": null,
       "grid_auto_columns": null,
       "grid_auto_flow": null,
       "grid_auto_rows": null,
       "grid_column": null,
       "grid_gap": null,
       "grid_row": null,
       "grid_template_areas": null,
       "grid_template_columns": null,
       "grid_template_rows": null,
       "height": null,
       "justify_content": null,
       "justify_items": null,
       "left": null,
       "margin": null,
       "max_height": null,
       "max_width": null,
       "min_height": null,
       "min_width": null,
       "object_fit": null,
       "object_position": null,
       "order": null,
       "overflow": null,
       "overflow_x": null,
       "overflow_y": null,
       "padding": null,
       "right": null,
       "top": null,
       "visibility": null,
       "width": null
      }
     },
     "9c22e8e793b742c1959826d151b9d72b": {
      "model_module": "@jupyter-widgets/base",
      "model_module_version": "1.2.0",
      "model_name": "LayoutModel",
      "state": {
       "_model_module": "@jupyter-widgets/base",
       "_model_module_version": "1.2.0",
       "_model_name": "LayoutModel",
       "_view_count": null,
       "_view_module": "@jupyter-widgets/base",
       "_view_module_version": "1.2.0",
       "_view_name": "LayoutView",
       "align_content": null,
       "align_items": null,
       "align_self": null,
       "border": null,
       "bottom": null,
       "display": null,
       "flex": null,
       "flex_flow": null,
       "grid_area": null,
       "grid_auto_columns": null,
       "grid_auto_flow": null,
       "grid_auto_rows": null,
       "grid_column": null,
       "grid_gap": null,
       "grid_row": null,
       "grid_template_areas": null,
       "grid_template_columns": null,
       "grid_template_rows": null,
       "height": null,
       "justify_content": null,
       "justify_items": null,
       "left": null,
       "margin": null,
       "max_height": null,
       "max_width": null,
       "min_height": null,
       "min_width": null,
       "object_fit": null,
       "object_position": null,
       "order": null,
       "overflow": null,
       "overflow_x": null,
       "overflow_y": null,
       "padding": null,
       "right": null,
       "top": null,
       "visibility": null,
       "width": null
      }
     },
     "a14ea6c675c14fe886830c66bdef6137": {
      "model_module": "@jupyter-widgets/controls",
      "model_module_version": "1.5.0",
      "model_name": "HTMLModel",
      "state": {
       "_dom_classes": [],
       "_model_module": "@jupyter-widgets/controls",
       "_model_module_version": "1.5.0",
       "_model_name": "HTMLModel",
       "_view_count": null,
       "_view_module": "@jupyter-widgets/controls",
       "_view_module_version": "1.5.0",
       "_view_name": "HTMLView",
       "description": "",
       "description_tooltip": null,
       "layout": "IPY_MODEL_9c22e8e793b742c1959826d151b9d72b",
       "placeholder": "​",
       "style": "IPY_MODEL_effe776782964be292aefefc6d02166c",
       "value": "config.json: 100%"
      }
     },
     "a75bcc405ff84c61a4713b194f3cb056": {
      "model_module": "@jupyter-widgets/controls",
      "model_module_version": "1.5.0",
      "model_name": "DescriptionStyleModel",
      "state": {
       "_model_module": "@jupyter-widgets/controls",
       "_model_module_version": "1.5.0",
       "_model_name": "DescriptionStyleModel",
       "_view_count": null,
       "_view_module": "@jupyter-widgets/base",
       "_view_module_version": "1.2.0",
       "_view_name": "StyleView",
       "description_width": ""
      }
     },
     "ae10db6605a44e6db8473c8c2f6d9098": {
      "model_module": "@jupyter-widgets/base",
      "model_module_version": "1.2.0",
      "model_name": "LayoutModel",
      "state": {
       "_model_module": "@jupyter-widgets/base",
       "_model_module_version": "1.2.0",
       "_model_name": "LayoutModel",
       "_view_count": null,
       "_view_module": "@jupyter-widgets/base",
       "_view_module_version": "1.2.0",
       "_view_name": "LayoutView",
       "align_content": null,
       "align_items": null,
       "align_self": null,
       "border": null,
       "bottom": null,
       "display": null,
       "flex": null,
       "flex_flow": null,
       "grid_area": null,
       "grid_auto_columns": null,
       "grid_auto_flow": null,
       "grid_auto_rows": null,
       "grid_column": null,
       "grid_gap": null,
       "grid_row": null,
       "grid_template_areas": null,
       "grid_template_columns": null,
       "grid_template_rows": null,
       "height": null,
       "justify_content": null,
       "justify_items": null,
       "left": null,
       "margin": null,
       "max_height": null,
       "max_width": null,
       "min_height": null,
       "min_width": null,
       "object_fit": null,
       "object_position": null,
       "order": null,
       "overflow": null,
       "overflow_x": null,
       "overflow_y": null,
       "padding": null,
       "right": null,
       "top": null,
       "visibility": null,
       "width": null
      }
     },
     "afe6fb9799b4486e9d665fa386ca50c0": {
      "model_module": "@jupyter-widgets/base",
      "model_module_version": "1.2.0",
      "model_name": "LayoutModel",
      "state": {
       "_model_module": "@jupyter-widgets/base",
       "_model_module_version": "1.2.0",
       "_model_name": "LayoutModel",
       "_view_count": null,
       "_view_module": "@jupyter-widgets/base",
       "_view_module_version": "1.2.0",
       "_view_name": "LayoutView",
       "align_content": null,
       "align_items": null,
       "align_self": null,
       "border": null,
       "bottom": null,
       "display": null,
       "flex": null,
       "flex_flow": null,
       "grid_area": null,
       "grid_auto_columns": null,
       "grid_auto_flow": null,
       "grid_auto_rows": null,
       "grid_column": null,
       "grid_gap": null,
       "grid_row": null,
       "grid_template_areas": null,
       "grid_template_columns": null,
       "grid_template_rows": null,
       "height": null,
       "justify_content": null,
       "justify_items": null,
       "left": null,
       "margin": null,
       "max_height": null,
       "max_width": null,
       "min_height": null,
       "min_width": null,
       "object_fit": null,
       "object_position": null,
       "order": null,
       "overflow": null,
       "overflow_x": null,
       "overflow_y": null,
       "padding": null,
       "right": null,
       "top": null,
       "visibility": null,
       "width": null
      }
     },
     "b30209127b8541f8ba4311b5dc40de1e": {
      "model_module": "@jupyter-widgets/controls",
      "model_module_version": "1.5.0",
      "model_name": "HTMLModel",
      "state": {
       "_dom_classes": [],
       "_model_module": "@jupyter-widgets/controls",
       "_model_module_version": "1.5.0",
       "_model_name": "HTMLModel",
       "_view_count": null,
       "_view_module": "@jupyter-widgets/controls",
       "_view_module_version": "1.5.0",
       "_view_name": "HTMLView",
       "description": "",
       "description_tooltip": null,
       "layout": "IPY_MODEL_e6ed6497ccbf432dac6d9f973f412fce",
       "placeholder": "​",
       "style": "IPY_MODEL_a75bcc405ff84c61a4713b194f3cb056",
       "value": "tokenizer_config.json: 100%"
      }
     },
     "b6ca555d8c0a4597a4db9fe34a3846a2": {
      "model_module": "@jupyter-widgets/controls",
      "model_module_version": "1.5.0",
      "model_name": "HBoxModel",
      "state": {
       "_dom_classes": [],
       "_model_module": "@jupyter-widgets/controls",
       "_model_module_version": "1.5.0",
       "_model_name": "HBoxModel",
       "_view_count": null,
       "_view_module": "@jupyter-widgets/controls",
       "_view_module_version": "1.5.0",
       "_view_name": "HBoxView",
       "box_style": "",
       "children": [
        "IPY_MODEL_a14ea6c675c14fe886830c66bdef6137",
        "IPY_MODEL_263b985a5e6a4fd18604a06e49322f7e",
        "IPY_MODEL_f330716a55ff40cf848fafecc91d2307"
       ],
       "layout": "IPY_MODEL_433b45e4e6624e80b9dbb5b9aae0a504"
      }
     },
     "bfdaf73354b84f0f948adcb7404f8977": {
      "model_module": "@jupyter-widgets/controls",
      "model_module_version": "1.5.0",
      "model_name": "FloatProgressModel",
      "state": {
       "_dom_classes": [],
       "_model_module": "@jupyter-widgets/controls",
       "_model_module_version": "1.5.0",
       "_model_name": "FloatProgressModel",
       "_view_count": null,
       "_view_module": "@jupyter-widgets/controls",
       "_view_module_version": "1.5.0",
       "_view_name": "ProgressView",
       "bar_style": "success",
       "description": "",
       "description_tooltip": null,
       "layout": "IPY_MODEL_907559bb743e4585a438f9dfa4eb3b7a",
       "max": 239.0,
       "min": 0.0,
       "orientation": "horizontal",
       "style": "IPY_MODEL_0c50719b5dc84e829735b0b70dd28693",
       "value": 239.0
      }
     },
     "c8070a00a27545a48f6a74478f00a758": {
      "model_module": "@jupyter-widgets/controls",
      "model_module_version": "1.5.0",
      "model_name": "HTMLModel",
      "state": {
       "_dom_classes": [],
       "_model_module": "@jupyter-widgets/controls",
       "_model_module_version": "1.5.0",
       "_model_name": "HTMLModel",
       "_view_count": null,
       "_view_module": "@jupyter-widgets/controls",
       "_view_module_version": "1.5.0",
       "_view_name": "HTMLView",
       "description": "",
       "description_tooltip": null,
       "layout": "IPY_MODEL_fc994bbad8224e8590a695ec4d8475dd",
       "placeholder": "​",
       "style": "IPY_MODEL_cafa3d1500b349baa72f365f49ce8c5f",
       "value": "tokenizer.json: 100%"
      }
     },
     "cafa3d1500b349baa72f365f49ce8c5f": {
      "model_module": "@jupyter-widgets/controls",
      "model_module_version": "1.5.0",
      "model_name": "DescriptionStyleModel",
      "state": {
       "_model_module": "@jupyter-widgets/controls",
       "_model_module_version": "1.5.0",
       "_model_name": "DescriptionStyleModel",
       "_view_count": null,
       "_view_module": "@jupyter-widgets/base",
       "_view_module_version": "1.2.0",
       "_view_name": "StyleView",
       "description_width": ""
      }
     },
     "d810bfd8b9c4481f828c0c7fb8f20767": {
      "model_module": "@jupyter-widgets/controls",
      "model_module_version": "1.5.0",
      "model_name": "HTMLModel",
      "state": {
       "_dom_classes": [],
       "_model_module": "@jupyter-widgets/controls",
       "_model_module_version": "1.5.0",
       "_model_name": "HTMLModel",
       "_view_count": null,
       "_view_module": "@jupyter-widgets/controls",
       "_view_module_version": "1.5.0",
       "_view_name": "HTMLView",
       "description": "",
       "description_tooltip": null,
       "layout": "IPY_MODEL_94452f45c94c47239077918fed913739",
       "placeholder": "​",
       "style": "IPY_MODEL_0aa43dde1fe74a38bc3b954ecd9969b7",
       "value": "model.safetensors: 100%"
      }
     },
     "df8b0fb96dae465294df6cf062100578": {
      "model_module": "@jupyter-widgets/base",
      "model_module_version": "1.2.0",
      "model_name": "LayoutModel",
      "state": {
       "_model_module": "@jupyter-widgets/base",
       "_model_module_version": "1.2.0",
       "_model_name": "LayoutModel",
       "_view_count": null,
       "_view_module": "@jupyter-widgets/base",
       "_view_module_version": "1.2.0",
       "_view_name": "LayoutView",
       "align_content": null,
       "align_items": null,
       "align_self": null,
       "border": null,
       "bottom": null,
       "display": null,
       "flex": null,
       "flex_flow": null,
       "grid_area": null,
       "grid_auto_columns": null,
       "grid_auto_flow": null,
       "grid_auto_rows": null,
       "grid_column": null,
       "grid_gap": null,
       "grid_row": null,
       "grid_template_areas": null,
       "grid_template_columns": null,
       "grid_template_rows": null,
       "height": null,
       "justify_content": null,
       "justify_items": null,
       "left": null,
       "margin": null,
       "max_height": null,
       "max_width": null,
       "min_height": null,
       "min_width": null,
       "object_fit": null,
       "object_position": null,
       "order": null,
       "overflow": null,
       "overflow_x": null,
       "overflow_y": null,
       "padding": null,
       "right": null,
       "top": null,
       "visibility": null,
       "width": null
      }
     },
     "e6ed6497ccbf432dac6d9f973f412fce": {
      "model_module": "@jupyter-widgets/base",
      "model_module_version": "1.2.0",
      "model_name": "LayoutModel",
      "state": {
       "_model_module": "@jupyter-widgets/base",
       "_model_module_version": "1.2.0",
       "_model_name": "LayoutModel",
       "_view_count": null,
       "_view_module": "@jupyter-widgets/base",
       "_view_module_version": "1.2.0",
       "_view_name": "LayoutView",
       "align_content": null,
       "align_items": null,
       "align_self": null,
       "border": null,
       "bottom": null,
       "display": null,
       "flex": null,
       "flex_flow": null,
       "grid_area": null,
       "grid_auto_columns": null,
       "grid_auto_flow": null,
       "grid_auto_rows": null,
       "grid_column": null,
       "grid_gap": null,
       "grid_row": null,
       "grid_template_areas": null,
       "grid_template_columns": null,
       "grid_template_rows": null,
       "height": null,
       "justify_content": null,
       "justify_items": null,
       "left": null,
       "margin": null,
       "max_height": null,
       "max_width": null,
       "min_height": null,
       "min_width": null,
       "object_fit": null,
       "object_position": null,
       "order": null,
       "overflow": null,
       "overflow_x": null,
       "overflow_y": null,
       "padding": null,
       "right": null,
       "top": null,
       "visibility": null,
       "width": null
      }
     },
     "e6f28da9cc9f49958f0a8b0674a6ad80": {
      "model_module": "@jupyter-widgets/controls",
      "model_module_version": "1.5.0",
      "model_name": "FloatProgressModel",
      "state": {
       "_dom_classes": [],
       "_model_module": "@jupyter-widgets/controls",
       "_model_module_version": "1.5.0",
       "_model_name": "FloatProgressModel",
       "_view_count": null,
       "_view_module": "@jupyter-widgets/controls",
       "_view_module_version": "1.5.0",
       "_view_name": "ProgressView",
       "bar_style": "success",
       "description": "",
       "description_tooltip": null,
       "layout": "IPY_MODEL_4308e3471d174f8ca578fea6f904c60b",
       "max": 470641600.0,
       "min": 0.0,
       "orientation": "horizontal",
       "style": "IPY_MODEL_8489693bf0584826912fe97b8d74214e",
       "value": 470641600.0
      }
     },
     "e98121088bc2447dbcf55e41b15173ba": {
      "model_module": "@jupyter-widgets/controls",
      "model_module_version": "1.5.0",
      "model_name": "DescriptionStyleModel",
      "state": {
       "_model_module": "@jupyter-widgets/controls",
       "_model_module_version": "1.5.0",
       "_model_name": "DescriptionStyleModel",
       "_view_count": null,
       "_view_module": "@jupyter-widgets/base",
       "_view_module_version": "1.2.0",
       "_view_name": "StyleView",
       "description_width": ""
      }
     },
     "eb135abf9a844182a4e25273908edaa7": {
      "model_module": "@jupyter-widgets/controls",
      "model_module_version": "1.5.0",
      "model_name": "ProgressStyleModel",
      "state": {
       "_model_module": "@jupyter-widgets/controls",
       "_model_module_version": "1.5.0",
       "_model_name": "ProgressStyleModel",
       "_view_count": null,
       "_view_module": "@jupyter-widgets/base",
       "_view_module_version": "1.2.0",
       "_view_name": "StyleView",
       "bar_color": null,
       "description_width": ""
      }
     },
     "effe776782964be292aefefc6d02166c": {
      "model_module": "@jupyter-widgets/controls",
      "model_module_version": "1.5.0",
      "model_name": "DescriptionStyleModel",
      "state": {
       "_model_module": "@jupyter-widgets/controls",
       "_model_module_version": "1.5.0",
       "_model_name": "DescriptionStyleModel",
       "_view_count": null,
       "_view_module": "@jupyter-widgets/base",
       "_view_module_version": "1.2.0",
       "_view_name": "StyleView",
       "description_width": ""
      }
     },
     "f330716a55ff40cf848fafecc91d2307": {
      "model_module": "@jupyter-widgets/controls",
      "model_module_version": "1.5.0",
      "model_name": "HTMLModel",
      "state": {
       "_dom_classes": [],
       "_model_module": "@jupyter-widgets/controls",
       "_model_module_version": "1.5.0",
       "_model_name": "HTMLModel",
       "_view_count": null,
       "_view_module": "@jupyter-widgets/controls",
       "_view_module_version": "1.5.0",
       "_view_name": "HTMLView",
       "description": "",
       "description_tooltip": null,
       "layout": "IPY_MODEL_409725a58c9848c2a0f633d5a52a6604",
       "placeholder": "​",
       "style": "IPY_MODEL_e98121088bc2447dbcf55e41b15173ba",
       "value": " 645/645 [00:00&lt;00:00, 53.9kB/s]"
      }
     },
     "f335e82f04cb4ac096baadf9d516c2c5": {
      "model_module": "@jupyter-widgets/base",
      "model_module_version": "1.2.0",
      "model_name": "LayoutModel",
      "state": {
       "_model_module": "@jupyter-widgets/base",
       "_model_module_version": "1.2.0",
       "_model_name": "LayoutModel",
       "_view_count": null,
       "_view_module": "@jupyter-widgets/base",
       "_view_module_version": "1.2.0",
       "_view_name": "LayoutView",
       "align_content": null,
       "align_items": null,
       "align_self": null,
       "border": null,
       "bottom": null,
       "display": null,
       "flex": null,
       "flex_flow": null,
       "grid_area": null,
       "grid_auto_columns": null,
       "grid_auto_flow": null,
       "grid_auto_rows": null,
       "grid_column": null,
       "grid_gap": null,
       "grid_row": null,
       "grid_template_areas": null,
       "grid_template_columns": null,
       "grid_template_rows": null,
       "height": null,
       "justify_content": null,
       "justify_items": null,
       "left": null,
       "margin": null,
       "max_height": null,
       "max_width": null,
       "min_height": null,
       "min_width": null,
       "object_fit": null,
       "object_position": null,
       "order": null,
       "overflow": null,
       "overflow_x": null,
       "overflow_y": null,
       "padding": null,
       "right": null,
       "top": null,
       "visibility": null,
       "width": null
      }
     },
     "f63a05d53c174aea8c97f4841cd4dfc5": {
      "model_module": "@jupyter-widgets/controls",
      "model_module_version": "1.5.0",
      "model_name": "HBoxModel",
      "state": {
       "_dom_classes": [],
       "_model_module": "@jupyter-widgets/controls",
       "_model_module_version": "1.5.0",
       "_model_name": "HBoxModel",
       "_view_count": null,
       "_view_module": "@jupyter-widgets/controls",
       "_view_module_version": "1.5.0",
       "_view_name": "HBoxView",
       "box_style": "",
       "children": [
        "IPY_MODEL_f91043aa679a4350be278732f1efdc26",
        "IPY_MODEL_bfdaf73354b84f0f948adcb7404f8977",
        "IPY_MODEL_0b280a7e915444d1b987d74c41ea76fc"
       ],
       "layout": "IPY_MODEL_682f15a4ea1443c19204c2b3f1e4551b"
      }
     },
     "f91043aa679a4350be278732f1efdc26": {
      "model_module": "@jupyter-widgets/controls",
      "model_module_version": "1.5.0",
      "model_name": "HTMLModel",
      "state": {
       "_dom_classes": [],
       "_model_module": "@jupyter-widgets/controls",
       "_model_module_version": "1.5.0",
       "_model_name": "HTMLModel",
       "_view_count": null,
       "_view_module": "@jupyter-widgets/controls",
       "_view_module_version": "1.5.0",
       "_view_name": "HTMLView",
       "description": "",
       "description_tooltip": null,
       "layout": "IPY_MODEL_df8b0fb96dae465294df6cf062100578",
       "placeholder": "​",
       "style": "IPY_MODEL_578185aa43e64818a4f40ffaebc98623",
       "value": "special_tokens_map.json: 100%"
      }
     },
     "f9d12d76a70d4d81aea19d9430494390": {
      "model_module": "@jupyter-widgets/controls",
      "model_module_version": "1.5.0",
      "model_name": "HTMLModel",
      "state": {
       "_dom_classes": [],
       "_model_module": "@jupyter-widgets/controls",
       "_model_module_version": "1.5.0",
       "_model_name": "HTMLModel",
       "_view_count": null,
       "_view_module": "@jupyter-widgets/controls",
       "_view_module_version": "1.5.0",
       "_view_name": "HTMLView",
       "description": "",
       "description_tooltip": null,
       "layout": "IPY_MODEL_ae10db6605a44e6db8473c8c2f6d9098",
       "placeholder": "​",
       "style": "IPY_MODEL_1e53070f21b64c9798ff3f3bf42ab87c",
       "value": " 9.08M/9.08M [00:00&lt;00:00, 48.5MB/s]"
      }
     },
     "fb4cd3561a2b4b5da01bb7679f7a6034": {
      "model_module": "@jupyter-widgets/base",
      "model_module_version": "1.2.0",
      "model_name": "LayoutModel",
      "state": {
       "_model_module": "@jupyter-widgets/base",
       "_model_module_version": "1.2.0",
       "_model_name": "LayoutModel",
       "_view_count": null,
       "_view_module": "@jupyter-widgets/base",
       "_view_module_version": "1.2.0",
       "_view_name": "LayoutView",
       "align_content": null,
       "align_items": null,
       "align_self": null,
       "border": null,
       "bottom": null,
       "display": null,
       "flex": null,
       "flex_flow": null,
       "grid_area": null,
       "grid_auto_columns": null,
       "grid_auto_flow": null,
       "grid_auto_rows": null,
       "grid_column": null,
       "grid_gap": null,
       "grid_row": null,
       "grid_template_areas": null,
       "grid_template_columns": null,
       "grid_template_rows": null,
       "height": null,
       "justify_content": null,
       "justify_items": null,
       "left": null,
       "margin": null,
       "max_height": null,
       "max_width": null,
       "min_height": null,
       "min_width": null,
       "object_fit": null,
       "object_position": null,
       "order": null,
       "overflow": null,
       "overflow_x": null,
       "overflow_y": null,
       "padding": null,
       "right": null,
       "top": null,
       "visibility": null,
       "width": null
      }
     },
     "fc994bbad8224e8590a695ec4d8475dd": {
      "model_module": "@jupyter-widgets/base",
      "model_module_version": "1.2.0",
      "model_name": "LayoutModel",
      "state": {
       "_model_module": "@jupyter-widgets/base",
       "_model_module_version": "1.2.0",
       "_model_name": "LayoutModel",
       "_view_count": null,
       "_view_module": "@jupyter-widgets/base",
       "_view_module_version": "1.2.0",
       "_view_name": "LayoutView",
       "align_content": null,
       "align_items": null,
       "align_self": null,
       "border": null,
       "bottom": null,
       "display": null,
       "flex": null,
       "flex_flow": null,
       "grid_area": null,
       "grid_auto_columns": null,
       "grid_auto_flow": null,
       "grid_auto_rows": null,
       "grid_column": null,
       "grid_gap": null,
       "grid_row": null,
       "grid_template_areas": null,
       "grid_template_columns": null,
       "grid_template_rows": null,
       "height": null,
       "justify_content": null,
       "justify_items": null,
       "left": null,
       "margin": null,
       "max_height": null,
       "max_width": null,
       "min_height": null,
       "min_width": null,
       "object_fit": null,
       "object_position": null,
       "order": null,
       "overflow": null,
       "overflow_x": null,
       "overflow_y": null,
       "padding": null,
       "right": null,
       "top": null,
       "visibility": null,
       "width": null
      }
     }
    },
    "version_major": 2,
    "version_minor": 0
   }
  }
 },
 "nbformat": 4,
 "nbformat_minor": 5
}
