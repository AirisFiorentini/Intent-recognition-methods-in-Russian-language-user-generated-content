{
 "cells": [
  {
   "cell_type": "code",
   "execution_count": 1,
   "id": "0f944f32",
   "metadata": {
    "_cell_guid": "b1076dfc-b9ad-4769-8c92-a6c4dae69d19",
    "_uuid": "8f2839f25d086af736a60e9eeb907d3b93b6e0e5",
    "execution": {
     "iopub.execute_input": "2024-05-23T12:38:45.133184Z",
     "iopub.status.busy": "2024-05-23T12:38:45.132396Z",
     "iopub.status.idle": "2024-05-23T12:38:46.088038Z",
     "shell.execute_reply": "2024-05-23T12:38:46.087035Z"
    },
    "papermill": {
     "duration": 0.963985,
     "end_time": "2024-05-23T12:38:46.090754",
     "exception": false,
     "start_time": "2024-05-23T12:38:45.126769",
     "status": "completed"
    },
    "tags": []
   },
   "outputs": [
    {
     "name": "stdout",
     "output_type": "stream",
     "text": [
      "/kaggle/input/qa-intents-dataset-university-domain/dataset_test.tsv\n",
      "/kaggle/input/qa-intents-dataset-university-domain/labels_description.txt\n",
      "/kaggle/input/qa-intents-dataset-university-domain/dataset_train.tsv\n"
     ]
    }
   ],
   "source": [
    "import numpy as np # linear algebra\n",
    "import pandas as pd # data processing, CSV file I/O (e.g. pd.read_csv)\n",
    "\n",
    "import os\n",
    "for dirname, _, filenames in os.walk('/kaggle/input'):\n",
    "    for filename in filenames:\n",
    "        print(os.path.join(dirname, filename))"
   ]
  },
  {
   "cell_type": "code",
   "execution_count": 2,
   "id": "eab6d730",
   "metadata": {
    "execution": {
     "iopub.execute_input": "2024-05-23T12:38:46.099108Z",
     "iopub.status.busy": "2024-05-23T12:38:46.098101Z",
     "iopub.status.idle": "2024-05-23T12:38:52.123592Z",
     "shell.execute_reply": "2024-05-23T12:38:52.122138Z"
    },
    "papermill": {
     "duration": 6.032656,
     "end_time": "2024-05-23T12:38:52.126636",
     "exception": false,
     "start_time": "2024-05-23T12:38:46.093980",
     "status": "completed"
    },
    "tags": []
   },
   "outputs": [
    {
     "name": "stdout",
     "output_type": "stream",
     "text": [
      "[nltk_data] Downloading package punkt to /usr/share/nltk_data...\n",
      "[nltk_data]   Package punkt is already up-to-date!\n"
     ]
    },
    {
     "data": {
      "text/plain": [
       "True"
      ]
     },
     "execution_count": 2,
     "metadata": {},
     "output_type": "execute_result"
    }
   ],
   "source": [
    "import nltk\n",
    "from nltk.tokenize import word_tokenize\n",
    "from sklearn.feature_extraction.text import TfidfVectorizer\n",
    "from sklearn.preprocessing import LabelEncoder\n",
    "from torch.utils.data import Dataset, DataLoader\n",
    "import torch\n",
    "from torch import nn\n",
    "from sklearn.metrics import precision_recall_fscore_support, balanced_accuracy_score\n",
    "from sklearn.model_selection import train_test_split\n",
    "from tqdm import tqdm\n",
    "import matplotlib.pyplot as plt\n",
    "\n",
    "# Загрузка данных\n",
    "nltk.download('punkt')"
   ]
  },
  {
   "cell_type": "code",
   "execution_count": 3,
   "id": "4229e269",
   "metadata": {
    "execution": {
     "iopub.execute_input": "2024-05-23T12:38:52.137713Z",
     "iopub.status.busy": "2024-05-23T12:38:52.136683Z",
     "iopub.status.idle": "2024-05-23T12:38:54.128159Z",
     "shell.execute_reply": "2024-05-23T12:38:54.126919Z"
    },
    "papermill": {
     "duration": 1.999678,
     "end_time": "2024-05-23T12:38:54.130788",
     "exception": false,
     "start_time": "2024-05-23T12:38:52.131110",
     "status": "completed"
    },
    "tags": []
   },
   "outputs": [
    {
     "name": "stderr",
     "output_type": "stream",
     "text": [
      "/opt/conda/lib/python3.10/site-packages/sklearn/feature_extraction/text.py:528: UserWarning: The parameter 'token_pattern' will not be used since 'tokenizer' is not None'\n",
      "  warnings.warn(\n"
     ]
    }
   ],
   "source": [
    "train_data = pd.read_csv('../input/qa-intents-dataset-university-domain/dataset_train.tsv', delimiter='\\t', encoding=\"utf-8\", names=['text', 'intent'])\n",
    "test_data = pd.read_csv('../input/qa-intents-dataset-university-domain/dataset_test.tsv', delimiter='\\t', encoding=\"utf-8\", names=['text', 'intent'])\n",
    "full_data = pd.concat([train_data, test_data])\n",
    "\n",
    "train, test = train_test_split(full_data, test_size=0.2, random_state=42)\n",
    "\n",
    "# Преобразование меток в числовые значения\n",
    "le = LabelEncoder()\n",
    "train_labels = le.fit_transform(train['intent'])\n",
    "test_labels = le.transform(test['intent'])\n",
    "\n",
    "# Токенизация и преобразование в TF-IDF\n",
    "tokenizer = word_tokenize\n",
    "vectorizer = TfidfVectorizer(tokenizer=tokenizer, stop_words='english')\n",
    "train_texts = vectorizer.fit_transform(train['text']).toarray()\n",
    "test_texts = vectorizer.transform(test['text']).toarray()"
   ]
  },
  {
   "cell_type": "code",
   "execution_count": 4,
   "id": "c8b33fa0",
   "metadata": {
    "execution": {
     "iopub.execute_input": "2024-05-23T12:38:54.139039Z",
     "iopub.status.busy": "2024-05-23T12:38:54.138619Z",
     "iopub.status.idle": "2024-05-23T12:38:54.144359Z",
     "shell.execute_reply": "2024-05-23T12:38:54.143450Z"
    },
    "papermill": {
     "duration": 0.012261,
     "end_time": "2024-05-23T12:38:54.146406",
     "exception": false,
     "start_time": "2024-05-23T12:38:54.134145",
     "status": "completed"
    },
    "tags": []
   },
   "outputs": [],
   "source": [
    "# Определение датасета\n",
    "class TextDataset(Dataset):\n",
    "    def __init__(self, texts, labels):\n",
    "        self.texts = texts\n",
    "        self.labels = labels\n",
    "\n",
    "    def __len__(self):\n",
    "        return len(self.texts)\n",
    "\n",
    "    def __getitem__(self, idx):\n",
    "        return self.texts[idx], self.labels[idx]"
   ]
  },
  {
   "cell_type": "code",
   "execution_count": 5,
   "id": "5a6dd540",
   "metadata": {
    "execution": {
     "iopub.execute_input": "2024-05-23T12:38:54.154934Z",
     "iopub.status.busy": "2024-05-23T12:38:54.154548Z",
     "iopub.status.idle": "2024-05-23T12:38:54.167213Z",
     "shell.execute_reply": "2024-05-23T12:38:54.166177Z"
    },
    "papermill": {
     "duration": 0.019603,
     "end_time": "2024-05-23T12:38:54.169480",
     "exception": false,
     "start_time": "2024-05-23T12:38:54.149877",
     "status": "completed"
    },
    "tags": []
   },
   "outputs": [],
   "source": [
    "train_dataset = TextDataset(torch.from_numpy(train_texts), train_labels)\n",
    "test_dataset = TextDataset(torch.from_numpy(test_texts), test_labels)\n",
    "train_loader = DataLoader(train_dataset, batch_size=32, shuffle=True)\n",
    "test_loader = DataLoader(test_dataset, batch_size=32)"
   ]
  },
  {
   "cell_type": "code",
   "execution_count": 6,
   "id": "b727c65d",
   "metadata": {
    "execution": {
     "iopub.execute_input": "2024-05-23T12:38:54.177779Z",
     "iopub.status.busy": "2024-05-23T12:38:54.177423Z",
     "iopub.status.idle": "2024-05-23T12:38:54.184459Z",
     "shell.execute_reply": "2024-05-23T12:38:54.183211Z"
    },
    "papermill": {
     "duration": 0.014106,
     "end_time": "2024-05-23T12:38:54.186913",
     "exception": false,
     "start_time": "2024-05-23T12:38:54.172807",
     "status": "completed"
    },
    "tags": []
   },
   "outputs": [],
   "source": [
    "# Определение модели RNN\n",
    "class RNNClassifier(nn.Module):\n",
    "    def __init__(self, input_dim, hidden_dim, output_dim):\n",
    "        super().__init__()\n",
    "        self.rnn = nn.RNN(input_dim, hidden_dim, batch_first=True)\n",
    "        self.fc = nn.Linear(hidden_dim, output_dim)\n",
    "\n",
    "    def forward(self, x):\n",
    "        x = x.unsqueeze(1)  # Добавление дополнительного измерения\n",
    "        rnn_out, _ = self.rnn(x)\n",
    "        out = self.fc(rnn_out[:, -1, :])\n",
    "        return out"
   ]
  },
  {
   "cell_type": "code",
   "execution_count": 7,
   "id": "dfd60893",
   "metadata": {
    "execution": {
     "iopub.execute_input": "2024-05-23T12:38:54.195671Z",
     "iopub.status.busy": "2024-05-23T12:38:54.195295Z",
     "iopub.status.idle": "2024-05-23T12:39:44.380517Z",
     "shell.execute_reply": "2024-05-23T12:39:44.379446Z"
    },
    "papermill": {
     "duration": 50.193052,
     "end_time": "2024-05-23T12:39:44.383435",
     "exception": false,
     "start_time": "2024-05-23T12:38:54.190383",
     "status": "completed"
    },
    "tags": []
   },
   "outputs": [
    {
     "name": "stderr",
     "output_type": "stream",
     "text": [
      "100%|██████████| 353/353 [00:03<00:00, 96.18it/s] \n",
      "100%|██████████| 89/89 [00:00<00:00, 639.55it/s]\n"
     ]
    },
    {
     "name": "stdout",
     "output_type": "stream",
     "text": [
      "Epoch 1, Train Loss: 3.2230938374151927, Val Loss: 1.4051339452186327\n"
     ]
    },
    {
     "name": "stderr",
     "output_type": "stream",
     "text": [
      "100%|██████████| 353/353 [00:02<00:00, 119.63it/s]\n",
      "100%|██████████| 89/89 [00:00<00:00, 649.33it/s]\n"
     ]
    },
    {
     "name": "stdout",
     "output_type": "stream",
     "text": [
      "Epoch 2, Train Loss: 0.7057537255391858, Val Loss: 0.3453483670280221\n"
     ]
    },
    {
     "name": "stderr",
     "output_type": "stream",
     "text": [
      "100%|██████████| 353/353 [00:02<00:00, 121.04it/s]\n",
      "100%|██████████| 89/89 [00:00<00:00, 690.69it/s]\n"
     ]
    },
    {
     "name": "stdout",
     "output_type": "stream",
     "text": [
      "Epoch 3, Train Loss: 0.2273348409038765, Val Loss: 0.18631899021984485\n"
     ]
    },
    {
     "name": "stderr",
     "output_type": "stream",
     "text": [
      "100%|██████████| 353/353 [00:02<00:00, 120.36it/s]\n",
      "100%|██████████| 89/89 [00:00<00:00, 703.86it/s]\n"
     ]
    },
    {
     "name": "stdout",
     "output_type": "stream",
     "text": [
      "Epoch 4, Train Loss: 0.14218331210146376, Val Loss: 0.15092283912170468\n"
     ]
    },
    {
     "name": "stderr",
     "output_type": "stream",
     "text": [
      "100%|██████████| 353/353 [00:02<00:00, 119.28it/s]\n",
      "100%|██████████| 89/89 [00:00<00:00, 663.12it/s]\n"
     ]
    },
    {
     "name": "stdout",
     "output_type": "stream",
     "text": [
      "Epoch 5, Train Loss: 0.11540501753907788, Val Loss: 0.13444671440827713\n"
     ]
    },
    {
     "name": "stderr",
     "output_type": "stream",
     "text": [
      "100%|██████████| 353/353 [00:02<00:00, 121.56it/s]\n",
      "100%|██████████| 89/89 [00:00<00:00, 706.97it/s]\n"
     ]
    },
    {
     "name": "stdout",
     "output_type": "stream",
     "text": [
      "Epoch 6, Train Loss: 0.10338949833181357, Val Loss: 0.1290513876187249\n"
     ]
    },
    {
     "name": "stderr",
     "output_type": "stream",
     "text": [
      "100%|██████████| 353/353 [00:02<00:00, 125.24it/s]\n",
      "100%|██████████| 89/89 [00:00<00:00, 734.11it/s]\n"
     ]
    },
    {
     "name": "stdout",
     "output_type": "stream",
     "text": [
      "Epoch 7, Train Loss: 0.09785636589353212, Val Loss: 0.12377445948090446\n"
     ]
    },
    {
     "name": "stderr",
     "output_type": "stream",
     "text": [
      "100%|██████████| 353/353 [00:02<00:00, 117.79it/s]\n",
      "100%|██████████| 89/89 [00:00<00:00, 680.47it/s]\n"
     ]
    },
    {
     "name": "stdout",
     "output_type": "stream",
     "text": [
      "Epoch 8, Train Loss: 0.09375328165821985, Val Loss: 0.1256117053549695\n"
     ]
    },
    {
     "name": "stderr",
     "output_type": "stream",
     "text": [
      "100%|██████████| 353/353 [00:03<00:00, 105.75it/s]\n",
      "100%|██████████| 89/89 [00:00<00:00, 702.79it/s]\n"
     ]
    },
    {
     "name": "stdout",
     "output_type": "stream",
     "text": [
      "Epoch 9, Train Loss: 0.09117975542928612, Val Loss: 0.12339741015660294\n"
     ]
    },
    {
     "name": "stderr",
     "output_type": "stream",
     "text": [
      "100%|██████████| 353/353 [00:02<00:00, 119.29it/s]\n",
      "100%|██████████| 89/89 [00:00<00:00, 695.68it/s]\n"
     ]
    },
    {
     "name": "stdout",
     "output_type": "stream",
     "text": [
      "Epoch 10, Train Loss: 0.08952126535784886, Val Loss: 0.1251445165521392\n"
     ]
    },
    {
     "name": "stderr",
     "output_type": "stream",
     "text": [
      "100%|██████████| 353/353 [00:02<00:00, 122.66it/s]\n",
      "100%|██████████| 89/89 [00:00<00:00, 752.35it/s]\n"
     ]
    },
    {
     "name": "stdout",
     "output_type": "stream",
     "text": [
      "Epoch 11, Train Loss: 0.0882200101613418, Val Loss: 0.12489758405881526\n"
     ]
    },
    {
     "name": "stderr",
     "output_type": "stream",
     "text": [
      "100%|██████████| 353/353 [00:02<00:00, 119.76it/s]\n",
      "100%|██████████| 89/89 [00:00<00:00, 715.51it/s]\n"
     ]
    },
    {
     "name": "stdout",
     "output_type": "stream",
     "text": [
      "Epoch 12, Train Loss: 0.0873193353950112, Val Loss: 0.12556358587697902\n"
     ]
    },
    {
     "name": "stderr",
     "output_type": "stream",
     "text": [
      "100%|██████████| 353/353 [00:02<00:00, 120.93it/s]\n",
      "100%|██████████| 89/89 [00:00<00:00, 747.07it/s]\n"
     ]
    },
    {
     "name": "stdout",
     "output_type": "stream",
     "text": [
      "Epoch 13, Train Loss: 0.0866769366139459, Val Loss: 0.12671491108819047\n"
     ]
    },
    {
     "name": "stderr",
     "output_type": "stream",
     "text": [
      "100%|██████████| 353/353 [00:02<00:00, 120.24it/s]\n",
      "100%|██████████| 89/89 [00:00<00:00, 720.17it/s]\n"
     ]
    },
    {
     "name": "stdout",
     "output_type": "stream",
     "text": [
      "Epoch 14, Train Loss: 0.08584462448218494, Val Loss: 0.12901959108094568\n"
     ]
    },
    {
     "name": "stderr",
     "output_type": "stream",
     "text": [
      "100%|██████████| 353/353 [00:02<00:00, 118.07it/s]\n",
      "100%|██████████| 89/89 [00:00<00:00, 700.70it/s]\n"
     ]
    },
    {
     "name": "stdout",
     "output_type": "stream",
     "text": [
      "Epoch 15, Train Loss: 0.08612705805517334, Val Loss: 0.1294580940189876\n"
     ]
    },
    {
     "data": {
      "image/png": "[encoded data removed]",
      "text/plain": [
       "<Figure size 640x480 with 1 Axes>"
      ]
     },
     "metadata": {},
     "output_type": "display_data"
    }
   ],
   "source": [
    "# Инициализация модели\n",
    "model = RNNClassifier(input_dim=train_texts.shape[1], hidden_dim=256, output_dim=len(le.classes_))\n",
    "\n",
    "# Настройка устройства\n",
    "device = torch.device('cuda' if torch.cuda.is_available() else 'cpu')\n",
    "model = model.to(device)\n",
    "\n",
    "# Определение функции потерь и оптимизатора\n",
    "criterion = nn.CrossEntropyLoss()\n",
    "optimizer = torch.optim.Adam(model.parameters(), lr=0.001)\n",
    "\n",
    "# Обучение модели\n",
    "train_losses = []\n",
    "val_losses = []\n",
    "\n",
    "for epoch in range(15):\n",
    "    train_loss = 0\n",
    "    val_loss = 0\n",
    "\n",
    "    # Обучение\n",
    "    model.train()\n",
    "    for texts, labels in tqdm(train_loader):\n",
    "        texts = texts.float().to(device)\n",
    "        labels = labels.to(device)\n",
    "\n",
    "        outputs = model(texts)\n",
    "        loss = criterion(outputs, labels)\n",
    "\n",
    "        optimizer.zero_grad()\n",
    "        loss.backward()\n",
    "        optimizer.step()\n",
    "\n",
    "        train_loss += loss.item()\n",
    "\n",
    "    # Валидация\n",
    "    model.eval()\n",
    "    with torch.no_grad():\n",
    "        for texts, labels in tqdm(test_loader):\n",
    "            texts = texts.float().to(device)\n",
    "            labels = labels.to(device)\n",
    "\n",
    "            outputs = model(texts)\n",
    "            loss = criterion(outputs, labels)\n",
    "\n",
    "            val_loss += loss.item()\n",
    "\n",
    "    train_loss /= len(train_loader)\n",
    "    val_loss /= len(test_loader)\n",
    "    train_losses.append(train_loss)\n",
    "    val_losses.append(val_loss)\n",
    "\n",
    "    print(f'Epoch {epoch+1}, Train Loss: {train_loss}, Val Loss: {val_loss}')\n",
    "\n",
    "# Построение графика потерь\n",
    "plt.plot(range(1, 16), train_losses, label='Train Loss')\n",
    "plt.plot(range(1, 16), val_losses, label='Val Loss')\n",
    "plt.xlabel('Epoch')\n",
    "plt.ylabel('Loss')\n",
    "plt.legend()\n",
    "plt.show()"
   ]
  },
  {
   "cell_type": "code",
   "execution_count": 8,
   "id": "094ec72e",
   "metadata": {
    "execution": {
     "iopub.execute_input": "2024-05-23T12:39:44.461810Z",
     "iopub.status.busy": "2024-05-23T12:39:44.460308Z",
     "iopub.status.idle": "2024-05-23T12:39:44.602580Z",
     "shell.execute_reply": "2024-05-23T12:39:44.601283Z"
    },
    "papermill": {
     "duration": 0.182716,
     "end_time": "2024-05-23T12:39:44.604687",
     "exception": false,
     "start_time": "2024-05-23T12:39:44.421971",
     "status": "completed"
    },
    "tags": []
   },
   "outputs": [
    {
     "name": "stdout",
     "output_type": "stream",
     "text": [
      "0.9524282334028727\n",
      "(0.9489587785103786, 0.9489904357066951, 0.946932619761174, None)\n"
     ]
    },
    {
     "name": "stderr",
     "output_type": "stream",
     "text": [
      "/opt/conda/lib/python3.10/site-packages/sklearn/metrics/_classification.py:1344: UndefinedMetricWarning: Precision and F-score are ill-defined and being set to 0.0 in labels with no predicted samples. Use `zero_division` parameter to control this behavior.\n",
      "  _warn_prf(average, modifier, msg_start, len(result))\n"
     ]
    }
   ],
   "source": [
    "# Прогнозирование на тестовом наборе\n",
    "predictions = []\n",
    "with torch.no_grad():\n",
    "    for texts, labels in test_loader:\n",
    "        texts = texts.float().to(device)\n",
    "        outputs = model(texts)\n",
    "        _, predicted = torch.max(outputs.data, 1)\n",
    "        predictions.extend(predicted.cpu().numpy())\n",
    "\n",
    "# Перевод меток обратно в исходные интенты\n",
    "predicted_intents = le.inverse_transform(predictions)\n",
    "\n",
    "print(balanced_accuracy_score(test_labels, predictions))\n",
    "print(precision_recall_fscore_support(test_labels, predictions, average='weighted'))"
   ]
  }
 ],
 "metadata": {
  "kaggle": {
   "accelerator": "none",
   "dataSources": [
    {
     "datasetId": 1549969,
     "sourceId": 2560015,
     "sourceType": "datasetVersion"
    }
   ],
   "dockerImageVersionId": 30698,
   "isGpuEnabled": false,
   "isInternetEnabled": true,
   "language": "python",
   "sourceType": "notebook"
  },
  "kernelspec": {
   "display_name": "Python 3",
   "language": "python",
   "name": "python3"
  },
  "language_info": {
   "codemirror_mode": {
    "name": "ipython",
    "version": 3
   },
   "file_extension": ".py",
   "mimetype": "text/x-python",
   "name": "python",
   "nbconvert_exporter": "python",
   "pygments_lexer": "ipython3",
   "version": "3.10.13"
  },
  "papermill": {
   "default_parameters": {},
   "duration": 63.716799,
   "end_time": "2024-05-23T12:39:46.066134",
   "environment_variables": {},
   "exception": null,
   "input_path": "__notebook__.ipynb",
   "output_path": "__notebook__.ipynb",
   "parameters": {},
   "start_time": "2024-05-23T12:38:42.349335",
   "version": "2.5.0"
  }
 },
 "nbformat": 4,
 "nbformat_minor": 5
}
