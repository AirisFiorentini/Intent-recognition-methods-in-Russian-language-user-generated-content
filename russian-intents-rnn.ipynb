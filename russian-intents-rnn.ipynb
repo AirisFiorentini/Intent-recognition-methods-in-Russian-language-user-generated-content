{
 "cells": [
  {
   "cell_type": "code",
   "execution_count": 1,
   "id": "fada725d",
   "metadata": {
    "_cell_guid": "b1076dfc-b9ad-4769-8c92-a6c4dae69d19",
    "_uuid": "8f2839f25d086af736a60e9eeb907d3b93b6e0e5",
    "execution": {
     "iopub.execute_input": "2024-05-30T09:28:56.636437Z",
     "iopub.status.busy": "2024-05-30T09:28:56.636067Z",
     "iopub.status.idle": "2024-05-30T09:28:57.323930Z",
     "shell.execute_reply": "2024-05-30T09:28:57.322938Z"
    },
    "papermill": {
     "duration": 0.694947,
     "end_time": "2024-05-30T09:28:57.326099",
     "exception": false,
     "start_time": "2024-05-30T09:28:56.631152",
     "status": "completed"
    },
    "tags": []
   },
   "outputs": [
    {
     "name": "stdout",
     "output_type": "stream",
     "text": [
      "/kaggle/input/qa-intents-dataset-university-domain/dataset_test.tsv\n",
      "/kaggle/input/qa-intents-dataset-university-domain/labels_description.txt\n",
      "/kaggle/input/qa-intents-dataset-university-domain/dataset_train.tsv\n"
     ]
    }
   ],
   "source": [
    "import numpy as np # linear algebra\n",
    "import pandas as pd # data processing, CSV file I/O (e.g. pd.read_csv)\n",
    "\n",
    "import os\n",
    "for dirname, _, filenames in os.walk('/kaggle/input'):\n",
    "    for filename in filenames:\n",
    "        print(os.path.join(dirname, filename))"
   ]
  },
  {
   "cell_type": "code",
   "execution_count": 2,
   "id": "568269cd",
   "metadata": {
    "execution": {
     "iopub.execute_input": "2024-05-30T09:28:57.334393Z",
     "iopub.status.busy": "2024-05-30T09:28:57.333840Z",
     "iopub.status.idle": "2024-05-30T09:29:02.774658Z",
     "shell.execute_reply": "2024-05-30T09:29:02.773660Z"
    },
    "papermill": {
     "duration": 5.44689,
     "end_time": "2024-05-30T09:29:02.776625",
     "exception": false,
     "start_time": "2024-05-30T09:28:57.329735",
     "status": "completed"
    },
    "tags": []
   },
   "outputs": [
    {
     "name": "stdout",
     "output_type": "stream",
     "text": [
      "[nltk_data] Downloading package punkt to /usr/share/nltk_data...\n",
      "[nltk_data]   Package punkt is already up-to-date!\n"
     ]
    },
    {
     "data": {
      "text/plain": [
       "True"
      ]
     },
     "execution_count": 2,
     "metadata": {},
     "output_type": "execute_result"
    }
   ],
   "source": [
    "import nltk\n",
    "from nltk.tokenize import word_tokenize\n",
    "from sklearn.feature_extraction.text import TfidfVectorizer\n",
    "from sklearn.preprocessing import LabelEncoder\n",
    "from torch.utils.data import Dataset, DataLoader\n",
    "import torch\n",
    "from torch import nn\n",
    "from sklearn.metrics import precision_recall_fscore_support, balanced_accuracy_score\n",
    "from sklearn.model_selection import train_test_split\n",
    "from tqdm import tqdm\n",
    "import matplotlib.pyplot as plt\n",
    "import timeit\n",
    "\n",
    "# Загрузка данных\n",
    "nltk.download('punkt')"
   ]
  },
  {
   "cell_type": "code",
   "execution_count": 3,
   "id": "46e4cb73",
   "metadata": {
    "execution": {
     "iopub.execute_input": "2024-05-30T09:29:02.784822Z",
     "iopub.status.busy": "2024-05-30T09:29:02.784385Z",
     "iopub.status.idle": "2024-05-30T09:29:04.948930Z",
     "shell.execute_reply": "2024-05-30T09:29:04.947937Z"
    },
    "papermill": {
     "duration": 2.171267,
     "end_time": "2024-05-30T09:29:04.951384",
     "exception": false,
     "start_time": "2024-05-30T09:29:02.780117",
     "status": "completed"
    },
    "tags": []
   },
   "outputs": [
    {
     "name": "stderr",
     "output_type": "stream",
     "text": [
      "/opt/conda/lib/python3.10/site-packages/sklearn/feature_extraction/text.py:528: UserWarning: The parameter 'token_pattern' will not be used since 'tokenizer' is not None'\n",
      "  warnings.warn(\n"
     ]
    }
   ],
   "source": [
    "train_data = pd.read_csv('../input/qa-intents-dataset-university-domain/dataset_train.tsv', delimiter='\\t', encoding=\"utf-8\", names=['text', 'intent'])\n",
    "test_data = pd.read_csv('../input/qa-intents-dataset-university-domain/dataset_test.tsv', delimiter='\\t', encoding=\"utf-8\", names=['text', 'intent'])\n",
    "full_data = pd.concat([train_data, test_data])\n",
    "\n",
    "train, test = train_test_split(full_data, test_size=0.2, random_state=42)\n",
    "\n",
    "# Преобразование меток в числовые значения\n",
    "le = LabelEncoder()\n",
    "train_labels = le.fit_transform(train['intent'])\n",
    "test_labels = le.transform(test['intent'])\n",
    "\n",
    "# Токенизация и преобразование в TF-IDF\n",
    "tokenizer = word_tokenize\n",
    "vectorizer = TfidfVectorizer(tokenizer=tokenizer, stop_words='english')\n",
    "train_texts = vectorizer.fit_transform(train['text']).toarray()\n",
    "test_texts = vectorizer.transform(test['text']).toarray()"
   ]
  },
  {
   "cell_type": "code",
   "execution_count": 4,
   "id": "dce90f7a",
   "metadata": {
    "execution": {
     "iopub.execute_input": "2024-05-30T09:29:04.960028Z",
     "iopub.status.busy": "2024-05-30T09:29:04.959734Z",
     "iopub.status.idle": "2024-05-30T09:29:04.965255Z",
     "shell.execute_reply": "2024-05-30T09:29:04.964368Z"
    },
    "papermill": {
     "duration": 0.011877,
     "end_time": "2024-05-30T09:29:04.967126",
     "exception": false,
     "start_time": "2024-05-30T09:29:04.955249",
     "status": "completed"
    },
    "tags": []
   },
   "outputs": [],
   "source": [
    "# Определение датасета\n",
    "class TextDataset(Dataset):\n",
    "    def __init__(self, texts, labels):\n",
    "        self.texts = texts\n",
    "        self.labels = labels\n",
    "\n",
    "    def __len__(self):\n",
    "        return len(self.texts)\n",
    "\n",
    "    def __getitem__(self, idx):\n",
    "        return self.texts[idx], self.labels[idx]"
   ]
  },
  {
   "cell_type": "code",
   "execution_count": 5,
   "id": "4ae120df",
   "metadata": {
    "execution": {
     "iopub.execute_input": "2024-05-30T09:29:04.975151Z",
     "iopub.status.busy": "2024-05-30T09:29:04.974889Z",
     "iopub.status.idle": "2024-05-30T09:29:04.987394Z",
     "shell.execute_reply": "2024-05-30T09:29:04.986687Z"
    },
    "papermill": {
     "duration": 0.018563,
     "end_time": "2024-05-30T09:29:04.989234",
     "exception": false,
     "start_time": "2024-05-30T09:29:04.970671",
     "status": "completed"
    },
    "tags": []
   },
   "outputs": [],
   "source": [
    "train_dataset = TextDataset(torch.from_numpy(train_texts), train_labels)\n",
    "test_dataset = TextDataset(torch.from_numpy(test_texts), test_labels)\n",
    "train_loader = DataLoader(train_dataset, batch_size=32, shuffle=True)\n",
    "test_loader = DataLoader(test_dataset, batch_size=32)"
   ]
  },
  {
   "cell_type": "code",
   "execution_count": 6,
   "id": "21d08e66",
   "metadata": {
    "execution": {
     "iopub.execute_input": "2024-05-30T09:29:04.997277Z",
     "iopub.status.busy": "2024-05-30T09:29:04.997015Z",
     "iopub.status.idle": "2024-05-30T09:29:05.002810Z",
     "shell.execute_reply": "2024-05-30T09:29:05.002021Z"
    },
    "papermill": {
     "duration": 0.011857,
     "end_time": "2024-05-30T09:29:05.004551",
     "exception": false,
     "start_time": "2024-05-30T09:29:04.992694",
     "status": "completed"
    },
    "tags": []
   },
   "outputs": [],
   "source": [
    "# Определение модели RNN\n",
    "class RNNClassifier(nn.Module):\n",
    "    def __init__(self, input_dim, hidden_dim, output_dim):\n",
    "        super().__init__()\n",
    "        self.rnn = nn.RNN(input_dim, hidden_dim, batch_first=True)\n",
    "        self.fc = nn.Linear(hidden_dim, output_dim)\n",
    "\n",
    "    def forward(self, x):\n",
    "        x = x.unsqueeze(1)  # Добавление дополнительного измерения\n",
    "        rnn_out, _ = self.rnn(x)\n",
    "        out = self.fc(rnn_out[:, -1, :])\n",
    "        return out"
   ]
  },
  {
   "cell_type": "code",
   "execution_count": 7,
   "id": "77997afe",
   "metadata": {
    "execution": {
     "iopub.execute_input": "2024-05-30T09:29:05.012558Z",
     "iopub.status.busy": "2024-05-30T09:29:05.012282Z",
     "iopub.status.idle": "2024-05-30T09:29:22.317046Z",
     "shell.execute_reply": "2024-05-30T09:29:22.316148Z"
    },
    "papermill": {
     "duration": 17.311029,
     "end_time": "2024-05-30T09:29:22.319069",
     "exception": false,
     "start_time": "2024-05-30T09:29:05.008040",
     "status": "completed"
    },
    "tags": []
   },
   "outputs": [
    {
     "name": "stderr",
     "output_type": "stream",
     "text": [
      "100%|██████████| 353/353 [00:01<00:00, 278.21it/s]\n",
      "100%|██████████| 89/89 [00:00<00:00, 783.88it/s]\n"
     ]
    },
    {
     "name": "stdout",
     "output_type": "stream",
     "text": [
      "Epoch 1, Train Loss: 3.2268604332259287, Val Loss: 1.3979938345009022\n"
     ]
    },
    {
     "name": "stderr",
     "output_type": "stream",
     "text": [
      "100%|██████████| 353/353 [00:00<00:00, 424.16it/s]\n",
      "100%|██████████| 89/89 [00:00<00:00, 1057.78it/s]\n"
     ]
    },
    {
     "name": "stdout",
     "output_type": "stream",
     "text": [
      "Epoch 2, Train Loss: 0.7086537347172542, Val Loss: 0.3464587233709485\n"
     ]
    },
    {
     "name": "stderr",
     "output_type": "stream",
     "text": [
      "100%|██████████| 353/353 [00:00<00:00, 422.74it/s]\n",
      "100%|██████████| 89/89 [00:00<00:00, 1020.48it/s]\n"
     ]
    },
    {
     "name": "stdout",
     "output_type": "stream",
     "text": [
      "Epoch 3, Train Loss: 0.2306415381981192, Val Loss: 0.18894316528118058\n"
     ]
    },
    {
     "name": "stderr",
     "output_type": "stream",
     "text": [
      "100%|██████████| 353/353 [00:00<00:00, 426.19it/s]\n",
      "100%|██████████| 89/89 [00:00<00:00, 1008.62it/s]\n"
     ]
    },
    {
     "name": "stdout",
     "output_type": "stream",
     "text": [
      "Epoch 4, Train Loss: 0.1436674663369615, Val Loss: 0.1481124106376024\n"
     ]
    },
    {
     "name": "stderr",
     "output_type": "stream",
     "text": [
      "100%|██████████| 353/353 [00:00<00:00, 413.72it/s]\n",
      "100%|██████████| 89/89 [00:00<00:00, 979.14it/s]\n"
     ]
    },
    {
     "name": "stdout",
     "output_type": "stream",
     "text": [
      "Epoch 5, Train Loss: 0.11645478458689901, Val Loss: 0.13466794553390715\n"
     ]
    },
    {
     "name": "stderr",
     "output_type": "stream",
     "text": [
      "100%|██████████| 353/353 [00:00<00:00, 396.84it/s]\n",
      "100%|██████████| 89/89 [00:00<00:00, 831.34it/s]\n"
     ]
    },
    {
     "name": "stdout",
     "output_type": "stream",
     "text": [
      "Epoch 6, Train Loss: 0.10322560430385658, Val Loss: 0.12986115935478318\n"
     ]
    },
    {
     "name": "stderr",
     "output_type": "stream",
     "text": [
      "100%|██████████| 353/353 [00:00<00:00, 423.24it/s]\n",
      "100%|██████████| 89/89 [00:00<00:00, 1033.91it/s]\n"
     ]
    },
    {
     "name": "stdout",
     "output_type": "stream",
     "text": [
      "Epoch 7, Train Loss: 0.09763921149702949, Val Loss: 0.12508290517928727\n"
     ]
    },
    {
     "name": "stderr",
     "output_type": "stream",
     "text": [
      "100%|██████████| 353/353 [00:00<00:00, 420.10it/s]\n",
      "100%|██████████| 89/89 [00:00<00:00, 997.58it/s]\n"
     ]
    },
    {
     "name": "stdout",
     "output_type": "stream",
     "text": [
      "Epoch 8, Train Loss: 0.0938337094291633, Val Loss: 0.12252072533958833\n"
     ]
    },
    {
     "name": "stderr",
     "output_type": "stream",
     "text": [
      "100%|██████████| 353/353 [00:00<00:00, 428.86it/s]\n",
      "100%|██████████| 89/89 [00:00<00:00, 1048.63it/s]\n"
     ]
    },
    {
     "name": "stdout",
     "output_type": "stream",
     "text": [
      "Epoch 9, Train Loss: 0.09106381192259891, Val Loss: 0.12088390957731544\n"
     ]
    },
    {
     "name": "stderr",
     "output_type": "stream",
     "text": [
      "100%|██████████| 353/353 [00:00<00:00, 422.92it/s]\n",
      "100%|██████████| 89/89 [00:00<00:00, 1029.18it/s]\n"
     ]
    },
    {
     "name": "stdout",
     "output_type": "stream",
     "text": [
      "Epoch 10, Train Loss: 0.08961758723913853, Val Loss: 0.12149738662698295\n"
     ]
    },
    {
     "name": "stderr",
     "output_type": "stream",
     "text": [
      "100%|██████████| 353/353 [00:00<00:00, 421.73it/s]\n",
      "100%|██████████| 89/89 [00:00<00:00, 1012.62it/s]\n"
     ]
    },
    {
     "name": "stdout",
     "output_type": "stream",
     "text": [
      "Epoch 11, Train Loss: 0.08820182963494717, Val Loss: 0.12230999618925656\n"
     ]
    },
    {
     "name": "stderr",
     "output_type": "stream",
     "text": [
      "100%|██████████| 353/353 [00:00<00:00, 419.47it/s]\n",
      "100%|██████████| 89/89 [00:00<00:00, 1006.65it/s]\n"
     ]
    },
    {
     "name": "stdout",
     "output_type": "stream",
     "text": [
      "Epoch 12, Train Loss: 0.08765979153572426, Val Loss: 0.12219946886663942\n"
     ]
    },
    {
     "name": "stderr",
     "output_type": "stream",
     "text": [
      "100%|██████████| 353/353 [00:00<00:00, 425.16it/s]\n",
      "100%|██████████| 89/89 [00:00<00:00, 1009.18it/s]\n"
     ]
    },
    {
     "name": "stdout",
     "output_type": "stream",
     "text": [
      "Epoch 13, Train Loss: 0.0869919439601625, Val Loss: 0.1260961432172132\n"
     ]
    },
    {
     "name": "stderr",
     "output_type": "stream",
     "text": [
      "100%|██████████| 353/353 [00:00<00:00, 412.60it/s]\n",
      "100%|██████████| 89/89 [00:00<00:00, 1049.06it/s]\n"
     ]
    },
    {
     "name": "stdout",
     "output_type": "stream",
     "text": [
      "Epoch 14, Train Loss: 0.08604215623028628, Val Loss: 0.12557922812895536\n"
     ]
    },
    {
     "name": "stderr",
     "output_type": "stream",
     "text": [
      "100%|██████████| 353/353 [00:00<00:00, 426.89it/s]\n",
      "100%|██████████| 89/89 [00:00<00:00, 1009.30it/s]\n"
     ]
    },
    {
     "name": "stdout",
     "output_type": "stream",
     "text": [
      "Epoch 15, Train Loss: 0.08552006150499546, Val Loss: 0.12664703384703654\n"
     ]
    },
    {
     "data": {
      "image/png": "[encoded data removed]",
      "text/plain": [
       "<Figure size 640x480 with 1 Axes>"
      ]
     },
     "metadata": {},
     "output_type": "display_data"
    }
   ],
   "source": [
    "# Инициализация модели\n",
    "model = RNNClassifier(input_dim=train_texts.shape[1], hidden_dim=256, output_dim=len(le.classes_))\n",
    "\n",
    "# Настройка устройства\n",
    "device = torch.device('cuda' if torch.cuda.is_available() else 'cpu')\n",
    "model = model.to(device)\n",
    "\n",
    "# Определение функции потерь и оптимизатора\n",
    "criterion = nn.CrossEntropyLoss()\n",
    "optimizer = torch.optim.Adam(model.parameters(), lr=0.001)\n",
    "\n",
    "# Обучение модели\n",
    "train_losses = []\n",
    "val_losses = []\n",
    "\n",
    "for epoch in range(15):\n",
    "    train_loss = 0\n",
    "    val_loss = 0\n",
    "\n",
    "    # Обучение\n",
    "    model.train()\n",
    "    for texts, labels in tqdm(train_loader):\n",
    "        texts = texts.float().to(device)\n",
    "        labels = labels.to(device)\n",
    "\n",
    "        outputs = model(texts)\n",
    "        loss = criterion(outputs, labels)\n",
    "\n",
    "        optimizer.zero_grad()\n",
    "        loss.backward()\n",
    "        optimizer.step()\n",
    "\n",
    "        train_loss += loss.item()\n",
    "\n",
    "    # Валидация\n",
    "    model.eval()\n",
    "    with torch.no_grad():\n",
    "        for texts, labels in tqdm(test_loader):\n",
    "            texts = texts.float().to(device)\n",
    "            labels = labels.to(device)\n",
    "\n",
    "            outputs = model(texts)\n",
    "            loss = criterion(outputs, labels)\n",
    "\n",
    "            val_loss += loss.item()\n",
    "\n",
    "    train_loss /= len(train_loader)\n",
    "    val_loss /= len(test_loader)\n",
    "    train_losses.append(train_loss)\n",
    "    val_losses.append(val_loss)\n",
    "\n",
    "    print(f'Epoch {epoch+1}, Train Loss: {train_loss}, Val Loss: {val_loss}')\n",
    "\n",
    "# Построение графика потерь\n",
    "plt.plot(range(1, 16), train_losses, label='Train Loss')\n",
    "plt.plot(range(1, 16), val_losses, label='Val Loss')\n",
    "plt.xlabel('Epoch')\n",
    "plt.ylabel('Loss')\n",
    "plt.legend()\n",
    "plt.show()"
   ]
  },
  {
   "cell_type": "code",
   "execution_count": 8,
   "id": "924850ba",
   "metadata": {
    "execution": {
     "iopub.execute_input": "2024-05-30T09:29:22.362857Z",
     "iopub.status.busy": "2024-05-30T09:29:22.362418Z",
     "iopub.status.idle": "2024-05-30T09:29:22.497278Z",
     "shell.execute_reply": "2024-05-30T09:29:22.496068Z"
    },
    "papermill": {
     "duration": 0.159019,
     "end_time": "2024-05-30T09:29:22.499381",
     "exception": false,
     "start_time": "2024-05-30T09:29:22.340362",
     "status": "completed"
    },
    "tags": []
   },
   "outputs": [
    {
     "name": "stdout",
     "output_type": "stream",
     "text": [
      "Time for testing: 0.1166 seconds\n",
      "Average time per response: 0.000041 seconds\n",
      "0.953210404586831\n",
      "(0.9492666846259229, 0.9511158342189161, 0.9481863457943894, None)\n"
     ]
    },
    {
     "name": "stderr",
     "output_type": "stream",
     "text": [
      "/opt/conda/lib/python3.10/site-packages/sklearn/metrics/_classification.py:1344: UndefinedMetricWarning: Precision and F-score are ill-defined and being set to 0.0 in labels with no predicted samples. Use `zero_division` parameter to control this behavior.\n",
      "  _warn_prf(average, modifier, msg_start, len(result))\n"
     ]
    }
   ],
   "source": [
    "# Прогнозирование на тестовом наборе\n",
    "predictions = []\n",
    "start_test = timeit.default_timer()\n",
    "with torch.no_grad():\n",
    "    for texts, labels in test_loader:\n",
    "        texts = texts.float().to(device)\n",
    "        outputs = model(texts)\n",
    "        _, predicted = torch.max(outputs.data, 1)\n",
    "        predictions.extend(predicted.cpu().numpy())\n",
    "end_test = timeit.default_timer()\n",
    "\n",
    "# Перевод меток обратно в исходные интенты\n",
    "predicted_intents = le.inverse_transform(predictions)\n",
    "\n",
    "# Общее количество предсказанных ответов\n",
    "num_predictions = len(predictions)\n",
    "\n",
    "# Среднее время на один ответ\n",
    "average_time_per_response = (end_test - start_test) / num_predictions\n",
    "\n",
    "print(f'Time for testing: {end_test - start_test:.4f} seconds')\n",
    "print(f'Average time per response: {average_time_per_response:.6f} seconds')\n",
    "\n",
    "print(balanced_accuracy_score(test_labels, predictions))\n",
    "print(precision_recall_fscore_support(test_labels, predictions, average='weighted'))"
   ]
  }
 ],
 "metadata": {
  "kaggle": {
   "accelerator": "gpu",
   "dataSources": [
    {
     "datasetId": 1549969,
     "sourceId": 2560015,
     "sourceType": "datasetVersion"
    }
   ],
   "dockerImageVersionId": 30698,
   "isGpuEnabled": true,
   "isInternetEnabled": true,
   "language": "python",
   "sourceType": "notebook"
  },
  "kernelspec": {
   "display_name": "Python 3",
   "language": "python",
   "name": "python3"
  },
  "language_info": {
   "codemirror_mode": {
    "name": "ipython",
    "version": 3
   },
   "file_extension": ".py",
   "mimetype": "text/x-python",
   "name": "python",
   "nbconvert_exporter": "python",
   "pygments_lexer": "ipython3",
   "version": "3.10.13"
  },
  "papermill": {
   "default_parameters": {},
   "duration": 31.147066,
   "end_time": "2024-05-30T09:29:25.112404",
   "environment_variables": {},
   "exception": null,
   "input_path": "__notebook__.ipynb",
   "output_path": "__notebook__.ipynb",
   "parameters": {},
   "start_time": "2024-05-30T09:28:53.965338",
   "version": "2.5.0"
  }
 },
 "nbformat": 4,
 "nbformat_minor": 5
}
